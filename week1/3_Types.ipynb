{
 "cells": [
  {
   "cell_type": "markdown",
   "metadata": {},
   "source": [
    "<img src=\"images/logo.png\" style=\"display: block; margin-left: auto; margin-right: auto;\" alt=\"לוגו של מיזם לימוד הפייתון. נחש מצויר בצבעי צהוב וכחול, הנע בין האותיות של שם הקורס: לומדים פייתון. הסלוגן המופיע מעל לשם הקורס הוא מיזם לימוד תכנות בחינם ובעברית.\">"
   ]
  },
  {
   "cell_type": "markdown",
   "metadata": {},
   "source": [
    "# <span style=\"align: right; direction: rtl; float: right;\">סוגי ערכים (טיפוסים, או types)</span>"
   ]
  },
  {
   "cell_type": "markdown",
   "metadata": {},
   "source": [
    "<p style=\"text-align: right; direction: rtl; float: right;\">לכל ערך שאנחנו כותבים בפייתון, יש <strong>סוג</strong>. עד כה למדנו על שלושה סוגים שקיימים בפייתון (איזה זריזים אנחנו!), שהם:</p>"
   ]
  },
  {
   "cell_type": "markdown",
   "metadata": {},
   "source": [
    "<ul style=\"text-align: right; direction: rtl; float: right;\">\n",
    "<li><abbr title=\"str\">מחרוזת</abbr></li>\n",
    "<li><abbr title=\"int\">מספר שלם</abbr></li>\n",
    "<li style=\"white-space: nowrap;\"><abbr title=\"float\" style=\"display: inline\">מספר עשרוני</abbr> (\"שבר\")</li>\n",
    "</ul>"
   ]
  },
  {
   "cell_type": "markdown",
   "metadata": {},
   "source": [
    "<p style=\"text-align: right; direction: rtl; float: right;\">בהנתן הסוגים שהוצגו למעלה, נסו לנחש מה סוג הנתונים בכל אחת מהשורות הבאות:</p>"
   ]
  },
  {
   "cell_type": "markdown",
   "metadata": {},
   "source": [
    "<ol style=\"font-size: 1.25em;  list-style-type: i\">\n",
    "<li><code>\"Hello World\"</code></li>\n",
    "<li><code>3</code></li>\n",
    "<li><code>9.5</code></li>\n",
    "<li><code>\"3\"</code></li>\n",
    "<li><code>'3'</code></li>\n",
    "<li><code>'9.5'</code></li>\n",
    "<li><code>'a'</code></li>\n",
    "</ol>"
   ]
  },
  {
   "cell_type": "markdown",
   "metadata": {},
   "source": [
    "<p style=\"text-align: right; direction: rtl; float: right;\">המינוח המקצועי ל\"<dfn>סוג</dfn>\" הוא \"<strong>טיפוס</strong>\", או באנגלית: <em>type</em>.</p>"
   ]
  },
  {
   "cell_type": "markdown",
   "metadata": {},
   "source": [
    "<p style=\"text-align: right; direction: rtl; float: right;\">\n",
    "טיפוסים דומים למצבי צבירה: כפי שניתן למצוא בטבע מים בצורות שונות (כנוזל – לשתייה, וכמוצק – קוביות קרח), כך בפייתון ניתן להשתמש בערך מסוים במספר צורות.<br>\n",
    " נניח, ב־9.5 ניתן להשתמש גם כמספר (<code>9.5</code>) וגם כמחרוזת (<code>'9.5'</code>). בעתיד נראה איך כל סוג מועיל לנו למטרות שונות.\n",
    "</p>"
   ]
  },
  {
   "cell_type": "markdown",
   "metadata": {},
   "source": [
    "## <span style=\"align: right; direction: rtl; float: right;\">type</span>"
   ]
  },
  {
   "cell_type": "markdown",
   "metadata": {},
   "source": [
    "<p style=\"text-align: right; direction: rtl; float: right; clear: both;\">\n",
    "    מכיוון שטיפוסים הם עניין כל־כך מרכזי בפייתון, קיימת צורה בה ניתן לבדוק מה הוא הטיפוס של ערך מסוים.<br>\n",
    "    לפני שנציג לכם איך לגלות את הסוג של כל ערך (למרות שחשוב שתדעו לעשות את זה בעצמכם), אנחנו רוצים להציג בפניכם איך פייתון מכנה כל סוג:\n",
    "</p>\n",
    "\n",
    "<div style=\"clear: both;\"></div>\n",
    "\n",
    "| שם בפייתון | שם באנגלית | שם בעברית |\n",
    "|:----------|:--------|------:|\n",
    "| str | **str**ing | מחרוזת |\n",
    "| int | **int**eger | מספר שלם |\n",
    "| float | float | מספר עשרוני |"
   ]
  },
  {
   "cell_type": "markdown",
   "metadata": {},
   "source": [
    "<span style=\"text-align: right; direction: rtl; float: right; clear: both;\">\n",
    "    כדי לראות את <em>הסוג</em> של ערך נתון, נשתמש ב־<code style=\"direction: ltr;\" dir=\"ltr\">type(VALUE)</code>, כאשר במקום <code>VALUE</code> יופיע הערך אותו נרצה לבדוק.\n",
    "</span>"
   ]
  },
  {
   "cell_type": "markdown",
   "metadata": {},
   "source": [
    "<div class=\"align-center\" style=\"display: flex; text-align: right; direction: rtl; clear: both;\">\n",
    "    <div style=\"display: flex; width: 10%; float: right; clear: both;\">\n",
    "        <img src=\"images/exercise.svg\" style=\"height: 50px !important;\" alt=\"תרגול\"> \n",
    "    </div>\n",
    "    <div style=\"width: 70%\">\n",
    "        <p style=\"text-align: right; direction: rtl; float: right; clear: both;\">\n",
    "            לפניכם מספר דוגמאות של שימוש ב־<code>type</code>.<br>\n",
    "            נחשו את התוצאה של כל אחת מהדוגמאות, ורק לאחר מכן הריצו ובדקו אם צדקתם.<br>\n",
    "            אם לא – לא נורא, חלק גדול מהדוגמאות מצריכות ניחושים מושכלים.\n",
    "        </p>\n",
    "    </div>\n",
    "</div>"
   ]
  },
  {
   "cell_type": "code",
   "execution_count": null,
   "metadata": {},
   "outputs": [],
   "source": [
    "type(1)"
   ]
  },
  {
   "cell_type": "code",
   "execution_count": null,
   "metadata": {},
   "outputs": [],
   "source": [
    "type(-1)"
   ]
  },
  {
   "cell_type": "code",
   "execution_count": null,
   "metadata": {},
   "outputs": [],
   "source": [
    "type(0)"
   ]
  },
  {
   "cell_type": "code",
   "execution_count": null,
   "metadata": {},
   "outputs": [],
   "source": [
    "type(1.9)"
   ]
  },
  {
   "cell_type": "code",
   "execution_count": null,
   "metadata": {},
   "outputs": [],
   "source": [
    "type(1.0)"
   ]
  },
  {
   "cell_type": "code",
   "execution_count": null,
   "metadata": {},
   "outputs": [],
   "source": [
    "type('a')"
   ]
  },
  {
   "cell_type": "code",
   "execution_count": null,
   "metadata": {},
   "outputs": [],
   "source": [
    "type('buya!')"
   ]
  },
  {
   "cell_type": "code",
   "execution_count": null,
   "metadata": {},
   "outputs": [],
   "source": [
    "type('9')"
   ]
  },
  {
   "cell_type": "markdown",
   "metadata": {},
   "source": [
    "## <span style=\"align: right; direction: rtl; float: right;\">תרגול</span>"
   ]
  },
  {
   "cell_type": "markdown",
   "metadata": {},
   "source": [
    "<p style=\"text-align: right; direction: rtl; float: right;\">\n",
    "בדקו מה הסוג של הערכים והביטויים הבאים:\n",
    "</p>"
   ]
  },
  {
   "cell_type": "markdown",
   "metadata": {},
   "source": [
    "<ol style=\"font-size: 1.25em;  list-style-type: i\">\n",
    "<li><code>'david'</code></li>\n",
    "<li><code>\"david\"</code></li>\n",
    "<li><code>-900.00</code></li>\n",
    "<li><code>\"-900.00\"</code></li>\n",
    "<li><code>3 ** 5</code></li>\n",
    "<li><code>5.0 ** 2</code></li>\n",
    "<li><code>5 / 2</code></li>\n",
    "<li><code>5 // 2</code></li>\n",
    "<li><code>'5.0 ** 2'</code></li>\n",
    "</ol>"
   ]
  },
  {
   "cell_type": "code",
   "execution_count": null,
   "metadata": {},
   "outputs": [],
   "source": []
  },
  {
   "cell_type": "markdown",
   "metadata": {},
   "source": [
    "## <p style=\"align: right; direction: rtl; float: right;\">שוני בין טיפוסים</p>"
   ]
  },
  {
   "cell_type": "markdown",
   "metadata": {},
   "source": [
    "<p style=\"text-align: right; direction: rtl; float: right;\">\n",
    "טיפוס הערכים ישפיע על איך הם יתנהגו בפועל. הריצו את שלושת קטעי הקוד הבאים, ונסו לעמוד על ההבדלים ביניהם:\n",
    "</p>"
   ]
  },
  {
   "cell_type": "code",
   "execution_count": null,
   "metadata": {},
   "outputs": [],
   "source": [
    "1 + 1"
   ]
  },
  {
   "cell_type": "code",
   "execution_count": null,
   "metadata": {},
   "outputs": [],
   "source": [
    "1.0 + 1.0"
   ]
  },
  {
   "cell_type": "code",
   "execution_count": null,
   "metadata": {},
   "outputs": [],
   "source": [
    "\"1\" + \"1\""
   ]
  },
  {
   "cell_type": "markdown",
   "metadata": {},
   "source": [
    "<div class=\"align-center\" style=\"display: flex; text-align: right; direction: rtl;\">\n",
    "    <div style=\"display: flex; width: 10%; float: right; \">\n",
    "        <img src=\"images/warning.png\" style=\"height: 50px !important;\" alt=\"אזהרה!\"> \n",
    "    </div>\n",
    "    <div style=\"width: 90%\">\n",
    "        <p style=\"text-align: right; direction: rtl;\">\n",
    "            פעולות בין שני סוגי ערכים שונים עלולות לא לעבוד.<br>\n",
    "            לדוגמה, כשננסה לחבר מספר שלם למספר עשרוני, נקבל מספר עשרוני. לעומת זאת, כשננסה לחבר מספר שלם למחרוזת, פייתון יתריע בפנינו על שגיאה.<br>\n",
    "            ניתן להמשיל את זה לקערת קוביות קרח: נוכל לספור כמה קוביות קרח יש שם אם נוסיף מספר קוביות, אבל יהיה קשה לנו לתאר את תוכן הקערה אם נשפוך לשם כוס מים.<br>\n",
    "        </p>\n",
    "    </div>\n",
    "</div>"
   ]
  },
  {
   "cell_type": "markdown",
   "metadata": {},
   "source": [
    "<p style=\"text-align: right; direction: rtl; float: right;\">\n",
    "דוגמה לערכים מסוגים שונים שפעולת החיבור ביניהם עובדת:\n",
    "</p>"
   ]
  },
  {
   "cell_type": "code",
   "execution_count": null,
   "metadata": {},
   "outputs": [],
   "source": [
    "1 + 1.5"
   ]
  },
  {
   "cell_type": "markdown",
   "metadata": {},
   "source": [
    "<p style=\"text-align: right; direction: rtl; float: right;\">\n",
    "דוגמה לערכים מסוגים שונים שפעולת החיבור ביניהם גורמת לפייתון להתריע על שגיאה:\n",
    "</p>"
   ]
  },
  {
   "cell_type": "code",
   "execution_count": null,
   "metadata": {},
   "outputs": [],
   "source": [
    "\"1\" + 2"
   ]
  }
 ],
 "metadata": {
  "kernelspec": {
   "display_name": "Python 3",
   "language": "python",
   "name": "python3"
  },
  "language_info": {
   "codemirror_mode": {
    "name": "ipython",
    "version": 3
   },
   "file_extension": ".py",
   "mimetype": "text/x-python",
   "name": "python",
   "nbconvert_exporter": "python",
   "pygments_lexer": "ipython3",
   "version": "3.7.4"
  }
 },
 "nbformat": 4,
 "nbformat_minor": 2
}
