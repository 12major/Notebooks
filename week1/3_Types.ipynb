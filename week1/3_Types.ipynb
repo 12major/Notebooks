{
 "cells": [
  {
   "cell_type": "markdown",
   "metadata": {},
   "source": [
    "<img src=\"images/logo.png\" alt=\"לוגו של מיזם לימוד הפייתון. נחש מצויר בצבעי צהוב וכחול, הנע בין האותיות של שם הקורס: לומדים פייתון. הסלוגן המופיע מעל לשם הקורס הוא מיזם לימוד תכנות בחינם ובעברית.\">"
   ]
  },
  {
   "cell_type": "markdown",
   "metadata": {
    "collapsed": true
   },
   "source": [
    "# <p style=\"align: right; direction: rtl; float: right;\">סוגי ערכים (טיפוסים, או types)</p>"
   ]
  },
  {
   "cell_type": "markdown",
   "metadata": {},
   "source": [
    "<p style=\"text-align: right; direction: rtl; float: right;\">לכל ערך שאנחנו כותבים בפייתון, יש **סוג**. עד כה למדנו על שלושה סוגים שקיימים בפייתון (איזה זריזים אנחנו!), שהם:</p>"
   ]
  },
  {
   "cell_type": "markdown",
   "metadata": {},
   "source": [
    "<ul style=\"text-align: right; direction: rtl; float: right;\">\n",
    "<li><abbr title=\"str\">מחרוזת</abbr></li>\n",
    "<li><abbr title=\"int\">מספר שלם</abbr></li>\n",
    "<li style=\"white-space: nowrap;\"><abbr title=\"float\" style=\"display: inline\">מספר עשרוני</abbr> (\"שבר\")</li>\n",
    "</ul>"
   ]
  },
  {
   "cell_type": "markdown",
   "metadata": {},
   "source": [
    "<p style=\"text-align: right; direction: rtl; float: right;\">בהנתן הסוגים שהוצגו למעלה, נסו לנחש מה סוג הנתונים בכל אחת מהשורות הבאות:</p>"
   ]
  },
  {
   "cell_type": "markdown",
   "metadata": {},
   "source": [
    "<ol style=\"font-size: 1.25em;  list-style-type: i\">\n",
    "<li>`\"Hello World\"`</li>\n",
    "<li>`3`</li>\n",
    "<li>`9.5`</li>\n",
    "<li>`\"3\"`</li>\n",
    "<li>`'3'`</li>\n",
    "<li>`'9.5'`</li>\n",
    "<li>`'a'`</li>\n",
    "</ol>"
   ]
  },
  {
   "cell_type": "markdown",
   "metadata": {},
   "source": [
    "<p style=\"text-align: right; direction: rtl; float: right;\">המינוח המקצועי ל\"<dfn>סוג</dfn>\" הוא \"*טיפוס*\", או באנגלית: *type*.</p>"
   ]
  },
  {
   "cell_type": "markdown",
   "metadata": {},
   "source": [
    "<p style=\"text-align: right; direction: rtl; float: right;\">\n",
    "טיפוסים מזכירים מעט מצבי צבירה: כפי שניתן למצוא בטבע מים בצורות שונות (כנוזל – לשתייה, וכמוצק – קוביות קרח),<br>\n",
    "כך בפייתון ניתן להשתמש בערך מסוים במספר צורות. נניח, ב־9.5 ניתן להשתמש גם כמספר (`9.5`) וגם כמחרוזת (`'9.5'`), בכל אחד מהם למטרות אחרות.\n",
    "</p>"
   ]
  },
  {
   "cell_type": "markdown",
   "metadata": {},
   "source": [
    "## <p style=\"align: right; direction: rtl; float: right;\">type</p>"
   ]
  },
  {
   "cell_type": "markdown",
   "metadata": {},
   "source": [
    "<p style=\"text-align: right; direction: rtl; float: right;\">מכיוון שטיפוסים הם עניין כל־כך מרכזי בפייתון, קיימת ממש צורה בה ניתן לבדוק מה הוא הטיפוס של *ערך* מסוים.<br>\n",
    "לפני שנציג לכם איך לגלות את הסוג של כל ערך (למרות שחשוב שתדעו לעשות את זה בעצמכם), אנחנו רוצים להציג בפניכם איך **פייתון** מכנה כל סוג:</p>\n",
    "\n",
    "<div style=\"clear: both;\"></div>\n",
    "\n",
    "| שם בפייתון | שם באנגלית | שם בעברית |\n",
    "|:----------|:--------|------:|\n",
    "| str | **str**ing | מחרוזת |\n",
    "| int | **int**eger | מספר שלם |\n",
    "| float | float | מספר עשרוני |"
   ]
  },
  {
   "cell_type": "markdown",
   "metadata": {},
   "source": [
    "<p style=\"text-align: right; direction: rtl; float: right;\">\n",
    "כדי לראות את *הסוג* של ערך נתון, נשתמש ב־<bdo dir=\"ltr\">`type(VALUE)`</bdo>, כאשר במקום `VALUE` יופיע הערך אותו נרצה לבדוק.\n",
    "<br>לפניכם מספר דוגמאות. נסו, לפני שאתם מריצים, לנחש את התוצאה של כל אחת מהדוגמאות.\n",
    "<br>אם לא צדקתם – לא נורא, חלק גדול פה זה הימורים מושכלים :)</p>"
   ]
  },
  {
   "cell_type": "code",
   "execution_count": null,
   "metadata": {},
   "outputs": [],
   "source": [
    "type(1)"
   ]
  },
  {
   "cell_type": "code",
   "execution_count": null,
   "metadata": {},
   "outputs": [],
   "source": [
    "type(-1)"
   ]
  },
  {
   "cell_type": "code",
   "execution_count": null,
   "metadata": {},
   "outputs": [],
   "source": [
    "type(0)"
   ]
  },
  {
   "cell_type": "code",
   "execution_count": null,
   "metadata": {},
   "outputs": [],
   "source": [
    "type(1.9)"
   ]
  },
  {
   "cell_type": "code",
   "execution_count": null,
   "metadata": {},
   "outputs": [],
   "source": [
    "type(1.0)"
   ]
  },
  {
   "cell_type": "code",
   "execution_count": null,
   "metadata": {},
   "outputs": [],
   "source": [
    "type('a')"
   ]
  },
  {
   "cell_type": "code",
   "execution_count": null,
   "metadata": {},
   "outputs": [],
   "source": [
    "type('buya!')"
   ]
  },
  {
   "cell_type": "code",
   "execution_count": null,
   "metadata": {},
   "outputs": [],
   "source": [
    "type('9')"
   ]
  },
  {
   "cell_type": "markdown",
   "metadata": {},
   "source": [
    "## <p style=\"align: right; direction: rtl; float: right;\">תרגול</p>"
   ]
  },
  {
   "cell_type": "markdown",
   "metadata": {},
   "source": [
    "<p style=\"text-align: right; direction: rtl; float: right;\">\n",
    "בדקו מה הסוג של הערכים והביטויים הבאים:\n",
    "</p>"
   ]
  },
  {
   "cell_type": "markdown",
   "metadata": {},
   "source": [
    "<ol style=\"font-size: 1.25em;  list-style-type: i\">\n",
    "<li>`'david'`</li>\n",
    "<li>`\"david\"`</li>\n",
    "<li>`-900.00`</li>\n",
    "<li>`\"-900.00\"`</li>\n",
    "<li>`3**5`</li>\n",
    "<li>`5.0**2`</li>\n",
    "<li>`5/2`</li>\n",
    "<li>`5//2`</li>\n",
    "<li>`'5.0**2'`</li>\n",
    "</ol>"
   ]
  },
  {
   "cell_type": "code",
   "execution_count": null,
   "metadata": {
    "collapsed": true
   },
   "outputs": [],
   "source": []
  },
  {
   "cell_type": "markdown",
   "metadata": {},
   "source": [
    "## <p style=\"align: right; direction: rtl; float: right;\">שוני בין טיפוסים</p>"
   ]
  },
  {
   "cell_type": "markdown",
   "metadata": {},
   "source": [
    "<p style=\"text-align: right; direction: rtl; float: right;\">\n",
    "טיפוס הערכים ישפיע על איך הם יתנהגו בפועל. הריצו את שלושת קטעי הקוד הבאים, ונסו לעמוד על ההבדלים ביניהם:\n",
    "</p>"
   ]
  },
  {
   "cell_type": "code",
   "execution_count": null,
   "metadata": {},
   "outputs": [],
   "source": [
    "1 + 1"
   ]
  },
  {
   "cell_type": "code",
   "execution_count": null,
   "metadata": {},
   "outputs": [],
   "source": [
    "1.0 + 1.0"
   ]
  },
  {
   "cell_type": "code",
   "execution_count": null,
   "metadata": {},
   "outputs": [],
   "source": [
    "\"1\" + \"1\""
   ]
  },
  {
   "cell_type": "markdown",
   "metadata": {},
   "source": [
    "<div class=\"align-center\" style=\"display: flex; text-align: right; direction: rtl;\">\n",
    "    <div style=\"display: flex; width: 10%; float: right; \">\n",
    "        <img src=\"images/warning.png\" style=\"height: 50px !important;\" alt=\"אזהרה!\"> \n",
    "    </div>\n",
    "    <div style=\"width: 90%\">\n",
    "        <p style=\"text-align: right; direction: rtl;\">\n",
    "            פעולות בין שני סוגי ערכים שונים עלולות לא לעבוד.<br>\n",
    "            לדוגמה, כשננסה לחבר מספר שלם למספר עשרוני, נקבל מספר עשרוני. לעומת זאת, כשננסה לחבר מספר שלם למחרוזת, פייתון יתריע בפנינו על שגיאה.<br>\n",
    "            ניתן להמשיל את זה לקערת קוביות קרח: נוכל לספור כמה קוביות קרח יש שם אם נוסיף מספר קוביות, אבל יהיה קשה לנו לתאר את תוכן הקערה אם נשפוך לשם כוס מים.<br>\n",
    "        </p>\n",
    "    </div>\n",
    "</div>"
   ]
  },
  {
   "cell_type": "markdown",
   "metadata": {},
   "source": [
    "<p style=\"text-align: right; direction: rtl; float: right;\">\n",
    "דוגמה לערכים מסוגים שונים שפעולת החיבור ביניהם עובדת:\n",
    "</p>"
   ]
  },
  {
   "cell_type": "code",
   "execution_count": null,
   "metadata": {},
   "outputs": [],
   "source": [
    "1 + 1.5"
   ]
  },
  {
   "cell_type": "markdown",
   "metadata": {},
   "source": [
    "<p style=\"text-align: right; direction: rtl; float: right;\">\n",
    "דוגמה לערכים מסוגים שונים שפעולת החיבור ביניהם גורמת לפייתון להתריע על שגיאה:\n",
    "</p>"
   ]
  },
  {
   "cell_type": "code",
   "execution_count": null,
   "metadata": {},
   "outputs": [],
   "source": [
    "\"1\" + 2"
   ]
  }
 ],
 "metadata": {
  "kernelspec": {
   "display_name": "Python [conda root]",
   "language": "python",
   "name": "conda-root-py"
  },
  "language_info": {
   "codemirror_mode": {
    "name": "ipython",
    "version": 3
   },
   "file_extension": ".py",
   "mimetype": "text/x-python",
   "name": "python",
   "nbconvert_exporter": "python",
   "pygments_lexer": "ipython3",
   "version": "3.5.3"
  }
 },
 "nbformat": 4,
 "nbformat_minor": 2
}
