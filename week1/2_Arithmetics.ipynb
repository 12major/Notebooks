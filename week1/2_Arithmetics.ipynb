{
 "cells": [
  {
   "cell_type": "markdown",
   "metadata": {},
   "source": [
    "<img src=\"images/logo.png\" alt=\"לוגו של מיזם לימוד הפייתון. נחש מצויר בצבעי צהוב וכחול, הנע בין האותיות של שם הקורס: לומדים פייתון. הסלוגן המופיע מעל לשם הקורס הוא מיזם לימוד תכנות בחינם ובעברית.\">"
   ]
  },
  {
   "cell_type": "markdown",
   "metadata": {},
   "source": [
    "## <p style=\"align: right; direction: rtl; float: right;\">הערות</p>"
   ]
  },
  {
   "cell_type": "markdown",
   "metadata": {},
   "source": [
    "<p style=\"text-align: right; direction: rtl; float: right;\">\n",
    "לפעמים יעלה הצורך להסביר דברים בתוך הקוד עצמו.<br>\n",
    "כדי לעשות את זה, נשתמש בסולמית, ואז נרשום את ההערות שיש לנו. כשיצרו את פייתון דאגו שהוא יתעלם מכל דבר שכתוב אחרי סולמית. לדוגמה:\n",
    "</p>"
   ]
  },
  {
   "cell_type": "code",
   "execution_count": null,
   "metadata": {
    "collapsed": true
   },
   "outputs": [],
   "source": [
    "# This will print \"Hello World\"\n",
    "print(\"Hello World\")"
   ]
  },
  {
   "cell_type": "markdown",
   "metadata": {},
   "source": [
    "<p style=\"text-align: right; direction: rtl; float: right;\">או אפילו באותה שורה:</p>"
   ]
  },
  {
   "cell_type": "code",
   "execution_count": null,
   "metadata": {
    "collapsed": true
   },
   "outputs": [],
   "source": [
    "print(\"Hello World\")  # This will print \"Hello World\""
   ]
  },
  {
   "cell_type": "markdown",
   "metadata": {},
   "source": [
    "<p style=\"text-align: right; direction: rtl; float: right;\">הערות נועדו כדי להסביר את הקוד שאתם כותבים למתכנתים אחרים שיקראו אותו בעתיד. בינתיים, אנחנו נשתמש בהערות כדי להבהיר ולהדגיש דוגמאות במחברת הקורס.<br>\n",
    "    נהוג לכתוב הערות באנגלית, אבל רק לצורך הקורס שלנו, שמתקיים בעברית, אנחנו נכופף קצת את החוקים.</p>"
   ]
  },
  {
   "cell_type": "markdown",
   "metadata": {},
   "source": [
    "# <p style=\"align: right; direction: rtl; float: right;\">אריתמטיקה</p>"
   ]
  },
  {
   "cell_type": "markdown",
   "metadata": {},
   "source": [
    "<p style=\"text-align: right; direction: rtl; float: right;\">לא לפחד מהמונח המזעזע, מדובר פשוט בפעולות חשבון בסיסיות. בואו נראה מה פייתון יודע לעשות.<br>חשבו מה הולכת להיות התוצאה בכל אחד מהתאים הבאים. לאחר שכתבתם בצד את מה שחשבתם עליו, הריצו את התאים ובדקו אם צדקתם.</p>"
   ]
  },
  {
   "cell_type": "code",
   "execution_count": null,
   "metadata": {
    "collapsed": true
   },
   "outputs": [],
   "source": [
    "print(5 + 1)"
   ]
  },
  {
   "cell_type": "code",
   "execution_count": null,
   "metadata": {
    "collapsed": true
   },
   "outputs": [],
   "source": [
    "print(5 - 1)"
   ]
  },
  {
   "cell_type": "code",
   "execution_count": null,
   "metadata": {
    "collapsed": true
   },
   "outputs": [],
   "source": [
    "print(1 - 5)  # פייתון מכיר בשליליים"
   ]
  },
  {
   "cell_type": "code",
   "execution_count": null,
   "metadata": {
    "collapsed": true
   },
   "outputs": [],
   "source": [
    "print(5 - 1 / 2)  # סדר פעולות חשבון?"
   ]
  },
  {
   "cell_type": "code",
   "execution_count": null,
   "metadata": {
    "collapsed": true
   },
   "outputs": [],
   "source": [
    "print(5.5 - 1.3)"
   ]
  },
  {
   "cell_type": "code",
   "execution_count": null,
   "metadata": {
    "collapsed": true
   },
   "outputs": [],
   "source": [
    "print(1.2 + 3)"
   ]
  },
  {
   "cell_type": "code",
   "execution_count": null,
   "metadata": {
    "collapsed": true
   },
   "outputs": [],
   "source": [
    "print(2 * 5)"
   ]
  },
  {
   "cell_type": "code",
   "execution_count": null,
   "metadata": {
    "collapsed": true
   },
   "outputs": [],
   "source": [
    "print(5 * 2)"
   ]
  },
  {
   "cell_type": "code",
   "execution_count": null,
   "metadata": {
    "collapsed": true
   },
   "outputs": [],
   "source": [
    "print(5 - 2)"
   ]
  },
  {
   "cell_type": "code",
   "execution_count": null,
   "metadata": {
    "collapsed": true
   },
   "outputs": [],
   "source": [
    "print(3 ** 2)  # כדאי לזכור שכפול פעמיים מסמל חזקה"
   ]
  },
  {
   "cell_type": "code",
   "execution_count": null,
   "metadata": {
    "collapsed": true
   },
   "outputs": [],
   "source": [
    "print(2 ** 3)"
   ]
  },
  {
   "cell_type": "code",
   "execution_count": null,
   "metadata": {
    "collapsed": true
   },
   "outputs": [],
   "source": [
    "print(5 // 2)  # חילוק שלמים (נסו לנחש, מוסבר בהרחבה למטה)"
   ]
  },
  {
   "cell_type": "code",
   "execution_count": null,
   "metadata": {
    "collapsed": true
   },
   "outputs": [],
   "source": [
    "print(5 % 2)  # השארית מחלוקת השלמים"
   ]
  },
  {
   "cell_type": "code",
   "execution_count": null,
   "metadata": {
    "collapsed": true
   },
   "outputs": [],
   "source": [
    "print(5 * (6 / (2 * 5)))  # אפשר גם סוגריים, אם צריך"
   ]
  },
  {
   "cell_type": "markdown",
   "metadata": {},
   "source": [
    "## <p style=\"align: right; direction: rtl; float: right;\">חלוקת שלמים ושארית</p>"
   ]
  },
  {
   "cell_type": "markdown",
   "metadata": {},
   "source": [
    "### <div style=\"text-align: right; direction: rtl; float: right;\">חלוקת שלמים</div>\n",
    "<p style=\"text-align: right; direction: rtl; float: right;\"><dfn>חלוקת שלמים</dfn> היא פעולה שתוצאתה תמיד מספר שלם, בניגוד לפעולת החילוק שאנחנו רגילים אליה (<code>/</code>).</p>\n",
    "\n",
    "<p style=\"text-align: right; direction: rtl; float: right;\">כאשר אנחנו עושים חלוקת שלמים מהצורה <code>A // B</code>, אנחנו למעשה מתכוונים לשאול:</p>\n",
    "\n",
    "<blockquote style=\"text-align: left; direction: ltr; float: right; border-left: 0; border-right: 5px solid #eeeeee;\"><p style=\"text-align: right; direction: rtl; float: left;\">אם יש לי A משולשי פיצה, וחילקתי את כל משלושי הפיצה באופן שווה ל־B ילדים (תזהרו מלחתוך לי את המשולשים!), כמה משולשי פיצה יהיו לכל ילד?</p></blockquote>\n",
    "\n",
    "<p style=\"text-align: right; direction: rtl; float: right;\">ניקח דוגמה: אם אנחנו רואים את הביטוי <code>4 // 9</code>, נדע שיש לנו 9 משולשי פיצה ו־4 ילדים.<br>אם נחלק את משולשי הפיצה בין הילדים, נגלה שכל ילד קיבל 2 משולשים, ומשולש פיצה אחד, שלא ניתן לחלק, ישאר בחוץ.</p>"
   ]
  },
  {
   "cell_type": "code",
   "execution_count": null,
   "metadata": {
    "collapsed": true
   },
   "outputs": [],
   "source": [
    "print(9 // 4)"
   ]
  },
  {
   "cell_type": "markdown",
   "metadata": {},
   "source": [
    "### <div style=\"text-align: right; direction: rtl; float: right;\">שארית</div>\n",
    "<p style=\"text-align: right; direction: rtl; float: right;\">למשולשי הפיצה שלא הצלחנו לחלק לילדים אנחנו קוראים <dfn>שארית</dfn>, וזה מה שיוצא לנו כשאנחנו כותבים את הסימן <code>%</code> במקום <code>//</code>.<br>לדוגמה, אם היינו כותבים <code>4 % 9</code>, היינו מקבלים <code>1</code>, הרי הוא משולש הפיצה שנשאר מהשורה למעלה.</p>"
   ]
  },
  {
   "cell_type": "code",
   "execution_count": null,
   "metadata": {
    "collapsed": true
   },
   "outputs": [],
   "source": [
    "print(9 % 4)"
   ]
  },
  {
   "cell_type": "markdown",
   "metadata": {},
   "source": [
    "<div class=\"align-center\" style=\"display: flex; text-align: right; direction: rtl;\">\n",
    "    <div style=\"display: flex; width: 10%; float: right; \">\n",
    "        <img src=\"images/tip.png\" style=\"height: 50px !important;\" alt=\"טיפ!\"> \n",
    "    </div>\n",
    "    <div style=\"width: 90%;\">\n",
    "            עבור מספרים חיוביים, תוכלו להמיר את החלוקה ה\"רגילה\" מהצורה\n",
    "            <div style=\"display: inline-flex; direction: ltr;\">$\\normalsize{\\frac{9}{4}}$</div>\n",
    "            לשבר מעורב מהצורה\n",
    "            <div style=\"display: inline-flex; direction: ltr;\">$\\normalsize{2\\frac{1}{4}}$</div>.\n",
    "        <br>\n",
    "            המספר השלם שיצא\n",
    "            <div style=\"display: inline-flex; direction: ltr;\">($\\normalsize{2}$)</div>\n",
    "            הוא תוצאת חילוק השלמים, בעוד שהמספר במונה \n",
    "            <div style=\"display: inline-flex; direction: ltr;\">($\\normalsize{1}$)</div>\n",
    "            הוא השארית.\n",
    "    </div>\n",
    "</div>"
   ]
  },
  {
   "cell_type": "markdown",
   "metadata": {},
   "source": [
    "## <p style=\"align: right; direction: rtl; float: right;\">תרגול: תה אמריקה</p>"
   ]
  },
  {
   "cell_type": "markdown",
   "metadata": {},
   "source": [
    "<p style=\"text-align: right; direction: rtl; float: right;\">\n",
    "חובבי תה רציניים ידעו להגיד לכם, שחליטת התה שלכם צריכה להעשות בטמפרטורה מאוד מסוימת, שתלויה בסוג התה שקניתם.<br>\n",
    "כפלצן תה גדול, אני מזמין לעתים קרובות תה ממחוזות מוזרים בהם מציגים את הטמפרטורה בה צריך לחלוט את התה בפרנהייט במקום בצלזיוס.<br>\n",
    "לאחרונה קיבלתי תה יסמין שהיה צריך לחלוט ב־176 מעלות פרנהייט.<br>\n",
    "הדלקתי קומקום, והתחלתי למדוד את הטמפרטורה של המים. עזרו לי, והדפיסו לכמה מעלות <em>צלזיוס</em> אני צריך לחכות שהמים יגיעו.\n",
    "</p>\n",
    "\n",
    "<p style=\"text-align: right; direction: rtl; float: right;\">\n",
    "הנוסחה להמרה מפרנהייט לצלזיוס היא <code>(5 חלקי 9) כפול (מעלות בפרנהייט פחות 32)</code>.<br>\n",
    "או, אם אתם מעדיפים כתיב מתמטי: <span style=\"display: inline-flex; direction: ltr;\">$\\normalsize{C = \\frac{5}{9}\\times(F - 32)}$</span><br>\n",
    "לדוגמה, אם הייתי צריך לחלוט את התה שלי ב־212 מעלות צלזיוס, הייתי מצפה שתציגו לי <samp>100</samp>, מכיוון ש: <span style=\"display: inline-flex; direction: ltr;\">$\\normalsize{C = \\frac{5}{9}\\times(212 - 32)} = 100$</span>\n",
    "</p>"
   ]
  },
  {
   "cell_type": "code",
   "execution_count": 1,
   "metadata": {},
   "outputs": [],
   "source": [
    "# הקלידו את הקוד שלכם כאן!"
   ]
  }
 ],
 "metadata": {
  "kernelspec": {
   "display_name": "Python 3",
   "language": "python",
   "name": "python3"
  },
  "language_info": {
   "codemirror_mode": {
    "name": "ipython",
    "version": 3
   },
   "file_extension": ".py",
   "mimetype": "text/x-python",
   "name": "python",
   "nbconvert_exporter": "python",
   "pygments_lexer": "ipython3",
   "version": "3.6.8"
  }
 },
 "nbformat": 4,
 "nbformat_minor": 2
}
