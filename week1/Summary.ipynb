{
 "cells": [
  {
   "cell_type": "markdown",
   "metadata": {},
   "source": [
    "<img src=\"images/logo.png\" alt=\"לוגו של מיזם לימוד הפייתון. נחש מצויר בצבעי צהוב וכחול, הנע בין האותיות של שם הקורס: לומדים פייתון. הסלוגן המופיע מעל לשם הקורס הוא מיזם לימוד תכנות בחינם ובעברית.\">"
   ]
  },
  {
   "cell_type": "markdown",
   "metadata": {},
   "source": [
    "<p style=\"text-align: right; direction: rtl; float: right;\"> בתרגיל זה מופיעים תרגילים מכל החומר של השבוע הראשון.</p>"
   ]
  },
  {
   "cell_type": "markdown",
   "metadata": {},
   "source": [
    "<p style=\"text-align: right; direction: rtl; float: right;\">נגדיר את המונח \"שלשה פיתגורית\":<br>\n",
    "\"שלשה פיתגורית\" היא שלשה של מספרים המהווים יחד את צלעותיו של משולש ישר זווית. הצלעות במשולש ישר זווית מקיימות את הקשר: $a^2+b^2=c^2$ עבור ניצבים a,b ויתר c. הניצבים הם הצלעות שביניהן הזווית היא זווית ישרה.\n",
    "<a href=\"https://he.wikipedia.org/wiki/%D7%A9%D7%9C%D7%A9%D7%94_%D7%A4%D7%99%D7%AA%D7%92%D7%95%D7%A8%D7%99%D7%AA\">(עוד על שלשה פיתגורית)</a>\n",
    "\n",
    "</p>"
   ]
  },
  {
   "cell_type": "markdown",
   "metadata": {},
   "source": [
    "<img src=\"images/triangle.jpg\">"
   ]
  },
  {
   "cell_type": "markdown",
   "metadata": {},
   "source": [
    "<p style=\"text-align: right; direction: rtl; float:right\">כתבו מספר שורות קוד פייתון המקבלות 3 מספרים מהמשתמש, ע\"י הפקודה input ובודקת האם הם שלשה פיתגורית. כלומר האם מתקיים היחס $a^2+b^2=c^2$<br>זכרו, השוואה נעשית עם אופרטור <code>==</code>.<br> אם יוכנסו שלושה מספרים המקיימים את היחס, לאחר ההרצה נקבל <samp>True</samp>, אחרת <samp>False</samp>. כפי שהיה מתקבל אם היינו מבצעים <code>4==5</code> או <code>4==4</code></p>"
   ]
  },
  {
   "cell_type": "code",
   "execution_count": null,
   "metadata": {},
   "outputs": [],
   "source": []
  },
  {
   "cell_type": "markdown",
   "metadata": {},
   "source": [
    "<p style=\"text-align:right; direction:rtl; float: right;\"> התבוננו בשורות הקוד הבאות. חשבו מה התוצאה הצפויה והריצו כדי לוודא:</p>"
   ]
  },
  {
   "cell_type": "code",
   "execution_count": null,
   "metadata": {},
   "outputs": [],
   "source": [
    "print(type('5') == type(5))"
   ]
  },
  {
   "cell_type": "code",
   "execution_count": null,
   "metadata": {},
   "outputs": [],
   "source": [
    "print(type(50) == type(55))"
   ]
  },
  {
   "cell_type": "code",
   "execution_count": null,
   "metadata": {},
   "outputs": [],
   "source": [
    "print(type(5.0) == type(5))"
   ]
  },
  {
   "cell_type": "code",
   "execution_count": null,
   "metadata": {},
   "outputs": [],
   "source": [
    "print(type(True) != type(False))"
   ]
  },
  {
   "cell_type": "code",
   "execution_count": null,
   "metadata": {},
   "outputs": [],
   "source": [
    "print(type(True) == type('True'))"
   ]
  },
  {
   "cell_type": "markdown",
   "metadata": {},
   "source": [
    "<p style=\"text-align: right; direction:rtl; float:rightl \"> מה עושים קטעי הקוד הבאים? ענו לעצמכם והריצו כדי לוודא. שימו לב לסוגריים המגדירות את סדר הפעולות.</p>"
   ]
  },
  {
   "cell_type": "code",
   "execution_count": null,
   "metadata": {},
   "outputs": [],
   "source": [
    "name = input(\"Enter your name: \")\n",
    "age = input(\"How old are you? \")\n",
    "print(name == 'David' and int(age) <20)"
   ]
  },
  {
   "cell_type": "markdown",
   "metadata": {},
   "source": [
    "<p style=\"text-align:right;direction:rtl;float=right;\"> חשבו מדוע היינו צריכים לבצע המרה ל-<code>int</code> בשורה השלישית? מה היה קורה אם לא היינו עושים את זה?</p>"
   ]
  },
  {
   "cell_type": "code",
   "execution_count": null,
   "metadata": {},
   "outputs": [],
   "source": [
    "name = input(\"Enter your name: \")\n",
    "age = input(\"How old are you? \")\n",
    "print((name == 'David' or name == 'Dana') and int(age) <20)"
   ]
  },
  {
   "cell_type": "code",
   "execution_count": null,
   "metadata": {},
   "outputs": [],
   "source": [
    "name = input(\"Enter your name: \")\n",
    "age = input(\"How old are you? \")\n",
    "print((name == 'David' or name == 'Dana') and (int(age) <20) and int(age) >= 18)"
   ]
  },
  {
   "cell_type": "markdown",
   "metadata": {},
   "source": [
    "<p style=\"text-align:right;direction:rtl;float=right;\"> כתבו קוד המקבל מספר מהמשתמש ומדפיס <samp>True</samp> עבור מספר המתחלק ב-7 עם שארית 2 ו-<samp>False</samp> אחרת. לדוגמא עבור המספר 9 יתקבל <samp>True</samp> ועבור 7 יתקבל <samp>False</samp></p>"
   ]
  },
  {
   "cell_type": "code",
   "execution_count": null,
   "metadata": {},
   "outputs": [],
   "source": []
  },
  {
   "cell_type": "markdown",
   "metadata": {},
   "source": [
    "<p style=\"text-align:right;direction:rtl;float=right;\">כתבו קוד המקבל מהמשתמש שני שמות ומדפיס <samp>True</samp> אם שני השמות הם נועה ודור. לדוגמא עבור נועה ועומר יודפס <samp>False</samp>. עבור דור וסיגל יודפס <samp>False</samp>. עבור נועה (שם ראשון) ודור (שם שני) יודפס <samp>True</samp> ועבור דור (שם ראשון) ונועה (שם שני) יודפס <samp>True</samp>. </p>"
   ]
  },
  {
   "cell_type": "code",
   "execution_count": null,
   "metadata": {},
   "outputs": [],
   "source": []
  },
  {
   "cell_type": "markdown",
   "metadata": {},
   "source": [
    "<p style=\"text-align:right;direction:rtl;\">כתבו קוד המקבל שני שמות ומדפיס <samp>True</samp> אם אחד השמות הוא דור. לדוגמא עבור \"דור, יניב\" יודפס <samp>True</samp> ועבור \"תמיר איל\" יודפס <samp>False</samp>.</p>"
   ]
  },
  {
   "cell_type": "code",
   "execution_count": null,
   "metadata": {},
   "outputs": [],
   "source": []
  },
  {
   "cell_type": "markdown",
   "metadata": {},
   "source": [
    "<p style=\"text-align:right;direction:rtl;float=right;\"> כתבו קוד המקבל שם, מין וגיל של אורח במסעדה ומחזיר <samp>True</samp> אם מתקיים אחד משלושת התנאים הבאים:<br>א. גיל האורח הוא 30 ומעלה<br>ב. האורח הוא גבר בשם רונן<br>ג.האורחת היא אישה בשם נטלי</p>"
   ]
  },
  {
   "cell_type": "markdown",
   "metadata": {},
   "source": [
    "<p style=\"text-align=: right; direction: rtl;float:right;\">רמז:\n",
    "    (<span style=\"direction: rtl; background: #000; text: #000\">השתמשו בתבנית הבאה: (תנאי ראשון) or (תנאי שני) or (תנאי שלישי)</span>)\n",
    "</p>"
   ]
  },
  {
   "cell_type": "code",
   "execution_count": null,
   "metadata": {},
   "outputs": [],
   "source": []
  },
  {
   "cell_type": "markdown",
   "metadata": {},
   "source": [
    "<p style=\"text-align=: right; direction: rtl;float:right;\">הדפיסו מחרוזת ובה 500 פעמים האות <code>\"x\"</code>. אם נתקלתם בקושי, חזרו על השיעור המתאים. הכוונה היא לא הקשה על האות <code>\"x\"</code> מספר כזה של פעמים. \n",
    "</p>"
   ]
  },
  {
   "cell_type": "code",
   "execution_count": null,
   "metadata": {},
   "outputs": [],
   "source": []
  },
  {
   "cell_type": "markdown",
   "metadata": {},
   "source": [
    "<p style=\"text-align=: right; direction: rtl;float:right;\">הציבו לתוך משתנה בשם <code>x</code> את הערך 8 בתא הבא והריצו (shift+enter)</p>"
   ]
  },
  {
   "cell_type": "code",
   "execution_count": null,
   "metadata": {},
   "outputs": [],
   "source": []
  },
  {
   "cell_type": "markdown",
   "metadata": {},
   "source": [
    "<p style=\"text-align:right; direction:rtl; float:right;\"> מה עושה הפקודה הבאה?</p>"
   ]
  },
  {
   "cell_type": "code",
   "execution_count": null,
   "metadata": {},
   "outputs": [],
   "source": [
    "print('x' * x)"
   ]
  },
  {
   "cell_type": "markdown",
   "metadata": {},
   "source": [
    "<p style=\"text-align:right;direction:rtl;float:right;\">כתבו קוד המקבל מחרוזת ומספר, ומדפיס מחרוזת המהווה עותקים מחוברים של המחרוזת שהתקבלה, כמספר הפעמים שהתקבל. לדוגמא עבור המחרוזת <code>\"xy\"</code> והמספר 3, יודפס <code>\"xyxyxy\"</code>.<br>אם אינכם זוכרים כיצד לקבל מהמשתמש מחרוזת ומספר ולהציבם לתוך משתנה, הסתכלו בדוגמאות קודמות במחברת זו.</p>"
   ]
  },
  {
   "cell_type": "code",
   "execution_count": null,
   "metadata": {},
   "outputs": [],
   "source": []
  }
 ],
 "metadata": {
  "kernelspec": {
   "display_name": "Python 3",
   "language": "python",
   "name": "python3"
  },
  "language_info": {
   "codemirror_mode": {
    "name": "ipython",
    "version": 3
   },
   "file_extension": ".py",
   "mimetype": "text/x-python",
   "name": "python",
   "nbconvert_exporter": "python",
   "pygments_lexer": "ipython3",
   "version": "3.7.1"
  }
 },
 "nbformat": 4,
 "nbformat_minor": 2
}
