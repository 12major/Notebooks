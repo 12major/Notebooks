{
 "cells": [
  {
   "cell_type": "markdown",
   "metadata": {},
   "source": [
    "<img src=\"images/logo.png\" alt=\"לוגו של מיזם לימוד הפייתון. נחש מצויר בצבעי צהוב וכחול, הנע בין האותיות של שם הקורס: לומדים פייתון. הסלוגן המופיע מעל לשם הקורס הוא מיזם לימוד תכנות בחינם ובעברית.\">"
   ]
  },
  {
   "cell_type": "markdown",
   "metadata": {},
   "source": [
    "# <p style=\"text-align: right; direction: rtl; float: right;\">תרגול מסכם – שבוע 1</p>"
   ]
  },
  {
   "cell_type": "markdown",
   "metadata": {},
   "source": [
    "## <span style=\"text-align: right; direction: rtl; float: right;\">הקדמה</span>"
   ]
  },
  {
   "cell_type": "markdown",
   "metadata": {},
   "source": [
    "<p style=\"text-align: right; direction: rtl; float: right;\">\n",
    "<dfn>שלשה פיתגורית</dfn> היא שלושה מספרים, <var>a</var>, <var>b</var> ו־<var>c</var>, שמקיימים את ההגדרה $a^2 + b^2 = c^2$.<br>\n",
    "אם ננסה להסתכל על המספרים <var>a</var>, <var>b</var> ו־<var>c</var> כעל צלעות משולש, נוכל להתייחס עליהן כך (ראו איור):<br>\n",
    "</p> "
   ]
  },
  {
   "cell_type": "markdown",
   "metadata": {},
   "source": [
    "<ol style=\"text-align: right; direction: rtl; float: right;\">\n",
    "<li>הצלעות <var>a</var> ו־<var>b</var>, הן הניצבים של המשולש – הצלעות שליד הזווית הישרה.\n",
    "<li>צלע <var>c</var> היא היתר – הצלע שמול הזווית הישרה.</li>\n",
    "</ol>\n",
    "\n",
    "<p style=\"text-align: right; direction: rtl; float: right;\">\n",
    "שלשה כזו מקיימת: $a^2+b^2=c^2$,<br>\n",
    "או, בניסוח חופשי: כשלוקחים את <var>a</var> ומעלים אותו בריבוע, ואז את <var>b</var> ומעלים אותו בריבוע, הסכום של שניהם יהיה <var>c</var> בריבוע.<br>\n",
    "</p>"
   ]
  },
  {
   "cell_type": "markdown",
   "metadata": {},
   "source": [
    "<p style=\"text-align: right; direction: rtl; float: right;\">מידע נוסף להעשרה:</p>"
   ]
  },
  {
   "cell_type": "markdown",
   "metadata": {},
   "source": [
    "<ol style=\"text-align: right; direction: rtl; float: right;\">\n",
    "<li><a href=\"https://he.wikipedia.org/wiki/%D7%A9%D7%9C%D7%A9%D7%94_%D7%A4%D7%99%D7%AA%D7%92%D7%95%D7%A8%D7%99%D7%AA\">הערך בוויקיפדיה</a></li>\n",
    "<li><a href=\"https://www.quora.com/What-is-your-favorite-proof-of-the-Pythagorean-Theorem\">הוכחות יפות למשפט פיתגורס</a></li>\n",
    "</ol>"
   ]
  },
  {
   "cell_type": "markdown",
   "metadata": {},
   "source": [
    "<img src=\"images/triangle.jpg\">"
   ]
  },
  {
   "cell_type": "markdown",
   "metadata": {},
   "source": [
    "## <span style=\"text-align: right; direction: rtl; float: right;\">השילוש הקדוש</span>"
   ]
  },
  {
   "cell_type": "markdown",
   "metadata": {},
   "source": [
    "<p style=\"text-align: right; direction: rtl; float:right; clear: both;\">\n",
    "    כתבו קוד המקבל 3 מספרים מהמשתמש, <var>a</var>, <var>b</var> ו־<var>c</var>, ובודק האם הם שלשה פיתגורית.<br>\n",
    "    כלומר, הקוד יבדוק האם מתקיים היחס – $a^2+b^2=c^2$<br>\n",
    "    אם יוכנסו שלושה מספרים המקיימים את היחס, לאחר ההרצה נקבל <samp>True</samp>, אחרת <samp>False</samp>.\n",
    "</p>\n",
    "\n",
    "<p style=\"text-align: right; direction: rtl; float:right; clear: both;\">\n",
    "    <em>לדוגמה:</em>\n",
    "</p>\n",
    "\n",
    "<ol style=\"text-align: right; direction: rtl; float:right; clear: both;\">\n",
    "    עבור הקלטים <em>a = 1, b = 2, c = 3</em> יפלט <samp>False</samp>, מכיוון שכשנפתור את $1 ^ 2 + 2 ^ 2 \\stackrel{?}{=} 3 ^ 2$, נקבל $1 + 4 \\neq 9$.<br>\n",
    "    עבור הקלטים <em>a = 3, b = 4, c = 5</em> יפלט <samp>True</samp>, מכיוון שכשנפתור את $3 ^ 2 + 4 ^ 2 \\stackrel{?}{=} 5 ^ 2$, נקבל $9 + 16 = 25$.\n",
    "</ol>\n"
   ]
  },
  {
   "cell_type": "code",
   "execution_count": null,
   "metadata": {},
   "outputs": [],
   "source": []
  },
  {
   "cell_type": "markdown",
   "metadata": {},
   "source": [
    "## <span style=\"text-align: right; direction: rtl; float: right;\">טקסונומיה</span>"
   ]
  },
  {
   "cell_type": "markdown",
   "metadata": {},
   "source": [
    "<p style=\"text-align:right; direction:rtl; float: right;\">\n",
    "    התבוננו בשורות הקוד הבאות, ורשמו עבור כל שורה בצד מה היא תדפיס.<br>\n",
    "    לאחר שרשמתם בצד את התשובות, הריצו ובדקו האם צדקתם.\n",
    "</p>"
   ]
  },
  {
   "cell_type": "code",
   "execution_count": null,
   "metadata": {},
   "outputs": [],
   "source": [
    "print(type('5') == type(5))"
   ]
  },
  {
   "cell_type": "code",
   "execution_count": null,
   "metadata": {},
   "outputs": [],
   "source": [
    "print(type(50) == type(55))"
   ]
  },
  {
   "cell_type": "code",
   "execution_count": null,
   "metadata": {},
   "outputs": [],
   "source": [
    "print(type(5.0) == type(5))"
   ]
  },
  {
   "cell_type": "code",
   "execution_count": null,
   "metadata": {},
   "outputs": [],
   "source": [
    "print(type(True) != type(False))"
   ]
  },
  {
   "cell_type": "code",
   "execution_count": null,
   "metadata": {},
   "outputs": [],
   "source": [
    "print(type(True) == type('True'))"
   ]
  },
  {
   "cell_type": "markdown",
   "metadata": {},
   "source": [
    "## <span style=\"text-align: right; direction: rtl; float: right;\">בסדר</span>"
   ]
  },
  {
   "cell_type": "markdown",
   "metadata": {},
   "source": [
    "<p style=\"text-align: right; direction: rtl; float:right; clear: both;\">\n",
    "    התבוננו בשורות הקוד הבאות, ורשמו לעצמכם בצד מה תדפיס כל שורה.<br>\n",
    "    לאחר שרשמתם בצד את התשובות, הריצו ובדקו האם צדקתם.<br>\n",
    "    בתרגילים הללו, העניקו תשומת־לב מיוחדת לסדר הפעולות.\n",
    "</p>"
   ]
  },
  {
   "cell_type": "code",
   "execution_count": null,
   "metadata": {},
   "outputs": [],
   "source": [
    "name = input(\"Enter your name: \")\n",
    "age = input(\"How old are you? \")\n",
    "print(name == 'David' and int(age) < 20)"
   ]
  },
  {
   "cell_type": "markdown",
   "metadata": {},
   "source": [
    "<p style=\"text-align: right; direction: rtl; float:right; clear: both;\">\n",
    "    <em>חשבו:</em> מדוע היינו צריכים לבצע המרה ל־<code>int</code> בשורה השלישית? מה היה קורה אם לא היינו עושים את זה?\n",
    "</p>"
   ]
  },
  {
   "cell_type": "code",
   "execution_count": null,
   "metadata": {},
   "outputs": [],
   "source": [
    "name = input(\"Enter your name: \")\n",
    "age = input(\"How old are you? \")\n",
    "print((name == 'David' or name == 'Dana') and int(age) < 20)"
   ]
  },
  {
   "cell_type": "code",
   "execution_count": null,
   "metadata": {},
   "outputs": [],
   "source": [
    "name = input(\"Enter your name: \")\n",
    "age = input(\"How old are you? \")\n",
    "print((name == 'David' or name == 'Dana') and (int(age) < 20) and int(age) >= 18)"
   ]
  },
  {
   "cell_type": "markdown",
   "metadata": {},
   "source": [
    "## <span style=\"text-align: right; direction: rtl; float: right;\">פיצוחים</span>"
   ]
  },
  {
   "cell_type": "markdown",
   "metadata": {},
   "source": [
    "### <span style=\"text-align: right; direction: rtl; float: right;\">פיצוח 1</span>"
   ]
  },
  {
   "cell_type": "markdown",
   "metadata": {},
   "source": [
    "<p style=\"text-align: right; direction: rtl; float:right; clear: both;\">\n",
    "    כתבו קוד המקבל מספר מהמשתמש ומדפיס <samp>True</samp> עבור מספר המתחלק ב־7 עם שארית 2 ו־<samp>False</samp> אחרת.<br>\n",
    "    <em>לדוגמה</em>: עבור הקלט <em>9</em> יתקבל <samp>True</samp>, ועבור הקלט <em>7</em> יתקבל <samp>False</samp>.\n",
    "</p>"
   ]
  },
  {
   "cell_type": "code",
   "execution_count": null,
   "metadata": {},
   "outputs": [],
   "source": []
  },
  {
   "cell_type": "markdown",
   "metadata": {},
   "source": [
    "### <span style=\"text-align: right; direction: rtl; float: right;\">פיצוח 2</span>"
   ]
  },
  {
   "cell_type": "markdown",
   "metadata": {},
   "source": [
    "<p style=\"text-align: right; direction: rtl; float:right; clear: both;\">\n",
    "    כתבו קוד המקבל כקלט שני שמות ומדפיס <samp>True</samp> אם שני השמות הם נועה ודור.\n",
    "</p>\n",
    "<br><br>\n",
    "<div style=\"text-align: right; direction: rtl; float:right; clear: both;\">\n",
    "    <em>דוגמאות:</em>\n",
    "</div>\n",
    "<ol style=\"text-align: right; direction: rtl; float:right; clear: both;\">\n",
    "    <li>עבור <em>נועה ועומר</em> יודפס <samp>False</samp>.</li>\n",
    "    <li>עבור <em>דור וסיגל</em> יודפס <samp>False</samp>.</li>\n",
    "    <li>עבור <em>נועה</em> (שם ראשון) ו<em>דור</em> (שם שני) יודפס <samp>True</samp>.</li>\n",
    "    <li>עבור <em>דור</em> (שם ראשון) ו<em>נועה</em> (שם שני) יודפס <samp>True</samp>.</li>\n",
    "</ol>"
   ]
  },
  {
   "cell_type": "code",
   "execution_count": null,
   "metadata": {},
   "outputs": [],
   "source": []
  },
  {
   "cell_type": "markdown",
   "metadata": {},
   "source": [
    "### <span style=\"text-align: right; direction: rtl; float: right;\">פיצוח 3</span>"
   ]
  },
  {
   "cell_type": "markdown",
   "metadata": {},
   "source": [
    "<p style=\"text-align: right; direction: rtl; float:right; clear: both;\">\n",
    "    כתבו קוד המקבל שני שמות ומדפיס <samp>True</samp> אם אחד השמות הוא דור.<br>\n",
    "    לדוגמה, עבור \"<em>דור, יניב</em>\" יודפס <samp>True</samp> ועבור \"<em>תמיר, איל</em>\" יודפס <samp>False</samp>.\n",
    "</p>"
   ]
  },
  {
   "cell_type": "code",
   "execution_count": null,
   "metadata": {},
   "outputs": [],
   "source": []
  },
  {
   "cell_type": "markdown",
   "metadata": {},
   "source": [
    "### <span style=\"text-align: right; direction: rtl; float: right;\">פיצוח 4</span>"
   ]
  },
  {
   "cell_type": "markdown",
   "metadata": {},
   "source": [
    "<p style=\"text-align: right; direction: rtl; float:right; clear: both;\">\n",
    "    כתבו קוד המקבל <em>שם</em>, <em>מין</em> ו<em>גיל</em> של אורח במסעדה ומדפיס <samp>True</samp> אם מתקיימים אחד או יותר משלושת התנאים הבאים:<br>\n",
    "</p>\n",
    "<ol style=\"text-align: right; direction: rtl; float:right; clear: both;\">\n",
    "    <li>גיל האורח הוא 30 ומעלה.</li>\n",
    "    <li>האורח הוא גבר בשם רונן.</li>\n",
    "    <li>האורחת היא אישה בשם נטלי.</li>\n",
    "</ol>"
   ]
  },
  {
   "cell_type": "markdown",
   "metadata": {},
   "source": [
    "<p style=\"text-align=: right; direction: rtl;float:right;\">רמז:\n",
    "    (<span style=\"direction: rtl; background: #000; text: #000\">השתמשו בתבנית הבאה: (תנאי ראשון) or (תנאי שני) or (תנאי שלישי)</span>)\n",
    "</p>"
   ]
  },
  {
   "cell_type": "code",
   "execution_count": null,
   "metadata": {},
   "outputs": [],
   "source": []
  },
  {
   "cell_type": "markdown",
   "metadata": {},
   "source": [
    "### <span style=\"text-align: right; direction: rtl; float: right;\">פיצוח 5</span>"
   ]
  },
  {
   "cell_type": "markdown",
   "metadata": {},
   "source": [
    "<p style=\"text-align: right; direction: rtl; float:right; clear: both;\">\n",
    "    הדפיסו מחרוזת ובה 500 פעמים האות <em>x</em>. אם נתקלתם בקושי, חזרו על השיעור המתאים.<br>\n",
    "    הכוונה היא לא הקשה על האות <em>\"x\"</em> מספר כזה של פעמים. \n",
    "</p>"
   ]
  },
  {
   "cell_type": "code",
   "execution_count": null,
   "metadata": {},
   "outputs": [],
   "source": []
  },
  {
   "cell_type": "markdown",
   "metadata": {},
   "source": [
    "### <span style=\"text-align: right; direction: rtl; float: right;\">פיצוח 6</span>"
   ]
  },
  {
   "cell_type": "markdown",
   "metadata": {},
   "source": [
    "<p style=\"text-align: right; direction: rtl; float:right; clear: both;\">\n",
    "    הציבו לתוך משתנה בשם <var>x</var> את הערך 8 בתא הבא והריצו (<kbd>SHIFT</kbd> + <kbd>ENTER</kbd>)\n",
    "</p>"
   ]
  },
  {
   "cell_type": "code",
   "execution_count": null,
   "metadata": {},
   "outputs": [],
   "source": []
  },
  {
   "cell_type": "markdown",
   "metadata": {},
   "source": [
    "<p style=\"text-align:right; direction:rtl; float:right;\"> מה עושה הפקודה הבאה?</p>"
   ]
  },
  {
   "cell_type": "code",
   "execution_count": null,
   "metadata": {},
   "outputs": [],
   "source": [
    "print('x' * x)"
   ]
  },
  {
   "cell_type": "markdown",
   "metadata": {},
   "source": [
    "### <span style=\"text-align: right; direction: rtl; float: right;\">פיצוח 7</span>"
   ]
  },
  {
   "cell_type": "markdown",
   "metadata": {},
   "source": [
    "<p style=\"text-align:right;direction:rtl;float:right;\">\n",
    "    כתבו קוד המקבל <em>מחרוזת</em> ו<em>מספר</em>, ומדפיס מחרוזת המהווה עותקים מחוברים של המחרוזת שהתקבלה, כמספר הפעמים שהתקבל.<br>\n",
    "    לדוגמא עבור המחרוזת <em>\"xy\"</em> והמספר <em>3</em>, יודפס <samp>xyxyxy</samp>.<br>\n",
    "    אם אינכם זוכרים כיצד לקבל מהמשתמש מחרוזת ומספר ולהציבם לתוך משתנה, הסתכלו בדוגמאות קודמות במחברת זו.</p>\n",
    "</p>"
   ]
  },
  {
   "cell_type": "code",
   "execution_count": null,
   "metadata": {},
   "outputs": [],
   "source": []
  }
 ],
 "metadata": {
  "kernelspec": {
   "display_name": "Python 3",
   "language": "python",
   "name": "python3"
  },
  "language_info": {
   "codemirror_mode": {
    "name": "ipython",
    "version": 3
   },
   "file_extension": ".py",
   "mimetype": "text/x-python",
   "name": "python",
   "nbconvert_exporter": "python",
   "pygments_lexer": "ipython3",
   "version": "3.7.1"
  }
 },
 "nbformat": 4,
 "nbformat_minor": 2
}
