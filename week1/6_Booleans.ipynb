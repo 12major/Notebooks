{
 "cells": [
  {
   "cell_type": "markdown",
   "metadata": {},
   "source": [
    "<img src=\"images/logo.png\" alt=\"לוגו של מיזם לימוד הפייתון. נחש מצויר בצבעי צהוב וכחול, הנע בין האותיות של שם הקורס: לומדים פייתון. הסלוגן המופיע מעל לשם הקורס הוא מיזם לימוד תכנות בחינם ובעברית.\">"
   ]
  },
  {
   "cell_type": "markdown",
   "metadata": {},
   "source": [
    "# <p style=\"align: right; direction: rtl; float: right;\">ביטויים בוליאניים</p>"
   ]
  },
  {
   "cell_type": "markdown",
   "metadata": {},
   "source": [
    "<div class=\"align-center\" style=\"display: flex; text-align: right; direction: rtl;\">\n",
    "    <div style=\"display: flex; width: 10%; float: right; \">\n",
    "        <img src=\"images/tip.png\" style=\"height: 50px !important;\" alt=\"טיפ!\"> \n",
    "    </div>\n",
    "    <div style=\"width: 90%\">\n",
    "        <p style=\"text-align: right; direction: rtl;\">\n",
    "            החומר במחברת הזו עלול להרגיש מעט תיאורטי. אין סיבה להיות עצובים, במחברת הבאה נעשה בו שימוש רחב.<br>\n",
    "            ודאו שאתם מבינים היטב את החומר במחברת זו כדי לבסס את הידע שלכם היטב.\n",
    "        </p>\n",
    "    </div>\n",
    "</div>"
   ]
  },
  {
   "cell_type": "markdown",
   "metadata": {},
   "source": [
    "## <p style=\"align: right; direction: rtl; float: right;\">הגדרה</p>"
   ]
  },
  {
   "cell_type": "markdown",
   "metadata": {},
   "source": [
    "<p style=\"text-align: right; direction: rtl; float: right;\">\n",
    "ווהו! רק פתחנו מחברת וכבר זרקו עלינו מילים מפוצצות. מה בוליאניים עכשיו?<br>\n",
    "אז הנה וידוי מפי מתכנת ותיק: בכל הנוגע לתחום שלנו, זה הרבה יותר פשוט ממה שזה נשמע.<br>\n",
    "בתכנות, ביטוי נחשב <dfn>ביטוי בוליאני</dfn> אם תוצאתו היא *אמת*, או *שקר*.\n",
    "</p>"
   ]
  },
  {
   "cell_type": "markdown",
   "metadata": {},
   "source": [
    "### <p style=\"align: right; direction: rtl; float: right;\">דוגמאות</p>"
   ]
  },
  {
   "cell_type": "markdown",
   "metadata": {},
   "source": [
    "<ul style=\"text-align: right; direction: rtl; float: right; white-space: nowrap;\">\n",
    "<li>האם 2 גדול מ־3?</li>\n",
    "<li>האם המתג בחדר שלי דלוק?</li>\n",
    "<li>האם טמפרטורת המים היא מתחת ל־60 מעלות?</li>\n",
    "<li>האם אכלתי היום קלמנטינה?</li>\n",
    "<li>האם השם שלי הוא \"אקורדינכס בן נהריה השלישי\"?</li>\n",
    "<li>האם המשתמש הזמין עגבנייה מהסופר?</li>\n",
    "<li>האם המשתמש הזין קלט לא תקין? (נניח: \"משה\" בשדה גיל, או סיסמה שגויה לכספומט).</li>\n",
    "</ul>"
   ]
  },
  {
   "cell_type": "markdown",
   "metadata": {},
   "source": [
    "## <p style=\"align: right; direction: rtl; float: right;\">אופרטורי השוואה</p>"
   ]
  },
  {
   "cell_type": "markdown",
   "metadata": {},
   "source": [
    "<p style=\"text-align: right; direction: rtl; float: right;\">\n",
    "לא הספקתם להתאושש מהבוליאניים האלו וכבר אני מוריד עליכם עוד מכה. קורס חסר רחמים. מה אופרטורים עכשיו?!<br>\n",
    "אבל האמת היא שגם הפעם זה ממש פשוט: אופרטור הוא סך־הכל סימן שמייצג פעולה כלשהי, כמו שווה או ועוד. אולי אתם אפילו זוכרים את *אופרטור ההשמה* משיעור משתנים.<br>\n",
    "אז מה זה <dfn>אופרטורי השוואה</dfn>? ובכן, אלו סימנים שעוזרים לנו לבצע השוואות בין דברים.\n",
    "</p>"
   ]
  },
  {
   "cell_type": "markdown",
   "metadata": {},
   "source": [
    "<p style=\"text-align: right; direction: rtl; float: right;\">\n",
    "בואו נכיר את אופרטור ההשוואה הראשון שלנו: `==`<br>\n",
    "הריצו את הביטויים הבוליאניים הבאים, ונסו לנחש מה הוא עושה.\n",
    "</p>"
   ]
  },
  {
   "cell_type": "code",
   "execution_count": null,
   "metadata": {
    "collapsed": true
   },
   "outputs": [],
   "source": [
    "5 == 5"
   ]
  },
  {
   "cell_type": "code",
   "execution_count": null,
   "metadata": {
    "collapsed": true
   },
   "outputs": [],
   "source": [
    "5 == 4"
   ]
  },
  {
   "cell_type": "code",
   "execution_count": null,
   "metadata": {
    "collapsed": true
   },
   "outputs": [],
   "source": [
    "1 == 1.0"
   ]
  },
  {
   "cell_type": "code",
   "execution_count": null,
   "metadata": {},
   "outputs": [],
   "source": [
    "5 == '5'"
   ]
  },
  {
   "cell_type": "code",
   "execution_count": null,
   "metadata": {},
   "outputs": [],
   "source": [
    "2 + 1 == 3"
   ]
  },
  {
   "cell_type": "code",
   "execution_count": null,
   "metadata": {},
   "outputs": [],
   "source": [
    "2 ** 3 - 1 == 8 - 1"
   ]
  },
  {
   "cell_type": "code",
   "execution_count": null,
   "metadata": {},
   "outputs": [],
   "source": [
    "'a' == 'a'"
   ]
  },
  {
   "cell_type": "code",
   "execution_count": null,
   "metadata": {
    "collapsed": true
   },
   "outputs": [],
   "source": [
    "'Hello Buya' == \"Hello Buya\""
   ]
  },
  {
   "cell_type": "code",
   "execution_count": null,
   "metadata": {
    "collapsed": true
   },
   "outputs": [],
   "source": [
    "'hello buya' == 'Hello Buya'"
   ]
  },
  {
   "cell_type": "markdown",
   "metadata": {},
   "source": [
    "<p style=\"text-align: right; direction: rtl; float: right;\">\n",
    "הדוגמה הזו מלמדת אותנו 3 דברים מגניבים:\n",
    "</p>"
   ]
  },
  {
   "cell_type": "markdown",
   "metadata": {},
   "source": [
    "<ol style=\"text-align: right; direction: rtl; float: right; white-space: nowrap; display: inline-block;\">\n",
    "<li style=\"white-space: nowrap;\">פייתון יודע לענות בעזרת ערכים בוליאניים מיוחדים, שיכולים להיות `True` או `False`.</li>\n",
    "<li style=\"white-space: nowrap;\">יש אופרטור מגניב שנקרא אופרטור ההשוואה, צורתו היא `==` והוא עוזר להשוות בין 2 ערכים בפייתון.</li>\n",
    "<li style=\"white-space: nowrap;\">יש סוגים שהשוואה ביניהם תעבוד (`float` עם `int`), ויש כאלו שלא (`float` או `int` עם `str`).</li>\n",
    "</ol>"
   ]
  },
  {
   "cell_type": "markdown",
   "metadata": {},
   "source": [
    "### <p style=\"align: right; direction: rtl; float: right;\">טיפוס בוליאני</p>"
   ]
  },
  {
   "cell_type": "markdown",
   "metadata": {},
   "source": [
    "<p style=\"text-align: right; direction: rtl; float: right;\">\n",
    "בתרגיל למעלה קיבלנו כתוצאה ערך חדש, שמעולם לא שמענו עליו. בואו נבדוק מאיזה סוג הוא!\n",
    "</p>"
   ]
  },
  {
   "cell_type": "code",
   "execution_count": null,
   "metadata": {},
   "outputs": [],
   "source": [
    "type(True)"
   ]
  },
  {
   "cell_type": "code",
   "execution_count": null,
   "metadata": {},
   "outputs": [],
   "source": [
    "type(False)"
   ]
  },
  {
   "cell_type": "markdown",
   "metadata": {},
   "source": [
    "<p style=\"text-align: right; direction: rtl; float: right;\">\n",
    "ווהו! אז אם התרגלנו שעד עכשיו יש 3 טיפוסים שאנחנו מכירים: `str`, `int` ו־`float`, הכירו את הבחור החדש בשכונה!<br>\n",
    "`bool` הוא טיפוס חביב ופשוט שמכיל בתוכו רק 2 ערכים שונים: `True`, או `False`.<br>\n",
    "כל אופרטור השוואה שנחיל על שני ערכים, יחזיר **תמיד**, ערך מסוג `bool` (חוץ מכשפייתון יתריע על שגיאה).\n",
    "</p>"
   ]
  },
  {
   "cell_type": "markdown",
   "metadata": {},
   "source": [
    "### <p style=\"align: right; direction: rtl; float: right;\">אופרטורי השוואה נוספים</p>"
   ]
  },
  {
   "cell_type": "markdown",
   "metadata": {},
   "source": [
    "| תוצאה לדוגמה | דוגמה |    משמעות בעברית             | אופרטור השוואה  |\n",
    "|----------------------------------------------------|----------------|\n",
    "| True    | 4 == 4   | האם צד שמאל שווה לצד ימין        |  ==            |\n",
    "| False   | 4 != 4  | האם צד שמאל שונה מצד ימין       |  !=            |\n",
    "| True    | 5 > 4    | האם צד שמאל גדול יותר מצד ימין    |  >             |\n",
    "| False   | 4 > 5   | האם צד שמאל קטן יותר מצד ימין    | <              |\n",
    "| True    | 2 >= 4   | האם צד שמאל גדול או שווה לצד ימין | >=             |\n",
    "| False   | 4 <= 5  | האם צד שמאל קטן או שווה לצד ימין | <=             |"
   ]
  },
  {
   "cell_type": "markdown",
   "metadata": {},
   "source": [
    "## <p style=\"align: right; direction: rtl; float: right;\">תרגול</p>"
   ]
  },
  {
   "cell_type": "markdown",
   "metadata": {},
   "source": [
    "### <p style=\"align: right; direction: rtl; float: right;\">שווה את זה?</p>"
   ]
  },
  {
   "cell_type": "markdown",
   "metadata": {},
   "source": [
    "<p style=\"text-align: right; direction: rtl; float: right;\">\n",
    "רשמו בצד את התוצאות של כל אחד מהשורות הבאות.<br>\n",
    "רק לאחר מכן הריצו, ובדקו האם צדקתם בתשובתכם.\n",
    "</p>"
   ]
  },
  {
   "cell_type": "code",
   "execution_count": null,
   "metadata": {},
   "outputs": [],
   "source": [
    "5 == 3"
   ]
  },
  {
   "cell_type": "code",
   "execution_count": null,
   "metadata": {},
   "outputs": [],
   "source": [
    "1 != 1"
   ]
  },
  {
   "cell_type": "code",
   "execution_count": null,
   "metadata": {
    "collapsed": true
   },
   "outputs": [],
   "source": [
    "5 > 3"
   ]
  },
  {
   "cell_type": "code",
   "execution_count": null,
   "metadata": {
    "collapsed": true
   },
   "outputs": [],
   "source": [
    "5 < 3"
   ]
  },
  {
   "cell_type": "code",
   "execution_count": null,
   "metadata": {
    "collapsed": true
   },
   "outputs": [],
   "source": [
    "'hello' == 'Hello'"
   ]
  },
  {
   "cell_type": "code",
   "execution_count": null,
   "metadata": {
    "collapsed": true
   },
   "outputs": [],
   "source": [
    "'MARIO' == 'MARIO '"
   ]
  },
  {
   "cell_type": "code",
   "execution_count": null,
   "metadata": {
    "collapsed": true
   },
   "outputs": [],
   "source": [
    "1.5 == 1"
   ]
  },
  {
   "cell_type": "code",
   "execution_count": null,
   "metadata": {
    "collapsed": true
   },
   "outputs": [],
   "source": [
    "1.0 == 1"
   ]
  },
  {
   "cell_type": "code",
   "execution_count": null,
   "metadata": {
    "collapsed": true
   },
   "outputs": [],
   "source": [
    "1 == 1.0"
   ]
  },
  {
   "cell_type": "code",
   "execution_count": null,
   "metadata": {
    "collapsed": true
   },
   "outputs": [],
   "source": [
    "5 != 7 - 2"
   ]
  },
  {
   "cell_type": "code",
   "execution_count": null,
   "metadata": {
    "collapsed": true
   },
   "outputs": [],
   "source": [
    "5 >= 5.0"
   ]
  },
  {
   "cell_type": "code",
   "execution_count": null,
   "metadata": {},
   "outputs": [],
   "source": [
    "'5' > '24'"
   ]
  },
  {
   "cell_type": "markdown",
   "metadata": {},
   "source": [
    "<div class=\"align-center\" style=\"display: flex; text-align: right; direction: rtl;\">\n",
    "    <div style=\"display: flex; width: 10%; float: right; \">\n",
    "        <img src=\"images/warning.png\" style=\"height: 50px !important;\" alt=\"אזהרה!\"> \n",
    "    </div>\n",
    "    <div style=\"width: 90%\">\n",
    "        <p style=\"text-align: right; direction: rtl;\">\n",
    "            טעות נפוצה בקרב מתחילים היא לשכוח להמיר קלט שקיבלו מהמשתמש ל־`int`, ורק אז לבצע השוואה.<br>\n",
    "            פייתון לא מתריע על טעות זו, אבל השוואה שכזו לא תתן לכם את התוצאה שאליה התכוונתם (ראו דוגמה אחרונה).\n",
    "        </p>\n",
    "    </div>\n",
    "</div>"
   ]
  },
  {
   "cell_type": "markdown",
   "metadata": {},
   "source": [
    "### <p style=\"align: right; direction: rtl; float: right;\">בולילנד</p>"
   ]
  },
  {
   "cell_type": "markdown",
   "metadata": {},
   "source": [
    "<p style=\"text-align: right; direction: rtl; float: right;\">\n",
    "במחוז בולילנד השערורייתי, מותר לאכול פיצה רק מכיל 25 ומעלה.<br>\n",
    "קבלו כקלט את גילו של המשתמש. הדפיסו לו `True` במידה והוא יכול לאכול פיצה בבולילנד, או `False` אם הוא לא יכול.<br>\n",
    "*לדוגמה:* אם דוד הזין שגילו הוא 23, עליכם להציג לו `False`.\n",
    "</p>"
   ]
  },
  {
   "cell_type": "markdown",
   "metadata": {},
   "source": [
    "<div class=\"align-center\" style=\"display: flex; text-align: right; direction: rtl;\">\n",
    "    <div style=\"display: flex; width: 10%; float: right; \">\n",
    "        <img src=\"images/tip.png\" style=\"height: 50px !important;\" alt=\"טיפ!\"> \n",
    "    </div>\n",
    "    <div style=\"width: 90%\">\n",
    "        <p style=\"text-align: right; direction: rtl;\">\n",
    "            <bdo dir=\"ltr\">השורה `print(1 == 1)`</bdo> תדפיס למשתמש `True`.\n",
    "        </p>\n",
    "    </div>\n",
    "</div>"
   ]
  },
  {
   "cell_type": "code",
   "execution_count": null,
   "metadata": {
    "collapsed": true
   },
   "outputs": [],
   "source": []
  }
 ],
 "metadata": {
  "kernelspec": {
   "display_name": "Python [conda root]",
   "language": "python",
   "name": "conda-root-py"
  },
  "language_info": {
   "codemirror_mode": {
    "name": "ipython",
    "version": 3
   },
   "file_extension": ".py",
   "mimetype": "text/x-python",
   "name": "python",
   "nbconvert_exporter": "python",
   "pygments_lexer": "ipython3",
   "version": "3.5.3"
  }
 },
 "nbformat": 4,
 "nbformat_minor": 2
}
