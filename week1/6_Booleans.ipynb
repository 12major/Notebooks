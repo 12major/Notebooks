{
 "cells": [
  {
   "cell_type": "markdown",
   "metadata": {},
   "source": [
    "<img src=\"images/logo.png\" alt=\"לוגו של מיזם לימוד הפייתון. נחש מצויר בצבעי צהוב וכחול, הנע בין האותיות של שם הקורס: לומדים פייתון. הסלוגן המופיע מעל לשם הקורס הוא מיזם לימוד תכנות בחינם ובעברית.\">"
   ]
  },
  {
   "cell_type": "markdown",
   "metadata": {},
   "source": [
    "# <p style=\"align: right; direction: rtl; float: right;\">ביטויים בוליאניים</p>"
   ]
  },
  {
   "cell_type": "markdown",
   "metadata": {},
   "source": [
    "<div class=\"align-center\" style=\"display: flex; text-align: right; direction: rtl;\">\n",
    "    <div style=\"display: flex; width: 10%; float: right; \">\n",
    "        <img src=\"images/tip.png\" style=\"height: 50px !important;\" alt=\"טיפ!\"> \n",
    "    </div>\n",
    "    <div style=\"width: 90%\">\n",
    "        <p style=\"text-align: right; direction: rtl;\">\n",
    "            החומר במחברת הזו עלול להרגיש מעט תיאורטי. אין סיבה להיות עצובים, במחברת הבאה נעשה בו שימוש רחב.<br>\n",
    "            ודאו שאתם מבינים היטב את החומר במחברת זו כדי לבסס את הידע שלכם היטב.\n",
    "        </p>\n",
    "    </div>\n",
    "</div>"
   ]
  },
  {
   "cell_type": "markdown",
   "metadata": {},
   "source": [
    "## <p style=\"align: right; direction: rtl; float: right;\">הגדרה</p>"
   ]
  },
  {
   "cell_type": "markdown",
   "metadata": {},
   "source": [
    "<p style=\"text-align: right; direction: rtl; float: right;\">\n",
    "ווהו! רק פתחנו מחברת וכבר זרקו עלינו מילים מפוצצות. מה בוליאניים עכשיו?<br>\n",
    "בכל הנוגע לתחום שלנו, זה הרבה יותר פשוט ממה שזה נשמע.<br>\n",
    "בתכנות, ביטוי נחשב <dfn>ביטוי בוליאני</dfn> אם תוצאתו היא <em>אמת</em>, או <em>שקר</em>.\n",
    "</p>"
   ]
  },
  {
   "cell_type": "markdown",
   "metadata": {},
   "source": [
    "### <p style=\"align: right; direction: rtl; float: right;\">דוגמאות</p>"
   ]
  },
  {
   "cell_type": "markdown",
   "metadata": {},
   "source": [
    "<ul style=\"text-align: right; direction: rtl; float: right; white-space: nowrap;\">\n",
    "<li>האם 2 גדול מ־3</li>\n",
    "<li>האם האור בחדר שלי דלוק</li>\n",
    "<li>האם טמפרטורת המים הזורמים כעת במקלחת היא מתחת ל־60 מעלות</li>\n",
    "<li>האם אכלתי היום קלמנטינה</li>\n",
    "<li>האם השם שלי הוא \"אקורדינכס בן נהריה השלישי\"</li>\n",
    "<li>האם המשתמש \"moshe15\" באפליקציית \"קרמבולנד\" הזמין עגבנייה</li>\n",
    "<li>האם המשתמש הזין קלט לא תקין (נניח: \"משה\" בשדה גיל, או סיסמה שגויה לכספומט)</li>\n",
    "</ul>"
   ]
  },
  {
   "cell_type": "markdown",
   "metadata": {},
   "source": [
    "## <p style=\"align: right; direction: rtl; float: right;\">אופרטורי השוואה</p>"
   ]
  },
  {
   "cell_type": "markdown",
   "metadata": {},
   "source": [
    "<p style=\"text-align: right; direction: rtl; float: right;\">\n",
    "לא הספקתם להתאושש מהבוליאניים האלו וכבר אני מוריד עליכם עוד מכה. קורס חסר רחמים.<br>\n",
    "אבל האמת היא שגם הפעם זה ממש פשוט: אופרטור הוא סך־הכל סימן שמייצג פעולה כלשהי, כמו שווה או ועוד. אולי אתם אפילו זוכרים את <em>אופרטור ההשמה</em> משיעור משתנים.<br>\n",
    "אז מה זה <dfn>אופרטורי השוואה</dfn>? ובכן, אלו סימנים שעוזרים לנו לבצע השוואות בין איברים שונים, להם אנחנו קוראים <dfn>אופרנדים</dfn>.\n",
    "</p>"
   ]
  },
  {
   "cell_type": "markdown",
   "metadata": {},
   "source": [
    "<p style=\"text-align: right; direction: rtl; float: right;\">\n",
    "בואו נכיר את אופרטור ההשוואה הראשון שלנו: <code>==</code>.<br>\n",
    "הריצו את הביטויים הבוליאניים הבאים, ונסו לנחש מה הוא עושה.\n",
    "</p>"
   ]
  },
  {
   "cell_type": "code",
   "execution_count": null,
   "metadata": {},
   "outputs": [],
   "source": [
    "5 == 5"
   ]
  },
  {
   "cell_type": "code",
   "execution_count": null,
   "metadata": {},
   "outputs": [],
   "source": [
    "5 == 4"
   ]
  },
  {
   "cell_type": "code",
   "execution_count": null,
   "metadata": {},
   "outputs": [],
   "source": [
    "1 == 1.0"
   ]
  },
  {
   "cell_type": "code",
   "execution_count": null,
   "metadata": {},
   "outputs": [],
   "source": [
    "5 == '5'"
   ]
  },
  {
   "cell_type": "code",
   "execution_count": null,
   "metadata": {},
   "outputs": [],
   "source": [
    "2 + 1 == 3"
   ]
  },
  {
   "cell_type": "code",
   "execution_count": null,
   "metadata": {},
   "outputs": [],
   "source": [
    "2 ** 3 - 1 == 8 - 1"
   ]
  },
  {
   "cell_type": "code",
   "execution_count": null,
   "metadata": {},
   "outputs": [],
   "source": [
    "'a' == 'a'"
   ]
  },
  {
   "cell_type": "code",
   "execution_count": null,
   "metadata": {},
   "outputs": [],
   "source": [
    "'Hello Buya' == \"Hello Buya\""
   ]
  },
  {
   "cell_type": "code",
   "execution_count": null,
   "metadata": {},
   "outputs": [],
   "source": [
    "'hello buya' == 'Hello Buya'"
   ]
  },
  {
   "cell_type": "markdown",
   "metadata": {},
   "source": [
    "<p style=\"text-align: right; direction: rtl; float: right;\">\n",
    "הדוגמה הזו מלמדת אותנו 3 דברים מגניבים:\n",
    "</p>"
   ]
  },
  {
   "cell_type": "markdown",
   "metadata": {},
   "source": [
    "<ol style=\"text-align: right; direction: rtl; float: right; white-space: nowrap; display: inline-block;\">\n",
    "<li style=\"white-space: nowrap;\">פייתון יודע לענות בעזרת ערכים בוליאניים מיוחדים, שיכולים להיות <code>True</code> או <code>False</code>.</li>\n",
    "<li style=\"white-space: nowrap;\">יש אופרטור מגניב שנקרא אופרטור ההשוואה, צורתו היא <code>==</code> והוא עוזר להשוות בין 2 ערכים בפייתון.</li>\n",
    "<li style=\"white-space: nowrap;\">יש סוגים שהשוואה ביניהם תעבוד (<code>float</code> עם <code>int</code>), ויש כאלו שלא (<code>float</code> או <code>int</code> עם <code>str</code>).</li>\n",
    "</ol>"
   ]
  },
  {
   "cell_type": "markdown",
   "metadata": {},
   "source": [
    "### <p style=\"align: right; direction: rtl; float: right;\">טיפוס בוליאני</p>"
   ]
  },
  {
   "cell_type": "markdown",
   "metadata": {},
   "source": [
    "<p style=\"text-align: right; direction: rtl; float: right;\">\n",
    "בתרגיל למעלה קיבלנו כתוצאה ערך חדש, שמעולם לא שמענו עליו. בואו נבדוק מאיזה סוג הוא!\n",
    "</p>"
   ]
  },
  {
   "cell_type": "code",
   "execution_count": null,
   "metadata": {},
   "outputs": [],
   "source": [
    "type(True)"
   ]
  },
  {
   "cell_type": "code",
   "execution_count": null,
   "metadata": {},
   "outputs": [],
   "source": [
    "type(False)"
   ]
  },
  {
   "cell_type": "markdown",
   "metadata": {},
   "source": [
    "<p style=\"text-align: right; direction: rtl; float: right;\">\n",
    "ווהו! אז אם התרגלנו שעד עכשיו יש 3 טיפוסים שאנחנו מכירים: <code>str</code>, <code>int</code> ו־<code>float</code>, הכירו את הבחור החדש בשכונה!<br>\n",
    "<code>bool</code> הוא טיפוס חביב ופשוט שמייצג רק 2 ערכים אפשריים: <code>True</code>, או <code>False</code>.<br>\n",
    "כל אופרטור השוואה שנחיל על שני ערכים, יחזיר <strong>תמיד</strong>, ערך מסוג <code>bool</code> (חוץ מכשפייתון יתריע על שגיאה).\n",
    "</p>"
   ]
  },
  {
   "cell_type": "markdown",
   "metadata": {},
   "source": [
    "### <p style=\"align: right; direction: rtl; float: right;\">אופרטורי השוואה נוספים</p>"
   ]
  },
  {
   "cell_type": "markdown",
   "metadata": {},
   "source": [
    "| תוצאה לדוגמה | דוגמה |    משמעות בעברית             | אופרטור השוואה  |\n",
    "|:----------|:----------|:--------|------:|\n",
    "| True    | 4 == 4   | האם צד שמאל שווה לצד ימין        |  ==            |\n",
    "| False   | 4 != 4  | האם צד שמאל שונה מצד ימין       |  !=            |\n",
    "| True    | 5 > 4    | האם צד שמאל גדול יותר מצד ימין    |  >             |\n",
    "| False   | 4 > 5   | האם צד שמאל קטן יותר מצד ימין    | <              |\n",
    "| True    | 2 >= 4   | האם צד שמאל גדול או שווה לצד ימין | >=             |\n",
    "| False   | 4 <= 5  | האם צד שמאל קטן או שווה לצד ימין | <=             |\n",
    "| True   | 'hell' in 'hello'  | האם צד שמאל נמצא ברצף בצד ימין | in             |"
   ]
  },
  {
   "cell_type": "markdown",
   "metadata": {},
   "source": [
    "### <p style=\"align: right; direction: rtl; float: right;\">מונחים</p>"
   ]
  },
  {
   "cell_type": "markdown",
   "metadata": {},
   "source": [
    "<dl style=\"text-align: right; direction: rtl; float: right; white-space: nowrap;\">\n",
    "<dt>ביטוי בוליאני</dt><dd>ביטוי שתוצאתו היא <em>אמת</em> (<code>True</code>) או <em>שקר</em> (<code>False</code>).</dd>\n",
    "<dt>אופרטור השוואה</dt><dd>סימן שמגדיר את סוג השוויון (או \"את השאלה\") שנרצה לבדוק לגבי ערכים מסויימים.</dd>\n",
    "<dt>אופרנד</dt><dd>ברבים: אופרנדים. הערכים לגביהם אנחנו רוצים לבדוק את השוויון, ושעליהם נפעיל את אופרטור ההשוואה.</dd>\n",
    "</dl>"
   ]
  },
  {
   "cell_type": "markdown",
   "metadata": {},
   "source": [
    "## <p style=\"align: right; direction: rtl; float: right;\">תרגול</p>"
   ]
  },
  {
   "cell_type": "markdown",
   "metadata": {},
   "source": [
    "### <p style=\"align: right; direction: rtl; float: right;\">שווה את זה?</p>"
   ]
  },
  {
   "cell_type": "markdown",
   "metadata": {},
   "source": [
    "<p style=\"text-align: right; direction: rtl; float: right;\">\n",
    "רשמו בצד את התוצאות של כל אחד מהשורות הבאות.<br>\n",
    "רק לאחר מכן הריצו, ובדקו האם צדקתם בתשובתכם.<br>\n",
    "בחלק מהסעיפים (במיוחד באלו שקשורים ב־<code>in</code>) דרושה קצת אינטואיציה.\n",
    "</p>"
   ]
  },
  {
   "cell_type": "code",
   "execution_count": null,
   "metadata": {},
   "outputs": [],
   "source": [
    "5 == 3"
   ]
  },
  {
   "cell_type": "code",
   "execution_count": null,
   "metadata": {},
   "outputs": [],
   "source": [
    "1 != 1"
   ]
  },
  {
   "cell_type": "code",
   "execution_count": null,
   "metadata": {},
   "outputs": [],
   "source": [
    "5 > 3"
   ]
  },
  {
   "cell_type": "code",
   "execution_count": null,
   "metadata": {},
   "outputs": [],
   "source": [
    "5 < 3"
   ]
  },
  {
   "cell_type": "code",
   "execution_count": null,
   "metadata": {},
   "outputs": [],
   "source": [
    "'hello' == 'Hello'"
   ]
  },
  {
   "cell_type": "code",
   "execution_count": null,
   "metadata": {},
   "outputs": [],
   "source": [
    "'MARIO' == 'MARIO '"
   ]
  },
  {
   "cell_type": "code",
   "execution_count": null,
   "metadata": {},
   "outputs": [],
   "source": [
    "1.5 == 1"
   ]
  },
  {
   "cell_type": "code",
   "execution_count": null,
   "metadata": {},
   "outputs": [],
   "source": [
    "1.0 == 1"
   ]
  },
  {
   "cell_type": "code",
   "execution_count": null,
   "metadata": {},
   "outputs": [],
   "source": [
    "1 == 1.0"
   ]
  },
  {
   "cell_type": "code",
   "execution_count": null,
   "metadata": {},
   "outputs": [],
   "source": [
    "5 != 7 - 2"
   ]
  },
  {
   "cell_type": "code",
   "execution_count": null,
   "metadata": {},
   "outputs": [],
   "source": [
    "5 >= 5.0"
   ]
  },
  {
   "cell_type": "code",
   "execution_count": null,
   "metadata": {},
   "outputs": [],
   "source": [
    "'5' > '24'  # ראו אזהרה למטה"
   ]
  },
  {
   "cell_type": "code",
   "execution_count": null,
   "metadata": {},
   "outputs": [],
   "source": [
    "'Hell' in 'Hello'"
   ]
  },
  {
   "cell_type": "code",
   "execution_count": null,
   "metadata": {},
   "outputs": [],
   "source": [
    "'hell' in 'Hello'"
   ]
  },
  {
   "cell_type": "code",
   "execution_count": null,
   "metadata": {},
   "outputs": [],
   "source": [
    "'tom' in 'to master'"
   ]
  },
  {
   "cell_type": "code",
   "execution_count": null,
   "metadata": {},
   "outputs": [],
   "source": [
    "'2' in '20'"
   ]
  },
  {
   "cell_type": "code",
   "execution_count": null,
   "metadata": {},
   "outputs": [],
   "source": [
    "2 in '20'  # פייתון יתריע על שגיאה. למה?"
   ]
  },
  {
   "cell_type": "markdown",
   "metadata": {},
   "source": [
    "<div class=\"align-center\" style=\"display: flex; text-align: right; direction: rtl;\">\n",
    "    <div style=\"display: flex; width: 10%; float: right; \">\n",
    "        <img src=\"images/warning.png\" style=\"height: 50px !important;\" alt=\"אזהרה!\"> \n",
    "    </div>\n",
    "    <div style=\"width: 90%\">\n",
    "        <p style=\"text-align: right; direction: rtl;\">\n",
    "            טעות נפוצה בקרב מתחילים היא לשכוח שבהשוואה בין נתונים מספריים יש להמיר קלט מהמשתמש ל־<code>int</code>, ורק אז לבצע השוואה.<br>\n",
    "            פייתון לא מתריע על טעות זו, אבל השוואה שכזו לא תתן לכם את התוצאה שאליה התכוונתם (ראו דוגמה למעלה).\n",
    "        </p>\n",
    "    </div>\n",
    "</div>"
   ]
  },
  {
   "cell_type": "markdown",
   "metadata": {},
   "source": [
    "### <p style=\"align: right; direction: rtl; float: right;\">בולילנד</p>"
   ]
  },
  {
   "cell_type": "markdown",
   "metadata": {},
   "source": [
    "<p style=\"text-align: right; direction: rtl; float: right;\">\n",
    "במחוז בולילנד השערורייתי, מותר לאכול פיצה רק מכיל 25 ומעלה.<br>\n",
    "קבלו כקלט את גילו של המשתמש. הדפיסו לו <samp>True</samp> במידה והוא יכול לאכול פיצה בבולילנד, או <samp>False</samp> אם הוא לא יכול.<br>\n",
    "<em>לדוגמה:</em> אם דוד הזין שגילו הוא 23, עליכם להציג לו <samp>False</samp>.\n",
    "</p>"
   ]
  },
  {
   "cell_type": "markdown",
   "metadata": {},
   "source": [
    "<div class=\"align-center\" style=\"display: flex; text-align: right; direction: rtl;\">\n",
    "    <div style=\"display: flex; width: 10%; float: right; \">\n",
    "        <img src=\"images/tip.png\" style=\"height: 50px !important;\" alt=\"טיפ!\"> \n",
    "    </div>\n",
    "    <div style=\"width: 90%\">\n",
    "        <p style=\"text-align: right; direction: rtl;\">\n",
    "            השורה <code style=\"direction: rtl;\">print(1 == 1)</code> תדפיס למשתמש <samp>True</samp>.\n",
    "        </p>\n",
    "    </div>\n",
    "</div>"
   ]
  },
  {
   "cell_type": "code",
   "execution_count": null,
   "metadata": {},
   "outputs": [],
   "source": []
  }
 ],
 "metadata": {
  "kernelspec": {
   "display_name": "Python 3",
   "language": "python",
   "name": "python3"
  },
  "language_info": {
   "codemirror_mode": {
    "name": "ipython",
    "version": 3
   },
   "file_extension": ".py",
   "mimetype": "text/x-python",
   "name": "python",
   "nbconvert_exporter": "python",
   "pygments_lexer": "ipython3",
   "version": "3.6.8"
  }
 },
 "nbformat": 4,
 "nbformat_minor": 2
}
