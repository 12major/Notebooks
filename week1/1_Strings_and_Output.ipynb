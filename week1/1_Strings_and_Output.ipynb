{
 "cells": [
  {
   "cell_type": "markdown",
   "metadata": {},
   "source": [
    "<img src=\"images/logo.png\" alt=\"לוגו של מיזם לימוד הפייתון. נחש מצויר בצבעי צהוב וכחול, הנע בין האותיות של שם הקורס: לומדים פייתון. הסלוגן המופיע מעל לשם הקורס הוא מיזם לימוד תכנות בחינם ובעברית.\">"
   ]
  },
  {
   "cell_type": "markdown",
   "metadata": {},
   "source": [
    "# <p style=\"align: right; direction: rtl; float: right;\">ברוכים הבאים למחברת הפייתון הראשונה שלכם!</p>"
   ]
  },
  {
   "cell_type": "markdown",
   "metadata": {},
   "source": [
    "<p style=\"text-align: right; direction: rtl; float: right;\">על־מנת להריץ את התוכן של תא מסוים, לחצו עליו כך שתופיע מסביבו מסגרת, והקישו על המקשים <kbd>CTRL</kbd> + <kbd>ENTER</kbd> במקלדת יחד.<br>\n",
    "לאחר שתעשו זאת, פייתון יעבד את הביטוי המופיע במשבצת ויציג לכם תשובה בהתאם.<br>\n",
    "נסו את זה על המשבצת הבאה!</p>"
   ]
  },
  {
   "cell_type": "code",
   "execution_count": null,
   "metadata": {
    "collapsed": true
   },
   "outputs": [],
   "source": [
    "print(\"Hello World\")"
   ]
  },
  {
   "cell_type": "markdown",
   "metadata": {},
   "source": [
    "<p style=\"text-align: right; direction: rtl; float: right;\">אפשר לזהות תא שמיועד להרצה בקלות, באמצעות צבע הרקע האפור שלו.</p>"
   ]
  },
  {
   "cell_type": "markdown",
   "metadata": {},
   "source": [
    "<div class=\"align-center\" style=\"display: flex; text-align: right; direction: rtl;\">\n",
    "    <div style=\"display: flex; width: 10%; float: right; \">\n",
    "        <img src=\"images/tip.png\" style=\"height: 50px !important;\" alt=\"טיפ!\"> \n",
    "    </div>\n",
    "    <div style=\"width: 90%\">\n",
    "        <p style=\"text-align: right; direction: rtl;\">\n",
    "            תוכלו להמנע משימוש בעכבר ולעבוד מהר יותר רק עם המקלדת. עברו בין התאים בעזרת המקשים <kbd>↓</kbd> או <kbd>↑</kbd> במקלדת שלכם.\n",
    "        </p>\n",
    "    </div>\n",
    "</div>"
   ]
  },
  {
   "cell_type": "markdown",
   "metadata": {},
   "source": [
    "## <p style=\"align: right; direction: rtl; float: right;\">הדפסה</p>"
   ]
  },
  {
   "cell_type": "markdown",
   "metadata": {},
   "source": [
    "<p style=\"text-align: right; direction: rtl; float: right;\">\n",
    "<q>אבל רגע</q>, יגידו הסקרנים ביניכם.\n",
    "<q>מה הרצתי שם למעלה?</q>.<br>\n",
    "\n",
    "בגדול, כמו שבוודאי ניחשת, הקוד שהרצת מדפיס \"שלום עולם\". הוא מורכב משני חלקים יחסית פשוטים: *מחרוזת* ו*פקודת הדפסה*.\n",
    "</p>"
   ]
  },
  {
   "cell_type": "markdown",
   "metadata": {},
   "source": [
    "### <p style=\"align: right; direction: rtl; float: right;\">print</p>"
   ]
  },
  {
   "cell_type": "markdown",
   "metadata": {},
   "source": [
    "<p style=\"text-align: right; direction: rtl; float: right;\">\n",
    "אחד הדברים שיצא לנו לעשות לא מעט בשבועות הקרובים זה להדפיס דברים למסך.<br>\n",
    "כדי לעשות את זה, כל מה שנצטרך לעשות זה לכתוב `print`, לפתוח סוגריים, לכתוב *ביטוי חוקי כלשהו* ולסגור את הסוגריים.<br>\n",
    "בואו נסתכל על כמה דוגמאות:\n",
    "</p>"
   ]
  },
  {
   "cell_type": "code",
   "execution_count": null,
   "metadata": {
    "collapsed": true
   },
   "outputs": [],
   "source": [
    "print(1)"
   ]
  },
  {
   "cell_type": "code",
   "execution_count": null,
   "metadata": {
    "collapsed": true
   },
   "outputs": [],
   "source": [
    "print(\"Hello\")"
   ]
  },
  {
   "cell_type": "code",
   "execution_count": null,
   "metadata": {
    "collapsed": true
   },
   "outputs": [],
   "source": [
    "print(\"Hello World\")"
   ]
  },
  {
   "cell_type": "code",
   "execution_count": null,
   "metadata": {
    "collapsed": true
   },
   "outputs": [],
   "source": [
    "print(1 + 5)"
   ]
  },
  {
   "cell_type": "markdown",
   "metadata": {},
   "source": [
    "<div class=\"align-center\" style=\"display: flex; text-align: right; direction: rtl;\">\n",
    "    <div style=\"display: flex; width: 10%; float: right; \">\n",
    "        <img src=\"images/warning.png\" style=\"height: 50px !important;\" alt=\"אזהרה!\"> \n",
    "    </div>\n",
    "    <div style=\"width: 90%\">\n",
    "        <p style=\"text-align: right; direction: rtl;\">\n",
    "        נהוג לרשום את הסוגריים בסמוך למילה `print`. אם תשכחו סוגריים, או תפתחו סוגריים ותשכחו לסגור אותם, פייתון יתריע בפניכם על שגיאה. זה לא באמת מפחיד אותנו, אבל כדאי לזכור שזו אחת הסיבות שאתם עלולים להתקל בהודעות שגיאה.\n",
    "    </p>\n",
    "</div>"
   ]
  },
  {
   "cell_type": "markdown",
   "metadata": {},
   "source": [
    "### <p style=\"align: right; direction: rtl; float: right;\">מחרוזת</p>"
   ]
  },
  {
   "cell_type": "markdown",
   "metadata": {},
   "source": [
    "<p style=\"text-align: right; direction: rtl; float: right;\">\n",
    "למרות השם הרשמי, מחרוזת היא בסך הכל רצף של תווים. מחרוזת יכולה להיות \"שלום עולם\", התוכן של הספר \"הארי פוטר\" ואפילו האות \"ש\" לבדה.<br>\n",
    "במקרה שלנו, המחרוזת היא `\"Hello World\"`.<br>\n",
    "כדי שפייתון יזהה שמדובר במחרוזת, אנחנו נהיה חייבים להקיף את המחרוזת בגרש (צ'וקו) או גרשיים (צ'וקיים). פייתון זורם ולא באמת אכפת לו במה תשתמשו, כל עוד תתחילו בגרש ותסיימו בגרש, או תתחילו בגרשיים ותסיימו בגרשיים.<br>\n",
    "בואו נסתכל על כמה דוגמאות:\n",
    "</p>"
   ]
  },
  {
   "cell_type": "code",
   "execution_count": null,
   "metadata": {
    "collapsed": true
   },
   "outputs": [],
   "source": [
    "print(\"Hello World\")"
   ]
  },
  {
   "cell_type": "code",
   "execution_count": null,
   "metadata": {
    "collapsed": true
   },
   "outputs": [],
   "source": [
    "print('Hello World')"
   ]
  },
  {
   "cell_type": "code",
   "execution_count": null,
   "metadata": {
    "collapsed": true
   },
   "outputs": [],
   "source": [
    "print('\"Why were you lurking under our window?\" \"Yes - yes, good point, Petunia! What were you doing under our windows, boy?\" \"Listening to the news,\" said Harry in a resigned voice. His aunt and uncle exchanged looks of outrage. \"Listening to the news! Again?\" \"Well, it changes every day, you see,\" said Harry.')"
   ]
  },
  {
   "cell_type": "code",
   "execution_count": null,
   "metadata": {
    "collapsed": true
   },
   "outputs": [],
   "source": [
    "print(\"x\")"
   ]
  },
  {
   "cell_type": "markdown",
   "metadata": {},
   "source": [
    "<div class=\"align-center\" style=\"display: flex; text-align: right; direction: rtl;\">\n",
    "    <div style=\"display: flex; width: 10%; float: right; \">\n",
    "        <img src=\"images/warning.png\" style=\"height: 50px !important;\" alt=\"אזהרה!\"> \n",
    "    </div>\n",
    "    <div style=\"width: 90%\">\n",
    "        <p style=\"text-align: right; direction: rtl;\">\n",
    "            טעות נפוצה בקרב אנשים שמצטרפים לעולם התכנות, היא לשכוח את הגרש או את הגרשיים בסיום ו/או בתחילת המחרוזת. אם תשכחו אותם, פייתון עלול להתריע בפניכם על שגיאה. זה לא באמת מפחיד אותנו, אבל כדאי לזכור שזו אחת הסיבות שאתם עלולים להתקל בהודעות שגיאה.\n",
    "        </p>\n",
    "    </div>\n",
    "</div>"
   ]
  },
  {
   "cell_type": "markdown",
   "metadata": {},
   "source": [
    "<p style=\"text-align: right; direction: rtl; float: right;\">הנה דוגמה לטעות שכזו, שתגרום לפייתון להתריע לכם על שגיאה:</p>"
   ]
  },
  {
   "cell_type": "code",
   "execution_count": null,
   "metadata": {
    "collapsed": true
   },
   "outputs": [],
   "source": [
    "print(Hello World)"
   ]
  },
  {
   "cell_type": "markdown",
   "metadata": {},
   "source": [
    "### <p style=\"align: right; direction: rtl; float: right;\">תרגול: מה מחרוזת ומה לא?</p>"
   ]
  },
  {
   "cell_type": "markdown",
   "metadata": {},
   "source": [
    "<p style=\"text-align: right; direction: rtl; float: right;\">\n",
    "לפניכם כמה ביטויים בפייתון. מה לדעתכם מחרוזת תקינה, ומה לא?<br>\n",
    "זהירות! שמנו שם כמה מוקשים ;)\n",
    "</p>"
   ]
  },
  {
   "cell_type": "markdown",
   "metadata": {},
   "source": [
    "<ul style=\"font-size: 1.25em\">\n",
    "<li>`\"Hello World\"`</li>\n",
    "<li>`'Hello World\"`</li>\n",
    "<li>`1234`</li>\n",
    "<li>`\"1234\"`</li>\n",
    "<li>`print(\"Hello World\")`</li>\n",
    "<li>`print`</li>\n",
    "<li>`'Israel'`</li>\n",
    "<li>`Moshe`</li>\n",
    "<li>`\".\"`</li>\n",
    "<li>`\"_)(*&^%\"`</li>\n",
    "<li>`\"_)('*&^%\"`</li>\n",
    "<li>`\"_)(\"*&^%\"`</li>\n",
    "</ul>"
   ]
  },
  {
   "cell_type": "markdown",
   "metadata": {},
   "source": [
    "### <p style=\"align: right; direction: rtl; float: right;\">תרגול: שרה שרה שיר שמח</p>"
   ]
  },
  {
   "cell_type": "markdown",
   "metadata": {},
   "source": [
    "<p style=\"text-align: right; direction: rtl; float: right;\">\n",
    "הדפיסו את הפזמון מהשיר האהוב עליכם!<br>\n",
    "על מנת לעשות את זה, לחצו על השטח האפור בתא מלמטה. כתבו שם את הקוד שלכם, ולחצו <kbd>CTRL</kbd> יחד עם <kbd>ENTER</kbd>.\n",
    "</p>"
   ]
  },
  {
   "cell_type": "code",
   "execution_count": null,
   "metadata": {
    "collapsed": true
   },
   "outputs": [],
   "source": []
  }
 ],
 "metadata": {
  "kernelspec": {
   "display_name": "Python [conda root]",
   "language": "python",
   "name": "conda-root-py"
  },
  "language_info": {
   "codemirror_mode": {
    "name": "ipython",
    "version": 3
   },
   "file_extension": ".py",
   "mimetype": "text/x-python",
   "name": "python",
   "nbconvert_exporter": "python",
   "pygments_lexer": "ipython3",
   "version": "3.5.3"
  }
 },
 "nbformat": 4,
 "nbformat_minor": 2
}
