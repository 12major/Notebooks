{
 "cells": [
  {
   "cell_type": "markdown",
   "metadata": {},
   "source": [
    "<img src=\"images/logo.png\" alt=\"לוגו של מיזם לימוד הפייתון. נחש מצויר בצבעי צהוב וכחול, הנע בין האותיות של שם הקורס: לומדים פייתון. הסלוגן המופיע מעל לשם הקורס הוא מיזם לימוד תכנות בחינם ובעברית.\">"
   ]
  },
  {
   "cell_type": "markdown",
   "metadata": {},
   "source": [
    "# <p style=\"align: right; direction: rtl; float: right;\">משתנים</p>"
   ]
  },
  {
   "cell_type": "markdown",
   "metadata": {},
   "source": [
    "<p style=\"text-align: right; direction: rtl; float: right;\">\n",
    "נניח שאנחנו רוצים לחשב את השטח של הפיצה שלנו לפי אורך המשולש.<br>\n",
    "כידוע, ניתן לחשב מה נפח הפיצה שלנו בעזרת הנוסחה\n",
    "    $pi \\times z \\times z \\times a$,\n",
    "כאשר $z$ הוא אורך המשולש ו־$a$ הוא גובה המשולש.<br>\n",
    "pi, או $\\pi$, הוא מספר קבוע שנקרא \"פאי\", וקרוב ל־3.141592653589793. בפועל יש לו אינסוף ספרות אחרי הנקודה, אבל אנחנו נסתפק באלו.<br>\n",
    "נניח שאורכו של המשולש הוא 5 מטרים, ועוביו הוא 2 מטרים (זו למעשה עוגת פיצה. אנחנו אוהבים!)<br>\n",
    "בואו ננסה לחשב את גודלה של הפיצה:\n",
    "</p>"
   ]
  },
  {
   "cell_type": "code",
   "execution_count": 21,
   "metadata": {},
   "outputs": [
    {
     "name": "stdout",
     "output_type": "stream",
     "text": [
      "157.079632679\n"
     ]
    }
   ],
   "source": [
    "print(3.14159265358*5*5*2)"
   ]
  },
  {
   "cell_type": "markdown",
   "metadata": {},
   "source": [
    "<img src=\"images/pizza_cake.jpg\" alt=\"פיצה עבה מאוד, עם הרבה גבינה ותוספות של עגבנייה, זיתים וגמבה.\" width=\"40%\">"
   ]
  },
  {
   "cell_type": "markdown",
   "metadata": {},
   "source": [
    "<p style=\"text-align: right; direction: rtl; float: right;\">\n",
    "אך **אבוי**! (אהבתם את הדרמטיות?)<br>\n",
    "מישהו אחר שיבוא לקוד שלכם, עלול להתבלבל מכמות המספרים הלא מובנים בעליל שכתובים שם.<br>\n",
    "יותר מזה, אם תרצו לחשב את גודלן של פיצות רבות נוספות, תצטרכו לכתוב את פאי המכוער (סליחה פאי) פעמים רבות בקוד.\n",
    "</p>"
   ]
  },
  {
   "cell_type": "markdown",
   "metadata": {},
   "source": [
    "## <p style=\"align: right; direction: rtl; float: right;\">השמה</p>"
   ]
  },
  {
   "cell_type": "markdown",
   "metadata": {},
   "source": [
    "<p style=\"text-align: right; direction: rtl; float: right;\">\n",
    "למזלנו, בפייתון יש דרך לתת לערכים שם, ממש כמו תווית שכזו. העיקרון הזה נקרא \"<dfn>משתנים</dfn>\", ויש לו שימושים רבים נוספים שנגלה בהמשך.<br>\n",
    "בואו נראה דוגמה של איך אנחנו נותנים לערך \"פאי\" שם, ואיך מיד לאחר־מכן אנחנו משתמשים בו.\n",
    "</p>"
   ]
  },
  {
   "cell_type": "code",
   "execution_count": 22,
   "metadata": {},
   "outputs": [
    {
     "name": "stdout",
     "output_type": "stream",
     "text": [
      "157.079632679\n"
     ]
    }
   ],
   "source": [
    "pi = 3.14159265358\n",
    "print(pi*5*5*2)"
   ]
  },
  {
   "cell_type": "markdown",
   "metadata": {},
   "source": [
    "<p style=\"text-align: right; direction: rtl; float: right;\">\n",
    "דבר ראשון שכדאי לשים לב אליו, זה שלמרות שהשתמשנו בסימן `=`, השורה הראשונה היא לא שוויון מהסוג שאנחנו רגילים אליו.<br>\n",
    "משמעות הסימן בתכנות שונה לחלוטין, ונקראת \"<dfn>השמה</dfn>\". בהשמה אנחנו שמים את הערך שנמצא בצד ימין של השווה, בתוך **משתנה** ששמו הוזכר בצד שמאל של השווה.<br>\n",
    "אחרי שביצענו את הפעולה הזו, כל פעם שנכתוב את שמו של המשתנה, פייתון ידמיין את מה שכתוב שם *כאילו* רשמנו את הערך שנמצא בתוכו.\n",
    "</p>"
   ]
  },
  {
   "cell_type": "markdown",
   "metadata": {},
   "source": [
    "<p style=\"text-align: right; direction: rtl; float: right;\">\n",
    "בואו נעשה אותו דבר גם עבור שאר הערכים:\n",
    "</p>"
   ]
  },
  {
   "cell_type": "code",
   "execution_count": 18,
   "metadata": {},
   "outputs": [
    {
     "name": "stdout",
     "output_type": "stream",
     "text": [
      "157.079632679\n"
     ]
    }
   ],
   "source": [
    "pi = 3.14159265358\n",
    "z = 5\n",
    "a = 2\n",
    "print(pi*z*z*a)"
   ]
  },
  {
   "cell_type": "markdown",
   "metadata": {},
   "source": [
    "<p style=\"text-align: right; direction: rtl; float: right;\">\n",
    "או אם בא לנו להיות אפילו יותר מובנים:\n",
    "</p>"
   ]
  },
  {
   "cell_type": "code",
   "execution_count": null,
   "metadata": {},
   "outputs": [],
   "source": [
    "pi = 3.14159265358\n",
    "length = 5  # אורך\n",
    "thickness = 2  # עובי\n",
    "print(pi * length * length * thickness)"
   ]
  },
  {
   "cell_type": "markdown",
   "metadata": {},
   "source": [
    "<p style=\"text-align: right; direction: rtl; float: right;\">\n",
    "יצרנו פה למעשה שלושה משתנים, ובכל משתנה שמרנו ערך.\n",
    "</p>"
   ]
  },
  {
   "cell_type": "markdown",
   "metadata": {},
   "source": [
    "### <p style=\"align: right; direction: rtl; float: right;\">מונחים</p>"
   ]
  },
  {
   "cell_type": "markdown",
   "metadata": {},
   "source": [
    "<dl style=\"text-align: right; direction: rtl; float: right; white-space: nowrap;\">\n",
    "<dt>אופרטור ההשמה</dt><dd>סתם שם מפחיד שמתאר את הסימן `=`.</dd>\n",
    "<dt>שם המשתנה</dt><dd>הדבר שמופיע משמאל לאופרטור ההשמה.</dd>\n",
    "<dt>ערך המשתנה</dt><dd>התוכן של המשתנה שבסופו של דבר המחשב יזכור.</dd>\n",
    "</dl>"
   ]
  },
  {
   "cell_type": "markdown",
   "metadata": {},
   "source": [
    "## <p style=\"align: right; direction: rtl; float: right;\">איך משתנים עובדים?</p>"
   ]
  },
  {
   "cell_type": "markdown",
   "metadata": {},
   "source": [
    "<p style=\"text-align: right; direction: rtl; float: right;\">\n",
    "אפשר לדמיין משתנים כמו ארון מגירות גדול, כשעל כל מגירה יש מדבקה, ועליה כתוב שמה של המגירה.<br>\n",
    "כל פעם שאתם מציינים שם של מגירה, פייתון הולך לארון המגירות, מציץ מה יש במגירה עם המדבקה שבחרתם, ולוקח את הערך שנמצא שם.<br>\n",
    "כל פעם שאתם מבצעים *השמה*, אתם אומרים לפייתון לשים במגירה עם המדבקה בשם שציינתם ערך מסוים.<br>\n",
    "אם כך, לצורך האנלוגיה הזו, המדבקה היא **שם המשתנה** ותוכן המגירה הוא **ערך המשתנה**.\n",
    "</p>"
   ]
  },
  {
   "cell_type": "markdown",
   "metadata": {},
   "source": [
    "<figure>\n",
    "    <img src=\"images/cabins.svg\" width=\"200px\" alt=\"איור להמחשה של ארון מגירות פשוט, עם שני טורים ושתי שורות. מעל הארון מנורה וספרים.\">\n",
    "    <figcaption style=\"text-align: center; direction: rtl;\">אמנם בלי מדבקות, אבל אנחנו סומכים על כישורי הדמיון שלכם.</figcaption>\n",
    "</figure>"
   ]
  },
  {
   "cell_type": "markdown",
   "metadata": {},
   "source": [
    "----------\n",
    "<p style=\"text-align: right; direction: rtl; float: right;\">\n",
    "מכאן ומטה אנחנו עדיין בטיוטה\n",
    "</p>"
   ]
  },
  {
   "cell_type": "markdown",
   "metadata": {},
   "source": [
    "<ol style=\"text-align: right; direction: rtl; float: right; white-space: nowrap;\">\n",
    "<li>לתת לערך מסוים שם, כדי שנזכור מה מטרתו כשנחזור אליו אחר־כך.</li>\n",
    "<li>לפרק את הביטוי לחתיכות קטנות יותר.</li>\n",
    "<li>לשמור על ערך בצד, ולהשתמש בו בשלב מאוחר יותר.</li>\n",
    "</ol>"
   ]
  },
  {
   "cell_type": "code",
   "execution_count": null,
   "metadata": {
    "collapsed": true
   },
   "outputs": [],
   "source": [
    "## REMEMBER THE DRAWER"
   ]
  }
 ],
 "metadata": {
  "kernelspec": {
   "display_name": "Python [conda root]",
   "language": "python",
   "name": "conda-root-py"
  },
  "language_info": {
   "codemirror_mode": {
    "name": "ipython",
    "version": 3
   },
   "file_extension": ".py",
   "mimetype": "text/x-python",
   "name": "python",
   "nbconvert_exporter": "python",
   "pygments_lexer": "ipython3",
   "version": "3.5.3"
  }
 },
 "nbformat": 4,
 "nbformat_minor": 2
}
