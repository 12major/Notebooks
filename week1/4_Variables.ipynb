{
 "cells": [
  {
   "cell_type": "markdown",
   "metadata": {},
   "source": [
    "<img src=\"images/logo.png\" alt=\"לוגו של מיזם לימוד הפייתון. נחש מצויר בצבעי צהוב וכחול, הנע בין האותיות של שם הקורס: לומדים פייתון. הסלוגן המופיע מעל לשם הקורס הוא מיזם לימוד תכנות בחינם ובעברית.\">"
   ]
  },
  {
   "cell_type": "markdown",
   "metadata": {},
   "source": [
    "# <p style=\"align: right; direction: rtl; float: right;\">משתנים</p>"
   ]
  },
  {
   "cell_type": "markdown",
   "metadata": {},
   "source": [
    "<p style=\"text-align: right; direction: rtl; float: right;\">\n",
    "בואו נחשב את נפח הפיצה שלנו לפי אורך ועובי המשולש.<br>\n",
    "הנוסחה לנפח פיצה היא:\n",
    "    <span style=\"display: inline-flex; direction: ltr;\">$pi \\times z \\times z \\times a$</span>,\n",
    "כאשר <span style=\"display: inline-flex; direction: ltr;\">$z$</span> הוא אורך המשולש ו־<span style=\"display: inline-flex; direction: ltr;\">$a$</span> הוא גובה המשולש.<br>\n",
    "    pi, או <span style=\"display: inline-flex; direction: ltr;\">$\\pi$</span>, הוא מספר קבוע שנקרא <dfn>פאי</dfn>, וקרוב ל־3.141592653589793. בפועל יש לו אינסוף ספרות אחרי הנקודה, אבל אנחנו נסתפק באלו.<br>\n",
    "נניח שאורכו של המשולש הוא 5 מטרים, ועוביו הוא 2 מטרים (זו למעשה עוגת פיצה. אנחנו אוהבים!)<br>\n",
    "נחשב:\n",
    "</p>"
   ]
  },
  {
   "cell_type": "code",
   "execution_count": null,
   "metadata": {},
   "outputs": [],
   "source": [
    "print(3.14159265358 * 5 * 5 * 2)"
   ]
  },
  {
   "cell_type": "markdown",
   "metadata": {},
   "source": [
    "<img src=\"images/pizza_cake.jpg\" alt=\"פיצה עבה מאוד, עם הרבה גבינה ותוספות של עגבנייה, זיתים וגמבה.\" width=\"40%\">"
   ]
  },
  {
   "cell_type": "markdown",
   "metadata": {},
   "source": [
    "<p style=\"text-align: right; direction: rtl; float: right;\">\n",
    "אך <strong>אבוי</strong>!<br>\n",
    "מישהו אחר שיבוא לקוד שלכם, עלול להתבלבל מכמות המספרים הלא מובנים בעליל שכתובים שם, והוא בוודאי לא יבין מה הם אומרים.<br>\n",
    "יותר מזה, אם תרצו לחשב את גודלן של פיצות רבות נוספות, תצטרכו לכתוב את פאי המכוער (סליחה פאי) פעמים רבות בקוד.\n",
    "</p>"
   ]
  },
  {
   "cell_type": "markdown",
   "metadata": {},
   "source": [
    "## <p style=\"align: right; direction: rtl; float: right;\">השמה</p>"
   ]
  },
  {
   "cell_type": "markdown",
   "metadata": {},
   "source": [
    "<p style=\"text-align: right; direction: rtl; float: right;\">\n",
    "למזלנו, בפייתון יש דרך לתת לערכים שם, ממש כמו תווית שכזו. העיקרון הזה נקרא \"<dfn>משתנים</dfn>\", ויש לו שימושים רבים נוספים שנגלה בהמשך.<br>\n",
    "בואו נראה דוגמה של איך אנחנו נותנים לערך \"פאי\" שם, ואיך מיד לאחר־מכן אנחנו משתמשים בו.\n",
    "</p>"
   ]
  },
  {
   "cell_type": "code",
   "execution_count": null,
   "metadata": {},
   "outputs": [],
   "source": [
    "pi = 3.14159265358\n",
    "print(pi * 5 * 5 * 2)"
   ]
  },
  {
   "cell_type": "markdown",
   "metadata": {},
   "source": [
    "<p style=\"text-align: right; direction: rtl; float: right;\">\n",
    "דבר ראשון שכדאי לשים לב אליו, זה שלמרות שהשתמשנו בסימן <code>=</code>, השורה הראשונה היא לא שוויון מהסוג שאנחנו רגילים אליו.<br>\n",
    "משמעות הסימן בתכנות שונה לחלוטין, והעקרון נקרא \"<dfn>השמה</dfn>\".<br>\n",
    "<mark>בהשמה אנחנו שמים את הערך שנמצא בצד ימין של השווה, בתוך <strong>משתנה</strong> ששמו נכתב בצד שמאל של השווה.</mark><br>\n",
    "אחרי שביצענו את הפעולה הזו, כל פעם שנכתוב את שמו של המשתנה, פייתון ידמיין את מה שכתוב שם <em>כאילו</em> רשמנו את הערך שנמצא בתוכו.\n",
    "</p>"
   ]
  },
  {
   "cell_type": "markdown",
   "metadata": {},
   "source": [
    "<p style=\"text-align: right; direction: rtl; float: right;\">\n",
    "בואו ניצור משתנים גם עבור שאר הערכים:\n",
    "</p>"
   ]
  },
  {
   "cell_type": "code",
   "execution_count": null,
   "metadata": {},
   "outputs": [],
   "source": [
    "pi = 3.14159265358\n",
    "z = 5\n",
    "a = 2\n",
    "print(pi * z * z * a)"
   ]
  },
  {
   "cell_type": "markdown",
   "metadata": {},
   "source": [
    "<p style=\"text-align: right; direction: rtl; float: right;\">\n",
    "או אם בא לנו להיות אפילו יותר מובנים, בואו ניתן למשתנים שמות ברורים:\n",
    "</p>"
   ]
  },
  {
   "cell_type": "code",
   "execution_count": null,
   "metadata": {},
   "outputs": [],
   "source": [
    "pi = 3.14159265358\n",
    "length = 5  # אורך\n",
    "thickness = 2  # עובי\n",
    "pizza_volume = pi * length * length * thickness  # נפח הפיצה\n",
    "print(pizza_volume)"
   ]
  },
  {
   "cell_type": "markdown",
   "metadata": {},
   "source": [
    "<p style=\"text-align: right; direction: rtl; float: right;\">\n",
    "אם נרצה לתאר את הקוד שלנו במילים, נוכל להגיד שיצרנו שלושה משתנים שאליהם השמנו את הנתונים הדרושים לנו לחישוב נפח הפיצה.<br>\n",
    "בסוף, חישבנו את נפח הפיצה, ואת התוצאה השמנו למשתנה נוסף בשם <var>pizza_volume</var>.<br>\n",
    "את הערך הנמצא במשתנה הזה הדפסנו למסך.\n",
    "</p>"
   ]
  },
  {
   "cell_type": "markdown",
   "metadata": {},
   "source": [
    "### <p style=\"align: right; direction: rtl; float: right;\">מונחים</p>"
   ]
  },
  {
   "cell_type": "markdown",
   "metadata": {},
   "source": [
    "<dl style=\"text-align: right; direction: rtl; float: right; white-space: nowrap;\">\n",
    "<dt>אופרטור ההשמה</dt><dd>סתם שם מפחיד שמתאר את הסימן <code>=</code> כשרוצים לבצע השמה.</dd>\n",
    "<dt>שם המשתנה</dt><dd>הדבר שמופיע משמאל לאופרטור ההשמה.</dd>\n",
    "<dt>ערך המשתנה</dt><dd>התוכן (הערך) של המשתנה שבסופו של דבר המחשב יזכור, ומופיע מימין לאופרטור ההשוואה.</dd>\n",
    "</dl>"
   ]
  },
  {
   "cell_type": "markdown",
   "metadata": {},
   "source": [
    "## <p style=\"align: right; direction: rtl; float: right;\">איך משתנים עובדים?</p>"
   ]
  },
  {
   "cell_type": "markdown",
   "metadata": {},
   "source": [
    "<p style=\"text-align: right; direction: rtl; float: right;\">\n",
    "אפשר לדמיין את הרעיון שנוגע למשתנים כמו ארון מגירות גדול.<br>\n",
    "כשאתם מבצעים <strong>השמה</strong>, אתם מבקשים מפייתון להדביק מדבקה על מגירה מסוימת, עליה כתוב שם שבחרתם. אותו שם אמור לתאר במילים את הערך שבחרתם להכניס למגירה.<br>\n",
    "כל פעם שתציינו בהמשך הקוד את השם שכתוב על מדבקה כלשהי, פייתון ילך לארון המגירות, יציץ על תוכן המגירה עם המדבקה המתאימה, ויקח את הערך שנמצא שם.<br>\n",
    "<br>\n",
    "אם כך, לצורך האנלוגיה הזו, המדבקה היא <strong>שם המשתנה</strong> ותוכן המגירה הוא <strong>ערך המשתנה</strong>.\n",
    "</p>"
   ]
  },
  {
   "cell_type": "markdown",
   "metadata": {},
   "source": [
    "<figure>\n",
    "    <img src=\"images/cabins.svg\" width=\"200px\" alt=\"איור להמחשה של ארון מגירות פשוט, עם שני טורים ושתי שורות. מעל הארון מנורה וספרים.\">\n",
    "    <figcaption style=\"text-align: center; direction: rtl;\">אמנם בלי מדבקות, אבל אנחנו סומכים על כישורי הדמיון שלכם.</figcaption>\n",
    "</figure>"
   ]
  },
  {
   "cell_type": "markdown",
   "metadata": {},
   "source": [
    "## <p style=\"align: right; direction: rtl; float: right;\">חוקים לשמות משתנים</p>"
   ]
  },
  {
   "cell_type": "markdown",
   "metadata": {},
   "source": [
    "<ol style=\"text-align: right; direction: rtl; float: right; white-space: nowrap;\">\n",
    "<li style=\"white-space: nowrap;\"><strong>חוק:</strong> שם משתנה יכול לכלול רק ספרות (<code>0–9</code>), אותיות לטיניות גדולות (<code>A-Z</code>) או קטנות (<code>a-z</code>) וקו תחתון (<code>_</code>).</li>\n",
    "<li style=\"white-space: nowrap;\"><strong>חוק:</strong> שם משתנה לא יכול להתחיל בספרה.</li>\n",
    "<li style=\"white-space: nowrap;\"><strong>מוסכמה:</strong> נהוג מאוד ששם משתנה יהיה באותיות קטנות, ויופרד על־ידי קווים תחתונים.</li>\n",
    "<li style=\"white-space: nowrap;\"><strong>מוסכמה:</strong> נהוג לתת למשתנה שם שמתאר היטב את תפקידו בקוד.</li>\n",
    "</ol>\n",
    "\n",
    "<p style=\"text-align: right; direction: rtl; float: right;\">\n",
    "המוסכמה השלישית נכונה ברוב המקרים, ולא בכולם. בעתיד נכנס יותר לעובי הקורה בכל הנוגע לכתיבת קוד בהתאם למוסכמות בעולם התכנות.\n",
    "</p>"
   ]
  },
  {
   "cell_type": "markdown",
   "metadata": {},
   "source": [
    "### <p style=\"align: right; direction: rtl; float: right;\">תרגול שמות משתנים</p>"
   ]
  },
  {
   "cell_type": "markdown",
   "metadata": {},
   "source": [
    "#### <p style=\"align: right; direction: rtl; float: right;\">בדקו האם שם המשתנה עומד בחוקים ובמוסכמות</p>"
   ]
  },
  {
   "cell_type": "markdown",
   "metadata": {},
   "source": [
    "<p style=\"text-align: right; direction: rtl; float: right;\">\n",
    "רשמו במחברת (או בהערה) האם לדעתכם, בכל אחת מהשורות הבאות, שם המשתנה עומד בחוקים ובמוסכמות.<br>\n",
    "אחרי שרשמתם, תקנו את המשתנים שלדעתכם השם שלהם לא תקין והריצו את הקוד כך שלא יגרום לשגיאה.\n",
    "</p>"
   ]
  },
  {
   "cell_type": "code",
   "execution_count": null,
   "metadata": {},
   "outputs": [],
   "source": [
    "a = 5\n",
    "MyBirthday = '12/07/1995'\n",
    "mybirthday = '12/07/1995'\n",
    "pizza_radius = 5.3\n",
    "pizza = 3\n",
    "pizza radius = 2.7\n",
    "pizza's_price = 2\n",
    "5_pizza_price = 30\n",
    "my_name = \"Yam Mesicka\"\n",
    "your_name = '4Tomer Gavish'"
   ]
  },
  {
   "cell_type": "markdown",
   "metadata": {},
   "source": [
    "#### <p style=\"align: right; direction: rtl; float: right;\">תנו שם למשתנים הבאים</p>"
   ]
  },
  {
   "cell_type": "markdown",
   "metadata": {},
   "source": [
    "<ol style=\"text-align: right; direction: rtl; float: right; white-space: nowrap;\">\n",
    "<li>השם של כותב הספר.</li>\n",
    "<li>הגיל של המשתמש בתכנית.</li>\n",
    "<li>המלל במחברת הזו.</li>\n",
    "<li>מספר הקילומטרים מתל־אביב לניו־יורק.</li>\n",
    "</ol>"
   ]
  },
  {
   "cell_type": "markdown",
   "metadata": {},
   "source": [
    "## <p style=\"align: right; direction: rtl; float: right;\">עריכת ערכי משתנים</p>"
   ]
  },
  {
   "cell_type": "markdown",
   "metadata": {},
   "source": [
    "<p style=\"text-align: right; direction: rtl; float: right;\">\n",
    "בתחילת המחברת ביצענו כמה השמות למשתנים. לעתים קרובות, אנחנו נרצה <em>לערוך</em> את התוכן של המשתנה.<br>\n",
    "בואו נראה דוגמה:\n",
    "</p>"
   ]
  },
  {
   "cell_type": "code",
   "execution_count": null,
   "metadata": {},
   "outputs": [],
   "source": [
    "my_age = 24\n",
    "my_age = my_age + 1\n",
    "print(my_age)"
   ]
  },
  {
   "cell_type": "markdown",
   "metadata": {},
   "source": [
    "<p style=\"text-align: right; direction: rtl; float: right;\">\n",
    "מה קרה כאן?<br>\n",
    "בשורה 1 עשינו השמה פשוטה, כפי שלמדנו קודם. עד כאן הכל מוכר.<br>\n",
    "בשורה 2 הרעיון זהה. כל מה שאתם צריכים לזכור הוא שפייתון קודם מחשב את צד ימין (הערך) ורק אז מכניס אותו לתוך צד שמאל (השם של המשתנה).\n",
    "</p>\n",
    "<p style=\"text-align: right; direction: rtl; float: right;\">\n",
    "בואו נעקוב אחרי דרך המחשבה של פייתון כשהוא קורא את השורה השנייה:\n",
    "</p>\n",
    "<div style=\"clear: both;\">\n",
    "<ol style=\"text-align: right; direction: rtl; float: right; white-space: nowrap;\">\n",
    "<li>הסתכל על צד ימין של ההשמה.</li>\n",
    "<li>חשב את הביטוי <code>my_age + 1</code>.</li>\n",
    "<li>בדוק במגירה של <code>my_age</code> את ערך המשתנה.</li>\n",
    "<li>הערך הוא <samp>24</samp>. חשב את <code>1 + 24</code>.</li>\n",
    "<li>התוצאה היא <samp>25</samp>; צד ימין \"פתור\".</li>\n",
    "<li style=\"text-align: right; direction: rtl; float: right; white-space: nowrap;\">הכנס את הערך <samp>25</samp> לתוך הצד השמאלי של ההשמה, <code>my_age</code>.</li>\n",
    "</ol>"
   ]
  },
  {
   "cell_type": "markdown",
   "metadata": {},
   "source": [
    "## <p style=\"align: right; direction: rtl; float: right;\">תרגול</p>"
   ]
  },
  {
   "cell_type": "markdown",
   "metadata": {},
   "source": [
    "### <p style=\"align: right; direction: rtl; float: right;\">ארגז קרמבו</p>"
   ]
  },
  {
   "cell_type": "markdown",
   "metadata": {},
   "source": [
    "<p style=\"text-align: right; direction: rtl; float: right;\">\n",
    "קניתי 5 ארגזים גדולים של קרמבו. בארגז יש 10 קרמבו בכל שורה, ו־4 קרמבו בכל עמודה.<br>\n",
    "נסו לשים כל אחד מהנתונים שמצאתם בשאלה במשתנה, ולהדפיס את התשובה הנכונה.\n",
    "</p>"
   ]
  },
  {
   "cell_type": "code",
   "execution_count": null,
   "metadata": {},
   "outputs": [],
   "source": []
  },
  {
   "cell_type": "markdown",
   "metadata": {},
   "source": [
    "### <p style=\"align: right; direction: rtl; float: right;\">מבריחים מהבריכה</p>"
   ]
  },
  {
   "cell_type": "markdown",
   "metadata": {},
   "source": [
    "<p style=\"text-align: right; direction: rtl; float: right;\">\n",
    "אורך הבריכה הפרטית שהייתי מת שתהיה לי הוא 50 מטרים, ורוחבה 25 מטרים.<br>\n",
    "כדי להתקע בכמה שיותר אנשים באמצע אני מתכנן לשחות באלכסון, מהפינה האחת של הבריכה לפינה הנגדית שלה.<br>\n",
    "אני נמצא בפינה ממנה אני מתכנן לצאת. תוכלו לעזור לי להבין מה המרחק שאצטרך לשחות כדי להגיע לפינה הנגדית?<br>\n",
    "נסו לעשות שימוש ב־3 משתנים כדי לפתור את השאלה.<br>\n",
    "<strong>טיפ:</strong> סיפרו לי שזה <span style=\"display: inline-flex;\">$(l^2 \\times w^2)^{0.5}$</span>, כאשר \n",
    "    <span style=\"display: inline-flex;\">${l}$</span>\n",
    "    מציין את אורך הבריכה ו־\n",
    "        <span style=\"display: inline-flex;\">${w}$</span>\n",
    "    את רוחבה.\n",
    "</p>"
   ]
  },
  {
   "cell_type": "code",
   "execution_count": null,
   "metadata": {},
   "outputs": [],
   "source": []
  },
  {
   "cell_type": "markdown",
   "metadata": {},
   "source": [
    "<p style=\"text-align: right; direction: rtl; float: right;\">\n",
    "במסגרת שיפוצים של הבריכה הפרטית שהייתי מת שתהיה לי, החליטו להוסיף עשרה מסלולים לבריכה, ולכן אורכה גדל פי 2.<br>\n",
    "כחלק מהשיפוצים גם הגדילו את הרוחב שלה בגודל השווה לאורך החדש של הבריכה.<br>\n",
    "הדפיסו את הגודל החדש של הבריכה. אל תשנו את הקוד למעלה; פשוט המשיכו אותו בתא הבא, והשתמשו בהשמה כדי להתאים את המשתנים למציאות החדשה.\n",
    "</p>"
   ]
  },
  {
   "cell_type": "code",
   "execution_count": null,
   "metadata": {},
   "outputs": [],
   "source": []
  },
  {
   "cell_type": "markdown",
   "metadata": {},
   "source": [
    "### <p style=\"align: right; direction: rtl; float: right;\">ברכות</p>"
   ]
  },
  {
   "cell_type": "markdown",
   "metadata": {},
   "source": [
    "<ol style=\"text-align: right; direction: rtl; float: right; white-space: nowrap;\">\n",
    "    <li>הגדירו משתנה עם השם שלכם.</li>\n",
    "    <li>הגדירו משתנה עם ברכה חגיגית: \"מזל טוב\", \"חג שמח\" או סתם \"יא מגניב אחד\".</li>\n",
    "    <li>חברו את שניהם למשפט.</li>\n",
    "</ol>"
   ]
  },
  {
   "cell_type": "markdown",
   "metadata": {},
   "source": [
    "<p style=\"text-align: right; direction: rtl; float: right;\">\n",
    "לדוגמה: אם השם שלי הוא David והברכה שהוכנסה היא You are cool, המשפט שיצא הוא <samp>David You are cool</samp>.\n",
    "</p>"
   ]
  },
  {
   "cell_type": "code",
   "execution_count": null,
   "metadata": {},
   "outputs": [],
   "source": []
  }
 ],
 "metadata": {
  "kernelspec": {
   "display_name": "Python 3",
   "language": "python",
   "name": "python3"
  },
  "language_info": {
   "codemirror_mode": {
    "name": "ipython",
    "version": 3
   },
   "file_extension": ".py",
   "mimetype": "text/x-python",
   "name": "python",
   "nbconvert_exporter": "python",
   "pygments_lexer": "ipython3",
   "version": "3.6.8"
  }
 },
 "nbformat": 4,
 "nbformat_minor": 2
}
