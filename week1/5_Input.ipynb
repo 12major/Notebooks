{
 "cells": [
  {
   "cell_type": "markdown",
   "metadata": {},
   "source": [
    "<img src=\"images/logo.png\" alt=\"לוגו של מיזם לימוד הפייתון. נחש מצויר בצבעי צהוב וכחול, הנע בין האותיות של שם הקורס: לומדים פייתון. הסלוגן המופיע מעל לשם הקורס הוא מיזם לימוד תכנות בחינם ובעברית.\">"
   ]
  },
  {
   "cell_type": "markdown",
   "metadata": {},
   "source": [
    "# <p style=\"align: right; direction: rtl; float: right;\">קלט</p>"
   ]
  },
  {
   "cell_type": "markdown",
   "metadata": {},
   "source": [
    "## <p style=\"align: right; direction: rtl; float: right;\">מה זה קלט?</p>"
   ]
  },
  {
   "cell_type": "markdown",
   "metadata": {},
   "source": [
    "<p style=\"text-align: right; direction: rtl; float: right;\">\n",
    "אחד הדברים הכיפיים ביותר שקיימים בתכנות, הוא להשתמש ולהגיב לנתונים שנאספו ממקור חיצוני. הנתונים האלו נקראים במינוח מקצועי <dfn>קלט</dfn>.<br>\n",
    "קלט יכול להגיע ממספר מקומות: מטקסט שהמשתמש מזין באמצעות המקלדת, ועד קובץ חיצוני.<br>\n",
    "בשיעורים הקרובים נתמקד בקלט שהמשתמש מזין באמצעות המקלדת, ובעתיד נרחיב את היכולות שלנו עם שיטות נוספות.\n",
    "</p>"
   ]
  },
  {
   "cell_type": "markdown",
   "metadata": {},
   "source": [
    "### <p style=\"align: right; direction: rtl; float: right;\">דוגמאות לקלט</p>"
   ]
  },
  {
   "cell_type": "markdown",
   "metadata": {},
   "source": [
    "<ol style=\"text-align: right; direction: rtl; float: right; white-space: nowrap;\">\n",
    "<li>משתמש מזין בתכנה באמצעות המקלדת את <mark>השם משתמש והסיסמה שלו</mark>.</li>\n",
    "<li>משתמש פותח את הנעילה של הטלפון שלו באמצעות <mark>טביעת האצבע שלו</mark>.</li>\n",
    "<li>משתמש מכניס <mark>תמונה</mark> לתכנת פוטושופ, שמטרתה לעריכת תמונות, כדי לבצע עליה פעולות גרפיות.</li>\n",
    "<li>משתמש פותח <mark>קובץ Word</mark> באמצעות התכנה Microsoft Office.</li>\n",
    "</ol>"
   ]
  },
  {
   "cell_type": "markdown",
   "metadata": {},
   "source": [
    "## <p style=\"align: right; direction: rtl; float: right;\">כיצד משתמשים?</p>"
   ]
  },
  {
   "cell_type": "markdown",
   "metadata": {},
   "source": [
    "<p style=\"text-align: right; direction: rtl; float: right;\">\n",
    "על מנת לקבל קלט מהמשתמש, נשתמש ב־<bdo dir=\"ltr\">`input()`</bdo>, כשבתוך הסוגריים ניתן לשים מחרוזת כלשהי שתוצג למשתמש.<br>\n",
    "מטרת המחרוזת היא להסביר למשתמש שאנחנו מצפים לקלט ממנו, ואיזה סוג של קלט אנחנו מעוניינים לקלוט.<br>\n",
    "בואו נראה איך זה עובד בעזרת דוגמה:\n",
    "</p>"
   ]
  },
  {
   "cell_type": "code",
   "execution_count": 3,
   "metadata": {
    "tags": [
     "code"
    ]
   },
   "outputs": [
    {
     "name": "stdout",
     "output_type": "stream",
     "text": [
      "Please enter your name: Yam\n",
      "Hello, Yam!\n"
     ]
    }
   ],
   "source": [
    "name = input(\"Please enter your name: \")\n",
    "message = \"Hello, \" + name + \"!\"\n",
    "print(message)"
   ]
  },
  {
   "cell_type": "markdown",
   "metadata": {
    "collapsed": true
   },
   "source": [
    "<p style=\"text-align: right; direction: rtl; float: right;\">\n",
    "השורה הראשונה מבקשת קלט מהמשתמש (את השם שלו), ושומרת את הקלט שהזין במשתנה.<br>\n",
    "ברגע שפייתון מגיע ל־<bdo dir=\"ltr\">`input()`</bdo> הוא עוצר כל פעולה, עד שיקבל קלט מהמשתמש.<br>\n",
    "לאחר מכן הוא \"מחליף\" את <bdo dir=\"ltr\">`input()`</bdo> בקלט שקיבל מהמשתמש.<br>\n",
    "לדוגמה, אם הזנתי כקלט Moishalah, מה שיקרה זה:\n",
    "</p>"
   ]
  },
  {
   "cell_type": "markdown",
   "metadata": {
    "tags": [
     "code"
    ]
   },
   "source": [
    "---\n",
    "להמשיך אח\"כ"
   ]
  }
 ],
 "metadata": {
  "kernelspec": {
   "display_name": "Python [conda root]",
   "language": "python",
   "name": "conda-root-py"
  },
  "language_info": {
   "codemirror_mode": {
    "name": "ipython",
    "version": 3
   },
   "file_extension": ".py",
   "mimetype": "text/x-python",
   "name": "python",
   "nbconvert_exporter": "python",
   "pygments_lexer": "ipython3",
   "version": "3.5.3"
  }
 },
 "nbformat": 4,
 "nbformat_minor": 2
}
