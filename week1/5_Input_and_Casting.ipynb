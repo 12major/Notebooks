{
 "cells": [
  {
   "cell_type": "markdown",
   "metadata": {},
   "source": [
    "<img src=\"images/logo.png\" alt=\"לוגו של מיזם לימוד הפייתון. נחש מצויר בצבעי צהוב וכחול, הנע בין האותיות של שם הקורס: לומדים פייתון. הסלוגן המופיע מעל לשם הקורס הוא מיזם לימוד תכנות בחינם ובעברית.\">"
   ]
  },
  {
   "cell_type": "markdown",
   "metadata": {},
   "source": [
    "# <p style=\"align: right; direction: rtl; float: right;\">קלט</p>"
   ]
  },
  {
   "cell_type": "markdown",
   "metadata": {},
   "source": [
    "## <p style=\"align: right; direction: rtl; float: right;\">מה זה קלט?</p>"
   ]
  },
  {
   "cell_type": "markdown",
   "metadata": {},
   "source": [
    "<p style=\"text-align: right; direction: rtl; float: right;\">\n",
    "אחד הדברים הכיפיים ביותר שקיימים בתכנות, הוא להשתמש ולהגיב לנתונים שנאספו ממקור חיצוני. הנתונים האלו נקראים במינוח מקצועי <dfn>קלט</dfn>.<br>\n",
    "קלט יכול להגיע ממספר מקומות: מטקסט שהמשתמש מזין באמצעות המקלדת, ועד קובץ חיצוני.<br>\n",
    "בשיעורים הקרובים נתמקד בקלט שהמשתמש מזין באמצעות המקלדת, ובעתיד נרחיב את היכולות שלנו עם שיטות נוספות.\n",
    "</p>"
   ]
  },
  {
   "cell_type": "markdown",
   "metadata": {},
   "source": [
    "### <p style=\"align: right; direction: rtl; float: right;\">דוגמאות לקלט</p>"
   ]
  },
  {
   "cell_type": "markdown",
   "metadata": {},
   "source": [
    "<ol style=\"text-align: right; direction: rtl; float: right; white-space: nowrap;\">\n",
    "<li>משתמש מזין בתכנה באמצעות המקלדת את <mark>שם המשתמש והסיסמה שלו</mark>.</li>\n",
    "<li>משתמש ב־Google מזין <mark>שאילתה</mark>, ואז <mark>לוחץ על \"חיפוש\"</mark>.</li>\n",
    "<li>משתמש מזין את <mark>הקוד הסודי</mark> שלו בכספומט.</li>\n",
    "<li>משתמש פותח את הנעילה של הטלפון שלו באמצעות <mark>טביעת האצבע שלו</mark>.</li>\n",
    "<li>משתמש מכניס <mark>תמונה</mark> לתכנת Photoshop, שתכליתה עריכת תמונות, כדי לבצע עליה פעולות גרפיות.</li>\n",
    "<li>משתמש פותח <mark>קובץ Word</mark> באמצעות התכנה Microsoft Office.</li>\n",
    "</ol>"
   ]
  },
  {
   "cell_type": "markdown",
   "metadata": {},
   "source": [
    "## <p style=\"align: right; direction: rtl; float: right;\">כיצד מקבלים קלט?</p>"
   ]
  },
  {
   "cell_type": "markdown",
   "metadata": {},
   "source": [
    "<p style=\"text-align: right; direction: rtl; float: right;\">\n",
    "על מנת לקבל קלט מהמשתמש באמצעות המקלדת, נשתמש ב־<code dir=\"ltr\">input()</code>, כשבתוך הסוגריים נכתוב מחרוזת כלשהי שתוצג למשתמש (ראו דוגמה).<br>\n",
    "מטרת המחרוזת – להסביר למשתמש שאנחנו מצפים ממנו לקלט, ואיזה סוג של קלט זה הולך להיות.<br>\n",
    "בואו נראה איך זה עובד:\n",
    "</p>"
   ]
  },
  {
   "cell_type": "code",
   "execution_count": null,
   "metadata": {
    "collapsed": true,
    "tags": [
     "code"
    ]
   },
   "outputs": [],
   "source": [
    "name = input(\"Please enter your name: \")\n",
    "message = \"Hello, \" + name + \"!\"\n",
    "print(message)"
   ]
  },
  {
   "cell_type": "markdown",
   "metadata": {
    "collapsed": true
   },
   "source": [
    "<p style=\"text-align: right; direction: rtl; float: right;\">\n",
    "השורה הראשונה היא החידוש פה: בשורה זו אנחנו מבקשים קלט מהמשתמש (את השם שלו), ושומרים את הקלט שהזין במשתנה בשם <code>name</code>.<br>\n",
    "ברגע שפייתון מגיע ל־<code dir=\"ltr\">input()</code> הוא עוצר כל פעולה, עד שיקבל קלט מהמשתמש.<br>\n",
    "לאחר מכן הוא \"מחליף\" את <code dir=\"ltr\">input()</code> בקלט שקיבל מהמשתמש.<br>\n",
    "לדוגמה, אם הזנתי כקלט <em>Moishalah</em>, מה שיקרה בפועל אלו השורות הבאות (השוו עם הקוד מלמעלה):\n",
    "</p>"
   ]
  },
  {
   "cell_type": "code",
   "execution_count": null,
   "metadata": {
    "collapsed": true,
    "tags": [
     "code"
    ]
   },
   "outputs": [],
   "source": [
    "name = \"Moishalah\"\n",
    "message = \"Hello, \" + name + \"!\"\n",
    "print(message)"
   ]
  },
  {
   "cell_type": "markdown",
   "metadata": {},
   "source": [
    "### <p style=\"align: right; direction: rtl; float: right;\">תרגול</p>"
   ]
  },
  {
   "cell_type": "markdown",
   "metadata": {},
   "source": [
    "<p style=\"text-align: right; direction: rtl; float: right;\">\n",
    "כתבו קוד המבקש כקלט שלושה נתונים: שם פרטי, שם משפחה ותאריך לידה.<br>\n",
    "הקוד יציג למשתמש ברכה מחמיאה וחביבה.<br>\n",
    "לדוגמה, עבור הנתונים <code>Israel</code>, <code>Cohen</code>, <code>22/07/1992</code>, הוא יציג:\n",
    "</p>"
   ]
  },
  {
   "cell_type": "markdown",
   "metadata": {},
   "source": [
    "> Hi Israel Cohen! Your birthday is on 22/07/1992."
   ]
  },
  {
   "cell_type": "code",
   "execution_count": null,
   "metadata": {
    "collapsed": true
   },
   "outputs": [],
   "source": []
  },
  {
   "cell_type": "markdown",
   "metadata": {},
   "source": [
    "## <p style=\"align: right; direction: rtl; float: right;\">המרת ערכים</p>"
   ]
  },
  {
   "cell_type": "markdown",
   "metadata": {},
   "source": [
    "<p style=\"text-align: right; direction: rtl; float: right;\">\n",
    "מי מכם שזוכר היטב את השיעורים הקודמים, ודאי יודע שלכל ערך שנכתוב יש סוג (או \"<dfn>טיפוס</dfn>\").\n",
    "</p>"
   ]
  },
  {
   "cell_type": "code",
   "execution_count": null,
   "metadata": {
    "collapsed": true
   },
   "outputs": [],
   "source": [
    "type(5)"
   ]
  },
  {
   "cell_type": "code",
   "execution_count": null,
   "metadata": {
    "collapsed": true
   },
   "outputs": [],
   "source": [
    "type(1.5)"
   ]
  },
  {
   "cell_type": "code",
   "execution_count": null,
   "metadata": {
    "collapsed": true
   },
   "outputs": [],
   "source": [
    "type('Hello')"
   ]
  },
  {
   "cell_type": "markdown",
   "metadata": {},
   "source": [
    "<p style=\"text-align: right; direction: rtl; float: right;\">\n",
    "אם אתם מרגישים שממש הספקתם לשכוח, שווה לכם להציץ <a href=\"3_Types.ipynb\">בפרק 3</a>, שמלמד על טיפוסים.\n",
    "</p>"
   ]
  },
  {
   "cell_type": "markdown",
   "metadata": {},
   "source": [
    "<p style=\"text-align: right; direction: rtl; float: right;\">\n",
    "אם נשתעשע מעט עם <code dir=\"ltr\">input()</code>, נגלה מהר מאוד שלפעמים הקלט מהמשתמש לא מגיע אלינו בדיוק כמו שרצינו.<br>\n",
    "בואו נראה דוגמה:\n",
    "</p>"
   ]
  },
  {
   "cell_type": "code",
   "execution_count": null,
   "metadata": {
    "collapsed": true
   },
   "outputs": [],
   "source": [
    "moshe_apples = input(\"How many apples does Moshe have? \")\n",
    "orly_apples = input(\"How many apples does Orly have? \")\n",
    "apples_together = moshe_apples + orly_apples\n",
    "print(\"Together, they have \" + apples_together + \" apples!\")"
   ]
  },
  {
   "cell_type": "markdown",
   "metadata": {},
   "source": [
    "### <p style=\"align: right; direction: rtl; float: right;\">תרגול</p>"
   ]
  },
  {
   "cell_type": "markdown",
   "metadata": {},
   "source": [
    "<p style=\"text-align: right; direction: rtl; float: right;\">\n",
    "הזינו את הנתונים הבאים, בתכנית התפוחים של משה ואורלי, ונסו להבין מה קרה:\n",
    "</p>"
   ]
  },
  {
   "cell_type": "markdown",
   "metadata": {},
   "source": [
    "<ol style=\"text-align: right; direction: rtl; float: right; white-space: nowrap; list-style-position: outside; display: inline-block;\">\n",
    "<li style=\"white-space: nowrap;\">למשה יש <code>0</code> תפוחים, ולאורלי יש <code>5</code> תפוחים.</li>\n",
    "<li style=\"white-space: nowrap;\">למשה יש <code>2</code> תפוחים, ולאורלי יש <code>3</code> תפוחים.</li>\n",
    "<li style=\"white-space: nowrap;\">למשה יש <code dir=\"ltr\">-15</code> תפוחים, ולאורלי יש <code>2</code> תפוחים.</li>\n",
    "<li style=\"white-space: nowrap;\">למשה יש <code>2</code> תפוחים, ולאורלי יש <code dir=\"ltr\">-15</code> תפוחים.</li>\n",
    "<li style=\"white-space: nowrap;\">למשה יש <code>nananana</code> תפוחים, ולאורלי יש <code dir=\"ltr\">batman!</code> תפוחים.</li>\n",
    "</ol>"
   ]
  },
  {
   "cell_type": "markdown",
   "metadata": {},
   "source": [
    "### <p style=\"align: right; direction: rtl; float: right;\">אז מה קרה בתרגול?</p>"
   ]
  },
  {
   "cell_type": "markdown",
   "metadata": {},
   "source": [
    "<p style=\"text-align: right; direction: rtl; float: right;\">\n",
    "למרות שרצינו להתייחס לקלט כנתון מספרי (<code>int</code>), פייתון החליט להתייחס אל הקלט כמחרוזת (<code>str</code>), ולכן חיבר בין מחרוזות ולא בין מספרים.<br>\n",
    "מכאן אנחנו לומדים חוק חשוב מאוד, שאם ניטיב לזכור אותו יחסוך לנו הרבה תקלות בעתיד:\n",
    "</p>"
   ]
  },
  {
   "cell_type": "markdown",
   "metadata": {},
   "source": [
    "<div class=\"align-center\" style=\"display: flex; text-align: right; direction: rtl;\">\n",
    "    <div style=\"display: flex; width: 10%; float: right; \">\n",
    "        <img src=\"images/warning.png\" style=\"height: 50px !important;\" alt=\"אזהרה!\"> \n",
    "    </div>\n",
    "    <div style=\"width: 90%\">\n",
    "        <p style=\"text-align: right; direction: rtl;\">\n",
    "            כשאנחנו מקבלים קלט באמצעות <code dir=\"ltr\">input()</code>, הערך שנקבל יהיה תמיד מטיפוס מחרוזת.\n",
    "        </p>\n",
    "    </div>\n",
    "</div>"
   ]
  },
  {
   "cell_type": "markdown",
   "metadata": {},
   "source": [
    "<p style=\"text-align: right; direction: rtl; float: right;\">\n",
    "שימו לב שניסיון לעשות פעולות בין טיפוסים שונים (כמו מחרוזת ומספר שלם) עלול לגרום לכם לשגיאות בתרגולים הקרובים.<br>\n",
    "נסו, לדוגמה, להריץ לדוגמה את הקוד הבא:\n",
    "</p>"
   ]
  },
  {
   "cell_type": "code",
   "execution_count": null,
   "metadata": {
    "collapsed": true
   },
   "outputs": [],
   "source": [
    "moshe_apples = input(\"How many apples does Moshe have? \")\n",
    "moshe_apples = moshe_apples + 1  # Give Moshe a single apple\n",
    "print(moshe_apples)"
   ]
  },
  {
   "cell_type": "markdown",
   "metadata": {},
   "source": [
    "### <p style=\"align: right; direction: rtl; float: right;\">המרת טיפוסים (Casting)</p>"
   ]
  },
  {
   "cell_type": "markdown",
   "metadata": {},
   "source": [
    "<p style=\"text-align: right; direction: rtl; float: right;\">\n",
    "    שפכנו ליטר מים לקערה עם 5 קוביות קרח. כמה יש בה עכשיו?<br>\n",
    "    קשה לנו מאוד לענות על השאלה מכיוון שהיא מנוסחת גרוע ומערבת דברים מסוגים שונים. מאותה סיבה בדיוק לפייתון קשה עם הקוד מלמעלה.<br>\n",
    "    נוכל להקפיא את המים ולמדוד כמה קרח יש בקערה, או להמיס את הקרח ולמדוד כמה מים יש בקערה.<br>\n",
    "    בפייתון נצטרך להחליט מה אנחנו רוצים לעשות, ולהמיר את הערכים שאנחנו עובדים איתם לטיפוסים המתאימים לפני שנבצע את הפעולה.\n",
    "</p>"
   ]
  },
  {
   "cell_type": "markdown",
   "metadata": {},
   "source": [
    "<p style=\"text-align: right; direction: rtl; float: right;\">\n",
    "נזכיר שהטיפוס של כל קלט שנקבל בעזרת <code dir=\"ltr\">input()</code> תמיד יהיה מחרוזת (<code dir=\"ltr\">str</code>):\n",
    "</p>"
   ]
  },
  {
   "cell_type": "code",
   "execution_count": null,
   "metadata": {
    "collapsed": true
   },
   "outputs": [],
   "source": [
    "color = input(\"What is your favorite color? \")\n",
    "print(\"The type of the input \" + color + \" is...\")\n",
    "type(color)"
   ]
  },
  {
   "cell_type": "code",
   "execution_count": null,
   "metadata": {
    "collapsed": true
   },
   "outputs": [],
   "source": [
    "age = input(\"What is your age? \")\n",
    "print(\"The type of the input \" + age + \" is...\")\n",
    "type(age)"
   ]
  },
  {
   "cell_type": "markdown",
   "metadata": {},
   "source": [
    "<p style=\"text-align: right; direction: rtl; float: right;\">\n",
    "כזכור, כל עוד הקלט שלנו הוא מסוג מחרוזת, פעולות כמו חיבור שלו עם מספר יכשלו.<br>\n",
    "לכן נצטרך לדאוג ששניהם יהיו מאותו סוג על ידי המרה של אחד הערכים מסוג אחד לסוג אחר.<br>\n",
    "תהליך הפיכת ערך לסוג טיפוס אחר נקרא <dfn>המרת טיפוסים</dfn>, או <dfn>Casting</dfn> / <dfn>Type Conversion</dfn>.<br>\n",
    "אם נבחן את בעיית התפוחים של משה מהכותרת הקודמת:\n",
    "</p>"
   ]
  },
  {
   "cell_type": "code",
   "execution_count": null,
   "metadata": {
    "collapsed": true
   },
   "outputs": [],
   "source": [
    "moshe_apples = input(\"How many apples does Moshe have? \")\n",
    "moshe_apples = moshe_apples + 1  # Give Moshe a single apple\n",
    "print(moshe_apples)"
   ]
  },
  {
   "cell_type": "markdown",
   "metadata": {},
   "source": [
    "<p style=\"text-align: right; direction: rtl; float: right;\">\n",
    "נראה שהקוד לא יעבוד, מכיוון שאין אפשרות לחבר בין מחרוזת (מספר התפוחים של משה מהקלט של המשתמש) לבין מספר (ה־1 שאנחנו רוצים להוסיף).<br>\n",
    "מכיוון שהמטרה היא להוסיף תפוח 1 למספר מסוים של תפוחים, נבחר להמיר את <code>moshe_apples</code> להיות מספר שלם (<code>int</code>) במקום מחרוזת (<code>str</code>).<br>\n",
    "נעשה זאת כך:\n",
    "</p>"
   ]
  },
  {
   "cell_type": "code",
   "execution_count": null,
   "metadata": {
    "collapsed": true
   },
   "outputs": [],
   "source": [
    "moshe_apples = input(\"How many apples does Moshe have? \")\n",
    "moshe_apples = int(moshe_apples)  # <--- Casting\n",
    "moshe_apples = moshe_apples + 1\n",
    "print(moshe_apples)"
   ]
  },
  {
   "cell_type": "markdown",
   "metadata": {},
   "source": [
    "<p style=\"text-align: right; direction: rtl; float: right;\">\n",
    "איזה כיף, המרנו את מספר התפוחים של משה לערך מטיפוס שלם (שורה 2), ועכשיו הקוד עובד!<br>\n",
    "שימו לב שעכשיו אם נרצה להדפיס את מספר התפוחים לצד משפט שאומר \"למשה יש X תפוחים\", אנחנו עלולים להתקל בבעיה.<br>\n",
    "המשפט שאנחנו רוצים להדפיס הוא <code>str</code>, ומספר התפוחים שחישבנו וננסה לשרשר אליו יהיה <code>int</code>.<br>\n",
    "ראו איך זה ישפיע על התכנית:\n",
    "</p>"
   ]
  },
  {
   "cell_type": "code",
   "execution_count": null,
   "metadata": {
    "collapsed": true
   },
   "outputs": [],
   "source": [
    "moshe_apples = input(\"How many apples does Moshe have? \")\n",
    "moshe_apples = int(moshe_apples)  # <--- Casting\n",
    "moshe_apples = moshe_apples + 1\n",
    "print(\"Moshe have \" + moshe_apples + \" apples\")"
   ]
  },
  {
   "cell_type": "markdown",
   "metadata": {},
   "source": [
    "<p style=\"text-align: right; direction: rtl; float: right;\">\n",
    "פייתון התריע בפנינו שיש פה בעיה: בשורה האחרונה, הוא לא מצליח לחבר את מספר התפוחים עם המחרוזות הנמצאות בצדדיו.<br>\n",
    "מה הפתרון?<br>\n",
    "אם אמרתם להמיר את מספר התפוחים של משה למחרוזת, זה אכן יעבוד. נעשה את זה ככה:\n",
    "</p>"
   ]
  },
  {
   "cell_type": "code",
   "execution_count": null,
   "metadata": {
    "collapsed": true
   },
   "outputs": [],
   "source": [
    "moshe_apples = input(\"How many apples does Moshe have? \")\n",
    "moshe_apples = int(moshe_apples)  # <--- Casting to int\n",
    "moshe_apples = moshe_apples + 1\n",
    "moshe_apples = str(moshe_apples)  # <--- Casting to str\n",
    "print(\"Moshe have \" + moshe_apples + \" apples\")"
   ]
  },
  {
   "cell_type": "markdown",
   "metadata": {},
   "source": [
    "### <p style=\"align: right; direction: rtl; float: right;\">טבלת המרה</p>"
   ]
  },
  {
   "cell_type": "markdown",
   "metadata": {},
   "source": [
    "<p style=\"text-align: right; direction: rtl; float: right;\">\n",
    "כדי להמיר לסוג מסוים, כל מה שאתם צריכים זה לדעת את הסוג שאליו אתם רוצים להמיר.<br>\n",
    "משם פשוט בחרו את השם הרלוונטי מהטבלה שאתם כבר מכירים:\n",
    "</p>"
   ]
  },
  {
   "cell_type": "markdown",
   "metadata": {},
   "source": [
    "| צורת המרה  |    שם בפייתון | שם באנגלית | שם בעברית |\n",
    "|:----------------|:----------|:------------|----------:|\n",
    "|  str(something)  | str       | **str**ing  | מחרוזת     |\n",
    "|  int(something)  | int       | **int**eger | מספר שלם   |\n",
    "| float(something) | float     | float       | מספר עשרוני |"
   ]
  },
  {
   "cell_type": "markdown",
   "metadata": {},
   "source": [
    "## <p style=\"align: right; direction: rtl; float: right;\">תרגול</p>"
   ]
  },
  {
   "cell_type": "markdown",
   "metadata": {},
   "source": [
    "### <p style=\"align: right; direction: rtl; float: right;\">קרמבו</p>"
   ]
  },
  {
   "cell_type": "markdown",
   "metadata": {},
   "source": [
    "<p style=\"text-align: right; direction: rtl; float: right;\">\n",
    "לגברת עמיטלי מחוות ביסקוויט יש מפעל משוגע לייצור קרמבו.<br>\n",
    "במפעל הקרמבו יש תפקיד להרכבת קופסאות קרמבו, אותו מאייש אדון בשם מרקוב.<br>\n",
    "עבור כל קופסה חדשה שמרקוב הולך למלא בקרמבו טעים, הוא מחליט על ממדיה של אותה קופסה: כמה יחידות קרמבו יכנסו לגובה, כמה יכנסו לרוחב וכמה יכנסו לאורך החבילה.<br>\n",
    "בנו תוכנה שתעזור למרקוב לחשב את כמות הקרמבו שהוא הכניס בתבנית: <span style=\"display: inline-flex; direction: ltr\">$w \\times h \\times l$</span>, רוחב כפול גובה כפול אורך.<br>\n",
    "<em>לדוגמה</em>: התוכנה תקבל ממרקוב כקלט 3 עבור האורך, 4 עבור הרוחב ו־2.5 עבור הגובה, ותחזיר את הפלט <samp>30</samp>, שהוא <span style=\"display: inline-flex; direction: ltr\">$2.5 \\times 3 \\times 4$</span>.\n",
    "</p>"
   ]
  },
  {
   "cell_type": "code",
   "execution_count": null,
   "metadata": {
    "collapsed": true
   },
   "outputs": [],
   "source": []
  },
  {
   "cell_type": "markdown",
   "metadata": {},
   "source": [
    "### <p style=\"align: right; direction: rtl; float: right;\">תה אמריקה II</p>"
   ]
  },
  {
   "cell_type": "markdown",
   "metadata": {},
   "source": [
    "<p style=\"text-align: right; direction: rtl; float: right;\">\n",
    "חזרו ל<a href=\"2_Arithmetics.ipynb\">מחברת 2</a>. זוכרים את התרגיל האחרון שהיה שם, על התה והמרת פרנהייט לצלזיוס?<br>\n",
    "בואו נבנה מחשבון פרנהייט לצלזיוס! בקשו מהמשתמש להכניס מספר בפרנהייט, והדפיסו את המספר בצלזיוס.<br>\n",
    "להזכירכם, הנוסחה היא: <code>(5 חלקי 9) כפול (מעלות בפרנהייט פחות 32)</code>, או בכתיב מתמטי, <span style=\"display: inline-flex\">$C = \\frac{5}{9}\\times(F - 32)$</span>.<br>\n",
    "לדוגמה: עבור הקלט <em>212</em> התכנה תדפיס 100, מכיוון ש־212 פרנהייט הם 100 צלזיוס.\n",
    "</p>"
   ]
  },
  {
   "cell_type": "code",
   "execution_count": null,
   "metadata": {
    "collapsed": true
   },
   "outputs": [],
   "source": []
  },
  {
   "cell_type": "markdown",
   "metadata": {},
   "source": [
    "### <p style=\"align: right; direction: rtl; float: right;\">מסטיק בזוקה</p>"
   ]
  },
  {
   "cell_type": "markdown",
   "metadata": {},
   "source": [
    "<p style=\"text-align: right; direction: rtl; float: right;\">\n",
    "מסטיק בזוקה קובע שעד גיל 21 תגיעו לירח. אנחנו פחות אופטימיים (לנו פשוט זה פחות עבד), ומנבאים לך הצלחה עד גיל 90.<br>\n",
    "כתוב תוכנה שמקבלת כקלט את השם שלך ואת הגיל שלך, ומחשבת עוד כמה שנים תגיע לירח לפי הנבואה שלנו.<br>\n",
    "התוכנה תדפיס את המשפט: <q dir=\"ltr\">X, wait another Y years.</q>, כאשר X יוחלף בשמך ו־Y יוחלף במספר השנים שתצטרך לחכות עד גיל 90.<br>\n",
    "<em>לדוגמה</em>: אם הכנסתך לתכנה שגילך הוא 25, התכנה תדפיס:\n",
    "</p>"
   ]
  },
  {
   "cell_type": "markdown",
   "metadata": {},
   "source": [
    "> Yam, wait another 65 years."
   ]
  },
  {
   "cell_type": "code",
   "execution_count": null,
   "metadata": {
    "collapsed": true
   },
   "outputs": [],
   "source": []
  }
 ],
 "metadata": {
  "kernelspec": {
   "display_name": "Python 3",
   "language": "python",
   "name": "python3"
  },
  "language_info": {
   "codemirror_mode": {
    "name": "ipython",
    "version": 3
   },
   "file_extension": ".py",
   "mimetype": "text/x-python",
   "name": "python",
   "nbconvert_exporter": "python",
   "pygments_lexer": "ipython3",
   "version": "3.6.8"
  }
 },
 "nbformat": 4,
 "nbformat_minor": 2
}
