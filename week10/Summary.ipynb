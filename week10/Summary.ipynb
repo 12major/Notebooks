{
 "cells": [
  {
   "cell_type": "markdown",
   "metadata": {},
   "source": [
    "<img src=\"images/logo.png\" alt=\"לוגו של מיזם לימוד הפייתון. נחש מצויר בצבעי צהוב וכחול, הנע בין האותיות של שם הקורס: לומדים פייתון. הסלוגן המופיע מעל לשם הקורס הוא מיזם לימוד תכנות בחינם ובעברית.\">"
   ]
  },
  {
   "cell_type": "markdown",
   "metadata": {},
   "source": [
    "# <span style=\"text-align: right; direction: rtl; float: right; clear: both;\"> תרגילים </span> "
   ]
  },
  {
   "cell_type": "markdown",
   "metadata": {},
   "source": [
    "<p style=\"text-align: right; direction: rtl;\">\n",
    "    כלים מומלצים:<br>\n",
    "    <ul>\n",
    "        <li><a href=\"https://regexr.com/\">RegExr</a></li>\n",
    "        <li><a href=\"https://www.debuggex.com/\">Debuggex</a></li>\n",
    "        <li><a href=\"https://regex101.com/\">regex101</a></li>\n",
    "    </ul>\n",
    "</p>"
   ]
  },
  {
   "cell_type": "markdown",
   "metadata": {},
   "source": [
    "## <span style=\"text-align: right; direction: rtl; float: right; clear: both;\"> שמות טלפונים וכתובות </span> "
   ]
  },
  {
   "cell_type": "markdown",
   "metadata": {},
   "source": [
    "### <span style=\"text-align: right; direction: rtl; float: right; clear: both;\"> שמות </span> "
   ]
  },
  {
   "cell_type": "markdown",
   "metadata": {},
   "source": [
    "<p style=\"text-align: right; direction: rtl; float: right; clear: both;\">\n",
    "    כתבו ביטוי רגולרי הבודק עבור מחרוזת שהתקבלה האם היא מתאימה לתבנית של שם פרטי ושם משפחה.<br>\n",
    "    שמות נתאר בצורה הבאה:<br>\n",
    "    שם פרטי באות גדולה ושם משפחה באות גדולה. השמות יכילו אותיות בלבד כאשר אות גדולה תופיע רק בתחילת השם בלבד (ולא בשאר השם).<br>\n",
    "    לדוגמה:<br>\n",
    "    <samp>Alice Bob</samp> הוא שם תקני.<br>\n",
    "    לעומת זאת:<br>\n",
    "    <samp>ALice bob</samp> או <samp>alice Bob</samp> אינם תקניים.\n",
    "\n",
    "</p>"
   ]
  },
  {
   "cell_type": "code",
   "execution_count": null,
   "metadata": {},
   "outputs": [],
   "source": []
  },
  {
   "cell_type": "markdown",
   "metadata": {},
   "source": [
    "### <span style=\"text-align: right; direction: rtl; float: right; clear: both;\"> טלפונים </span> "
   ]
  },
  {
   "cell_type": "markdown",
   "metadata": {},
   "source": [
    "<p style=\"text-align: right; direction: rtl; clear: both;\">\n",
    "    כתבו ביטוי רגולרי הבודק עבור מחרוזת שהתקבלה האם היא מתאימה לתבנית של טלפונים, נתמוך ב-2 סוגים של טלפונים:<br>\n",
    "    X מציין ספרה.<br>\n",
    "    <ul style=\"text-align: right; direction: rtl;\">\n",
    "        <li> טלפון ביתי בתצורה: 0X-XXXXXXX </li>\n",
    "        <li> טלפון סלולרי: 05X-XXXXXXX </li>\n",
    "    </ul>\n",
    "</p>\n",
    "<p style=\"text-align: right; direction: rtl; clear: both; float:right;\">\n",
    "לדוגמה:<br>\n",
    "    <samp>04-1234567</samp> הוא מספר טלפון ביתי תקין.<br>\n",
    "    <samp>054-1234567</samp> הוא מספר טלפון סלולרי תקין.<br>\n",
    "    <samp>254-1234567</samp> הוא מספר טלפון סלולרי <strong>לא</strong> תקין.<br>\n",
    "    <samp>1234567 254</samp> הוא מספר טלפון סלולרי <strong>לא</strong> תקין כי יש רווח והמספר מתחיל ב-2.<br>\n",
    "    \n",
    "</p>"
   ]
  },
  {
   "cell_type": "code",
   "execution_count": null,
   "metadata": {},
   "outputs": [],
   "source": []
  },
  {
   "cell_type": "markdown",
   "metadata": {},
   "source": [
    "### <span style=\"text-align: right; direction: rtl; float: right; clear: both;\"> כתובות </span> "
   ]
  },
  {
   "cell_type": "markdown",
   "metadata": {},
   "source": [
    "<p style=\"text-align: right; direction: rtl; clear: both;\">\n",
    "    כתבו ביטוי רגולרי הבודק עבור מחרוזת שהתקבלה האם היא מתאימה לתבנית של כתובות:<br>\n",
    "</p>\n",
    "<p style=\"text-align: right; direction: ltr;\">\n",
    "    <samp>[Street Name] [Description] [Number], [Country] </samp><br>\n",
    "    <ul style=\"text-align: right; direction: rtl;\">\n",
    "        <li> <samp>[Street Name]</samp> הוא שם הרחוב המורכב ממילים (לפחות מילה אחת) המתחילות באות גדולה ושאר האותיות קטנות.</li>\n",
    "        <li> <samp>[Description]</samp> הוא אחד מבין: St, Av, Rd, Dr (שהם Street, Avenue, Road, Drive).</li>\n",
    "        <li> <samp>[Number]</samp> הוא מספר בן ספרה אחת עד שלוש ספרות.</li>\n",
    "        <li> <samp>[Country]</samp> בדומה לשם הרחוב, שם המדינה מורכב ממילים (לפחות אחת) המתחילות באות גדולה ושאר האותיות קטנות. </li>\n",
    "    </ul>\n",
    "</p>\n",
    "<p style=\"text-align: right; direction: rtl; clear: both; float:right;\">שימו-לב! הפסיק המופיע לאחר מספר הרחוב הוא חלק מהתבנית.<br>\n",
    "    לדוגמה:<br>\n",
    "    <samp>Aliahu Hanavie St 12, Nicargua</samp> היא כתובת תקינה.<br>\n",
    "    <samp>ALiahu Hanavie TG 1222, nicargua</samp> היא כתובת לא תקינה.<br>\n",
    "</p>\n",
    "    \n",
    "    \n",
    "</p>"
   ]
  },
  {
   "cell_type": "code",
   "execution_count": null,
   "metadata": {},
   "outputs": [],
   "source": []
  },
  {
   "cell_type": "markdown",
   "metadata": {},
   "source": [
    "## <span style=\"text-align: right; direction: rtl; float: right; clear: both;\"> נתיבים במחשב </span> "
   ]
  },
  {
   "cell_type": "markdown",
   "metadata": {},
   "source": [
    "<p style=\"text-align: right; direction: rtl;\">\n",
    "    בתרגיל זה נכתוב ביטוי רגולרי שמוצא התאמה עבור נתיבים של קבצים במחשב.<br>\n",
    "    לשם הפשטות נעסוק בנתיבים במערכות הפעלה מבוססות Linux  ובנתיבים ללא רווחים.<br>\n",
    "    כל הנתיבים יתחילו ב-<samp>'/'</samp> ולאחר מכן שמות התיקיות אליהם הנתיב מוביל, מופרדות ב-<samp>'/'</samp>. לבסוף יופיע שם הקובץ, לאחריו נקודה וסיומת המייצגת את סוג הקובץ.<br>\n",
    "    לדוגמה:<br>\n",
    "</p>\n",
    "<p style=\"text-align: right; direction: ltr;\">\n",
    "    <samp>/home/i_am/folders/in_the/path/of/filesystem/i_am_file.txt</samp>\n",
    "</p>\n",
    "<p style=\"text-align: right; direction: rtl;\">\n",
    "כתבו ביטוי רגולרי המוצא נתיבים מהסוג שתואר. החזירו את שמות התיקיות בנתיב, את שם הקובץ ואת סוגו בשלוש קבוצות.<br>\n",
    "    לדוגמה:\n",
    "</p>\n",
    "<p style=\"text-align: left; direction: ltr;\">\n",
    "    <samp>/home/is/deep/in/the/filesystem/myfile.txt</samp>\n",
    "</p>\n",
    "<p style=\"text-align: right; direction: rtl;\">\n",
    "הוא ביטוי תקין ובו שמות התיקיות הן <samp>home, is, deep, in, the, filesystem</samp> שם הקובץ הוא: <samp>myfile</samp> והסיומת היא <samp>txt</samp> \n",
    "</p>\n",
    "<p style=\"text-align: left; direction: ltr;\">\n",
    "    <samp>C://ho me/is/deep/in/the/filesystem/myfile.txt</samp>\n",
    "</p>\n",
    "<p style=\"text-align: right; direction: rtl;\">\n",
    "    הוא לא שם תקין כי אינו מתחיל ב-<samp>'/'</samp> ומכיל רווח בתיקייה הראשונה. \n",
    "</p>"
   ]
  },
  {
   "cell_type": "code",
   "execution_count": null,
   "metadata": {},
   "outputs": [],
   "source": []
  },
  {
   "cell_type": "markdown",
   "metadata": {},
   "source": [
    "## <span style=\"text-align: right; direction: rtl; float: right; clear: both;\"> סיסמאות </span> "
   ]
  },
  {
   "cell_type": "markdown",
   "metadata": {},
   "source": [
    "<p style=\"text-align: right; direction: rtl;\">\n",
    "    כתבו ביטוי רגולרי הבודק עבור מחרוזת שהתקבלה האם היא מתאימה לתבנית של סיסמה.<br>\n",
    "    סיסמה נתאר בצורה הבאה:<br>\n",
    "    <ul style=\"text-align: right; direction: rtl;\">\n",
    "        <li> לפחות 8 תווים.</li>\n",
    "        <li> לא מכיל רווחים.</li>\n",
    "        <li> מכיל לפחות שתי ספרות.</li>\n",
    "        <li> מכיל לפחות שתי אותיות גדולות ושתי אותיות קטנות.</li>\n",
    "        <li> מכיל לפחות תו אחד מיוחד שאינו ספרה או אות (וגם לא רווח).</li>\n",
    "    </ul>        \n",
    "</p>\n",
    "<p style=\"text-align: right; direction: rtl;\">\n",
    "לדוגמה:<br>\n",
    "    <samp>IAmstrong!P@55w0rd</samp> היא סיסמה תקינה.<br>\n",
    "    לעומת זאת,<br>\n",
    "    <samp>iampassw0rD</samp> היא סיסמה לא תקינה כי אינה מכילה מספיק ספרות ואותיות גדולות ואין בה אף תו מיוחד.<br>\n",
    "</p>"
   ]
  },
  {
   "cell_type": "code",
   "execution_count": null,
   "metadata": {},
   "outputs": [],
   "source": []
  },
  {
   "cell_type": "markdown",
   "metadata": {},
   "source": [
    "## <span style=\"text-align: right; direction: rtl; float: right; clear: both;\"> אתרי אינטרנט </span> "
   ]
  },
  {
   "cell_type": "markdown",
   "metadata": {},
   "source": [
    "<p style=\"text-align: right; direction: rtl;\">\n",
    "    כתבו ביטוי רגולרי הבודק עבור מחרוזת שהתקבלה האם היא מתאימה לתבנית של אתר אינטרנט.<br>\n",
    "    אתר אינטרנט נתאר בצורה הבאה:<br>\n",
    "</p>\n",
    "<p style=\"text-align: right; direction: rtl;\">    \n",
    "    <ul style=\"text-align: right; direction: rtl;\">\n",
    "        <li>מתחיל ב-www.</li>\n",
    "        <li>מכיל מילים המתארות את שם האתר המורבות מאותיות גדולות, קטנות ומקפים. המילים מופרדות בנקודה.</li>\n",
    "        <li>הכתובת מסתיימת ב-<samp dir=\"ltr\">.com</samp> או <samp dir=\"ltr\">.co.[COUNTRY_CODE]</samp> כאשר [COUNTRY_CODE] הוא 2 אותיות אנגליות קטנות המציינות את המדינה אליה האתר שייך.\n",
    "    </ul>        \n",
    "</p>\n",
    "<p style=\"text-align: right; direction: rtl;\">\n",
    "לדוגמה:<br>\n",
    "    <samp dir=\"ltr\">www.i-am-a-website.co.uk</samp> היא כתובת אתר אינטרנט תקינה.<br>\n",
    "    לעומת זאת:<br>\n",
    "    <samp dir=\"ltr\">ww.ia5.am.not_a.webSite.</samp> היא כתובת לא תקינה כי היא מכילה ספרה, קו תחתון, אינה מתחילה ב-www ולא מסתיימת בסיומת <samp dir=\"ltr\">.com</samp> או <samp dir=\"ltr\">.co.[COUNTRY_CODE]</samp><br><br>\n",
    "    על הביטוי הרגולרי שתכתבו להחזיר את הקבוצות עבור שם האתר (שאלו כל המילים המופרדות בנקודה שאינן התחילית ואינן הסיומת) ועבור קוד המדינה (אם קיים).\n",
    "</p>"
   ]
  },
  {
   "cell_type": "code",
   "execution_count": null,
   "metadata": {},
   "outputs": [],
   "source": []
  },
  {
   "cell_type": "markdown",
   "metadata": {},
   "source": [
    "## <span style=\"text-align: right; direction: rtl; float: right; clear: both;\"> עוד מלא תרגילים </span>"
   ]
  },
  {
   "cell_type": "markdown",
   "metadata": {},
   "source": [
    "<p style=\"text-align: right; direction: rtl;\">\n",
    "    קיימים במלא אתרים כגון:<br>\n",
    "    <ul>\n",
    "        <li><a href=\"http://play.inginf.units.it/#/\">RegexPlay</a></li>\n",
    "        <li><a href=\"https://alf.nu/RegexGolf\">RegexGolf</a></li>\n",
    "        <li><a href=\"https://www.hackerrank.com/domains/regex\">Hackerrank</a></li>\n",
    "    </ul>\n",
    "</p>"
   ]
  }
 ],
 "metadata": {
  "kernelspec": {
   "display_name": "Python 3",
   "language": "python",
   "name": "python3"
  },
  "language_info": {
   "codemirror_mode": {
    "name": "ipython",
    "version": 3
   },
   "file_extension": ".py",
   "mimetype": "text/x-python",
   "name": "python",
   "nbconvert_exporter": "python",
   "pygments_lexer": "ipython3",
   "version": "3.7.1"
  }
 },
 "nbformat": 4,
 "nbformat_minor": 2
}
