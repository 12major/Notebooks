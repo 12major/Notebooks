{
 "cells": [
  {
   "cell_type": "markdown",
   "metadata": {},
   "source": [
    "# <p style=\"text-align:right;direction:rtl;\"> תרגילים </p> "
   ]
  },
  {
   "cell_type": "markdown",
   "metadata": {},
   "source": [
    "## <p style=\"text-align:right;direction:rtl;\"> בחירות במדינת הגמדים </p>"
   ]
  },
  {
   "cell_type": "markdown",
   "metadata": {},
   "source": [
    "<p style=\"text-align:right;direction:rtl;\">\n",
    "    במדינת הגמדים רעש מהומה ולכן החליטו ללכת לבחירות.<br>\n",
    "    ועדת הבחירות המרכזית בראשות דרדסבא ערכה בחירות חשאיות והוגנות והציגה לפניכם את התוצאות בקובץ elections.txt המצורף (בתיקיית resources) על כל 353,400 בוחריה.<br>\n",
    "    הקובץ הינו רשימה של שמות המפלגות שבהן בחרו תושבי מדינת הגמדים, כל שורה מייצגת בחירה של תושב מדינת הגמדים.<br>\n",
    "    על מנת לשמור על טוהר המידות לא נאמר לכם במפורש מהו מספר המפלגות שהגישו את רשימותיהן לועדת הבחירות.<br>\n",
    "    עליכם הוטלה המשימה לעבור על הקובץ תוצאות הבחירות ולדווח כמה קולות קיבלה כל מפלגה.<br>\n",
    "    כתבו פונקציה שלא מקבלת פרמטרים ומחזירה את תוצאות הבחירות במילון ובו שם המפלגה ומספר הקולות שקיבלה.\n",
    "</p>"
   ]
  },
  {
   "cell_type": "code",
   "execution_count": null,
   "metadata": {},
   "outputs": [],
   "source": [
    "# כתבו את הפונקציה שלכם כאן: get_election_results()"
   ]
  },
  {
   "cell_type": "markdown",
   "metadata": {},
   "source": [
    "<p style=\"text-align:right;direction:rtl;\">\n",
    "    אחוז החסימה במדינת הגמדים הוא אכזרי למדי ועומד על 10%.<br>\n",
    "    כיון שהצביעו 353,400 גמדים - אחוז החסימה עומד על\n",
    "    $353,400*0.1=35340$ קולות.<br>\n",
    "    כתבו פונקציה המקבלת את מילון תוצאת הבחירות ומדפיסה אלו מפלגות עברו את אחוז החסימה ואלו לא.\n",
    "</p>"
   ]
  },
  {
   "cell_type": "code",
   "execution_count": null,
   "metadata": {},
   "outputs": [],
   "source": []
  },
  {
   "cell_type": "markdown",
   "metadata": {},
   "source": [
    "<p style=\"text-align:right;direction:rtl;\">\n",
    "כעת כתבו פונקציה המקבלת את מילון תוצאות הבחירות ומחזירה את סך כמות הקולות שקיבלו רק מפלגות שעברו את אחוז החסימה.</p>"
   ]
  },
  {
   "cell_type": "code",
   "execution_count": null,
   "metadata": {},
   "outputs": [],
   "source": []
  },
  {
   "cell_type": "markdown",
   "metadata": {},
   "source": [
    "<p style=\"text-align:right;direction:rtl;\">\n",
    "    אחרי שסיימתם בדקו שקיבלתם את הערך הבא: <span style=\"direction: rtl; background: #000; text: #000\">249333</span>\n",
    "</p>"
   ]
  },
  {
   "cell_type": "markdown",
   "metadata": {},
   "source": [
    "<p style=\"text-align:right;direction:rtl;\">\n",
    "    לאחר קבלת תוצאות האמת המפלגות פועלות להקים קואליציה. קואליציה מורכבת מ-61 מנדטים לפחות.<br>\n",
    "    מנדט שווה: $\\dfrac{votes}{120}=2077.775\\cong2078$ קולות.<br>\n",
    "    שימו לב, הקולות בתרגיל זה הם התוצאה של הסעיף הקודם. כלומר הקולות בניכוי הקולות עבור מפלגות שלא עברו את אחוז החסימה.<br>\n",
    "    כעת כתבו פונקציה המקבלת את מילון התוצאות ומחזירה מילון שבו שם המפלגה ממופה עם מספר המנדטים שהמפלגה קיבלה.<br>\n",
    "    השתמשו בפונקציה <code>round</code> על תוצאת החלוקה (השתמשו ב-2078) כדי לקבל את מספר המנדטים השלם.\n",
    "</p>"
   ]
  },
  {
   "cell_type": "code",
   "execution_count": null,
   "metadata": {},
   "outputs": [],
   "source": []
  },
  {
   "cell_type": "markdown",
   "metadata": {},
   "source": [
    "<p style=\"text-align:right;direction:rtl;\">\n",
    "הדפיסו את המילון שקיבלתם. ודאו שסך המנדטים מסתכם ל-120.</p>"
   ]
  },
  {
   "cell_type": "markdown",
   "metadata": {},
   "source": [
    "<p style=\"text-align:right;direction:rtl;\">\n",
    "על מנת להרכיב קואליציה דרושים 61 מנדטים.<br>\n",
    "המפלגות MidgeLandIsUs ו-NilsIsALeader לא מוכנות לשבת יחד בקואליציה.<br>\n",
    "כתבו פונקציה המקבלת את המילון המכיל את תוצאות המנדטים ומדפיסה קואליציה אפשרית עבור NilsIsALeader וקואליציה אפשרית עבור MidgeLandIsUs.\n",
    "</p> "
   ]
  },
  {
   "cell_type": "code",
   "execution_count": null,
   "metadata": {},
   "outputs": [],
   "source": []
  },
  {
   "cell_type": "markdown",
   "metadata": {},
   "source": [
    "## <p style=\"text-align:right;direction:rtl;\"> מיונים</p>"
   ]
  },
  {
   "cell_type": "markdown",
   "metadata": {},
   "source": [
    "<p style=\"text-align:right;direction:rtl;\">\n",
    "מיון היא פעולה מאוד נפוצה שמבצעים על מידע. מיון המידע מקל מאוד על החיפוש ועל כך נדון בהרחבה בעתיד.<br>\n",
    "בסעיף זה נכיר כמה דרכים למיין, ונממש פונקציות מיון שונות.<br>\n",
    "אנו נעסוק כרגע במיון רשימה של מספרים. נקרא לרשימה \"ממוינת\" כאשר היא איבריה מסודרים מהקטן לגדול - הקטן באינדקס הנמוך והגדול באינדקס הגבוה.\n",
    "</p> "
   ]
  },
  {
   "cell_type": "markdown",
   "metadata": {},
   "source": [
    "### <p style=\"text-align:right;direction:rtl;\"> מיון על ידי מציאת האיבר המקסימלי - Max Sort </p>"
   ]
  },
  {
   "cell_type": "markdown",
   "metadata": {},
   "source": [
    "<p style=\"text-align:right;direction:rtl;\">מיון זה עובר על כל איברי הרשימה מספר פעמים, ובכל מעבר ממקם את האיבר הכי גדול בקצה הרשימה.<br>\n",
    "הנה דוגמה למעבר כזה:<br>\n",
    "הרשימה לפני:</p><br>\n",
    "<samp>[1, 6, 2, 4]</samp><br>\n",
    "<p style=\"text-align:right;direction:rtl;\">הרשימה אחרי:</p><br>\n",
    "<samp>[1, 4, 2, 6]</samp><br>\n",
    "<p style=\"text-align:right;direction:rtl;\">המעבר ביצע החלפה של האיבר הגדול ביותר עם האיבר האחרון.<br>\n",
    "כעת ניתן לראות שאם נמיין את הרשימה המסתיימת באיבר שלפני האחרון - נקבל רשימה ממוינת, ולכן המעבר הבא יהיה על האיברים עד האיבר הלפני אחרון. כך נמשיך עד שנסיים:</p><br>\n",
    "<p style=\"text-align:right;direction:rtl;\">הרשימה לפני:</p><br>\n",
    "<samp>[1, 4, 2, 6]</samp><br>\n",
    "<p style=\"text-align:right;direction:rtl;\">הרשימה אחרי:</p><br>\n",
    "<samp>[1, 2, 4, 6]</samp><br>\n",
    "<p style=\"text-align:right;direction:rtl;\">במעבר זה החלפנו את 2 עם 4.<br>\n",
    "במעברים הבאים לא תתבצע החלפה כי הרשימה ממויינת.</p>"
   ]
  },
  {
   "cell_type": "markdown",
   "metadata": {},
   "source": [
    "#### <p style=\"text-align:right;direction:rtl;\"> מימוש פונקציה המבצעת את המעבר </p>"
   ]
  },
  {
   "cell_type": "markdown",
   "metadata": {},
   "source": [
    "<p style=\"text-align:right;direction:rtl;\"> בסעיף זה נממש את הפונקציה המבצעת את המעבר המתואר מעלה.<br>\n",
    "הפונקציה תקבל רשימה ואינדקס, ותבצע את המעבר עד האינדקס שהתקבל.<br>\n",
    "אם הפונקציה לא מקבלת אינדקס, היא תחשב מעבר על הרשימה כולה (השתמשו בערכי ברירת מחדל של פונקציות).<br>\n",
    "על פי הדוגמה שראינו:<br></p>\n",
    "<code>swap_max([1, 6, 2, 4])</code><br>\n",
    "<samp>[1, 4, 2, 6]</samp><br><br>\n",
    "<code>swap_max([1, 6, 2, 4], 2)</code><br>\n",
    "<samp>[1, 2, 6, 4]</samp><br>\n",
    "<p style=\"text-align:right;direction:rtl;\">בדוגמה האחרונה ההחלפה בוצעה על תת הרשימה המסתיימת באינדקס 2, ובו המספר 2.<br></p>\n"
   ]
  },
  {
   "cell_type": "code",
   "execution_count": 4,
   "metadata": {},
   "outputs": [],
   "source": [
    "#  swap_max(list_to_sort, last_index) ממשו כאן את הפונקציה"
   ]
  },
  {
   "cell_type": "markdown",
   "metadata": {},
   "source": [
    "<p style=\"text-align:right;direction:rtl;\"> כעת ממשו את פונקציית המיון.<br>\n",
    "פונקציית המיון תריץ את פונקציית המעבר תחילה על כל הרשימה, כך שהאיבר הכי גדול יהיה בסוף, ובכל צעד לאחר מכן על תת רשימה הולכת וקטנה.<br>\n",
    "כאשר תת הרשימה שנרוץ עליה תהיה בגודל 1 - נחזיר את מה שקיבלנו. ובכך יסתיים אלגוריתם המיון.<br>\n",
    "דוגמת הרצה מפורטת:<br></p>\n",
    "<code>swap_max([2, 6, 1, 4])</code><br>\n",
    "<samp>[2, 4, 1, 6]</samp><br><br>\n",
    "<code>swap_max([2, 4, 1, 6], 2)</code><br>\n",
    "<samp>[2, 1, 4, 6]</samp><br><br>\n",
    "<code>swap_max([2, 1, 4, 6], 1)</code><br>\n",
    "<samp>[1, 2, 4, 6]</samp><br><br>\n",
    "<code>swap_max([1, 2, 4, 6], 0)</code><br>\n",
    "<samp>[1, 2, 4, 6]</samp><br><br>\n",
    "\n"
   ]
  },
  {
   "cell_type": "code",
   "execution_count": 3,
   "metadata": {},
   "outputs": [],
   "source": [
    "#  max_sort(list_to_sort) ממשו כאן את הפונקציה"
   ]
  }
 ],
 "metadata": {
  "kernelspec": {
   "display_name": "Python 3",
   "language": "python",
   "name": "python3"
  },
  "language_info": {
   "codemirror_mode": {
    "name": "ipython",
    "version": 3
   },
   "file_extension": ".py",
   "mimetype": "text/x-python",
   "name": "python",
   "nbconvert_exporter": "python",
   "pygments_lexer": "ipython3",
   "version": "3.7.1"
  }
 },
 "nbformat": 4,
 "nbformat_minor": 2
}
