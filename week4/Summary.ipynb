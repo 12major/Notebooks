{
 "cells": [
  {
   "cell_type": "markdown",
   "metadata": {},
   "source": [
    "<img src=\"images/logo.jpg\" style=\"display: block; margin-left: auto; margin-right: auto;\" alt=\"לוגו של מיזם לימוד הפייתון. נחש מצויר בצבעי צהוב וכחול, הנע בין האותיות של שם הקורס: לומדים פייתון. הסלוגן המופיע מעל לשם הקורס הוא מיזם חינמי ללימוד תכנות בעברית.\">"
   ]
  },
  {
   "cell_type": "markdown",
   "metadata": {},
   "source": [
    "# <p style=\"text-align:right;direction:rtl;\"> תרגילים </p> "
   ]
  },
  {
   "cell_type": "markdown",
   "metadata": {},
   "source": [
    "## <p style=\"text-align:right;direction:rtl;\"> בחירות במדינת הגמדים </p>"
   ]
  },
  {
   "cell_type": "markdown",
   "metadata": {},
   "source": [
    "<p style=\"text-align:right;direction:rtl;\">\n",
    "    במדינת הגמדים רעש מהומה, ולכן החליטו ללכת לבחירות.<br>\n",
    "    ועדת הבחירות המרכזית, בראשות דרדסבא, ערכה בחירות חשאיות והוגנות והציגה לפניכם את התוצאות בקובץ elections.txt המצורף (בתיקיית resources), על כל 353,400 בוחריה.<br>\n",
    "    הקובץ הינו רשימה של שמות המפלגות שבהן בחרו תושבי מדינת הגמדים, כאשר כל שורה מייצגת בחירה של תושב מדינת הגמדים.<br>\n",
    "    כדי לשמור על טוהר הבחירות לא נאמר לכם במפורש מהו מספר המפלגות שהגישו את רשימותיהן לוועדת הבחירות.<br>\n",
    "    עליכם הוטלה המשימה לעבור על קובץ תוצאות הבחירות ולדווח כמה קולות קיבלה כל מפלגה.<br>\n",
    "    כתבו פונקציה שלא מקבלת פרמטרים ומחזירה את תוצאות הבחירות במילון ובו שם המפלגה ומספר הקולות שקיבלה.\n",
    "</p>"
   ]
  },
  {
   "cell_type": "code",
   "execution_count": null,
   "metadata": {},
   "outputs": [],
   "source": [
    "# כתבו את הפונקציה שלכם כאן: get_election_results()"
   ]
  },
  {
   "cell_type": "markdown",
   "metadata": {},
   "source": [
    "<p style=\"text-align:right;direction:rtl;\">\n",
    "    אחוז החסימה במדינת הגמדים הוא אכזרי למדי ועומד על 10%.<br>\n",
    "    כיון שהצביעו 353,400 גמדים – אחוז החסימה עומד על\n",
    "    $353,400*0.1=35,340$ קולות.<br>\n",
    "    כתבו פונקציה המקבלת את מילון תוצאות הבחירות ומדפיסה אילו מפלגות עברו את אחוז החסימה ואילו לא.\n",
    "</p>"
   ]
  },
  {
   "cell_type": "code",
   "execution_count": null,
   "metadata": {},
   "outputs": [],
   "source": []
  },
  {
   "cell_type": "markdown",
   "metadata": {},
   "source": [
    "<p style=\"text-align:right;direction:rtl;\">\n",
    "כעת כתבו פונקציה המקבלת את מילון תוצאות הבחירות ומחזירה את מספר הקולות שקיבלו רק מפלגות שעברו את אחוז החסימה.</p>"
   ]
  },
  {
   "cell_type": "code",
   "execution_count": null,
   "metadata": {},
   "outputs": [],
   "source": []
  },
  {
   "cell_type": "markdown",
   "metadata": {},
   "source": [
    "<p style=\"text-align:right;direction:rtl;\">\n",
    "    אחרי שסיימתם בדקו שקיבלתם את הערך הבא: <span style=\"direction: rtl; background: #000; text: #000\">249,333</span>\n",
    "</p>"
   ]
  },
  {
   "cell_type": "markdown",
   "metadata": {},
   "source": [
    "<p style=\"text-align:right;direction:rtl;\">\n",
    "    לאחר קבלת תוצאות האמת המפלגות פועלות להקים קואליציה. קואליציה מורכבת מ־61 מנדטים לפחות.<br>\n",
    "    מנדט שווה: $\\dfrac{votes}{120}=2.077.775\\cong2,078$ קולות.<br>\n",
    "    שימו לב, הקולות בתרגיל זה הם התוצאה של הסעיף הקודם. כלומר הקולות בניכוי הקולות עבור מפלגות שלא עברו את אחוז החסימה.<br>\n",
    "    כעת כתבו פונקציה המקבלת את מילון התוצאות ומחזירה מילון שבו שם המפלגה ממופה עם מספר המנדטים שקיבלה המפלגה.<br>\n",
    "    הפעילו את פונקנציית <code>round</code> על תוצאת החלוקה (השתמשו ב־2,078) כדי לקבל את מספר המנדטים השלם.\n",
    "</p>"
   ]
  },
  {
   "cell_type": "code",
   "execution_count": null,
   "metadata": {},
   "outputs": [],
   "source": []
  },
  {
   "cell_type": "markdown",
   "metadata": {},
   "source": [
    "<p style=\"text-align:right;direction:rtl;\">\n",
    "הדפיסו את המילון שקיבלתם. ודאו שסך המנדטים מסתכם ל־120.</p>"
   ]
  },
  {
   "cell_type": "markdown",
   "metadata": {},
   "source": [
    "<p style=\"text-align:right;direction:rtl;\">\n",
    "כדי להרכיב קואליציה דרושים 61 מנדטים.<br>\n",
    "המפלגות MidgeLandIsUs ו־NilsIsALeader לא מוכנות לשבת יחד בקואליציה.<br>\n",
    "כתבו פונקציה המקבלת את המילון המכיל את תוצאות המנדטים ומדפיסה קואליציה אפשרית עבור NilsIsALeader וקואליציה אפשרית עבור MidgeLandIsUs.\n",
    "</p> "
   ]
  },
  {
   "cell_type": "code",
   "execution_count": null,
   "metadata": {},
   "outputs": [],
   "source": []
  }
 ],
 "metadata": {
  "kernelspec": {
   "display_name": "Python 3",
   "language": "python",
   "name": "python3"
  },
  "language_info": {
   "codemirror_mode": {
    "name": "ipython",
    "version": 3
   },
   "file_extension": ".py",
   "mimetype": "text/x-python",
   "name": "python",
   "nbconvert_exporter": "python",
   "pygments_lexer": "ipython3",
   "version": "3.7.6"
  }
 },
 "nbformat": 4,
 "nbformat_minor": 2
}
