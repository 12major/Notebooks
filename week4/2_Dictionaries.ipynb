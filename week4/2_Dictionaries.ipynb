{
 "cells": [
  {
   "cell_type": "markdown",
   "metadata": {},
   "source": [
    "<img src=\"images/logo.png\" alt=\"לוגו של מיזם לימוד הפייתון. נחש מצויר בצבעי צהוב וכחול, הנע בין האותיות של שם הקורס: לומדים פייתון. הסלוגן המופיע מעל לשם הקורס הוא מיזם לימוד תכנות בחינם ובעברית.\">"
   ]
  },
  {
   "cell_type": "markdown",
   "metadata": {},
   "source": [
    "# <span style=\"text-align: right; direction: rtl; float: right;\">מילונים</span>"
   ]
  },
  {
   "cell_type": "markdown",
   "metadata": {},
   "source": [
    "## <span style=\"text-align: right; direction: rtl; float: right; clear: both;\">הקדמה</span>"
   ]
  },
  {
   "cell_type": "markdown",
   "metadata": {},
   "source": [
    "<p style=\"text-align: right; direction: rtl; float: right; clear: both;\">\n",
    "    לפניכם אוספים של נתונים:\n",
    "</p>"
   ]
  },
  {
   "cell_type": "markdown",
   "metadata": {},
   "source": [
    "<ul style=\"text-align: right; direction: rtl; float: right; clear: both;\">\n",
    "    <li>בחנות של האדון קשטן יש 2 בננות, 3 תפוחים ו־4 גזרים.</li>\n",
    "    <li>תעודת הזהות של ג'ני היא 086753092, של קווין 133713370, של איינשטיין 071091797 ושל מנחם 111111118.</li>\n",
    "    <li>לקווין מהסעיף הקודם יש צוללות בצבע אדום וכחול. הצוללות של ג'ני מהסעיף הקודם בצבעים שחור וירוק. הצוללת שלי צהובה.</li>\n",
    "    <li>המחיר של סוכרייה אדומה בחנות של קשטן היא 3.14 שקלים. המחיר של סוכרייה ירוקה בחנות של קשטן היא 2.71 שקלים.</li>\n",
    "</ul>"
   ]
  },
  {
   "cell_type": "markdown",
   "metadata": {},
   "source": [
    "<div class=\"align-center\" style=\"display: flex; text-align: right; direction: rtl; clear: both;\">\n",
    "    <div style=\"display: flex; width: 10%; float: right; clear: both;\">\n",
    "        <img src=\"images/exercise.svg\" style=\"height: 50px !important;\" alt=\"תרגול\"> \n",
    "    </div>\n",
    "    <div style=\"width: 70%\">\n",
    "        <p style=\"text-align: right; direction: rtl; float: right; clear: both;\">\n",
    "            נסו למצוא דברים משותפים בין הנתונים שהופיעו מעלה.\n",
    "        </p>\n",
    "    </div>\n",
    "    <div style=\"display: flex; width: 20%; border-right: 0.1rem solid #A5A5A5; padding: 1rem 2rem;\">\n",
    "        <p style=\"text-align: center; direction: rtl; justify-content: center; align-items: center; clear: both;\">\n",
    "            <strong>חשוב!</strong><br>\n",
    "            פתרו לפני שתמשיכו!\n",
    "        </p>\n",
    "    </div>\n",
    "</div>"
   ]
  },
  {
   "cell_type": "markdown",
   "metadata": {},
   "source": [
    "<p style=\"text-align: right; direction: rtl; float: right; clear: both;\">\n",
    "    אם עניתם לפחות אחת מהתשובות הבאות – צדקתם:\n",
    "</p>"
   ]
  },
  {
   "cell_type": "markdown",
   "metadata": {},
   "source": [
    "<ul style=\"text-align: right; direction: rtl; float: right; clear: both;\">\n",
    "    <li>ניתן לחלק כל אחת מהאוספים לזוגות של ערכים – עבור כל ערך יש ערך אחר שמתאים לו.</li>\n",
    "    <li>אחד הערכים בכל זוג הוא יחודי. לא יכול להיות יותר מאחד ממנו באוסף.</li>\n",
    "</ul>"
   ]
  },
  {
   "cell_type": "markdown",
   "metadata": {},
   "source": [
    "<p style=\"text-align: right; direction: rtl; float: right; clear: both;\">\n",
    "    נבחן את הדברים המשותפים לעומק בהתייחס לדוגמאות:\n",
    "</p>"
   ]
  },
  {
   "cell_type": "markdown",
   "metadata": {},
   "source": [
    "<table style=\"text-align: right; direction: rtl; clear: both; font-size: 1.3rem\">\n",
    "    <caption style=\"text-align: center; direction: rtl; clear: both; font-size: 2rem; padding-bottom: 2rem;\">המשותף בין האוספים</caption>\n",
    "    <thead>\n",
    "        <tr>\n",
    "            <th>אוסף</th>\n",
    "            <th>הערך הייחודי</th>\n",
    "            <th>הערך המתאים לו</th>\n",
    "            <th>הסבר</th>\n",
    "        </tr>\n",
    "    </thead>\n",
    "    <tbody>\n",
    "        <tr>\n",
    "            <td>מוצרים והמלאי שלהם בחנות</td>\n",
    "            <td>המוצר שנמכר בחנות</td>\n",
    "            <td>המלאי מאותו מוצר</td>\n",
    "            <td>יכולים להיות בחנות 5 תפוזים ו־5 תפוחים, אבל אין משמעות ל־5 תפוחים ו־3 תפוחים.</td>\n",
    "        </tr>\n",
    "        <tr>\n",
    "            <td>מספרי תעודות הזהות של אנשים</td>\n",
    "            <td>תעודת הזהות</td>\n",
    "            <td>השם של בעל מספר תעודת הזהות</td>\n",
    "            <td>יכולים להיות הרבה אנשים העונים לשם משה לוי, ולכולם יהיו מספרי תעודת־זהות שונים. לא יתכן שמספר מסוים של תעודת זהות יופיע עבור יותר מאדם אחד.</td>\n",
    "        </tr>\n",
    "        <tr>\n",
    "            <td>בעלות על צוללות בצבעים</td>\n",
    "            <td>בעל הצוללות</td>\n",
    "            <td>צבע הצוללות</td>\n",
    "            <td>יכול להיות שגם לקויין וגם לג'ני יש צוללות בצבעים זהים. ג'ני, קווין ואני הם אנשים ספציפיים, שאין יותר מ־1 מהם בעולם (עד שנמציא שיבוטים וכאלו).</td>\n",
    "        </tr>\n",
    "        <tr>\n",
    "            <td>מוצרים ומחיריהם</td>\n",
    "            <td>שם המוצר</td>\n",
    "            <td>מחיר המוצר</td>\n",
    "            <td>לכל מוצר יש מחיר שנקוב עליו. עבור שני מוצרים שונים בחנות יכול להיות מחיר זהה.</td>\n",
    "        </tr>\n",
    "    </tbody>\n",
    "</table>"
   ]
  },
  {
   "cell_type": "markdown",
   "metadata": {},
   "source": [
    "### <span style=\"text-align: right; direction: rtl; float: right; clear: both;\">מיפוי ערכים</span>"
   ]
  },
  {
   "cell_type": "markdown",
   "metadata": {},
   "source": [
    "<p style=\"text-align: right; direction: rtl; float: right; clear: both;\">\n",
    "    כמו שראינו בדוגמאות, מצב נפוץ במיוחד הוא הצורך לאחסן <em>מיפוי בין ערכים</em>.<br>\n",
    "    נחשוב על המיפוי שקורה בחנות של קשטן, בה הוא סופר את המלאי הקיים עבור כל מוצר.<br>\n",
    "    עד היום, היינו מייצגים את המלאי של קשטן באמצעות קוד בצורה הבאה:\n",
    "</p>"
   ]
  },
  {
   "cell_type": "code",
   "execution_count": 12,
   "metadata": {},
   "outputs": [],
   "source": [
    "items = ['banana', 'apple', 'carrot']\n",
    "stock = [2, 3, 4]"
   ]
  },
  {
   "cell_type": "markdown",
   "metadata": {},
   "source": [
    "<p style=\"text-align: right; direction: rtl; float: right; clear: both;\">\n",
    "    עבור כל תא ברשימת <var>items</var>, שמרנו במקום התואם ברשימת <var>stock</var> את הכמות שנמצאת ממנו בחנות.<br>\n",
    "    שליפה של הכמות במלאי עבור אחד המוצרים בחנות תתבצע בצורה הבאה:\n",
    "</p>"
   ]
  },
  {
   "cell_type": "code",
   "execution_count": 17,
   "metadata": {},
   "outputs": [],
   "source": [
    "def get_stock(item_name, items, stock):\n",
    "    item_index = items.index(item_name)\n",
    "    how_many = stock[item_index]\n",
    "    return how_many"
   ]
  },
  {
   "cell_type": "markdown",
   "metadata": {},
   "source": [
    "<p style=\"text-align: right; direction: rtl; float: right; clear: both;\">\n",
    "    בשורה הראשונה מצאנו את מיקום המוצר שאנחנו מחפשים במלאי. נניח, \"תפוח\" מוחזק במקום 1 ברשימה.<br>\n",
    "    בשורה השנייה הלכו לרשימה השנייה, זו שמאחסנת את המלאי עבור כל מוצר, ומצאנו את המלאי באותו מיקום.<br>\n",
    "    כמות היחידות של מוצר מאוחסנת במספר תא מסוים, התואם למספר התא ברשימה של שמות המוצרים. זו הסיבה שהרעיון עובד.<br>\n",
    "</p>"
   ]
  },
  {
   "cell_type": "code",
   "execution_count": 11,
   "metadata": {},
   "outputs": [
    {
     "name": "stdout",
     "output_type": "stream",
     "text": [
      "3\n"
     ]
    }
   ],
   "source": [
    "print(get_stock('apple', items, stock))"
   ]
  },
  {
   "cell_type": "markdown",
   "metadata": {},
   "source": [
    "<p style=\"text-align: right; direction: rtl; float: right; clear: both;\">\n",
    "    צורה נוספת למימוש של אותו רעיון תהיה שמירה של זוגות סדורים בתוך רשימה:\n",
    "</p>"
   ]
  },
  {
   "cell_type": "code",
   "execution_count": 14,
   "metadata": {},
   "outputs": [],
   "source": [
    "items = [('banana', 2), ('apple', 3), ('carrot', 4)]"
   ]
  },
  {
   "cell_type": "markdown",
   "metadata": {},
   "source": [
    "<p style=\"text-align: right; direction: rtl; float: right; clear: both;\">\n",
    "    ברשימה הזו הרעיון נראה מובן יותר. בואו נממש דרך להשיג איבר מסוים מתוך הרשימה:\n",
    "</p>"
   ]
  },
  {
   "cell_type": "code",
   "execution_count": 23,
   "metadata": {},
   "outputs": [],
   "source": [
    "def get_stock(item_name, items_with_stock):\n",
    "    for item_to_stock in items_with_stock:\n",
    "        item = item_to_stock[0]\n",
    "        stock = item_to_stock[1]\n",
    "        if item == item_name:\n",
    "            return stock"
   ]
  },
  {
   "cell_type": "markdown",
   "metadata": {},
   "source": [
    "<p style=\"text-align: right; direction: rtl; float: right; clear: both;\">\n",
    "    עבור כל tuple ברשימה, בדקנו האם שם הפריט שהוא מכיל תואם לשם הפריט שחיפשנו.<br>\n",
    "    אם כן, החזרנו את הכמות של אותו פריט במלאי.<br>\n",
    "    שימוש בפונקציה הזו נראה ככה:\n",
    "</p>"
   ]
  },
  {
   "cell_type": "code",
   "execution_count": 24,
   "metadata": {},
   "outputs": [
    {
     "data": {
      "text/plain": [
       "3"
      ]
     },
     "execution_count": 24,
     "metadata": {},
     "output_type": "execute_result"
    }
   ],
   "source": [
    "get_stock('apple', items)"
   ]
  },
  {
   "cell_type": "markdown",
   "metadata": {},
   "source": [
    "<div class=\"align-center\" style=\"display: flex; text-align: right; direction: rtl; clear: both;\">\n",
    "    <div style=\"display: flex; width: 10%; float: right; clear: both;\">\n",
    "        <img src=\"images/exercise.svg\" style=\"height: 50px !important;\" alt=\"תרגול\"> \n",
    "    </div>\n",
    "    <div style=\"width: 70%\">\n",
    "        <p style=\"text-align: right; direction: rtl; float: right; clear: both;\">\n",
    "            שני קטעי הקוד שנתנו כדוגמה פישטו את המצב יתר על המידה, ולא מתייחסים למצב שבו אין את הפריט במלאי.<br>\n",
    "            הרחיבו את הפונקציות <code>get_stock</code> כך שיחזירו 0 במידה והפריט לא נמצא במלאי.\n",
    "        </p>\n",
    "    </div>\n",
    "    <div style=\"display: flex; width: 20%; border-right: 0.1rem solid #A5A5A5; padding: 1rem 2rem;\">\n",
    "        <p style=\"text-align: center; direction: rtl; justify-content: center; align-items: center; clear: both;\">\n",
    "            <strong>חשוב!</strong><br>\n",
    "            פתרו לפני שתמשיכו!\n",
    "        </p>\n",
    "    </div>\n",
    "</div>"
   ]
  },
  {
   "cell_type": "markdown",
   "metadata": {},
   "source": [
    "## <span style=\"text-align: right; direction: rtl; float: right; clear: both;\">הגדרה</span>"
   ]
  },
  {
   "cell_type": "markdown",
   "metadata": {},
   "source": [
    "### <span style=\"text-align: right; direction: rtl; float: right; clear: both;\">מה זה מילון?</span>"
   ]
  },
  {
   "cell_type": "markdown",
   "metadata": {},
   "source": [
    "<p style=\"text-align: right; direction: rtl; float: right; clear: both;\">\n",
    "מילון הוא סוג ערך בפייתון.<br>\n",
    "תכליתו היא ליצור קשר בין סדרה של נתונים שנקראים \"מפתחות\", לבין סדרה אחרת שנקראת \"ערכים\".<br>\n",
    "לכל מפתח יש ערך שעליו הוא מצביע.<br>\n",
    "ישנן דוגמאות אפשריות רבות לקשרים שכאלו:\n",
    "</p>"
   ]
  },
  {
   "cell_type": "markdown",
   "metadata": {},
   "source": [
    "<ul style=\"text-align: right; direction: rtl; float: right; clear: both;\">\n",
    "    <li>קשר בין מילים לבין רשימת הפירושים שלהן באבן־שושן.</li>\n",
    "    <li>קשר בין ערים בעולם לבין כמות האנשים שחיים בהן.</li>\n",
    "    <li>קשר בין ברקוד של מוצרים בחנות לבין כמות הפריטים במלאי מכל מוצר.</li> \n",
    "</ul>"
   ]
  },
  {
   "cell_type": "markdown",
   "metadata": {},
   "source": [
    "<p style=\"text-align: right; direction: rtl; float: right; clear: both;\">\n",
    "לערך המצביע נקרא <dfn>מפתח</dfn> (<dfn>key</dfn>). זה האיבר מבין זוג האיברים שעל־פיו נשמע הגיוני יותר לחפש דברים:<br>\n",
    "המילה שאת הפירושים שלה אנחנו רוצים למצוא, העיר שבה אנחנו רוצים לדעת מה כמות התושבים או הברקוד שעבורו אנחנו רוצים לדעת כמה מוצרים קיימים במלאי.\n",
    "</p>"
   ]
  },
  {
   "cell_type": "markdown",
   "metadata": {},
   "source": [
    "<p style=\"text-align: right; direction: rtl; float: right; clear: both;\">\n",
    "לערך השני מבין שני הערכים בזוג, נקרא.... ובכן, <dfn>ערך</dfn> (<dfn>value</dfn>). זה הנתון שנרצה להסיק מתוך המפתח:<br>\n",
    "הפירושים של המילה במילון, כמות התושבים בעיר או כמות המוצרים קיימים במלאי עבור הברקוד.\n",
    "</p>"
   ]
  },
  {
   "cell_type": "markdown",
   "metadata": {},
   "source": [
    "<p style=\"text-align: right; direction: rtl; float: right; clear: both;\">\n",
    "אם כך, מילון הוא בסך־הכל אוסף של זוגות שכאלו: מפתחות וערכים.</p>"
   ]
  },
  {
   "cell_type": "markdown",
   "metadata": {},
   "source": [
    "## <span style=\"text-align: right; direction: rtl; float: right; clear: both;\">התעסקות בסיסית</span>"
   ]
  },
  {
   "cell_type": "markdown",
   "metadata": {},
   "source": [
    "### <span style=\"text-align: right; direction: rtl; float: right; clear: both;\">יצירת מילון</span>"
   ]
  },
  {
   "cell_type": "markdown",
   "metadata": {},
   "source": [
    "<p style=\"text-align: right; direction: rtl; float: right; clear: both;\">\n",
    "ניצור מילון חדש:</p>"
   ]
  },
  {
   "cell_type": "code",
   "execution_count": 52,
   "metadata": {},
   "outputs": [],
   "source": [
    "ages = {'Yam': 27, 'Methuselah': 969, 'Baby Groot': 3}"
   ]
  },
  {
   "cell_type": "markdown",
   "metadata": {},
   "source": [
    "<p style=\"text-align: right; direction: rtl; float: right; clear: both;\">\n",
    "במילון הזה ישנם שלושה ערכים: הגיל של ים, של מתושלח ושל בייבי־גרוט.<br>\n",
    "המפתחות במילון הזה הם <em>Yam</em> (הערך הקשור למפתח הזה הוא 27), <em>Methuselah</em> (עם הערך 969) ו־<em>Baby Groot</em> (אליו הוצמד הערך 3).\n",
    "</p>"
   ]
  },
  {
   "cell_type": "markdown",
   "metadata": {},
   "source": [
    "<p style=\"text-align: right; direction: rtl; float: right; clear: both;\">\n",
    "יצירת המילון התבצעה בצורה הבאה:\n",
    "</p>"
   ]
  },
  {
   "cell_type": "markdown",
   "metadata": {},
   "source": [
    "<ol style=\"text-align: right; direction: rtl; float: right; clear: both;\">\n",
    "    <li>פתיחת סוגריים מסולסלים.</li>\n",
    "    <li>הכנסת זוגות של מפתחות וערכים, מופרדים בפסיק:\n",
    "        <ol>\n",
    "            <li>הכנסת המפתח.</li>\n",
    "            <li>הפרדה בין המפתח לערך שאליו הוא מצביע באמצעות נקודותיים.</li>\n",
    "            <li>הכנסת הערך.</li>\n",
    "        </ol>\n",
    "    </li>\n",
    "    <li>סגירת סוגריים מסולסלים.</li>\n",
    "</ol>"
   ]
  },
  {
   "cell_type": "markdown",
   "metadata": {},
   "source": [
    "<figure>\n",
    "    <img src=\"images/dictionary.svg?v=2\" style=\"max-width:100%; margin-right: auto; margin-left: auto; text-align: center;\" alt=\"בתמונה מופיעים 3 ריבועים בימין ו־3 ריבועים בשמאל. הריבועים בימין, שמתויגים כ'מפתח', מצביעים על הריבועים בשמאל שמתויגים כ'ערך'. כל ריבוע בימין מצביע לריבוע בשמאל. בריבוע הימני העליון כתוב Yam, והוא מצביע על ריבוע בו כתוב 27. כך גם עבור ריבוע שבו כתוב Methuselah ומצביע לריבוע בו כתוב 969, וריבוע בו כתוב Baby Groot ומצביע לריבוע בו כתוב 3.\"/>\n",
    "    <figcaption style=\"text-align: center; direction: rtl;\">דוגמה למילון שכולל 3 ערכים.</figcaption>\n",
    "</figure>"
   ]
  },
  {
   "cell_type": "markdown",
   "metadata": {},
   "source": [
    "<p style=\"text-align: right; direction: rtl; float: right; clear: both;\">\n",
    "ניתן ליצור מילון ריק בעזרת פתיחה וסגירה של סוגריים מסולסלים:</p>"
   ]
  },
  {
   "cell_type": "code",
   "execution_count": 51,
   "metadata": {},
   "outputs": [],
   "source": [
    "age_of_my_elephants = {}"
   ]
  },
  {
   "cell_type": "markdown",
   "metadata": {},
   "source": [
    "<div class=\"align-center\" style=\"display: flex; text-align: right; direction: rtl; clear: both;\">\n",
    "    <div style=\"display: flex; width: 10%; float: right; clear: both;\">\n",
    "        <img src=\"images/exercise.svg\" style=\"height: 50px !important;\" alt=\"תרגול\"> \n",
    "    </div>\n",
    "    <div style=\"width: 70%\">\n",
    "        <p style=\"text-align: right; direction: rtl; float: right; clear: both;\">\n",
    "            צרו מילון עבור המלאי בחנות של אדון קשטן.\n",
    "        </p>\n",
    "    </div>\n",
    "    <div style=\"display: flex; width: 20%; border-right: 0.1rem solid #A5A5A5; padding: 1rem 2rem;\">\n",
    "        <p style=\"text-align: center; direction: rtl; justify-content: center; align-items: center; clear: both;\">\n",
    "            <strong>חשוב!</strong><br>\n",
    "            פתרו לפני שתמשיכו!\n",
    "        </p>\n",
    "    </div>\n",
    "</div>"
   ]
  },
  {
   "cell_type": "markdown",
   "metadata": {},
   "source": [
    "### <span style=\"text-align: right; direction: rtl; float: right; clear: both;\">אחזור ערך</span>"
   ]
  },
  {
   "cell_type": "markdown",
   "metadata": {},
   "source": [
    "<p style=\"text-align: right; direction: rtl; float: right; clear: both;\">\n",
    "נזכר כיצד מאחזרים ערך מתוך רשימה:\n",
    "</p>"
   ]
  },
  {
   "cell_type": "code",
   "execution_count": 33,
   "metadata": {},
   "outputs": [],
   "source": [
    "names = ['Yam', 'Mathuselah', 'Baby Groot']"
   ]
  },
  {
   "cell_type": "markdown",
   "metadata": {},
   "source": [
    "<p style=\"text-align: right; direction: rtl; float: right; clear: both;\">\n",
    "כדי להשיג את הערך שנמצא <em>במקום 2</em> ברשימה <var>names</var>, אני אכתוב:\n",
    "</p>"
   ]
  },
  {
   "cell_type": "code",
   "execution_count": 34,
   "metadata": {},
   "outputs": [
    {
     "data": {
      "text/plain": [
       "'Baby Groot'"
      ]
     },
     "execution_count": 34,
     "metadata": {},
     "output_type": "execute_result"
    }
   ],
   "source": [
    "names[2]"
   ]
  },
  {
   "cell_type": "markdown",
   "metadata": {},
   "source": [
    "<p style=\"text-align: right; direction: rtl; float: right; clear: both;\">\n",
    "עד כאן הכל מוכר.<br>\n",
    "ניקח את המילון שמייצג את המלאי בחנות של אדון קשטן:\n",
    "</p>"
   ]
  },
  {
   "cell_type": "code",
   "execution_count": 44,
   "metadata": {},
   "outputs": [],
   "source": [
    "items = {'banana': 2, 'apple': 3, 'carrot': 4}"
   ]
  },
  {
   "cell_type": "markdown",
   "metadata": {},
   "source": [
    "<p style=\"text-align: right; direction: rtl; float: right; clear: both;\">\n",
    "על מנת להשיג את המלאי שנמצא <em>במקום שבו המפתח הוא 'banana'</em>, ארשום את הביטוי הבא:\n",
    "</p>"
   ]
  },
  {
   "cell_type": "code",
   "execution_count": 38,
   "metadata": {},
   "outputs": [
    {
     "data": {
      "text/plain": [
       "2"
      ]
     },
     "execution_count": 38,
     "metadata": {},
     "output_type": "execute_result"
    }
   ],
   "source": [
    "items['banana']"
   ]
  },
  {
   "cell_type": "markdown",
   "metadata": {},
   "source": [
    "<p style=\"text-align: right; direction: rtl; float: right; clear: both;\">\n",
    "מכיוון שבמילון המפתח הוא זה שמצביע לערך ולא להיפך, אפשר לאחזר ערך לפי מפתח, אבל <em>אי אפשר לאחזר מפתח בעזרת ערך.</em></p>"
   ]
  },
  {
   "cell_type": "markdown",
   "metadata": {},
   "source": [
    "<div class=\"align-center\" style=\"display: flex; text-align: right; direction: rtl;\">\n",
    "    <div style=\"display: flex; width: 10%; \">\n",
    "        <img src=\"images/tip.png\" style=\"height: 50px !important;\" alt=\"אזהרה!\"> \n",
    "    </div>\n",
    "    <div style=\"width: 90%\">\n",
    "        <p style=\"text-align: right; direction: rtl;\">\n",
    "            ביום־יום, השתמשו במילה \"בְּמָקוֹם\" (b'e-ma-qom) כתחליף למילים סוגריים מרובעים.<br>\n",
    "            לדוגמה: עבור שורת הקוד האחרונה, אימרו <em><q>items במקום banana</q></em>.\n",
    "        </p>\n",
    "    </div>\n",
    "</div>"
   ]
  },
  {
   "cell_type": "markdown",
   "metadata": {},
   "source": [
    "### <span style=\"text-align: right; direction: rtl; float: right; clear: both;\">הוספה ועדכון</span>"
   ]
  },
  {
   "cell_type": "markdown",
   "metadata": {},
   "source": [
    "<p style=\"text-align: right; direction: rtl; float: right; clear: both;\">\n",
    "ניתן להוסיף מפתח וערך למילון, באמצעות השמת הערך אל המילון במקום של המפתח.<br>\n",
    "אם, לדוגמה, יש לנו במלאי מלון אחד.<br>\n",
    "המפתח הוא <em>melon</em> והערך הוא <em>1</em>, ולכן נשתמש בהשמה הבאה: \n",
    "</p>"
   ]
  },
  {
   "cell_type": "code",
   "execution_count": 41,
   "metadata": {},
   "outputs": [],
   "source": [
    "items['melon'] = 1"
   ]
  },
  {
   "cell_type": "markdown",
   "metadata": {},
   "source": [
    "<p style=\"text-align: right; direction: rtl; float: right; clear: both;\">\n",
    "אם הגיעו עוד 4 מלונים לחנות של אדון קשטן, נוכל לעדכן את מלאי המלונים באמצעות השמה למקום הנכון במילון:\n",
    "</p>"
   ]
  },
  {
   "cell_type": "code",
   "execution_count": 42,
   "metadata": {},
   "outputs": [],
   "source": [
    "items['melon'] = items['melon'] + 4"
   ]
  },
  {
   "cell_type": "markdown",
   "metadata": {},
   "source": [
    "### <span style=\"text-align: right; direction: rtl; float: right; clear: both;\">כללי המשחק</span>"
   ]
  },
  {
   "cell_type": "markdown",
   "metadata": {},
   "source": [
    "<ul style=\"text-align: right; direction: rtl; float: right; clear: both;\">\n",
    "    <li>לא יכולים להיות 2 מפתחות זהים במילון.</li>\n",
    "    <li>המפתחות במילון חייבים להיות Immutables.</li>\n",
    "    <li>אנחנו נתייחס למילון כאל מבנה ללא סדר מסוים (אין \"איבר ראשון\" או \"איבר אחרון\").</li> \n",
    "</ul>"
   ]
  },
  {
   "cell_type": "markdown",
   "metadata": {},
   "source": [
    "<div class=\"align-center\" style=\"display: flex; text-align: right; direction: rtl;\">\n",
    "    <div style=\"display: flex; width: 10%; \">\n",
    "        <img src=\"images/deeper.svg?a=1\" style=\"height: 50px !important;\" alt=\"העמקה\"> \n",
    "    </div>\n",
    "    <div style=\"width: 90%\">\n",
    "        <p style=\"text-align: right; direction: rtl;\">\n",
    "            בגרסאות האחרונות של פייתון מילון הפך להיות מבנה מסודר, בו סדר האיברים הוא סדר ההכנסה שלהם למילון.<br>\n",
    "            למרות זאת, רק במצבים נדירים נצטרך להתייחס לסדר שבו האיברים מסודרים במילון, ובשלב זה נעדיף שלא להתייחס לתכונה הזו.\n",
    "        </p>\n",
    "    </div>\n",
    "</div>"
   ]
  },
  {
   "cell_type": "markdown",
   "metadata": {},
   "source": [
    "### <span style=\"text-align: right; direction: rtl; float: right; clear: both;\">סיכום ביניים</span>"
   ]
  },
  {
   "cell_type": "markdown",
   "metadata": {},
   "source": [
    "<ul style=\"text-align: right; direction: rtl; float: right; clear: both;\">\n",
    "    <li>מילון הוא מבנה שבנוי זוגות־זוגות: יש ערכים ומפתחות, ולכל מפתח יש ערך אחד.</li>\n",
    "    <li>אנחנו נתייחס למילון כאל מבנה ללא סדר מסוים (אין \"איבר ראשון\" או \"איבר אחרון\").</li> \n",
    "    <li>בניגוד לרשימה, כאן ה\"מקום\" אליו אנחנו פונים כדי לקבל ערך הוא המפתח, ולא מספר שמייצג את המקום הסידורי של התא.</li>\n",
    "    <li>בעזרת מפתח ניתן להגיע לערך המוצמד אליו, אבל לא להיפך.</li>\n",
    "</ul>"
   ]
  },
  {
   "cell_type": "markdown",
   "metadata": {},
   "source": [
    "<div class=\"align-center\" style=\"display: flex; text-align: right; direction: rtl;\">\n",
    "    <div style=\"display: flex; width: 10%; \">\n",
    "        <img src=\"images/tip.png\" style=\"height: 50px !important;\" alt=\"אזהרה!\"> \n",
    "    </div>\n",
    "    <div style=\"width: 90%\">\n",
    "        <p style=\"text-align: right; direction: rtl;\">\n",
    "            חדי העין שמו לב שאנחנו מצליחים להוסיף ערכים למילון, ולשנות בו ערכים קיימים.<br>\n",
    "            מהתכונה הזו אנחנו למדים שמילון הוא mutable.\n",
    "        </p>\n",
    "    </div>\n",
    "</div>"
   ]
  },
  {
   "cell_type": "markdown",
   "metadata": {},
   "source": [
    "## <span style=\"text-align: right; direction: rtl; float: right; clear: both;\">מעבר על מילון</span>"
   ]
  },
  {
   "cell_type": "markdown",
   "metadata": {},
   "source": [
    "### <span style=\"text-align: right; direction: rtl; float: right; clear: both;\">לולאת for</span>"
   ]
  },
  {
   "cell_type": "markdown",
   "metadata": {},
   "source": [
    "<p style=\"text-align: right; direction: rtl; float: right; clear: both;\">\n",
    "מכיוון שמילון הוא iterable, דרך מקובלת לעבור עליו היא באמצעות לולאת <code>for</code>.<br>\n",
    "ננסה להשתמש בלולאת <code>for</code> על המילון, ונראה מה התוצאות:\n",
    "</p>"
   ]
  },
  {
   "cell_type": "code",
   "execution_count": 53,
   "metadata": {},
   "outputs": [
    {
     "name": "stdout",
     "output_type": "stream",
     "text": [
      "Alice\n",
      "Mad hatter\n",
      "Achiles\n"
     ]
    }
   ],
   "source": [
    "loved_animals = {'Alice': 'Cat', 'Mad hatter': 'Hare', 'Achiles': 'Tortoise'}\n",
    "for something in loved_animals:\n",
    "    print(something)"
   ]
  },
  {
   "cell_type": "markdown",
   "metadata": {},
   "source": [
    "<p style=\"text-align: right; direction: rtl; float: right; clear: both;\">\n",
    "    נראה שקיבלנו רק את המפתחות, בלי הערכים.<br>\n",
    "    נסיק מכאן שמילון הוא אמנם iterable, אך בכל חזרור הוא מחזיר לנו רק את המפתח, בלי הערך.\n",
    "</p>"
   ]
  },
  {
   "cell_type": "markdown",
   "metadata": {},
   "source": [
    "<p style=\"text-align: right; direction: rtl; float: right; clear: both;\">\n",
    "    אנחנו כבר יודעים איך משיגים את הערך של מפתח מסוים.<br>\n",
    "    נוכל להשתמש בידע הזה כדי לקבל בכל חזרור גם את המפתח, וגם את הערך:\n",
    "</p>"
   ]
  },
  {
   "cell_type": "code",
   "execution_count": 88,
   "metadata": {},
   "outputs": [
    {
     "name": "stdout",
     "output_type": "stream",
     "text": [
      "loved_animals items:\n",
      "Alice      -----> Cat.\n",
      "Mad hatter -----> Hare.\n",
      "Achiles    -----> Tortoise.\n"
     ]
    }
   ],
   "source": [
    "loved_animals = {'Alice': 'Cat', 'Mad hatter': 'Hare', 'Achiles': 'Tortoise'}\n",
    "print('loved_animals items:')\n",
    "for key in loved_animals:\n",
    "    value = loved_animals[key]\n",
    "    print(f\"{key:10} -----> {value}.\")  # תרגיל קטן: זהו את הטריק שגורם לזה להראות כל־כך טוב בהדפסה"
   ]
  },
  {
   "cell_type": "markdown",
   "metadata": {},
   "source": [
    "<p style=\"text-align: right; direction: rtl; float: right; clear: both;\">\n",
    "אבל זה לא נראה אלגנטי מי־יודע־מה, ומרגיש שיש פתרון טוב יותר.\n",
    "</p>"
   ]
  },
  {
   "cell_type": "markdown",
   "metadata": {},
   "source": [
    "<p style=\"text-align: right; direction: rtl; float: right; clear: both;\">\n",
    "הפעולה <code>items</code> על מילונים יכולה לעזור במקרה הזה.<br>\n",
    "הפעולה מחזירה זוגות איברים, כאשר בכל זוג האיבר הראשון הוא המפתח והאיבר השני הוא הערך.\n",
    "</p>"
   ]
  },
  {
   "cell_type": "code",
   "execution_count": 86,
   "metadata": {},
   "outputs": [
    {
     "name": "stdout",
     "output_type": "stream",
     "text": [
      "[('Alice', 'Cat'), ('Mad hatter', 'Hare'), ('Achiles', 'Tortoise')]\n"
     ]
    }
   ],
   "source": [
    "print(list(loved_animals.items()))"
   ]
  },
  {
   "cell_type": "markdown",
   "metadata": {},
   "source": [
    "<p style=\"text-align: right; direction: rtl; float: right; clear: both;\">\n",
    "מאחר שמדובר פה על איברים שבאים בזוגות, נוכל להשתמש בפריקת איברים שלמדנו בשיעור על לולאות <code>for</code>:\n",
    "</p>"
   ]
  },
  {
   "cell_type": "code",
   "execution_count": 83,
   "metadata": {},
   "outputs": [
    {
     "name": "stdout",
     "output_type": "stream",
     "text": [
      "loved_animals items:\n",
      "Alice      -----> Cat.\n",
      "Mad hatter -----> Hare.\n",
      "Achiles    -----> Tortoise.\n"
     ]
    }
   ],
   "source": [
    "print('loved_animals items:')\n",
    "for key, value in loved_animals.items():\n",
    "    print(f\"{key:10} -----> {value}.\")"
   ]
  },
  {
   "cell_type": "markdown",
   "metadata": {},
   "source": [
    "<p style=\"text-align: right; direction: rtl; float: right; clear: both;\">\n",
    "בלולאה שמופיעה למעלה ניצלנו את העובדה שהפעולה <code>items</code> מחזירה לנו איברים בזוגות: מפתח וערך.<br>\n",
    "בכל חזרור, אנחנו מכניסים למשתנה <var>key</var> את האיבר הראשון בזוג, ולמשתנה <var>value</var> את האיבר השני בזוג.<br>\n",
    "נוכל להיות אפילו יותר מנומסים ולתת למשתנים הללו שמות ראויים:\n",
    "</p>"
   ]
  },
  {
   "cell_type": "code",
   "execution_count": 87,
   "metadata": {},
   "outputs": [
    {
     "name": "stdout",
     "output_type": "stream",
     "text": [
      "loved_animals items:\n",
      "Alice      -----> Cat.\n",
      "Mad hatter -----> Hare.\n",
      "Achiles    -----> Tortoise.\n"
     ]
    }
   ],
   "source": [
    "print('loved_animals items:')\n",
    "for character, animal in loved_animals.items():\n",
    "    print(f\"{character:10} -----> {animal}.\")"
   ]
  },
  {
   "cell_type": "markdown",
   "metadata": {},
   "source": [
    "## <span style=\"text-align: right; direction: rtl; float: right; clear: both;\">מחיקת איבר במילון</span>"
   ]
  },
  {
   "cell_type": "markdown",
   "metadata": {},
   "source": [
    "<p style=\"text-align: right; direction: rtl; float: right; clear: both;\">\n",
    "לפעמים עולה צורך למחוק ממילון מפתח ואת הערך שקשור אליו.<br>\n",
    "כפי שאולי ניחשתם, אין אפשרות למחוק רק את המפתח או רק את הערך – הם באים יחד.<br>\n",
    "נרצה למחוק מפתח וערך מהמילון כשחשוב לנו לחסוך מקום בזכרון המחשב, או כשהם כבר לא רלוונטיים ומפריעים לנו.\n",
    "</p>"
   ]
  },
  {
   "cell_type": "markdown",
   "metadata": {},
   "source": [
    "### <span style=\"text-align: right; direction: rtl; float: right; clear: both;\">מילת המפתח <code>del</code></span>"
   ]
  },
  {
   "cell_type": "markdown",
   "metadata": {},
   "source": [
    "<p style=\"text-align: right; direction: rtl; float: right; clear: both;\">\n",
    "הדרך הראשונה למחוק מפתח וערך ממילון היא להשתמש במילת המפתח <code>del</code>, שטרם הכרנו.<br>\n",
    "מילת המפתח <code>del</code> באה מהמילה <em>delete</em> (למחוק).<br>\n",
    "אפשר להשתמש בה גם כדי למחוק תאים מרשימה או למחוק משתנים, למרות שהשימושים הללו נדירים למדי.<br>\n",
    "נציין את שם המילון ואת המפתח שנרצה למחוק:\n",
    "</p>"
   ]
  },
  {
   "cell_type": "code",
   "execution_count": 93,
   "metadata": {},
   "outputs": [
    {
     "name": "stdout",
     "output_type": "stream",
     "text": [
      "{'Alice': 'Cat', 'Mad hatter': 'Hare'}\n"
     ]
    }
   ],
   "source": [
    "loved_animals = {'Alice': 'Cat', 'Mad hatter': 'Hare', 'Achiles': 'Tortoise'}\n",
    "del loved_animals['Achiles']\n",
    "print(loved_animals)"
   ]
  },
  {
   "cell_type": "markdown",
   "metadata": {},
   "source": [
    "### <span style=\"text-align: right; direction: rtl; float: right; clear: both;\">הפעולה <code>pop</code></span>"
   ]
  },
  {
   "cell_type": "markdown",
   "metadata": {},
   "source": [
    "<p style=\"text-align: right; direction: rtl; float: right; clear: both;\">\n",
    "פעמים רבות נרצה לקבל את הערך של המפתח שאנחנו מוחקים.<br>\n",
    "למרבה הצער, מילת המפתח <code>del</code> מוחקת את המפתח והערך בלי להחזיר שום מידע על הנתונים שנמחקו.<br>\n",
    "נוכל לקבל את הערך שנמחק בכל־זאת בעזרת הפעולה <code>pop</code>, שחוץ מלמחוק זוג של מפתח וערך, גם מחזירה את הערך שמחקה:\n",
    "</p>"
   ]
  },
  {
   "cell_type": "code",
   "execution_count": 107,
   "metadata": {},
   "outputs": [
    {
     "name": "stdout",
     "output_type": "stream",
     "text": [
      "{'Alice': 'Cat', 'Mad hatter': 'Hare'}\n",
      "Tortoise\n"
     ]
    }
   ],
   "source": [
    "loved_animals = {'Alice': 'Cat', 'Mad hatter': 'Hare', 'Achiles': 'Tortoise'}\n",
    "deleted_value = loved_animals.pop('Achiles')\n",
    "print(loved_animals)\n",
    "print(deleted_value)"
   ]
  },
  {
   "cell_type": "markdown",
   "metadata": {},
   "source": [
    "## <span style=\"text-align: right; direction: rtl; float: right; clear: both;\">מפתחות שלא קיימים</span>"
   ]
  },
  {
   "cell_type": "markdown",
   "metadata": {},
   "source": [
    "### <span style=\"text-align: right; direction: rtl; float: right; clear: both;\">הבעיה</span>"
   ]
  },
  {
   "cell_type": "markdown",
   "metadata": {},
   "source": [
    "<p style=\"text-align: right; direction: rtl; float: right; clear: both;\">\n",
    "מילונים הם טיפוסים קצת רגישים. הם לא אוהבים כשמזכירים להם מה אין בהם.<br>\n",
    "אם ננסה לפנות למילון ולבקש ממנו מפתח שאין לו, נקבל הודעת שגיאה.<br>\n",
    "בפעמים הראשונות שתתעסקו עם מילונים, יש סיכוי לא מבוטל שתקבלו <code>KeyError</code> שנראה כך:<br>\n",
    "</p>"
   ]
  },
  {
   "cell_type": "code",
   "execution_count": 97,
   "metadata": {},
   "outputs": [
    {
     "ename": "KeyError",
     "evalue": "'Achiles'",
     "output_type": "error",
     "traceback": [
      "\u001b[1;31m---------------------------------------------------------------------------\u001b[0m",
      "\u001b[1;31mKeyError\u001b[0m                                  Traceback (most recent call last)",
      "\u001b[1;32m<ipython-input-97-17617452971a>\u001b[0m in \u001b[0;36m<module>\u001b[1;34m\u001b[0m\n\u001b[0;32m      1\u001b[0m \u001b[0mempty_dict\u001b[0m \u001b[1;33m=\u001b[0m \u001b[1;33m{\u001b[0m\u001b[1;33m}\u001b[0m\u001b[1;33m\u001b[0m\u001b[1;33m\u001b[0m\u001b[0m\n\u001b[1;32m----> 2\u001b[1;33m \u001b[0mempty_dict\u001b[0m\u001b[1;33m[\u001b[0m\u001b[1;34m'Achiles'\u001b[0m\u001b[1;33m]\u001b[0m\u001b[1;33m\u001b[0m\u001b[1;33m\u001b[0m\u001b[0m\n\u001b[0m",
      "\u001b[1;31mKeyError\u001b[0m: 'Achiles'"
     ]
    }
   ],
   "source": [
    "empty_dict = {}\n",
    "empty_dict['Achiles']"
   ]
  },
  {
   "cell_type": "markdown",
   "metadata": {},
   "source": [
    "### <span style=\"text-align: right; direction: rtl; float: right; clear: both;\"><code>in</code> במילונים</span>"
   ]
  },
  {
   "cell_type": "markdown",
   "metadata": {},
   "source": [
    "<p style=\"text-align: right; direction: rtl; float: right; clear: both;\">\n",
    "יש מספר דרכים לגשת לבעיה הזו.<br>\n",
    "דרך אפשרית אחת היא לבדוק שהמפתח קיים לפני שאנחנו ניגשים אליו:</p>"
   ]
  },
  {
   "cell_type": "code",
   "execution_count": 116,
   "metadata": {},
   "outputs": [
    {
     "data": {
      "text/plain": [
       "True"
      ]
     },
     "execution_count": 116,
     "metadata": {},
     "output_type": "execute_result"
    }
   ],
   "source": [
    "loved_animals = {'Alice': 'Cat', 'Mad hatter': 'Hare', 'Achiles': 'Tortoise'}\n",
    "'Achiles' in loved_animals"
   ]
  },
  {
   "cell_type": "markdown",
   "metadata": {},
   "source": [
    "<p style=\"text-align: right; direction: rtl; float: right; clear: both;\">\n",
    "כאן השתמשנו באופרטור ההשוואה <code>in</code> כדי לבדוק האם מפתח מסוים נמצא במילון.<br>\n",
    "לרוב, גם נבקש את הערך לאחר שבדקנו שהוא קיים:\n",
    "</p>"
   ]
  },
  {
   "cell_type": "code",
   "execution_count": 118,
   "metadata": {},
   "outputs": [
    {
     "name": "stdout",
     "output_type": "stream",
     "text": [
      "Tortoise\n"
     ]
    }
   ],
   "source": [
    "loved_animals = {'Alice': 'Cat', 'Mad hatter': 'Hare', 'Achiles': 'Tortoise'}\n",
    "\n",
    "if 'Achiles' in loved_animals:\n",
    "    value = loved_animals['Achiles']\n",
    "else:\n",
    "    value = 'Pony'\n",
    "\n",
    "print(value)"
   ]
  },
  {
   "cell_type": "markdown",
   "metadata": {},
   "source": [
    "<p style=\"text-align: right; direction: rtl; float: right; clear: both;\">\n",
    "בקוד שלמעלה, השתמשנו באופרטור ההשוואה <code>in</code> כדי לבדוק האם מפתח מסוים (\"אכילס\") קיים בתוך המילון שיצרנו בשורה הראשונה.<br>\n",
    "אם הוא נמצא שם, חילצנו את הערך שמצומד לאותו מפתח (ל\"אכילס\"). אם לא, המצאנו ערך משלנו – \"פוני\".<br>\n",
    "</p>"
   ]
  },
  {
   "cell_type": "markdown",
   "metadata": {},
   "source": [
    "<div class=\"align-center\" style=\"display: flex; text-align: right; direction: rtl;\">\n",
    "    <div style=\"display: flex; width: 10%; float: right; \">\n",
    "        <img src=\"images/warning.png\" style=\"height: 50px !important;\" alt=\"אזהרה!\"> \n",
    "    </div>\n",
    "    <div style=\"width: 90%\">\n",
    "        <p style=\"text-align: right; direction: rtl;\">\n",
    "            מעבר על מילון יחזיר בכל חזרור מפתח בודד.<br>\n",
    "            מהסיבה הזו, אופרטור ההשוואה <code>in</code> יבדוק רק האם קיים <em>מפתח</em> כזה במילון, ולא יבדוק האם ערך שכזה קיים.\n",
    "        </p>\n",
    "    </div>\n",
    "</div>"
   ]
  },
  {
   "cell_type": "markdown",
   "metadata": {},
   "source": [
    "<div class=\"align-center\" style=\"display: flex; text-align: right; direction: rtl; clear: both;\">\n",
    "    <div style=\"display: flex; width: 10%; float: right; clear: both;\">\n",
    "        <img src=\"images/exercise.svg\" style=\"height: 50px !important;\" alt=\"תרגול\"> \n",
    "    </div>\n",
    "    <div style=\"width: 70%\">\n",
    "        <p style=\"text-align: right; direction: rtl; float: right; clear: both;\">\n",
    "            כתבו פונקציה שמקבלת שלושה פרמטרים: מילון, מפתח וערך ברירת־מחדל.<br>\n",
    "            הפונקציה תחפש במילון את המפתח, ובמידה והוא קיים תחזיר את הערך שלו.<br>\n",
    "            אם המפתח לא קיים במילון, הפונקציה תחזיר את ערך ברירת־המחדל.\n",
    "        </p>\n",
    "    </div>\n",
    "    <div style=\"display: flex; width: 20%; border-right: 0.1rem solid #A5A5A5; padding: 1rem 2rem;\">\n",
    "        <p style=\"text-align: center; direction: rtl; justify-content: center; align-items: center; clear: both;\">\n",
    "            <strong>חשוב!</strong><br>\n",
    "            פתרו לפני שתמשיכו!\n",
    "        </p>\n",
    "    </div>\n",
    "</div>"
   ]
  },
  {
   "cell_type": "markdown",
   "metadata": {},
   "source": [
    "<p style=\"text-align: right; direction: rtl; float: right; clear: both;\">\n",
    "ננסה לכתוב את הרעיון בקוד שלמעלה כפונקציה כללית:\n",
    "</p>"
   ]
  },
  {
   "cell_type": "code",
   "execution_count": 122,
   "metadata": {},
   "outputs": [],
   "source": [
    "def get_value(dictionary, key, default_value):\n",
    "    if key in dictionary:\n",
    "        return dictionary[key]\n",
    "    else:\n",
    "        return default_value"
   ]
  },
  {
   "cell_type": "markdown",
   "metadata": {},
   "source": [
    "<p style=\"text-align: right; direction: rtl; float: right; clear: both;\">\n",
    "הפונקציה שלמעלה מקבלת מילון, מפתח וערך ברירת־מחדל.<br>\n",
    "אם היא מוצאת את המפתח במילון, היא מחזירה את הערך של אותו מפתח.<br>\n",
    "אם היא לא מוצאת את המפתח במילון, היא מחזירה את ערך ברירת המחדל שנקבע.\n",
    "</p>"
   ]
  },
  {
   "cell_type": "markdown",
   "metadata": {},
   "source": [
    "<p style=\"text-align: right; direction: rtl; float: right; clear: both;\">\n",
    "נבדוק שהפונקציה עובדת:\n",
    "</p>"
   ]
  },
  {
   "cell_type": "code",
   "execution_count": 123,
   "metadata": {},
   "outputs": [
    {
     "name": "stdout",
     "output_type": "stream",
     "text": [
      "Mad hatter: Hare\n",
      "Queen of hearts: Pony\n"
     ]
    }
   ],
   "source": [
    "loved_animals = {'Alice': 'Cat', 'Mad hatter': 'Hare', 'Achiles': 'Tortoise'}\n",
    "print(\"Mad hatter: \" + get(loved_animals, 'Mad hatter', 'Pony'))\n",
    "print(\"Queen of hearts: \" + get(loved_animals, 'Queen of hearts', 'Pony'))"
   ]
  },
  {
   "cell_type": "markdown",
   "metadata": {},
   "source": [
    "<p style=\"text-align: right; direction: rtl; float: right; clear: both;\">\n",
    "ובכן, זו פונקציה כייפית. כמה נוח היה לו היא הייתה פעולה של מילון.</p>"
   ]
  },
  {
   "cell_type": "markdown",
   "metadata": {},
   "source": [
    "### <span style=\"text-align: right; direction: rtl; float: right; clear: both;\">הפעולה <code>get</code> במילונים</span>"
   ]
  },
  {
   "cell_type": "markdown",
   "metadata": {},
   "source": [
    "<p style=\"text-align: right; direction: rtl; float: right; clear: both;\">\n",
    "מי היה מאמין, יש פעולה שכזו במילונים! ננסה להפעיל אותה על המילון שלנו.<br>\n",
    "שימו לב לצורת הקריאה לפעולה, ששונה מהקריאה לפונקציה שכתבנו למעלה – שם המשתנה של המילון בא לפני שם הפעולה. מדובר בפעולה, ולא בפונקציה:\n",
    "</p>"
   ]
  },
  {
   "cell_type": "code",
   "execution_count": 127,
   "metadata": {},
   "outputs": [
    {
     "name": "stdout",
     "output_type": "stream",
     "text": [
      "Mad hatter: Hare\n",
      "Queen of hearts: Pony\n"
     ]
    }
   ],
   "source": [
    "loved_animals = {'Alice': 'Cat', 'Mad hatter': 'Hare', 'Achiles': 'Tortoise'}\n",
    "print(\"Mad hatter: \" + loved_animals.get('Mad hatter', 'Pony'))\n",
    "print(\"Queen of hearts: \" + loved_animals.get('Queen of hearts', 'Pony'))"
   ]
  },
  {
   "cell_type": "markdown",
   "metadata": {},
   "source": [
    "<p style=\"text-align: right; direction: rtl; float: right; clear: both;\">\n",
    "טריק קסום אחרון שנראה הוא שהפעולה <code>get</code> רחמנית ממש, ויודעת להתמודד גם אם לא נותנים לה ערך ברירת־מחדל.<br>\n",
    "אם תספקו רק את שם המפתח שממנו תרצו לאחזר ערך, היא תחפש אותו ותחזיר את הערך שלו אם הוא קיים.<br>\n",
    "אם המפתח לא קיים ולא סופק ערך ברירת־מחדל, היא תחזיר את הערך <code>None</code>:\n",
    "</p>"
   ]
  },
  {
   "cell_type": "code",
   "execution_count": 130,
   "metadata": {},
   "outputs": [
    {
     "name": "stdout",
     "output_type": "stream",
     "text": [
      "Hare\n",
      "None\n"
     ]
    }
   ],
   "source": [
    "loved_animals = {'Alice': 'Cat', 'Mad hatter': 'Hare', 'Achiles': 'Tortoise'}\n",
    "print(loved_animals.get('Mad hatter'))\n",
    "print(loved_animals.get('Queen of hearts'))"
   ]
  },
  {
   "cell_type": "markdown",
   "metadata": {},
   "source": [
    "<div class=\"align-center\" style=\"display: flex; text-align: right; direction: rtl;\">\n",
    "    <div style=\"display: flex; width: 10%; float: right; \">\n",
    "        <img src=\"images/recall.svg\" style=\"height: 50px !important;\" alt=\"תזכורת\"> \n",
    "    </div>\n",
    "    <div style=\"width: 90%\">\n",
    "        <p style=\"text-align: right; direction: rtl;\">\n",
    "            הערך המיוחד <code>None</code> הוא דרך פייתונית להגיד \"כלום\".<br>\n",
    "            ניתן לדמיין אותו כמו רִיק (וָקוּם). לא הערך המספרי אפס, לא <code>False</code>. פשוט כלום.\n",
    "        </p>\n",
    "    </div>\n",
    "</div>"
   ]
  },
  {
   "cell_type": "markdown",
   "metadata": {},
   "source": [
    "## <span style=\"text-align: right; direction: rtl; float: right; clear: both;\">מבנים מורכבים נפוצים</span>"
   ]
  },
  {
   "cell_type": "markdown",
   "metadata": {},
   "source": [
    "<p style=\"text-align: right; direction: rtl; float: right; clear: both;\">\n",
    "העולם לעיתים מורכב, וניסיון לארגן מידע רב יכול ליצור מבני נתונים שנראים מסובכים במבט ראשון.<br>\n",
    "</p>"
   ]
  },
  {
   "cell_type": "markdown",
   "metadata": {},
   "source": [
    "### <span style=\"text-align: right; direction: rtl; float: right;\">רשימת מילונים</span>"
   ]
  },
  {
   "cell_type": "markdown",
   "metadata": {},
   "source": [
    "<p style=\"text-align: right; direction: rtl; float: right; clear: both;\">\n",
    "נראה, לדוגמה, דרך לייצג מאגר קטן של משתמשים:\n",
    "</p>"
   ]
  },
  {
   "cell_type": "code",
   "execution_count": 139,
   "metadata": {},
   "outputs": [],
   "source": [
    "users = [\n",
    "    {'name': 'Scarlett Johansson', 'age': 34, 'country': 'Unitee States'},\n",
    "    {'name': 'Guido Van Russon', 'age': 63, 'country': 'Netherlands', 'spouse': 'Kim Knapp'},\n",
    "    {'name': 'George R. R. Martin', 'age': 70, 'country': 'United States', 'spouse': 'Parris McBride'},\n",
    "]"
   ]
  },
  {
   "cell_type": "markdown",
   "metadata": {},
   "source": [
    "<div class=\"align-center\" style=\"display: flex; text-align: right; direction: rtl;\">\n",
    "    <div style=\"display: flex; width: 10%; \">\n",
    "        <img src=\"images/tip.png\" style=\"height: 50px !important;\" alt=\"אזהרה!\"> \n",
    "    </div>\n",
    "    <div style=\"width: 90%\">\n",
    "        <p style=\"text-align: right; direction: rtl;\">\n",
    "            כדי לסגנן את הקוד שלנו, הרבה פעמים נרד שורה גם כשלא חייבים.<br>\n",
    "            נפוץ מאוד לרדת שורה במבנים ארוכים אחרי שפתחנו סוגריים – פייתון מבינה שמדובר באותה שורה.\n",
    "        </p>\n",
    "    </div>\n",
    "</div>"
   ]
  },
  {
   "cell_type": "markdown",
   "metadata": {},
   "source": [
    "<p style=\"text-align: right; direction: rtl; float: right; clear: both;\">\n",
    "למעלה מוצגת רשימה שמכילה 3 מילונים. אפשר לעבור עליה בעזרת לולאה כמו כל רשימה אחרת.<br>\n",
    "נדפיס את השם של כל אחד מהמשתמשים:\n",
    "</p>"
   ]
  },
  {
   "cell_type": "code",
   "execution_count": 140,
   "metadata": {},
   "outputs": [
    {
     "name": "stdout",
     "output_type": "stream",
     "text": [
      "Scarlett Johansson\n",
      "Guido Van Russon\n",
      "George R. R. Martin\n"
     ]
    }
   ],
   "source": [
    "for user in users:\n",
    "    print(user['name'])"
   ]
  },
  {
   "cell_type": "markdown",
   "metadata": {},
   "source": [
    "<p style=\"text-align: right; direction: rtl; float: right; clear: both;\">\n",
    "נזהר במקרה שיש מפתח שעלול לא להופיע באחד המילונים.<br>\n",
    "לדוגמה, לסקרלט ג'והנסון אין בן־זוג, ולכן כשהלולאה הבאה תגיע אליה היא תקפיץ שגיאה:\n",
    "</p>"
   ]
  },
  {
   "cell_type": "code",
   "execution_count": 142,
   "metadata": {},
   "outputs": [
    {
     "ename": "KeyError",
     "evalue": "'spouse'",
     "output_type": "error",
     "traceback": [
      "\u001b[1;31m---------------------------------------------------------------------------\u001b[0m",
      "\u001b[1;31mKeyError\u001b[0m                                  Traceback (most recent call last)",
      "\u001b[1;32m<ipython-input-142-c15d663d24bf>\u001b[0m in \u001b[0;36m<module>\u001b[1;34m\u001b[0m\n\u001b[0;32m      1\u001b[0m \u001b[1;32mfor\u001b[0m \u001b[0muser\u001b[0m \u001b[1;32min\u001b[0m \u001b[0musers\u001b[0m\u001b[1;33m:\u001b[0m\u001b[1;33m\u001b[0m\u001b[1;33m\u001b[0m\u001b[0m\n\u001b[1;32m----> 2\u001b[1;33m     \u001b[0mprint\u001b[0m\u001b[1;33m(\u001b[0m\u001b[0muser\u001b[0m\u001b[1;33m[\u001b[0m\u001b[1;34m'spouse'\u001b[0m\u001b[1;33m]\u001b[0m\u001b[1;33m)\u001b[0m\u001b[1;33m\u001b[0m\u001b[1;33m\u001b[0m\u001b[0m\n\u001b[0m",
      "\u001b[1;31mKeyError\u001b[0m: 'spouse'"
     ]
    }
   ],
   "source": [
    "for user in users:\n",
    "    print(user['spouse'])"
   ]
  },
  {
   "cell_type": "markdown",
   "metadata": {},
   "source": [
    "<p style=\"text-align: right; direction: rtl; float: right; clear: both;\">\n",
    "נראה דוגמה לטיפול במקרה שכזה בעולם האמיתי:\n",
    "</p>"
   ]
  },
  {
   "cell_type": "code",
   "execution_count": 149,
   "metadata": {},
   "outputs": [
    {
     "name": "stdout",
     "output_type": "stream",
     "text": [
      "Scarlett Johansson has no spouse.\n",
      "Guido Van Russon's spouse is Kim Knapp.\n",
      "George R. R. Martin's spouse is Parris McBride.\n"
     ]
    }
   ],
   "source": [
    "for user in users:\n",
    "    if 'spouse' in user:\n",
    "        print(f\"{user['name']}'s spouse is {user['spouse']}.\")\n",
    "    else:\n",
    "        print(f\"{user['name']} has no spouse.\")"
   ]
  },
  {
   "cell_type": "markdown",
   "metadata": {},
   "source": [
    "<p style=\"text-align: right; direction: rtl; float: right; clear: both;\">\n",
    "או שנרמה קצת בעזרת הפעולה <code>get</code>:\n",
    "</p>"
   ]
  },
  {
   "cell_type": "code",
   "execution_count": 153,
   "metadata": {},
   "outputs": [
    {
     "name": "stdout",
     "output_type": "stream",
     "text": [
      "Scarlett Johansson's spouse is unknown.\n",
      "Guido Van Russon's spouse is Kim Knapp.\n",
      "George R. R. Martin's spouse is Parris McBride.\n"
     ]
    }
   ],
   "source": [
    "for user in users:\n",
    "    spouse = user.get('spouse', 'unknown')\n",
    "    print(f\"{user['name']}'s spouse is {spouse}.\")"
   ]
  },
  {
   "cell_type": "markdown",
   "metadata": {},
   "source": [
    "### <span style=\"text-align: right; direction: rtl; float: right;\">ערכים מרובים במפתח אחד</span>"
   ]
  },
  {
   "cell_type": "markdown",
   "metadata": {},
   "source": [
    "<p style=\"text-align: right; direction: rtl; float: right; clear: both;\">\n",
    "לולאת <code>for</code> יוצרת מבנה אלגנטי וקריא, ומתכנתים רבים מעדיפים אותה על־פני לולאת <code>while</code>.<br>\n",
    "ננסה לעמוד על ההבדלים בין הלולאות:<br>\n",
    "</p>"
   ]
  },
  {
   "cell_type": "markdown",
   "metadata": {},
   "source": [
    "## <span style=\"align: right; direction: rtl; float: right; clear: both;\">מתי להשתמש</span>"
   ]
  },
  {
   "cell_type": "markdown",
   "metadata": {},
   "source": [
    "<p style=\"text-align: right; direction: rtl; float: right; clear: both;\">\n",
    "לולאת <code>for</code> יוצרת מבנה אלגנטי וקריא, ומתכנתים רבים מעדיפים אותה על־פני לולאת <code>while</code>.<br>\n",
    "ננסה לעמוד על ההבדלים בין הלולאות:<br>\n",
    "</p>"
   ]
  },
  {
   "cell_type": "markdown",
   "metadata": {},
   "source": [
    "## <span style=\"align: right; direction: rtl; float: right; clear: both;\">דוגמאות נוספות</span>"
   ]
  },
  {
   "cell_type": "markdown",
   "metadata": {},
   "source": [
    "### <span style=\"text-align: right; direction: rtl; float: right;\">דוגמאות מילוליות נוספות</span>"
   ]
  },
  {
   "cell_type": "markdown",
   "metadata": {},
   "source": [
    "<ul style=\"text-align: right; direction: rtl; float: right; clear: both;\">\n",
    "    <li>עבור כל עמוד בספר – קרא את העמוד.</li>\n",
    "    <li>עבור כל צלחת – הכנס אותה מתחת למים חמים, שפשף אותה היטב עם סקוטץ' ספוג בסבון, נגב אותה עם מגבת יבשה ושים אותה במתקן לייבוש כלים.</li>\n",
    "    <li>חשב את הגובה הממוצע של תלמיד, מתוך רשימה של 1000 תלמידים.</li>\n",
    "    <li>בליל כל הקדושים, התחפש, צא החוצה, ועבור כל בית ברחוב: לך לבית, צלצל בפעמון, אמור \"ממתק או תעלול\", קח ממתק ואמור תודה.</li>\n",
    "</ul>"
   ]
  },
  {
   "cell_type": "markdown",
   "metadata": {},
   "source": [
    "### <span style=\"text-align: right; direction: rtl; float: right;\">דוגמאות קוד</span>"
   ]
  },
  {
   "cell_type": "markdown",
   "metadata": {},
   "source": [
    "#### <span style=\"text-align: right; direction: rtl; float: right;\">סכום רשימה</span>"
   ]
  },
  {
   "cell_type": "code",
   "execution_count": null,
   "metadata": {},
   "outputs": [],
   "source": [
    "def total(numbers):\n",
    "    total = 0\n",
    "    for number in numbers:\n",
    "        total = total + number\n",
    "    return total\n",
    "    \n",
    "\n",
    "print(total([1, 2, 3]))"
   ]
  },
  {
   "cell_type": "markdown",
   "metadata": {},
   "source": [
    "## <span style=\"align: right; direction: rtl; float: right; clear: both;\">מונחים</span>"
   ]
  },
  {
   "cell_type": "markdown",
   "metadata": {},
   "source": [
    "<dl style=\"text-align: right; direction: rtl; float: right; clear: both;\">\n",
    "<dt>קובץ טקסטואלי</dt><dd>קובץ שאם ממירים את הבייטים ממנו הוא מורכב לתווים, מקבלים קובץ שקריא על־ידי בני אדם.</dd>\n",
    "<dt>קובץ בינארי</dt><dd>קובץ שהתוכן שלו לא נועד לקריאה על־ידי עין אנושית.</dd>\n",
    "<dt>סמן</dt><dd>מצביע על המקום הנוכחי בקובץ, ממנו הפעולות יתבצעו (קריאה, כתיבה וכדומה).</dd>\n",
    "<dt>ASCII</dt><dd>שיטה מוסכמת לייצוג תווים בזיכרון ובקבצים.</dd>\n",
    "<dt>תסדיר</dt><dd>פורמט, מוסכמה על הדרך שבה ייצגו קובץ מסויים.</dd>\n",
    "</dl>"
   ]
  },
  {
   "cell_type": "markdown",
   "metadata": {},
   "source": [
    "## <span style=\"align: right; direction: rtl; float: right; clear: both;\">תרגולים</span>"
   ]
  },
  {
   "cell_type": "markdown",
   "metadata": {},
   "source": [
    "### <span style=\"align: right; direction: ltr; float: right; clear: both;\">אקרוסטיכון</span>"
   ]
  },
  {
   "cell_type": "markdown",
   "metadata": {},
   "source": [
    "<p style=\"text-align: right; direction: rtl; float: right; clear: both;\">\n",
    "<dfn>אקרוסטיכון</dfn> הוא אמצעי בו משתמשים בכתיבה ספרותית.<br>\n",
    "בשיר בו יש אקרוסטיכון, אם נסתכל על האות הראשונה בכל שורה, נקבל מסר מסויים.<br>\n",
    "ניקח לדוגמה את שירו של אדגר אלן פו, \"אקרוסטיכון\", אותו הוא הקדיש ללטישיה אליזבת' לאנדון ובו יש את האקרוסטיכון <strong>ELIZABETH</strong>:\n",
    "</p>"
   ]
  }
 ],
 "metadata": {
  "kernelspec": {
   "display_name": "Python 3",
   "language": "python",
   "name": "python3"
  },
  "language_info": {
   "codemirror_mode": {
    "name": "ipython",
    "version": 3
   },
   "file_extension": ".py",
   "mimetype": "text/x-python",
   "name": "python",
   "nbconvert_exporter": "python",
   "pygments_lexer": "ipython3",
   "version": "3.7.4"
  }
 },
 "nbformat": 4,
 "nbformat_minor": 2
}
