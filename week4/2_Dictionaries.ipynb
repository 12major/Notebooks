{
 "cells": [
  {
   "cell_type": "markdown",
   "metadata": {},
   "source": [
    "<img src=\"images/logo.jpg\" style=\"display: block; margin-left: auto; margin-right: auto;\" alt=\"לוגו של מיזם לימוד הפייתון. נחש מצויר בצבעי צהוב וכחול, הנע בין האותיות של שם הקורס: לומדים פייתון. הסלוגן המופיע מעל לשם הקורס הוא מיזם חינמי ללימוד תכנות בעברית.\">"
   ]
  },
  {
   "cell_type": "markdown",
   "metadata": {},
   "source": [
    "# <span style=\"text-align: right; direction: rtl; float: right;\">מילונים</span>"
   ]
  },
  {
   "cell_type": "markdown",
   "metadata": {},
   "source": [
    "## <span style=\"text-align: right; direction: rtl; float: right; clear: both;\">הקדמה</span>"
   ]
  },
  {
   "cell_type": "markdown",
   "metadata": {},
   "source": [
    "<p style=\"text-align: right; direction: rtl; float: right; clear: both;\">\n",
    "    ברשימה הבאה, כל תבליט מייצג אוסף של נתונים:\n",
    "</p>"
   ]
  },
  {
   "cell_type": "markdown",
   "metadata": {},
   "source": [
    "<ul style=\"text-align: right; direction: rtl; float: right; clear: both;\">\n",
    "    <li>בחנות של האדון קשטן יש 2 בננות, 3 תפוחים ו־4 גזרים.</li>\n",
    "    <li>תעודת הזהות של ג'ני היא 086753092, של קווין 133713370, של איינשטיין 071091797 ושל מנחם 111111118.</li>\n",
    "    <li>לקווין מהסעיף הקודם יש צוללות בצבע אדום וכחול. הצוללות של ג'ני מהסעיף הקודם בצבעים שחור וירוק. הצוללת שלי צהובה.</li>\n",
    "    <li>המחיר של פאי בחנות של קשטן היא 3.141 שקלים. המחיר של אווז מחמד בחנות של קשטן הוא 9.0053 שקלים.</li>\n",
    "</ul>"
   ]
  },
  {
   "cell_type": "markdown",
   "metadata": {},
   "source": [
    "<div class=\"align-center\" style=\"display: flex; text-align: right; direction: rtl; clear: both;\">\n",
    "    <div style=\"display: flex; width: 10%; float: right; clear: both;\">\n",
    "        <img src=\"images/exercise.svg\" style=\"height: 50px !important;\" alt=\"תרגול\"> \n",
    "    </div>\n",
    "    <div style=\"width: 70%\">\n",
    "        <p style=\"text-align: right; direction: rtl; float: right; clear: both;\">\n",
    "            נסו למצוא מאפיינים משותפים לאוספים שהופיעו מעלה.\n",
    "        </p>\n",
    "    </div>\n",
    "    <div style=\"display: flex; width: 20%; border-right: 0.1rem solid #A5A5A5; padding: 1rem 2rem;\">\n",
    "        <p style=\"text-align: center; direction: rtl; justify-content: center; align-items: center; clear: both;\">\n",
    "            <strong>חשוב!</strong><br>\n",
    "            פתרו לפני שתמשיכו!\n",
    "        </p>\n",
    "    </div>\n",
    "</div>"
   ]
  },
  {
   "cell_type": "markdown",
   "metadata": {},
   "source": [
    "<p style=\"text-align: right; direction: rtl; float: right; clear: both;\">\n",
    "    ניתן לחלק כל אחד מהאוספים שכתבנו למעלה ל־2 קבוצות ערכים.<br>\n",
    "    הראשונה – הנושאים של האוסף. עבור החנות של קשטן, לדוגמה, הפריט שאנחנו מחזיקים בחנות.<br>\n",
    "    השנייה – הפריטים שהם <em>נתון כלשהו</em> לגבי הפריט הראשון: המלאי מאותו פריט, לדוגמה.<br>\n",
    "</p>"
   ]
  },
  {
   "cell_type": "markdown",
   "metadata": {},
   "source": [
    "<figure>\n",
    "    <img src=\"images/dictionary_groups.svg?v=1\" style=\"max-width:100%; margin-right: auto; margin-left: auto; text-align: center;\" alt=\"בתמונה מופיעים 4 עיגולים בימין ו־4 עיגולים בשמאל. העיגולים בימין, בעלי הכותרת 'נושא', מצביעים על העיגולים בשמאל שכותרתם 'נתון לגבי הנושא'. כל עיגול בימין מצביע לעיגול בשמאל. 'פריט בחנות' מצביע ל'מלאי של הפריט', 'מספר תעודת זהות' מצביע ל'השם שמשויך למספר', 'בן אדם' מצביע ל'צבעי הצוללות שבבעלותו' ו'פריט בחנות' (עיגול נוסף באותו שם כמו העיגול הראשון) מצביע ל'מחיר הפריט'.\"/>\n",
    "    <figcaption style=\"text-align: center; direction: rtl;\">חלוקת האוספים ל־2 קבוצות של ערכים.</figcaption>\n",
    "</figure>"
   ]
  },
  {
   "cell_type": "markdown",
   "metadata": {},
   "source": [
    "<p style=\"text-align: right; direction: rtl; float: right; clear: both;\">\n",
    "    פריטים מהקבוצה הראשונה לעולם לא יחזרו על עצמם – אין היגיון בכך ש\"תפוח ירוק\" יופיע פעמיים ברשימת המלאי בחנות, ולא יתכן מצב של שני מספרי תעודת־זהות זהים.<br> \n",
    "    הפריטים מהקבוצה השנייה, לעומת זאת, יכולים לחזור על עצמם – הגיוני שיהיו אותה כמות של בננות ותפוחים בחנות, או שני אנשים בעלי תעודת־זהות שונה שנקראים \"משה כהן\".\n",
    "</p>"
   ]
  },
  {
   "cell_type": "markdown",
   "metadata": {},
   "source": [
    "<p style=\"text-align: right; direction: rtl; float: right; clear: both;\">\n",
    "    נבחן את המאפיינים המשותפים לעומק בהתייחס לדוגמאות:\n",
    "</p>"
   ]
  },
  {
   "cell_type": "markdown",
   "metadata": {},
   "source": [
    "<table style=\"text-align: right; direction: rtl; clear: both; font-size: 1.3rem\">\n",
    "    <caption style=\"text-align: center; direction: rtl; clear: both; font-size: 2rem; padding-bottom: 2rem;\">המשותף בין האוספים</caption>\n",
    "    <thead>\n",
    "        <tr>\n",
    "            <th>אוסף</th>\n",
    "            <th>הערך הקושר (קבוצה ראשונה)</th>\n",
    "            <th>הערך המתאים לו (קבוצה שנייה)</th>\n",
    "            <th>הסבר</th>\n",
    "        </tr>\n",
    "    </thead>\n",
    "    <tbody>\n",
    "        <tr>\n",
    "            <td>מוצרים והמלאי שלהם בחנות</td>\n",
    "            <td>המוצר שנמכר בחנות</td>\n",
    "            <td>המלאי מאותו מוצר</td>\n",
    "            <td>יכולים להיות בחנות 5 תפוזים ו־5 תפוחים, אבל אין משמעות לחנות שיש בה 5 תפוחים וגם 3 תפוחים.</td>\n",
    "        </tr>\n",
    "        <tr>\n",
    "            <td>מספרי תעודות הזהות של אזרחים</td>\n",
    "            <td>תעודת הזהות</td>\n",
    "            <td>השם של בעל מספר תעודת הזהות</td>\n",
    "            <td>יכולים להיות הרבה אזרחים העונים לשם משה לוי, ולכולם יהיו מספרי תעודת־זהות שונים. לא ייתכן שמספר מסוים של תעודת זהות ישויך ליותר מאדם אחד.</td>\n",
    "        </tr>\n",
    "        <tr>\n",
    "            <td>בעלות על צוללות בצבעים</td>\n",
    "            <td>בעל הצוללות</td>\n",
    "            <td>צבע הצוללות</td>\n",
    "            <td>יכול להיות שגם לקווין וגם לג'ני יש צוללות בצבעים זהים. ג'ני, קווין ואני הם אנשים ספציפיים, שאין יותר מ־1 מהם בעולם (עד שנמציא דרך לשבט אנשים).</td>\n",
    "        </tr>\n",
    "        <tr>\n",
    "            <td>מוצרים ומחיריהם</td>\n",
    "            <td>שם המוצר</td>\n",
    "            <td>מחיר המוצר</td>\n",
    "            <td>לכל מוצר יש מחיר שנקוב עליו. עבור שני מוצרים שונים בחנות יכול להיות מחיר זהה.</td>\n",
    "        </tr>\n",
    "    </tbody>\n",
    "</table>"
   ]
  },
  {
   "cell_type": "markdown",
   "metadata": {},
   "source": [
    "### <span style=\"text-align: right; direction: rtl; float: right; clear: both;\">מיפוי ערכים</span>"
   ]
  },
  {
   "cell_type": "markdown",
   "metadata": {},
   "source": [
    "<p style=\"text-align: right; direction: rtl; float: right; clear: both;\">\n",
    "    כמו שראינו בדוגמאות, מצב נפוץ במיוחד הוא הצורך לאחסן <em>מיפוי בין ערכים</em>.<br>\n",
    "    נחשוב על המיפוי שקורה בחנות של קשטן, בה הוא סופר את המלאי עבור כל מוצר.<br>\n",
    "    נוכל לייצג את המלאי של קשטן באמצעות הידע שכבר יש לנו. נשתמש בקוד הבא:\n",
    "</p>"
   ]
  },
  {
   "cell_type": "code",
   "execution_count": null,
   "metadata": {},
   "outputs": [],
   "source": [
    "items = ['banana', 'apple', 'carrot']\n",
    "stock = [2, 3, 4]"
   ]
  },
  {
   "cell_type": "markdown",
   "metadata": {},
   "source": [
    "<p style=\"text-align: right; direction: rtl; float: right; clear: both;\">\n",
    "    עבור כל תא ברשימת <var>items</var>, שמרנו במקום התואם ברשימת <var>stock</var> את הכמות שנמצאת ממנו בחנות.<br>\n",
    "    יש 4 גזרים, 3 תפוחים ו־2 בננות על המדף בחנות של אדון קשטן.<br>\n",
    "    שליפה של הכמות במלאי עבור אחד המוצרים בחנות תתבצע בצורה הבאה:\n",
    "</p>"
   ]
  },
  {
   "cell_type": "code",
   "execution_count": null,
   "metadata": {},
   "outputs": [],
   "source": [
    "def get_stock(item_name, items, stock):\n",
    "    item_index = items.index(item_name)\n",
    "    how_many = stock[item_index]\n",
    "    return how_many"
   ]
  },
  {
   "cell_type": "markdown",
   "metadata": {},
   "source": [
    "<p style=\"text-align: right; direction: rtl; float: right; clear: both;\">\n",
    "    בשורה הראשונה בגוף הפונקציה מצאנו את מיקום המוצר שאנחנו מחפשים במלאי. נניח, \"תפוח\" מוחזק במקום 1 ברשימה.<br>\n",
    "    בשורה השנייה הלכו לרשימה השנייה, זו שמאחסנת את המלאי עבור כל מוצר, ומצאנו את המלאי שנמצא באותו מיקום.<br>\n",
    "    כמות היחידות של מוצר מאוחסנת במספר תא מסוים, התואם למספר התא ברשימה של שמות המוצרים. זו הסיבה שהרעיון עובד.<br>\n",
    "</p>"
   ]
  },
  {
   "cell_type": "code",
   "execution_count": null,
   "metadata": {},
   "outputs": [],
   "source": [
    "print(get_stock('apple', items, stock))"
   ]
  },
  {
   "cell_type": "markdown",
   "metadata": {},
   "source": [
    "<p style=\"text-align: right; direction: rtl; float: right; clear: both;\">\n",
    "    צורה נוספת למימוש של אותו רעיון תהיה שמירה של זוגות סדורים בתוך רשימה של tuple־ים:\n",
    "</p>"
   ]
  },
  {
   "cell_type": "code",
   "execution_count": null,
   "metadata": {},
   "outputs": [],
   "source": [
    "items = [('banana', 2), ('apple', 3), ('carrot', 4)]"
   ]
  },
  {
   "cell_type": "markdown",
   "metadata": {},
   "source": [
    "<p style=\"text-align: right; direction: rtl; float: right; clear: both;\">\n",
    "    ברשימה הזו הרעיון נראה מובן יותר. בואו נממש דרך להשיג איבר מסוים מתוך הרשימה:\n",
    "</p>"
   ]
  },
  {
   "cell_type": "code",
   "execution_count": null,
   "metadata": {},
   "outputs": [],
   "source": [
    "def get_stock(item_name_to_find, items_with_stock):\n",
    "    for item_to_stock in items_with_stock:\n",
    "        item_name = item_to_stock[0]\n",
    "        stock = item_to_stock[1]\n",
    "        if item_name == item_name_to_find:\n",
    "            return stock"
   ]
  },
  {
   "cell_type": "markdown",
   "metadata": {},
   "source": [
    "<p style=\"text-align: right; direction: rtl; float: right; clear: both;\">\n",
    "    עבור כל tuple ברשימה, בדקנו האם שם הפריט שהוא מכיל תואם לשם הפריט שחיפשנו.<br>\n",
    "    אם כן, החזרנו את הכמות של אותו פריט במלאי.<br>\n",
    "    שימוש בפונקציה הזו נראה ככה:\n",
    "</p>"
   ]
  },
  {
   "cell_type": "code",
   "execution_count": null,
   "metadata": {},
   "outputs": [],
   "source": [
    "get_stock('applef', items)"
   ]
  },
  {
   "cell_type": "markdown",
   "metadata": {},
   "source": [
    "<div class=\"align-center\" style=\"display: flex; text-align: right; direction: rtl; clear: both;\">\n",
    "    <div style=\"display: flex; width: 10%; float: right; clear: both;\">\n",
    "        <img src=\"images/exercise.svg\" style=\"height: 50px !important;\" alt=\"תרגול\"> \n",
    "    </div>\n",
    "    <div style=\"width: 70%\">\n",
    "        <p style=\"text-align: right; direction: rtl; float: right; clear: both;\">\n",
    "            שני קטעי הקוד שנתנו כדוגמה פישטו את המצב יתר על המידה, ולא מתייחסים למצב שבו אין את הפריט במלאי.<br>\n",
    "            הרחיבו את הפונקציות <code>get_stock</code> כך שיחזירו 0 אם הפריט לא נמצא במלאי.\n",
    "        </p>\n",
    "    </div>\n",
    "    <div style=\"display: flex; width: 20%; border-right: 0.1rem solid #A5A5A5; padding: 1rem 2rem;\">\n",
    "        <p style=\"text-align: center; direction: rtl; justify-content: center; align-items: center; clear: both;\">\n",
    "            <strong>חשוב!</strong><br>\n",
    "            פתרו לפני שתמשיכו!\n",
    "        </p>\n",
    "    </div>\n",
    "</div>"
   ]
  },
  {
   "cell_type": "markdown",
   "metadata": {},
   "source": [
    "## <span style=\"text-align: right; direction: rtl; float: right; clear: both;\">הגדרה</span>"
   ]
  },
  {
   "cell_type": "markdown",
   "metadata": {},
   "source": [
    "### <span style=\"text-align: right; direction: rtl; float: right; clear: both;\">מה זה מילון?</span>"
   ]
  },
  {
   "cell_type": "markdown",
   "metadata": {},
   "source": [
    "<p style=\"text-align: right; direction: rtl; float: right; clear: both;\">\n",
    "מילון הוא סוג ערך בפייתון.<br>\n",
    "תכליתו היא ליצור קשר בין סדרה של נתונים שנקראים \"מפתחות\", לבין סדרה אחרת של נתונים שנקראת \"ערכים\".<br>\n",
    "לכל מפתח יש ערך שעליו הוא מצביע.<br>\n",
    "</p>"
   ]
  },
  {
   "cell_type": "markdown",
   "metadata": {},
   "source": [
    "<p style=\"text-align: right; direction: rtl; float: right; clear: both;\">\n",
    "    ישנן דוגמאות אפשריות רבות לקשרים שכאלו:\n",
    "</p>\n",
    "<ol style=\"text-align: right; direction: rtl; float: right; clear: both;\">\n",
    "    <li>קשר בין ערים בעולם לבין כמות האנשים שחיים בהן.</li>\n",
    "    <li>קשר בין ברקוד של מוצרים בחנות לבין כמות הפריטים במלאי מכל מוצר.</li> \n",
    "    <li>קשר בין מילים לבין רשימת הפירושים שלהן באבן־שושן.</li>\n",
    "</ol>"
   ]
  },
  {
   "cell_type": "markdown",
   "metadata": {},
   "source": [
    "<p style=\"text-align: right; direction: rtl; float: right; clear: both;\">\n",
    "לערך המצביע נקרא <dfn>מפתח</dfn> (<dfn>key</dfn>). זה האיבר מבין זוג האיברים שעל־פיו נשמע הגיוני יותר לחפש דברים:<br>\n",
    "</p>\n",
    "<ol style=\"text-align: right; direction: rtl; float: right; clear: both;\">\n",
    "    <li>העיר שבה אנחנו רוצים לדעת מה כמות התושבים.</li>\n",
    "    <li>הברקוד שעבורו אנחנו רוצים לדעת כמה מוצרים קיימים במלאי.</li>\n",
    "    <li>המילה שאת הפירושים שלה אנחנו רוצים למצוא.</li>\n",
    "</ol>"
   ]
  },
  {
   "cell_type": "markdown",
   "metadata": {},
   "source": [
    "<p style=\"text-align: right; direction: rtl; float: right; clear: both;\">\n",
    "לערך השני מבין שני הערכים בזוג, נקרא.... ובכן, <dfn>ערך</dfn> (<dfn>value</dfn>). זה הנתון שנרצה להסיק לפי המפתח:<br>\n",
    "</p>\n",
    "<ol style=\"text-align: right; direction: rtl; float: right; clear: both;\">\n",
    "    <li>כמות התושבים בעיר.</li>\n",
    "    <li>כמות המוצרים הקיימים במלאי עבור ברקוד מסוים.</li>\n",
    "    <li>הפירושים של המילה במילון.</li>\n",
    "</ol>"
   ]
  },
  {
   "cell_type": "markdown",
   "metadata": {},
   "source": [
    "<p style=\"text-align: right; direction: rtl; float: right; clear: both;\">\n",
    "אם כך, מילון הוא בסך־הכל אוסף של זוגות שכאלו: מפתחות וערכים.</p>"
   ]
  },
  {
   "cell_type": "markdown",
   "metadata": {},
   "source": [
    "## <span style=\"text-align: right; direction: rtl; float: right; clear: both;\">הבסיס</span>"
   ]
  },
  {
   "cell_type": "markdown",
   "metadata": {},
   "source": [
    "### <span style=\"text-align: right; direction: rtl; float: right; clear: both;\">יצירת מילון</span>"
   ]
  },
  {
   "cell_type": "markdown",
   "metadata": {},
   "source": [
    "<p style=\"text-align: right; direction: rtl; float: right; clear: both;\">\n",
    "ניצור מילון חדש:</p>"
   ]
  },
  {
   "cell_type": "code",
   "execution_count": null,
   "metadata": {},
   "outputs": [],
   "source": [
    "ages = {'Yam': 27, 'Methuselah': 969, 'Baby Groot': 3}"
   ]
  },
  {
   "cell_type": "markdown",
   "metadata": {},
   "source": [
    "<p style=\"text-align: right; direction: rtl; float: right; clear: both;\">\n",
    "במילון הזה ישנם שלושה ערכים: הגיל של ים, של מתושלח ושל בייבי־גרוט.<br>\n",
    "המפתחות במילון הזה הם <em>Yam</em> (הערך הקשור למפתח הזה הוא 27), <em>Methuselah</em> (עם הערך 969) ו־<em>Baby Groot</em> (אליו הוצמד הערך 3).\n",
    "</p>"
   ]
  },
  {
   "cell_type": "markdown",
   "metadata": {},
   "source": [
    "<p style=\"text-align: right; direction: rtl; float: right; clear: both;\">\n",
    "יצירת המילון התבצעה בצורה הבאה:\n",
    "</p>"
   ]
  },
  {
   "cell_type": "markdown",
   "metadata": {},
   "source": [
    "<ol style=\"text-align: right; direction: rtl; float: right; clear: both;\">\n",
    "    <li>פתיחת סוגריים מסולסלים.</li>\n",
    "    <li>יצירת זוגות של מפתחות וערכים, מופרדים בפסיק:\n",
    "        <ol>\n",
    "            <li>המפתח.</li>\n",
    "            <li>הפרדה באמצעות נקודותיים.</li>\n",
    "            <li>הערך.</li>\n",
    "        </ol>\n",
    "    </li>\n",
    "    <li>סגירת סוגריים מסולסלים.</li>\n",
    "</ol>"
   ]
  },
  {
   "cell_type": "markdown",
   "metadata": {},
   "source": [
    "<figure>\n",
    "    <img src=\"images/dictionary.svg?v=2\" style=\"max-width:100%; margin-right: auto; margin-left: auto; text-align: center;\" alt=\"בתמונה מופיעים 3 ריבועים בימין ו־3 ריבועים בשמאל. הריבועים בימין, שמתויגים כ'מפתח', מצביעים על הריבועים בשמאל שמתויגים כ'ערך'. כל ריבוע בימין מצביע לריבוע בשמאל. בריבוע הימני העליון כתוב Yam, והוא מצביע על ריבוע בו כתוב 27. כך גם עבור ריבוע שבו כתוב Methuselah ומצביע לריבוע בו כתוב 969, וריבוע בו כתוב Baby Groot ומצביע לריבוע בו כתוב 3.\"/>\n",
    "    <figcaption style=\"text-align: center; direction: rtl;\">המחשה למילון שכולל בתוכו 3 מפתחות ו־3 ערכים.</figcaption>\n",
    "</figure>"
   ]
  },
  {
   "cell_type": "markdown",
   "metadata": {},
   "source": [
    "<p style=\"text-align: right; direction: rtl; float: right; clear: both;\">\n",
    "ניתן ליצור מילון ריק בעזרת פתיחה וסגירה של סוגריים מסולסלים:</p>"
   ]
  },
  {
   "cell_type": "code",
   "execution_count": null,
   "metadata": {},
   "outputs": [],
   "source": [
    "age_of_my_elephants = {}"
   ]
  },
  {
   "cell_type": "markdown",
   "metadata": {},
   "source": [
    "<div class=\"align-center\" style=\"display: flex; text-align: right; direction: rtl; clear: both;\">\n",
    "    <div style=\"display: flex; width: 10%; float: right; clear: both;\">\n",
    "        <img src=\"images/exercise.svg\" style=\"height: 50px !important;\" alt=\"תרגול\"> \n",
    "    </div>\n",
    "    <div style=\"width: 70%\">\n",
    "        <p style=\"text-align: right; direction: rtl; float: right; clear: both;\">\n",
    "            צרו מילון עבור המלאי בחנות של אדון קשטן.\n",
    "        </p>\n",
    "    </div>\n",
    "    <div style=\"display: flex; width: 20%; border-right: 0.1rem solid #A5A5A5; padding: 1rem 2rem;\">\n",
    "        <p style=\"text-align: center; direction: rtl; justify-content: center; align-items: center; clear: both;\">\n",
    "            <strong>חשוב!</strong><br>\n",
    "            פתרו לפני שתמשיכו!\n",
    "        </p>\n",
    "    </div>\n",
    "</div>"
   ]
  },
  {
   "cell_type": "markdown",
   "metadata": {},
   "source": [
    "### <span style=\"text-align: right; direction: rtl; float: right; clear: both;\">אחזור ערך</span>"
   ]
  },
  {
   "cell_type": "markdown",
   "metadata": {},
   "source": [
    "<p style=\"text-align: right; direction: rtl; float: right; clear: both;\">\n",
    "נזכר כיצד מאחזרים ערך מתוך רשימה:\n",
    "</p>"
   ]
  },
  {
   "cell_type": "code",
   "execution_count": null,
   "metadata": {},
   "outputs": [],
   "source": [
    "names = ['Yam', 'Mathuselah', 'Baby Groot']"
   ]
  },
  {
   "cell_type": "markdown",
   "metadata": {},
   "source": [
    "<p style=\"text-align: right; direction: rtl; float: right; clear: both;\">\n",
    "כדי להשיג את הערך שנמצא <em>במקום 2</em> ברשימה <var>names</var>, אני אכתוב:\n",
    "</p>"
   ]
  },
  {
   "cell_type": "code",
   "execution_count": null,
   "metadata": {},
   "outputs": [],
   "source": [
    "names[2]"
   ]
  },
  {
   "cell_type": "markdown",
   "metadata": {},
   "source": [
    "<p style=\"text-align: right; direction: rtl; float: right; clear: both;\">\n",
    "עד כאן הכל מוכר.<br>\n",
    "ניקח את המילון שמייצג את המלאי בחנות של אדון קשטן:\n",
    "</p>"
   ]
  },
  {
   "cell_type": "code",
   "execution_count": null,
   "metadata": {},
   "outputs": [],
   "source": [
    "items = {'banana': 2, 'apple': 3, 'carrot': 4}"
   ]
  },
  {
   "cell_type": "markdown",
   "metadata": {},
   "source": [
    "<p style=\"text-align: right; direction: rtl; float: right; clear: both;\">\n",
    "על מנת להשיג את המלאי שנמצא <em>במקום שבו המפתח הוא 'banana'</em>, ארשום את הביטוי הבא:\n",
    "</p>"
   ]
  },
  {
   "cell_type": "code",
   "execution_count": null,
   "metadata": {},
   "outputs": [],
   "source": [
    "items['banana']"
   ]
  },
  {
   "cell_type": "markdown",
   "metadata": {},
   "source": [
    "<p style=\"text-align: right; direction: rtl; float: right; clear: both;\">\n",
    "כיוון שבמילון המפתח הוא זה שמצביע לערך ולא להיפך, אפשר לאחזר ערך לפי מפתח, אבל אי אפשר לאחזר מפתח בעזרת ערך.</p>"
   ]
  },
  {
   "cell_type": "markdown",
   "metadata": {},
   "source": [
    "<div class=\"align-center\" style=\"display: flex; text-align: right; direction: rtl;\">\n",
    "    <div style=\"display: flex; width: 10%; \">\n",
    "        <img src=\"images/tip.png\" style=\"height: 50px !important;\" alt=\"אזהרה!\"> \n",
    "    </div>\n",
    "    <div style=\"width: 90%\">\n",
    "        <p style=\"text-align: right; direction: rtl;\">\n",
    "            ביום־יום, השתמשו במילה \"בְּמָקוֹם\" (b'e-ma-qom) כתחליף למילים סוגריים מרובעים.<br>\n",
    "            לדוגמה: עבור שורת הקוד האחרונה, אימרו <em><q>items במקום banana</q></em>.\n",
    "        </p>\n",
    "    </div>\n",
    "</div>"
   ]
  },
  {
   "cell_type": "markdown",
   "metadata": {},
   "source": [
    "### <span style=\"text-align: right; direction: rtl; float: right; clear: both;\">הוספה ועדכון</span>"
   ]
  },
  {
   "cell_type": "markdown",
   "metadata": {},
   "source": [
    "<p style=\"text-align: right; direction: rtl; float: right; clear: both;\">\n",
    "ניתן להוסיף מפתח וערך למילון, באמצעות השמת הערך אל המילון במקום של המפתח.<br>\n",
    "ניקח כדוגמה מקרה בו יש לנו במלאי מלון אחד.<br>\n",
    "המפתח הוא <em>melon</em> והערך הוא <em>1</em>, ולכן נשתמש בהשמה הבאה: \n",
    "</p>"
   ]
  },
  {
   "cell_type": "code",
   "execution_count": null,
   "metadata": {},
   "outputs": [],
   "source": [
    "items['melon'] = 1"
   ]
  },
  {
   "cell_type": "markdown",
   "metadata": {},
   "source": [
    "<p style=\"text-align: right; direction: rtl; float: right; clear: both;\">\n",
    "אם הגיעו עוד 4 מלונים לחנות של אדון קשטן, נוכל לעדכן את מלאי המלונים באמצעות השמה למקום הנכון במילון:\n",
    "</p>"
   ]
  },
  {
   "cell_type": "code",
   "execution_count": null,
   "metadata": {},
   "outputs": [],
   "source": [
    "items['melon'] = items['melon'] + 4"
   ]
  },
  {
   "cell_type": "markdown",
   "metadata": {},
   "source": [
    "### <span style=\"text-align: right; direction: rtl; float: right; clear: both;\">כללי המשחק</span>"
   ]
  },
  {
   "cell_type": "markdown",
   "metadata": {},
   "source": [
    "<ul style=\"text-align: right; direction: rtl; float: right; clear: both;\">\n",
    "    <li>לא יכולים להיות 2 מפתחות זהים במילון.</li>\n",
    "    <li>המפתחות במילון חייבים להיות immutables.</li>\n",
    "    <li>אנחנו נתייחס למילון כאל מבנה ללא סדר מסוים (אין \"איבר ראשון\" או \"איבר אחרון\").</li> \n",
    "</ul>"
   ]
  },
  {
   "cell_type": "markdown",
   "metadata": {},
   "source": [
    "<div class=\"align-center\" style=\"display: flex; text-align: right; direction: rtl;\">\n",
    "    <div style=\"display: flex; width: 10%; \">\n",
    "        <img src=\"images/deeper.svg?a=1\" style=\"height: 50px !important;\" alt=\"העמקה\"> \n",
    "    </div>\n",
    "    <div style=\"width: 90%\">\n",
    "        <p style=\"text-align: right; direction: rtl;\">\n",
    "            בגרסאות האחרונות של פייתון מילון הפך להיות מבנה סדור, בו סדר האיברים הוא סדר ההכנסה שלהם למילון.<br>\n",
    "            למרות זאת, רק במצבים נדירים נצטרך להתייחס לסדר שבו האיברים מסודרים במילון, ובשלב זה נעדיף שלא להתייחס לתכונה הזו.\n",
    "        </p>\n",
    "    </div>\n",
    "</div>"
   ]
  },
  {
   "cell_type": "markdown",
   "metadata": {},
   "source": [
    "### <span style=\"text-align: right; direction: rtl; float: right; clear: both;\">סיכום ביניים</span>"
   ]
  },
  {
   "cell_type": "markdown",
   "metadata": {},
   "source": [
    "<ul style=\"text-align: right; direction: rtl; float: right; clear: both;\">\n",
    "    <li>מילון הוא מבנה שבנוי זוגות־זוגות: יש ערכים ומפתחות, ולכל מפתח יש ערך אחד עליו הוא מצביע.</li>\n",
    "    <li>אנחנו נתייחס למילון כאל מבנה ללא סדר מסוים. אין \"איבר ראשון\" או \"איבר אחרון\".</li> \n",
    "    <li>בניגוד לרשימה, כאן ה\"מקום\" אליו אנחנו פונים כדי לאחזר ערך הוא המפתח, ולא מספר שמייצג את המקום הסידורי של התא.</li>\n",
    "    <li>בעזרת מפתח ניתן להגיע לערך המוצמד אליו, אבל לא להיפך.</li>\n",
    "</ul>"
   ]
  },
  {
   "cell_type": "markdown",
   "metadata": {},
   "source": [
    "## <span style=\"text-align: right; direction: rtl; float: right; clear: both;\">מעבר על מילון</span>"
   ]
  },
  {
   "cell_type": "markdown",
   "metadata": {},
   "source": [
    "### <span style=\"text-align: right; direction: rtl; float: right; clear: both;\">לולאת for</span>"
   ]
  },
  {
   "cell_type": "markdown",
   "metadata": {},
   "source": [
    "<p style=\"text-align: right; direction: rtl; float: right; clear: both;\">\n",
    "כיוון שמילון הוא iterable, דרך מקובלת לעבור עליו היא באמצעות לולאת <code>for</code>.<br>\n",
    "ננסה להשתמש בלולאת <code>for</code> על המילון, ונראה מה התוצאות:\n",
    "</p>"
   ]
  },
  {
   "cell_type": "code",
   "execution_count": null,
   "metadata": {},
   "outputs": [],
   "source": [
    "favorite_animals = {'Alice': 'Cat', 'Mad hatter': 'Hare', 'Achiles': 'Tortoise'}\n",
    "for something in favorite_animals:\n",
    "    print(something)"
   ]
  },
  {
   "cell_type": "markdown",
   "metadata": {},
   "source": [
    "<p style=\"text-align: right; direction: rtl; float: right; clear: both;\">\n",
    "    נראה שקיבלנו רק את המפתחות, בלי הערכים.<br>\n",
    "    נסיק מכאן שמילון הוא אמנם iterable, אך בכל איטרציה הוא מחזיר לנו רק את המפתח, בלי הערך.\n",
    "</p>"
   ]
  },
  {
   "cell_type": "markdown",
   "metadata": {},
   "source": [
    "<p style=\"text-align: right; direction: rtl; float: right; clear: both;\">\n",
    "    אנחנו כבר יודעים איך משיגים את הערך של מפתח מסוים.<br>\n",
    "    נוכל להשתמש בידע הזה כדי לקבל בכל חזרור גם את המפתח, וגם את הערך:\n",
    "</p>"
   ]
  },
  {
   "cell_type": "code",
   "execution_count": null,
   "metadata": {},
   "outputs": [],
   "source": [
    "favorite_animals = {'Alice': 'Cat', 'Mad hatter': 'Hare', 'Achiles': 'Tortoise'}\n",
    "print('favorite_animals items:')\n",
    "for key in favorite_animals:\n",
    "    value = favorite_animals[key]\n",
    "    print(f\"{key:10} -----> {value}.\")  # תרגיל קטן: זהו את הטריק שגורם לזה להראות כל־כך טוב בהדפסה"
   ]
  },
  {
   "cell_type": "markdown",
   "metadata": {},
   "source": [
    "<p style=\"text-align: right; direction: rtl; float: right; clear: both;\">\n",
    "אבל הפתרון הזה לא נראה אלגנטי במיוחד, ומרגיש שאנחנו יכולים למצוא אחד טוב יותר.\n",
    "</p>"
   ]
  },
  {
   "cell_type": "markdown",
   "metadata": {},
   "source": [
    "<p style=\"text-align: right; direction: rtl; float: right; clear: both;\">\n",
    "לעזרתנו נחלצת הפעולה <code>items</code>, השייכת לערכים מסוג מילון.<br>\n",
    "הפעולה הזו מחזירה זוגות איברים, כאשר בכל זוג האיבר הראשון הוא המפתח והאיבר השני הוא הערך.\n",
    "</p>"
   ]
  },
  {
   "cell_type": "code",
   "execution_count": null,
   "metadata": {},
   "outputs": [],
   "source": [
    "print(list(favorite_animals.items()))"
   ]
  },
  {
   "cell_type": "markdown",
   "metadata": {},
   "source": [
    "<p style=\"text-align: right; direction: rtl; float: right; clear: both;\">\n",
    "מאחר שמדובר פה על איברים שבאים בזוגות, נוכל להשתמש בפריקת איברים שלמדנו בשיעור על לולאות <code>for</code>:\n",
    "</p>"
   ]
  },
  {
   "cell_type": "code",
   "execution_count": null,
   "metadata": {},
   "outputs": [],
   "source": [
    "print('favorite_animals items:')\n",
    "for key, value in favorite_animals.items():\n",
    "    print(f\"{key:10} -----> {value}.\")"
   ]
  },
  {
   "cell_type": "markdown",
   "metadata": {},
   "source": [
    "<p style=\"text-align: right; direction: rtl; float: right; clear: both;\">\n",
    "בלולאה שמופיעה למעלה ניצלנו את העובדה שהפעולה <code>items</code> מחזירה לנו איברים בזוגות: מפתח וערך.<br>\n",
    "בכל חזרור, אנחנו מכניסים למשתנה <var>key</var> את האיבר הראשון בזוג, ולמשתנה <var>value</var> את האיבר השני בזוג.<br>\n",
    "נוכל להיות אפילו יותר מנומסים ולתת למשתנים הללו שמות ראויים:\n",
    "</p>"
   ]
  },
  {
   "cell_type": "code",
   "execution_count": null,
   "metadata": {},
   "outputs": [],
   "source": [
    "print('favorite_animals items:')\n",
    "for character, animal in favorite_animals.items():\n",
    "    print(f\"{character:10} -----> {animal}.\")"
   ]
  },
  {
   "cell_type": "markdown",
   "metadata": {},
   "source": [
    "## <span style=\"text-align: right; direction: rtl; float: right; clear: both;\">מחיקת איבר במילון</span>"
   ]
  },
  {
   "cell_type": "markdown",
   "metadata": {},
   "source": [
    "<p style=\"text-align: right; direction: rtl; float: right; clear: both;\">\n",
    "לפעמים עולה צורך למחוק ממילון מפתח ואת הערך שקשור אליו.<br>\n",
    "כפי שאולי ניחשתם, אין אפשרות למחוק רק את המפתח או רק את הערך – הם באים יחד.<br>\n",
    "נרצה למחוק מפתח וערך מהמילון כשחשוב לנו לחסוך מקום בזכרון המחשב, או כשהם כבר לא רלוונטיים ומפריעים לנו.\n",
    "</p>"
   ]
  },
  {
   "cell_type": "markdown",
   "metadata": {},
   "source": [
    "### <span style=\"text-align: right; direction: rtl; float: right; clear: both;\">מילת המפתח <code>del</code></span>"
   ]
  },
  {
   "cell_type": "markdown",
   "metadata": {},
   "source": [
    "<p style=\"text-align: right; direction: rtl; float: right; clear: both;\">\n",
    "הדרך הראשונה למחוק מפתח וערך ממילון היא להשתמש במילת המפתח <code>del</code>, שטרם הכרנו.<br>\n",
    "מילת המפתח <code>del</code> מגיעה מהמילה <em>delete</em> (למחוק).<br>\n",
    "נציין את שם המילון ואת המפתח שנרצה למחוק:\n",
    "</p>"
   ]
  },
  {
   "cell_type": "code",
   "execution_count": null,
   "metadata": {},
   "outputs": [],
   "source": [
    "loved_animals = {'Alice': 'Cat', 'Mad hatter': 'Hare', 'Achiles': 'Tortoise'}\n",
    "del loved_animals['Achiles']\n",
    "print(loved_animals)"
   ]
  },
  {
   "cell_type": "markdown",
   "metadata": {},
   "source": [
    "<p style=\"text-align: right; direction: rtl; float: right; clear: both;\">\n",
    "אפשר להשתמש במילת המפתח <code>del</code> גם כדי למחוק תאים מרשימה או למחוק משתנים, למרות שהשימושים הללו נדירים למדי.\n",
    "</p>"
   ]
  },
  {
   "cell_type": "markdown",
   "metadata": {},
   "source": [
    "### <span style=\"text-align: right; direction: rtl; float: right; clear: both;\">הפעולה <code>pop</code></span>"
   ]
  },
  {
   "cell_type": "markdown",
   "metadata": {},
   "source": [
    "<p style=\"text-align: right; direction: rtl; float: right; clear: both;\">\n",
    "פעמים רבות נרצה לקבל את הערך המשויך למפתח שאנחנו מוחקים.<br>\n",
    "חיסרון מובהק של <code>del</code> הוא שבשימוש בה, המפתח והערך ימחקו בלי להחזיר שום מידע על הנתונים שנמחקו.<br>\n",
    "נוכל לקבל את הערך שנמחק בכל זאת בעזרת הפעולה <code>pop</code>, שחוץ מלמחוק זוג של מפתח וערך לפי המפתח, גם מחזירה את הערך שמחקה:\n",
    "</p>"
   ]
  },
  {
   "cell_type": "code",
   "execution_count": null,
   "metadata": {},
   "outputs": [],
   "source": [
    "loved_animals = {'Alice': 'Cat', 'Mad hatter': 'Hare', 'Achiles': 'Tortoise'}\n",
    "deleted_value = loved_animals.pop('Achiles')\n",
    "print(loved_animals)\n",
    "print(deleted_value)"
   ]
  },
  {
   "cell_type": "markdown",
   "metadata": {},
   "source": [
    "## <span style=\"text-align: right; direction: rtl; float: right; clear: both;\">מפתחות שלא קיימים</span>"
   ]
  },
  {
   "cell_type": "markdown",
   "metadata": {},
   "source": [
    "### <span style=\"text-align: right; direction: rtl; float: right; clear: both;\">הבעיה</span>"
   ]
  },
  {
   "cell_type": "markdown",
   "metadata": {},
   "source": [
    "<p style=\"text-align: right; direction: rtl; float: right; clear: both;\">\n",
    "מילונים הם טיפוסים קצת רגישים. הם לא אוהבים כשמזכירים להם מה אין בהם.<br>\n",
    "אם ננסה לפנות למילון ולבקש ממנו מפתח שאין לו, נקבל הודעת שגיאה.<br>\n",
    "בפעמים הראשונות שתתעסקו עם מילונים, יש סיכוי לא מבוטל שתקבלו <code>KeyError</code> שנראה כך:<br>\n",
    "</p>"
   ]
  },
  {
   "cell_type": "code",
   "execution_count": null,
   "metadata": {},
   "outputs": [],
   "source": [
    "empty_dict = {}\n",
    "empty_dict['DannyDin']"
   ]
  },
  {
   "cell_type": "markdown",
   "metadata": {},
   "source": [
    "### <span style=\"text-align: right; direction: rtl; float: right; clear: both;\"><code>in</code> במילונים</span>"
   ]
  },
  {
   "cell_type": "markdown",
   "metadata": {},
   "source": [
    "<p style=\"text-align: right; direction: rtl; float: right; clear: both;\">\n",
    "יש מספר דרכים לגשת לבעיה הזו.<br>\n",
    "דרך אפשרית אחת היא לבדוק שהמפתח קיים לפני שאנחנו ניגשים אליו:</p>"
   ]
  },
  {
   "cell_type": "code",
   "execution_count": null,
   "metadata": {},
   "outputs": [],
   "source": [
    "loved_animals = {'Alice': 'Cat', 'Mad hatter': 'Hare', 'Achiles': 'Tortoise'}\n",
    "print('Achiles' in loved_animals)"
   ]
  },
  {
   "cell_type": "markdown",
   "metadata": {},
   "source": [
    "<p style=\"text-align: right; direction: rtl; float: right; clear: both;\">\n",
    "כאן השתמשנו באופרטור <code>in</code> כדי לבדוק האם מפתח מסוים נמצא במילון.<br>\n",
    "לרוב, גם נבקש את הערך לאחר שבדקנו שהוא קיים:\n",
    "</p>"
   ]
  },
  {
   "cell_type": "code",
   "execution_count": null,
   "metadata": {},
   "outputs": [],
   "source": [
    "loved_animals = {'Alice': 'Cat', 'Mad hatter': 'Hare', 'Achiles': 'Tortoise'}\n",
    "\n",
    "if 'Achiles' in loved_animals:\n",
    "    value = loved_animals['Achiles']\n",
    "else:\n",
    "    value = 'Pony'\n",
    "\n",
    "print(value)"
   ]
  },
  {
   "cell_type": "markdown",
   "metadata": {},
   "source": [
    "<p style=\"text-align: right; direction: rtl; float: right; clear: both;\">\n",
    "בקוד שלמעלה, השתמשנו באופרטור ההשוואה <code>in</code> כדי לבדוק האם מפתח מסוים (\"אכילס\") קיים בתוך המילון שיצרנו בשורה הראשונה.<br>\n",
    "אם הוא נמצא שם, חילצנו את הערך שמצומד לאותו מפתח (ל\"אכילס\"). אם לא, המצאנו ערך משלנו – \"פוני\".<br>\n",
    "</p>"
   ]
  },
  {
   "cell_type": "markdown",
   "metadata": {},
   "source": [
    "<div class=\"align-center\" style=\"display: flex; text-align: right; direction: rtl;\">\n",
    "    <div style=\"display: flex; width: 10%; float: right; \">\n",
    "        <img src=\"images/warning.png\" style=\"height: 50px !important;\" alt=\"אזהרה!\"> \n",
    "    </div>\n",
    "    <div style=\"width: 90%\">\n",
    "        <p style=\"text-align: right; direction: rtl;\">\n",
    "            מעבר על מילון יחזיר בכל חזרור מפתח מהמילון, ללא הערך הקשור אליו.<br>\n",
    "            מהסיבה הזו, אופרטור ההשוואה <code>in</code> יבדוק רק האם קיים <em>מפתח</em> מסוים במילון, ולא יבדוק האם ערך שכזה קיים.\n",
    "        </p>\n",
    "    </div>\n",
    "</div>"
   ]
  },
  {
   "cell_type": "markdown",
   "metadata": {},
   "source": [
    "<div class=\"align-center\" style=\"display: flex; text-align: right; direction: rtl; clear: both;\">\n",
    "    <div style=\"display: flex; width: 10%; float: right; clear: both;\">\n",
    "        <img src=\"images/exercise.svg\" style=\"height: 50px !important;\" alt=\"תרגול\"> \n",
    "    </div>\n",
    "    <div style=\"width: 70%\">\n",
    "        <p style=\"text-align: right; direction: rtl; float: right; clear: both;\">\n",
    "            כתבו פונקציה שמקבלת שלושה פרמטרים: מילון, מפתח וערך ברירת־מחדל.<br>\n",
    "            הפונקציה תחפש במילון את המפתח, ואם הוא קיים תחזיר את הערך שלו.<br>\n",
    "            אם המפתח לא קיים במילון, הפונקציה תחזיר את ערך ברירת־המחדל.\n",
    "        </p>\n",
    "    </div>\n",
    "    <div style=\"display: flex; width: 20%; border-right: 0.1rem solid #A5A5A5; padding: 1rem 2rem;\">\n",
    "        <p style=\"text-align: center; direction: rtl; justify-content: center; align-items: center; clear: both;\">\n",
    "            <strong>חשוב!</strong><br>\n",
    "            פתרו לפני שתמשיכו!\n",
    "        </p>\n",
    "    </div>\n",
    "</div>"
   ]
  },
  {
   "cell_type": "markdown",
   "metadata": {},
   "source": [
    "<p style=\"text-align: right; direction: rtl; float: right; clear: both;\">\n",
    "ננסה לכתוב את הרעיון בקוד שלמעלה כפונקציה כללית:\n",
    "</p>"
   ]
  },
  {
   "cell_type": "code",
   "execution_count": null,
   "metadata": {},
   "outputs": [],
   "source": [
    "def get_value(dictionary, key, default_value):\n",
    "    if key in dictionary:\n",
    "        return dictionary[key]\n",
    "    else:\n",
    "        return default_value"
   ]
  },
  {
   "cell_type": "markdown",
   "metadata": {},
   "source": [
    "<p style=\"text-align: right; direction: rtl; float: right; clear: both;\">\n",
    "הפונקציה שלמעלה מקבלת מילון, מפתח וערך ברירת־מחדל.<br>\n",
    "אם היא מוצאת את המפתח במילון, היא מחזירה את הערך של אותו מפתח.<br>\n",
    "אם היא לא מוצאת את המפתח במילון, היא מחזירה את ערך ברירת המחדל שנקבע.\n",
    "</p>"
   ]
  },
  {
   "cell_type": "markdown",
   "metadata": {},
   "source": [
    "<p style=\"text-align: right; direction: rtl; float: right; clear: both;\">\n",
    "נבדוק שהפונקציה עובדת:\n",
    "</p>"
   ]
  },
  {
   "cell_type": "code",
   "execution_count": null,
   "metadata": {},
   "outputs": [],
   "source": [
    "loved_animals = {'Alice': 'Cat', 'Mad hatter': 'Hare', 'Achiles': 'Tortoise'}\n",
    "print(\"Mad hatter: \" + get(loved_animals, 'Mad hatter', 'Pony'))\n",
    "print(\"Queen of hearts: \" + get(loved_animals, 'Queen of hearts', 'Pony'))"
   ]
  },
  {
   "cell_type": "markdown",
   "metadata": {},
   "source": [
    "<p style=\"text-align: right; direction: rtl; float: right; clear: both;\">\n",
    "ובכן, זו פונקציה כייפית. כמה נוח היה לו היא הייתה פעולה של מילון.</p>"
   ]
  },
  {
   "cell_type": "markdown",
   "metadata": {},
   "source": [
    "### <span style=\"text-align: right; direction: rtl; float: right; clear: both;\">הפעולה <code>get</code> במילונים</span>"
   ]
  },
  {
   "cell_type": "markdown",
   "metadata": {},
   "source": [
    "<p style=\"text-align: right; direction: rtl; float: right; clear: both;\">\n",
    "מי היה מאמין, יש פעולה כזו במילונים! ננסה להפעיל אותה על המילון שלנו.<br>\n",
    "שימו לב לצורת הקריאה לפעולה, ששונה מהקריאה לפונקציה שכתבנו למעלה – שם המשתנה של המילון בא לפני שם הפעולה. מדובר בפעולה, ולא בפונקציה:\n",
    "</p>"
   ]
  },
  {
   "cell_type": "code",
   "execution_count": null,
   "metadata": {},
   "outputs": [],
   "source": [
    "loved_animals = {'Alice': 'Cat', 'Mad hatter': 'Hare', 'Achiles': 'Tortoise'}\n",
    "print(\"Mad hatter: \" + loved_animals.get('Mad hatter', 'Pony'))\n",
    "print(\"Queen of hearts: \" + loved_animals.get('Queen of hearts', 'Pony'))"
   ]
  },
  {
   "cell_type": "markdown",
   "metadata": {},
   "source": [
    "<p style=\"text-align: right; direction: rtl; float: right; clear: both;\">\n",
    "טריק קסום אחרון שנראה הוא שהפעולה <code>get</code> רחמנית ממש, ויודעת להתמודד גם אם לא נותנים לה ערך ברירת־מחדל.<br>\n",
    "אם תספקו רק את שם המפתח שממנו תרצו לאחזר ערך, היא תחפש אותו ותחזיר את הערך שלו אם הוא קיים.<br>\n",
    "אם המפתח לא קיים ולא סופק ערך ברירת־מחדל, היא תחזיר את הערך <code>None</code>:\n",
    "</p>"
   ]
  },
  {
   "cell_type": "code",
   "execution_count": null,
   "metadata": {},
   "outputs": [],
   "source": [
    "loved_animals = {'Alice': 'Cat', 'Mad hatter': 'Hare', 'Achiles': 'Tortoise'}\n",
    "print(loved_animals.get('Mad hatter'))\n",
    "print(loved_animals.get('Queen of hearts'))"
   ]
  },
  {
   "cell_type": "markdown",
   "metadata": {},
   "source": [
    "<div class=\"align-center\" style=\"display: flex; text-align: right; direction: rtl;\">\n",
    "    <div style=\"display: flex; width: 10%; float: right; \">\n",
    "        <img src=\"images/recall.svg\" style=\"height: 50px !important;\" alt=\"תזכורת\"> \n",
    "    </div>\n",
    "    <div style=\"width: 90%\">\n",
    "        <p style=\"text-align: right; direction: rtl;\">\n",
    "            הערך המיוחד <code>None</code> הוא דרך פייתונית להגיד \"כלום\".<br>\n",
    "            ניתן לדמיין אותו כמו רִיק (וָקוּם). לא הערך המספרי אפס, לא <code>False</code>. פשוט כלום.\n",
    "        </p>\n",
    "    </div>\n",
    "</div>"
   ]
  },
  {
   "cell_type": "markdown",
   "metadata": {},
   "source": [
    "## <span style=\"text-align: right; direction: rtl; float: right; clear: both;\">מבנים מורכבים נפוצים</span>"
   ]
  },
  {
   "cell_type": "markdown",
   "metadata": {},
   "source": [
    "<p style=\"text-align: right; direction: rtl; float: right; clear: both;\">\n",
    "העולם לעיתים מורכב, וניסיון לארגן מידע רב יכול ליצור מבני נתונים שנראים מסובכים במבט ראשון.<br>\n",
    "</p>"
   ]
  },
  {
   "cell_type": "markdown",
   "metadata": {},
   "source": [
    "### <span style=\"text-align: right; direction: rtl; float: right;\">רשימת מילונים</span>"
   ]
  },
  {
   "cell_type": "markdown",
   "metadata": {},
   "source": [
    "<p style=\"text-align: right; direction: rtl; float: right; clear: both;\">\n",
    "נראה, לדוגמה, דרך לייצג מאגר קטן של משתמשים:\n",
    "</p>"
   ]
  },
  {
   "cell_type": "code",
   "execution_count": null,
   "metadata": {},
   "outputs": [],
   "source": [
    "users = [\n",
    "    {'name': 'Scarlett Johansson', 'age': 34, 'country': 'United States'},\n",
    "    {'name': 'Guido Van Rossum', 'age': 63, 'country': 'Netherlands', 'spouse': 'Kim Knapp'},\n",
    "    {'name': 'George R. R. Martin', 'age': 70, 'country': 'United States', 'spouse': 'Parris McBride'},\n",
    "]"
   ]
  },
  {
   "cell_type": "markdown",
   "metadata": {},
   "source": [
    "<div class=\"align-center\" style=\"display: flex; text-align: right; direction: rtl;\">\n",
    "    <div style=\"display: flex; width: 10%; \">\n",
    "        <img src=\"images/tip.png\" style=\"height: 50px !important;\" alt=\"אזהרה!\"> \n",
    "    </div>\n",
    "    <div style=\"width: 90%\">\n",
    "        <p style=\"text-align: right; direction: rtl;\">\n",
    "            כדי לסגנן את הקוד שלנו, הרבה פעמים נרד שורה גם כשלא חייבים.<br>\n",
    "            נפוץ מאוד לרדת שורה במבנים ארוכים אחרי שפתחנו סוגריים – פייתון מבינה שמדובר באותה שורה.\n",
    "        </p>\n",
    "    </div>\n",
    "</div>"
   ]
  },
  {
   "cell_type": "markdown",
   "metadata": {},
   "source": [
    "<p style=\"text-align: right; direction: rtl; float: right; clear: both;\">\n",
    "למעלה מוצגת רשימה שמכילה 3 מילונים. אפשר למנות את האיברים שבה בעזרת לולאה כמו בכל רשימה אחרת.<br>\n",
    "נדפיס את השמות של כל אחד מהמשתמשים:\n",
    "</p>"
   ]
  },
  {
   "cell_type": "code",
   "execution_count": null,
   "metadata": {},
   "outputs": [],
   "source": [
    "for user in users:\n",
    "    print(user['name'])"
   ]
  },
  {
   "cell_type": "markdown",
   "metadata": {},
   "source": [
    "<p style=\"text-align: right; direction: rtl; float: right; clear: both;\">\n",
    "נזהר במקרה שיש מפתח שעלול לא להופיע באחד המילונים.<br>\n",
    "לדוגמה, לסקרלט ג'והנסון אין בן־זוג, ולכן כשהלולאה הבאה תגיע אליה היא תקפיץ שגיאה:\n",
    "</p>"
   ]
  },
  {
   "cell_type": "code",
   "execution_count": null,
   "metadata": {},
   "outputs": [],
   "source": [
    "for user in users:\n",
    "    print(user['spouse'])"
   ]
  },
  {
   "cell_type": "markdown",
   "metadata": {},
   "source": [
    "<p style=\"text-align: right; direction: rtl; float: right; clear: both;\">\n",
    "נראה דוגמה לטיפול במקרה שכזה בעולם האמיתי:\n",
    "</p>"
   ]
  },
  {
   "cell_type": "code",
   "execution_count": null,
   "metadata": {},
   "outputs": [],
   "source": [
    "for user in users:\n",
    "    if 'spouse' in user:\n",
    "        print(f\"{user['name']}'s spouse is {user['spouse']}.\")\n",
    "    else:\n",
    "        print(f\"{user['name']} has no spouse.\")"
   ]
  },
  {
   "cell_type": "markdown",
   "metadata": {},
   "source": [
    "<p style=\"text-align: right; direction: rtl; float: right; clear: both;\">\n",
    "או שנרמה קצת בעזרת הפעולה <code>get</code>:\n",
    "</p>"
   ]
  },
  {
   "cell_type": "code",
   "execution_count": null,
   "metadata": {},
   "outputs": [],
   "source": [
    "for user in users:\n",
    "    spouse = user.get('spouse', 'unknown')\n",
    "    print(f\"{user['name']}'s spouse is {spouse}.\")"
   ]
  },
  {
   "cell_type": "markdown",
   "metadata": {},
   "source": [
    "### <span style=\"text-align: right; direction: rtl; float: right;\">ערכים מרובים במפתח אחד</span>"
   ]
  },
  {
   "cell_type": "markdown",
   "metadata": {},
   "source": [
    "#### <span style=\"text-align: right; direction: rtl; float: right;\">מילון שערכיו הם רשימות</span>"
   ]
  },
  {
   "cell_type": "markdown",
   "metadata": {},
   "source": [
    "<p style=\"text-align: right; direction: rtl; float: right; clear: both;\">\n",
    "אנחנו רוצים ליצור תוכנה לניהול ספרייה, בה הספרים מחולקים לפי שם המחבר.<br>\n",
    "בשלב הנוכחי ביקשו מאיתנו לשמור רק את שמות הספרים עבור כל מחבר.<br>\n",
    "אנחנו רוצים את האפשרות לשלוף את שמות הספרים לפי שם המחבר, ושיהיה קל להוסיף ולהוריד ספרים מרשימת ספריו של כל מחבר.\n",
    "</p>"
   ]
  },
  {
   "cell_type": "markdown",
   "metadata": {},
   "source": [
    "<div class=\"align-center\" style=\"display: flex; text-align: right; direction: rtl; clear: both;\">\n",
    "    <div style=\"display: flex; width: 10%; float: right; clear: both;\">\n",
    "        <img src=\"images/exercise.svg\" style=\"height: 50px !important;\" alt=\"תרגול\"> \n",
    "    </div>\n",
    "    <div style=\"width: 70%\">\n",
    "        <p style=\"text-align: right; direction: rtl; float: right; clear: both;\">\n",
    "            השקיעו 5 דקות כדי לחשוב איך הייתם בונים ספרייה שכזו בעזרת סוגי הנתונים שלמדתם.<br>\n",
    "            בונוס: הגדירו ספרייה שכזו וממשו פונקציה שמאפשרת להוסיף ולהסיר ספרים עבור כל מחבר.\n",
    "        </p>\n",
    "    </div>\n",
    "    <div style=\"display: flex; width: 20%; border-right: 0.1rem solid #A5A5A5; padding: 1rem 2rem;\">\n",
    "        <p style=\"text-align: center; direction: rtl; justify-content: center; align-items: center; clear: both;\">\n",
    "            <strong>חשוב!</strong><br>\n",
    "            פתרו לפני שתמשיכו!\n",
    "        </p>\n",
    "    </div>\n",
    "</div>"
   ]
  },
  {
   "cell_type": "markdown",
   "metadata": {},
   "source": [
    "<p style=\"text-align: right; direction: rtl; float: right; clear: both;\">\n",
    "נחשוב על הדרישות שהעלו לנו:\n",
    "</p>"
   ]
  },
  {
   "cell_type": "markdown",
   "metadata": {},
   "source": [
    "<ol style=\"text-align: right; direction: rtl; float: right; clear: both;\">\n",
    "    <li>אנחנו צריכים להיות מסוגלים למצוא את רשימת הספרים לפי שם המחבר.</li>\n",
    "    <li>אנחנו צריכים להיות מסוגלים לערוך (להוסיף, להוריד) את הספרים שקיימים עבור כל מחבר.</li>\n",
    "</ol>"
   ]
  },
  {
   "cell_type": "markdown",
   "metadata": {},
   "source": [
    "<p style=\"text-align: right; direction: rtl; float: right; clear: both;\">\n",
    "עבור הדרישה הראשונה, נשמע שהמבנה המתאים ביותר הוא מילון שממפה את שם המחבר לרשימת הספרים שלו.<br>\n",
    "עבור הדרישה השנייה, נשמע שהמבנה המתאים ביותר יהיה רשימה – סוג גמיש שקל לערוך את האיברים שבו (לעומת tuple, לדוגמה).\n",
    "</p>"
   ]
  },
  {
   "cell_type": "markdown",
   "metadata": {},
   "source": [
    "<p style=\"text-align: right; direction: rtl; float: right; clear: both;\">\n",
    "נבנה מילון שכזה לדוגמה:\n",
    "</p>"
   ]
  },
  {
   "cell_type": "code",
   "execution_count": null,
   "metadata": {},
   "outputs": [],
   "source": [
    "library = {\n",
    "    'Jane Austen': ['Pride and Prejudice', 'Sense and Sensibility', 'Mansfield Park', 'Emma'],\n",
    "    'Mark Zusak': ['The Book Thief', 'The Messenger'],\n",
    "    'Eric Arthur Blair': ['1984', 'Animal Farm'], \n",
    "    'Margaret Munnerlyn Mitchell': ['Gone with the Wind'],\n",
    "    'Douglas Adams': ['The Hitchhiker\\'s Guide to the Galaxy', 'The Restaurant at the End of the Universe',\n",
    "                      'Life, the Universe and Everything', 'So Long, and Thanks for All the Fish', 'Mostly Harmless',\n",
    "                      'And Another Thing'],\n",
    "    'Khaled Hosseini': ['The Kite Runner', 'A Thousand Splendid Suns', 'And the Mountains Echoed'],\n",
    "    'Harper Lee': ['To kill a mockingbird', 'Go Set a Watchman']\n",
    "}"
   ]
  },
  {
   "cell_type": "markdown",
   "metadata": {},
   "source": [
    "<p style=\"text-align: right; direction: rtl; float: right; clear: both;\">\n",
    "בהינתן המימוש המוצלח שלנו לדרישות, תראו כמה קל לתפעל את הספרייה:</p>"
   ]
  },
  {
   "cell_type": "code",
   "execution_count": null,
   "metadata": {},
   "outputs": [],
   "source": [
    "def view_books(library, author_name):\n",
    "    return library.get(author_name)\n",
    "\n",
    "def add_book(library, author_name, book_name):\n",
    "    authors_books = library[author_name]\n",
    "    authors_books.append(book_name)\n",
    "\n",
    "def remove_book(library, author_name, book_name):\n",
    "    authors_books = library[author_name]\n",
    "    authors_books.remove(book_name)\n",
    "\n",
    "add_book(library, 'Douglas Adams', 'The Salmon of Doubt')\n",
    "remove_book(library, 'Douglas Adams', 'And Another Thing')\n",
    "print(view_books(library, 'Douglas Adams'))"
   ]
  },
  {
   "cell_type": "markdown",
   "metadata": {},
   "source": [
    "#### <span style=\"text-align: right; direction: rtl; float: right;\">מילון שערכיו הם מילונים</span>"
   ]
  },
  {
   "cell_type": "markdown",
   "metadata": {},
   "source": [
    "<p style=\"text-align: right; direction: rtl; float: right; clear: both;\">\n",
    "הדרישות של בעלי הספרייה השתנו.<br>\n",
    "הם מבקשים שהפעם, בזמן שאנחנו שומרים על הסידור לפי שמות הסופרים, נוכל לקבל בנוסף לשם הספר את הפרטים הבאים:</p>\n"
   ]
  },
  {
   "cell_type": "markdown",
   "metadata": {},
   "source": [
    "<ul style=\"text-align: right; direction: rtl; float: right; clear: both;\">\n",
    "    <li>תאריך היציאה</li>\n",
    "    <li>רשימת הז'אנרים</li>\n",
    "    <li>כמות במלאי</li>\n",
    "</ul>"
   ]
  },
  {
   "cell_type": "markdown",
   "metadata": {},
   "source": [
    "<p style=\"text-align: right; direction: rtl; float: right; clear: both;\">\n",
    "נראה דוגמה למבנה נתונים שכזה.\n",
    "</p>"
   ]
  },
  {
   "cell_type": "code",
   "execution_count": null,
   "metadata": {},
   "outputs": [],
   "source": [
    "library = {\n",
    "    'Jane Austen': {\n",
    "        'Pride and Prejudice': {'released': '1813-01-28', 'genres': ['Classic Regency novel'], 'stock': 12},\n",
    "        'Sense and Sensibility': {'released': '1813-01-28', 'genres': ['Romance novel'], 'stock': 5},\n",
    "        'Mansfield Park': {'released': '1813-01-28', 'genres': ['Bildungsroman'], 'stock': 6},\n",
    "        'Emma': {'released': '1813-01-28', 'genres': ['Novel of manners'], 'stock': 19}\n",
    "    },\n",
    "    'Markus Zusak': {\n",
    "        'The Book Thief': {'released': '1813-01-28', 'genres': ['Novel-Historical Fiction'], 'stock': 4},\n",
    "        'The Messenger': {'released': '1813-01-28', 'genres': ['Fiction'], 'stock': 0}\n",
    "    },\n",
    "    'Eric Arthur Blair': {\n",
    "        '1984': {'released': '1813-01-28', 'genres': ['Dystopian', 'Political fiction', 'Social science fiction'], 'stock': 1},\n",
    "        'Animal Farm': {'released': '1813-01-28', 'genres': ['Political satire'], 'stock': 7}\n",
    "    }\n",
    "}"
   ]
  },
  {
   "cell_type": "markdown",
   "metadata": {},
   "source": [
    "<div class=\"align-center\" style=\"display: flex; text-align: right; direction: rtl; clear: both;\">\n",
    "    <div style=\"display: flex; width: 10%; float: right; clear: both;\">\n",
    "        <img src=\"images/exercise.svg\" style=\"height: 50px !important;\" alt=\"תרגול\"> \n",
    "    </div>\n",
    "    <div style=\"width: 70%\">\n",
    "        <p style=\"text-align: right; direction: rtl; float: right; clear: both;\">\n",
    "            מה היתרונות שנובעים מהבחירה שלנו לייצג הנתונים בצורה כזו? מה החסרונות?<br>\n",
    "            אם הייתה לכם ספרייה משלכם, כיצד הייתם מסדרים ומייצגים את הנתונים?\n",
    "        </p>\n",
    "    </div>\n",
    "    <div style=\"display: flex; width: 20%; border-right: 0.1rem solid #A5A5A5; padding: 1rem 2rem;\">\n",
    "        <p style=\"text-align: center; direction: rtl; justify-content: center; align-items: center; clear: both;\">\n",
    "            <strong>חשוב!</strong><br>\n",
    "            פתרו לפני שתמשיכו!\n",
    "        </p>\n",
    "    </div>\n",
    "</div>"
   ]
  },
  {
   "cell_type": "markdown",
   "metadata": {},
   "source": [
    "## <span style=\"align: right; direction: rtl; float: right; clear: both;\">מתי להשתמש</span>"
   ]
  },
  {
   "cell_type": "markdown",
   "metadata": {},
   "source": [
    "<p style=\"text-align: right; direction: rtl; float: right; clear: both;\">\n",
    "לולאת <code>for</code> יוצרת מבנה אלגנטי וקריא, ומתכנתים רבים מעדיפים אותה על־פני לולאת <code>while</code>.<br>\n",
    "ננסה לעמוד על ההבדלים בין הלולאות:<br>\n",
    "</p>"
   ]
  },
  {
   "cell_type": "markdown",
   "metadata": {},
   "source": [
    "## <span style=\"align: right; direction: rtl; float: right; clear: both;\">דוגמאות נוספות</span>"
   ]
  },
  {
   "cell_type": "markdown",
   "metadata": {},
   "source": [
    "### <span style=\"text-align: right; direction: rtl; float: right;\">דוגמאות מילוליות נוספות</span>"
   ]
  },
  {
   "cell_type": "markdown",
   "metadata": {},
   "source": [
    "<ul style=\"text-align: right; direction: rtl; float: right; clear: both;\">\n",
    "    <li>עבור כל עמוד בספר – קרא את העמוד.</li>\n",
    "    <li>עבור כל צלחת – הכנס אותה מתחת למים חמים, שפשף אותה היטב עם סקוטץ' ספוג בסבון, נגב אותה עם מגבת יבשה ושים אותה במתקן לייבוש כלים.</li>\n",
    "    <li>חשב את הגובה הממוצע של תלמיד, מתוך רשימה של 1000 תלמידים.</li>\n",
    "    <li>בליל כל הקדושים, התחפש, צא החוצה, ועבור כל בית ברחוב: לך לבית, צלצל בפעמון, אמור \"ממתק או תעלול\", קח ממתק ואמור תודה.</li>\n",
    "</ul>"
   ]
  },
  {
   "cell_type": "markdown",
   "metadata": {},
   "source": [
    "### <span style=\"text-align: right; direction: rtl; float: right;\">דוגמאות קוד</span>"
   ]
  },
  {
   "cell_type": "markdown",
   "metadata": {},
   "source": [
    "#### <span style=\"text-align: right; direction: rtl; float: right;\">סכום רשימה</span>"
   ]
  },
  {
   "cell_type": "code",
   "execution_count": null,
   "metadata": {},
   "outputs": [],
   "source": [
    "def total(numbers):\n",
    "    total = 0\n",
    "    for number in numbers:\n",
    "        total = total + number\n",
    "    return total\n",
    "    \n",
    "\n",
    "print(total([1, 2, 3]))"
   ]
  },
  {
   "cell_type": "markdown",
   "metadata": {},
   "source": [
    "## <span style=\"align: right; direction: rtl; float: right; clear: both;\">מונחים</span>"
   ]
  },
  {
   "cell_type": "markdown",
   "metadata": {},
   "source": [
    "<dl style=\"text-align: right; direction: rtl; float: right; clear: both;\">\n",
    "<dt>קובץ טקסטואלי</dt><dd>קובץ שאם ממירים את הבייטים ממנו הוא מורכב לתווים, מקבלים קובץ שקריא על־ידי בני אדם.</dd>\n",
    "<dt>קובץ בינארי</dt><dd>קובץ שהתוכן שלו לא נועד לקריאה על־ידי עין אנושית.</dd>\n",
    "<dt>סמן</dt><dd>מצביע על המקום הנוכחי בקובץ, ממנו הפעולות יתבצעו (קריאה, כתיבה וכדומה).</dd>\n",
    "<dt>ASCII</dt><dd>שיטה מוסכמת לייצוג תווים בזיכרון ובקבצים.</dd>\n",
    "<dt>תסדיר</dt><dd>פורמט, מוסכמה על הדרך שבה ייצגו קובץ מסויים.</dd>\n",
    "</dl>"
   ]
  },
  {
   "cell_type": "markdown",
   "metadata": {},
   "source": [
    "## <span style=\"align: right; direction: rtl; float: right; clear: both;\">תרגולים</span>"
   ]
  },
  {
   "cell_type": "markdown",
   "metadata": {},
   "source": [
    "### <span style=\"align: right; direction: ltr; float: right; clear: both;\">אקרוסטיכון</span>"
   ]
  },
  {
   "cell_type": "markdown",
   "metadata": {},
   "source": [
    "<p style=\"text-align: right; direction: rtl; float: right; clear: both;\">\n",
    "<dfn>אקרוסטיכון</dfn> הוא אמצעי בו משתמשים בכתיבה ספרותית.<br>\n",
    "בשיר בו יש אקרוסטיכון, אם נסתכל על האות הראשונה בכל שורה, נקבל מסר מסויים.<br>\n",
    "ניקח לדוגמה את שירו של אדגר אלן פו, \"אקרוסטיכון\", אותו הוא הקדיש ללטישיה אליזבת' לאנדון ובו יש את האקרוסטיכון <strong>ELIZABETH</strong>:\n",
    "</p>"
   ]
  }
 ],
 "metadata": {
  "kernelspec": {
   "display_name": "Python 3",
   "language": "python",
   "name": "python3"
  },
  "language_info": {
   "codemirror_mode": {
    "name": "ipython",
    "version": 3
   },
   "file_extension": ".py",
   "mimetype": "text/x-python",
   "name": "python",
   "nbconvert_exporter": "python",
   "pygments_lexer": "ipython3",
   "version": "3.7.4"
  }
 },
 "nbformat": 4,
 "nbformat_minor": 2
}
