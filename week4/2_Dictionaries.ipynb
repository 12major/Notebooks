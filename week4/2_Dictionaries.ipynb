{
 "cells": [
  {
   "cell_type": "markdown",
   "metadata": {},
   "source": [
    "<img src=\"images/logo.png\" alt=\"לוגו של מיזם לימוד הפייתון. נחש מצויר בצבעי צהוב וכחול, הנע בין האותיות של שם הקורס: לומדים פייתון. הסלוגן המופיע מעל לשם הקורס הוא מיזם לימוד תכנות בחינם ובעברית.\">"
   ]
  },
  {
   "cell_type": "markdown",
   "metadata": {},
   "source": [
    "# <span style=\"text-align: right; direction: rtl; float: right;\">מילונים</span>"
   ]
  },
  {
   "cell_type": "markdown",
   "metadata": {},
   "source": [
    "## <span style=\"text-align: right; direction: rtl; float: right; clear: both;\">הקדמה</span>"
   ]
  },
  {
   "cell_type": "markdown",
   "metadata": {},
   "source": [
    "<p style=\"text-align: right; direction: rtl; float: right; clear: both;\">\n",
    "    לפניכם אוספים של נתונים:\n",
    "</p>"
   ]
  },
  {
   "cell_type": "markdown",
   "metadata": {},
   "source": [
    "<ul style=\"text-align: right; direction: rtl; float: right; clear: both;\">\n",
    "    <li>בחנות של האדון קשטן יש 2 בננות, 3 תפוחים ו־4 גזרים.</li>\n",
    "    <li>תעודת הזהות של ג'ני היא 086753092, של קווין 133713370, של איינשטיין 071091797 ושל מנחם 111111118.</li>\n",
    "    <li>לקווין מהסעיף הקודם יש צוללות בצבע אדום וכחול. הצוללות של ג'ני מהסעיף הקודם בצבעים שחור וירוק. הצוללת שלי צהובה.</li>\n",
    "    <li>המחיר של סוכרייה אדומה בחנות של קשטן היא 3.14 שקלים. המחיר של סוכרייה ירוקה בחנות של קשטן היא 2.71 שקלים.</li>\n",
    "</ul>"
   ]
  },
  {
   "cell_type": "markdown",
   "metadata": {},
   "source": [
    "<div class=\"align-center\" style=\"display: flex; text-align: right; direction: rtl; clear: both;\">\n",
    "    <div style=\"display: flex; width: 10%; float: right; clear: both;\">\n",
    "        <img src=\"images/exercise.svg\" style=\"height: 50px !important;\" alt=\"תרגול\"> \n",
    "    </div>\n",
    "    <div style=\"width: 70%\">\n",
    "        <p style=\"text-align: right; direction: rtl; float: right; clear: both;\">\n",
    "            נסו למצוא דברים משותפים בין הנתונים שהופיעו מעלה.\n",
    "        </p>\n",
    "    </div>\n",
    "    <div style=\"display: flex; width: 20%; border-right: 0.1rem solid #A5A5A5; padding: 1rem 2rem;\">\n",
    "        <p style=\"text-align: center; direction: rtl; justify-content: center; align-items: center; clear: both;\">\n",
    "            <strong>חשוב!</strong><br>\n",
    "            פתרו לפני שתמשיכו!\n",
    "        </p>\n",
    "    </div>\n",
    "</div>"
   ]
  },
  {
   "cell_type": "markdown",
   "metadata": {},
   "source": [
    "<p style=\"text-align: right; direction: rtl; float: right; clear: both;\">\n",
    "    אם עניתם לפחות אחת מהתשובות הבאות – צדקתם:\n",
    "</p>"
   ]
  },
  {
   "cell_type": "markdown",
   "metadata": {},
   "source": [
    "<ul style=\"text-align: right; direction: rtl; float: right; clear: both;\">\n",
    "    <li>ניתן לחלק כל אחת מהאוספים לזוגות של ערכים – עבור כל ערך יש ערך אחר שמתאים לו.</li>\n",
    "    <li>אחד הערכים בכל זוג הוא יחודי. לא יכול להיות יותר מאחד ממנו באוסף.</li>\n",
    "</ul>"
   ]
  },
  {
   "cell_type": "markdown",
   "metadata": {},
   "source": [
    "<p style=\"text-align: right; direction: rtl; float: right; clear: both;\">\n",
    "    נבחן את הדברים המשותפים לעומק בהתייחס לדוגמאות:\n",
    "</p>"
   ]
  },
  {
   "cell_type": "markdown",
   "metadata": {},
   "source": [
    "<table style=\"text-align: right; direction: rtl; clear: both; font-size: 1.3rem\">\n",
    "    <caption style=\"text-align: center; direction: rtl; clear: both; font-size: 2rem; padding-bottom: 2rem;\">המשותף בין האוספים</caption>\n",
    "    <thead>\n",
    "        <tr>\n",
    "            <th>אוסף</th>\n",
    "            <th>הערך הייחודי</th>\n",
    "            <th>הערך המתאים לו</th>\n",
    "            <th>הסבר</th>\n",
    "        </tr>\n",
    "    </thead>\n",
    "    <tbody>\n",
    "        <tr>\n",
    "            <td>מוצרים והמלאי שלהם בחנות</td>\n",
    "            <td>המוצר שנמכר בחנות</td>\n",
    "            <td>המלאי מאותו מוצר</td>\n",
    "            <td>יכולים להיות בחנות 5 תפוזים ו־5 תפוחים, אבל אין משמעות ל־5 תפוחים ו־3 תפוחים.</td>\n",
    "        </tr>\n",
    "        <tr>\n",
    "            <td>מספרי תעודות הזהות של אנשים</td>\n",
    "            <td>תעודת הזהות</td>\n",
    "            <td>השם של בעל מספר תעודת הזהות</td>\n",
    "            <td>יכולים להיות הרבה אנשים העונים לשם משה לוי, ולכולם יהיו מספרי תעודת־זהות שונים. לא יתכן שמספר מסוים של תעודת זהות יופיע עבור יותר מאדם אחד.</td>\n",
    "        </tr>\n",
    "        <tr>\n",
    "            <td>בעלות על צוללות בצבעים</td>\n",
    "            <td>בעל הצוללות</td>\n",
    "            <td>צבע הצוללות</td>\n",
    "            <td>יכול להיות שגם לקויין וגם לג'ני יש צוללות בצבעים זהים. ג'ני, קווין ואני הם אנשים ספציפיים, שאין יותר מ־1 מהם בעולם (עד שנמציא שיבוטים וכאלו).</td>\n",
    "        </tr>\n",
    "        <tr>\n",
    "            <td>מוצרים ומחיריהם</td>\n",
    "            <td>שם המוצר</td>\n",
    "            <td>מחיר המוצר</td>\n",
    "            <td>לכל מוצר יש מחיר שנקוב עליו. עבור שני מוצרים שונים בחנות יכול להיות מחיר זהה.</td>\n",
    "        </tr>\n",
    "    </tbody>\n",
    "</table>"
   ]
  },
  {
   "cell_type": "markdown",
   "metadata": {},
   "source": [
    "### <span style=\"text-align: right; direction: rtl; float: right; clear: both;\">מיפוי ערכים</span>"
   ]
  },
  {
   "cell_type": "markdown",
   "metadata": {},
   "source": [
    "<p style=\"text-align: right; direction: rtl; float: right; clear: both;\">\n",
    "    כמו שראינו בדוגמאות, מצב נפוץ במיוחד הוא הצורך לאחסן <em>מיפוי בין ערכים</em>.<br>\n",
    "    נחשוב על המיפוי שקורה בחנות של קשטן, בה הוא סופר את המלאי הקיים עבור כל מוצר.<br>\n",
    "    עד היום, היינו מייצגים את המלאי של קשטן באמצעות קוד בצורה הבאה:\n",
    "</p>"
   ]
  },
  {
   "cell_type": "code",
   "execution_count": 12,
   "metadata": {},
   "outputs": [],
   "source": [
    "items = ['banana', 'apple', 'carrot']\n",
    "stock = [2, 3, 4]"
   ]
  },
  {
   "cell_type": "markdown",
   "metadata": {},
   "source": [
    "<p style=\"text-align: right; direction: rtl; float: right; clear: both;\">\n",
    "    עבור כל תא ברשימת <var>items</var>, שמרנו במקום התואם ברשימת <var>stock</var> את הכמות שנמצאת ממנו בחנות.<br>\n",
    "    שליפה של הכמות במלאי עבור אחד המוצרים בחנות תתבצע בצורה הבאה:\n",
    "</p>"
   ]
  },
  {
   "cell_type": "code",
   "execution_count": 17,
   "metadata": {},
   "outputs": [],
   "source": [
    "def get_stock(item_name, items, stock):\n",
    "    item_index = items.index(item_name)\n",
    "    how_many = stock[item_index]\n",
    "    return how_many"
   ]
  },
  {
   "cell_type": "markdown",
   "metadata": {},
   "source": [
    "<p style=\"text-align: right; direction: rtl; float: right; clear: both;\">\n",
    "    בשורה הראשונה מצאנו את מיקום המוצר שאנחנו מחפשים במלאי. נניח, \"תפוח\" מוחזק במקום 1 ברשימה.<br>\n",
    "    בשורה השנייה הלכו לרשימה השנייה, זו שמאחסנת את המלאי עבור כל מוצר, ומצאנו את המלאי באותו מיקום.<br>\n",
    "    כמות היחידות של מוצר מאוחסנת במספר תא מסוים, התואם למספר התא ברשימה של שמות המוצרים. זו הסיבה שהרעיון עובד.<br>\n",
    "</p>"
   ]
  },
  {
   "cell_type": "code",
   "execution_count": 11,
   "metadata": {},
   "outputs": [
    {
     "name": "stdout",
     "output_type": "stream",
     "text": [
      "3\n"
     ]
    }
   ],
   "source": [
    "print(get_stock('apple', items, stock))"
   ]
  },
  {
   "cell_type": "markdown",
   "metadata": {},
   "source": [
    "<p style=\"text-align: right; direction: rtl; float: right; clear: both;\">\n",
    "    צורה נוספת למימוש של אותו רעיון תהיה שמירה של זוגות סדורים בתוך רשימה:\n",
    "</p>"
   ]
  },
  {
   "cell_type": "code",
   "execution_count": 14,
   "metadata": {},
   "outputs": [],
   "source": [
    "items = [('banana', 2), ('apple', 3), ('carrot', 4)]"
   ]
  },
  {
   "cell_type": "markdown",
   "metadata": {},
   "source": [
    "<p style=\"text-align: right; direction: rtl; float: right; clear: both;\">\n",
    "    ברשימה הזו הרעיון נראה מובן יותר. בואו נממש דרך להשיג איבר מסוים מתוך הרשימה:\n",
    "</p>"
   ]
  },
  {
   "cell_type": "code",
   "execution_count": 23,
   "metadata": {},
   "outputs": [],
   "source": [
    "def get_stock(item_name, items_with_stock):\n",
    "    for item_to_stock in items_with_stock:\n",
    "        item = item_to_stock[0]\n",
    "        stock = item_to_stock[1]\n",
    "        if item == item_name:\n",
    "            return stock"
   ]
  },
  {
   "cell_type": "markdown",
   "metadata": {},
   "source": [
    "<p style=\"text-align: right; direction: rtl; float: right; clear: both;\">\n",
    "    עבור כל tuple ברשימה, בדקנו האם שם הפריט שהוא מכיל תואם לשם הפריט שחיפשנו.<br>\n",
    "    אם כן, החזרנו את הכמות של אותו פריט במלאי.<br>\n",
    "    שימוש בפונקציה הזו נראה ככה:\n",
    "</p>"
   ]
  },
  {
   "cell_type": "code",
   "execution_count": 24,
   "metadata": {},
   "outputs": [
    {
     "data": {
      "text/plain": [
       "3"
      ]
     },
     "execution_count": 24,
     "metadata": {},
     "output_type": "execute_result"
    }
   ],
   "source": [
    "get_stock('apple', items)"
   ]
  },
  {
   "cell_type": "markdown",
   "metadata": {},
   "source": [
    "<div class=\"align-center\" style=\"display: flex; text-align: right; direction: rtl; clear: both;\">\n",
    "    <div style=\"display: flex; width: 10%; float: right; clear: both;\">\n",
    "        <img src=\"images/exercise.svg\" style=\"height: 50px !important;\" alt=\"תרגול\"> \n",
    "    </div>\n",
    "    <div style=\"width: 70%\">\n",
    "        <p style=\"text-align: right; direction: rtl; float: right; clear: both;\">\n",
    "            שני קטעי הקוד שנתנו כדוגמה פישטו את המצב יתר על המידה, ולא מתייחסים למצב שבו אין את הפריט במלאי.<br>\n",
    "            הרחיבו את הפונקציות <code>get_stock</code> כך שיחזירו 0 במידה והפריט לא נמצא במלאי.\n",
    "        </p>\n",
    "    </div>\n",
    "    <div style=\"display: flex; width: 20%; border-right: 0.1rem solid #A5A5A5; padding: 1rem 2rem;\">\n",
    "        <p style=\"text-align: center; direction: rtl; justify-content: center; align-items: center; clear: both;\">\n",
    "            <strong>חשוב!</strong><br>\n",
    "            פתרו לפני שתמשיכו!\n",
    "        </p>\n",
    "    </div>\n",
    "</div>"
   ]
  },
  {
   "cell_type": "markdown",
   "metadata": {},
   "source": [
    "## <span style=\"text-align: right; direction: rtl; float: right; clear: both;\">הגדרה</span>"
   ]
  },
  {
   "cell_type": "markdown",
   "metadata": {},
   "source": [
    "### <span style=\"text-align: right; direction: rtl; float: right; clear: both;\">מה זה מילון?</span>"
   ]
  },
  {
   "cell_type": "markdown",
   "metadata": {},
   "source": [
    "<p style=\"text-align: right; direction: rtl; float: right; clear: both;\">\n",
    "מילון הוא סוג ערך בפייתון.<br>\n",
    "תכליתו היא ליצור קשר בין סדרה של נתונים שנקראים \"מפתחות\", לבין סדרה אחרת שנקראת \"ערכים\".<br>\n",
    "לכל מפתח יש ערך שעליו הוא מצביע.<br>\n",
    "ישנן דוגמאות אפשריות רבות לקשרים שכאלו:\n",
    "</p>"
   ]
  },
  {
   "cell_type": "markdown",
   "metadata": {},
   "source": [
    "<ul style=\"text-align: right; direction: rtl; float: right; clear: both;\">\n",
    "    <li>קשר בין מילים לבין רשימת הפירושים שלהן באבן־שושן.</li>\n",
    "    <li>קשר בין ערים בעולם לבין כמות האנשים שחיים בהן.</li>\n",
    "    <li>קשר בין ברקוד של מוצרים בחנות לבין כמות הפריטים במלאי מכל מוצר.</li> \n",
    "</ul>"
   ]
  },
  {
   "cell_type": "markdown",
   "metadata": {},
   "source": [
    "<p style=\"text-align: right; direction: rtl; float: right; clear: both;\">\n",
    "לערך המצביע נקרא <dfn>מפתח</dfn> (<dfn>key</dfn>). זה האיבר מבין זוג האיברים שעל־פיו נשמע הגיוני יותר לחפש דברים:<br>\n",
    "המילה שאת הפירושים שלה אנחנו רוצים למצוא, העיר שבה אנחנו רוצים לדעת מה כמות התושבים או הברקוד שעבורו אנחנו רוצים לדעת כמה מוצרים קיימים במלאי.\n",
    "</p>"
   ]
  },
  {
   "cell_type": "markdown",
   "metadata": {},
   "source": [
    "<p style=\"text-align: right; direction: rtl; float: right; clear: both;\">\n",
    "לערך השני מבין שני הערכים בזוג, נקרא.... ובכן, <dfn>ערך</dfn> (<dfn>value</dfn>). זה הנתון שנרצה להסיק מתוך המפתח:<br>\n",
    "הפירושים של המילה במילון, כמות התושבים בעיר או כמות המוצרים קיימים במלאי עבור הברקוד.\n",
    "</p>"
   ]
  },
  {
   "cell_type": "markdown",
   "metadata": {},
   "source": [
    "<p style=\"text-align: right; direction: rtl; float: right; clear: both;\">\n",
    "אם כך, מילון הוא בסך־הכל אוסף של זוגות שכאלו: מפתחות וערכים.</p>"
   ]
  },
  {
   "cell_type": "markdown",
   "metadata": {},
   "source": [
    "## <span style=\"text-align: right; direction: rtl; float: right; clear: both;\">התעסקות בסיסית</span>"
   ]
  },
  {
   "cell_type": "markdown",
   "metadata": {},
   "source": [
    "### <span style=\"text-align: right; direction: rtl; float: right; clear: both;\">יצירת מילון</span>"
   ]
  },
  {
   "cell_type": "markdown",
   "metadata": {},
   "source": [
    "<p style=\"text-align: right; direction: rtl; float: right; clear: both;\">\n",
    "ניצור מילון חדש:</p>"
   ]
  },
  {
   "cell_type": "code",
   "execution_count": 52,
   "metadata": {},
   "outputs": [],
   "source": [
    "ages = {'Yam': 27, 'Methuselah': 969, 'Baby Groot': 3}"
   ]
  },
  {
   "cell_type": "markdown",
   "metadata": {},
   "source": [
    "<p style=\"text-align: right; direction: rtl; float: right; clear: both;\">\n",
    "במילון הזה ישנם שלושה ערכים: הגיל של ים, של מתושלח ושל בייבי־גרוט.<br>\n",
    "המפתחות במילון הזה הם <em>Yam</em> (הערך הקשור למפתח הזה הוא 27), <em>Methuselah</em> (עם הערך 969) ו־<em>Baby Groot</em> (אליו הוצמד הערך 3).\n",
    "</p>"
   ]
  },
  {
   "cell_type": "markdown",
   "metadata": {},
   "source": [
    "<p style=\"text-align: right; direction: rtl; float: right; clear: both;\">\n",
    "יצירת המילון התבצעה בצורה הבאה:\n",
    "</p>"
   ]
  },
  {
   "cell_type": "markdown",
   "metadata": {},
   "source": [
    "<ol style=\"text-align: right; direction: rtl; float: right; clear: both;\">\n",
    "    <li>פתיחת סוגריים מסולסלים.</li>\n",
    "    <li>הכנסת זוגות של מפתחות וערכים, מופרדים בפסיק:\n",
    "        <ol>\n",
    "            <li>הכנסת המפתח.</li>\n",
    "            <li>הפרדה בין המפתח לערך שאליו הוא מצביע באמצעות נקודותיים.</li>\n",
    "            <li>הכנסת הערך.</li>\n",
    "        </ol>\n",
    "    </li>\n",
    "    <li>סגירת סוגריים מסולסלים.</li>\n",
    "</ol>"
   ]
  },
  {
   "cell_type": "markdown",
   "metadata": {},
   "source": [
    "<figure>\n",
    "    <img src=\"images/dictionary.svg?v=2\" style=\"max-width:100%; margin-right: auto; margin-left: auto; text-align: center;\" alt=\"בתמונה מופיעים 3 ריבועים בימין ו־3 ריבועים בשמאל. הריבועים בימין, שמתויגים כ'מפתח', מצביעים על הריבועים בשמאל שמתויגים כ'ערך'. כל ריבוע בימין מצביע לריבוע בשמאל. בריבוע הימני העליון כתוב Yam, והוא מצביע על ריבוע בו כתוב 27. כך גם עבור ריבוע שבו כתוב Methuselah ומצביע לריבוע בו כתוב 969, וריבוע בו כתוב Baby Groot ומצביע לריבוע בו כתוב 3.\"/>\n",
    "    <figcaption style=\"text-align: center; direction: rtl;\">דוגמה למילון שכולל 3 ערכים.</figcaption>\n",
    "</figure>"
   ]
  },
  {
   "cell_type": "markdown",
   "metadata": {},
   "source": [
    "<p style=\"text-align: right; direction: rtl; float: right; clear: both;\">\n",
    "ניתן ליצור מילון ריק בעזרת פתיחה וסגירה של סוגריים מסולסלים:</p>"
   ]
  },
  {
   "cell_type": "code",
   "execution_count": 51,
   "metadata": {},
   "outputs": [],
   "source": [
    "age_of_my_elephants = {}"
   ]
  },
  {
   "cell_type": "markdown",
   "metadata": {},
   "source": [
    "<div class=\"align-center\" style=\"display: flex; text-align: right; direction: rtl; clear: both;\">\n",
    "    <div style=\"display: flex; width: 10%; float: right; clear: both;\">\n",
    "        <img src=\"images/exercise.svg\" style=\"height: 50px !important;\" alt=\"תרגול\"> \n",
    "    </div>\n",
    "    <div style=\"width: 70%\">\n",
    "        <p style=\"text-align: right; direction: rtl; float: right; clear: both;\">\n",
    "            צרו מילון עבור המלאי בחנות של אדון קשטן.\n",
    "        </p>\n",
    "    </div>\n",
    "    <div style=\"display: flex; width: 20%; border-right: 0.1rem solid #A5A5A5; padding: 1rem 2rem;\">\n",
    "        <p style=\"text-align: center; direction: rtl; justify-content: center; align-items: center; clear: both;\">\n",
    "            <strong>חשוב!</strong><br>\n",
    "            פתרו לפני שתמשיכו!\n",
    "        </p>\n",
    "    </div>\n",
    "</div>"
   ]
  },
  {
   "cell_type": "markdown",
   "metadata": {},
   "source": [
    "### <span style=\"text-align: right; direction: rtl; float: right; clear: both;\">אחזור ערך</span>"
   ]
  },
  {
   "cell_type": "markdown",
   "metadata": {},
   "source": [
    "<p style=\"text-align: right; direction: rtl; float: right; clear: both;\">\n",
    "נזכר כיצד מאחזרים ערך מתוך רשימה:\n",
    "</p>"
   ]
  },
  {
   "cell_type": "code",
   "execution_count": 33,
   "metadata": {},
   "outputs": [],
   "source": [
    "names = ['Yam', 'Mathuselah', 'Baby Groot']"
   ]
  },
  {
   "cell_type": "markdown",
   "metadata": {},
   "source": [
    "<p style=\"text-align: right; direction: rtl; float: right; clear: both;\">\n",
    "כדי להשיג את הערך שנמצא <em>במקום 2</em> ברשימה <var>names</var>, אני אכתוב:\n",
    "</p>"
   ]
  },
  {
   "cell_type": "code",
   "execution_count": 34,
   "metadata": {},
   "outputs": [
    {
     "data": {
      "text/plain": [
       "'Baby Groot'"
      ]
     },
     "execution_count": 34,
     "metadata": {},
     "output_type": "execute_result"
    }
   ],
   "source": [
    "names[2]"
   ]
  },
  {
   "cell_type": "markdown",
   "metadata": {},
   "source": [
    "<p style=\"text-align: right; direction: rtl; float: right; clear: both;\">\n",
    "עד כאן הכל מוכר.<br>\n",
    "ניקח את המילון שמייצג את המלאי בחנות של אדון קשטן:\n",
    "</p>"
   ]
  },
  {
   "cell_type": "code",
   "execution_count": 44,
   "metadata": {},
   "outputs": [],
   "source": [
    "items = {'banana': 2, 'apple': 3, 'carrot': 4}"
   ]
  },
  {
   "cell_type": "markdown",
   "metadata": {},
   "source": [
    "<p style=\"text-align: right; direction: rtl; float: right; clear: both;\">\n",
    "על מנת להשיג את המלאי שנמצא <em>במקום שבו המפתח הוא 'banana'</em>, ארשום את הביטוי הבא:\n",
    "</p>"
   ]
  },
  {
   "cell_type": "code",
   "execution_count": 38,
   "metadata": {},
   "outputs": [
    {
     "data": {
      "text/plain": [
       "2"
      ]
     },
     "execution_count": 38,
     "metadata": {},
     "output_type": "execute_result"
    }
   ],
   "source": [
    "items['banana']"
   ]
  },
  {
   "cell_type": "markdown",
   "metadata": {},
   "source": [
    "<p style=\"text-align: right; direction: rtl; float: right; clear: both;\">\n",
    "מכיוון שבמילון המפתח הוא זה שמצביע לערך ולא להיפך, אפשר לאחזר ערך לפי מפתח, אבל <em>אי אפשר לאחזר מפתח בעזרת ערך.</em></p>"
   ]
  },
  {
   "cell_type": "markdown",
   "metadata": {},
   "source": [
    "<div class=\"align-center\" style=\"display: flex; text-align: right; direction: rtl;\">\n",
    "    <div style=\"display: flex; width: 10%; \">\n",
    "        <img src=\"images/tip.png\" style=\"height: 50px !important;\" alt=\"אזהרה!\"> \n",
    "    </div>\n",
    "    <div style=\"width: 90%\">\n",
    "        <p style=\"text-align: right; direction: rtl;\">\n",
    "            ביום־יום, השתמשו במילה \"בְּמָקוֹם\" (b'e-ma-qom) כתחליף למילים סוגריים מרובעים.<br>\n",
    "            לדוגמה: עבור שורת הקוד האחרונה, אימרו <em><q>items במקום banana</q></em>.\n",
    "        </p>\n",
    "    </div>\n",
    "</div>"
   ]
  },
  {
   "cell_type": "markdown",
   "metadata": {},
   "source": [
    "### <span style=\"text-align: right; direction: rtl; float: right; clear: both;\">הוספה ועדכון</span>"
   ]
  },
  {
   "cell_type": "markdown",
   "metadata": {},
   "source": [
    "<p style=\"text-align: right; direction: rtl; float: right; clear: both;\">\n",
    "ניתן להוסיף מפתח וערך למילון, באמצעות השמת הערך אל המילון במקום של המפתח.<br>\n",
    "אם, לדוגמה, יש לנו במלאי מלון אחד.<br>\n",
    "המפתח הוא <em>melon</em> והערך הוא <em>1</em>, ולכן נשתמש בהשמה הבאה: \n",
    "</p>"
   ]
  },
  {
   "cell_type": "code",
   "execution_count": 41,
   "metadata": {},
   "outputs": [],
   "source": [
    "items['melon'] = 1"
   ]
  },
  {
   "cell_type": "markdown",
   "metadata": {},
   "source": [
    "<p style=\"text-align: right; direction: rtl; float: right; clear: both;\">\n",
    "אם הגיעו עוד 4 מלונים לחנות של אדון קשטן, נוכל לעדכן את מלאי המלונים באמצעות השמה למקום הנכון במילון:\n",
    "</p>"
   ]
  },
  {
   "cell_type": "code",
   "execution_count": 42,
   "metadata": {},
   "outputs": [],
   "source": [
    "items['melon'] = items['melon'] + 4"
   ]
  },
  {
   "cell_type": "markdown",
   "metadata": {},
   "source": [
    "### <span style=\"text-align: right; direction: rtl; float: right; clear: both;\">כללי המשחק</span>"
   ]
  },
  {
   "cell_type": "markdown",
   "metadata": {},
   "source": [
    "<ul style=\"text-align: right; direction: rtl; float: right; clear: both;\">\n",
    "    <li>לא יכולים להיות 2 מפתחות זהים במילון.</li>\n",
    "    <li>המפתחות במילון חייבים להיות Immutables.</li>\n",
    "    <li>אנחנו נתייחס למילון כאל מבנה ללא סדר מסוים (אין \"איבר ראשון\" או \"איבר אחרון\").</li> \n",
    "</ul>"
   ]
  },
  {
   "cell_type": "markdown",
   "metadata": {},
   "source": [
    "<div class=\"align-center\" style=\"display: flex; text-align: right; direction: rtl;\">\n",
    "    <div style=\"display: flex; width: 10%; \">\n",
    "        <img src=\"images/deeper.svg?a=1\" style=\"height: 50px !important;\" alt=\"בהרחבה\"> \n",
    "    </div>\n",
    "    <div style=\"width: 90%\">\n",
    "        <p style=\"text-align: right; direction: rtl;\">\n",
    "            בגרסאות האחרונות של פייתון מילון הפך להיות מבנה מסודר, בו סדר האיברים הוא סדר ההכנסה שלהם למילון.<br>\n",
    "            למרות זאת, רק במצבים נדירים נצטרך להתייחס לסדר שבו האיברים מסודרים במילון, ובשלב זה נעדיף שלא להתייחס לתכונה הזו.\n",
    "        </p>\n",
    "    </div>\n",
    "</div>"
   ]
  },
  {
   "cell_type": "markdown",
   "metadata": {},
   "source": [
    "### <span style=\"text-align: right; direction: rtl; float: right; clear: both;\">סיכום ביניים</span>"
   ]
  },
  {
   "cell_type": "markdown",
   "metadata": {},
   "source": [
    "<ul style=\"text-align: right; direction: rtl; float: right; clear: both;\">\n",
    "    <li>מילון הוא מבנה שבנוי זוגות־זוגות: יש ערכים ומפתחות, ולכל מפתח יש ערך אחד.</li>\n",
    "    <li>אנחנו נתייחס למילון כאל מבנה ללא סדר מסוים (אין \"איבר ראשון\" או \"איבר אחרון\").</li> \n",
    "    <li>בניגוד לרשימה, כאן ה\"מקום\" אליו אנחנו פונים כדי לקבל ערך הוא המפתח, ולא מספר שמייצג את המקום הסידורי של התא.</li>\n",
    "    <li>בעזרת מפתח ניתן להגיע לערך המוצמד אליו, אבל לא להיפך.</li>\n",
    "</ul>"
   ]
  },
  {
   "cell_type": "markdown",
   "metadata": {},
   "source": [
    "## <span style=\"text-align: right; direction: rtl; float: right; clear: both;\">מעבר על מילון</span>"
   ]
  },
  {
   "cell_type": "markdown",
   "metadata": {},
   "source": [
    "### <span style=\"text-align: right; direction: rtl; float: right; clear: both;\">לולאת for</span>"
   ]
  },
  {
   "cell_type": "markdown",
   "metadata": {},
   "source": [
    "<p style=\"text-align: right; direction: rtl; float: right; clear: both;\">\n",
    "מכיוון שמילון הוא iterable, דרך מקובלת אחת לעבור עליו היא באמצעות לולאת <code>for</code>.<br>\n",
    "ננסה להשתמש בלולאת <code>for</code> על המילון, ונראה מה התוצאות:\n",
    "</p>"
   ]
  },
  {
   "cell_type": "code",
   "execution_count": 53,
   "metadata": {},
   "outputs": [
    {
     "name": "stdout",
     "output_type": "stream",
     "text": [
      "Alice\n",
      "Mad hatter\n",
      "Achiles\n"
     ]
    }
   ],
   "source": [
    "loved_animals = {'Alice': 'Cat', 'Mad hatter': 'Hare', 'Achiles': 'Tortoise'}\n",
    "for something in loved_animals:\n",
    "    print(something)"
   ]
  },
  {
   "cell_type": "markdown",
   "metadata": {},
   "source": [
    "<p style=\"text-align: right; direction: rtl; float: right; clear: both;\">\n",
    "    נראה שקיבלנו רק את המפתחות, בלי הערכים.<br>\n",
    "    נסיק מכאן שמילון הוא אמנם iterable, אך בכל חזרור הוא מחזיר לנו רק את המפתח, בלי הערך.\n",
    "</p>"
   ]
  },
  {
   "cell_type": "markdown",
   "metadata": {},
   "source": [
    "<p style=\"text-align: right; direction: rtl; float: right; clear: both;\">\n",
    "    אנחנו כבר יודעים איך משיגים את הערך של מפתח מסוים.<br>\n",
    "    נוכל להשתמש בידע הזה כדי לקבל בכל חזרור גם את המפתח, וגם את הערך:\n",
    "</p>"
   ]
  },
  {
   "cell_type": "code",
   "execution_count": 77,
   "metadata": {},
   "outputs": [
    {
     "name": "stdout",
     "output_type": "stream",
     "text": [
      "loved_animals items:\n",
      "Alice      -----> Cat.\n",
      "Mad hatter -----> Hare.\n",
      "Achiles    -----> Tortoise.\n"
     ]
    }
   ],
   "source": [
    "loved_animals = {'Alice': 'Cat', 'Mad hatter': 'Hare', 'Achiles': 'Tortoise'}\n",
    "print('loved_animals items:')\n",
    "for key in loved_animals:\n",
    "    value = loved_animals[key]\n",
    "    print(f\"{key:10} -----> {value}.\")  # תרגיל קטן: זהו את הטריק שגורם לזה להראות כל־כך טוב בהדפסה"
   ]
  },
  {
   "cell_type": "markdown",
   "metadata": {},
   "source": [
    "<p style=\"text-align: right; direction: rtl; float: right; clear: both;\">\n",
    "אבל זה לא נראה אלגנטי מי־יודע־מה, ומרגיש שיש פתרון טוב יותר.\n",
    "</p>"
   ]
  },
  {
   "cell_type": "markdown",
   "metadata": {},
   "source": [
    "<p style=\"text-align: right; direction: rtl; float: right; clear: both;\">\n",
    "הפעולה <code>items</code> שפועלת על מילונים יכולה לעזור במקרה הזה.<br>\n",
    "הפעולה מחזירה זוגות איברים, כאשר בכל זוג האיבר הראשון הוא המפתח והאיבר השני הוא הערך.\n",
    "</p>"
   ]
  },
  {
   "cell_type": "code",
   "execution_count": 86,
   "metadata": {},
   "outputs": [
    {
     "name": "stdout",
     "output_type": "stream",
     "text": [
      "[('Alice', 'Cat'), ('Mad hatter', 'Hare'), ('Achiles', 'Tortoise')]\n"
     ]
    }
   ],
   "source": [
    "print(list(loved_animals.items()))"
   ]
  },
  {
   "cell_type": "markdown",
   "metadata": {},
   "source": [
    "<p style=\"text-align: right; direction: rtl; float: right; clear: both;\">\n",
    "מאחר שמדובר פה על איברים שבאים בזוגות, נוכל להשתמש בפריקת איברים שלמדנו בשיעור על לולאות <code>for</code>:\n",
    "</p>"
   ]
  },
  {
   "cell_type": "code",
   "execution_count": 83,
   "metadata": {},
   "outputs": [
    {
     "name": "stdout",
     "output_type": "stream",
     "text": [
      "loved_animals items:\n",
      "Alice      -----> Cat.\n",
      "Mad hatter -----> Hare.\n",
      "Achiles    -----> Tortoise.\n"
     ]
    }
   ],
   "source": [
    "print('loved_animals items:')\n",
    "for key, value in loved_animals.items():\n",
    "    print(f\"{key:10} -----> {value}.\")"
   ]
  },
  {
   "cell_type": "markdown",
   "metadata": {},
   "source": [
    "<p style=\"text-align: right; direction: rtl; float: right; clear: both;\">\n",
    "בלולאה שמופיעה למעלה ניצלנו את העובדה שהפעולה <code>items</code> מחזירה לנו איברים בזוגות: מפתח וערך.<br>\n",
    "בכל חזרור, אנחנו מכניסים למשתנה <var>key</var> את האיבר הראשון בזוג, ולמשתנה <var>value</var> את האיבר השני בזוג.<br>\n",
    "נוכל להיות אפילו יותר מנומסים ולתת למשתנים הללו שמות ראויים:\n",
    "</p>"
   ]
  },
  {
   "cell_type": "code",
   "execution_count": 87,
   "metadata": {},
   "outputs": [
    {
     "name": "stdout",
     "output_type": "stream",
     "text": [
      "loved_animals items:\n",
      "Alice      -----> Cat.\n",
      "Mad hatter -----> Hare.\n",
      "Achiles    -----> Tortoise.\n"
     ]
    }
   ],
   "source": [
    "print('loved_animals items:')\n",
    "for character, animal in loved_animals.items():\n",
    "    print(f\"{character:10} -----> {animal}.\")"
   ]
  },
  {
   "cell_type": "markdown",
   "metadata": {},
   "source": [
    "### <span style=\"text-align: right; direction: rtl; float: right; clear: both;\">איך זה עובד?</span>"
   ]
  },
  {
   "cell_type": "markdown",
   "metadata": {},
   "source": [
    "<p style=\"text-align: right; direction: rtl; float: right; clear: both;\">\n",
    "לולאת ה־<code>for</code> שראיתם מתחלקת ל־3 חלקים:\n",
    "</p>"
   ]
  },
  {
   "cell_type": "markdown",
   "metadata": {},
   "source": [
    "<ul style=\"text-align: right; direction: rtl; float: right; clear: both;\">\n",
    "    <li>ערך כלשהו, שחייב להיות iterable. אנחנו נסתכל על כל האיברים שלו לפי הסדר שלהם.</li>\n",
    "    <li>שם משתנה חדש שאנחנו ממציאים. פייתון יצור את המשתנה הזה עבור הלולאה. המשתנה הזה יצביע כל פעם על איבר אחד, לפי הסדר, מתוך ה־iterable.</li>\n",
    "    <li>הפעולה או הפעולות של מה שאנחנו רוצים לבצע עם כל אחד מהאיברים האלו.</li>\n",
    "</ul>"
   ]
  },
  {
   "cell_type": "code",
   "execution_count": null,
   "metadata": {},
   "outputs": [],
   "source": [
    "names_of_students_in_class = ['Galia', 'Hadas', 'Hen', 'Ilana', 'Ivria', 'Karin', 'Maya', 'Noa']\n",
    "\n",
    "#   השם שאנחנו ממציאים\n",
    "#          V        Iterable, ערך שניתן לפרק לכלל איבריו \n",
    "for student_name in names_of_students_in_class:\n",
    "    print(student_name)  # <---- הפעולות לביצוע"
   ]
  },
  {
   "cell_type": "markdown",
   "metadata": {},
   "source": [
    "<p style=\"text-align: right; direction: rtl; float: right; clear: both;\">\n",
    "נבחן את הלולאה שמדפיסה את שמות התלמידות בכתה, שלב אחר שלב, כדי להבין איך לולאת <code>for</code> פועלת.\n",
    "</p>"
   ]
  },
  {
   "cell_type": "markdown",
   "metadata": {},
   "source": [
    "<div class=\"align-center\" style=\"display: flex; text-align: right; direction: rtl;\">\n",
    "    <div style=\"display: flex; width: 10%; float: right; \">\n",
    "        <img src=\"images/warning.png\" style=\"height: 50px !important;\" alt=\"אזהרה!\"> \n",
    "    </div>\n",
    "    <div style=\"width: 90%\">\n",
    "        <p style=\"text-align: right; direction: rtl;\">\n",
    "            כמה מקטעי הקוד הבאים לא ירוצו, מכיוון שחלק מהקוד מסומן בהערה.<br>\n",
    "            המטרה של קטעי הקוד בחלק הזה של המחברת היא להדגיש איזה קוד רץ באותו רגע.\n",
    "        </p>\n",
    "    </div>\n",
    "</div>"
   ]
  },
  {
   "cell_type": "code",
   "execution_count": null,
   "metadata": {},
   "outputs": [],
   "source": [
    "names_of_students_in_class = ['Galia', 'Hadas', 'Hen', 'Ilana', 'Ivria', 'Karin', 'Maya', 'Noa']"
   ]
  },
  {
   "cell_type": "markdown",
   "metadata": {},
   "source": [
    "<table style=\"font-size: 1.5rem; border: 0px solid black; border-spacing: 0px;\">\n",
    "    <caption style=\"direction: rtl; text-align: center;\">תוכן המשתנה <var>names_of_students_in_class</var></caption>\n",
    "    <tr>\n",
    "        <td style=\"padding-left: 4px; padding-top: 2px; padding-bottom: 3px; font-size: 1.3rem; color: #777;  text-align: left; border-bottom: 1px solid;\">0</td>\n",
    "        <td style=\"padding-left: 4px; padding-top: 2px; padding-bottom: 3px; font-size: 1.3rem; color: #777;  text-align: left; border-left: 1px solid #555555; border-bottom: 1px solid;\">1</td>\n",
    "        <td style=\"padding-left: 4px; padding-top: 2px; padding-bottom: 3px; font-size: 1.3rem; color: #777;  text-align: left; border-left: 1px solid #555555; border-bottom: 1px solid;\">2</td>\n",
    "        <td style=\"padding-left: 4px; padding-top: 2px; padding-bottom: 3px; font-size: 1.3rem; color: #777;  text-align: left; border-left: 1px solid #555555; border-bottom: 1px solid;\">3</td>\n",
    "        <td style=\"padding-left: 4px; padding-top: 2px; padding-bottom: 3px; font-size: 1.3rem; color: #777;  text-align: left; border-left: 1px solid #555555; border-bottom: 1px solid;\">4</td>\n",
    "        <td style=\"padding-left: 4px; padding-top: 2px; padding-bottom: 3px; font-size: 1.3rem; color: #777;  text-align: left; border-left: 1px solid #555555; border-bottom: 1px solid;\">5</td>\n",
    "        <td style=\"padding-left: 4px; padding-top: 2px; padding-bottom: 3px; font-size: 1.3rem; color: #777;  text-align: left; border-left: 1px solid #555555; border-bottom: 1px solid;\">6</td>\n",
    "        <td style=\"padding-left: 4px; padding-top: 2px; padding-bottom: 3px; font-size: 1.3rem; color: #777;  text-align: left; border-left: 1px solid #555555; border-bottom: 1px solid;\">7</td>\n",
    "    </tr>\n",
    "    <tbody>\n",
    "        <tr>\n",
    "            <td style=\"padding-top: 8px; padding-bottom: 8px; padding-left: 10px; padding-right: 10px; vertical-align: bottom; border: 2px solid;\">\"Galia\"</td>\n",
    "            <td style=\"padding-top: 8px; padding-bottom: 8px; padding-left: 10px; padding-right: 10px; vertical-align: bottom; border: 2px solid;\">\"Hadas\"</td>\n",
    "            <td style=\"padding-top: 8px; padding-bottom: 8px; padding-left: 10px; padding-right: 10px; vertical-align: bottom; border: 2px solid;\">\"Hen\"</td>\n",
    "            <td style=\"padding-top: 8px; padding-bottom: 8px; padding-left: 10px; padding-right: 10px; vertical-align: bottom; border: 2px solid;\">\"Ilana\"</td>\n",
    "            <td style=\"padding-top: 8px; padding-bottom: 8px; padding-left: 10px; padding-right: 10px; vertical-align: bottom; border: 2px solid;\">\"Ivria\"</td>\n",
    "            <td style=\"padding-top: 8px; padding-bottom: 8px; padding-left: 10px; padding-right: 10px; vertical-align: bottom; border: 2px solid;\">\"Karin\"</td>\n",
    "            <td style=\"padding-top: 8px; padding-bottom: 8px; padding-left: 10px; padding-right: 10px; vertical-align: bottom; border: 2px solid;\">\"Maya\"</td>\n",
    "            <td style=\"padding-top: 8px; padding-bottom: 8px; padding-left: 10px; padding-right: 10px; vertical-align: bottom; border: 2px solid;\">\"Noa\"</td>\n",
    "        </tr>\n",
    "        <tr style=\"background: #f5f5f5;\">\n",
    "            <td style=\"padding-left: 4px; padding-top: 2px; padding-bottom: 3px; font-size: 1.3rem; color: #777; text-align: right;\">-8</td>\n",
    "            <td style=\"padding-left: 4px; padding-top: 2px; padding-bottom: 3px; font-size: 1.3rem; color: #777; text-align: right; border-left: 1px solid #555555;\">-7</td>\n",
    "            <td style=\"padding-left: 4px; padding-top: 2px; padding-bottom: 3px; font-size: 1.3rem; color: #777; text-align: right; border-left: 1px solid #555555;\">-6</td>\n",
    "            <td style=\"padding-left: 4px; padding-top: 2px; padding-bottom: 3px; font-size: 1.3rem; color: #777; text-align: right; border-left: 1px solid #555555;\">-5</td>\n",
    "            <td style=\"padding-left: 4px; padding-top: 2px; padding-bottom: 3px; font-size: 1.3rem; color: #777; text-align: right; border-left: 1px solid #555555;\">-4</td>\n",
    "            <td style=\"padding-left: 4px; padding-top: 2px; padding-bottom: 3px; font-size: 1.3rem; color: #777; text-align: right; border-left: 1px solid #555555;\">-3</td>\n",
    "            <td style=\"padding-left: 4px; padding-top: 2px; padding-bottom: 3px; font-size: 1.3rem; color: #777; text-align: right; border-left: 1px solid #555555;\">-2</td>\n",
    "            <td style=\"padding-left: 4px; padding-top: 2px; padding-bottom: 3px; font-size: 1.3rem; color: #777; text-align: right; border-left: 1px solid #555555;\">-1</td>\n",
    "        </tr>\n",
    "    </tbody>\n",
    "</table>"
   ]
  },
  {
   "cell_type": "markdown",
   "metadata": {},
   "source": [
    "<p style=\"text-align: right; direction: rtl; float: right; clear: both;\">\n",
    "בחזרור הראשון, המשתנה החדש שיצרנו בשם <var>student_name</var> יצביע על הערך הראשון ברשימה, <em>Galia</em>.<br>\n",
    "נשים לב שהמשתנה <var>student_name</var> לא היה קיים לפני הלולאה, והלולאה היא המבנה הקסום שיוצר את המשתנה וגורם לו להצביע לערכים:\n",
    "</p>"
   ]
  },
  {
   "cell_type": "code",
   "execution_count": null,
   "metadata": {},
   "outputs": [],
   "source": [
    "for student_name in names_of_students_in_class:  # <--- אנחנו פה\n",
    "#    print(student_name)"
   ]
  },
  {
   "cell_type": "markdown",
   "metadata": {},
   "source": [
    "<table style=\"font-size: 1.5rem; border: 0px solid black; border-spacing: 0px;\">\n",
    "    <caption style=\"direction: rtl; text-align: center;\">חזרור ראשון, <var>student_name</var> מצביע על \"Galia\"</caption>\n",
    "    <tr>\n",
    "        <td style=\"padding-left: 4px; padding-top: 2px; padding-bottom: 3px; font-size: 1.3rem; color: #777;  text-align: left; border-bottom: 1px solid;\">0</td>\n",
    "        <td style=\"padding-left: 4px; padding-top: 2px; padding-bottom: 3px; font-size: 1.3rem; color: #777;  text-align: left; border-left: 1px solid #555555; border-bottom: 1px solid;\">1</td>\n",
    "        <td style=\"padding-left: 4px; padding-top: 2px; padding-bottom: 3px; font-size: 1.3rem; color: #777;  text-align: left; border-left: 1px solid #555555; border-bottom: 1px solid;\">2</td>\n",
    "        <td style=\"padding-left: 4px; padding-top: 2px; padding-bottom: 3px; font-size: 1.3rem; color: #777;  text-align: left; border-left: 1px solid #555555; border-bottom: 1px solid;\">3</td>\n",
    "        <td style=\"padding-left: 4px; padding-top: 2px; padding-bottom: 3px; font-size: 1.3rem; color: #777;  text-align: left; border-left: 1px solid #555555; border-bottom: 1px solid;\">4</td>\n",
    "        <td style=\"padding-left: 4px; padding-top: 2px; padding-bottom: 3px; font-size: 1.3rem; color: #777;  text-align: left; border-left: 1px solid #555555; border-bottom: 1px solid;\">5</td>\n",
    "        <td style=\"padding-left: 4px; padding-top: 2px; padding-bottom: 3px; font-size: 1.3rem; color: #777;  text-align: left; border-left: 1px solid #555555; border-bottom: 1px solid;\">6</td>\n",
    "        <td style=\"padding-left: 4px; padding-top: 2px; padding-bottom: 3px; font-size: 1.3rem; color: #777;  text-align: left; border-left: 1px solid #555555; border-bottom: 1px solid;\">7</td>\n",
    "    </tr>\n",
    "    <tbody>\n",
    "        <tr>\n",
    "            <td style=\"padding-top: 8px; padding-bottom: 8px; padding-left: 10px; padding-right: 10px; vertical-align: bottom; border: 2px solid; background-color: yellow\">\"Galia\"</td>\n",
    "            <td style=\"padding-top: 8px; padding-bottom: 8px; padding-left: 10px; padding-right: 10px; vertical-align: bottom; border: 2px solid;\">\"Hadas\"</td>\n",
    "            <td style=\"padding-top: 8px; padding-bottom: 8px; padding-left: 10px; padding-right: 10px; vertical-align: bottom; border: 2px solid;\">\"Hen\"</td>\n",
    "            <td style=\"padding-top: 8px; padding-bottom: 8px; padding-left: 10px; padding-right: 10px; vertical-align: bottom; border: 2px solid;\">\"Ilana\"</td>\n",
    "            <td style=\"padding-top: 8px; padding-bottom: 8px; padding-left: 10px; padding-right: 10px; vertical-align: bottom; border: 2px solid;\">\"Ivria\"</td>\n",
    "            <td style=\"padding-top: 8px; padding-bottom: 8px; padding-left: 10px; padding-right: 10px; vertical-align: bottom; border: 2px solid;\">\"Karin\"</td>\n",
    "            <td style=\"padding-top: 8px; padding-bottom: 8px; padding-left: 10px; padding-right: 10px; vertical-align: bottom; border: 2px solid;\">\"Maya\"</td>\n",
    "            <td style=\"padding-top: 8px; padding-bottom: 8px; padding-left: 10px; padding-right: 10px; vertical-align: bottom; border: 2px solid;\">\"Noa\"</td>\n",
    "        </tr>\n",
    "        <tr style=\"background: #f5f5f5;\">\n",
    "            <td style=\"padding-left: 4px; padding-top: 2px; padding-bottom: 3px; font-size: 1.3rem; color: #777; text-align: center;\">student_name <span style=\"font-size: 1.8rem;\">↑</span></td>\n",
    "            <td style=\"padding-left: 4px; padding-top: 2px; padding-bottom: 3px; font-size: 1.3rem; color: #777; text-align: right; border-left: 1px solid #555555;\">-7</td>\n",
    "            <td style=\"padding-left: 4px; padding-top: 2px; padding-bottom: 3px; font-size: 1.3rem; color: #777; text-align: right; border-left: 1px solid #555555;\">-6</td>\n",
    "            <td style=\"padding-left: 4px; padding-top: 2px; padding-bottom: 3px; font-size: 1.3rem; color: #777; text-align: right; border-left: 1px solid #555555;\">-5</td>\n",
    "            <td style=\"padding-left: 4px; padding-top: 2px; padding-bottom: 3px; font-size: 1.3rem; color: #777; text-align: right; border-left: 1px solid #555555;\">-4</td>\n",
    "            <td style=\"padding-left: 4px; padding-top: 2px; padding-bottom: 3px; font-size: 1.3rem; color: #777; text-align: right; border-left: 1px solid #555555;\">-3</td>\n",
    "            <td style=\"padding-left: 4px; padding-top: 2px; padding-bottom: 3px; font-size: 1.3rem; color: #777; text-align: right; border-left: 1px solid #555555;\">-2</td>\n",
    "            <td style=\"padding-left: 4px; padding-top: 2px; padding-bottom: 3px; font-size: 1.3rem; color: #777; text-align: right; border-left: 1px solid #555555;\">-1</td>\n",
    "        </tr>\n",
    "    </tbody>\n",
    "</table>\n",
    "<div>\n",
    "</div>"
   ]
  },
  {
   "cell_type": "markdown",
   "metadata": {},
   "source": [
    "<p style=\"text-align: right; direction: rtl; float: right; clear: both;\">\n",
    "הדבר הבא שיקרה זה שיודפס התוכן שאליו <var>student_name</var> מצביע:</p>"
   ]
  },
  {
   "cell_type": "code",
   "execution_count": null,
   "metadata": {},
   "outputs": [],
   "source": [
    "#for student_name in names_of_students_in_class:\n",
    "    print(student_name)  # <--- אנחנו פה"
   ]
  },
  {
   "cell_type": "markdown",
   "metadata": {},
   "source": [
    "<p style=\"text-align: right; direction: rtl; float: right; clear: both;\">\n",
    "סיימנו את החזרור! מה עכשיו?<br>\n",
    "עולים חזרה לראש הלולאה כדי לבדוק האם נשארו עוד איברים לעבור עליהם:</p>"
   ]
  },
  {
   "cell_type": "code",
   "execution_count": null,
   "metadata": {},
   "outputs": [],
   "source": [
    "for student_name in names_of_students_in_class:  # <--- אנחנו פה\n",
    "#    print(student_name)"
   ]
  },
  {
   "cell_type": "markdown",
   "metadata": {},
   "source": [
    "<p style=\"text-align: right; direction: rtl; float: right; clear: both;\">\n",
    "המשתנה <var>student_name</var> יעבור להצביע על האיבר הבא, \"Hadas\":</p>"
   ]
  },
  {
   "cell_type": "markdown",
   "metadata": {},
   "source": [
    "<table style=\"font-size: 1.5rem; border: 0px solid black; border-spacing: 0px;\">\n",
    "    <caption style=\"direction: rtl; text-align: center;\">חזרור שני, <var>student_name</var> מצביע על \"Hadas\"</caption>\n",
    "    <tr>\n",
    "        <td style=\"padding-left: 4px; padding-top: 2px; padding-bottom: 3px; font-size: 1.3rem; color: #777;  text-align: left; border-bottom: 1px solid;\">0</td>\n",
    "        <td style=\"padding-left: 4px; padding-top: 2px; padding-bottom: 3px; font-size: 1.3rem; color: #777;  text-align: left; border-left: 1px solid #555555; border-bottom: 1px solid;\">1</td>\n",
    "        <td style=\"padding-left: 4px; padding-top: 2px; padding-bottom: 3px; font-size: 1.3rem; color: #777;  text-align: left; border-left: 1px solid #555555; border-bottom: 1px solid;\">2</td>\n",
    "        <td style=\"padding-left: 4px; padding-top: 2px; padding-bottom: 3px; font-size: 1.3rem; color: #777;  text-align: left; border-left: 1px solid #555555; border-bottom: 1px solid;\">3</td>\n",
    "        <td style=\"padding-left: 4px; padding-top: 2px; padding-bottom: 3px; font-size: 1.3rem; color: #777;  text-align: left; border-left: 1px solid #555555; border-bottom: 1px solid;\">4</td>\n",
    "        <td style=\"padding-left: 4px; padding-top: 2px; padding-bottom: 3px; font-size: 1.3rem; color: #777;  text-align: left; border-left: 1px solid #555555; border-bottom: 1px solid;\">5</td>\n",
    "        <td style=\"padding-left: 4px; padding-top: 2px; padding-bottom: 3px; font-size: 1.3rem; color: #777;  text-align: left; border-left: 1px solid #555555; border-bottom: 1px solid;\">6</td>\n",
    "        <td style=\"padding-left: 4px; padding-top: 2px; padding-bottom: 3px; font-size: 1.3rem; color: #777;  text-align: left; border-left: 1px solid #555555; border-bottom: 1px solid;\">7</td>\n",
    "    </tr>\n",
    "    <tbody>\n",
    "        <tr>\n",
    "            <td style=\"padding-top: 8px; padding-bottom: 8px; padding-left: 10px; padding-right: 10px; vertical-align: bottom; border: 2px solid;\">\"Galia\"</td>\n",
    "            <td style=\"padding-top: 8px; padding-bottom: 8px; padding-left: 10px; padding-right: 10px; vertical-align: bottom; border: 2px solid; background-color: yellow\">\"Hadas\"</td>\n",
    "            <td style=\"padding-top: 8px; padding-bottom: 8px; padding-left: 10px; padding-right: 10px; vertical-align: bottom; border: 2px solid;\">\"Hen\"</td>\n",
    "            <td style=\"padding-top: 8px; padding-bottom: 8px; padding-left: 10px; padding-right: 10px; vertical-align: bottom; border: 2px solid;\">\"Ilana\"</td>\n",
    "            <td style=\"padding-top: 8px; padding-bottom: 8px; padding-left: 10px; padding-right: 10px; vertical-align: bottom; border: 2px solid;\">\"Ivria\"</td>\n",
    "            <td style=\"padding-top: 8px; padding-bottom: 8px; padding-left: 10px; padding-right: 10px; vertical-align: bottom; border: 2px solid;\">\"Karin\"</td>\n",
    "            <td style=\"padding-top: 8px; padding-bottom: 8px; padding-left: 10px; padding-right: 10px; vertical-align: bottom; border: 2px solid;\">\"Maya\"</td>\n",
    "            <td style=\"padding-top: 8px; padding-bottom: 8px; padding-left: 10px; padding-right: 10px; vertical-align: bottom; border: 2px solid;\">\"Noa\"</td>\n",
    "        </tr>\n",
    "        <tr style=\"background: #f5f5f5;\">\n",
    "            <td style=\"padding-left: 4px; padding-top: 2px; padding-bottom: 3px; font-size: 1.3rem; color: #777; text-align: right;\">-8</td>\n",
    "            <td style=\"padding-left: 4px; padding-top: 2px; padding-bottom: 3px; font-size: 1.3rem; color: #777; text-align: right; border-left: 1px solid #555555;\">student_name <span style=\"font-size: 1.8rem;\">↑</span></td>\n",
    "            <td style=\"padding-left: 4px; padding-top: 2px; padding-bottom: 3px; font-size: 1.3rem; color: #777; text-align: right; border-left: 1px solid #555555;\">-6</td>\n",
    "            <td style=\"padding-left: 4px; padding-top: 2px; padding-bottom: 3px; font-size: 1.3rem; color: #777; text-align: right; border-left: 1px solid #555555;\">-5</td>\n",
    "            <td style=\"padding-left: 4px; padding-top: 2px; padding-bottom: 3px; font-size: 1.3rem; color: #777; text-align: right; border-left: 1px solid #555555;\">-4</td>\n",
    "            <td style=\"padding-left: 4px; padding-top: 2px; padding-bottom: 3px; font-size: 1.3rem; color: #777; text-align: right; border-left: 1px solid #555555;\">-3</td>\n",
    "            <td style=\"padding-left: 4px; padding-top: 2px; padding-bottom: 3px; font-size: 1.3rem; color: #777; text-align: right; border-left: 1px solid #555555;\">-2</td>\n",
    "            <td style=\"padding-left: 4px; padding-top: 2px; padding-bottom: 3px; font-size: 1.3rem; color: #777; text-align: right; border-left: 1px solid #555555;\">-1</td>\n",
    "        </tr>\n",
    "    </tbody>\n",
    "</table>\n",
    "<div>\n",
    "</div>"
   ]
  },
  {
   "cell_type": "markdown",
   "metadata": {},
   "source": [
    "<p style=\"text-align: right; direction: rtl; float: right; clear: both;\">\n",
    "ושוב, נדפיס את המחרוזת ש־student_name מצביע אליה:\n",
    "</p>"
   ]
  },
  {
   "cell_type": "code",
   "execution_count": null,
   "metadata": {},
   "outputs": [],
   "source": [
    "#for student_name in names_of_students_in_class:\n",
    "    print(student_name)  # <---- עכשיו אנחנו פה"
   ]
  },
  {
   "cell_type": "markdown",
   "metadata": {},
   "source": [
    "<p style=\"text-align: right; direction: rtl; float: right; clear: both;\">\n",
    "כך נמשיך לבצע את הלולאה, עד שנגיע לאיבר האחרון ברשימה, התלמידה \"Noa\":\n",
    "</p>"
   ]
  },
  {
   "cell_type": "code",
   "execution_count": null,
   "metadata": {},
   "outputs": [],
   "source": [
    "for student_name in names_of_students_in_class: # אנחנו פה, אחרי שעברנו על שמות כללל התלמידות פרט לנועה\n",
    "#    print(student_name)"
   ]
  },
  {
   "cell_type": "markdown",
   "metadata": {},
   "source": [
    "<table style=\"font-size: 1.5rem; border: 0px solid black; border-spacing: 0px;\">\n",
    "    <caption style=\"direction: rtl; text-align: center;\">חזרור אחרון, <var>student_name</var> מצביע על \"Noa\"</caption>\n",
    "    <tr>\n",
    "        <td style=\"padding-left: 4px; padding-top: 2px; padding-bottom: 3px; font-size: 1.3rem; color: #777;  text-align: left; border-bottom: 1px solid;\">0</td>\n",
    "        <td style=\"padding-left: 4px; padding-top: 2px; padding-bottom: 3px; font-size: 1.3rem; color: #777;  text-align: left; border-left: 1px solid #555555; border-bottom: 1px solid;\">1</td>\n",
    "        <td style=\"padding-left: 4px; padding-top: 2px; padding-bottom: 3px; font-size: 1.3rem; color: #777;  text-align: left; border-left: 1px solid #555555; border-bottom: 1px solid;\">2</td>\n",
    "        <td style=\"padding-left: 4px; padding-top: 2px; padding-bottom: 3px; font-size: 1.3rem; color: #777;  text-align: left; border-left: 1px solid #555555; border-bottom: 1px solid;\">3</td>\n",
    "        <td style=\"padding-left: 4px; padding-top: 2px; padding-bottom: 3px; font-size: 1.3rem; color: #777;  text-align: left; border-left: 1px solid #555555; border-bottom: 1px solid;\">4</td>\n",
    "        <td style=\"padding-left: 4px; padding-top: 2px; padding-bottom: 3px; font-size: 1.3rem; color: #777;  text-align: left; border-left: 1px solid #555555; border-bottom: 1px solid;\">5</td>\n",
    "        <td style=\"padding-left: 4px; padding-top: 2px; padding-bottom: 3px; font-size: 1.3rem; color: #777;  text-align: left; border-left: 1px solid #555555; border-bottom: 1px solid;\">6</td>\n",
    "        <td style=\"padding-left: 4px; padding-top: 2px; padding-bottom: 3px; font-size: 1.3rem; color: #777;  text-align: left; border-left: 1px solid #555555; border-bottom: 1px solid;\">7</td>\n",
    "    </tr>\n",
    "    <tbody>\n",
    "        <tr>\n",
    "            <td style=\"padding-top: 8px; padding-bottom: 8px; padding-left: 10px; padding-right: 10px; vertical-align: bottom; border: 2px solid;\">\"Galia\"</td>\n",
    "            <td style=\"padding-top: 8px; padding-bottom: 8px; padding-left: 10px; padding-right: 10px; vertical-align: bottom; border: 2px solid;\">\"Hadas\"</td>\n",
    "            <td style=\"padding-top: 8px; padding-bottom: 8px; padding-left: 10px; padding-right: 10px; vertical-align: bottom; border: 2px solid;\">\"Hen\"</td>\n",
    "            <td style=\"padding-top: 8px; padding-bottom: 8px; padding-left: 10px; padding-right: 10px; vertical-align: bottom; border: 2px solid;\">\"Ilana\"</td>\n",
    "            <td style=\"padding-top: 8px; padding-bottom: 8px; padding-left: 10px; padding-right: 10px; vertical-align: bottom; border: 2px solid;\">\"Ivria\"</td>\n",
    "            <td style=\"padding-top: 8px; padding-bottom: 8px; padding-left: 10px; padding-right: 10px; vertical-align: bottom; border: 2px solid;\">\"Karin\"</td>\n",
    "            <td style=\"padding-top: 8px; padding-bottom: 8px; padding-left: 10px; padding-right: 10px; vertical-align: bottom; border: 2px solid;\">\"Maya\"</td>\n",
    "            <td style=\"padding-top: 8px; padding-bottom: 8px; padding-left: 10px; padding-right: 10px; vertical-align: bottom; border: 2px solid; background-color: yellow;\">\"Noa\"</td>\n",
    "        </tr>\n",
    "        <tr style=\"background: #f5f5f5;\">\n",
    "            <td style=\"padding-left: 4px; padding-top: 2px; padding-bottom: 3px; font-size: 1.3rem; color: #777; text-align: right;\">-8</td>\n",
    "            <td style=\"padding-left: 4px; padding-top: 2px; padding-bottom: 3px; font-size: 1.3rem; color: #777; text-align: right; border-left: 1px solid #555555;\">-7</td>\n",
    "            <td style=\"padding-left: 4px; padding-top: 2px; padding-bottom: 3px; font-size: 1.3rem; color: #777; text-align: right; border-left: 1px solid #555555;\">-6</td>\n",
    "            <td style=\"padding-left: 4px; padding-top: 2px; padding-bottom: 3px; font-size: 1.3rem; color: #777; text-align: right; border-left: 1px solid #555555;\">-5</td>\n",
    "            <td style=\"padding-left: 4px; padding-top: 2px; padding-bottom: 3px; font-size: 1.3rem; color: #777; text-align: right; border-left: 1px solid #555555;\">-4</td>\n",
    "            <td style=\"padding-left: 4px; padding-top: 2px; padding-bottom: 3px; font-size: 1.3rem; color: #777; text-align: right; border-left: 1px solid #555555;\">-3</td>\n",
    "            <td style=\"padding-left: 4px; padding-top: 2px; padding-bottom: 3px; font-size: 1.3rem; color: #777; text-align: right; border-left: 1px solid #555555;\">-2</td>\n",
    "            <td style=\"padding-left: 4px; padding-top: 2px; padding-bottom: 3px; font-size: 1.3rem; color: #777; text-align: right; border-left: 1px solid #555555;\">student_name <span style=\"font-size: 1.8rem;\">↑</span></td>\n",
    "        </tr>\n",
    "    </tbody>\n",
    "</table>\n",
    "<div>\n",
    "</div>"
   ]
  },
  {
   "cell_type": "markdown",
   "metadata": {},
   "source": [
    "<p style=\"text-align: right; direction: rtl; float: right; clear: both;\">\n",
    "נדפיס פעם אחרונה את המחרוזת עליה אנחנו מצביעים:\n",
    "</p>"
   ]
  },
  {
   "cell_type": "code",
   "execution_count": null,
   "metadata": {},
   "outputs": [],
   "source": [
    "#for student_name in names_of_students_in_class:\n",
    "    print(student_name)  # <---- עכשיו אנחנו פה"
   ]
  },
  {
   "cell_type": "markdown",
   "metadata": {},
   "source": [
    "<p style=\"text-align: right; direction: rtl; float: right; clear: both;\">\n",
    "כשנחזור לראש הלולאה, נראה שעברנו על כל האיברים.<br>\n",
    "הלולאה תפסק, והקוד שנמצא אחרי הלולאה ירוץ.\n",
    "</p>"
   ]
  },
  {
   "cell_type": "markdown",
   "metadata": {},
   "source": [
    "<table style=\"text-align: right; direction: rtl; clear: both; font-size: 1.3rem\">\n",
    "    <caption style=\"text-align: center; direction: rtl; clear: both; font-size: 2rem; padding-bottom: 2rem;\">החלקים בלולאת for</caption>\n",
    "    <thead>\n",
    "        <tr>\n",
    "            <th>מטרה</th>\n",
    "            <th>איפה בקוד</th>\n",
    "            <th>דוגמה</th>\n",
    "        </tr>\n",
    "    </thead>\n",
    "    <tbody>\n",
    "        <tr>\n",
    "            <td>המבנה שאנחנו רוצים לעבור על כלל איבריו – חייב להיות iterable</td>\n",
    "            <td>אחרי המילה <em>in</em></td>\n",
    "            <td><var>names_of_students_in_class</var></td>\n",
    "        </tr>\n",
    "        <tr>\n",
    "            <td>שם שנמציא עבור המשתנה שבכל חזרור יכיל את הנתון שעליו נבצע את הפעולה</td>\n",
    "            <td>אחרי המילה <em>for</em>, לפני המילה <em>in</em></td>\n",
    "            <td><var>student_name</var></td>\n",
    "        </tr>\n",
    "        <tr>\n",
    "            <td>תוכן הלולאה – סדר הפעולות שנרצה לבצע עם כל נתון</td>\n",
    "            <td>אחרי הנקודותיים, בשורה חדשה (אחת או יותר), בהזחה</td>\n",
    "            <td><code>print(student_name)</code></td>\n",
    "        </tr>\n",
    "    </tbody>\n",
    "</table>"
   ]
  },
  {
   "cell_type": "markdown",
   "metadata": {},
   "source": [
    "<div class=\"align-center\" style=\"display: flex; text-align: right; direction: rtl; clear: both;\">\n",
    "    <div style=\"display: flex; width: 10%; float: right; clear: both;\">\n",
    "        <img src=\"images/exercise.svg\" style=\"height: 50px !important;\" alt=\"תרגול\"> \n",
    "    </div>\n",
    "    <div style=\"width: 70%\">\n",
    "        <p style=\"text-align: right; direction: rtl; float: right; clear: both;\">\n",
    "            שנו את הקוד שכתבתם למציאת האדם הגבוה ביותר בכתה כך שישתמש ב־<code>for</code> ולא ב־<code>while</code>.<br>\n",
    "            טיפ: השתמשו בפסאודו קוד שניתן לכם למעלה, והשוו בין ה־<code>for</code> לבין ה־<code>while</code> בדוגמה של הדפסת שמות התלמידים.<br>\n",
    "        </p>\n",
    "    </div>\n",
    "    <div style=\"display: flex; width: 20%; border-right: 0.1rem solid #A5A5A5; padding: 1rem 2rem;\">\n",
    "        <p style=\"text-align: center; direction: rtl; justify-content: center; align-items: center; clear: both;\">\n",
    "            <strong>חשוב!</strong><br>\n",
    "            פתרו לפני שתמשיכו!\n",
    "        </p>\n",
    "    </div>\n",
    "</div>"
   ]
  },
  {
   "cell_type": "markdown",
   "metadata": {},
   "source": [
    "### <span style=\"text-align: right; direction: rtl; float: right;\">דוגמאות מילוליות נוספות</span>"
   ]
  },
  {
   "cell_type": "markdown",
   "metadata": {},
   "source": [
    "<ul style=\"text-align: right; direction: rtl; float: right; clear: both;\">\n",
    "    <li>עבור כל עמוד בספר – קרא את העמוד.</li>\n",
    "    <li>עבור כל צלחת – הכנס אותה מתחת למים חמים, שפשף אותה היטב עם סקוטץ' ספוג בסבון, נגב אותה עם מגבת יבשה ושים אותה במתקן לייבוש כלים.</li>\n",
    "    <li>חשב את הגובה הממוצע של תלמיד, מתוך רשימה של 1000 תלמידים.</li>\n",
    "    <li>בליל כל הקדושים, התחפש, צא החוצה, ועבור כל בית ברחוב: לך לבית, צלצל בפעמון, אמור \"ממתק או תעלול\", קח ממתק ואמור תודה.</li>\n",
    "</ul>"
   ]
  },
  {
   "cell_type": "markdown",
   "metadata": {},
   "source": [
    "### <span style=\"text-align: right; direction: rtl; float: right;\">מתי להשתמש?</span>"
   ]
  },
  {
   "cell_type": "markdown",
   "metadata": {},
   "source": [
    "<p style=\"text-align: right; direction: rtl; float: right; clear: both;\">\n",
    "לולאת <code>for</code> יוצרת מבנה אלגנטי וקריא, ומתכנתים רבים מעדיפים אותה על־פני לולאת <code>while</code>.<br>\n",
    "ננסה לעמוד על ההבדלים בין הלולאות:<br>\n",
    "</p>"
   ]
  },
  {
   "cell_type": "markdown",
   "metadata": {},
   "source": [
    "<table style=\"text-align: right; direction: rtl; clear: both; font-size: 1.3rem\">\n",
    "    <caption style=\"text-align: center; direction: rtl; clear: both; font-size: 2rem; padding-bottom: 2rem;\">הבדלים בין while ל־for</caption>\n",
    "    <thead>\n",
    "        <tr>\n",
    "            <th>נתון להשוואה</th>\n",
    "            <th>לולאת <code>for</code></th>\n",
    "            <th>לולאת <code>while</code></th>\n",
    "        </tr>\n",
    "    </thead>\n",
    "    <tbody>\n",
    "        <tr>\n",
    "            <td>מה \"מניע\" את הלולאה?</td>\n",
    "            <td>iterable שהלולאה תעבור על כל האיברים שלו</td>\n",
    "            <td>ביטוי שערכו הבוליאני שקול ל־<code>True</code> או ל־<code>False</code></td>\n",
    "        </tr>\n",
    "        <tr>\n",
    "            <td>מתי הלולאה מפסיקה</td>\n",
    "            <td>כשהלולאה עברה על כל האברים של ה־iterable</td>\n",
    "            <td>כשמגיעים לתנאי של הפונקציה וערכו שקול ל־<code>False</code></td>\n",
    "        </tr>\n",
    "        <tr>\n",
    "            <td>שימושים עיקריים</td>\n",
    "            <td>ביצוע פעולה עבור כל ערך בסדרת ערכים,\n",
    "                כמו איברי רשימה או תווים במחרוזת</td>\n",
    "            <td>חזרה על פעולה כל עוד מצאנו שהמשימה לא הושלמה</td>\n",
    "        </tr>\n",
    "    </tbody>\n",
    "</table>"
   ]
  },
  {
   "cell_type": "markdown",
   "metadata": {},
   "source": [
    "<p style=\"text-align: right; direction: rtl; float: right; clear: both;\">\n",
    "בשלב הנוכחי בקורס, תמיד נוכל להשתמש בלולאת <code>while</code> במקום בלולאת <code>for</code>, אך לא תמיד נוכל להחליף לולאות <code>for</code> בלולאות <code>while</code>.<br>\n",
    "באופן כללי, לולאות <code>while</code> יכולות להוכיח את עצמן כשימושיות מאוד מפעם לפעם.<br>\n",
    "חישבו, לדוגמה, על מצב שבו אתם צריכים לקבל מהמשתמש קלט חדש כל עוד הקלט שלו לא תקין.\n",
    "</p>"
   ]
  },
  {
   "cell_type": "markdown",
   "metadata": {},
   "source": [
    "<div class=\"align-center\" style=\"display: flex; text-align: right; direction: rtl; clear: both;\">\n",
    "    <div style=\"display: flex; width: 10%; float: right; clear: both;\">\n",
    "        <img src=\"images/exercise.svg\" style=\"height: 50px !important;\" alt=\"תרגול\"> \n",
    "    </div>\n",
    "    <div style=\"width: 70%\">\n",
    "        <p style=\"text-align: right; direction: rtl; float: right; clear: both;\">\n",
    "            כתבו 3 דוגמאות מילוליות נוספות נוספות ללולאות <code>for</code>.\n",
    "        </p>\n",
    "    </div>\n",
    "    <div style=\"display: flex; width: 20%; border-right: 0.1rem solid #A5A5A5; padding: 1rem 2rem;\">\n",
    "        <p style=\"text-align: center; direction: rtl; justify-content: center; align-items: center; clear: both;\">\n",
    "            <strong>חשוב!</strong><br>\n",
    "            פתרו לפני שתמשיכו!\n",
    "        </p>\n",
    "    </div>\n",
    "</div>"
   ]
  },
  {
   "cell_type": "markdown",
   "metadata": {},
   "source": [
    "### <span style=\"text-align: right; direction: rtl; float: right;\">שינויים בתוך הלולאה</span>"
   ]
  },
  {
   "cell_type": "markdown",
   "metadata": {},
   "source": [
    "<p style=\"text-align: right; direction: rtl; float: right; clear: both;\">\n",
    "פעמים רבות, נעדיף להמנע מלשנות רשימה בזמן לולאת <code>for</code>.<br>\n",
    "שינויים שכאלו עלולים לגרום להתנהגות לא צפויה, ללולאות אינסופיות ולקוד קשה במיוחד לקריאה.\n",
    "</p>"
   ]
  },
  {
   "cell_type": "markdown",
   "metadata": {},
   "source": [
    "#### <span style=\"text-align: right; direction: rtl; float: right;\">שינוי של מספר האיברים בזמן לולאה</span>"
   ]
  },
  {
   "cell_type": "markdown",
   "metadata": {},
   "source": [
    "<p style=\"text-align: right; direction: rtl; float: right; clear: both;\">\n",
    "    נסתכל על קטע הקוד הזה, שעבור כל איבר ברשימה, מוציא איבר מסוף הרשימה:\n",
    "</p>"
   ]
  },
  {
   "cell_type": "code",
   "execution_count": null,
   "metadata": {},
   "outputs": [],
   "source": [
    "numbers = ['a', 'b', 'c', 'd', 'e']\n",
    "print(f\"The reader expects {len(numbers)} iterations.\")\n",
    "for i in numbers:\n",
    "    j = numbers.pop()\n",
    "    print(i, j)"
   ]
  },
  {
   "cell_type": "markdown",
   "metadata": {},
   "source": [
    "<p style=\"text-align: right; direction: rtl; float: right; clear: both;\">\n",
    "    הלולאה נגמרה מוקדם מהרגיל, מכיוון שכשניסתה להגיע לתא שערכו <code>'d'</code> הוא כבר לא היה שם.<br>\n",
    "    קוד שכזה אינו צפוי, קשה לקריאה ויוצר תקלים. מאוד לא מומלץ לשנות את כמות האיברים ב־iterable בזמן הריצה.\n",
    "</p>"
   ]
  },
  {
   "cell_type": "markdown",
   "metadata": {},
   "source": [
    "<p style=\"text-align: right; direction: rtl; float: right; clear: both;\">\n",
    "    פתרון אפשרי הוא ליצור עותק של הרשימה באמצעות הפעולה <code dir=\"ltr\" style=\"direction: ltr;\">list.copy()</code> ולהשתמש בו במקום:\n",
    "</p>"
   ]
  },
  {
   "cell_type": "code",
   "execution_count": null,
   "metadata": {},
   "outputs": [],
   "source": [
    "numbers = ['a', 'b', 'c', 'd', 'e']\n",
    "numbers_to_pop = numbers.copy()\n",
    "print(f\"The reader expects {len(numbers)} iterations.\")\n",
    "for i in numbers:\n",
    "    j = numbers_to_pop.pop()\n",
    "    print(i, j)"
   ]
  },
  {
   "cell_type": "markdown",
   "metadata": {},
   "source": [
    "#### <span style=\"text-align: right; direction: rtl; float: right;\">עריכת הערכים שבתוך ה־iterable</span>"
   ]
  },
  {
   "cell_type": "markdown",
   "metadata": {},
   "source": [
    "<p style=\"text-align: right; direction: rtl; float: right; clear: both;\">\n",
    "    ננסה להכפיל כל תא ברשימה שלנו פי 2:\n",
    "</p>"
   ]
  },
  {
   "cell_type": "code",
   "execution_count": 77,
   "metadata": {},
   "outputs": [
    {
     "name": "stdout",
     "output_type": "stream",
     "text": [
      "This code will multiply every item in [1, 3, 5] by 2.\n",
      "The user expects:\n",
      "[2, 6, 10]\n",
      "The final result:\n",
      "[1, 3, 5]\n"
     ]
    }
   ],
   "source": [
    "numbers = [1, 3, 5]\n",
    "print(f'This code will multiply every item in {numbers} by 2.')\n",
    "print(f'The user expects:')\n",
    "print(f'[{numbers[0] * 2}, {numbers[1] * 2}, {numbers[2] * 2}]')\n",
    "\n",
    "for num in numbers:\n",
    "    num = num * 2\n",
    "\n",
    "print(\"The final result:\")\n",
    "print(numbers)"
   ]
  },
  {
   "cell_type": "markdown",
   "metadata": {},
   "source": [
    "<p style=\"text-align: right; direction: rtl; float: right; clear: both;\">\n",
    "    כדי להבין למה זה קרה, ננסה להזכר בשיעור על mutability.<br>\n",
    "    במהלך כל חזרור, המשתנה <var>num</var> מקבל ערך כלשהו <strong>להצביע</strong> עליו.<br>\n",
    "    לדוגמה, בחזרור הראשון <var>num</var> <strong>מצביע</strong> על <code>numbers[0]</code>, המקום הראשון ברשימה:\n",
    "</p>"
   ]
  },
  {
   "cell_type": "markdown",
   "metadata": {},
   "source": [
    "<img src=\"images/mutability1.svg\" style=\"max-width:100%; margin-right: auto; margin-left: auto; text-align: center;\" alt=\"משתנה בשם numbers מצביע על רשימת מספרים שבה יש את האיברים 1, 3 ו־5. מתחתיו יש עוד משתנה שמצביע לאיבר הראשון בתוך הרשימה, 1.\"/>"
   ]
  },
  {
   "cell_type": "markdown",
   "metadata": {},
   "source": [
    "<p style=\"text-align: right; direction: rtl; float: right; clear: both;\">\n",
    "    בעצם הפעולה <code>num * 2</code> אנחנו יוצרים ערך חדש שמאוחסן בכתובת שונה.<br>\n",
    "</p>"
   ]
  },
  {
   "cell_type": "markdown",
   "metadata": {},
   "source": [
    "<img src=\"images/mutability2.svg\" style=\"max-width:100%; margin-right: auto; margin-left: auto; text-align: center;\" alt=\"משתנה בשם numbers מצביע על רשימת מספרים שבה יש את האיברים 1, 3 ו־5. מתחתיו יש עוד משתנה שמצביע לאיבר הראשון בתוך הרשימה, 1. נוסף ערך חדש על המסך, 2, שעליו לא מצביע אף משתנה. לידו כתוב: 'התוצאה של num * 2:'\"/>"
   ]
  },
  {
   "cell_type": "markdown",
   "metadata": {},
   "source": [
    "<p style=\"text-align: right; direction: rtl; float: right; clear: both;\">\n",
    "    הפעולה <code>num = num * 2</code> לא באמת \"תשנה ערך בתוך <var>num</var>\", אלא תגרום לו להצביע על ערך אחר.\n",
    "</p>"
   ]
  },
  {
   "cell_type": "markdown",
   "metadata": {},
   "source": [
    "<img src=\"images/mutability3.svg\" style=\"max-width:100%; margin-right: auto; margin-left: auto; text-align: center;\" alt=\"משתנה בשם numbers מצביע על רשימת מספרים שבה יש את האיברים 1, 3 ו־5. מתחתיו יש עוד משתנה שמצביע לאיבר הראשון בתוך הרשימה, 1. הפעם num מצביע על הערך 2 שנוסף למסך בתמונה הקודמת. הוא כבר לא מצביע על 1.\"/>"
   ]
  },
  {
   "cell_type": "markdown",
   "metadata": {},
   "source": [
    "<p style=\"text-align: right; direction: rtl; float: right; clear: both;\">\n",
    "    נסכם כך: <mark>המשתנה <var>num</var> בהתחלה הצביע על מספר שנמצא בתוך הרשימה, ועכשיו הוא מצביע על מספר אחר.</mark><br>\n",
    "    ההשמה, כרגיל, שינתה את המקום שעליו המשתנה מצביע, ולא את הערך שהמשתנה מצביע עליו.<br>\n",
    "    בקוד שמתואר למעלה, לא שינינו את האיבר בתוך הרשימה.\n",
    "</p>"
   ]
  },
  {
   "cell_type": "markdown",
   "metadata": {},
   "source": [
    "### <span style=\"text-align: right; direction: rtl; float: right;\">דוגמאות נוספות</span>"
   ]
  },
  {
   "cell_type": "markdown",
   "metadata": {},
   "source": [
    "#### <span style=\"text-align: right; direction: rtl; float: right;\">סכום רשימה</span>"
   ]
  },
  {
   "cell_type": "code",
   "execution_count": null,
   "metadata": {},
   "outputs": [],
   "source": [
    "def total(numbers):\n",
    "    total = 0\n",
    "    for number in numbers:\n",
    "        total = total + number\n",
    "    return total\n",
    "    \n",
    "\n",
    "print(total([1, 2, 3]))"
   ]
  },
  {
   "cell_type": "markdown",
   "metadata": {},
   "source": [
    "#### <span style=\"text-align: right; direction: rtl; float: right;\">ראשי תיבות</span>"
   ]
  },
  {
   "cell_type": "code",
   "execution_count": null,
   "metadata": {},
   "outputs": [],
   "source": [
    "def acronym(sentence):\n",
    "    acronym_word = ''\n",
    "    for word in sentence.split():\n",
    "        if len(word) >= 1:\n",
    "            acronym_word = acronym_word + word[0]\n",
    "    return acronym_word\n",
    "\n",
    "print(acronym('North Atlantic Treaty Organization'))"
   ]
  },
  {
   "cell_type": "markdown",
   "metadata": {},
   "source": [
    "#### <span style=\"text-align: right; direction: rtl; float: right;\">סכום איברים חיוביים</span>"
   ]
  },
  {
   "cell_type": "markdown",
   "metadata": {},
   "source": [
    "<p style=\"text-align: right; direction: rtl; float: right; clear: both;\">\n",
    "    קלוט מהמשתמש מספרים. אם צריך, המר את הקלט כך שיהיה מסוג רשימה, ובה יהיו מספרים שלמים. סכום את האיברים הגדולים מ־0.\n",
    "</p>"
   ]
  },
  {
   "cell_type": "code",
   "execution_count": null,
   "metadata": {},
   "outputs": [],
   "source": [
    "def to_numbers(strings):\n",
    "    numbers = []\n",
    "    for semi_number in strings:\n",
    "        if semi_number.isdecimal():\n",
    "            numbers.append(int(semi_number))\n",
    "    return numbers\n",
    "\n",
    "\n",
    "def sum_positives(numbers):\n",
    "    total = 0\n",
    "    for number in numbers:\n",
    "        if number > 0:\n",
    "            total = total + number\n",
    "    return total\n",
    "\n",
    "user_numbers = input(\"Enter numbers seperated by comma: \")\n",
    "stringy_numbers = user_numbers.replace(' ', '').split(',')\n",
    "numbers = to_numbers(stringy_numbers)\n",
    "print(sum_positives(numbers))"
   ]
  },
  {
   "cell_type": "markdown",
   "metadata": {},
   "source": [
    "#### <span style=\"text-align: right; direction: rtl; float: right;\">7 בום</span>"
   ]
  },
  {
   "cell_type": "markdown",
   "metadata": {},
   "source": [
    "<p style=\"text-align: right; direction: rtl; float: right; clear: both;\">\n",
    "    סכום את האיברים שמופיעים בכל מקום שביעי ברשימה.\n",
    "</p>"
   ]
  },
  {
   "cell_type": "code",
   "execution_count": null,
   "metadata": {},
   "outputs": [],
   "source": [
    "def sum_only_7th_places(numbers):\n",
    "    total = 0\n",
    "    for i in numbers[6::7]:\n",
    "        total = total + i\n",
    "    return total\n",
    "\n",
    "\n",
    "print(sum_only_7th_places([0, 1, 2, 3, 4, 5, 6, 7, 8, 9, 10, 11, 12, 13, 14, 15, 16, 17, 18, 19, 20]))"
   ]
  },
  {
   "cell_type": "markdown",
   "metadata": {},
   "source": [
    "## <span style=\"align: right; direction: rtl; float: right; clear: both;\">תרגולים</span>"
   ]
  },
  {
   "cell_type": "markdown",
   "metadata": {},
   "source": [
    "### <span style=\"align: right; direction: ltr; float: right; clear: both;\">אקרוסטיכון</span>"
   ]
  },
  {
   "cell_type": "markdown",
   "metadata": {},
   "source": [
    "<p style=\"text-align: right; direction: rtl; float: right; clear: both;\">\n",
    "<dfn>אקרוסטיכון</dfn> הוא אמצעי בו משתמשים בכתיבה ספרותית.<br>\n",
    "בשיר בו יש אקרוסטיכון, אם נסתכל על האות הראשונה בכל שורה, נקבל מסר מסויים.<br>\n",
    "ניקח לדוגמה את שירו של אדגר אלן פו, \"אקרוסטיכון\", אותו הוא הקדיש ללטישיה אליזבת' לאנדון ובו יש את האקרוסטיכון <strong>ELIZABETH</strong>:\n",
    "</p>"
   ]
  },
  {
   "cell_type": "markdown",
   "metadata": {},
   "source": [
    "<blockquote style=\"border-right: none !important; position: relative; padding-left: 0.5em; padding: 1.5em; line-height: 1.5em;  min-height: 2em; border-left: 3px solid #a93226; background-color: #fbe7e6; font-size: 1.4rem; direction: ltr; text-align: left; clear: both;\">\n",
    "    <strong>E</strong>lizabeth it is in vain you say<br>\n",
    "    <strong>L</strong>ove not — thou sayest it in so sweet a way:<br>\n",
    "    <strong>I</strong>n vain those words from thee or L.E.L.<br>\n",
    "    <strong>Z</strong>antippe's talents had enforced so well:<br>\n",
    "    <strong>A</strong>h! if that language from thy heart arise,<br>\n",
    "    <strong>B</strong>reath it less gently forth — and veil thine eyes.<br>\n",
    "    <strong>E</strong>ndymion, recollect, when Luna tried<br>\n",
    "    <strong>T</strong>o cure his love — was cured of all beside —<br>\n",
    "    <strong>H</strong>is follie — pride — and passion — for he died.<br>\n",
    "</blockquote>"
   ]
  },
  {
   "cell_type": "markdown",
   "metadata": {},
   "source": [
    "<p style=\"text-align: right; direction: rtl; float: right; clear: both;\">\n",
    "כתבו פונקציה שמקבלת שיר כמחרוזת.<br>\n",
    "החזירו את האקרוסטיכון שנוצר אם נקח את האות הראשונה מכל שורה בשיר.<br>\n",
    "<em>טיפ</em>: הפרידו את השורות לפי התו <code dir=\"ltr\" style=\"direction: ltr;\">\\n</code> שמייצג ירידת שורה.\n",
    "</p>"
   ]
  },
  {
   "cell_type": "markdown",
   "metadata": {},
   "source": [
    "### <span style=\"align: right; direction: ltr; float: right; clear: both;\">שעורה תרבותית</span>"
   ]
  },
  {
   "cell_type": "markdown",
   "metadata": {},
   "source": [
    "<p style=\"text-align: right; direction: rtl; clear: both;\">\n",
    "    בשדה השעורה בו סיגנט הולכת יש זהב.<br>\n",
    "    בידה יש מפה, לפיה היא נמצאת כרגע בנקודה (0, 0).<br>\n",
    "    המפה מתארת אילו צעדים היא צריכה לקחת כדי להגיע למטמון.<br>\n",
    "    עזרו לסיגנט לחשב: בהנתן שהיא תלך את כל הצעדים שמופיעים במפה – באיזו נקודה ימצא המטמון?\n",
    "</p>\n",
    "<p style=\"text-align: right; direction: rtl; clear: both;\">\n",
    "    לדוגמה: עבור הצעדים <code dir=\"ltr\" style=\"direction: ltr;\">[(1, 5), (6, -2), (4, 3)]</code> יוחזר שהמטמון נמצא בנקודה<code dir=\"ltr\" style=\"direction: ltr;\">(11, 6)</code>.\n",
    "</p>\n",
    "<p style=\"text-align: right; direction: rtl; clear: both;\">\n",
    "    <strong>הסבר מורחב</strong>: קבלו רשימה של צעדים המורים לסיגנט כיצד ללכת.<br>\n",
    "     כל \"צעד\" מורכב מזוג מספרים שלמים, שיכולים להיות שליליים – הראשון מסמל כמה צעדים ללכת ימינה, והשני מסמל כמה צעדים ללכת למעלה.<br>\n",
    "    אם המספר הראשון שלילי, יש ללכת את כמות הצעדים הזו שמאלה. אם המספר השני שלילי, יש ללכת את כמות הצעדים הזו למטה.<br>\n",
    "    כתבו פונקציה שמקבלת רשימה של צעדים ומחזירה איפה נמצא המטמון.\n",
    "</p>"
   ]
  },
  {
   "cell_type": "markdown",
   "metadata": {},
   "source": [
    "### <span style=\"align: right; direction: ltr; float: right; clear: both;\">גבעת ווטרשיפ</span>"
   ]
  },
  {
   "cell_type": "markdown",
   "metadata": {},
   "source": [
    "<p style=\"text-align: right; direction: rtl; clear: both;\">\n",
    "    בגבעת ווטרשיפ קצב ההתרבות גבוה. כל שנה נוספים עוד ועוד ארנבים לארנבייה.<br>\n",
    "    חומש הארנב החליט לנהל מעקב דמוגרפי אחרי הגידול.<br>\n",
    "    הוא מעוניין שתבנו לו פונקציה שמקבלת כפרמטר רשימה של כמות הארנבים שנולדו בכל שנה.<br>\n",
    "    הפונקציה תחזיר רשימה שבה כל תא מייצג את הכמות הנצברת של הארנבים בארנבייה עד כה.<br>\n",
    "    לדוגמה: עבור הרשימה <code dir=\"ltr\" style=\"direction: ltr;\">[1, 2, 3, 4]</code>, הפונקציה תחזיר <code dir=\"ltr\" style=\"direction: ltr;\">[1, 3, 6, 10]</code>.\n",
    "</p>"
   ]
  }
 ],
 "metadata": {
  "kernelspec": {
   "display_name": "Python 3",
   "language": "python",
   "name": "python3"
  },
  "language_info": {
   "codemirror_mode": {
    "name": "ipython",
    "version": 3
   },
   "file_extension": ".py",
   "mimetype": "text/x-python",
   "name": "python",
   "nbconvert_exporter": "python",
   "pygments_lexer": "ipython3",
   "version": "3.7.3"
  }
 },
 "nbformat": 4,
 "nbformat_minor": 2
}
