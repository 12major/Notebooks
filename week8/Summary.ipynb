{
 "cells": [
  {
   "cell_type": "markdown",
   "metadata": {},
   "source": [
    "<img src=\"images/logo.png\" alt=\"לוגו של מיזם לימוד הפייתון. נחש מצויר בצבעי צהוב וכחול, הנע בין האותיות של שם הקורס: לומדים פייתון. הסלוגן המופיע מעל לשם הקורס הוא מיזם לימוד תכנות בחינם ובעברית.\">"
   ]
  },
  {
   "cell_type": "markdown",
   "metadata": {},
   "source": [
    "# <span style=\"text-align: right; direction: rtl; float: right; clear: both;\"> תרגילים </span> "
   ]
  },
  {
   "cell_type": "markdown",
   "metadata": {},
   "source": [
    "## <span style=\"text-align: right; direction: rtl; float: right; clear: both;\"> חיות ו-JSON </span> "
   ]
  },
  {
   "cell_type": "markdown",
   "metadata": {},
   "source": [
    "<p style=\"text-align: right; direction: rtl; float: right; clear: both;\">בתרגיל זה נשתמש ב-<code>json</code> על מנת להעביר ולשלוח מידע בין מרפאות וטרנריות.<br>תחילה נממש מחלקה שתייצג לנו את החיות.<br><br>\n",
    "    ממשו את המחלקה <code>Animal</code> שהינה מחלקה כללית עבור חיות.<br>\n",
    "    התכונות הכלליות שנגדיר לחיות שלנו הן: <strong>מזהה ייחודי, משקל וגיל </strong>(בשנות אדם).<br> לצורך המזהה הייחודי השתמשו בספרייה <code>random</code> ודאגו שיוחזרו מספרים שונים בכל יצירה של עצם.\n",
    "</p>"
   ]
  },
  {
   "cell_type": "code",
   "execution_count": null,
   "metadata": {},
   "outputs": [],
   "source": []
  },
  {
   "cell_type": "markdown",
   "metadata": {},
   "source": [
    "<p style=\"text-align: right; direction: rtl; float: right; clear: both;\">כעת הוסיפו למחלקה <code>Animal</code> את המתודה <code>()to_json</code> המחזירה ייצוג של העצם עליו מופעלת המתודה בפורמט JSON.\n",
    "</p>"
   ]
  },
  {
   "cell_type": "markdown",
   "metadata": {},
   "source": [
    "<p style=\"text-align: left; direction: ltr; float: left; clear: both;\">\n",
    "    <code>a = Animal(14, 5)</code><br>\n",
    "    <code>a.uuid</code><br>\n",
    "    <samp>756</samp><br>\n",
    "    <code>a.weight</code><br>\n",
    "    <samp>14</samp><br>\n",
    "    <code>a.age</code><br>\n",
    "    <samp>5</samp><br>\n",
    "    <code>a.to_json()</code><br>\n",
    "    <samp>'{\"uuid\": 756, \"weight\": 14, \"age\": 5}'</samp>\n",
    "</p>"
   ]
  },
  {
   "cell_type": "code",
   "execution_count": null,
   "metadata": {},
   "outputs": [],
   "source": []
  },
  {
   "cell_type": "markdown",
   "metadata": {},
   "source": [
    "<p style=\"text-align: right; direction: rtl; float: right; clear: both;\">כעת ננמש מחלקות עבור חתול, כלב וצב.<br>\n",
    "    לכל מחלקה של חיה שתמומש נוסיף שדה בשם <code>animal_type</code> ובו סוג החיה שהמחלקה מייצגת.<br>\n",
    "    כל תכונות אלו יתקבלו בבנאים (<code>__init__</code>) המתאימים של החיות.<br>\n",
    "    <ul style=\"text-align: right; direction: rtl; float: right; clear: both;\">\n",
    "    <li>לכלב נוסיף תכונה של <code>last_trip</code> ובה מחרוזת המציינת את התאריך שבוצע הטיול האחרון.</li>\n",
    "        <li>לחתול נוסיף תכונה של <code>sleep_hours</code> ובה מספר השעות שישן החתול לאחרונה.<br></li>\n",
    "    <li>לצב נוסיף תכונה של <code>had_lettuce</code> ובה מחרוזת המציינת את התאריך שבה הצב אכל לאחרונה חסה.</li>\n",
    "        </ul>\n",
    "</p>"
   ]
  },
  {
   "cell_type": "code",
   "execution_count": null,
   "metadata": {},
   "outputs": [],
   "source": []
  },
  {
   "cell_type": "markdown",
   "metadata": {},
   "source": [
    "<p style=\"text-align: right; direction: rtl; float: right; clear: both;\">כעת ממשו את המתודה <code>()to_json</code> בכל מחלקה כך שתחזיר את המידע הלוונטי עבור כל חיה.<br>לדוגמה:<br>\n",
    "</p>\n",
    "<p style=\"text-align: left; direction: ltr; float: left; clear: both;\">\n",
    "<code>a = Dog(14, 15, \"19.05.2019\")</code><br>\n",
    "<code>a.to_json()</code><br>\n",
    "<samp>'{\"uuid\": 756, \"weight\": 14, \"animal_type\": \"Dog\", \"last_trip\": \"19.05.2019\", \"age\": 15}'</samp>\n",
    "</p>"
   ]
  },
  {
   "cell_type": "code",
   "execution_count": null,
   "metadata": {},
   "outputs": [],
   "source": []
  },
  {
   "cell_type": "markdown",
   "metadata": {},
   "source": [
    "<p style=\"text-align: right; direction: rtl; float:right; clear: both;\">\n",
    "    לכל מחלקה המתארת חיה כתבו פונקציה המגרילה ערכים אקראיים עבור התכונות שלה ומחזירה אותה.\n",
    "</p>\n",
    "<p style=\"text-align: right; direction: rtl; float:right; clear: both;\">\n",
    "    <ul style=\"text-align: right; direction: rtl; clear: both;\">\n",
    "        <li>עבור משקל השתמשו בערכים בין 1 ל-30</li>\n",
    "        <li>עבור תאריכים השתמשו רק בתאריכים בשנת 2019 שכבר עברו.</li>\n",
    "        <li>עבור גיל השתמשו ב-1-8 שנים</li>\n",
    "        <li>עבור שעות שינה השתמשו ב-1-12</li>\n",
    "    </ul>\n",
    "</p>\n",
    "<p style=\"text-align: right; direction: rtl; float:right; clear: both;\">\n",
    "    לדוגמה:\n",
    "</p>\n",
    "\n",
    "<p style=\"text-align: left; direction: ltr; float: left; clear:both;\">\n",
    "    <code>d = get_random_dog()</code><br>\n",
    "    <code>d.weight</code><br>\n",
    "    <samp>10</samp><br>\n",
    "    <code>d.age</code><br>\n",
    "    <samp>4</samp><br>\n",
    "    <code>d.last_trip</code><br>\n",
    "    <samp>10.1.2019</samp><br>\n",
    "    <code>d.animal_type</code><br>\n",
    "    <samp>Dog</samp><br>\n",
    "</p>\n"
   ]
  },
  {
   "cell_type": "markdown",
   "metadata": {},
   "source": [
    "<p style=\"text-align: right; direction: rtl; float:right; clear: both;\">\n",
    "לכל מחלקה ממשו את המתודות הבאות כפי שלמדנו:\n",
    "</p>\n",
    "<p style=\"text-align: left; direction: ltr; float:left; clear: both;\">\n",
    "    <code>__str__(self)</code><br>\n",
    "    <code>__repr__(self)</code>\n",
    "</p>"
   ]
  },
  {
   "cell_type": "code",
   "execution_count": null,
   "metadata": {},
   "outputs": [],
   "source": []
  },
  {
   "cell_type": "markdown",
   "metadata": {},
   "source": [
    "<p style=\"text-align: right; direction: rtl; float:right; clear: both;\">\n",
    "השתמשו בפונקציות שיצרתם כדי ליצור 550 חיות עם תכונות שנבחרו אקראית.<br>\n",
    "    הכניסו את כל החיות הללו לרשימה בשם <var>my_animals</var>.\n",
    "</p>"
   ]
  },
  {
   "cell_type": "code",
   "execution_count": null,
   "metadata": {},
   "outputs": [],
   "source": []
  },
  {
   "cell_type": "markdown",
   "metadata": {},
   "source": [
    "<p style=\"text-align: right; direction: rtl; float:right; clear: both;\">\n",
    "    כעת צרו רשימה חדשה ובה לכל חיה ברשימה המקורית יש את הייצוג שלה ב-JSON.<br>\n",
    "    השתמשו בפונקציה -<code>json.dumps</code> על מנת לייצר את הייצוג של כל החיות ב-JSON.<br>\n",
    "    כתבו את הפלט לקובץ בשם <var>my_animals.txt</var>. ניתן במקרה זה להשתמש בפונקציה <code>json.dump</code>.\n",
    "</p>"
   ]
  },
  {
   "cell_type": "code",
   "execution_count": null,
   "metadata": {},
   "outputs": [],
   "source": []
  },
  {
   "cell_type": "markdown",
   "metadata": {},
   "source": [
    "<p style=\"text-align: right; direction: rtl; float:right; clear: both;\">\n",
    "    כעת נחקור את החיות שלנו:<br>\n",
    "    <ul style=\"text-align: right; direction: rtl; float:right; clear: both;\">\n",
    "        <li> כתבו פונקציה המחזירה רשימה של 15 החיות <strong>המבוגרות ביותר</strong>.</li>\n",
    "        <li> כתבו פונקציה המחזירה רשימה של 15 החיות <strong>ששוקלות הכי מעט</strong>.</li>\n",
    "        <li> כתבו פונקציה המחזירה רשימה של כל הכלבים <strong>שהוצאו לטיול בין 1.1.2019 - 31.1.2019</strong>.</li>\n",
    "        <li> כתבו פונקציה המחזירה רשימה של כל החתולים <strong>שישנו 8 שעות ויותר</strong>.</li>\n",
    "        <li> כתבו פונקציה המחזירה רשימה של 15 הצבים <strong>שעבר הכי הרבה זמן מאז שאכלו </strong>.</li>\n",
    "    </ul>\n",
    "    \n",
    "</p>"
   ]
  },
  {
   "cell_type": "code",
   "execution_count": null,
   "metadata": {},
   "outputs": [],
   "source": []
  },
  {
   "cell_type": "markdown",
   "metadata": {},
   "source": [
    "<p style=\"text-align: right; direction: rtl; float:right; clear: both;\">\n",
    "    כעת נכתוב פונקציה המקבלת ייצוג של חיה ב-JSON ומחזירה עצם (אובייקט) עבור החיה.<br>\n",
    "    חזרו אל המחלקה המייצגת כל חיה וכתבו בה פונקציה <code>from_json</code> המקבלת <var>json_rep</var> כארגומנט.<br><br>\n",
    "    הפונקציה תמיר את הייצוג מ-JSON למילון, הפוך ממה שעשינו בתהליך היצירה של ה-JSON.<br>\n",
    "    לאחר שיצרתם מילון מתוך הייצוג ב-JSON, צרו אובייקט על בסיס המידע במילון והחזירו אותו.<br>\n",
    "</p>"
   ]
  },
  {
   "cell_type": "code",
   "execution_count": null,
   "metadata": {},
   "outputs": [],
   "source": []
  },
  {
   "cell_type": "markdown",
   "metadata": {},
   "source": [
    "<p style=\"text-align: right; direction: rtl; float:right; clear: both;\">\n",
    "    כעת קראו את תוכן הקובץ שיצרתם קודם לתוך משתנה. זכרו להשתמש ב-<code>json.load</code> או <code>json.loads</code> בהתאם למה שביצעתם בעת הכתיבה.\n",
    "</p>"
   ]
  },
  {
   "cell_type": "code",
   "execution_count": null,
   "metadata": {},
   "outputs": [],
   "source": []
  },
  {
   "cell_type": "markdown",
   "metadata": {},
   "source": [
    "<p style=\"text-align: right; direction: rtl; float:right; clear: both;\">\n",
    "    עברו על איברי הרשימה, כל איבר הוא ייצוג ב-JSON של חיה.<br>\n",
    "    קראו את המידע לתוך מילון ובאמצעות השדה <code>animal_type</code> הבינו איזו חיה ליצור והשתמשו בפונקציה שכתבתם על מנת ליצור אותה.<br>\n",
    "</p>"
   ]
  },
  {
   "cell_type": "code",
   "execution_count": null,
   "metadata": {},
   "outputs": [],
   "source": []
  },
  {
   "cell_type": "markdown",
   "metadata": {},
   "source": [
    "<p style=\"text-align: right; direction: rtl; float:right; clear: both;\">\n",
    "כעת יש לכם רשימה של החיות כפי שהיתה לכם לפני ההמרה ל-JSON.<br>\n",
    "    הפעילו את כל הפונקציות שהגדרנו שמחזירות את המידע על החיות וודאו שקיבלתם את אותן התוצאות.\n",
    "</p>"
   ]
  },
  {
   "cell_type": "code",
   "execution_count": null,
   "metadata": {},
   "outputs": [],
   "source": []
  },
  {
   "cell_type": "markdown",
   "metadata": {},
   "source": [
    "## <span style=\"text-align: right; direction: rtl; float: right; clear: both;\"> חריגות או לא להיות </span> "
   ]
  },
  {
   "cell_type": "markdown",
   "metadata": {},
   "source": [
    "### <span style=\"text-align: right; direction: rtl; float: right; clear: both;\"> חישוב ממוצע רץ </span>"
   ]
  },
  {
   "cell_type": "markdown",
   "metadata": {},
   "source": [
    "<p style=\"text-align: right; direction: rtl; float: right; clear: both;\"> בתרגיל זה נממש פונקציה שמחשבת את הממוצע הנוכחי של סדרת מספרים שהוכנסו על ידי המשתמש.<br>\n",
    "    עליכם לממש פונקציה הקולטת מהמשתמש מספרים כל עוד לא הוכנס הערך <strong>'stop'</strong>. הפונקציה תדפיס את ממוצע המספרים שהוכנסו עד כה.<br>\n",
    "    את הממוצע אנו מחשבים <strong>רק</strong> על מספרים שלמים (integers), לכן היזכרו איך ממירים קלט מהמשתמש למספר שלם.<br>\n",
    "    שימו לב! עליכם להשתמש בחריגות על מנת למנוע קריסה של התוכנה בעקבות קלט שאינו חוקי.<br>\n",
    "    לדוגמה:\n",
    "</p>\n",
    "<p style=\"text-align: left; direction: ltr; float: left; clear: both;\">\n",
    "    <samp>Insert a number for running average calculation, or 'stop' to stop:</samp><br>\n",
    "    <samp style=\"background:Beige;\">'One Hundred'</samp><br>\n",
    "    <samp>Input cannot be converted to integer.</samp><br>\n",
    "    <samp>Insert a number for running average calculation, or 'stop' to stop:</samp><br>\n",
    "    <samp style=\"background:Beige;\">'7'</samp><br>\n",
    "    <samp>Current running average is 7</samp><br>\n",
    "    <samp>Insert a number for running average calculation, or 'stop' to stop:</samp><br>\n",
    "    <samp style=\"background:Beige;\">'['</samp><br>\n",
    "    <samp>Input cannot be converted to integer.</samp><br>\n",
    "    <samp>Insert a number for running average calculation, or 'stop' to stop:</samp><br>\n",
    "    <samp style=\"background:Beige;\">'5'</samp><br>\n",
    "    <samp>Current running average is 6</samp><br>\n",
    "    <samp>Insert a number for running average calculation, or 'stop' to stop:</samp><br>\n",
    "    <samp style=\"background:Beige;\">'stop'</samp><br>\n",
    "    <samp>Final running average is 6</samp><br>\n",
    "</p>"
   ]
  },
  {
   "cell_type": "code",
   "execution_count": null,
   "metadata": {},
   "outputs": [],
   "source": []
  },
  {
   "cell_type": "markdown",
   "metadata": {},
   "source": [
    "#### <span style=\"text-align: right; direction: rtl; float: right; clear: both;\"> חישוב ממוצע רץ על קובץ </span>"
   ]
  },
  {
   "cell_type": "markdown",
   "metadata": {},
   "source": [
    "<p style=\"text-align: right; direction: rtl; float: right; clear: both;\"> \n",
    "    כיון שאנו רוצים לחשב ממוצע רץ על המון מספרים, ולא רוצים להכניס אותם אחד-אחד, אנחנו נשכלל את הקוד שלנו ע\"י קריאת כל המספרים מקובץ.<br>\n",
    "    כתבו פונקציה הפועלת באופן דומה ומאפשרת למשתמש להכניס שם של קובץ עד שלא הוכנס 'stop'.<br>\n",
    "    הפונקציה תקרא את המספרים מהקובץ שהכניס המשתמש.<br>\n",
    "    שימו לב לנקודות הבאות:\n",
    "</p>\n",
    "<p style=\"text-align: right; direction: rtl; clear: both;\">\n",
    "    <br>\n",
    "    <ul style=\"text-align: right; direction: rtl;\">\n",
    "        <li>שם הקובץ לא בהכרח קיים - עליכם לקחת זאת בחשבון.</li>\n",
    "        <li>תוכן הקובץ לא בהכרח מכיל רק מספרים, אלא גם ייתכן שמכיל תווים כמו ']'.</li>\n",
    "        <li>הדבר היחיד שאתם יכולים להניח הוא שכל ערך יופיע בשורה חדשה.</li>\n",
    "        <li>אם קיבלנו תו שאיננו יכולים לפרש כמספר שלם - פשוט נתעלם ונמשיך לערך הבא.</li>\n",
    "    </ul>\n",
    "</p>\n",
    "<p style=\"text-align: right; direction: rtl; float: right; clear: both;\">\n",
    "    השתמשו בחריגות כדי להתמודד עם המקרים הנ\"ל.<br>\n",
    "    מצורפים למחברת קבצים לדוגמה המכילים את המידע כפי שעליכם לצפות לו.\n",
    "</p>\n",
    "<p style=\"text-align: left; direction: ltr; float: left; clear: both;\">\n",
    "    <samp>Insert a file conatining values for running average calculation, or 'stop' to stop:</samp><br>\n",
    "    <samp style=\"background:Beige;\">'numbers.txt'</samp><br>\n",
    "    <samp>File not found.</samp><br>\n",
    "    <samp>Insert a file conatining values for running average calculation, or 'stop' to stop:</samp><br>\n",
    "    <samp style=\"background:Beige;\">'avg_numbers.txt'</samp><br>\n",
    "    <samp>Current running average is 345</samp><br>\n",
    "    <samp>Insert a file conatining values for running average calculation, or 'stop' to stop:</samp><br>\n",
    "    <samp style=\"background:Beige;\">'stop'</samp><br>\n",
    "    <samp>Final running average is 345</samp><br>\n",
    "</p>"
   ]
  },
  {
   "cell_type": "code",
   "execution_count": null,
   "metadata": {},
   "outputs": [],
   "source": []
  },
  {
   "cell_type": "markdown",
   "metadata": {},
   "source": [
    "#### <span style=\"text-align: right; direction: rtl; float: right; clear: both;\"> חישוב ממוצע רץ על מלא קבצים </span>"
   ]
  },
  {
   "cell_type": "markdown",
   "metadata": {},
   "source": [
    "<p style=\"text-align: right; direction: rtl; float: right; clear: both;\"> \n",
    "    מפתחים רבים מאוד אהבו את הקוד שלכם וכעת הם רוצים להיות מסוגלים להריץ את החישוב של הממוצע הרץ על רשימה של קבצים.<br>\n",
    "    כתבו פונקציה הפועלת באופן דומה ומאפשרת למשתמש להכניס <strong>רשימה של קבצים</strong> עד שלא הוכנס 'stop'.<br>\n",
    "    הפונקציה תקרא את המספרים מכל קובץ שהוכנס על ידי המשתמש.<br>שימו לב:\n",
    "</p>\n",
    "<p style=\"text-align: right; direction: rtl; clear: both;\">\n",
    "    <br>\n",
    "    <ul style=\"text-align: right; direction: rtl;\">\n",
    "        <li> ייתכנו קבצים ברשימה שהם לא קיימים - נדלג עליהם ונדפיס הודעה מתאימה על כל קובץ שלא קיים (ונמשיך את הריצה).</li>\n",
    "        <li>תוכני הקבצים לא בהכרח מכילים רק מספרים, ייתכנו קבצים שמכילים תווים כמו ']'.</li>\n",
    "        <li>הדבר היחיד שאתם יכולים להניח הוא שכל ערך יופיע בשורה חדשה.</li>\n",
    "        <li>אם קיבלנו תו שאיננו יכולים לפרש כמספר שלם - פשוט נתעלם ונמשיך לערך הבא.</li>\n",
    "    </ul>\n",
    "</p>\n",
    "<p style=\"text-align: right; direction: rtl; float: right; clear: both;\">\n",
    "    השתמשו בחריגות כדי להתמודד עם המקרים הנ\"ל.\n",
    "</p>\n",
    "<p style=\"text-align: left; direction: ltr; float: left; clear: both;\">\n",
    "    <samp>Insert list of files conatining values for running average calculation, or 'stop' to stop:</samp><br>\n",
    "    <samp style=\"background:Beige;\">'numbers.txt, more_numbers.txt, even_more_numbers.txt'</samp><br>\n",
    "    <samp>File more_numbers.txt not found and ignored.</samp><br>\n",
    "    <samp>Current running average is 12</samp><br>\n",
    "    <samp>Insert list of files conatining values for running average calculation, or 'stop' to stop:</samp><br>\n",
    "    <samp style=\"background:Beige;\">'avg_numbers.txt, a_lot_more_numbers.txt'</samp><br>\n",
    "    <samp>File avg_numbers.txt not found and ignored.</samp><br>\n",
    "    <samp>Current running average is 345</samp><br>\n",
    "    <samp>Insert list of files conatining values for running average calculation, or 'stop' to stop:</samp><br>\n",
    "    <samp style=\"background:Beige;\">'stop'</samp><br>\n",
    "    <samp>Final running average is 3415</samp><br>\n",
    "</p>\n",
    "    </p>"
   ]
  },
  {
   "cell_type": "code",
   "execution_count": null,
   "metadata": {},
   "outputs": [],
   "source": []
  }
 ],
 "metadata": {
  "kernelspec": {
   "display_name": "Python 3",
   "language": "python",
   "name": "python3"
  },
  "language_info": {
   "codemirror_mode": {
    "name": "ipython",
    "version": 3
   },
   "file_extension": ".py",
   "mimetype": "text/x-python",
   "name": "python",
   "nbconvert_exporter": "python",
   "pygments_lexer": "ipython3",
   "version": "3.7.1"
  }
 },
 "nbformat": 4,
 "nbformat_minor": 2
}
