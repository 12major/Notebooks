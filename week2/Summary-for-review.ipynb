{
 "cells": [
  {
   "cell_type": "markdown",
   "metadata": {},
   "source": [
    " <img src=\"images/logo.png\" alt=\"מיזם לימוד פייתון בעברית\">"
   ]
  },
  {
   "cell_type": "markdown",
   "metadata": {},
   "source": [
    "# <p style=\"text-align:right;direction:rtl;\">מערכת בנק</p>"
   ]
  },
  {
   "cell_type": "markdown",
   "metadata": {},
   "source": [
    "<p style=\"text-align:right; direction:rtl;\">\n",
    "בתרגיל הזה נכתוב מערכת קצת יותר חכמה לבנק.<br>\n",
    "    נבנה אותה בשלבים באמצעות חלוקה לפונקציות.<br>\n",
    "בשלב הראשון נבנה מחולל סיסמאות עבור משתמש. מחולל סיסמאות היא פונקציה שמקבלת שם משתמש ומחזירה סיסמה.<br>\n",
    "הסיסמה תורכב כך עבור שם משתמש נתון:<br>\n",
    "\n",
    "<ul style=\"text-align:right; direction:rtl;\"><li>שם המשתמש באותיות גדולות ומיד אחריו שם המשתמש באותיות קטנות.\n",
    "    </li><li>הוספת האות <code>\"X\"</code> כאורך השם מימין.</li></ul>\n",
    "</p>\n",
    "<p style=\"text-align:right;direction:rtl;\">שימו לב כי שם המשתמש לא חייב לכלול אותיות בלבד (ספרות וסימנים גם אפשריים).<br>\n",
    "    כמו כן, לא נאפשר שם משתמש שהוא מחרוזת ריקה. במקרה זה החזירו מחרוזת ריקה.<br>\n",
    "    <br> לדוגמה, עבור שם המשתמש <code>'stam'</code> המחולל יחזיר את הסיסמה: <samp>'stamSTAMXXXX'</samp><br>הריצו את הפונקציה על 4 דוגמאות נוספות לפחות, באורכים שונים, ובדקו שקיבלתם פלט כמצופה.</p>"
   ]
  },
  {
   "cell_type": "code",
   "execution_count": null,
   "metadata": {},
   "outputs": [],
   "source": [
    "#write function here"
   ]
  },
  {
   "cell_type": "markdown",
   "metadata": {},
   "source": [
    "<p style=\"text-align:right;direction:rtl;\">הריצו את הפונקציה כך: <code>password_generator('stam')</code>"
   ]
  },
  {
   "cell_type": "markdown",
   "metadata": {},
   "source": [
    "<p style=\"text-align:right;direction:rtl;\">כעת נקבל שם משתמש וסיסמה, ונבדוק האם השילוב הוא נכון. בדקו באמצעות מחולל הסיסמאות מהסעיף הקודם האם הסיסמה של המשתמש תואמת את הסיסמה הנוצרת על-ידי המחולל. הדפיסו ברוך הבא אם הסיסמא נכונה, אחרת הדפיסו סיסמא לא נכונה.</p>\n",
    "<code>login('stam','stamSTAMXXXX')</code><br><samp>Welcome stam!</samp><br><br><code>login('stam','mats')</code><br><samp>Wrong Password!</samp>"
   ]
  },
  {
   "cell_type": "code",
   "execution_count": null,
   "metadata": {},
   "outputs": [],
   "source": [
    "#write function here"
   ]
  },
  {
   "cell_type": "markdown",
   "metadata": {},
   "source": [
    "<p style=\"text-align:right;direction:rtl;\">כתבו פונקציה שמחזירה <code>True</code>\n",
    "    אם בוצע חיבור מוצלח, אחרת החזירו <code>False</code>.\n",
    "פונקציה זו מאוד דומה לפונקציה הקודמת שכתבתם, רק שאינה מדפיסה דבר. במקום ההדפסה יוחזר ערך בוליאני מתאים.<br>לדוגמא:<br></p><br><code>login('stam',stamSTAMXXXX')</code><br><samp>True</samp><br><code>login('stam','mats')</code><br><samp>False</samp><br>"
   ]
  },
  {
   "cell_type": "code",
   "execution_count": null,
   "metadata": {},
   "outputs": [],
   "source": []
  },
  {
   "cell_type": "markdown",
   "metadata": {},
   "source": [
    "<p style=\"text-align:right;direction:rtl;\">\n",
    " כעת ענו על השאלה הקודמת באמצעות הפונקציה שכתבתם בסעיף זה, כלומר כתבו פונקציה שמשתמשת בפונקציה המחזירה ערך בוליאני ומדפיסה בהתאם להוראת מהסעיף הקודם.<br>רמז: <span style=\"direction: rtl; background: #000; text: #000\">השתמשו בערך ההחזרה של הפונקציה מהסעיף הקודם, בתוך if.</span></p>\n"
   ]
  },
  {
   "cell_type": "code",
   "execution_count": null,
   "metadata": {},
   "outputs": [],
   "source": []
  },
  {
   "cell_type": "markdown",
   "metadata": {},
   "source": [
    "<p style=\"text-align:right;direction:rtl;\">כעת נרחיב את מערכת הבנק שלנו.<br>נניח כי לכל לקוח בבנק יש בחשבון הבנק 500 ש\"ח.<br>באמצעות הפוקנציות הקודמות שכתבנו נממש את התוכנית הבאה:<br><ul style=\"text-align:right; direction:rtl;\"><li>נבקש מהמשתמש שם משתמש וסיסמה.</li><li>נאמת את שם המשתמש והסיסמה מול מחולל הסיסמאות. אם האימות הצליח נשאל מהו הסכום המבוקש למשיכה. אחרת נכתוב כי הזיהוי נכשל.</li><li>כיון שלמשתמש יש 500 ש\"ח בחשבון, עלינו לוודא שהסכום לא גבוה מ-500 ש\"ח. אם הסכום אכן גבוה מ-500 ש\"ח נדפיס \"לא ניתן למשוך מעבר ליתרה\".</li><li>כמו כן, עלינו לוודא כי הסכום אינו שלילי או 0. במקרה זה נדפיס \"סכום למשיכה אינו חוקי\".<li>אם הסכום חוקי, נדפיס \"אנא משוך את כספך על סך (הסכום שהוקש). יתרתך הינה: (היתרה שנשארה)\"</li></ul></p>"
   ]
  },
  {
   "cell_type": "markdown",
   "metadata": {},
   "source": [
    "<p style=\"text-align:right;direction:rtl\">ציירו תחילה על דף תרשים זרימה של איך הולך להיראות הקוד - תרשים מעויינים ללא קוד.\n",
    "זה יעזור לכם במימוש.</p"
   ]
  },
  {
   "cell_type": "markdown",
   "metadata": {},
   "source": [
    "### <p style=\"text-align: right; direction: rtl; float: right; clear: both;\">דוגמאות:</p>"
   ]
  },
  {
   "cell_type": "markdown",
   "metadata": {},
   "source": [
    "<p style=\"text-align: left; direction: ltr; float: left; clear: both;\">\n",
    "    Insert username: <samp>stam</samp><br>\n",
    "    Insert password: <samp>stamSTAMXXXX</samp><br>\n",
    "    Login succeded. How much you'd like to draw? <samp>200</samp><br>\n",
    "    Please take your money (200NIS). Your balance is: 300NIS.\n",
    "</p>"
   ]
  },
  {
   "cell_type": "markdown",
   "metadata": {},
   "source": [
    "<p style=\"text-align: right; direction: rtl; float: right; clear: both;\">\n",
    "    דוגמה לסיסמה שגויה:\n",
    "</p>\n",
    "<p style=\"text-align: left; direction: ltr; float: left; clear: both;\">\n",
    "    Insert username: <samp>stam</samp><br>\n",
    "    Insert password: <samp>mats</samp><br>\n",
    "    Login failed.\n",
    "</p>"
   ]
  },
  {
   "cell_type": "markdown",
   "metadata": {},
   "source": [
    "<p style=\"text-align: right; direction: rtl; float: right; clear: both;\">\n",
    "    דוגמה למשיכה לא חוקית:\n",
    "</p>\n",
    "\n",
    "<p style=\"text-align: left; direction: ltr; float: left; clear: both;\">\n",
    "    Insert username: <samp>stam</samp><br>\n",
    "    Insert password: <samp>stamSTAMXXXX</samp><br>\n",
    "    Login succeded. How much you'd like to draw? <samp>600</samp><br>\n",
    "    Cannot withrow above balance.\n",
    "</p>"
   ]
  },
  {
   "cell_type": "markdown",
   "metadata": {},
   "source": [
    "<p style=\"text-align:right;direction:rtl;\">דוגמה למשיכה של 0:</p>\n",
    "\n",
    "<p style=\"text-align: left; direction: ltr; float: left; clear: both;\">\n",
    "    Insert username: <samp>stam</samp><br>\n",
    "    Insert password: <samp>stamSTAMXXXX</samp><br>\n",
    "    Login succeded. How much you'd like to draw? <samp>0</samp><br>\n",
    "    Invalid amount.\n",
    "</p>"
   ]
  },
  {
   "cell_type": "code",
   "execution_count": null,
   "metadata": {},
   "outputs": [],
   "source": []
  },
  {
   "cell_type": "markdown",
   "metadata": {},
   "source": [
    "<p style=\"text-align: right; direction: rtl; float: right; clear: both;\">\n",
    "    לאחרונה עלתה דרישה לשכלל את הבנק שלנו, כך שרק מספר מצומצם של לקוחות יוכלו לגשת לבנק.<br>\n",
    "    הגדירו רשימה של שמות של לקוחות שעבורם יתאפשר החיבור.<br>\n",
    "    עבור כל לקוח אחר הבנק יכתוב <samp>You are not customer of the bank</samp>.\n",
    "</p>"
   ]
  },
  {
   "cell_type": "code",
   "execution_count": null,
   "metadata": {},
   "outputs": [],
   "source": []
  },
  {
   "cell_type": "markdown",
   "metadata": {},
   "source": [
    "## <p style=\"text-align:right;direction:rtl;\">מתודות של מחרוזות</p>"
   ]
  },
  {
   "cell_type": "markdown",
   "metadata": {},
   "source": [
    "<p style=\"text-align:right;direction:rtl;\"> ניזכר בכמה פעולות של מחרוזות:<br>לכל אחד מהתרגילים הבאים הריצו את הדוגמא וכתבו בעצמכם 3 דוגמאות נוספות. הסבירו לעצמכם מה עושה כל מתודה למחרוזת שהיא מקבלת.<br>\n",
    "אם תרצו להיזכר מה עושה מתודה מסוימת תוכלו להריץ את המתודה באופן הבא:<br></p>\n",
    "<code>str.method-name?</code>\n",
    "<p style=\"text-align:right;direction:rtl;\"> לדוגמא:<br></p>\n",
    "<code>str.split?</code><br>\n",
    "<p style=\"text-align:right;direction:rtl;\"> הריצו את התא הבא לקבלת מידע על המתודה split:<br></p>\n"
   ]
  },
  {
   "cell_type": "code",
   "execution_count": null,
   "metadata": {},
   "outputs": [],
   "source": [
    "str.split?"
   ]
  },
  {
   "cell_type": "code",
   "execution_count": null,
   "metadata": {},
   "outputs": [],
   "source": [
    "\"abcdef:ghijk:xyz\".split(\":\")"
   ]
  },
  {
   "cell_type": "code",
   "execution_count": null,
   "metadata": {},
   "outputs": [],
   "source": [
    "#כתבו דוגמא למתודה זו"
   ]
  },
  {
   "cell_type": "code",
   "execution_count": null,
   "metadata": {},
   "outputs": [],
   "source": [
    "#כתבו דוגמא למתודה זו"
   ]
  },
  {
   "cell_type": "code",
   "execution_count": null,
   "metadata": {},
   "outputs": [],
   "source": [
    "#כתבו דוגמא למתודה זו"
   ]
  },
  {
   "cell_type": "code",
   "execution_count": null,
   "metadata": {},
   "outputs": [],
   "source": [
    "\"543\".zfill(4)"
   ]
  },
  {
   "cell_type": "code",
   "execution_count": null,
   "metadata": {},
   "outputs": [],
   "source": [
    "#כתבו דוגמא למתודה זו"
   ]
  },
  {
   "cell_type": "code",
   "execution_count": null,
   "metadata": {},
   "outputs": [],
   "source": [
    "#כתבו דוגמא למתודה זו"
   ]
  },
  {
   "cell_type": "code",
   "execution_count": null,
   "metadata": {},
   "outputs": [],
   "source": [
    "#כתבו דוגמא למתודה זו"
   ]
  },
  {
   "cell_type": "code",
   "execution_count": null,
   "metadata": {},
   "outputs": [],
   "source": [
    "\"now i am a lowercase string, one day i will be upper\".upper()"
   ]
  },
  {
   "cell_type": "code",
   "execution_count": null,
   "metadata": {},
   "outputs": [],
   "source": [
    "#כתבו דוגמא למתודה זו"
   ]
  },
  {
   "cell_type": "code",
   "execution_count": null,
   "metadata": {},
   "outputs": [],
   "source": [
    "#כתבו דוגמא למתודה זו"
   ]
  },
  {
   "cell_type": "code",
   "execution_count": null,
   "metadata": {},
   "outputs": [],
   "source": [
    "#כתבו דוגמא למתודה זו"
   ]
  },
  {
   "cell_type": "code",
   "execution_count": null,
   "metadata": {},
   "outputs": [],
   "source": [
    "\"I AM AN UPPERCASE STRING. I AM AFRAID TO BE LOWERED!\".lower()"
   ]
  },
  {
   "cell_type": "code",
   "execution_count": null,
   "metadata": {},
   "outputs": [],
   "source": [
    "#כתבו דוגמא למתודה זו"
   ]
  },
  {
   "cell_type": "code",
   "execution_count": null,
   "metadata": {},
   "outputs": [],
   "source": [
    "#כתבו דוגמא למתודה זו"
   ]
  },
  {
   "cell_type": "code",
   "execution_count": null,
   "metadata": {},
   "outputs": [],
   "source": [
    "#כתבו דוגמא למתודה זו"
   ]
  },
  {
   "cell_type": "code",
   "execution_count": null,
   "metadata": {},
   "outputs": [],
   "source": [
    "\"wow!_I_am_using_underscore_as_space!\".replace(\"_\",\" \")"
   ]
  },
  {
   "cell_type": "code",
   "execution_count": null,
   "metadata": {},
   "outputs": [],
   "source": [
    "#כתבו דוגמא למתודה זו"
   ]
  },
  {
   "cell_type": "code",
   "execution_count": null,
   "metadata": {},
   "outputs": [],
   "source": [
    "#כתבו דוגמא למתודה זו"
   ]
  },
  {
   "cell_type": "code",
   "execution_count": null,
   "metadata": {},
   "outputs": [],
   "source": [
    "#כתבו דוגמא למתודה זו"
   ]
  },
  {
   "cell_type": "code",
   "execution_count": null,
   "metadata": {},
   "outputs": [],
   "source": [
    "\"                    i need some spaceeeeeeee                            \".strip()"
   ]
  },
  {
   "cell_type": "code",
   "execution_count": null,
   "metadata": {},
   "outputs": [],
   "source": [
    "#כתבו דוגמא למתודה זו"
   ]
  },
  {
   "cell_type": "code",
   "execution_count": null,
   "metadata": {},
   "outputs": [],
   "source": [
    "#כתבו דוגמא למתודה זו"
   ]
  },
  {
   "cell_type": "code",
   "execution_count": null,
   "metadata": {},
   "outputs": [],
   "source": [
    "#כתבו דוגמא למתודה זו"
   ]
  },
  {
   "cell_type": "code",
   "execution_count": null,
   "metadata": {},
   "outputs": [],
   "source": [
    "\"i^wonder&if@all##characters$in%%%this string are alpha-numeric???\".isalnum()"
   ]
  },
  {
   "cell_type": "code",
   "execution_count": null,
   "metadata": {},
   "outputs": [],
   "source": [
    "\"onlylettersandnumbers2342343\".isalnum()"
   ]
  },
  {
   "cell_type": "code",
   "execution_count": null,
   "metadata": {},
   "outputs": [],
   "source": [
    "#כתבו דוגמא למתודה זו"
   ]
  },
  {
   "cell_type": "code",
   "execution_count": null,
   "metadata": {},
   "outputs": [],
   "source": [
    "#כתבו דוגמא למתודה זו"
   ]
  },
  {
   "cell_type": "code",
   "execution_count": null,
   "metadata": {},
   "outputs": [],
   "source": [
    "#כתבו דוגמא למתודה זו"
   ]
  },
  {
   "cell_type": "code",
   "execution_count": null,
   "metadata": {},
   "outputs": [],
   "source": [
    "\"lettersonly\".isalpha()"
   ]
  },
  {
   "cell_type": "code",
   "execution_count": null,
   "metadata": {},
   "outputs": [],
   "source": [
    "#כתבו דוגמא למתודה זו"
   ]
  },
  {
   "cell_type": "code",
   "execution_count": null,
   "metadata": {},
   "outputs": [],
   "source": [
    "#כתבו דוגמא למתודה זו"
   ]
  },
  {
   "cell_type": "code",
   "execution_count": null,
   "metadata": {},
   "outputs": [],
   "source": [
    "#כתבו דוגמא למתודה זו"
   ]
  },
  {
   "cell_type": "code",
   "execution_count": null,
   "metadata": {},
   "outputs": [],
   "source": [
    "\"4535354353\".isnumeric()"
   ]
  },
  {
   "cell_type": "code",
   "execution_count": null,
   "metadata": {},
   "outputs": [],
   "source": [
    "#כתבו דוגמא למתודה זו"
   ]
  },
  {
   "cell_type": "code",
   "execution_count": null,
   "metadata": {},
   "outputs": [],
   "source": [
    "#כתבו דוגמא למתודה זו"
   ]
  },
  {
   "cell_type": "code",
   "execution_count": null,
   "metadata": {},
   "outputs": [],
   "source": [
    "#כתבו דוגמא למתודה זו"
   ]
  },
  {
   "cell_type": "markdown",
   "metadata": {},
   "source": [
    "# <p style=\"text-align:right;direction:rtl;\">שעון עולמי</p>"
   ]
  },
  {
   "cell_type": "markdown",
   "metadata": {},
   "source": [
    "<p style=\"text-align:right;direction:rtl;\">בשאלה זו נכתוב גרסה של שעון עולמי התומך ב-4 איזורי זמן:<br>\n",
    "\n",
    "<ul style=\"text-align: right; direction: rtl; float: right; clear: both;\">\n",
    "    <li>תל־אביב – TLV</li>\n",
    "    <li>לונדון – LON</li>\n",
    "    <li>ניו־יורק – NYC</li>\n",
    "    <li>טוקיו – NRT</li>\n",
    "</ul>\n",
    "\n",
    "<p style=\"text-align: right; direction: rtl; float: right; clear: both;\">\n",
    "אם נקבל תל אביב, נדפיס את השעה בתוספת 3 שעות.<br>\n",
    "אם נקבל ניו יורק נחזיר את השעה פחות 4.<br>\n",
    "אם נקבל טוקיו נחזיר את השעה ועוד 9.<br>\n",
    "בכל מקרה אחר נחזיר את השעה כמו שקיבלנו אותה.\n",
    "</p>\n"
   ]
  },
  {
   "cell_type": "markdown",
   "metadata": {},
   "source": [
    "<p style=\"text-align:right;direction:rtl;\">השעון שלנו בתרגיל זה הוא שעון 24 שעות בפורמט HH:MM.</p><br><p style=\"text-align:right;direction:rtl;\">תחילה, כתבו פונקציה המקבלת את השעה בפורמט HH:MM, ומקבלת את מספר השעות שיש להוסיף או להוריד מהשעה הנתונה, ומחזירה את השעה המעודכנת.</p><samp style=\"text-align:left;direction:ltr;\">time_shift(\"08:44\",1)<br>\"09:44\"<br>time_shift(\"07:31\",-2)<br>\"05:31\"</samp><br><p style=\"text-align:right;direction:rtl;\">כמו כן עליכם לוודא שמוכנסת שעה חוקית, ולהדפיס שגיאה אם לא:</p><br><samp>time_shift(\"32:12\",4)<br>\"Invalid time given\"</samp><br><p style=\"text-align:right;direction:rtl;\">בנוסף, עליכם לתמוך במעברים בין יממות. כלומר עליכם לבצע נכון פעולות מסוג זה:</p><br><samp>time_shift(\"23:30\",2)<br>\"01:30\"<br>time_shift(\"04:13\",-5)<br>\"23:13\"</samp>"
   ]
  },
  {
   "cell_type": "code",
   "execution_count": null,
   "metadata": {},
   "outputs": [],
   "source": []
  },
  {
   "cell_type": "markdown",
   "metadata": {},
   "source": [
    "## <p style=\"text-align:right;direction:right;\">רמזים</p>"
   ]
  },
  {
   "cell_type": "markdown",
   "metadata": {},
   "source": [
    "<p style=\"text-align:right;direction:rtl;\">פונקציות שימושיות:\n",
    "    <span style=\"direction: rtl; background: #000; text: #000\"><br>split - מתודה של string.<br> האופרטור % (מודולו) - חשבו עם איזה מספר צריך לעשות מודולו.<br>zfill - השתמשו בה כדי למלא 0 חסר בשעה ובה ספרה אחת (לדוגמא 1:05 יהפוך ל-01:05) </span>\n",
    "   \n",
    "<p style=\"text-align:right;direction:rtl;\">רמזים נוספים:<br>\n",
    "    <span style=\"direction: rtl; background: #000; text: #000\">מומלץ להמיר את השעה מ-string ל-int ואז לבצע את פעולות החשבון ולבסוף להמיר חזרה ל-string\n",
    "    </span>"
   ]
  },
  {
   "cell_type": "markdown",
   "metadata": {},
   "source": [
    "<p style=\"text-align:right;direction:rtl;\"> כעת כתבו פונקציה המקבלת שני פרמטרים - שעה ואיזור זמן ובאמצעות הפונקציה מהתרגיל הקודם מחזירה את השעה באיזור הזמן המבוקש.\n",
    "<br>\n",
    "    לדוגמא:\n",
    "</p>\n",
    "<p style=\"text-align:left;direction:ltr;\">\n",
    "    convert_to_timezone(\"10:34\",\"TLV\")\n",
    "    <br>\n",
    "    <samp>\"13:34\"</samp>\n",
    "</p>"
   ]
  },
  {
   "cell_type": "code",
   "execution_count": null,
   "metadata": {},
   "outputs": [],
   "source": []
  },
  {
   "cell_type": "markdown",
   "metadata": {},
   "source": [
    "## <span style=\"text-align: right; direction:rtl; float: right; clear: both;\">אורכי רשימות</span>"
   ]
  },
  {
   "cell_type": "markdown",
   "metadata": {},
   "source": [
    "<p style=\"text-align: right; direction: rtl; float: right; clear: both;\">\n",
    "    כתבו תוכנית שמקבלת 2 רשימות שונות, ומדפיסה:\n",
    "</p>\n",
    "\n",
    "<ul style=\"text-align: right; direction: rtl; float: right; clear: both;\">\n",
    " <li>\"<samp>Same length</samp>\" אם הן באותו אורך.</li>\n",
    " <li>\"<samp>Not same length</samp>\" אם הן לא באותו אורך.</li>\n",
    " <li>\"<samp>Got empty list</samp>\" אם רשימה שקיבלנו היא באורך 0.</li>\n",
    "</ul>\n",
    "\n",
    "<p style=\"text-align: right; direction: rtl; float: right; clear: both;\">\n",
    "    לדוגמה – אם קיבלנו 2 רשימות ריקות, נדפיס:<br>\n",
    "    <samp style=\"text-align: left; direction: ltr; float: left; clear: both;\">\n",
    "        \"Got empty list\"\n",
    "        \"Got empty list\"\n",
    "        \"Same length\"\n",
    "    </samp>\n",
    "</p>"
   ]
  },
  {
   "cell_type": "code",
   "execution_count": null,
   "metadata": {},
   "outputs": [],
   "source": []
  },
  {
   "cell_type": "markdown",
   "metadata": {},
   "source": [
    "## <span style=\"text-align: right; direction:rtl; float: right; clear: both;\">מיקומים</span>"
   ]
  },
  {
   "cell_type": "markdown",
   "metadata": {},
   "source": [
    "<p style=\"text-align: right; direction: rtl; float: right; clear: both;\">\n",
    "כתבו פונקציה שמקבלת רשימה של רשימות.<br>\n",
    "אם הרשימה החיצונית לא באורך 6, הפונקציה תדפיס <samp>Only lists of length 6 are allowed</samp>.<br>\n",
    "הפונקציה תדפיס \"<samp dir=\"ltr\">Yes!</samp>\" אם אחד מהבאים מתקיים:\n",
    "</p>\n",
    "\n",
    "<ul style=\"text-align: right; direction: rtl; float: right; clear: both;\">\n",
    "    <li>אורך הרשימה במקום ה־0 שווה לאורך הרשימה במקום ה־4</li>\n",
    "    <li>אורך הרשימה במקום ה־3 שווה לאורך הרשימה במקום ה־2 וה־1</li>\n",
    "    <li>אורך הרשימה במקום ה־5 שווה ל־3</li>\n",
    "</ul>\n",
    "   \n",
    "<p style=\"text-align: right; direction: rtl; float: right; clear: both;\">\n",
    "הפונקציה תדפיס \"<samp dir=\"ltr\">Yes!</samp>\" עבור כל תנאי שמתקיים, גם אם קיים יותר מאחד כזה.<br>\n",
    "לדוגמה, עבור:<br>\n",
    "<code dir=\"ltr\" style=\"direction: ltr;\">multi = [[0], [1], [2], [3], [4], [5]]</code><br>\n",
    "כל התנאים מתקיימים, ולכן נדפיס \"<samp dir=\"ltr\">Yes!</samp>\" 3 פעמים.\n",
    "</p>\n",
    "\n",
    "<p style=\"text-align: right; direction: rtl; float: right; clear: both;\">\n",
    "כתבו לפחות 3 דוגמאות שונות שמדגימות:\n",
    "</p>\n",
    "\n",
    "<ul style=\"text-align: right; direction: rtl; float: right; clear: both;\">\n",
    "    <li>בלי הדפסות</li>\n",
    "    <li>עם הדפסה אחת</li>\n",
    "    <li>עם שתי הדפסות</li>\n",
    "    <li>עם שלוש הדפסות</li>\n",
    "</ul>"
   ]
  },
  {
   "cell_type": "code",
   "execution_count": null,
   "metadata": {},
   "outputs": [],
   "source": []
  }
 ],
 "metadata": {
  "kernelspec": {
   "display_name": "Python 3",
   "language": "python",
   "name": "python3"
  },
  "language_info": {
   "codemirror_mode": {
    "name": "ipython",
    "version": 3
   },
   "file_extension": ".py",
   "mimetype": "text/x-python",
   "name": "python",
   "nbconvert_exporter": "python",
   "pygments_lexer": "ipython3",
   "version": "3.7.1"
  }
 },
 "nbformat": 4,
 "nbformat_minor": 2
}
