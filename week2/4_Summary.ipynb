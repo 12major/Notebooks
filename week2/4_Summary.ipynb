{
 "cells": [
  {
   "cell_type": "markdown",
   "metadata": {},
   "source": [
    " <img src=\"images/logo.png\" alt=\"מיזם לימוד פייתון בעברית\">"
   ]
  },
  {
   "cell_type": "markdown",
   "metadata": {},
   "source": [
    "# <p style=\"text-align:right;direction:rtl;\">מערכת בנק</p>"
   ]
  },
  {
   "cell_type": "markdown",
   "metadata": {},
   "source": [
    "<p style=\"text-align:right; direction:rtl;\">\n",
    "בתרגיל הזה נכתוב מערכת קצת יותר חכמה לבנק.<br>נבנה אותה בשלבים באמצעות חלוקה לפונקציות.<br>\n",
    "בשלב הראשון נבנה מחולל סיסמאות עבור משתמש. מחולל סיסמאות היא פונקציה שמקבלת שם משתמש ומחזירה סיסמה.<br>\n",
    "הסיסמה תורכב כך עבור שם משתמש נתון:<br><ul style=\"text-align:right; direction:rtl;\"><li>הפיכת התווים בשם המשתמש.\n",
    "    </li><li>הוספת האות <code>\"X\"</code> כאורך השם מימין להיפוך התווים בשם המשתמש.</li></ul>\n",
    "</p>\n",
    "<p style=\"text-align:right;direction:rtl;\">שימו לב כי שם המשתמש לא חייב לכלול אותיות בלבד (ספרות וסימנים גם אפשריים).<br> כמו כן, לא נאפשר שם משתמש שהוא מחרוזת ריקה. במקרה זה החזירו מחרוזת ריקה.<br><br> לדוגמה, עבור שם המשתמש <code>'stam'</code> המחולל יחזיר את הסיסמה: <samp>'matsXXXX'</samp><br>הריצו את הפונקציה על 4 דוגמאות נוספות לפחות, באורכים שונים, ובדקו שקיבלתם פלט כמצופה.</p>"
   ]
  },
  {
   "cell_type": "code",
   "execution_count": 14,
   "metadata": {},
   "outputs": [],
   "source": [
    "#write function here"
   ]
  },
  {
   "cell_type": "markdown",
   "metadata": {},
   "source": [
    "<p style=\"text-align:right;direction:rtl;\">הריצו את הפונקציה כך: <code>password_generator('stam')</code>"
   ]
  },
  {
   "cell_type": "markdown",
   "metadata": {},
   "source": [
    "<p style=\"text-align:right;direction:rtl;\">כעת נקבל שם משתמש וסיסמה, ונבדוק האם השילוב הוא נכון. בדקו באמצעות מחולל הסיסמאות מהסעיף הקודם האם הסיסמה של המשתמש תואמת את הסיסמה הנוצרת על-ידי המחולל. הדפיסו ברוך הבא אם הסיסמא נכונה, אחרת הדפיסו סיסמא לא נכונה.</p>\n",
    "<code>login('stam','matsXXXX')</code><br><samp>Welcome stam!</samp><br><br><code>login('stam','mats')</code><br><samp>Wrong Password!</samp>"
   ]
  },
  {
   "cell_type": "code",
   "execution_count": null,
   "metadata": {},
   "outputs": [],
   "source": [
    "#write function here"
   ]
  },
  {
   "cell_type": "markdown",
   "metadata": {},
   "source": [
    "<p style=\"text-align:right;direction:rtl;\">כתבו פונקציה שמחזירה <code>True</code>\n",
    "    אם בוצע חיבור מוצלח, אחרת החזירו <code>False</code>.\n",
    "פונקציה זו מאוד דומה לפונקציה הקודמת שכתבתם, רק שאינה מדפיסה דבר. במקום ההדפסה יוחזר ערך בוליאני מתאים.<br>לדוגמא:<br></p><br><code>login('stam',matsXXXX')</code><br><samp>True</samp><br><code>login('stam','mats')</code><br><samp>False</samp><br>"
   ]
  },
  {
   "cell_type": "code",
   "execution_count": null,
   "metadata": {},
   "outputs": [],
   "source": []
  },
  {
   "cell_type": "markdown",
   "metadata": {},
   "source": [
    "<p style=\"text-align:right;direction:rtl;\">\n",
    " כעת ענו על השאלה הקודמת באמצעות הפונקציה שכתבתם בסעיף זה, כלומר כתבו פונקציה שמשתמשת בפונקציה המחזירה ערך בוליאני ומדפיסה בהתאם להוראת מהסעיף הקודם.<br>רמז: <span style=\"direction: rtl; background: #000; text: #000\">השתמשו בערך ההחזרה של הפונקציה מהסעיף הקודם, בתוך if.</span></p>\n"
   ]
  },
  {
   "cell_type": "code",
   "execution_count": null,
   "metadata": {},
   "outputs": [],
   "source": []
  },
  {
   "cell_type": "markdown",
   "metadata": {},
   "source": [
    "<p style=\"text-align:right;direction:rtl;\">כעת נרחיב את מערכת הבנק שלנו.<br>נניח כי לכל לקוח בבנק יש בחשבון הבנק 500 ש\"ח.<br>באמצעות הפוקנציות הקודמות שכתבנו נממש את התוכנית הבאה:<br><ul style=\"text-align:right; direction:rtl;\"><li>נבקש מהמשתמש שם משתמש וסיסמה.</li><li>נאמת את שם המשתמש והסיסמה מול מחולל הסיסמאות. אם האימות הצליח נשאל מהו הסכום המבוקש למשיכה. אחרת נכתוב כי הזיהוי נכשל.</li><li>כיון שלמשתמש יש 500 ש\"ח בחשבון, עלינו לוודא שהסכום לא גבוה מ-500 ש\"ח. אם הסכום אכן גבוה מ-500 ש\"ח נדפיס \"לא ניתן למשוך מעבר ליתרה\".</li><li>כמו כן, עלינו לוודא כי הסכום אינו שלילי או 0. במקרה זה נדפיס \"סכום למשיכה אינו חוקי\".<li>אם הסכום חוקי, נדפיס \"אנא משוך את כספך על סך (הסכום שהוקש). יתרתך הינה: (היתרה שנשארה)\"</li></ul></p>"
   ]
  },
  {
   "cell_type": "markdown",
   "metadata": {},
   "source": [
    "<p style=\"text-align:right;direction:rtl\">ציירו תחילה על דף תרשים זרימה של איך הולך להיראות הקוד - תרשים מעויינים ללא קוד.\n",
    "זה יעזור לכם במימוש.</p"
   ]
  },
  {
   "cell_type": "markdown",
   "metadata": {},
   "source": [
    "<p style=\"text-align:right;direction:rtl;\">להלן דוגמאות:</p><br><samp>Insert username:<br>'stam'<br>Insert password:<br>'matsXXXX'<br>Login succeded. How much you'd like to draw?<br>200<br>Please take your money (200NIS). your balance is: 300NIS</samp>"
   ]
  },
  {
   "cell_type": "markdown",
   "metadata": {},
   "source": [
    "<p style=\"text-align:right;direction:rtl;\">דוגמא נוספת:</p><br><samp>Insert username:<br>'stam'<br>Insert password:<br>'mats'<br>Login failed.</samp>"
   ]
  },
  {
   "cell_type": "markdown",
   "metadata": {},
   "source": [
    "<p style=\"text-align:right;direction:rtl;\">דוגמא למשיכה לא חוקית:</p><br><samp>Insert username:<br>'stam'<br>Insert password:<br>'matsXXXX'<br>Login succeded. How much you'd like to draw?<br>600<br>Cannot withdraw above balance.</samp>"
   ]
  },
  {
   "cell_type": "markdown",
   "metadata": {},
   "source": [
    "<p style=\"text-align:right;direction:rtl;\">דוגמא למשיכה לא חוקית:</p><br><samp>Insert username:<br>'stam'<br>Insert password:<br>'matsXXXX'<br>Login succeded. How much you'd like to draw?<br>0<br>Invalid amount.</samp>"
   ]
  },
  {
   "cell_type": "markdown",
   "metadata": {},
   "source": [
    "# <p style=\"text-align:right;direction:rtl;\">שעון עולמי</p>"
   ]
  },
  {
   "cell_type": "markdown",
   "metadata": {},
   "source": [
    "<p style=\"text-align:right;direction:rtl;\">בשאלה זו נכתוב גרסה של שעון עולמי התומך ב-4 איזורי זמן:<br><ul style=\"text-align:right;direction:rtl;\"><li>TOKYO - עבור טוקיו, יפן.</li><li>LONDON - עבור לונדון, אנגליה.</li><li>TLV - עבור תל אביב, ישראל.</li><li>NY - עבור ניו יורק, ארצות הברית.</li></ul>"
   ]
  },
  {
   "cell_type": "markdown",
   "metadata": {},
   "source": [
    "<p style=\"text-align:right;direction:rtl;\">השעון שלנו בתרגיל זה הוא שעון 24 שעות בפורמט HH:MM.</p><br><p style=\"text-align:right;direction:rtl;\">תחילה, כתבו פונקציה המקבלת את השעה בפורמט HH:MM, ומקבלת את מספר השעות שיש להוסיף או להוריד מהשעה הנתונה, ומחזירה את השעה המעודכנת.</p><samp style=\"text-align:left;direction:ltr;\">time_shift(\"08:44\",1)<br>\"09:44\"<br>time_shift(\"07:31\",-2)<br>\"05:31\"</samp><br><p style=\"text-align:right;direction:rtl;\">כמו כן עליכם לוודא שמוכנסת שעה חוקית, ולהדפיס שגיאה אם לא:</p><br><samp>time_shift(\"32:12\",4)<br>\"Invalid time given\"</samp><br><p style=\"text-align:right;direction:rtl;\">בנוסף, עליכם לתמוך במעברים בין יממות. כלומר עליכם לבצע נכון פעולות מסוג זה:</p><br><samp>time_shift(\"23:30\",2)<br>\"01:30\"<br>time_shift(\"04:13\",-5)<br>\"23:13\"</samp>"
   ]
  },
  {
   "cell_type": "markdown",
   "metadata": {},
   "source": [
    "## <p style=\"text-align:right;direction:right;\">רמזים</p>"
   ]
  },
  {
   "cell_type": "markdown",
   "metadata": {},
   "source": [
    "<p style=\"text-align:right;direction:rtl;\">פונקציות שימושיות:<span style=\"direction: rtl; background: #000; text: #000\"><br>split - (מתודה של string, השתמשו ב-str.split? כדי לקרוא עליה).<br> האופרטור % (מודולו) - חשבו עם איזה מספר צריך לעשות מודולו. </span>\n",
    "   "
   ]
  },
  {
   "cell_type": "markdown",
   "metadata": {},
   "source": []
  },
  {
   "cell_type": "markdown",
   "metadata": {},
   "source": [
    "ממיר זמן:\n",
    "נכתוב פונקציה שמקבלת את השעה בשני ארגומנטים (שעה,דקות) ואיזור זמן מבין:\n",
    "תל אביב- TLV\n",
    "לונדון - LONDON\n",
    "ניו יורק ארה\"ב - NY\n",
    "טוקיו - TOKYO\n",
    "\n",
    "אם נקבל תל אביב, נדפיס את השעה בתוספת 3 שעות (זכרו ששעון הוא מעגלי, כלומר אם השעה 23 ונבקש את השעה בישראל נחזיר 2)\n",
    "\n",
    "אם נקבל ניו יורק נחזיר את השעה פחות 4\n",
    "\n",
    "אם נקבל טוקיו נחזיר את השעה ועוד 9 \n",
    "\n",
    "בכל מקרה אחרת נחזיר את השעה כמו שקיבלנו אותה\n"
   ]
  },
  {
   "cell_type": "code",
   "execution_count": null,
   "metadata": {},
   "outputs": [],
   "source": []
  },
  {
   "cell_type": "markdown",
   "metadata": {},
   "source": [
    "כתבו פונקציה שמקבלת 2 רשימות שונות \n",
    "מדפיסה\n",
    "\"same length\"\n",
    "אם הן באותו אורך.\n",
    "ואחרת\n",
    "\"not same length\"\n",
    "\n",
    "אם קיבלנו רשימה באורך 0 - תודפס\n",
    "\"got empty list\"\n",
    "\n",
    "אם קיבלנו 2 רשימות ריקות אז נדפיס\n",
    "\"got empty list\"\n",
    "\"got empty list\"\n",
    "\"same length\""
   ]
  },
  {
   "cell_type": "code",
   "execution_count": null,
   "metadata": {},
   "outputs": [],
   "source": []
  },
  {
   "cell_type": "markdown",
   "metadata": {},
   "source": [
    "כעת אחרי שלמדנו על רשימות ועל האופרטור\n",
    "in\n",
    "נרצה לשכלל את הבנק שלנו\n",
    "לבנק שלנו יוכלו לגשת רק מס לקוחות מצומצם שיוגדר ברשימה\n",
    "הגדירו רשימה של שמות של לקוחות, שרק עבור לקוח מהרשימה יתאפשר החיבור, ועל כל לקוח אחר הבנק יכתוב\n",
    "\"you are not customer of the bank\""
   ]
  },
  {
   "cell_type": "code",
   "execution_count": null,
   "metadata": {},
   "outputs": [],
   "source": []
  },
  {
   "cell_type": "markdown",
   "metadata": {},
   "source": [
    "נתאמן על \n",
    "indexing\n",
    "\n",
    "כתבו פונקציה שמקבלת רשימה של רשימות\n",
    "אם הרשימה לא באורך 6 הפונקציה תדפיס\n",
    "\"only lists of length 6\"\n",
    "\n",
    "הפונקציה תדפיס \n",
    "\"yes!\"\n",
    "אם:\n",
    "    אורך הרשימה במקום ה-0 שווה לאורך הרשימה במקום ה-4\n",
    "    או\n",
    "    אורך הרשימה במקום ה3 שווה לאורך הרשימה במקום ה-2 וה-1\n",
    "    או\n",
    "    אורך הרשימה במקום ה5 שווה ל-3\n",
    "    \n",
    "אם כמה תנאים מתקיימים בו זמנית, הפונקציה תדפיס עבור כל תנאי שמתקיים\n",
    "(חשבו איך לכתוב את זה)\n",
    "לדוגמא עבור:\n",
    "multi = [[0],[1],[2],[3],[4],[5]]\n",
    "כל התנאים מתקיימים - נדפיס 3 פעמים\n",
    "\n",
    "כתבו לפחות 5 דוגמאות שונות שמדגימות:\n",
    "בלי הדפסות\n",
    "הדפסה אחת\n",
    "שתי הדפסות\n",
    "שלוש הדפסות\n"
   ]
  },
  {
   "cell_type": "code",
   "execution_count": null,
   "metadata": {},
   "outputs": [],
   "source": []
  },
  {
   "cell_type": "markdown",
   "metadata": {},
   "source": [
    "נתאמן על פעולות של מחרוזות"
   ]
  },
  {
   "cell_type": "markdown",
   "metadata": {},
   "source": [
    "\"פונקציית גיבוב\""
   ]
  },
  {
   "cell_type": "code",
   "execution_count": null,
   "metadata": {},
   "outputs": [],
   "source": []
  }
 ],
 "metadata": {
  "kernelspec": {
   "display_name": "Python 3",
   "language": "python",
   "name": "python3"
  },
  "language_info": {
   "codemirror_mode": {
    "name": "ipython",
    "version": 3
   },
   "file_extension": ".py",
   "mimetype": "text/x-python",
   "name": "python",
   "nbconvert_exporter": "python",
   "pygments_lexer": "ipython3",
   "version": "3.7.1"
  }
 },
 "nbformat": 4,
 "nbformat_minor": 2
}
