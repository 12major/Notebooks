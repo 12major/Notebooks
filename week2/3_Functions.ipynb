{
 "cells": [
  {
   "cell_type": "markdown",
   "metadata": {},
   "source": [
    "<img src=\"images/logo.png\" alt=\"לוגו של מיזם לימוד הפייתון. נחש מצויר בצבעי צהוב וכחול, הנע בין האותיות של שם הקורס: לומדים פייתון. הסלוגן המופיע מעל לשם הקורס הוא מיזם לימוד תכנות בחינם ובעברית.\">"
   ]
  },
  {
   "cell_type": "markdown",
   "metadata": {},
   "source": [
    "# <p style=\"text-align: right; direction: rtl; float: right;\">פונקציות</p>"
   ]
  },
  {
   "cell_type": "markdown",
   "metadata": {},
   "source": [
    "## <p style=\"text-align: right; direction: rtl; float: right; clear: both;\">הגדרה</p>"
   ]
  },
  {
   "cell_type": "markdown",
   "metadata": {},
   "source": [
    "<p style=\"text-align: right; direction: rtl; float: right; clear: both;\">\n",
    "<dfn>פונקציה</dfn> היא קטע קוד שפותר בעיה ספציפית.<br>\n",
    "כל פונקציה היא מעין רכיב בתוכנה שלנו שנושאת שם מסוים. אפשר להסתכל על פונקציה כקטע קוד שמממש משימה מוגדרת היטב.<br>\n",
    "לדוגמה, פונקציה יכולה להיות \"המר טמפרטורה מפרנהייט לצלזיוס\".<br> \n",
    "במובן הזה, פונקציות הן כמו תוכניות קטנות – יש להן קלט, הן עושות תהליך מסוים ומחזירות תוצאה מסוימת.<br>\n",
    "אם ניקח את הפונקציה המדוברת מלמעלה, אפשר לתאר אותה כתוכנית קטנה באופן הזה:\n",
    "</p>\n",
    "<ul style=\"text-align: right; direction: rtl; float: right; clear: both;\">\n",
    "    <li><strong>קלט</strong> – טמפרטורה מסוימת</li>\n",
    "    <li><strong>תהליך</strong> – המרת הטמפרטורה לצלזיוס</li>\n",
    "    <li><strong>פלט</strong> – החזרת התוצאה</li>\n",
    "</ul>\n",
    "<p style=\"text-align: right; direction: rtl; float: right; clear: both;\">\n",
    "ניתן להסתכל על פונקציות כאבני בניין של תוכנה – כל פונקציה שואפת למלא תפקיד מסוים בתוכנה, ובעזרת הרבה אבני בניין שכאלו אפשר לבנות תוכנה מורכבת.<br>\n",
    "התוכנות שבהן אתם משתמשים ביום־יום, בדרך־כלל מורכבות מכמות רבה מאוד של פונקציות. \n",
    "</p>"
   ]
  },
  {
   "cell_type": "markdown",
   "metadata": {},
   "source": [
    "## <p style=\"text-align: right; direction: rtl; float: right;\">דוגמאות</p>"
   ]
  },
  {
   "cell_type": "markdown",
   "metadata": {},
   "source": [
    "### <p style=\"text-align: right; direction: rtl; float: right;\">רעיונות לפונקציות</p>"
   ]
  },
  {
   "cell_type": "markdown",
   "metadata": {},
   "source": [
    "<ul style=\"text-align: right; direction: rtl; float: right; clear: both;\">\n",
    "    <li>קבל שני מספרים ופועלת חשבון, והחזר את התוצאה.</li>\n",
    "    <li>בהנתן שני מספרים, בדוק מי הגדול מביניהם והחזר אותו.</li>\n",
    "    <li>בהנתן שם משתנה, בדוק מה הסוג שלו (נשמע מוכר?)</li>\n",
    "    <li>בדוק מה התחזית ב־<em>n</em> הימים הקרובים והחזר את התוצאה.</li>\n",
    "</ul>"
   ]
  },
  {
   "cell_type": "markdown",
   "metadata": {},
   "source": [
    "## <p style=\"text-align: right; direction: rtl; float: right;\">כתיבת פונקציה</p>"
   ]
  },
  {
   "cell_type": "markdown",
   "metadata": {},
   "source": [
    "<p style=\"text-align: right; direction: rtl; float: right; clear: both;\">\n",
    "דרך קלה לקבל הערכה גסה של כמה קלוריות יש במוצר מזון, היא זו:\n",
    "</p>"
   ]
  },
  {
   "cell_type": "markdown",
   "metadata": {},
   "source": [
    "<ol style=\"text-align: right; direction: rtl; float: right; clear: both;\">\n",
    "    <li>מצאו את כמות הפחמימות במוצר, והכפילו ב־4.</li>\n",
    "    <li>מצאו את כמות השומן במוצר, והכפילו ב־9.</li>\n",
    "    <li>מצאו את כמות החלבון במוצר, והכפילו ב־4.</li>\n",
    "    <li>כמות הקלוריות במוצר היא חיבור הערכים שקיבלתם בשלבים הקודמים.</li>\n",
    "</ol>"
   ]
  },
  {
   "cell_type": "markdown",
   "metadata": {},
   "source": [
    "<div class=\"align-center\" style=\"display: flex; text-align: right; direction: rtl; clear: both;\">\n",
    "    <div style=\"display: flex; width: 10%; float: right; clear: both;\">\n",
    "        <img src=\"images/exercise.svg\" style=\"height: 50px !important;\" alt=\"תרגול\"> \n",
    "    </div>\n",
    "    <div style=\"width: 90%\">\n",
    "        <p style=\"text-align: right; direction: rtl; float: right; clear: both;\">\n",
    "        <strong>תרגול</strong>:\n",
    "            כתבו תוכנית (ללא פונקציות) המקבלת מהמשתמש את ערכי הפחמימות, השומן והחלבון במוצר.<br>\n",
    "            הדפיסו למשתמש את כמות הקלוריות במוצר.<br>\n",
    "            פתרו את התרגיל לפני שתמשיכו הלאה.\n",
    "        </p>\n",
    "    </div>\n",
    "</div>"
   ]
  },
  {
   "cell_type": "markdown",
   "metadata": {},
   "source": [
    "<p style=\"text-align: right; direction: rtl; float: right; clear: both;\">\n",
    "והנה הפתרון לשאלה מלמעלה (אזהרת ספוילר!)</p>"
   ]
  },
  {
   "cell_type": "code",
   "execution_count": null,
   "metadata": {},
   "outputs": [],
   "source": [
    "carbohydrate = int(input(\"How many carbohydrate does this product have?: \"))\n",
    "fat = int(input(\"How many fat does this product have?: \"))\n",
    "protein = int(input(\"How many protein does this product have?: \"))\n",
    "\n",
    "total_calories = carbohydrate * 4 + fat * 9 + protein * 4\n",
    "print(\"This product have \" + str(total_calories) + \" calories in it.\")"
   ]
  },
  {
   "cell_type": "markdown",
   "metadata": {},
   "source": [
    "### <p style=\"text-align: right; direction: rtl; float: right;\">הגדרת הפונקציה</p>"
   ]
  },
  {
   "cell_type": "markdown",
   "metadata": {},
   "source": [
    "<p style=\"text-align: right; direction: rtl; float: right; clear: both;\">\n",
    "נכניס את הפתרון לתרגיל לתוך פונקציה.<br>\n",
    "אל דאגה, אני אסביר בקרוב מה קורה כאן. בנתיים אני בונה קצת מתח.\n",
    "</p>"
   ]
  },
  {
   "cell_type": "code",
   "execution_count": null,
   "metadata": {},
   "outputs": [],
   "source": [
    "def calculate_calories():\n",
    "    carbohydrate = int(input(\"How many carbohydrate does this product have?: \"))\n",
    "    fat = int(input(\"How many fat does this product have?: \"))\n",
    "    protein = int(input(\"How many protein does this product have?: \"))\n",
    "\n",
    "    calories = carbohydrate * 4 + fat * 9 + protein * 4\n",
    "    print(\"This product have \" + str(calories) + \" calories in it.\")"
   ]
  },
  {
   "cell_type": "markdown",
   "metadata": {},
   "source": [
    "<p style=\"text-align: right; direction: rtl; float: right; clear: both;\">\n",
    "בתא שממש פה מעלי, <dfn>הגדרנו פונקציה</dfn> שנקראת <var>calculate_calories</var>.<br>\n",
    "לפני שנכנס לפרטים אודות ההגדרה ומה היא עושה, הריצו את התא, ונסו לשים אצבע על תופעה משונה בתא הזה...<br>\n",
    "ובכן, התופעה המשונה היא שבניגוד לפתרון התרגיל שלא בעזרת פונקציה, התא בו כתובה הפונקציה לא עושה כלום!\n",
    "</p>"
   ]
  },
  {
   "cell_type": "markdown",
   "metadata": {},
   "source": [
    "### <p style=\"text-align: right; direction: rtl; float: right;\">קריאה לפונקציה</p>"
   ]
  },
  {
   "cell_type": "markdown",
   "metadata": {},
   "source": [
    "<p style=\"text-align: right; direction: rtl; float: right; clear: both;\">\n",
    "ובכן, זה מכיוון שפונקציות לא פועלות מיד אחרי שמגדירים אותן.<br>\n",
    "בניגוד לג'וקים, צריך ממש לקרוא להן אקטיבית כדי שיבואו.<br>\n",
    "נעשה את זה, לפחות בנתיים, על־ידי כתיבת השם של הפונקציה ואז סוגריים עגולים ריקים:\n",
    "</p>"
   ]
  },
  {
   "cell_type": "code",
   "execution_count": null,
   "metadata": {},
   "outputs": [],
   "source": [
    "calculate_calories()"
   ]
  },
  {
   "cell_type": "markdown",
   "metadata": {},
   "source": [
    "<p style=\"text-align: right; direction: rtl; float: right; clear: both;\">\n",
    "מה שעשינו נקרא <dfn>קריאה לפונקציה</dfn>, וזו למעשה הדרך לגרום לתוכן של הפונקציה לרוץ.<br>\n",
    "זה ממש כמו להפעיל מעין תוכנה קטנה בתוך התוכנה שלנו.\n",
    "</p>"
   ]
  },
  {
   "cell_type": "markdown",
   "metadata": {},
   "source": [
    "<p style=\"text-align: right; direction: rtl; float: right; clear: both;\">\n",
    "מזל טוב! יש לנו פונקציה עובדת.<br>\n",
    "זה אפילו לא היה מאוד קשה:\n",
    "</p>\n",
    "<ol style=\"text-align: right; direction: rtl; float: right; clear: both;\">\n",
    "    <li>הגדרנו פונקציה בעזרת הקוד <code dir=\"ltr\" style=\"direction: ltr;\">def function_name():</code>, כש־<var>function_name</var> זה השם של הפונקציה.</li>\n",
    "    <li>מיד אחרי ראש הפונקציה, כתבנו את התוכן של הפונקציה. שמרנו על הזחה של גוף הפונקציה.</li>\n",
    "    <li>קראנו לפונקציה על־ידי ציון השם שלה, ואז סוגריים. זה גרם לכך שגוף הפונקציה ירוץ.</li>\n",
    "</ol>"
   ]
  },
  {
   "cell_type": "markdown",
   "metadata": {},
   "source": [
    "### <p style=\"text-align: right; direction: rtl; float: right;\">טרמינולוגיה</p>"
   ]
  },
  {
   "cell_type": "markdown",
   "metadata": {},
   "source": [
    "<p style=\"text-align: right; direction: rtl; float: right; clear: both;\">\n",
    "כדי לזקק את הרעיון, ננסה להגדיר פונקציה פשוטה יחסית, ונקרא לה מיד אחרי כדי להפעיל אותה.<br>\n",
    "שימו לב למינוחים החשובים: <em>כותרת הפונקציה</em>, <em>גוף הפונקציה</em>, <em>שם הפונקציה</em> וה<em>קריאה לפונקציה</em>.\n",
    "</p>"
   ]
  },
  {
   "cell_type": "code",
   "execution_count": null,
   "metadata": {},
   "outputs": [],
   "source": [
    "#    שם הפונקציה\n",
    "def hello_world():               # Function Header / כותרת הפונקציה\n",
    "    print(\"Hello World!\")        # גוף הפונקציה (מוזח!)\n",
    "\n",
    "hello_world()                    # הקריאה לפונקציה"
   ]
  },
  {
   "cell_type": "markdown",
   "metadata": {},
   "source": [
    "### <p style=\"text-align: right; direction: rtl; float: right;\">פרמטרים</p>"
   ]
  },
  {
   "cell_type": "markdown",
   "metadata": {},
   "source": [
    "<p style=\"text-align: right; direction: rtl; float: right; clear: both;\">\n",
    "נהוג להגיד שכל פונקציה צריכה להיות אחראית על דבר אחד בלבד.<br>\n",
    "במילים אחרות – כמה שפחות עבודה בתוך כל פונקציה, וכמה שיותר התמקדות במה שהיא <em>באמת</em> צריכה לעשות, כך יטב.<br>\n",
    "אחד הדברים הראשונים שנוח לנו להוציא מהפונקציה שלנו החוצה, זה הקלט מהמשתמש, שביצענו בתוך הפונקציה:\n",
    "</p>"
   ]
  },
  {
   "cell_type": "code",
   "execution_count": null,
   "metadata": {},
   "outputs": [],
   "source": [
    "def calculate_calories():\n",
    "    calories = carbohydrate * 4 + fat * 9 + protein * 4\n",
    "    print(\"This product have \" + str(calories) + \" calories in it.\")\n",
    "\n",
    "\n",
    "carbohydrate = int(input(\"How many carbohydrate does this product have?: \"))\n",
    "fat = int(input(\"How many fat does this product have?: \"))\n",
    "protein = int(input(\"How many protein does this product have?: \"))\n",
    "calculate_calories()"
   ]
  },
  {
   "cell_type": "markdown",
   "metadata": {},
   "source": [
    "<p style=\"text-align: right; direction: rtl; float: right; clear: both;\">\n",
    "הקוד הזה אמנם יעבוד, אבל הוא נחשב רעיון רע מאוד.<br>\n",
    "הוא מפר את העיקרון שהתחלנו איתו – פונקציות אמורות להיות יחידה עצמאית, תוכניות קטנות וארוזות. הן אמורות לעבוד עם כמה שפחות תלות בסביבה החיצונית.<br>\n",
    "בתוך הפונקציה, אנחנו מתייחסים למשתנים <var>fat</var>, <var>protein</var> ו־<var>carbohydrate</var>, שאינם חלק מהפונקציה.<br>\n",
    "אף אחד לא מבטיח לי שכשמישהו יקרא לפונקציה <var>calculate_calories</var>, המשתנים הללו יהיו מוגדרים כחלק מגוף התוכנית.<br>\n",
    "במקרה כזה, לפונקציה לא יהיה מאיפה לקחת את הערכים והיא תקרוס.\n",
    "</p>"
   ]
  },
  {
   "cell_type": "markdown",
   "metadata": {},
   "source": [
    "<p style=\"text-align: right; direction: rtl; float: right; clear: both;\">\n",
    "הדרך להתמודד עם הבעיה הזו הוא לחייב את הפונקציה לקבל באופן מסודר את הנתונים האלו מבחוץ.<br>\n",
    "נראה דוגמה:\n",
    "</p>"
   ]
  },
  {
   "cell_type": "code",
   "execution_count": null,
   "metadata": {},
   "outputs": [],
   "source": [
    "def calculate_calories(carbohydrate, fat, protein):\n",
    "    calories = carbohydrate * 4 + fat * 9 + protein * 4\n",
    "    print(\"This product have \" + str(calories) + \" calories in it.\")"
   ]
  },
  {
   "cell_type": "markdown",
   "metadata": {},
   "source": [
    "<p style=\"text-align: right; direction: rtl; float: right; clear: both;\">\n",
    "שימו לב לכותרת הפונקציה.<br>\n",
    "הכנסנו לשם את שמות 3 המשתנים, אותם אנחנו צריכים בשביל להריץ את הפונקציה.<br>\n",
    "אם תרצו, תוכלו להסתכל על זה כ\"הקלט שנדרש עבור הפונקציה\", או במקרה שלנו: \"הנתונים שדרושים כדי לחשב את כמות הקלוריות במוצר\".<br>\n",
    "החלק הזה שהוספנו לפונקציה נקרא <dfn>הפרמטרים של הפונקציה</dfn>: כל אחד מ־<var>carbohydrate</var>, <var>fat</var> ו־<var>protein</var> הוא פרמטר.<br>\n",
    "השם התיאורטי והמגונדר שמתכנתים משתמשים בו לצירוף של שם הפונקציה עם שמות הפרמטרים שלה נקרא <em>חתימת הפונקציה</em>.\n",
    "</p>"
   ]
  },
  {
   "cell_type": "markdown",
   "metadata": {},
   "source": [
    "<p style=\"text-align: right; direction: rtl; float: right; clear: both;\">\n",
    "איך תראה הקריאה לפונקציה עכשיו?<br>\n",
    "אותו דבר, רק שבתוך הסוגריים נשים את הערכים שעבורם נרצה לחשב את כמות הקלוריות, לפי הסדר של הפרמטרים.<br>\n",
    "הערכים שנעביר בתוך הקריאה לפונקציה נקראים <dfn>ארגומנטים</dfn>.\n",
    "</p>"
   ]
  },
  {
   "cell_type": "code",
   "execution_count": null,
   "metadata": {},
   "outputs": [],
   "source": [
    "calculate_calories(50, 90, 20)"
   ]
  },
  {
   "cell_type": "markdown",
   "metadata": {},
   "source": [
    "<p style=\"text-align: right; direction: rtl; float: right; clear: both;\">\n",
    "אם כך, ארוחה בה יש 50 גרם פחמימות, 90 גרם שומן ו־20 גרם חלבון, מכילה כ־1090 קלוריות.<br>\n",
    "</p>"
   ]
  },
  {
   "cell_type": "markdown",
   "metadata": {},
   "source": [
    "<p style=\"text-align: right; direction: rtl; float: right; clear: both;\">\n",
    "נסכם:\n",
    "</p>"
   ]
  },
  {
   "cell_type": "code",
   "execution_count": null,
   "metadata": {},
   "outputs": [],
   "source": [
    "#       שם הפונקציה\n",
    "#                               פרמטרים\n",
    "def calculate_calories(carbohydrate, fat, protein):  # כותרת הפונקציה\n",
    "    calories = carbohydrate * 4 + fat * 9 + protein * 4\n",
    "    print(\"This product have \" + str(calories) + \" calories in it.\")\n",
    "\n",
    "\n",
    "product_carbohydrate = int(input(\"How many carbohydrate does this product have?: \"))\n",
    "product_fat = int(input(\"How many fat does this product have?: \"))\n",
    "product_protein = int(input(\"How many protein does this product have?: \"))\n",
    "#                                        ארגומנטים\n",
    "calculate_calories(product_carbohydrate, product_fat, product_protein)"
   ]
  },
  {
   "cell_type": "markdown",
   "metadata": {},
   "source": [
    "<div class=\"align-center\" style=\"display: flex; text-align: right; direction: rtl;\">\n",
    "    <div style=\"display: flex; width: 10%; float: right; \">\n",
    "        <img src=\"images/warning.png\" style=\"height: 50px !important;\" alt=\"אזהרה!\"> \n",
    "    </div>\n",
    "    <div style=\"width: 90%\">\n",
    "        <p style=\"text-align: right; direction: rtl;\">\n",
    "            מותר שבתוך פונקציה יתקיים משתנה ששמו זהה למשתנה שנמצא מחוץ לפונקציה.<br>\n",
    "            מתכנתים רבים מעדיפים להמנע מהמצב כדי למנוע באגים:<br>עקבות בלבול של המתכנת בין שמות המשתנים הפונקציה תקרא את שם המשתנה שנמצא מחוץ לפונקציה.\n",
    "        </p>\n",
    "    </div>\n",
    "</div>"
   ]
  },
  {
   "cell_type": "markdown",
   "metadata": {},
   "source": [
    "### <p style=\"text-align: right; direction: rtl; float: right;\">ערך החזרה</p>"
   ]
  },
  {
   "cell_type": "markdown",
   "metadata": {},
   "source": [
    "<p style=\"text-align: right; direction: rtl; float: right; clear: both;\">\n",
    "אנחנו אמנם בהחלט משתפרים, אבל מתכנתים מנוסים עדיין יעקמו עלינו את האף.<br>\n",
    "כמו שאמרנו, פונקציה אמורה לעשות כמה שפחות, ולכן עדיף שהיא גם לא תדפיס בעצמה את הערך שחישבה.<br>\n",
    "היינו מעדיפים לקבל מהפונקציה פשוט את מספר הקלוריות שחישבנו, בלי טקסט מיותר.<br>\n",
    "</p>"
   ]
  },
  {
   "cell_type": "markdown",
   "metadata": {},
   "source": [
    "<p style=\"text-align: right; direction: rtl; float: right; clear: both;\">\n",
    "יש לצורת עבודה כזו יתרון נוסף – אם נרצה לעשות פעולה נוספת על התוצאה, כמו, נניח: \n",
    "</p>\n",
    "<ol style=\"text-align: right; direction: rtl; float: right; clear: both;\">\n",
    "    <li>לבדוק כמה זמן אנחנו צריכים ללכת כדי לשרוף את כמות הקלוריות הזו.</li>\n",
    "    <li>לבדוק כמה סופגניות היינו יכולים לאכול במקום הארוחה שחישבנו את כמות הקלוריות בה.</li>\n",
    "    <li>לחשב האם נמכרו השנה מספיק המבורגרים של מקדונלדס כדי להשיג אנרגיה המשתווה בעוצמתה לפצצה שנחתה על הירושימה.</li>\n",
    "</ol>"
   ]
  },
  {
   "cell_type": "markdown",
   "metadata": {},
   "source": [
    "<p style=\"text-align: right; direction: rtl; float: right; clear: both;\">\n",
    "אז בשלב הזה לא מובן כל־כך מה העניין הגדול.<br>\n",
    "בואו פשוט ננסה לגשת לערך <var>calories</var> שנמצא בתוך הפונקציה!\n",
    "</p>"
   ]
  },
  {
   "cell_type": "code",
   "execution_count": null,
   "metadata": {},
   "outputs": [],
   "source": [
    "def calculate_calories(carbohydrate, fat, protein):\n",
    "    calories = carbohydrate * 4 + fat * 9 + protein * 4\n",
    "\n",
    "calculate_calories(5, 30, 5)\n",
    "print(calories)"
   ]
  },
  {
   "cell_type": "markdown",
   "metadata": {},
   "source": [
    "<p style=\"text-align: right; direction: rtl; float: right; clear: both;\">\n",
    "מממ, זה לא עבד כמצופה.<br>\n",
    "הסיבה שלא הצלחנו לקבל את התוכן של המשתנה <var>calories</var> מתוך הפונקציה, הוא העיקרון שפונקציה היא קופסה סגורה.<br>\n",
    "בגלל העקרון הזה, משתנים שמוגדרים בתוך הפונקציה זמינים אך ורק בתוכה, ונעלמים כשהיא מסיימת לרוץ.<br>\n",
    "</p>"
   ]
  },
  {
   "cell_type": "markdown",
   "metadata": {},
   "source": [
    "<p style=\"text-align: right; direction: rtl; float: right; clear: both;\">\n",
    "אז איך בכל זאת אפשר לקבל את תוצאת החישוב שלנו מתוך פונקציה?<br>\n",
    "הביטו על הפונקציה הבאה:\n",
    "</p>"
   ]
  },
  {
   "cell_type": "code",
   "execution_count": null,
   "metadata": {},
   "outputs": [],
   "source": [
    "def calculate_calories(carbohydrate, fat, protein):\n",
    "    calories = carbohydrate * 4 + fat * 9 + protein * 4\n",
    "    return calories"
   ]
  },
  {
   "cell_type": "markdown",
   "metadata": {},
   "source": [
    "<p style=\"text-align: right; direction: rtl; float: right; clear: both;\">\n",
    "עוד לפני שאתייחס למילת המפתח החדשה <code>return</code>, שימו לב כמה נעים לקרוא את הפונקציה הזו.<br>\n",
    "הפונקציה מתמקדת ממש אך ורק במה שהיא אמורה לעשות, ואפשר להבין בקלות מה המטרה שלה ומה היא מבצעת.<br>\n",
    "גם מתכנת שכלל לא מכיר את המטרה שלנו והתרגיל ממנו התחלנו, יכול במבט חטוף להבין מה ניסינו לעשות.\n",
    "</p>"
   ]
  },
  {
   "cell_type": "markdown",
   "metadata": {},
   "source": [
    "<p style=\"text-align: right; direction: rtl; float: right; clear: both;\">\n",
    "ננסה לקרוא לפונקציה החדשה שהגדרנו, ונראה מה יקרה:\n",
    "</p>"
   ]
  },
  {
   "cell_type": "code",
   "execution_count": null,
   "metadata": {},
   "outputs": [],
   "source": [
    "calculate_calories(50, 17.5, 36)"
   ]
  },
  {
   "cell_type": "markdown",
   "metadata": {},
   "source": [
    "<p style=\"text-align: right; direction: rtl; float: right; clear: both;\">\n",
    "מעניין! הפונקציה ממש <em>החזירה לנו ערך</em>.<br>\n",
    "זה אומר שהצלחנו לקבל מתוך הפונקציה נתון שממש אפשר לעבוד איתו.<br>\n",
    "בואו נשחק עם זה:\n",
    "</p>"
   ]
  },
  {
   "cell_type": "code",
   "execution_count": null,
   "metadata": {},
   "outputs": [],
   "source": [
    "print(\"Calories in Hamburger: \" + str(calculate_calories(50, 17.5, 36)))\n",
    "print(\"Calories in 2 Hamburgers: \" + str(2 * calculate_calories(50, 17.5, 36)))"
   ]
  },
  {
   "cell_type": "markdown",
   "metadata": {},
   "source": [
    "<p style=\"text-align: right; direction: rtl; float: right; clear: both;\">\n",
    "אם זה עוזר לתפיסת הנושא עבורכם, תוכלו לדמיין את מה שקורה מאחורי הקלעים:<br>\n",
    "פייתון רואה קריאה לפונקציה. הוא מעביר את הארגומנטים ששלחתם לתוך הפרמטרים שמופיעים בכותרת הפונקציה.<br>\n",
    "כשהפונקציה מחזירה ערך, הקריאה לפונקציה ממש מתחלפת בתוצאתה של הקריאה לפונקציה.<br>\n",
    "כך ששלב הביניים, לפני ההדפסה למסך, נראה מבחינת פייתון ממש כך (והשוו עם המשבצת הקודמת):\n",
    "</p>"
   ]
  },
  {
   "cell_type": "code",
   "execution_count": null,
   "metadata": {},
   "outputs": [],
   "source": [
    "print(\"Calories in Hamburger: \" + str(501.5))\n",
    "print(\"Calories in 2 Hamburgers: \" + str(2 * 501.5))"
   ]
  },
  {
   "cell_type": "markdown",
   "metadata": {},
   "source": [
    "<p style=\"text-align: right; direction: rtl; float: right; clear: both;\">\n",
    "או אפילו בצורה קריאה יותר – נשמור את הערך שהפונקציה החזירה לנו בצד, ונשתמש בו:\n",
    "</p>"
   ]
  },
  {
   "cell_type": "code",
   "execution_count": null,
   "metadata": {},
   "outputs": [],
   "source": [
    "calories_in_hamburger = calculate_calories(50, 17.5, 36)\n",
    "print(\"Calories in Hamburger: \" + str(calories_in_hamburger))\n",
    "print(\"Calories in 2 Hamburgers: \" + str(2 * calories_in_hamburger))"
   ]
  },
  {
   "cell_type": "markdown",
   "metadata": {},
   "source": [
    "<p style=\"text-align: right; direction: rtl; float: right; clear: both;\">\n",
    "זה הזמן לראות את התוכנית שלנו מוכנה, עם כל הטרמינולוגיה עליה:\n",
    "</p>"
   ]
  },
  {
   "cell_type": "code",
   "execution_count": null,
   "metadata": {},
   "outputs": [],
   "source": [
    "#       שם הפונקציה\n",
    "#                               פרמטרים\n",
    "def calculate_calories(carbohydrate, fat, protein):  # כותרת הפונקציה\n",
    "    calories = carbohydrate * 4 + fat * 9 + protein * 4\n",
    "    return calories  # ערך ההחזרה\n",
    "\n",
    "\n",
    "product_carbohydrate = int(input(\"How many carbohydrate does this product have?: \"))\n",
    "product_fat = int(input(\"How many fat does this product have?: \"))\n",
    "product_protein = int(input(\"How many protein does this product have?: \"))\n",
    "#                                     ארגומנטים\n",
    "cal = calculate_calories(product_carbohydrate, product_fat, product_protein)\n",
    "print(\"This product have \" + str(cal) + \" calories in it.\")"
   ]
  },
  {
   "cell_type": "markdown",
   "metadata": {},
   "source": [
    "### <p style=\"text-align: right; direction: rtl; float: right;\">עקרונות נוספים</p>"
   ]
  },
  {
   "cell_type": "markdown",
   "metadata": {},
   "source": [
    "<p style=\"text-align: right; direction: rtl; float: right; clear: both;\">\n",
    "העקרון האחרון שניגע בו הוא עקרון ההחזרה.<br>\n",
    "ברגע שפונקציה מגיעה לשורה בה כתוב <code>return</code>, היא תחזיר ערך ותסיים את ריצתה באותה שורה.<br>\n",
    "בואו נראה דוגמה:\n",
    "</p>"
   ]
  },
  {
   "cell_type": "code",
   "execution_count": null,
   "metadata": {},
   "outputs": [],
   "source": [
    "def give_me_numbers(number):\n",
    "    return number + 1\n",
    "    return number + 2\n",
    "    return number + 3\n",
    "\n",
    "print(give_me_numbers(5))"
   ]
  },
  {
   "cell_type": "markdown",
   "metadata": {},
   "source": [
    "<p style=\"text-align: right; direction: rtl; float: right; clear: both;\">\n",
    "במקרה הזה, הערך היחיד שחזר הוא 6.<br>\n",
    "הסיבה לכך היא שאחרי השורה <code>return number + 1</code>, הפונקציה החזירה ערך והפסיקה לרוץ.\n",
    "</p>"
   ]
  },
  {
   "cell_type": "markdown",
   "metadata": {},
   "source": [
    "### <p style=\"text-align: right; direction: rtl; float: right;\">דוגמה נוספת</p>"
   ]
  },
  {
   "cell_type": "markdown",
   "metadata": {},
   "source": [
    "<p style=\"text-align: right; direction: rtl; float: right; clear: both;\">\n",
    "לפניכם דוגמה של פונקציה שמחשבת את הערך המוחלט של מספר.<br>\n",
    "לצורך הדוגמה הזו, הערך המוחלט של מספר מוגדר כמרחק שלו מהמספר אפס.\n",
    "</p>"
   ]
  },
  {
   "cell_type": "code",
   "execution_count": null,
   "metadata": {},
   "outputs": [],
   "source": [
    "def absolute_value(number):\n",
    "    if number < 0:\n",
    "        number = number * -1\n",
    "    return number\n",
    "\n",
    "print(absolute_value(-5))"
   ]
  },
  {
   "cell_type": "markdown",
   "metadata": {},
   "source": [
    "<div class=\"align-center\" style=\"display: flex; text-align: right; direction: rtl; clear: both;\">\n",
    "    <div style=\"display: flex; width: 10%; float: right; clear: both;\">\n",
    "        <img src=\"images/exercise.svg\" style=\"height: 50px !important;\" alt=\"תרגול\"> \n",
    "    </div>\n",
    "    <div style=\"width: 90%\">\n",
    "        <p style=\"text-align: right; direction: rtl; float: right; clear: both;\">\n",
    "        <strong>תרגול</strong>:\n",
    "            כתבו פונקציה שמקבלת שני מספרים, ומחזירה את הגדול מביניהם.<br>\n",
    "            רוצים אתגר? פתרו את התרגיל ב־4 שורות.\n",
    "        </p>\n",
    "    </div>\n",
    "</div>"
   ]
  },
  {
   "cell_type": "markdown",
   "metadata": {},
   "source": [
    "### <p style=\"text-align: right; direction: rtl; float: right;\">מזהים?</p>"
   ]
  },
  {
   "cell_type": "markdown",
   "metadata": {},
   "source": [
    "<p style=\"text-align: right; direction: rtl; float: right; clear: both;\">\n",
    "יתכן שלא שמתם לב, אבל אתם כבר מכירים פונקציות מועילות!<br>\n",
    "לדוגמה, הפונקציה <code>print</code> שמטרתה להדפיס למסך הודעה שהיא מקבלת כארגומנט,<br>\n",
    "או הפונקציה <code>type</code> שמטרתה להחזיר את סוג המשתנה שהיא מקבלת כארגומנט.\n",
    "</p>"
   ]
  },
  {
   "cell_type": "markdown",
   "metadata": {},
   "source": [
    "<p style=\"text-align: right; direction: rtl; float: right; clear: both;\">\n",
    "עכשיו, כשאתם כבר מבינים איך עובדות פונקציות, הגיע הזמן להכיר פונקציה חדשה: <code>len</code>.<br>\n",
    "הפונקציה הזו מקבלת מחרוזת – ומחזירה את האורך שלה.<br>\n",
    "בואו ננסה:\n",
    "</p>"
   ]
  },
  {
   "cell_type": "code",
   "execution_count": null,
   "metadata": {},
   "outputs": [],
   "source": [
    "print(len('hello world'))"
   ]
  },
  {
   "cell_type": "code",
   "execution_count": null,
   "metadata": {},
   "outputs": [],
   "source": [
    "# פתרו לפני שתריצו: מה יהיה הערך שיודפס? מה ההבדל בין האגפים?\n",
    "len('hello world') * 2 == len('hello world' * 2)"
   ]
  },
  {
   "cell_type": "markdown",
   "metadata": {},
   "source": [
    "## <div style=\"text-align: right; direction: rtl; float: right;\">מטרות<br><sub>או: למה לי להשתמש בפונקציות בכלל</sub></div>"
   ]
  },
  {
   "cell_type": "markdown",
   "metadata": {},
   "source": [
    "### <p style=\"text-align: right; direction: rtl; float: right;\">קְרִיאוּת</p>"
   ]
  },
  {
   "cell_type": "markdown",
   "metadata": {},
   "source": [
    "<p style=\"text-align: right; direction: rtl; float: right; clear: both;\">\n",
    "פונקציות מחלקות את הקוד שלנו לקטעים קטנים ובעלי שם, שיש מאחוריהם רעיון אחד שקל לקרוא ולתפוש.<br>\n",
    "החלוקה לאותן קטעים קטנים תאפשר לנו לעקוב טוב יותר אחרי כל חלק בתוכנית.<br>\n",
    "כשנרצה לערוך חלק מסוים בתוכנית במצב זה או אחר – יהיה לנו קל ומהיר לדעת איזה קטע בקוד צריך לשנות.\n",
    "</p>"
   ]
  },
  {
   "cell_type": "markdown",
   "metadata": {},
   "source": [
    "### <p style=\"text-align: right; direction: rtl; float: right; clear: both;\">מניעת חזרה</p>"
   ]
  },
  {
   "cell_type": "markdown",
   "metadata": {},
   "source": [
    "<p style=\"text-align: right; direction: rtl; float: right; clear: both;\">\n",
    "פונקציות עוזרות לנו למנוע מצבים שבהם היינו צריכים לכתוב קוד כמה פעמים.<br>\n",
    "זה מועיל מכיוון שזה מאפשר לנו להשתמש מאוד מהר בקוד שכבר כתבנו בעבר.<br>\n",
    "סיבה נוספת שיש להזכיר לחיוב, היא שתחזוקת הקוד משמעותית יותר קלה כשצריך לבצע שינויים במקום אחד מוגדר, ולא במקומות רבים ברחבי הקוד.\n",
    "</p>"
   ]
  },
  {
   "cell_type": "markdown",
   "metadata": {},
   "source": [
    "## <p style=\"align: right; direction: rtl; float: right; clear: both;\">מונחים</p>"
   ]
  },
  {
   "cell_type": "markdown",
   "metadata": {},
   "source": [
    "<dl style=\"text-align: right; direction: rtl; float: right; clear: both;\">\n",
    "<dt>כותרת הפונקציה</dt><dd>השורה הראשונה בהגדרת הפונקציה. מתחילה ב־<code>def</code>, וכוללת את שם הפונקציה ואת שמות הפרמטרים שלה.</dd>\n",
    "<dt>שם הפונקציה</dt><dd>שם שמתאר היטב את פעולתה של הפונקציה. אמור להתחיל בפעולה, כמו <var>get_account_number</var>.</dd>\n",
    "<dt>הפרמטרים</dt><dd>החלק בכותרת הפונקציה שבתוך הסוגריים. רשימה מופרדת בפסיקים של שמות המשתנים שימולאו בערכים מבחוץ, כדי שהפונקציה תוכל לבצע חישובים.</dd>\n",
    "<dt>גוף הפונקציה</dt><dd>החלק המוזח שאחרי כותרת הפונקציה. כולל את כל החישובים הנדרשים כדי למלא את מטרת הפונקציה. כולל את החזרת ערך ההחזרה.</dd>\n",
    "<dt>ערך ההחזרה</dt><dd>הערך שהפונקציה תשלח בחזרה למי שקרא לה. מיד עם שליחת הערך הזה, הפונקציה תסיים את ריצתה.</dd>\n",
    "<dt>הארגומנטים</dt><dd>הערכים שנשלחים מחוץ הפונקציה אל תוך הפונקציה, ויושמו לתוך הפרמטרים.</dd>\n",
    "<dt>קריאה לפונקציה</dt><dd>שימוש בשם הפונקציה על מנת להפעיל אותה. לעיתים יחד עם ארגומנטים, במידה והוגדרו פרמטרים בכותרת הפונקציה.</dd>\n",
    "<dt>חתימת הפונקציה</dt><dd>השם של הפונקציה ושמות כל הפרמטרים שלה.</dd>\n",
    "</dl>"
   ]
  },
  {
   "cell_type": "markdown",
   "metadata": {},
   "source": [
    "## <p style=\"text-align: right; direction: rtl; float: right; clear: both;\">לסיכום</p>"
   ]
  },
  {
   "cell_type": "markdown",
   "metadata": {},
   "source": [
    "<p style=\"text-align: right; direction: rtl; float: right; clear: both;\">\n",
    "<em>פונקציה</em> היא מעין יחידה בסיסית וקטנה שעוזרת לנו לבנות תוכנה.<br>\n",
    "היא עוזרת לנו לחלק את התוכנה שלנו לתתי משימות, והופכת אותה לקריאה יותר וקלה יותר לתחזוקה.<br>\n",
    "את הפונקציה אנחנו מגדירים בעזרת <em>כותרת הפונקציה</em>, שמכילה את <em>שם הפונקציה</em> ואת <em>הפרמטרים</em> שהיא אמורה לקבל.<br>\n",
    "מיד לאחר כותרת הפונקציה נגדיר בהזחה את <em>גוף הפונקציה</em> – שכולל את החישובים או הפעולות שהפונקציה צריכה לבצע,<br>\n",
    "ובסוף נבצע <em>החזרה</em> ל<em>ערך ההחזרה</em> שיופיע אחרי מילת המפתח <code>return</code>.<br> \n",
    "אנחנו <em>נקרא לפונקציה</em> בהמשך הקוד, על ידי זה שנציין את השם שלה, ובתוך סוגריים נפרט את <em>הארגומנטים</em>, שהם הערכים שנרצה להעביר לפונקציה.\n",
    "</p>"
   ]
  },
  {
   "cell_type": "markdown",
   "metadata": {},
   "source": [
    "## <p style=\"align: right; direction: rtl; float: right; clear: both;\">תרגולים</p>"
   ]
  },
  {
   "cell_type": "markdown",
   "metadata": {},
   "source": [
    "### <p style=\"align: right; direction: rtl; float: right; clear: both;\">האריך במילים</p>"
   ]
  },
  {
   "cell_type": "markdown",
   "metadata": {},
   "source": [
    "<p style=\"text-align: right; direction: rtl; float: right; clear: both;\">\n",
    "כתבו פונקציה שמקבלת 3 מחרוזות כארגומנטים, ומחזירה את המחרוזת הארוכה יותר מביניהן.\n",
    "</p>"
   ]
  },
  {
   "cell_type": "markdown",
   "metadata": {},
   "source": [
    "### <p style=\"align: right; direction: rtl; float: right; clear: both;\">פיזבאז</p>"
   ]
  },
  {
   "cell_type": "markdown",
   "metadata": {},
   "source": [
    "<p style=\"text-align: right; direction: rtl; float: right; clear: both;\">\n",
    "זוהי גרסה של תרגיל פופולרי בראיונות עבודה.\n",
    "</p>\n",
    "<p style=\"text-align: right; direction: rtl; float: right; clear: both;\">\n",
    "כתבו פונקציה שמקבלת מספר.<br>\n",
    "אם המספר מתחלק ב־3 ללא שארית, הדפיסו <samp>Fizz</samp>.<br>\n",
    "אם המספר מתחלק ב־5 ללא שארית, הדפיסו <samp>Buzz</samp>.<br>\n",
    "אם המספר מתחלק גם ב־3 וגם ב־5 ללא שארית, הדפיסו <samp>FizzBuzz</samp>.<br>\n",
    "אם המספר לא מתחלק ב־3 ולא מתחלק ב־5, הדפיסו את המספר עצמו.\n",
    "</p>\n",
    "\n",
    "<p style=\"text-align: right; direction: rtl; float: right; clear: both;\">\n",
    "    לדוגמה,\n",
    "    עבור המספר 9 הדפיסו <samp>Fizz</samp>,<br>\n",
    "    עבור המספר 10 הדפיסו <samp>Buzz</samp>,<br>\n",
    "    עבור המספר 15 הדפיסו <samp>FizzBuzz</samp>,<br>\n",
    "    ועבור המספר 7 הדפיסו <samp>7</samp>.\n",
    "</p>"
   ]
  },
  {
   "cell_type": "markdown",
   "metadata": {},
   "source": [
    "### <p style=\"align: right; direction: rtl; float: right; clear: both;\">מספר הפוך</p>"
   ]
  },
  {
   "cell_type": "markdown",
   "metadata": {},
   "source": [
    "<p style=\"text-align: right; direction: rtl; float: right; clear: both;\">\n",
    "כתבו פונקציה שמקבלת מספר בן 2 ספרות שספרת האחדות שלו שונה מ־0.<br>\n",
    "הפונקציה תחזיר את המספר הפוך.<br>\n",
    "לדוגמה: עבור 53 הפונקציה תחזיר <samp>35</samp>. עבור 19 הפונקציה תחזיר <samp>91</samp>. עבור 91 הפונקציה תחזיר <samp>19</samp>.\n",
    "</p>"
   ]
  },
  {
   "cell_type": "markdown",
   "metadata": {},
   "source": [
    "### <p style=\"align: right; direction: rtl; float: right; clear: both;\">מפענח הצפנים</p>"
   ]
  },
  {
   "cell_type": "markdown",
   "metadata": {},
   "source": [
    "<div class=\"align-center\" style=\"display: flex; text-align: right; direction: rtl; clear: both;\">\n",
    "    <div style=\"display: flex; width: 10%; float: right; clear: both;\">\n",
    "        <img src=\"images/warning.png\" style=\"height: 50px !important;\" alt=\"אזהרה!\"> \n",
    "    </div>\n",
    "    <div style=\"width: 90%\">\n",
    "        <p style=\"text-align: right; direction: rtl; clear: both;\">\n",
    "            זהו תרגיל ברמת קושי גבוהה, שמערב נושאים רבים.<br>\n",
    "            הרגישו בנוח להעזר במתרגלים שלכם.\n",
    "        </p>\n",
    "    </div>\n",
    "</div>"
   ]
  },
  {
   "cell_type": "markdown",
   "metadata": {},
   "source": [
    "<p style=\"text-align: right; direction: rtl; float: right; clear: both;\">\n",
    "הצופן לכספת הביתית שלכם הוא 4812. בנו משחק בול־פגיעה שמאפשר למשתמש לנסות לנחש את הצופן.<br>\n",
    "למשתמש יש 3 ניסיונות לנחש נכונה את המספר שלכם לפני שמתחילה אזעקה.<br>\n",
    "כחלק ממנגנון איבוד הסיסמה של הכספת, היא מציגה כמה ספרות נכונות המשתמש הזין אחרי כל ניחוש.<br>\n",
    "אפשרו למשתמש להזין קוד 3 פעמים, וכתבו לו בכל ניסיון כמה מתוך הספרות שהזין באמת קיימות בקוד הנכון, לאו־דווקא בסדר שהקיש.<br>\n",
    "אם לא הצליח אחרי 3 ניסיונות, הדפיסו שהאזעקה הופעלה וסיימו את התוכנית.<br>\n",
    "</p>\n",
    "<p style=\"text-align: right; direction: rtl; float: right; clear: both;\">\n",
    "לדוגמה, אם המשתמש הקיש בניסיון הראשון 0634, הדפיסו לו שרק אחת הספרות שניחש נכונה.<br>\n",
    "אם המשתמש הקיש בסיבוב השני 1234, הדפיסו לו ש־3 ספרות תואמות את הקוד המקורי.<br>\n",
    "אם המשתמש הקיש בסיבוב השלישי 1284, הדפיסו לו ש־4 ספרות תואמות את הקוד המקורי, ואז הדפיסו לו שהופעלה האזעקה.<br>\n",
    "אם המשתמש הקיש באחד הסיבובים 4812, הדפיסו שהכספת נפתחה בהצלחה וסיימו את התוכנית מיד.\n",
    "</p>"
   ]
  },
  {
   "cell_type": "markdown",
   "metadata": {},
   "source": [
    "### <p style=\"align: right; direction: rtl; float: right; clear: both;\">סכום מספרים</p>"
   ]
  },
  {
   "cell_type": "markdown",
   "metadata": {},
   "source": [
    "<p style=\"text-align: right; direction: rtl; float: right; clear: both;\">\n",
    "קבלו מספר, וחשבו את העצרת שלו – מכפלת כל המספרים עד אותו מספר.<br>\n",
    "לדוגמה, 5 עצרת שווה ל־1 כפול 2 כפול 3 כפול 4 כפול 5, והתוצאה היא 120.<br>\n",
    "<strong>זהירות!</strong> זה תרגיל בונוס, והוא קשה מאוד. מאוד. מאוד מאוד. אנחנו לא אומרים סתם. הוא לא חובה ומיועד לאנשים שרוצים לאתגר את עצמם. מאוד.<br>\n",
    "</p>"
   ]
  }
 ],
 "metadata": {
  "kernelspec": {
   "display_name": "Python 3",
   "language": "python",
   "name": "python3"
  },
  "language_info": {
   "codemirror_mode": {
    "name": "ipython",
    "version": 3
   },
   "file_extension": ".py",
   "mimetype": "text/x-python",
   "name": "python",
   "nbconvert_exporter": "python",
   "pygments_lexer": "ipython3",
   "version": "3.7.1"
  }
 },
 "nbformat": 4,
 "nbformat_minor": 2
}
