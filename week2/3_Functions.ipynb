{
 "cells": [
  {
   "cell_type": "markdown",
   "metadata": {},
   "source": [
    "<img src=\"images/logo.png\" style=\"display: block; margin-left: auto; margin-right: auto;\" alt=\"לוגו של מיזם לימוד הפייתון. נחש מצויר בצבעי צהוב וכחול, הנע בין האותיות של שם הקורס: לומדים פייתון. הסלוגן המופיע מעל לשם הקורס הוא מיזם לימוד תכנות בחינם ובעברית.\">"
   ]
  },
  {
   "cell_type": "markdown",
   "metadata": {},
   "source": [
    "# <p style=\"text-align: right; direction: rtl; float: right;\">פונקציות</p>"
   ]
  },
  {
   "cell_type": "markdown",
   "metadata": {},
   "source": [
    "## <p style=\"text-align: right; direction: rtl; float: right; clear: both;\">הגדרה</p>"
   ]
  },
  {
   "cell_type": "markdown",
   "metadata": {},
   "source": [
    "<p style=\"text-align: right; direction: rtl; float: right; clear: both;\">\n",
    "<dfn>פונקציה</dfn> היא קטע קוד קצר ותחום שפותר בעיה ספציפית.<br>\n",
    "כל פונקציה היא מעין רכיב בתוכנה שלנו שנושאת שם מסוים. אפשר להסתכל על פונקציה כקטע קוד שמממש משימה מוגדרת היטב.<br>\n",
    "לדוגמה, פונקציה יכולה להיות \"המר טמפרטורה מפרנהייט לצלזיוס\".<br> \n",
    "במובן הזה, פונקציות הן כמו תוכניות קטנות – יש להן קלט, הן עושות תהליך מסוים ומחזירות תוצאה מסוימת.<br>\n",
    "אם ניקח את הפונקציה המדוברת מלמעלה, אפשר לתאר אותה כתוכנית קטנה באופן הזה:\n",
    "</p>\n",
    "<ul style=\"text-align: right; direction: rtl; float: right; clear: both;\">\n",
    "    <li><strong>קלט</strong> – טמפרטורה מסוימת</li>\n",
    "    <li><strong>תהליך</strong> – המרת הטמפרטורה לצלזיוס</li>\n",
    "    <li><strong>פלט</strong> – החזרת התוצאה</li>\n",
    "</ul>\n",
    "<p style=\"text-align: right; direction: rtl; float: right; clear: both;\">\n",
    "פונקציות הן למעשה אבני הבניין של תוכנה – כל פונקציה שואפת למלא תפקיד מוגדר בתוכנה, ובעזרת הרבה אבני בניין שכאלו אפשר לבנות תוכנה מורכבת.<br>\n",
    "התוכנות שבהן אתם משתמשים ביום־יום, בדרך־כלל מורכבות מכמות רבה מאוד של פונקציות. \n",
    "</p>"
   ]
  },
  {
   "cell_type": "markdown",
   "metadata": {},
   "source": [
    "<p style=\"text-align: right; direction: rtl; float: right; clear: both;\">\n",
    "עד סוף השיעור נדע איך יוצרים פונקציה כזו ואיך משתמשים בה.<br>\n",
    "נדמיין פונקציה כמכונה שמקבלת ערכים, ויודעת לתת לנו פלט מסוים לפי אותם ערכים.<br>\n",
    "אחרי שכתבנו פונקציה ובדקנו שהיא עובדת, נוכל להשתמש בה בלי לנסות לפענח כל פעם מחדש את הלוגיקה שנמצאת בתוכה.\n",
    "</p>"
   ]
  },
  {
   "cell_type": "markdown",
   "metadata": {},
   "source": [
    "<figure>\n",
    "    <img src=\"images/function-machine.png\" style=\"display: block; margin-left: auto; margin-right: auto;\" width=\"200px\" alt=\"איור להמחשה של מעין מכונה, עם פתח כחול בצד שמאל שכתוב עליו IN, ופתח ירוק בצד שמאל שכתוב עליו OUT. בין ה־IN ל־OUT יש מכונה מורכבת ומלאת מכוונים, שלא ברור מה מטרתם.\">\n",
    "    <figcaption style=\"text-align: center; direction: rtl; clear: both;\">\n",
    "        ככה אני מדמיין פונקציה:<br>\n",
    "        מכונה שאף אחד לא צריך לדעת מה קורה בתוכה, לוקחת קלט ומוציאה פלט.\n",
    "    </figcaption>\n",
    "</figure>"
   ]
  },
  {
   "cell_type": "markdown",
   "metadata": {},
   "source": [
    "## <p style=\"text-align: right; direction: rtl; float: right;\">דוגמאות</p>"
   ]
  },
  {
   "cell_type": "markdown",
   "metadata": {},
   "source": [
    "<p style=\"text-align: right; direction: rtl; float: right; clear: both;\">\n",
    "אחת הפונקציות שכמעט כולם מכירים היא העלאה בריבוע.<br>\n",
    "הקלט של הפונקציה הוא מספר כלשהו, התהליך שקורה בפונקציה הוא הכפלת המספר בעצמו, והפלט הוא המכפלה שהתקבלה.<br>\n",
    "לדוגמה, הקלט של פונקציה בשם \"העלאה בריבוע\" יכול להיות <em>5</em>, והפלט שלה יהיה <samp>25</samp>.<br>\n",
    "דוגמאות נוספות לקלט הן <em dir=\"ltr\" style=\"direction: ltr\">-3</em>, עבורו הפלט יהיה <samp>9</samp>,\n",
    "או <em dir=\"ltr\" style=\"direction: ltr\">0.5</em>, עבורו הפלט יהיה <samp>0.25</samp>.<br>   \n",
    "</p>"
   ]
  },
  {
   "cell_type": "markdown",
   "metadata": {},
   "source": [
    "### <p style=\"text-align: right; direction: rtl; float: right;\">רעיונות נוספים לפונקציות</p>"
   ]
  },
  {
   "cell_type": "markdown",
   "metadata": {},
   "source": [
    "<ul style=\"text-align: right; direction: rtl; float: right; clear: both;\">\n",
    "    <li>בהנתן מספר כלשהו, החזר את סכום כל המספרים הזוגיים מ־0 ועד אליו.</li>\n",
    "    <li>בהנתן שני מספרים ופועלת חשבון, החזר את תוצאת התרגיל.</li>\n",
    "    <li>בהנתן שני מספרים, בדוק מי הגדול מביניהם והחזר אותו.</li>\n",
    "    <li>בהנתן שם משתנה, בדוק מה הסוג שלו (נשמע מוכר?)</li>\n",
    "    <li>בדוק מה התחזית ב־<em>n</em> הימים הקרובים והחזר את התוצאה.</li>\n",
    "</ul>"
   ]
  },
  {
   "cell_type": "markdown",
   "metadata": {},
   "source": [
    "## <p style=\"text-align: right; direction: rtl; float: right;\">כתיבת פונקציה</p>"
   ]
  },
  {
   "cell_type": "markdown",
   "metadata": {},
   "source": [
    "<p style=\"text-align: right; direction: rtl; float: right; clear: both;\">\n",
    "דרך קלה לקבל הערכה גסה של כמה קלוריות יש במוצר מזון, היא זו:\n",
    "</p>"
   ]
  },
  {
   "cell_type": "markdown",
   "metadata": {},
   "source": [
    "<ol style=\"text-align: right; direction: rtl; float: right; clear: both;\">\n",
    "    <li>מצאו את כמות הפחמימות במוצר, והכפילו ב־4.</li>\n",
    "    <li>מצאו את כמות השומן במוצר, והכפילו ב־9.</li>\n",
    "    <li>מצאו את כמות החלבון במוצר, והכפילו ב־4.</li>\n",
    "    <li>כמות הקלוריות במוצר היא חיבור הערכים שקיבלתם בשלבים הקודמים.</li>\n",
    "</ol>"
   ]
  },
  {
   "cell_type": "markdown",
   "metadata": {},
   "source": [
    "<div class=\"align-center\" style=\"display: flex; text-align: right; direction: rtl; clear: both;\">\n",
    "    <div style=\"display: flex; width: 10%; float: right; clear: both;\">\n",
    "        <img src=\"images/exercise.svg\" style=\"height: 50px !important;\" alt=\"תרגול\"> \n",
    "    </div>\n",
    "    <div style=\"width: 90%\">\n",
    "        <p style=\"text-align: right; direction: rtl; float: right; clear: both;\">\n",
    "        <strong>תרגול</strong>:\n",
    "            כתבו תוכנית (ללא פונקציות) המקבלת מהמשתמש את ערכי הפחמימות, השומן והחלבון במוצר.<br>\n",
    "            הדפיסו למשתמש את כמות הקלוריות במוצר.<br>\n",
    "            פתרו את התרגיל לפני שתמשיכו הלאה.\n",
    "        </p>\n",
    "    </div>\n",
    "</div>"
   ]
  },
  {
   "cell_type": "markdown",
   "metadata": {},
   "source": [
    "<p style=\"text-align: right; direction: rtl; float: right; clear: both;\">\n",
    "והנה הפתרון לשאלה מלמעלה (אזהרת ספוילר!)</p>"
   ]
  },
  {
   "cell_type": "code",
   "execution_count": null,
   "metadata": {},
   "outputs": [],
   "source": [
    "carbohydrate = int(input(\"How many carbohydrate does this product have?: \"))\n",
    "fat = int(input(\"How many fat does this product have?: \"))\n",
    "protein = int(input(\"How many protein does this product have?: \"))\n",
    "\n",
    "total_calories = carbohydrate * 4 + fat * 9 + protein * 4\n",
    "print(\"This product have \" + str(total_calories) + \" calories in it.\")"
   ]
  },
  {
   "cell_type": "markdown",
   "metadata": {},
   "source": [
    "### <p style=\"text-align: right; direction: rtl; float: right;\">הגדרת הפונקציה</p>"
   ]
  },
  {
   "cell_type": "markdown",
   "metadata": {},
   "source": [
    "<p style=\"text-align: right; direction: rtl; float: right; clear: both;\">\n",
    "ההתחלה תהיה קפיצת ראש למים העמוקים, אבל אל חשש! אני אסביר בקרוב מה קורה כאן. בנתיים אני בונה קצת מתח.<br>\n",
    "הדבר הראשון שנעשה יהיה לזרוק את הפתרון לתרגיל בתוך פונקציה.\n",
    "</p>"
   ]
  },
  {
   "cell_type": "code",
   "execution_count": null,
   "metadata": {},
   "outputs": [],
   "source": [
    "def calculate_calories():\n",
    "    carbohydrate = int(input(\"How many carbohydrate does this product have?: \"))\n",
    "    fat = int(input(\"How many fat does this product have?: \"))\n",
    "    protein = int(input(\"How many protein does this product have?: \"))\n",
    "\n",
    "    calories = carbohydrate * 4 + fat * 9 + protein * 4\n",
    "    print(\"This product have \" + str(calories) + \" calories in it.\")"
   ]
  },
  {
   "cell_type": "markdown",
   "metadata": {},
   "source": [
    "<p style=\"text-align: right; direction: rtl; float: right; clear: both;\">\n",
    "בתא שממש פה מעלי, השתמשנו במילת המפתח <code>def</code> ובעזרתה <dfn>הגדרנו פונקציה</dfn> שנקראת <var>calculate_calories</var>.<br>\n",
    "לפני שנכנס לפרטים אודות ההגדרה ומה היא עושה, הריצו את התא, ונסו לשים אצבע על תופעה משונה בתא הזה...<br>\n",
    "ובכן, התופעה המשונה היא שבניגוד לפתרון התרגיל בלי הפונקציה שכתבנו למעלה, התא בו כתובה הפונקציה לא עושה כלום!\n",
    "</p>"
   ]
  },
  {
   "cell_type": "markdown",
   "metadata": {},
   "source": [
    "### <p style=\"text-align: right; direction: rtl; float: right;\">קריאה לפונקציה</p>"
   ]
  },
  {
   "cell_type": "markdown",
   "metadata": {},
   "source": [
    "<p style=\"text-align: right; direction: rtl; float: right; clear: both;\">\n",
    "ובכן, זה מכיוון שפונקציות לא פועלות מיד אחרי שמגדירים אותן.<br>\n",
    "בניגוד למסרונים בתקופת בחירות, צריך ממש לקרוא להן אקטיבית כדי שיבואו.<br>\n",
    "נעשה את זה, לפחות בנתיים, על־ידי כתיבת השם של הפונקציה ואז סוגריים עגולים ריקים:\n",
    "</p>"
   ]
  },
  {
   "cell_type": "code",
   "execution_count": null,
   "metadata": {},
   "outputs": [],
   "source": [
    "calculate_calories()"
   ]
  },
  {
   "cell_type": "markdown",
   "metadata": {},
   "source": [
    "<p style=\"text-align: right; direction: rtl; float: right; clear: both;\">\n",
    "מה שעשינו בתא מעל נקרא <dfn>קריאה לפונקציה</dfn>, וזו למעשה הדרך לגרום לתוכן של הפונקציה לרוץ.<br>\n",
    "זה ממש כמו להפעיל מעין תוכנה קטנה בתוך התוכנה שלנו.\n",
    "</p>"
   ]
  },
  {
   "cell_type": "markdown",
   "metadata": {},
   "source": [
    "<p style=\"text-align: right; direction: rtl; float: right; clear: both;\">\n",
    "מזל טוב! יש לנו פונקציה עובדת.<br>\n",
    "זה אפילו לא היה מאוד קשה:\n",
    "</p>\n",
    "<ol style=\"text-align: right; direction: rtl; float: right; clear: both;\">\n",
    "    <li>הגדרנו פונקציה בעזרת הקוד <code dir=\"ltr\" style=\"direction: ltr;\">def function_name():</code>, כש־<var>function_name</var> זה השם של הפונקציה.</li>\n",
    "    <li>מיד אחרי השורה הזו, כתבנו את התוכן של הפונקציה – מה יקרה בפועל. שמרנו על הזחה של תוכן הפונקציה.</li>\n",
    "    <li><em>קראנו לפונקציה</em> על־ידי ציון השם שלה, ואז סוגריים. כך הפעלנו את הפונקציה, וגרמנו לכך שתוכן הפונקציה ירוץ.</li>\n",
    "</ol>"
   ]
  },
  {
   "cell_type": "markdown",
   "metadata": {},
   "source": [
    "<div class=\"align-center\" style=\"display: flex; text-align: right; direction: rtl; clear: both;\">\n",
    "    <div style=\"display: flex; width: 10%; float: right; clear: both;\">\n",
    "        <img src=\"images/warning.png\" style=\"height: 50px !important;\" alt=\"אזהרה!\"> \n",
    "    </div>\n",
    "    <div style=\"width: 90%\">\n",
    "        <p style=\"text-align: right; direction: rtl; clear: both;\">\n",
    "            קריאה לפונקציה חייבת להופיע אחרי הגדרת הפונקציה.<br>\n",
    "            במידה וקודם נקרא לפונקציה ורק אז נגדיר אותה, פייתון עדיין לא יכיר את הפונקציה ויזרוק לנו שגיאה.\n",
    "        </p>\n",
    "    </div>\n",
    "</div>"
   ]
  },
  {
   "cell_type": "markdown",
   "metadata": {},
   "source": [
    "### <p style=\"text-align: right; direction: rtl; float: right;\">טרמינולוגיה</p>"
   ]
  },
  {
   "cell_type": "markdown",
   "metadata": {},
   "source": [
    "<p style=\"text-align: right; direction: rtl; float: right; clear: both;\">\n",
    "כדי לזקק את הרעיון, ננסה להגדיר פונקציה פשוטה יחסית, ונקרא לה מיד אחרי כדי להפעיל אותה.<br>\n",
    "שימו לב למינוחים החשובים: <em>כותרת הפונקציה</em>, <em>גוף הפונקציה</em>, <em>שם הפונקציה</em> וה<em>קריאה לפונקציה</em>.\n",
    "</p>"
   ]
  },
  {
   "cell_type": "code",
   "execution_count": null,
   "metadata": {},
   "outputs": [],
   "source": [
    "#    שם הפונקציה\n",
    "def hello_world():               # Function Header / כותרת הפונקציה\n",
    "    print(\"Hello World!\")        # גוף הפונקציה (מוזח!)\n",
    "\n",
    "hello_world()                    # הקריאה לפונקציה"
   ]
  },
  {
   "cell_type": "markdown",
   "metadata": {},
   "source": [
    "### <p style=\"text-align: right; direction: rtl; float: right;\">פרמטרים</p>"
   ]
  },
  {
   "cell_type": "markdown",
   "metadata": {},
   "source": [
    "<p style=\"text-align: right; direction: rtl; float: right; clear: both;\">\n",
    "נהוג להגיד שכל פונקציה צריכה להיות אחראית על דבר אחד בלבד.<br>\n",
    "במילים אחרות – כמה שפחות עבודה בתוך כל פונקציה, וכמה שיותר התמקדות במה שהיא <em>באמת</em> צריכה לעשות, כך יטב.<br>\n",
    "אחד הדברים הראשונים שנוח לנו להוציא מהפונקציה שלנו החוצה, זה הקלט מהמשתמש, שביצענו בתוך הפונקציה:\n",
    "</p>"
   ]
  },
  {
   "cell_type": "code",
   "execution_count": null,
   "metadata": {},
   "outputs": [],
   "source": [
    "def calculate_calories():\n",
    "    calories = carbohydrate * 4 + fat * 9 + protein * 4\n",
    "    print(\"This product have \" + str(calories) + \" calories in it.\")\n",
    "\n",
    "\n",
    "carbohydrate = int(input(\"How many carbohydrate does this product have?: \"))\n",
    "fat = int(input(\"How many fat does this product have?: \"))\n",
    "protein = int(input(\"How many protein does this product have?: \"))\n",
    "calculate_calories()"
   ]
  },
  {
   "cell_type": "markdown",
   "metadata": {},
   "source": [
    "<p style=\"text-align: right; direction: rtl; float: right; clear: both;\">\n",
    "הקוד הזה אמנם יעבוד, אבל הוא נחשב רעיון רע מאוד.<br>\n",
    "הוא מפר את העיקרון שהתחלנו איתו – פונקציות אמורות להיות יחידה עצמאית, תוכניות קטנות וארוזות.<br>\n",
    "הן אמורות לעבוד עם כמה שפחות תלות בסביבה החיצונית.\n",
    "</p>\n",
    "<p style=\"text-align: right; direction: rtl; float: right; clear: both;\">\n",
    "בתוך הפונקציה, אנחנו מתייחסים למשתנים <var>fat</var>, <var>protein</var> ו־<var>carbohydrate</var>, שאינם חלק מהפונקציה.<br>\n",
    "יתכן שבעתיד מישהו יעתיק את הפונקציה <var>calculate_calories</var> לתוכנית שלו, והמשתנים הללו לא יהיו מוגדרים בגוף התוכנית.<br>\n",
    "במקרה כזה, לפונקציה לא יהיה מאיפה לקחת את הערכים והיא תקרוס.\n",
    "</p>"
   ]
  },
  {
   "cell_type": "markdown",
   "metadata": {},
   "source": [
    "<p style=\"text-align: right; direction: rtl; float: right; clear: both;\">\n",
    "הדרך להתמודד עם הבעיה הזו הוא לחייב את הפונקציה לקבל באופן מסודר את הנתונים האלו מבחוץ.<br>\n",
    "נראה דוגמה:\n",
    "</p>"
   ]
  },
  {
   "cell_type": "code",
   "execution_count": null,
   "metadata": {},
   "outputs": [],
   "source": [
    "def calculate_calories(carbohydrate, fat, protein):\n",
    "    calories = carbohydrate * 4 + fat * 9 + protein * 4\n",
    "    print(\"This product have \" + str(calories) + \" calories in it.\")"
   ]
  },
  {
   "cell_type": "markdown",
   "metadata": {},
   "source": [
    "<p style=\"text-align: right; direction: rtl; float: right; clear: both;\">\n",
    "שימו לב לכותרת הפונקציה.<br>\n",
    "הכנסנו לשם את שמות 3 המשתנים, אותם אנחנו צריכים בשביל להריץ את הפונקציה.<br>\n",
    "אם תרצו, תוכלו להסתכל על זה כ\"הקלט שנדרש עבור הפונקציה\", או במקרה שלנו: \"הנתונים שדרושים כדי לחשב את כמות הקלוריות במוצר\".<br>\n",
    "החלק הזה שהוספנו לפונקציה נקרא <dfn>הפרמטרים של הפונקציה</dfn>: כל אחד מ־<var>carbohydrate</var>, <var>fat</var> ו־<var>protein</var> הוא פרמטר.\n",
    "    </p>\n",
    "<p style=\"text-align: right; direction: rtl; float: right; clear: both;\">\n",
    "השם התיאורטי והמגונדר שמתכנתים משתמשים בו עבור השלוב של שם הפונקציה עם שמות הפרמטרים שלה נקרא <em>חתימת הפונקציה</em>.\n",
    "</p>"
   ]
  },
  {
   "cell_type": "markdown",
   "metadata": {},
   "source": [
    "<p style=\"text-align: right; direction: rtl; float: right; clear: both;\">\n",
    "איך תראה הקריאה לפונקציה עכשיו?<br>\n",
    "אותו דבר, רק שבתוך הסוגריים נשים את הערכים שעבורם נרצה לחשב את כמות הקלוריות, לפי הסדר של הפרמטרים.<br>\n",
    "הערכים שנעביר בתוך הקריאה לפונקציה נקראים <dfn>ארגומנטים</dfn>.\n",
    "</p>"
   ]
  },
  {
   "cell_type": "code",
   "execution_count": null,
   "metadata": {},
   "outputs": [],
   "source": [
    "calculate_calories(50, 90, 20)"
   ]
  },
  {
   "cell_type": "markdown",
   "metadata": {},
   "source": [
    "<p style=\"text-align: right; direction: rtl; float: right; clear: both;\">\n",
    "אם כך, ארוחה בה יש 50 גרם פחמימות, 90 גרם שומן ו־20 גרם חלבון, מכילה כ־1090 קלוריות.<br>\n",
    "</p>"
   ]
  },
  {
   "cell_type": "markdown",
   "metadata": {},
   "source": [
    "<p style=\"text-align: right; direction: rtl; float: right; clear: both;\">\n",
    "נסכם את מה שעשינו עד עכשיו, ונרענן את הטרמינולוגיה שלנו:\n",
    "</p>"
   ]
  },
  {
   "cell_type": "code",
   "execution_count": null,
   "metadata": {},
   "outputs": [],
   "source": [
    "#       שם הפונקציה\n",
    "#                               פרמטרים\n",
    "def calculate_calories(carbohydrate, fat, protein):  # כותרת הפונקציה\n",
    "    calories = carbohydrate * 4 + fat * 9 + protein * 4\n",
    "    print(\"This product have \" + str(calories) + \" calories in it.\")\n",
    "\n",
    "\n",
    "product_carbohydrate = int(input(\"How many carbohydrate does this product have?: \"))\n",
    "product_fat = int(input(\"How many fat does this product have?: \"))\n",
    "product_protein = int(input(\"How many protein does this product have?: \"))\n",
    "#                                        ארגומנטים\n",
    "calculate_calories(product_carbohydrate, product_fat, product_protein)"
   ]
  },
  {
   "cell_type": "markdown",
   "metadata": {},
   "source": [
    "<div class=\"align-center\" style=\"display: flex; text-align: right; direction: rtl;\">\n",
    "    <div style=\"display: flex; width: 10%; float: right; \">\n",
    "        <img src=\"images/warning.png\" style=\"height: 50px !important;\" alt=\"אזהרה!\"> \n",
    "    </div>\n",
    "    <div style=\"width: 90%\">\n",
    "        <p style=\"text-align: right; direction: rtl;\">\n",
    "            מותר שבתוך פונקציה יוגדר משתנה ששמו זהה למשתנה שנמצא מחוץ לפונקציה.<br>\n",
    "            מתכנתים רבים מעדיפים להמנע ממצב כזה כדי למנוע באגים.\n",
    "        </p>\n",
    "    </div>\n",
    "</div>"
   ]
  },
  {
   "cell_type": "markdown",
   "metadata": {},
   "source": [
    "### <p style=\"text-align: right; direction: rtl; float: right;\">ערך החזרה</p>"
   ]
  },
  {
   "cell_type": "markdown",
   "metadata": {},
   "source": [
    "<p style=\"text-align: right; direction: rtl; float: right; clear: both;\">\n",
    "הפונקציה שלנו מתחילה להראות נהדר, אבל מתכנתים מנוסים עדיין יעקמו עלינו את האף.<br>\n",
    "כמו שאמרנו, פונקציה אמורה לעשות כמה שפחות, ולכן נעדיף שהיא גם לא תדפיס בעצמה את הערך שחישבה.<br>\n",
    "היינו מעדיפים לקבל מהפונקציה פשוט את מספר הקלוריות שחישבנו, בלי טקסט מיותר.<br>\n",
    "</p>"
   ]
  },
  {
   "cell_type": "markdown",
   "metadata": {},
   "source": [
    "<p style=\"text-align: right; direction: rtl; float: right; clear: both;\">\n",
    "יש לצורת עבודה כזו יתרונות משמעותיים.<br>\n",
    "אם נקבל מהפונקציה את הערך המספרי בחזרה, נוכל לעשות בו שימוש בפונקציות אחרות כדי לבצע פעולות המשך על התוצאה, כמו, נניח: \n",
    "</p>\n",
    "<ol style=\"text-align: right; direction: rtl; float: right; clear: both;\">\n",
    "    <li>לבדוק כמה זמן אנחנו צריכים ללכת כדי לשרוף את כמות הקלוריות הזו.</li>\n",
    "    <li>לבדוק כמה סופגניות היינו יכולים לאכול במקום הארוחה שחישבנו את כמות הקלוריות בה.</li>\n",
    "    <li>לחשב האם נמכרו השנה מספיק המבורגרים של מקדונלדס כדי להשיג אנרגיה המשתווה בעוצמתה לפצצה שנחתה על הירושימה.</li>\n",
    "</ol>"
   ]
  },
  {
   "cell_type": "markdown",
   "metadata": {},
   "source": [
    "<p style=\"text-align: right; direction: rtl; float: right; clear: both;\">\n",
    "אוקיי, על פניו יש דרך פשוטה למדי לטפל בזה.<br>\n",
    "בואו ננסה להפעיל את הפונקציה, ואז ניגש לערך <var>calories</var> שנמצא בתוך הפונקציה!\n",
    "</p>"
   ]
  },
  {
   "cell_type": "code",
   "execution_count": null,
   "metadata": {},
   "outputs": [],
   "source": [
    "def calculate_calories(carbohydrate, fat, protein):\n",
    "    calories = carbohydrate * 4 + fat * 9 + protein * 4\n",
    "\n",
    "calculate_calories(5, 30, 5)\n",
    "print(calories)"
   ]
  },
  {
   "cell_type": "markdown",
   "metadata": {},
   "source": [
    "<p style=\"text-align: right; direction: rtl; float: right; clear: both;\">\n",
    "מממ, זה לא עבד כמצופה.<br>\n",
    "הסיבה שלא הצלחנו לקבל את התוכן של המשתנה <var>calories</var> מתוך הפונקציה, הוא העיקרון שפונקציה היא קופסה סגורה.<br>\n",
    "בגלל העקרון הזה, משתנים שמוגדרים בתוך הפונקציה זמינים אך ורק בתוכה, ונעלמים כשהיא מסיימת לרוץ.<br>\n",
    "</p>"
   ]
  },
  {
   "cell_type": "markdown",
   "metadata": {},
   "source": [
    "<p style=\"text-align: right; direction: rtl; float: right; clear: both;\">\n",
    "אז איך בכל זאת אפשר לקבל את תוצאת החישוב שלנו מתוך פונקציה?<br>\n",
    "הביטו על הפונקציה הבאה:\n",
    "</p>"
   ]
  },
  {
   "cell_type": "code",
   "execution_count": null,
   "metadata": {},
   "outputs": [],
   "source": [
    "def calculate_calories(carbohydrate, fat, protein):\n",
    "    calories = carbohydrate * 4 + fat * 9 + protein * 4\n",
    "    return calories"
   ]
  },
  {
   "cell_type": "markdown",
   "metadata": {},
   "source": [
    "<p style=\"text-align: right; direction: rtl; float: right; clear: both;\">\n",
    "עוד לפני שאתייחס למילת המפתח החדשה <code>return</code>, שימו לב כמה נעים לקרוא את הפונקציה הזו.<br>\n",
    "הפונקציה מתמקדת ממש אך ורק במה שהיא אמורה לעשות, ואפשר להבין בקלות מה המטרה שלה ומה היא מבצעת.<br>\n",
    "גם מתכנת שכלל לא מכיר את המטרה שלנו והתרגיל ממנו התחלנו, יכול במבט חטוף להבין מה ניסינו לעשות.\n",
    "</p>"
   ]
  },
  {
   "cell_type": "markdown",
   "metadata": {},
   "source": [
    "<p style=\"text-align: right; direction: rtl; float: right; clear: both;\">\n",
    "ננסה לקרוא לפונקציה החדשה שהגדרנו, ונראה מה יקרה:\n",
    "</p>"
   ]
  },
  {
   "cell_type": "code",
   "execution_count": null,
   "metadata": {},
   "outputs": [],
   "source": [
    "calculate_calories(50, 17.5, 36)"
   ]
  },
  {
   "cell_type": "markdown",
   "metadata": {},
   "source": [
    "<p style=\"text-align: right; direction: rtl; float: right; clear: both;\">\n",
    "מעניין! הפונקציה ממש <em>החזירה לנו ערך</em>.<br>\n",
    "זה אומר שהצלחנו לקבל מתוך הפונקציה נתון שממש אפשר לעבוד איתו.<br>\n",
    "בואו נשחק עם זה:\n",
    "</p>"
   ]
  },
  {
   "cell_type": "code",
   "execution_count": null,
   "metadata": {},
   "outputs": [],
   "source": [
    "print(\"Calories in Hamburger: \" + str(calculate_calories(50, 17.5, 36)))\n",
    "print(\"Calories in 2 Hamburgers: \" + str(2 * calculate_calories(50, 17.5, 36)))"
   ]
  },
  {
   "cell_type": "markdown",
   "metadata": {},
   "source": [
    "<p style=\"text-align: right; direction: rtl; float: right; clear: both;\">\n",
    "אם זה עוזר לתפיסת הנושא עבורכם, תוכלו לדמיין את מה שקורה מאחורי הקלעים:<br>\n",
    "פייתון רואה קריאה לפונקציה. היא מעבירה את הארגומנטים ששלחתם לתוך הפרמטרים שמופיעים בכותרת הפונקציה.<br>\n",
    "כשהפונקציה מחזירה ערך, החלק בקוד שקרא לפונקציה ממש מתחלף בערך שחזר מהפונקציה.<br>\n",
    "כך ששלב הביניים, לפני ההדפסה למסך, נראה מבחינת פייתון ממש כך (והשוו עם המשבצת הקודמת):\n",
    "</p>"
   ]
  },
  {
   "cell_type": "code",
   "execution_count": null,
   "metadata": {},
   "outputs": [],
   "source": [
    "print(\"Calories in Hamburger: \" + str(501.5))\n",
    "print(\"Calories in 2 Hamburgers: \" + str(2 * 501.5))"
   ]
  },
  {
   "cell_type": "markdown",
   "metadata": {},
   "source": [
    "<p style=\"text-align: right; direction: rtl; float: right; clear: both;\">\n",
    "נוכל להשתמש ברעיון הזה כדי לכתוב את הקוד בצורה קריאה יותר – נשמור את הערך שהפונקציה החזירה לנו בצד, ונשתמש בו:\n",
    "</p>"
   ]
  },
  {
   "cell_type": "code",
   "execution_count": null,
   "metadata": {},
   "outputs": [],
   "source": [
    "calories_in_hamburger = calculate_calories(50, 17.5, 36)\n",
    "print(\"Calories in Hamburger: \" + str(calories_in_hamburger))\n",
    "print(\"Calories in 2 Hamburgers: \" + str(2 * calories_in_hamburger))"
   ]
  },
  {
   "cell_type": "markdown",
   "metadata": {},
   "source": [
    "<p style=\"text-align: right; direction: rtl; float: right; clear: both;\">\n",
    "זה הזמן לראות את התוכנית שלנו מוכנה, עם כל הטרמינולוגיה עליה:\n",
    "</p>"
   ]
  },
  {
   "cell_type": "code",
   "execution_count": null,
   "metadata": {},
   "outputs": [],
   "source": [
    "#       שם הפונקציה\n",
    "#                               פרמטרים\n",
    "def calculate_calories(carbohydrate, fat, protein):  # כותרת הפונקציה\n",
    "    calories = carbohydrate * 4 + fat * 9 + protein * 4\n",
    "    return calories  # ערך ההחזרה\n",
    "\n",
    "\n",
    "product_carbohydrate = int(input(\"How many carbohydrate does this product have?: \"))\n",
    "product_fat = int(input(\"How many fat does this product have?: \"))\n",
    "product_protein = int(input(\"How many protein does this product have?: \"))\n",
    "#                                     ארגומנטים\n",
    "cal = calculate_calories(product_carbohydrate, product_fat, product_protein)\n",
    "print(\"This product have \" + str(cal) + \" calories in it.\")"
   ]
  },
  {
   "cell_type": "markdown",
   "metadata": {},
   "source": [
    "### <p style=\"text-align: right; direction: rtl; float: right;\">עקרונות נוספים</p>"
   ]
  },
  {
   "cell_type": "markdown",
   "metadata": {},
   "source": [
    "<p style=\"text-align: right; direction: rtl; float: right; clear: both;\">\n",
    "העקרון האחרון שניגע בו הוא העקרון של החזרה מיידית.<br>\n",
    "ברגע שפונקציה מגיעה לשורה בה כתוב <code>return</code>, היא תחזיר ערך ותסיים את ריצתה באותה שורה.<br>\n",
    "בואו נראה דוגמה:\n",
    "</p>"
   ]
  },
  {
   "cell_type": "code",
   "execution_count": null,
   "metadata": {},
   "outputs": [],
   "source": [
    "def give_me_numbers(number):\n",
    "    return number + 1\n",
    "    return number + 2\n",
    "    return number + 3\n",
    "\n",
    "print(give_me_numbers(5))"
   ]
  },
  {
   "cell_type": "markdown",
   "metadata": {},
   "source": [
    "<p style=\"text-align: right; direction: rtl; float: right; clear: both;\">\n",
    "במקרה הזה, הערך היחיד שחזר הוא 6.<br>\n",
    "הסיבה לכך היא שאחרי השורה <code>return number + 1</code>, הפונקציה החזירה ערך והפסיקה לרוץ.\n",
    "</p>"
   ]
  },
  {
   "cell_type": "markdown",
   "metadata": {},
   "source": [
    "### <p style=\"text-align: right; direction: rtl; float: right;\">דוגמה נוספת</p>"
   ]
  },
  {
   "cell_type": "markdown",
   "metadata": {},
   "source": [
    "<p style=\"text-align: right; direction: rtl; float: right; clear: both;\">\n",
    "לפניכם דוגמה של פונקציה שמחשבת את הערך המוחלט של מספר.<br>\n",
    "לצורך הדוגמה הזו, הערך המוחלט של מספר מוגדר כמרחק שלו מהמספר אפס.\n",
    "</p>"
   ]
  },
  {
   "cell_type": "code",
   "execution_count": null,
   "metadata": {},
   "outputs": [],
   "source": [
    "def absolute_value(number):\n",
    "    if number < 0:\n",
    "        number = number * -1\n",
    "    return number\n",
    "\n",
    "print(absolute_value(-5))"
   ]
  },
  {
   "cell_type": "markdown",
   "metadata": {},
   "source": [
    "<div class=\"align-center\" style=\"display: flex; text-align: right; direction: rtl; clear: both;\">\n",
    "    <div style=\"display: flex; width: 10%; float: right; clear: both;\">\n",
    "        <img src=\"images/exercise.svg\" style=\"height: 50px !important;\" alt=\"תרגול\"> \n",
    "    </div>\n",
    "    <div style=\"width: 90%\">\n",
    "        <p style=\"text-align: right; direction: rtl; float: right; clear: both;\">\n",
    "        <strong>תרגול</strong>:\n",
    "            כתבו פונקציה שמקבלת שני מספרים, ומחזירה את הגדול מביניהם.<br>\n",
    "            רוצים אתגר? פתרו את התרגיל ב־4 שורות.\n",
    "        </p>\n",
    "    </div>\n",
    "</div>"
   ]
  },
  {
   "cell_type": "markdown",
   "metadata": {},
   "source": [
    "### <p style=\"text-align: right; direction: rtl; float: right;\">מזהים?</p>"
   ]
  },
  {
   "cell_type": "markdown",
   "metadata": {},
   "source": [
    "<p style=\"text-align: right; direction: rtl; float: right; clear: both;\">\n",
    "יתכן שלא שמתם לב, אבל אתם כבר מכירים ואפילו יצא לכם להשתמש בפונקציות מועילות!<br>\n",
    "לדוגמה, הפונקציה <code>print</code> שמטרתה להדפיס למסך הודעה שהיא מקבלת כארגומנט,<br>\n",
    "או הפונקציה <code>type</code> שמטרתה להחזיר את סוג המשתנה שהיא מקבלת כארגומנט.\n",
    "</p>"
   ]
  },
  {
   "cell_type": "markdown",
   "metadata": {},
   "source": [
    "<p style=\"text-align: right; direction: rtl; float: right; clear: both;\">\n",
    "עכשיו, כשאתם כבר מבינים איך עובדות פונקציות, הגיע הזמן להכיר פונקציה חדשה: <code>len</code>.<br>\n",
    "הפונקציה הזו מקבלת מחרוזת – ומחזירה את האורך שלה.<br>\n",
    "בואו ננסה:\n",
    "</p>"
   ]
  },
  {
   "cell_type": "code",
   "execution_count": null,
   "metadata": {},
   "outputs": [],
   "source": [
    "print(len('hello world'))"
   ]
  },
  {
   "cell_type": "code",
   "execution_count": null,
   "metadata": {},
   "outputs": [],
   "source": [
    "# פתרו לפני שתריצו: מה יהיה הערך שיודפס? מה ההבדל בין האגפים?\n",
    "len('hello world') * 2 == len('hello world' * 2)"
   ]
  },
  {
   "cell_type": "markdown",
   "metadata": {},
   "source": [
    "## <div style=\"text-align: right; direction: rtl; float: right;\">מטרות<br><sub>או: למה לי להשתמש בפונקציות בכלל</sub></div>"
   ]
  },
  {
   "cell_type": "markdown",
   "metadata": {},
   "source": [
    "### <p style=\"text-align: right; direction: rtl; float: right;\">קְרִיאוּת</p>"
   ]
  },
  {
   "cell_type": "markdown",
   "metadata": {},
   "source": [
    "<p style=\"text-align: right; direction: rtl; float: right; clear: both;\">\n",
    "פונקציות מחלקות את הקוד שלנו לקטעים קטנים ובעלי שם, שיש מאחוריהם רעיון אחד שקל לקרוא ולתפוש.<br>\n",
    "החלוקה לאותן קטעים קטנים תאפשר לנו לעקוב טוב יותר אחרי כל חלק בתוכנית.<br>\n",
    "כשנרצה לערוך חלק מסוים בתוכנית בשלב כלשהו – יהיה לנו קל ומהיר לדעת איזה קטע בקוד צריך לשנות.\n",
    "</p>"
   ]
  },
  {
   "cell_type": "markdown",
   "metadata": {},
   "source": [
    "### <p style=\"text-align: right; direction: rtl; float: right; clear: both;\">מניעת חזרה</p>"
   ]
  },
  {
   "cell_type": "markdown",
   "metadata": {},
   "source": [
    "<p style=\"text-align: right; direction: rtl; float: right; clear: both;\">\n",
    "פונקציות עוזרות לנו למנוע מצבים שבהם היינו צריכים לכתוב קוד כמה פעמים.<br>\n",
    "זה מועיל מכיוון שזה מאפשר לנו להשתמש מאוד מהר בקוד שכבר כתבנו בעבר.<br>\n",
    "סיבה נוספת שיש להזכיר לחיוב, היא שתחזוקת הקוד משמעותית יותר קלה כשצריך לבצע שינויים במקום אחד מוגדר, ולא במקומות רבים ברחבי הקוד.\n",
    "</p>"
   ]
  },
  {
   "cell_type": "markdown",
   "metadata": {},
   "source": [
    "## <p style=\"align: right; direction: rtl; float: right; clear: both;\">מונחים</p>"
   ]
  },
  {
   "cell_type": "markdown",
   "metadata": {},
   "source": [
    "<dl style=\"text-align: right; direction: rtl; float: right; clear: both;\">\n",
    "<dt>כותרת הפונקציה</dt><dd>השורה הראשונה בהגדרת הפונקציה. מתחילה ב־<code>def</code>, וכוללת את שם הפונקציה ואת שמות הפרמטרים שלה.</dd>\n",
    "<dt>שם הפונקציה</dt><dd>שם שמתאר היטב את פעולתה של הפונקציה. אמור להתחיל בפעולה, כמו <var>get_account_number</var>.</dd>\n",
    "<dt>הפרמטרים</dt><dd>החלק בכותרת הפונקציה שבתוך הסוגריים. רשימה מופרדת בפסיקים של שמות המשתנים שימולאו בערכים מבחוץ, כדי שהפונקציה תוכל לבצע חישובים.</dd>\n",
    "<dt>גוף הפונקציה</dt><dd>החלק המוזח שאחרי כותרת הפונקציה. כולל את כל החישובים הנדרשים כדי למלא את מטרת הפונקציה. כולל את החזרת ערך ההחזרה.</dd>\n",
    "<dt>ערך ההחזרה</dt><dd>הערך שהפונקציה תשלח בחזרה למי שקרא לה. מיד עם שליחת הערך הזה, הפונקציה תסיים את ריצתה.</dd>\n",
    "<dt>הארגומנטים</dt><dd>הערכים שנשלחים מחוץ הפונקציה אל תוך הפונקציה, ויושמו לתוך הפרמטרים.</dd>\n",
    "<dt>קריאה לפונקציה</dt><dd>שימוש בשם הפונקציה על מנת להפעיל אותה. לעיתים יחד עם ארגומנטים, במידה והוגדרו פרמטרים בכותרת הפונקציה.</dd>\n",
    "<dt>חתימת הפונקציה</dt><dd>השם של הפונקציה ושמות כל הפרמטרים שלה.</dd>\n",
    "</dl>"
   ]
  },
  {
   "cell_type": "markdown",
   "metadata": {},
   "source": [
    "## <p style=\"text-align: right; direction: rtl; float: right; clear: both;\">לסיכום</p>"
   ]
  },
  {
   "cell_type": "markdown",
   "metadata": {},
   "source": [
    "<p style=\"text-align: right; direction: rtl; float: right; clear: both;\">\n",
    "<em>פונקציה</em> היא מעין יחידה בסיסית וקטנה של תוכנה.<br>\n",
    "היא עוזרת לנו לחלק את התוכנה שלנו לתתי משימות, והופכת אותה לקריאה יותר וקלה יותר לתחזוקה.<br>\n",
    "את הפונקציה אנחנו מגדירים בעזרת <em>כותרת הפונקציה</em>, שמכילה את <em>שם הפונקציה</em> ואת <em>הפרמטרים</em> שהיא אמורה לקבל.<br>\n",
    "מיד לאחר כותרת הפונקציה נגדיר בהזחה את <em>גוף הפונקציה</em> – שכולל את החישובים או הפעולות שהפונקציה צריכה לבצע,<br>\n",
    "ובסוף נבצע <em>החזרה</em> ל<em>ערך ההחזרה</em> שיופיע אחרי מילת המפתח <code>return</code>.<br> \n",
    "כדי להשתמש בפונקציה אנחנו <em>נקרא לפונקציה</em> בהמשך הקוד, על־ידי כתיבת השם שלה, ובסוגריים שאחריה נפרט את <em>הארגומנטים</em>,שהם הערכים שנרצה להעביר לפונקציה.\n",
    "</p>"
   ]
  },
  {
   "cell_type": "markdown",
   "metadata": {},
   "source": [
    "<p style=\"text-align: right; direction: rtl; float: right; clear: both;\">\n",
    "חשוב לזכור!<br>\n",
    "המשתנים בתוך הפונקציה אינם נגישים מבחוץ, מכיוון שהיא נחשבת יחידה סגורה.<br>\n",
    "כמו כן, ברגע שהפונקציה מגיעה לשורה בה כתוב <code>return</code>, היא מחזירה ערך ומפסיקה את ריצתה.\n",
    "</p>"
   ]
  },
  {
   "cell_type": "markdown",
   "metadata": {},
   "source": [
    "## <p style=\"align: right; direction: rtl; float: right; clear: both;\">תרגולים</p>"
   ]
  },
  {
   "cell_type": "markdown",
   "metadata": {},
   "source": [
    "### <p style=\"align: right; direction: rtl; float: right; clear: both;\">תרגול לדוגמה: מרתון</p>"
   ]
  },
  {
   "cell_type": "markdown",
   "metadata": {},
   "source": [
    "<p style=\"text-align: right; direction: rtl; float: right; clear: both;\">\n",
    "דני מתאמן למרתון הקרוב. הוא מתחיל להתכונן על אש נמוכה, ורץ אתמול 5 קילומטרים.<br>\n",
    "כתבו פונקציה שמקבלת כמה שעות לקח לדני לגמוע את 5 הקילומטרים הללו, ומחשבת מה קצב הריצה הממוצע של דני, בקמ\"ש.<br>\n",
    "כתבו פונקציה נוספת שבודקת האם דני יכול להשלים מרתון תוך 3 שעות.<br>\n",
    "אורכו של מסלול מרתון הוא 42.195 קילומטרים.\n",
    "</p>"
   ]
  },
  {
   "cell_type": "markdown",
   "metadata": {},
   "source": [
    "<p style=\"text-align: right; direction: rtl; float: right; clear: both;\">\n",
    "ניתן לחשב כמה קמ\"ש דני עשה אם ניקח את כמות הקילומטרים שעבר, ונחלק אותו בכמות השעות שלקח לו לעשות את זה.<br>\n",
    "ניתן לחשב כמה זמן יקח לדני לעשות מסלול מסוים, אם ניקח את המרחק בקילומטרים שעשה ונחלק אותו במהירות של דני (בקמ\"ש).<br>\n",
    "ניתן לחשב כמה קילומטרים דני יעשה בזמן נתון, אם ניקח את המהירות שלו בקמ\"ש ונכפיל אותה בזמן שלקח לו לרוץ את המרחק הזה.\n",
    "</p>"
   ]
  },
  {
   "cell_type": "markdown",
   "metadata": {},
   "source": [
    "$$speed = \\frac{distance}{time}$$\n",
    "\n",
    "\n",
    "$$time = \\frac{distance}{speed}$$\n",
    "\n",
    "\n",
    "$$distance = {time}\\cdot{speed}$$"
   ]
  },
  {
   "cell_type": "markdown",
   "metadata": {},
   "source": [
    "<p style=\"text-align: right; direction: rtl; float: right; clear: both;\">\n",
    "הפתרון מופיע בתחתית המחברת.\n",
    "</p>"
   ]
  },
  {
   "cell_type": "markdown",
   "metadata": {},
   "source": [
    "### <p style=\"align: right; direction: rtl; float: right; clear: both;\">האריך במילים</p>"
   ]
  },
  {
   "cell_type": "markdown",
   "metadata": {},
   "source": [
    "<p style=\"text-align: right; direction: rtl; float: right; clear: both;\">\n",
    "כתבו פונקציה שמקבלת 3 מחרוזות כארגומנטים, ומחזירה את המחרוזת הארוכה יותר מביניהן.\n",
    "</p>"
   ]
  },
  {
   "cell_type": "markdown",
   "metadata": {},
   "source": [
    "### <p style=\"align: right; direction: rtl; float: right; clear: both;\">פיזבאז</p>"
   ]
  },
  {
   "cell_type": "markdown",
   "metadata": {},
   "source": [
    "<p style=\"text-align: right; direction: rtl; float: right; clear: both;\">\n",
    "זוהי גרסה של תרגיל פופולרי בראיונות עבודה.\n",
    "</p>\n",
    "<p style=\"text-align: right; direction: rtl; float: right; clear: both;\">\n",
    "כתבו פונקציה שמקבלת מספר.<br>\n",
    "אם המספר מתחלק ב־3 ללא שארית, הדפיסו <samp>Fizz</samp>.<br>\n",
    "אם המספר מתחלק ב־5 ללא שארית, הדפיסו <samp>Buzz</samp>.<br>\n",
    "אם המספר מתחלק גם ב־3 וגם ב־5 ללא שארית, הדפיסו <samp>FizzBuzz</samp>.<br>\n",
    "אם המספר לא מתחלק ב־3 ולא מתחלק ב־5, הדפיסו את המספר עצמו.\n",
    "</p>\n",
    "\n",
    "<p style=\"text-align: right; direction: rtl; float: right; clear: both;\">\n",
    "    לדוגמה,\n",
    "    עבור המספר 9 הדפיסו <samp>Fizz</samp>,<br>\n",
    "    עבור המספר 10 הדפיסו <samp>Buzz</samp>,<br>\n",
    "    עבור המספר 15 הדפיסו <samp>FizzBuzz</samp>,<br>\n",
    "    ועבור המספר 7 הדפיסו <samp>7</samp>.\n",
    "</p>"
   ]
  },
  {
   "cell_type": "markdown",
   "metadata": {},
   "source": [
    "### <p style=\"align: right; direction: rtl; float: right; clear: both;\">מספר הפוך</p>"
   ]
  },
  {
   "cell_type": "markdown",
   "metadata": {},
   "source": [
    "<p style=\"text-align: right; direction: rtl; float: right; clear: both;\">\n",
    "כתבו פונקציה שמקבלת מספר בן 2 ספרות שספרת האחדות שלו שונה מ־0.<br>\n",
    "הפונקציה תחזיר את המספר הפוך.<br>\n",
    "לדוגמה: עבור 53 הפונקציה תחזיר <samp>35</samp>. עבור 19 הפונקציה תחזיר <samp>91</samp>. עבור 91 הפונקציה תחזיר <samp>19</samp>.\n",
    "</p>"
   ]
  },
  {
   "cell_type": "markdown",
   "metadata": {},
   "source": [
    "### <p style=\"align: right; direction: rtl; float: right; clear: both;\">מפענח הצפנים</p>"
   ]
  },
  {
   "cell_type": "markdown",
   "metadata": {},
   "source": [
    "<div class=\"align-center\" style=\"display: flex; text-align: right; direction: rtl; clear: both;\">\n",
    "    <div style=\"display: flex; width: 10%; float: right; clear: both;\">\n",
    "        <img src=\"images/warning.png\" style=\"height: 50px !important;\" alt=\"אזהרה!\"> \n",
    "    </div>\n",
    "    <div style=\"width: 90%\">\n",
    "        <p style=\"text-align: right; direction: rtl; clear: both;\">\n",
    "            זהו תרגיל ברמת קושי גבוהה, שמערב נושאים רבים.<br>\n",
    "            הרגישו בנוח להעזר במתרגלים שלכם.\n",
    "        </p>\n",
    "    </div>\n",
    "</div>"
   ]
  },
  {
   "cell_type": "markdown",
   "metadata": {},
   "source": [
    "<p style=\"text-align: right; direction: rtl; float: right; clear: both;\">\n",
    "הצופן לכספת הביתית שלכם הוא 4812. בנו משחק בול־פגיעה שמאפשר למשתמש לנסות לנחש את הצופן.<br>\n",
    "למשתמש יש 3 ניסיונות לנחש נכונה את המספר שלכם לפני שמתחילה אזעקה.<br>\n",
    "כחלק ממנגנון איבוד הסיסמה של הכספת, היא מציגה כמה ספרות נכונות המשתמש הזין אחרי כל ניחוש.<br>\n",
    "אפשרו למשתמש להזין קוד 3 פעמים, וכתבו לו בכל ניסיון כמה מתוך הספרות שהזין באמת קיימות בקוד הנכון, לאו־דווקא בסדר שהקיש.<br>\n",
    "אם לא הצליח אחרי 3 ניסיונות, הדפיסו שהאזעקה הופעלה וסיימו את התוכנית.<br>\n",
    "</p>\n",
    "<p style=\"text-align: right; direction: rtl; float: right; clear: both;\">\n",
    "לדוגמה, אם המשתמש הקיש בניסיון הראשון 0634, הדפיסו לו שרק אחת הספרות שניחש נכונה.<br>\n",
    "אם המשתמש הקיש בסיבוב השני 1234, הדפיסו לו ש־3 ספרות תואמות את הקוד המקורי.<br>\n",
    "אם המשתמש הקיש בסיבוב השלישי 1284, הדפיסו לו ש־4 ספרות תואמות את הקוד המקורי, ואז הדפיסו לו שהופעלה האזעקה.<br>\n",
    "אם המשתמש הקיש באחד הסיבובים 4812, הדפיסו שהכספת נפתחה בהצלחה וסיימו את התוכנית מיד.\n",
    "</p>"
   ]
  },
  {
   "cell_type": "markdown",
   "metadata": {},
   "source": [
    "### <p style=\"align: right; direction: rtl; float: right; clear: both;\">סכום מספרים</p>"
   ]
  },
  {
   "cell_type": "markdown",
   "metadata": {},
   "source": [
    "<p style=\"text-align: right; direction: rtl; float: right; clear: both;\">\n",
    "קבלו מספר, וחשבו את העצרת שלו – מכפלת כל המספרים עד אותו מספר.<br>\n",
    "לדוגמה, 5 עצרת שווה ל־1 כפול 2 כפול 3 כפול 4 כפול 5, והתוצאה היא 120.<br>\n",
    "<strong>זהירות!</strong> זה תרגיל בונוס, והוא קשה מאוד. מאוד. מאוד מאוד. אנחנו לא אומרים סתם. הוא לא חובה ומיועד לאנשים שרוצים לאתגר את עצמם. מאוד.<br>\n",
    "</p>"
   ]
  },
  {
   "cell_type": "markdown",
   "metadata": {},
   "source": [
    "### <p style=\"align: right; direction: rtl; float: right; clear: both;\">פתרון התרגול לדוגמה: מרתון</p>"
   ]
  },
  {
   "cell_type": "code",
   "execution_count": null,
   "metadata": {},
   "outputs": [],
   "source": [
    "def calculate_km_per_hour_for_5_km(hours_to_finish):\n",
    "    km_per_hour = 5 / hours_to_finish\n",
    "    return km_per_hour\n",
    "\n",
    "\n",
    "def check_if_run_marathon_in_three_hours(km_per_hour):\n",
    "    hours_to_finish_marathon = 42.195 / km_per_hour\n",
    "    return hours_to_finish_marathon <= 3\n",
    "\n",
    "\n",
    "time = float(input(\"How many hours did it take to finish a 5km run? \"))\n",
    "km_per_hour = calculate_km_per_hour_for_5_km(time)\n",
    "can_run_marathon_in_three_hours = check_if_run_marathon_in_three_hours(km_per_hour)\n",
    "\n",
    "if can_run_marathon_in_three_hours:\n",
    "    print(\"Yes you can!\")\n",
    "else:\n",
    "    print(\"No you can't!\")"
   ]
  },
  {
   "cell_type": "markdown",
   "metadata": {},
   "source": [
    "<p style=\"text-align: right; direction: rtl; float: right; clear: both;\">\n",
    "בואו ננקה, נסדר ונהפוך דברים ליותר כלליים:\n",
    "</p>"
   ]
  },
  {
   "cell_type": "code",
   "execution_count": 23,
   "metadata": {},
   "outputs": [
    {
     "name": "stdout",
     "output_type": "stream",
     "text": [
      "How many hours did it take to finish a 5km run? 5\n",
      "You can't do it :(\n"
     ]
    }
   ],
   "source": [
    "MARATHON_DISTANCE = 42.195\n",
    "\n",
    "\n",
    "def calculate_km_per_hour(km_to_run, hours_took_to_finish):\n",
    "    km_per_hour = km_to_run / hours_took_to_finish\n",
    "    return km_per_hour\n",
    "\n",
    "\n",
    "def time_to_run(distance_to_run, km_per_hour):\n",
    "    hours = distance_to_run / km_per_hour\n",
    "    return hours\n",
    "\n",
    "\n",
    "def print_if_can_run(target_time, actual_time):\n",
    "    # זה בסדר להדפיס פה, כי זה ממש המטרה של הפונקציה.\n",
    "    if actual_time <= target_time:\n",
    "        print(\"Success! You can do it!\")\n",
    "    else:\n",
    "        print(\"You can't do it :(\")\n",
    "\n",
    "\n",
    "time = float(input(\"How many hours did it take to finish a 5km run? \"))\n",
    "km_per_hour = calculate_km_per_hour(5, time)\n",
    "hours_to_finish = time_to_run(MARATHON_DISTANCE, km_per_hour)\n",
    "print_if_can_run(3, hours_to_finish)"
   ]
  }
 ],
 "metadata": {
  "kernelspec": {
   "display_name": "Python 3",
   "language": "python",
   "name": "python3"
  },
  "language_info": {
   "codemirror_mode": {
    "name": "ipython",
    "version": 3
   },
   "file_extension": ".py",
   "mimetype": "text/x-python",
   "name": "python",
   "nbconvert_exporter": "python",
   "pygments_lexer": "ipython3",
   "version": "3.7.3"
  }
 },
 "nbformat": 4,
 "nbformat_minor": 2
}
