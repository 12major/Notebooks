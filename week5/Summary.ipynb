{
 "cells": [
  {
   "cell_type": "markdown",
   "metadata": {},
   "source": [
    "<img src=\"images/logo.png\" alt=\"לוגו של מיזם לימוד הפייתון. נחש מצויר בצבעי צהוב וכחול, הנע בין האותיות של שם הקורס: לומדים פייתון. הסלוגן המופיע מעל לשם הקורס הוא מיזם לימוד תכנות בחינם ובעברית.\">"
   ]
  },
  {
   "cell_type": "markdown",
   "metadata": {},
   "source": [
    "# <span style=\"text-align: right; direction: rtl; float: right; clear: both;\"> תרגילים </span> "
   ]
  },
  {
   "cell_type": "markdown",
   "metadata": {},
   "source": [
    "## <span style=\"text-align: right; direction: rtl; float: right; clear: both;\"> בחירות במדינת הגמדים - מאחורי הקלעים</span>"
   ]
  },
  {
   "cell_type": "markdown",
   "metadata": {},
   "source": [
    "<p style=\"text-align: right; direction: rtl; float: right; clear: both;\">\n",
    "כעת כשאתם יודעים כיצד להשתמש בספריות חיצוניות נבין איך יצרנו את הקובץ \"בחירות הגמדים\".<br>\n",
    "תחילה צרו רשימה ובה שמות \"המפלגות\" שתרצו שיהיו במדינת הגמדים.<br></p>"
   ]
  },
  {
   "cell_type": "code",
   "execution_count": null,
   "metadata": {},
   "outputs": [],
   "source": [
    "# define your list here"
   ]
  },
  {
   "cell_type": "markdown",
   "metadata": {},
   "source": [
    "<p style=\"text-align: right; direction: rtl; float: right; clear: both;\">כעת ייבאו את הספרייה <code>random</code>. בדקו מה עושה הפונקציה <code>choice</code> של הספרייה. השתמשו בה על הרשימה שיצרתם.</p>"
   ]
  },
  {
   "cell_type": "code",
   "execution_count": null,
   "metadata": {},
   "outputs": [],
   "source": []
  },
  {
   "cell_type": "markdown",
   "metadata": {},
   "source": [
    "<p style=\"text-align: right; direction: rtl; float: right; clear: both;\">בדקו מה עושה הפונקציה <code>choices</code>. השתמשו בה על הרשימה שיצרתם. מה עושה הפרמטר <var>k</var>?</p>"
   ]
  },
  {
   "cell_type": "code",
   "execution_count": null,
   "metadata": {},
   "outputs": [],
   "source": []
  },
  {
   "cell_type": "markdown",
   "metadata": {},
   "source": [
    "<p style=\"text-align: right; direction: rtl; float: right; clear: both;\">צרו רשימה של 353,400 קולות גמדים שנבחרו בצורה אקראית.</p>"
   ]
  },
  {
   "cell_type": "code",
   "execution_count": null,
   "metadata": {},
   "outputs": [],
   "source": []
  },
  {
   "cell_type": "markdown",
   "metadata": {},
   "source": [
    "<p style=\"text-align: right; direction: rtl; float: right; clear: both;\">אם לא השתשמתם באף פרמטר פרט ל-<var>k</var> כל הקולות הוגרלו בהסתברות שווה וקרוב לוודאי שיצא תיקו בבחירות. זה מצב שהוא לא רצוי.<br>\n",
    "צרו רשימה באורך זהה לרשימת המפלגות, ברשימה זו תנו לכל מפלגה ציון בין 1 ל-10 המשקף את הסבירות שיצביעו לה.<br>\n",
    "מפלגה עם ציון גבוה תיבחר בסבירות גבוהה יותר על ידי ההגרלות שביצענו.<br>\n",
    "    את רשימה זו העבירו בפרמטר <var>weights</var>.</p>"
   ]
  },
  {
   "cell_type": "code",
   "execution_count": null,
   "metadata": {},
   "outputs": [],
   "source": []
  },
  {
   "cell_type": "markdown",
   "metadata": {},
   "source": [
    "<p style=\"text-align: right; direction: rtl; float: right; clear: both;\">קיבלנו רשימה של 353,400 קולות שנבחרו אקראית בהסתברות לא שווה (על מנת שיהיה מנצח בבחירות). כעת כתבו את רשימת קולות הגמדים לקובץ בשם <samp>elections.txt</samp>.</p>"
   ]
  },
  {
   "cell_type": "code",
   "execution_count": null,
   "metadata": {},
   "outputs": [],
   "source": []
  },
  {
   "cell_type": "markdown",
   "metadata": {},
   "source": [
    "## <p style=\"text-align:right;direction:rtl;\">לוח שנה</p>"
   ]
  },
  {
   "cell_type": "markdown",
   "metadata": {},
   "source": [
    "<p style=\"text-align: right; direction: rtl; float: right; clear: both;\">בתרגיל זה נממש לוח שנה באמצעות הספריה <code>datetime</code>. מידע רחב עליה נמצא <a href=\"https://docs.python.org/3/library/datetime.html\">בלינק זה</a>.<br>\n",
    "    לוח השנה שלנו יתחיל כלוח ריק ונאפשר למשתמש להוסיף פגישות, לבדוק מה יש לו ביום מסוים וכו'.<br>\n",
    "    לוח השנה שלנו הוא מילון, המפתחות יהיו תאריכי הימים שהם מחרוזת בפורמט <samp>dd.mm.yyyy</samp> כאשר <var>d</var> מציין יום, <var>m</var> מציין חודש, ו-<var>y</var> מציין שנה.<br>\n",
    "    לדוגמה, המחרוזת <samp>'02.04.2019'</samp> היא מפתח חוקי במילון (לוח השנה) שלנו.<br>\n",
    "    כל תאריך (המהווה מפתח במילון) ממפה רשימה של הפגישות והאירועים שיש באותו היום.<br><br>\n",
    "    פגישה מתוארת ע\"י רשומה (tuple) ובה שם הפגישה, שעת התחלה ושעת סיום: <samp>(name, start_time, end_time)</samp>.<br>\n",
    "    על מנת לייצג את שעות הפגישות נשתמש בטיפוס שלא פגשנו עד כה מהסוג <code>datetime.datetime</code>.<br>\n",
    "    (שימו-לב: לפני הנקודה רשום שם הספרייה שאנו משתמשים בה ולאחר מכן סוג הטיפוס שאנו משתמשים בו)\n",
    "    זה נראה כך:\n",
    "</p>\n",
    "<p style=\"text-align: left; direction: ltr; float: left; clear: both;\">\n",
    "<samp>{'03.05.2018': [(\"Lunch\", datetime.datetime(2018, 5, 3, 12, 45),datetime.datetime(2018, 5, 3, 13, 0))]}</samp>\n",
    "</p>\n",
    "<p style=\"text-align: right; direction: rtl; float: right; clear: both;\">נבין מה אנחנו רואים:<br>\n",
    "    מילון ובו המפתח <samp>'03.05.2018'</samp><br>\n",
    "    הערך השייך למפתח הזה הוא <b>רשימה</b> של רשומות (tuples)<br>\n",
    "    כל רשומה מורכבת משני רכיבים מסוג <code>datetime.datetime</code> אחד עבור שעת התחלה ואחד עבור שעת סיום ורכיב עבור שם הפגישה.<br>\n",
    "    בדוגמה אנו רואים שביום 03.05.2018 יש פגישה בשעה 12:45 עד שעה 13:00.<br>\n",
    "    בתור התחלה הבינו איך עובדים עם משתנים מסוג <code>datetime.datetime</code>.<br>\n",
    "    צרו משתנה מסוג זה ע\"י:<br>\n",
    "</p>\n",
    "<p style=\"text-align: left; direction: ltr; float: left; clear: both;\">\n",
    "<code>t = datetime.datetime(2018, 5, 3, 12, 45)</code>\n",
    "</p>\n",
    "<p style=\"text-align: right; direction: rtl; float: right; clear: both;\">גם למשתנה מסוג זה יש מתודות.<br>\n",
    "    מומלץ לקרוא על <code>timedelta</code> ולהשתמש בו.<br>\n",
    "    קראו על <code>strftime</code> ו-<code>strptime</code> והריצו כמה דוגמאות כדי לראות שהבנתם.<br>\n",
    "בכל פעם שתצטרכו תבנית של זמן השתמשו בתבנית זו:\n",
    "</p>\n",
    "<p style=\"text-align: left; direction: ltr; float: left; clear: both;\">\n",
    "<samp>%d.%m.%Y %H:%M</samp>\n",
    "</p>"
   ]
  },
  {
   "cell_type": "markdown",
   "metadata": {},
   "source": [
    "### <span style=\"text-align: right; direction: rtl; float: right; clear: both;\">הוספת פגישה לרשימה היומית</span>"
   ]
  },
  {
   "cell_type": "markdown",
   "metadata": {},
   "source": [
    "<p style=\"text-align: right; direction: rtl; float: right; clear: both;\">כתבו פונקציה המקבלת את רשימת הפגישות היומית, את השם הפגישה שיש להוסיף מחרוזת המתארת את השעה שיש להוסיף בה פגישה עפ\"י התבנית:<br></p>\n",
    "<samp>%H:%M</samp><br>\n",
    "<p style=\"text-align: right; direction: rtl; float: right; clear: both;\">\n",
    "ואת משך הפגישה בדקות, ומוסיפה את הפגישה ליומן, אם אין התנגשויות. הפונקציה תחזיר את הרשימה החדשה.<br>\n",
    "כיון שאנו בני אדם, אנו זקוקים ל-5 דקות הפסקה בין פגישה לפגישה. ולכן אם יש פגישה שמתחילה בשעה 10:00 ומסתיימת בשעה 10:30, לא תיתכן פגישה שתסתיים אחרי 09:55 ולא תיתכן פגישה שתתחיל לפני 10:35 (אלא אם היא לא חופפת בכלל עם הפגישה המדוברת).<br>\n",
    "בנוסף, אנחנו אוהבים לישון ולכן לא ייקבעו פגישות בין השעות 22:00 ו-07:00. <br>\n",
    "דוגמאות:\n",
    "</p>\n",
    "<code>day_schedule = add_meeting_for_day([], \"Lunch\", \"12:45\", 15)</code><br><br>\n",
    "<code>day_schedule</code><br><br>\n",
    "<samp>[(\"Lunch\", datetime.datetime(2018, 5, 3, 12, 45), datetime.datetime(2018, 5, 3, 13, 0))]</samp><br><br>\n",
    "<code>add_meeting_for_day(day_schedule, \"Coffee with Dvir\", \"13:03\", 35)</code><br><br>\n",
    "<samp>Cannot schedule for this time. I AM ON A BREAK </samp><br><br>\n",
    "<code>day_schedule</code><br><br>\n",
    "<samp>[(\"Lunch\", datetime.datetime(2018, 5, 3, 12, 45), datetime.datetime(2018, 5, 3, 13, 0))]</samp><br><br>\n",
    "<code>add_meeting_for_day(day_schedule, \"Morning run\", \"06:35\", 35)</code><br><br>\n",
    "<samp>Cannot schedule for this time. I'm sleeping. </samp><br><br>\n",
    "<code>day_schedule</code><br><br>\n",
    "<samp>[(\"Lunch\", datetime.datetime(2018, 5, 3, 12, 45), datetime.datetime(2018, 5, 3, 13, 0))]</samp><br><br>\n",
    "<code>day_schedule = add_meeting_for_day(day_schedule, \"Coffee with Dvir\", \"14:45\", 35)</code><br><br>\n",
    "<code>day_schedule</code><br><br>\n",
    "<samp>[(\"Lunch\", datetime.datetime(2018, 5, 3, 12, 45), datetime.datetime(2018, 5, 3, 13, 0)),<br>(\"Coffee with Dvir\", datetime.datetime(2018, 5, 3, 14, 45), datetime.datetime(2018, 5, 3, 15, 20))]</samp>"
   ]
  },
  {
   "cell_type": "code",
   "execution_count": 1,
   "metadata": {},
   "outputs": [],
   "source": [
    "# add_meeting_for_day(daily_schedule, meeting_name, start_time, length(in minutes))"
   ]
  },
  {
   "cell_type": "markdown",
   "metadata": {},
   "source": [
    "### <span style=\"text-align: right; direction: rtl; float: right; clear: both;\">הדפסת לוח הפגישות היומי</span>"
   ]
  },
  {
   "cell_type": "markdown",
   "metadata": {},
   "source": [
    "<p style=\"text-align: right; direction: rtl; float: right; clear: both;\">בסעיף זה ניצור פונקציה המדפיסה את לוז הפגישות היומי.<br>\n",
    "    הפונקציה תקבל את התאריך של היום ואת לוז הפגישות היומי (המיוצג על ידי רשימה הנ\"ל) ותדפיס אותו <strong>בסדר כרונולוגי</strong>. כלומר עפ\"י ציר זמן מהמוקדם ביותר ועד המאוחר ביותר. באופן הבא:<br>\n",
    "</p>\n",
    "<p style=\"text-align: left; direction: ltr; float: left; clear: both;\">\n",
    "<code>schedule = <br>{\"03.05.2018\":[<br>(\"Lunch\", datetime.datetime(2018, 5, 3, 12, 45), datetime.datetime(2018, 5, 3, 13, 0)),<br>(\"Coffee with Dvir\", datetime.datetime(2018, 5, 3, 14, 45), datetime.datetime(2018, 5, 3, 15, 20))], <br>\"04.05.2018\":[<br>(\"Run\", datetime.datetime(2018, 5, 3, 10, 45), datetime.datetime(2018, 5, 3, 11, 15)),<br>(\"Lunch\", datetime.datetime(2018, 5, 3, 14, 45), datetime.datetime(2018, 5, 3, 15, 20))]}</code><br><br>\n",
    "<code>print_daily_schedule(\"03.05.2018\",schedule[\"03.05.2018\"])</code><br>\n",
    "<samp>### 03.05.2018 ###<br>12:45 - 13:00 Lunch<br>14:45 - 15:20 Coffee with Dvir<br><br></samp>\n",
    "<code>print_daily_schedule(\"04.05.2018\",schedule[\"04.05.2018\"])</code><br>\n",
    "<samp>### 04.05.2018 ###<br>10:45 - 11:15 Run<br>14:45 - 15:20 Lunch<br></samp></p>\n",
    "<p style=\"text-align: right; direction: rtl; float: right; clear: both;\">שימו לב שסדר הפגישות המופיע במילון לא חייב להופיע בסדר כרונולוגי, אך כשתדפיסו הוא חייב להופיע כך.</p>\n",
    "\n"
   ]
  },
  {
   "cell_type": "code",
   "execution_count": 2,
   "metadata": {},
   "outputs": [],
   "source": [
    "# print_daily_schedule(date,daily_meetings_list)"
   ]
  },
  {
   "cell_type": "markdown",
   "metadata": {},
   "source": [
    "### <span style=\"text-align: right; direction: rtl; float: right; clear: both;\">הוספת פגישה ליומן</span>"
   ]
  },
  {
   "cell_type": "markdown",
   "metadata": {},
   "source": [
    "<p style=\"text-align: right; direction: rtl; float: right; clear: both;\">כעת נכתוב פונקציה המוסיפה פגישה ליומן בתאריך ובשעה נתונים, על פי כל התנאים שהוזכרו קודם, כלומר אם הפגישה ניתנת להוספה יוחזר מילון מעודכן המכיל את הפגישה, אחרת תודפס הודעה מתאימה ויוחזר המילון הקודם:<br></p>\n",
    "<code>schedule = add_meeting({}, \"Lunch\", \"03.05.2018 12:45\", 15)</code><br><br>\n",
    "<code>schedule</code><br><br>\n",
    "<samp>{[(\"Lunch\", datetime.datetime(2018, 5, 3, 12, 45), datetime.datetime(2018, 5, 3, 13, 0))]}</samp>"
   ]
  },
  {
   "cell_type": "code",
   "execution_count": null,
   "metadata": {},
   "outputs": [],
   "source": [
    "# add_meeting(schedule_dict, meeting_name, full_meeting_date, metting_length(in minutes))"
   ]
  },
  {
   "cell_type": "markdown",
   "metadata": {},
   "source": [
    "### <span style=\"text-align: right; direction: rtl; float: right; clear: both;\">הדפסת היומן</span>"
   ]
  },
  {
   "cell_type": "markdown",
   "metadata": {},
   "source": [
    "<p style=\"text-align: right; direction: rtl; float: right; clear: both;\">הפונקציה תדפיס את כל היומן בהתאם לתנאים שהוזכרו קודם, בסדר כרונולוגי מהמוקדם ביותר ועד המאוחר ביותר. העזרו בפונקציה הקודמת שכתבתם והפעילו אותה על הימים לפי הסדר המתאים.</p><br><br>\n",
    "<code>schedule = <br>{\"03.05.2018\":[<br>(\"Lunch\", datetime.datetime(2018, 5, 3, 12, 45), datetime.datetime(2018, 5, 3, 13, 0)),<br>(\"Coffee with Dvir\", datetime.datetime(2018, 5, 3, 14, 45), datetime.datetime(2018, 5, 3, 15, 20))], <br>\"04.05.2018\":[<br>(\"Run\", datetime.datetime(2018, 5, 3, 10, 45), datetime.datetime(2018, 5, 3, 11, 15)),<br>(\"Lunch\", datetime.datetime(2018, 5, 3, 14, 45), datetime.datetime(2018, 5, 3, 15, 20))]}</code><br><br>\n",
    "<code>print_daily_schedule(\"03.05.2018\",schedule[\"03.05.2018\"])</code><br>\n",
    "<samp>### 03.05.2018 ###<br>12:45 - 13:00 Lunch<br>14:45 - 15:20 Coffee with Dvir<br><br></samp>\n",
    "<samp>### 04.05.2018 ###<br>10:45 - 11:15 Run<br>14:45 - 15:20 Lunch<br></samp>\n",
    "<p style=\"text-align: right; direction: rtl; float: right; clear: both;\">שימו לב שסדר הפגישות המופיע במילון לא חייב להופיע בסדר כרונולוגי, אך כשתדפיסו הוא חייב להופיע כך.</p>\n"
   ]
  },
  {
   "cell_type": "code",
   "execution_count": null,
   "metadata": {},
   "outputs": [],
   "source": [
    "# print_schedule(schedule)"
   ]
  },
  {
   "cell_type": "markdown",
   "metadata": {},
   "source": [
    "## <span style=\"text-align: right; direction: rtl; float: right; clear: both;\">סייר קבצים</span>"
   ]
  },
  {
   "cell_type": "markdown",
   "metadata": {},
   "source": [
    "<p style=\"text-align: right; direction: rtl; float: right; clear: both;\">בשאלה זו עליכם להתמודד באופן עצמאי עם ספריה חדשה ומאוד שימושית שנקראת <samp>pathlib</samp> תוכלו למצוא עליה מידע <a href=\"https://docs.python.org/3/library/pathlib.html\">כאן</a>.<br>\n",
    "ספריה זו מאפשרת לעשות שימוש במערכת הקבצים של המחשב.<br>\n",
    "    קראו את הדוגמאות שיש בעמוד המתאר את הספריה. נסו להגדיר בעצמכם משתנים מטיפוס <var>Path</var> ולהפעיל עליהם מתודות.<br>\n",
    "    זכרו להשתמש בפונקציות <code>dir(some_variable)</code> כדי לראות איזה מתודות יש לו.<br>\n",
    "    השתמשו ב-? על מנת לקבל מידע על המתודה: </p>\n",
    "<p style=\"text-align: left; direction: ltr; dir: ltr; float: left; clear: both;\">\n",
    "<code>some_variable.method_name?</code>\n",
    "</p>\n",
    "<p style=\"text-align: right; direction: rtl; dir: ltr; float: right; clear: both;\">נזכיר כי מבנה מערכת הקבצים במחשב בנוי בצורה היררכית כאשר במערכות מסוג <samp>Windows</samp> בדרך כלל התיקייה הראשית היא תיקיית כונן <samp dir=\"ltr\" style=\"direction: ltr;\">C:</samp> והיא מכילה תיקיות המיוצגות על ידי \"נתיבים\" באופן הבא: <samp>C:/directoryA/directoryB/myfile.txt</samp><br>\n",
    "    זהו נתיב המוביל לקובץ <samp>myfile.txt</samp> הנמצא בתוך התיקייה <samp>directoryB</samp> שנמצאת בתוך התיקייה <samp>directoryA</samp> שנמצאת תחת התיקייה הראשית.<br>\n",
    "בתרגיל זה לא נעבוד ישירות החל מהתיקייה הראשית (כיון שיש במחשב המון קבצים ויקח זמן רב לעבור על כולם כל הזמן), לכן צרו תיקייה חדשה בשם <samp>trying_pathlib</samp> ובה עוד מספר תיקיות וקבצי טקסט כרצונכם. על תיקייה זו נעבוד.<br><br>\n",
    "    תחילה צרו משתנה מסוג <samp>Path</samp> המצביע על התיקייה שיצרתם.\n",
    "</p>"
   ]
  },
  {
   "cell_type": "code",
   "execution_count": null,
   "metadata": {},
   "outputs": [],
   "source": [
    "# working_dir = ..."
   ]
  },
  {
   "cell_type": "markdown",
   "metadata": {},
   "source": [
    "### <span style=\"text-align: right; direction: rtl; float: right; clear: both;\">הדפסת כל הקבצים בתת התיקייה</span>"
   ]
  },
  {
   "cell_type": "markdown",
   "metadata": {},
   "source": [
    "<p style=\"text-align: right; direction: rtl; float: right; clear: both;\">הדפיסו את כל הקבצים והתיקיות שנמצאים תחת התיקייה <samp>trying_pathlib</samp>.<br>\n",
    "עליכם להדפיס גם את כל הקבצים והתיקיות שנמצאים בכל תתי התיקיות הנמצאים תחת תיקייה זו.</p>"
   ]
  },
  {
   "cell_type": "code",
   "execution_count": null,
   "metadata": {},
   "outputs": [],
   "source": [
    "# print_all_subfiles()"
   ]
  },
  {
   "cell_type": "markdown",
   "metadata": {},
   "source": [
    "<p style=\"text-align: right; direction: rtl; float: right; clear: both;\">הדפיסו את כל הקבצים בפורמט נתון, לדוגמה הדפיסו את כל הקבצים עם סיומת <samp>txt</samp>:<br></p>\n",
    "<code>print_by_suffix(\"txt\")</code>"
   ]
  },
  {
   "cell_type": "code",
   "execution_count": null,
   "metadata": {},
   "outputs": [],
   "source": [
    "# print_by_suffix(suffix)"
   ]
  },
  {
   "cell_type": "markdown",
   "metadata": {},
   "source": [
    "<p style=\"text-align: right; direction: rtl; float: right; clear: both;\"> הדפיסו את כל הקבצים בתיקיה זו ובתת התיקיות <strong>שאינם</strong> מסתיימים בסיומת נתונה.\n",
    "</p>\n",
    "<code>print_filter_suffix(\"txt\")</code><br>\n",
    "<samp>\"movie.avi\"</samp><br>\n",
    "<samp>\"image.jpg\"</samp><br>\n",
    "<samp>\"doc.docx\"</samp><br>\n",
    "<samp>\"tables.csv\"</samp><br>"
   ]
  },
  {
   "cell_type": "code",
   "execution_count": null,
   "metadata": {},
   "outputs": [],
   "source": [
    "# print_filter_suffix(suffix)"
   ]
  },
  {
   "cell_type": "markdown",
   "metadata": {},
   "source": [
    "<p style=\"text-align: right; direction: rtl; float: right; clear: both;\">הדפיסו אך ורק את שמות תתי התיקיות שנמצאים תחת תיקיית העבודה שלנו. (כמובן שגם תת תיקיות של תתי תיקיות וכדומה).\n",
    "</p>"
   ]
  },
  {
   "cell_type": "code",
   "execution_count": null,
   "metadata": {},
   "outputs": [],
   "source": [
    "# print_sub_dirs()"
   ]
  },
  {
   "cell_type": "markdown",
   "metadata": {},
   "source": [
    "### <span style=\"text-align: right; direction: rtl; float: right; clear: both;\">חיפוש</span>"
   ]
  },
  {
   "cell_type": "markdown",
   "metadata": {},
   "source": [
    "<p style=\"text-align: right; direction: rtl; float: right; clear: both;\">כתבו פונקציה המקבלת שם של קובץ ומחפשת אותו בתת המבנה המתחיל בתיקיית העבודה שהגדרנו.<br>\n",
    "    הפונקציה תחזיר את הנתיב המלא לקובץ אם הוא נמצא, ואחרת תחזיר <samp>None</samp>:\n",
    "</p>\n",
    "<code>search_file(\"elections.txt\")</code><br>\n",
    "<samp>C:/Documents/elections.txt</samp><br><br>\n",
    "<code>search_file(\"GameOfThronesS08E08.avi\")</code><br>\n",
    "<samp>None</samp>"
   ]
  },
  {
   "cell_type": "code",
   "execution_count": null,
   "metadata": {},
   "outputs": [],
   "source": [
    "# search_file(filename)"
   ]
  }
 ],
 "metadata": {
  "kernelspec": {
   "display_name": "Python 3",
   "language": "python",
   "name": "python3"
  },
  "language_info": {
   "codemirror_mode": {
    "name": "ipython",
    "version": 3
   },
   "file_extension": ".py",
   "mimetype": "text/x-python",
   "name": "python",
   "nbconvert_exporter": "python",
   "pygments_lexer": "ipython3",
   "version": "3.7.1"
  }
 },
 "nbformat": 4,
 "nbformat_minor": 2
}
