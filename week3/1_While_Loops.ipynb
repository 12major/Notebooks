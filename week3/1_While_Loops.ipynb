{
 "cells": [
  {
   "cell_type": "markdown",
   "metadata": {},
   "source": [
    "<img src=\"images/logo.png\" alt=\"לוגו של מיזם לימוד הפייתון. נחש מצויר בצבעי צהוב וכחול, הנע בין האותיות של שם הקורס: לומדים פייתון. הסלוגן המופיע מעל לשם הקורס הוא מיזם לימוד תכנות בחינם ובעברית.\">"
   ]
  },
  {
   "cell_type": "markdown",
   "metadata": {},
   "source": [
    "# <p style=\"text-align: right; direction: rtl; float: right;\">לולאות</p>"
   ]
  },
  {
   "cell_type": "markdown",
   "metadata": {},
   "source": [
    "## <p style=\"text-align: right; direction: rtl; float: right; clear: both;\">הקדמה</p>"
   ]
  },
  {
   "cell_type": "markdown",
   "metadata": {},
   "source": [
    "<p style=\"text-align: right; direction: rtl; float: right; clear: both;\">\n",
    "    זהו בוקר אפלולי וגשום של יום ראשון. השמיים אפורים, ואתם במיטה מתחת לפוך המפנק שלכם, מתפללים שאתם עדיין בתוך החלום המתוק ההוא.<br>\n",
    "    השעה היא 7:30. השעון המעורר מנגן שוב את השיר שפעם היה האהוב עליכם, והיום מעלה בכם אסוציאציות קשות שמערבות את הטלפון החכם שלכם ופטיש כבד מאוד.<br>\n",
    "    הפגישה שלכם בשעה 9:00, ואתם יודעים שתספיקו בוודאות להגיע אם תתעוררו בשעה 8:00 ותמהרו מאוד.<br>\n",
    "    היד מושטת לכפתור ה\"נודניק\" שיפעיל את השעון המעורר שוב עוד 10 דקות. ועוד פעם. ושוב.\n",
    "</p>"
   ]
  },
  {
   "cell_type": "markdown",
   "metadata": {},
   "source": [
    "<p style=\"text-align: right; direction: rtl; float: right; clear: both;\">\n",
    "    אם נתאר את האלגוריתם שלפיו פעלתם, נוכל להגיד:<br>\n",
    "    <q>כל עוד השעון מצלצל, והשעה היא לפני 8:00, לחץ על כפתור הנודניק בשעון.</q><br>\n",
    "    נצייר את דרך הפעולה שלכם:\n",
    "</p>"
   ]
  },
  {
   "cell_type": "markdown",
   "metadata": {},
   "source": [
    "<figure>\n",
    "        <img src=\"images/while-flow.svg?v=4\" width=\"400px\" alt=\"התרשים מתחיל ב'הלכת לישון'. לאחר מכן הוא בודק האם השעון מצלצל וגם השעה היא לפני 8:00.\">\n",
    "    <figcaption style=\"text-align: center; direction: rtl; clear: both;\">\n",
    "        תרשים הזרימה של שעון מעורר בבוקר מדכא.\n",
    "    </figcaption>\n",
    "</figure>"
   ]
  },
  {
   "cell_type": "markdown",
   "metadata": {},
   "source": [
    "<div class=\"align-center\" style=\"display: flex; text-align: right; direction: rtl; clear: both;\">\n",
    "    <div style=\"display: flex; width: 10%; float: right; clear: both;\">\n",
    "        <img src=\"images/exercise.svg\" style=\"height: 50px !important;\" alt=\"תרגול\"> \n",
    "    </div>\n",
    "    <div style=\"width: 90%\">\n",
    "        <p style=\"text-align: right; direction: rtl; float: right; clear: both;\">\n",
    "        <strong>תרגול</strong>:\n",
    "            נסו לשרטט אלגוריתם להטלת 6 בקובייה.<br>\n",
    "            כל עוד לא יצא 6 בקובייה, הטל את הקובייה מחדש.<br>\n",
    "            כשקיבלת 6 בקובייה, עשה <a href=\"https://www.youtube.com/watch?v=Md7OvU5JIcI\">צהלולים</a> בקול גדול.\n",
    "        </p>\n",
    "    </div>\n",
    "</div>"
   ]
  },
  {
   "cell_type": "markdown",
   "metadata": {},
   "source": [
    "## <p style=\"text-align: right; direction: rtl; float: right; clear: both;\">הגדרה</p>"
   ]
  },
  {
   "cell_type": "markdown",
   "metadata": {},
   "source": [
    "<p style=\"text-align: right; direction: rtl; float: right; clear: both;\">\n",
    "המבנה ששרטטנו זה עתה נקרא לולאה.<br>\n",
    "נשתמש בלולאה כשנרצה לבצע פעולה מסויימת מספר פעמים שאנחנו לאו־דווקא יודעים מראש.<br>\n",
    "אם ננסה לפרק את הלולאה כרעיון, נגלה שכל לולאה מורכבת מ־4 חלקים מרכזיים:\n",
    "</p>"
   ]
  },
  {
   "cell_type": "markdown",
   "metadata": {},
   "source": [
    "<ol style=\"text-align: right; direction: rtl; float: right; clear: both;\">\n",
    "    <li><em>אתחול הסביבה</em> - הגדרת ערכים בהם נשתמש בלולאה.</li>\n",
    "    <li><em>תנאי הלולאה</em> – ביטוי בוליאני. כל עוד הביטוי הזה שקול ל־<code>True</code>, גוף הלולאה ימשיך להתבצע.</li>\n",
    "    <li><em>גוף הלולאה</em> – הפעולות שיקרו כל פעם שתנאי הלולאה מתקיים.</li>\n",
    "    <li><em>צעד לקראת סוף הלולאה</em> – נתון שמבטיח שהלולאה תסתיים.</li>\n",
    "</ol>"
   ]
  },
  {
   "cell_type": "markdown",
   "metadata": {},
   "source": [
    "<p style=\"text-align: right; direction: rtl; float: right; clear: both;\">\n",
    "במקרה שלנו:\n",
    "</p>\n",
    "<ol style=\"text-align: right; direction: rtl; float: right; clear: both;\">\n",
    "    <li>שלב <em style=\"color: #107896\">אתחול הסביבה</em> כולל:\n",
    "        <ol>\n",
    "            <li><em style=\"color: #829456;\">הגדרת הצלצול הראשוני ל־7:30</em>.</li>\n",
    "            <li><em style=\"color: #829456;\">הגדרת שעת ההשקמה הסופית ל־8:00</em>.</li>\n",
    "            <li><em style=\"color: #829456;\">הגדרת ה\"נודניק\" לתת לנו 10 דקות</em>.</li>\n",
    "        </ol>\n",
    "    </li>\n",
    "    <li><em style=\"color: #107896\">תנאי הלולאה</em> יכול להיות <em style=\"color: #829456;\">השעון המעורר פועל וגם השעה היא לפני שעת ההשכמה הסופית</em>.</li>\n",
    "    <li><em style=\"color: #107896\">גוף הלולאה</em> יכול להיות <em style=\"color: #829456;\">לחיצה על הנודניק</em> ו<em style=\"color: #829456;\">חזרה לישון</em>.</li>\n",
    "    <li><em style=\"color: #107896\">צעד לקראת סוף הלולאה</em> הוא <em style=\"color: #829456;\">הזמן שעבר בין צלצול לצלצול, שמקרבות אותנו לשעה 8:00</em>.</li>\n",
    "</ol>"
   ]
  },
  {
   "cell_type": "markdown",
   "metadata": {},
   "source": [
    "<div class=\"align-center\" style=\"display: flex; text-align: right; direction: rtl; clear: both;\">\n",
    "    <div style=\"display: flex; width: 10%; float: right; clear: both;\">\n",
    "        <img src=\"images/exercise.svg\" style=\"height: 50px !important;\" alt=\"תרגול\"> \n",
    "    </div>\n",
    "    <div style=\"width: 90%\">\n",
    "        <p style=\"text-align: right; direction: rtl; float: right; clear: both;\">\n",
    "        <strong>תרגול</strong>:\n",
    "            נסו לחשוב על דוגמה משלכם ללולאה כלשהי, ופרקו אותה ל־4 הרעיונות המרכזיים עליהם דנו.\n",
    "        </p>\n",
    "    </div>\n",
    "</div>"
   ]
  },
  {
   "cell_type": "markdown",
   "metadata": {},
   "source": [
    "## <p style=\"text-align: right; direction: rtl; float: right;\">דוגמאות</p>"
   ]
  },
  {
   "cell_type": "markdown",
   "metadata": {},
   "source": [
    "<p style=\"text-align: right; direction: rtl; float: right; clear: both;\">\n",
    "קל לחשוב על דוגמאות ללולאות מחיי היום־יום.<br>\n",
    "כמעט כל פעם שאנחנו אומרים \"עד ש־\" או \"כל עוד־\", אנחנו בונים לולאה במציאות.<br>\n",
    "כל פעם שאנחנו חוזרים על משהו שוב ושוב, אנחנו פועלים לפי לולאה מסוימת שמניעה אותנו.<br>\n",
    "רוב חיי היום־יום שלנו מתנהלים בלולאות, וזו הסיבה שלולאות הן כלי כל כך חזק בתכנות.<br>\n",
    "</p>"
   ]
  },
  {
   "cell_type": "markdown",
   "metadata": {},
   "source": [
    "<p style=\"text-align: right; direction: rtl; float: right; clear: both;\">\n",
    "הנה כמה דוגמאות ללולאות:\n",
    "</p>"
   ]
  },
  {
   "cell_type": "markdown",
   "metadata": {},
   "source": [
    "<ul style=\"text-align: right; direction: rtl; float: right; clear: both;\">\n",
    "    <li>ספור מ־1 ועד 10, כולל 10.</li>\n",
    "    <li>בשולחן עם אוכל, המשך לאכול עד שאתה שבע.</li>\n",
    "    <li>התעורר מהשינה! כל עוד אתה עירני, המשך ללמוד פייתון.</li>\n",
    "    <li>פתח את הספר בעמוד הראשון. כל עוד לא קראת את כל העמודים בספר, קרא את העמוד הנוכחי ואז עבור לעמוד הבא.</li>\n",
    "    <li>כל עוד לא מצאת אישה שנקראת הרמיוני, גש למישהי אקראית בעלת שיער חום מתולתל ועיניים חומות שנמצאת על הרציף ושאל אותה האם היא הרמיוני.</li>\n",
    "    <li>בליל כל הקדושים, התחפש, לך החוצה, וכל עוד לא עברת על כל הבתים ברחוב: לך לבית, צלצל בפעמון, אמור \"ממתק או תעלול\", קח ממתק, אמור תודה ולך לבית הבא.</li>\n",
    "</ul>"
   ]
  },
  {
   "cell_type": "markdown",
   "metadata": {},
   "source": [
    "<div class=\"align-center\" style=\"display: flex; text-align: right; direction: rtl; clear: both;\">\n",
    "    <div style=\"display: flex; width: 10%; float: right; clear: both;\">\n",
    "        <img src=\"images/exercise.svg\" style=\"height: 50px !important;\" alt=\"תרגול\"> \n",
    "    </div>\n",
    "    <div style=\"width: 90%\">\n",
    "        <p style=\"text-align: right; direction: rtl; float: right; clear: both;\">\n",
    "        <strong>תרגול</strong>:\n",
    "            מצאו את 4 הרעיונות המרכזיים שדיברנו עליהם בכל אחת מהדוגמאות.\n",
    "        </p>\n",
    "    </div>\n",
    "</div>"
   ]
  },
  {
   "cell_type": "markdown",
   "metadata": {},
   "source": [
    "## <p style=\"text-align: right; direction: rtl; float: right;\">כתיבת לולאה</p>"
   ]
  },
  {
   "cell_type": "markdown",
   "metadata": {},
   "source": [
    "<p style=\"text-align: right; direction: rtl; float: right; clear: both;\">\n",
    "בסרט המוזיקלי <cite>Hans Christian Andersen</cite> מ־1952, מופיע השיר <cite><a href=\"https://www.youtube.com/watch?v=fXi3bjKowJU&feature=youtu.be&t=96\">Inchworm</a></cite>, ושרים בו כך:\n",
    "</p>"
   ]
  },
  {
   "cell_type": "markdown",
   "metadata": {},
   "source": [
    "<blockquote>\n",
    "    Two and two are four<br>\n",
    "    Four and four are eight<br>\n",
    "    Eight and eight are sixteen<br>\n",
    "    Sixteen and sixteen are thirty-two<br>\n",
    "</blockquote>"
   ]
  },
  {
   "cell_type": "markdown",
   "metadata": {},
   "source": [
    "<p style=\"text-align: right; direction: rtl; float: right; clear: both;\">\n",
    "זה הזמן לכתוב Inchworm משלנו.<br>\n",
    "נשרטט איך שיר כתיבת לולאה עבור שיר שכזה תראה:\n",
    "</p>"
   ]
  },
  {
   "cell_type": "markdown",
   "metadata": {},
   "source": [
    "<figure>\n",
    "    <img src=\"images/while-song.svg?v=4\" width=\"550px\" alt=\"מתחילים את השיר, ואז עוברים לתא שמגדיר את 'המשתנה הנוכחי' כ־2. אחר כך עוברים לתא שבו כתוב 'האם המשתנה הנוכחי קטן או שווה ל־16?'. התשובה לא מובילה לסיום התוכנית, והתשובה כן מובילה לשמירה של המשתנה הנוכחי ועוד המשתנה הנוכחי על משתנה שנקרא 'סכום המספרים'. התא הבא אליו מגיעים מפה במקרה של כן הוא הדפסת שורה בשיר, שהיא למעשה 'המשתנה הנוכחי ועוד המשתנה הנוכחי הם סכום המספרים'. התא הבא מופיע בשרשרת הוא התא שהופך את הערך של המשתנה הנוכחי להיות הערך של סכום המספרים. התא הבא חוזר לתנאי שממנו התחלנו.\">\n",
    "    <figcaption style=\"text-align: center; direction: rtl; clear: both;\">\n",
    "        איך שיר נולד\n",
    "    </figcaption>\n",
    "</figure>"
   ]
  },
  {
   "cell_type": "markdown",
   "metadata": {},
   "source": [
    "<p style=\"text-align: right; direction: rtl; float: right; clear: both;\">\n",
    "במקרה שלנו:\n",
    "</p>\n",
    "<ol style=\"text-align: right; direction: rtl; float: right; clear: both;\">\n",
    "    <li>שלב <em style=\"color: #107896\">אתחול הסביבה</em> הוא השלב שבו <em style=\"color: #829456;\">נגדיר משתנה עם הערך הראשון להדפסה: 2</em>.</li>\n",
    "    <li><em style=\"color: #107896\">תנאי הלולאה</em> יכול לבדוק האם אנחנו <em style=\"color: #829456;\">בשורה האחרונה או לפניה</em>.</li>\n",
    "    <li><em style=\"color: #107896\">גוף הלולאה</em> כולל:\n",
    "        <ol>\n",
    "            <li><em style=\"color: #829456;\">הגדרת משתנה שמכיל את סכום שני המספרים</em>.</li>\n",
    "            <li><em style=\"color: #829456;\">הדפסת שורה בשיר לפי הערכים שחישבנו</em>.</li>\n",
    "        </ol>\n",
    "    </li>\n",
    "    <li><em style=\"color: #107896\">הצעד לקראת סוף הלולאה</em> במקרה שלנו הוא <em style=\"color: #829456;\">קידום המשתנה שמכיל את המספר הנוכחי</em>.</li>\n",
    "</ol>"
   ]
  },
  {
   "cell_type": "markdown",
   "metadata": {},
   "source": [
    "<p style=\"text-align: right; direction: rtl; float: right; clear: both;\">\n",
    "טוב, זה הזמן לקצת קוד, לא?\n",
    "</p>"
   ]
  },
  {
   "cell_type": "code",
   "execution_count": null,
   "metadata": {},
   "outputs": [],
   "source": [
    "current_number = 2\n",
    "while current_number <= 16:\n",
    "    twice_number = current_number + current_number\n",
    "    print(f\"{current_number} and {current_number} are {twice_number}\")\n",
    "    current_number = twice_number"
   ]
  },
  {
   "cell_type": "markdown",
   "metadata": {},
   "source": [
    "<p style=\"text-align: right; direction: rtl; float: right; clear: both;\">\n",
    "הקוד הזה משתמש במילת המפתח <code>while</code> כדי ליצור לולאה.<br>\n",
    "הלולאה מקבילה לחלוטין לפירוט המילולי שנמצא מעליה.\n",
    "</p>"
   ]
  },
  {
   "cell_type": "markdown",
   "metadata": {},
   "source": [
    "<p style=\"text-align: right; direction: rtl; float: right; clear: both;\">\n",
    "ננסה להזכר איך נראית השורה הראשונה של השיר, וננסה להבין מה הקוד שנכתב למעלה אומר.\n",
    "</p>"
   ]
  },
  {
   "cell_type": "markdown",
   "metadata": {},
   "source": [
    "<q>2 and 2 are 4</q>"
   ]
  },
  {
   "cell_type": "markdown",
   "metadata": {},
   "source": [
    "<p style=\"text-align: right; direction: rtl; float: right; clear: both;\">\n",
    "דבר ראשון, עלינו להכין את הסביבה לפני השימוש בלולאה.<br>\n",
    "נשתמש במשתנה שישמור לנו מה המספר שיתחיל את השורה הנוכחית:\n",
    "</p>"
   ]
  },
  {
   "cell_type": "code",
   "execution_count": null,
   "metadata": {},
   "outputs": [],
   "source": [
    "current_number = 2"
   ]
  },
  {
   "cell_type": "markdown",
   "metadata": {},
   "source": [
    "<p style=\"text-align: right; direction: rtl; float: right; clear: both;\">\n",
    "המספר שפותח את השורה האחרונה בשיר הוא 16, ולכן אנחנו רוצים שהלולאה תרוץ כל עוד המספר הנוכחי ששמרנו קטן או שווה ל־16.<br>\n",
    "נרשום את מילת המפתח <code>while</code>, ומיד לאחריה נוסיף את הביטוי הבוליאני שכשהוא מתקיים אנחנו רוצים שתוכן הלולאה ירוץ. נסיים בנקודותיים.<br>\n",
    "כל פעם שהביטוי הבוליאני יהיה שווה ל־<code>True</code>, גוף הלולאה ירוץ ויבצע את מה שרצינו ממנו.<br>\n",
    "בפעם הראשונה (והיחידה) שהביטוי הבוליאני יהיה שווה ל־<code>False</code>, גוף הלולאה לא יתבצע והתוכנית תמשיך לבצע את הקוד אחרי הלולאה.<br>\n",
    "</p>"
   ]
  },
  {
   "cell_type": "code",
   "execution_count": null,
   "metadata": {},
   "outputs": [],
   "source": [
    "while current_number <= 16:"
   ]
  },
  {
   "cell_type": "markdown",
   "metadata": {},
   "source": [
    "<p style=\"text-align: right; direction: rtl; float: right; clear: both;\">\n",
    "אחרי שכתבנו את התנאי, זה הזמן לכתוב מה אנחנו רוצים שיתבצע כל פעם שהתנאי יתקיים.<br>\n",
    "החלק הזה נקרא \"גוף הלולאה\", וכל ריצה שלו נקראת \"<dfn>אִיטֶרַצְיָה</dfn>\", או בעברית, \"<dfn>חִזְרוּר</dfn>\".\n",
    "</p>\n",
    "<p style=\"text-align: right; direction: rtl; float: right; clear: both;\">\n",
    "נתחיל בלהגדיר את המספר שיודפס בסוף השורה, שהוא המספר בתחילת השורה ועוד עצמו.<br>\n",
    "שימו לב להזחה, שמציינת שחלק הקוד הזה \"שייך\" ללולאת ה־<code>while</code> ויתבצע כל פעם שהביטוי הבוליאני בה יתקיים.\n",
    "</p>"
   ]
  },
  {
   "cell_type": "code",
   "execution_count": null,
   "metadata": {},
   "outputs": [],
   "source": [
    "    twice_number = current_number + current_number"
   ]
  },
  {
   "cell_type": "markdown",
   "metadata": {},
   "source": [
    "<p style=\"text-align: right; direction: rtl; float: right; clear: both;\">\n",
    "נדנפיס את השורה עם הפרטים שיצרנו:\n",
    "</p>"
   ]
  },
  {
   "cell_type": "code",
   "execution_count": null,
   "metadata": {},
   "outputs": [],
   "source": [
    "    print(f\"{current_number} and {current_number} are {twice_number}\")"
   ]
  },
  {
   "cell_type": "markdown",
   "metadata": {},
   "source": [
    "<p style=\"text-align: right; direction: rtl; float: right; clear: both;\">\n",
    "ולסיום, לקראת הדפסת השורה הבאה, נקדם את המשתנה שמכיל את הערך שמודפס בתחילת שורה בשיר.<br>\n",
    "הפעולה הזו תכין את המשתנה לשורה הבאה, וגם תקדם את הלולאה לסופה.<br>\n",
    "מכיוון שתחילת כל שורה חדשה בשיר זהה לסוף השורה הקודמת, נוכל פשוט לרשום:\n",
    "</p>"
   ]
  },
  {
   "cell_type": "code",
   "execution_count": null,
   "metadata": {},
   "outputs": [],
   "source": [
    "    current_number = twice_number"
   ]
  },
  {
   "cell_type": "markdown",
   "metadata": {},
   "source": [
    "### <p style=\"text-align: right; direction: rtl; float: right;\">סיכום ביניים</p>"
   ]
  },
  {
   "cell_type": "markdown",
   "metadata": {},
   "source": [
    "<p style=\"text-align: right; direction: rtl; float: right; clear: both;\">\n",
    "כפי שראינו, לולאת <code>while</code> משתמשת בביטוי בוליאני כדי להחליט האם להריץ קוד מסוים.<br>\n",
    "היא בודקת האם הביטוי שקול ל־<code>True</code>, ואם כן, היא מריצה את קטע הקוד שכתוב בגוף הלולאה.<br>\n",
    "כל עוד הביטוי הבוליאני המופיע ליד המילה <code>while</code> שקול ל־<code>True</code>, גוף הלולאה ימשיך לרוץ.<br>\n",
    "כשהביטוי הופך להיות שקול ל־<code>False</code>, הלולאה מפסיקה מיידית את הריצה שלה והקוד שאחרי הלולאה ממשיך לרוץ.\n",
    "</p>\n",
    "<p style=\"text-align: right; direction: rtl; float: right; clear: both;\">\n",
    "הרעיון של <code>while</code> מקביל ל־<code>if</code> שרץ וחוזר לראש התנאי פעם אחר פעם, עד שהביטוי הבוליאני שבראש התנאי שקול ל־<code>False</code>.\n",
    "</p>"
   ]
  },
  {
   "cell_type": "markdown",
   "metadata": {},
   "source": [
    "<div class=\"align-center\" style=\"display: flex; text-align: right; direction: rtl; clear: both;\">\n",
    "    <div style=\"display: flex; width: 10%; float: right; clear: both;\">\n",
    "        <img src=\"images/exercise.svg\" style=\"height: 50px !important;\" alt=\"תרגול\"> \n",
    "    </div>\n",
    "    <div style=\"width: 90%\">\n",
    "        <p style=\"text-align: right; direction: rtl; float: right; clear: both;\">\n",
    "        <strong>תרגול</strong>:\n",
    "            כתבו קוד שמקבל מספר שלם מהמשתמש, ומדפיס את כל המספרים מ־1 ועד המספר שהמשתמש הכניס.\n",
    "        </p>\n",
    "    </div>\n",
    "</div>"
   ]
  },
  {
   "cell_type": "markdown",
   "metadata": {},
   "source": [
    "### <p style=\"text-align: right; direction: rtl; float: right;\">דוגמאות נוספות</p>"
   ]
  },
  {
   "cell_type": "markdown",
   "metadata": {},
   "source": [
    "#### <p style=\"text-align: right; direction: rtl; float: right;\">תרגילים חשבוניים</p>"
   ]
  },
  {
   "cell_type": "markdown",
   "metadata": {},
   "source": [
    "<p style=\"text-align: right; direction: rtl; float: right; clear: both;\">\n",
    "לפניכם דוגמה של קוד שמחשב את סכום המספרים כל המספרים הטבעיים, מ־1 ועד למספר שהוזן על־ידי המשתמש.<br>\n",
    "\n",
    "</p>"
   ]
  },
  {
   "cell_type": "code",
   "execution_count": null,
   "metadata": {},
   "outputs": [],
   "source": [
    "def sum_positive_numbers(max_number):\n",
    "    total = 0\n",
    "    first_number = 1\n",
    "    while first_number <= max_number:\n",
    "        total = total + first_number\n",
    "        first_number = first_number + 1\n",
    "    return total\n",
    "    \n",
    "user_number = int(input(\"Please enter a number: \"))\n",
    "print(sum_positive_numbers(user_number))"
   ]
  },
  {
   "cell_type": "markdown",
   "metadata": {},
   "source": [
    "<div class=\"align-center\" style=\"display: flex; text-align: right; direction: rtl; clear: both;\">\n",
    "    <div style=\"display: flex; width: 10%; float: right; clear: both;\">\n",
    "        <img src=\"images/exercise.svg\" style=\"height: 50px !important;\" alt=\"תרגול\"> \n",
    "    </div>\n",
    "    <div style=\"width: 90%\">\n",
    "        <p style=\"text-align: right; direction: rtl; float: right; clear: both;\">\n",
    "        <strong>תרגול</strong>:\n",
    "            הגדירו את 4 החלקים המופיעים בלולאה המופיעה בקוד מעלה.<br>\n",
    "            שרטטו כיצד היא עובדת.\n",
    "        </p>\n",
    "    </div>\n",
    "</div>"
   ]
  },
  {
   "cell_type": "markdown",
   "metadata": {},
   "source": [
    "#### <p style=\"text-align: right; direction: rtl; float: right;\">מיקומים ברשימה</p>"
   ]
  },
  {
   "cell_type": "markdown",
   "metadata": {},
   "source": [
    "<p style=\"text-align: right; direction: rtl; float: right; clear: both;\">\n",
    "לפניכם קוד שמקבל את כמות החניכים בכתה.<br>\n",
    "לאחר מכן, הוא קולט את הציון של כל תלמיד במבחן האחרון.<br>\n",
    "לבסוף, הקוד יחזיר את הציון הגבוה ביותר בכתה.\n",
    "</p>\n",
    "<p style=\"text-align: right; direction: rtl; float: right; clear: both;\">\n",
    "שימו לב לשימוש שנעשה כאן בלולאות כדי לגשת למיקומים של ערכים ברשימה.\n",
    "</p>"
   ]
  },
  {
   "cell_type": "code",
   "execution_count": null,
   "metadata": {},
   "outputs": [],
   "source": [
    "def get_grades(number_of_grades):\n",
    "    grades = []\n",
    "    while len(grades) < number_of_grades:\n",
    "        current_grade = int(input(\"Please enter a student grade: \"))\n",
    "        grades = grades + [current_grade]\n",
    "    return grades\n",
    "\n",
    "\n",
    "def get_maximum(grades):\n",
    "    maximum_grade = grades[0]\n",
    "    current_grade_index = 1\n",
    "    while current_grade_index < len(grades):\n",
    "        if grades[current_grade_index] > maximum_grade:\n",
    "            maximum_grade = grades[current_grade_index]\n",
    "        current_grade_index = current_grade_index + 1\n",
    "    return maximum_grade\n",
    "\n",
    "\n",
    "number_of_grades = int(input(\"How many students are there?: \"))\n",
    "grades = get_grades(number_of_grades)\n",
    "maximum_grade = get_maximum(grades)\n",
    "print(f\"The maximum grade is {maximum_grade}\") "
   ]
  },
  {
   "cell_type": "markdown",
   "metadata": {},
   "source": [
    "<div class=\"align-center\" style=\"display: flex; text-align: right; direction: rtl; clear: both;\">\n",
    "    <div style=\"display: flex; width: 10%; float: right; clear: both;\">\n",
    "        <img src=\"images/exercise.svg\" style=\"height: 50px !important;\" alt=\"תרגול\"> \n",
    "    </div>\n",
    "    <div style=\"width: 90%\">\n",
    "        <p style=\"text-align: right; direction: rtl; float: right; clear: both;\">\n",
    "        <strong>תרגול</strong>:\n",
    "            חשבו על דרך לממש את הקוד הזה עם לולאה אחת בלבד.\n",
    "        </p>\n",
    "    </div>\n",
    "</div>"
   ]
  },
  {
   "cell_type": "markdown",
   "metadata": {},
   "source": [
    "#### <p style=\"text-align: right; direction: rtl; float: right;\">לולאה בתוך לולאה</p>"
   ]
  },
  {
   "cell_type": "code",
   "execution_count": null,
   "metadata": {},
   "outputs": [],
   "source": [
    "i = 1\n",
    "j = 1\n",
    "while i <= 10:\n",
    "    line = ''\n",
    "    while j <= 10:\n",
    "        line = line + str(i * j) + '\\t'\n",
    "        j = j + 1\n",
    "    print(line)\n",
    "    j = 1\n",
    "    i = i + 1"
   ]
  },
  {
   "cell_type": "markdown",
   "metadata": {},
   "source": [
    "<div class=\"align-center\" style=\"display: flex; text-align: right; direction: rtl; clear: both;\">\n",
    "    <div style=\"display: flex; width: 10%; float: right; clear: both;\">\n",
    "        <img src=\"images/exercise.svg\" style=\"height: 50px !important;\" alt=\"תרגול\"> \n",
    "    </div>\n",
    "    <div style=\"width: 90%\">\n",
    "        <p style=\"text-align: right; direction: rtl; float: right; clear: both;\">\n",
    "        <strong>תרגול</strong>:\n",
    "            אל תתקדמו הלאה עד שהצלחתם להסביר לעצמכם איך הקוד הזה עובד.<br>\n",
    "            במידת הצורך, השתמשו ב־<a href=\"http://pythontutor.com/visualize.html#mode=edit\">PythonTutor</a> כדי להזין את הקוד ולראות מה הוא עושה.\n",
    "        </p>\n",
    "    </div>\n",
    "</div>"
   ]
  },
  {
   "cell_type": "markdown",
   "metadata": {},
   "source": [
    "## <div style=\"text-align: right; direction: rtl; float: right;\">ניפוי שגיאות</div>"
   ]
  },
  {
   "cell_type": "markdown",
   "metadata": {},
   "source": [
    "### <p style=\"text-align: right; direction: rtl; float: right;\">לולאה אינסופית</p>"
   ]
  },
  {
   "cell_type": "markdown",
   "metadata": {},
   "source": [
    "<p style=\"text-align: right; direction: rtl; float: right; clear: both;\">\n",
    "    אם אתם חדשים ללולאות והתנסיתם בפתירת התרגילים, יש סיכוי לא רע שנתקעה לכם המחברת.<br>\n",
    "    כשאנחנו מתעסקים עם לולאת while, יש סיכון ממשי שניצור בטעות לולאה שלא תסתיים לעולם.<br>\n",
    "    המצב שבו לולאה לא תסתיים נקרא \"<dfn>לולאה אינסופית</dfn>\", והוא נובע מכך שתנאי הלולאה שקול תמיד ל־<code>True</code>.\n",
    "</p>\n",
    "<p style=\"text-align: right; direction: rtl; float: right; clear: both;\">\n",
    "    ישנם שני מקרים מאוד נפוצים שגורמים ללולאות אינסופיות.<br>\n",
    "    טיפול במקרה הרלוונטי יגרום ללולאה שלכם לעבוד כראוי:\n",
    "</p>"
   ]
  },
  {
   "cell_type": "markdown",
   "metadata": {},
   "source": [
    "<ul style=\"text-align: right; direction: rtl; float: right; clear: both;\">\n",
    "    <li><em>טעות בתנאי</em> – אין דרך שבה הביטוי הבוליאני בראש הלולאה יהיה <code>False</code>.</li>\n",
    "    <li><em>חוסר קידום</em> – לא נעשה צעד שיקדם את הלולאה לכיוון הסוף שלה, וכתוצאה מכך הביטוי הבוליאני נשאר <code>True</code>.</li>\n",
    "</ul>"
   ]
  },
  {
   "cell_type": "markdown",
   "metadata": {},
   "source": [
    "<p style=\"text-align: right; direction: rtl; float: right; clear: both;\">\n",
    "    אם ליד תא במחברת שלכם מופיעה כוכבית ותאים אחרים לא יכולים לרוץ, סימן שהתא המדובר עדיין רץ.<br>\n",
    "    אם הוא רץ זמן רב מדי, יש סיכוי שמדובר בלולאה אינסופית. במידה וזה המצב, בחרו בסרגל הכלים של המחברת \"Kernel\" ואז \"Restart\".<br>\n",
    "    זה אמור לעצור את הריצה של המחברת שלכם, ולאפשר לכם לתקן ולהריץ מחדש את הקוד הבעייתי.\n",
    "</p>"
   ]
  },
  {
   "cell_type": "markdown",
   "metadata": {},
   "source": [
    "<p style=\"text-align: right; direction: rtl; float: right; clear: both;\">\n",
    "    הנה דוגמה ללולאה אינסופית, בתוכנה שאמורה לספור מ־1 עד 10:\n",
    "</p>"
   ]
  },
  {
   "cell_type": "code",
   "execution_count": null,
   "metadata": {},
   "outputs": [],
   "source": [
    "i = 1\n",
    "while i < 10:\n",
    "    print(i)\n",
    "print(\"End of the program\")"
   ]
  },
  {
   "cell_type": "markdown",
   "metadata": {},
   "source": [
    "<div class=\"align-center\" style=\"display: flex; text-align: right; direction: rtl; clear: both;\">\n",
    "    <div style=\"display: flex; width: 10%; float: right; clear: both;\">\n",
    "        <img src=\"images/exercise.svg\" style=\"height: 50px !important;\" alt=\"תרגול\"> \n",
    "    </div>\n",
    "    <div style=\"width: 90%\">\n",
    "        <p style=\"text-align: right; direction: rtl; float: right; clear: both;\">\n",
    "        <strong>תרגול</strong>:\n",
    "            למה הלולאה הזו אינסופית? עשו מה שצריך על־מנת לתקן אותה.\n",
    "        </p>\n",
    "    </div>\n",
    "</div>"
   ]
  },
  {
   "cell_type": "markdown",
   "metadata": {},
   "source": [
    "### <p style=\"text-align: right; direction: rtl; float: right; clear: both;\">הלולאה לא רצה</p>"
   ]
  },
  {
   "cell_type": "markdown",
   "metadata": {},
   "source": [
    "<p style=\"text-align: right; direction: rtl; float: right; clear: both;\">\n",
    "המקרה ההפוך מלולאה אינסופית הוא לולאה שפשוט לא רצה. במילים אחרות – לולאה שתנאי הכניסה שלה שקול ל־<code>False</code> בהרצתה הראשונה.<br>\n",
    "במקרה הזה, ראוי לבדוק איך איתחלנו את הסביבה, והאם התנאי שכתבנו אכן עובד.\n",
    "</p>"
   ]
  },
  {
   "cell_type": "code",
   "execution_count": null,
   "metadata": {},
   "outputs": [],
   "source": [
    "i = 8\n",
    "while i <= 0:\n",
    "    print(i)\n",
    "print(\"End of the program\")"
   ]
  },
  {
   "cell_type": "markdown",
   "metadata": {},
   "source": [
    "<div class=\"align-center\" style=\"display: flex; text-align: right; direction: rtl; clear: both;\">\n",
    "    <div style=\"display: flex; width: 10%; float: right; clear: both;\">\n",
    "        <img src=\"images/exercise.svg\" style=\"height: 50px !important;\" alt=\"תרגול\"> \n",
    "    </div>\n",
    "    <div style=\"width: 90%\">\n",
    "        <p style=\"text-align: right; direction: rtl; float: right; clear: both;\">\n",
    "        <strong>תרגול</strong>:\n",
    "            את הלולאה הזו כתב מתכנת מפוזר במיוחד, ויש בה יותר מבעיה אחת.<br>\n",
    "            מצאו את הבעיות, תקנו אותן והריצו את התוכנית.<br>\n",
    "            הפלט הרצוי הוא, משמאל לימין: <samp dir=\"ltr\" style=\"direction: ltr\">8, 4, 2, 1</samp>.\n",
    "        </p>\n",
    "    </div>\n",
    "</div>"
   ]
  },
  {
   "cell_type": "markdown",
   "metadata": {},
   "source": [
    "### <p style=\"text-align: right; direction: rtl; float: right; clear: both;\">סטייה ב־1</p>"
   ]
  },
  {
   "cell_type": "markdown",
   "metadata": {},
   "source": [
    "<p style=\"text-align: right; direction: rtl; float: right; clear: both;\">\n",
    "    זו טעות כל־כך נפוצה שיש לה שם ואפילו <a href=\"https://en.wikipedia.org/wiki/Off-by-one_error\">ערך בוויקיפדיה</a>!<br>\n",
    "    בשגיאה מסוג \"<dfn>סטייה ב־1</dfn>\" (באנגלית: \"<dfn>Off By One</dfn>\") מתכנת שוכח לטפל במקרה האחרון, או מטפל במקרה אחד יותר מדי.\n",
    "</p>\n",
    "<p style=\"text-align: right; direction: rtl; float: right; clear: both;\">\n",
    "    נראה דוגמה:\n",
    "</p>"
   ]
  },
  {
   "cell_type": "code",
   "execution_count": null,
   "metadata": {},
   "outputs": [],
   "source": [
    "numbers = [1, 2, 3, 4]\n",
    "index = 0\n",
    "total = 0\n",
    "\n",
    "while index <= len(numbers):\n",
    "    total = total + numbers[index]\n",
    "    index = index + 1\n",
    "\n",
    "print(total)"
   ]
  },
  {
   "cell_type": "markdown",
   "metadata": {},
   "source": [
    "<div class=\"align-center\" style=\"display: flex; text-align: right; direction: rtl; clear: both;\">\n",
    "    <div style=\"display: flex; width: 10%; float: right; clear: both;\">\n",
    "        <img src=\"images/exercise.svg\" style=\"height: 50px !important;\" alt=\"תרגול\"> \n",
    "    </div>\n",
    "    <div style=\"width: 90%\">\n",
    "        <p style=\"text-align: right; direction: rtl; float: right; clear: both;\">\n",
    "        <strong>תרגול</strong>:\n",
    "            מה הבעיה פה? איך ניתן לפתור אותה?\n",
    "        </p>\n",
    "    </div>\n",
    "</div>"
   ]
  },
  {
   "cell_type": "markdown",
   "metadata": {},
   "source": [
    "### <p style=\"text-align: right; direction: rtl; float: right; clear: both;\">טיפול בבאגים של לולאות</p>"
   ]
  },
  {
   "cell_type": "markdown",
   "metadata": {},
   "source": [
    "<p style=\"text-align: right; direction: rtl; float: right; clear: both;\">\n",
    "לולאות הן כלי חזק שמוסיף עניין רב לקוד.<br>\n",
    "יחד עם זאת, לולאות מוסיפות מקרים מיוחדים שגורמים לבאגים שקשה לפענח בהתחלה.<br>\n",
    "הדרך הכי טובה למצוא בעיות, היא להדפיס את הערכים שנמצאים בלולאה ובאתחול המשתנים שלפניה, ולבדוק מה מצבם.\n",
    "</p>"
   ]
  },
  {
   "cell_type": "markdown",
   "metadata": {},
   "source": [
    "<ol style=\"text-align: right; direction: rtl; float: right; clear: both;\">\n",
    "    <li>הדפסות לפני תחילת הלולאה – בדקו מה הערך של תנאי הלולאה, והערכים של כל אחד מהביטויים שמרכיבים אותו.</li>\n",
    "    <li>הדפסות בתוך הלולאה – בדקו מה קורה בתוך גוף הלולאה בכל חזרור. הערכים של המשתנים הם מה שציפיתם שהם יהיו?</li>\n",
    "    <li>הדפסות אחרי הלולאה – מה ערכם של המשתנים בסיום הלולאה? מה הערכים של המשתנים בתנאי הבוליאני? האם הלולאה סיימה את עבודה מוקדם מדי?</li>\n",
    "</ol>"
   ]
  },
  {
   "cell_type": "markdown",
   "metadata": {},
   "source": [
    "## <p style=\"align: right; direction: rtl; float: right; clear: both;\">מונחים</p>"
   ]
  },
  {
   "cell_type": "markdown",
   "metadata": {},
   "source": [
    "<dl style=\"text-align: right; direction: rtl; float: right; clear: both;\">\n",
    "<dt>אתחול</dt><dd>לא רק בלולאות – הגדרת משתנים לערכים התחלתיים לפני ביצוע פעולה כלשהי.</dd>\n",
    "<dt>תנאי הלולאה</dt><dd>ביטוי בוליאני שכל עוד הוא שקול ל־<code>True</code>, גוף הלולאה ירוץ.</dd>\n",
    "<dt>גוף הלולאה</dt><dd>השורות שירוצו אם תנאי הלולאה מתקיים. כולל את הקידום.</dd>\n",
    "<dt>קידום</dt><dd>התקדמות של צעד לקראת סוף הלולאה.</dd>\n",
    "<dt>חזרור</dt><dd>או איטרציה – הרצה של גוף הלולאה פעם אחת.</dd>\n",
    "<dt>לולאה אינסופית</dt><dd>לולאה שלעולם לא תפסיק לרוץ.</dd>\n",
    "<dt>סטייה באחד</dt><dd>מצב בו המתכנת שוכח לטפל במקרה האחרון, או מטפל במקרה אחד יותר מהדרוש שלעיתים מקריס את התוכנית.</dd>\n",
    "<dt>מבנה לבקרת זרימה</dt><dd>שם כולל למבנים בקוד שמאפשרים לנו לגרום לקוד \"לקפוץ\" משורה אחת למקום אחר. לולאה היא סוג של מבנה לבקרת זרימה.</dd>\n",
    "</dl>"
   ]
  },
  {
   "cell_type": "markdown",
   "metadata": {},
   "source": [
    "## <p style=\"align: right; direction: rtl; float: right; clear: both;\">תרגולים</p>"
   ]
  },
  {
   "cell_type": "markdown",
   "metadata": {},
   "source": [
    "### <p style=\"align: right; direction: ltr; float: right; clear: both;\">It's the final...</p>"
   ]
  },
  {
   "cell_type": "markdown",
   "metadata": {},
   "source": [
    "<p style=\"text-align: right; direction: rtl; float: right; clear: both;\">\n",
    "נתקעתם במסיבה שבה סופרים את השניות לאחור עד השנה החדשה.<br>\n",
    "עזרו למשתתפים המבולבלים שהתחילו לספור הרבה יותר מדי לפני הזמן –<br>\n",
    "קבלו את מספר השניות שנותרו עד חצות, והדפיסו עבורם את הספירה לאחור.<br>\n",
    "בסוף הספירה, הדפיסו \"<span dir=\"ltr\" style=\"direction: ltr\">Happy new year!</span>\"\n",
    "</p>\n",
    "<p style=\"text-align: right; direction: rtl; float: right; clear: both;\">\n",
    "לדוגמה, עבור 4, הדפיסו:<br>\n",
    "    <samp dir=\"ltr\" style=\"direction: ltr\">\n",
    "        4\n",
    "        3\n",
    "        2\n",
    "        1\n",
    "        Happy new year!\n",
    "    </samp>\n",
    "</p>"
   ]
  },
  {
   "cell_type": "markdown",
   "metadata": {},
   "source": [
    "### <p style=\"align: right; direction: ltr; float: right; clear: both;\">Play</p>"
   ]
  },
  {
   "cell_type": "markdown",
   "metadata": {},
   "source": [
    "<p style=\"text-align: right; direction: rtl; float: right; clear: both;\">\n",
    "ציירו פירמידה הפוכה, כך שראשה יהיה בצד ימין.<br>\n",
    "במהלך הקוד, קבלו מהמשתמש את אורך השורה שבה מצויר קודקוד הפירמידה.<br>\n",
    "לדוגמה: בפירמידה שלפניכם, המשתמש הכניס 5 כאורך השורה שבה מצויר קודקוד הפירמידה.\n",
    "</p>"
   ]
  },
  {
   "cell_type": "markdown",
   "metadata": {},
   "source": [
    "<samp>\n",
    "*\n",
    "* * \n",
    "* * * \n",
    "* * * * \n",
    "* * * * * \n",
    "* * * * \n",
    "* * * \n",
    "* * \n",
    "*\n",
    "</samp>"
   ]
  },
  {
   "cell_type": "markdown",
   "metadata": {},
   "source": [
    "### <p style=\"align: right; direction: ltr; float: right; clear: both;\">מפענח הצפנים 2</p>"
   ]
  },
  {
   "cell_type": "markdown",
   "metadata": {},
   "source": [
    "<p style=\"text-align: right; direction: rtl; float: right; clear: both;\">\n",
    "הצופן לכספת הביתית שלכם הוא 4812. בנו משחק בול־פגיעה שמאפשר למשתמש לנסות לנחש את הצופן.<br>\n",
    "למשתמש יש 3 ניסיונות לנחש נכונה את המספר שלכם לפני שמתחילה אזעקה.<br>\n",
    "כחלק ממנגנון ההגנה מאיבוד הסיסמה של הכספת, היא מציגה כמה ספרות נכונות המשתמש הזין אחרי כל ניחוש.<br>\n",
    "אפשרו למשתמש להזין קוד 3 פעמים, וכתבו לו בכל ניסיון כמה מתוך הספרות שהזין באמת קיימות בקוד הנכון, לאו־דווקא בסדר שהקיש.<br>\n",
    "אם לא הצליח אחרי 3 ניסיונות, הדפיסו שהאזעקה הופעלה וסיימו את התוכנית.<br>\n",
    "</p>\n",
    "<p style=\"text-align: right; direction: rtl; float: right; clear: both;\">\n",
    "לדוגמה, אם המשתמש הקיש בניסיון הראשון 0634, הדפיסו לו שרק אחת הספרות שניחש נכונה.<br>\n",
    "אם המשתמש הקיש בסיבוב השני 1234, הדפיסו לו ש־3 ספרות תואמות את הקוד המקורי.<br>\n",
    "אם המשתמש הקיש בסיבוב השלישי 1284, הדפיסו לו ש־4 ספרות תואמות את הקוד המקורי, ואז הדפיסו לו שהופעלה האזעקה.<br>\n",
    "אם המשתמש הקיש באחד הסיבובים 4812, הדפיסו שהכספת נפתחה בהצלחה וסיימו את התוכנית מיד.\n",
    "</p>\n",
    "<p style=\"text-align: right; direction: rtl; float: right; clear: both;\">\n",
    "השתמשו בלולאות.\n",
    "</p>"
   ]
  },
  {
   "cell_type": "markdown",
   "metadata": {},
   "source": [
    "### <p style=\"align: right; direction: ltr; float: right; clear: both;\">כמו קולץ בישבן</p>"
   ]
  },
  {
   "cell_type": "markdown",
   "metadata": {},
   "source": [
    "<p style=\"text-align: right; direction: rtl; float: right; clear: both;\">\n",
    "נגדיר כלל: אם מספר הוא זוגי, נחלק אותו ב־2. אם המספר אי־זוגי, נכפיל אותו ב־3 ונוסיף לו 1.<br>\n",
    "השערת קולץ טוענת שאם ניקח מספר חיובי שלם ונשתמש עליו פעמים רבות בכלל הזה, תמיד נסיים במספר 1.<br>\n",
    "לדוגמה, אם ניקח את 52, נקבל את שרשרת הפעולות הבאה:\n",
    "</p>\n",
    "<ul style=\"text-align: right; direction: rtl; float: right; clear: both;\">\n",
    "    <li>52 זוגי, ולכן נחלק ב־2. נקבל 26.</li>\n",
    "    <li>26 זוגי, ולכן נחלק ב־2. נקבל 13.</li>\n",
    "    <li>13 הוא אי־זוגי, ולכן נכפיל ב־3 ונוסיף 1. נקבל 40.</li>\n",
    "    <li>וכך הלאה.</li>\n",
    "</ul>"
   ]
  },
  {
   "cell_type": "markdown",
   "metadata": {},
   "source": [
    "$\\ 52 \\rightarrow 26 \\rightarrow 13 \\rightarrow 40 \\rightarrow  20 \\rightarrow 10 \\rightarrow 5 \\rightarrow 16 \\rightarrow 8 \\rightarrow 4 \\rightarrow 2 \\rightarrow 1$"
   ]
  },
  {
   "cell_type": "markdown",
   "metadata": {},
   "source": [
    "<p style=\"text-align: right; direction: rtl; float: right; clear: both;\">\n",
    "כתבו פונקציה שמקבלת מספר, ומחזירה את מספר הפעולות שצריך לעשות עליו לפי השערת קולץ כדי להגיע ל־1.<br>\n",
    "לדוגמה: עבור המספר 52 היינו צריכים לבצע 11 פעולות כדי להגיע ל־1, ולכן הפונקציה תחזיר 1.\n",
    "</p>"
   ]
  },
  {
   "cell_type": "markdown",
   "metadata": {},
   "source": [
    "### <p style=\"align: right; direction: ltr; float: right; clear: both;\">ממש קולץ בישבן</p>"
   ]
  },
  {
   "cell_type": "markdown",
   "metadata": {},
   "source": [
    "<p style=\"text-align: right; direction: rtl; float: right; clear: both;\">\n",
    "   מצאו עבור איזה מספר בין 1 ל־1,000, צריך לעשות את הכי הרבה צעדים לפי השערת קולץ כדי להגיע ל־1.<br>\n",
    "לדוגמה, הנה הצעדים שצריך לעשות עבור כל מספר עד 5:\n",
    "</p>"
   ]
  },
  {
   "cell_type": "markdown",
   "metadata": {},
   "source": [
    "- $1$\n",
    "- $2 \\rightarrow 1$\n",
    "- $3 \\rightarrow 10 \\rightarrow 5 \\rightarrow 16 \\rightarrow 8 \\rightarrow 4 \\rightarrow 2 \\rightarrow 1$\n",
    "- $4 \\rightarrow 2 \\rightarrow 1$\n",
    "- $5 \\rightarrow 16 \\rightarrow 8 \\rightarrow 4 \\rightarrow 2 \\rightarrow 1$"
   ]
  },
  {
   "cell_type": "markdown",
   "metadata": {},
   "source": [
    "<p style=\"text-align: right; direction: rtl; float: right; clear: both;\">\n",
    "מכאן שהמספר בין 1 ל־5 שעליו יש לעשות הכי הרבה צעדים לפי השערת קולץ עד שמגיעים לאחד, הוא 3.\n",
    "</p>"
   ]
  }
 ],
 "metadata": {
  "kernelspec": {
   "display_name": "Python 3",
   "language": "python",
   "name": "python3"
  },
  "language_info": {
   "codemirror_mode": {
    "name": "ipython",
    "version": 3
   },
   "file_extension": ".py",
   "mimetype": "text/x-python",
   "name": "python",
   "nbconvert_exporter": "python",
   "pygments_lexer": "ipython3",
   "version": "3.7.3"
  }
 },
 "nbformat": 4,
 "nbformat_minor": 2
}
