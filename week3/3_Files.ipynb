{
 "cells": [
  {
   "cell_type": "markdown",
   "metadata": {},
   "source": [
    "<img src=\"images/logo.jpg\" style=\"display: block; margin-left: auto; margin-right: auto;\" alt=\"לוגו של מיזם לימוד הפייתון. נחש מצויר בצבעי צהוב וכחול, הנע בין האותיות של שם הקורס: לומדים פייתון. הסלוגן המופיע מעל לשם הקורס הוא מיזם חינמי ללימוד תכנות בעברית.\">"
   ]
  },
  {
   "cell_type": "markdown",
   "metadata": {},
   "source": [
    "# <span style=\"text-align: right; direction: rtl; float: right;\">קבצים</span>"
   ]
  },
  {
   "cell_type": "markdown",
   "metadata": {},
   "source": [
    "## <span style=\"text-align: right; direction: rtl; float: right; clear: both;\">הגדרה</span>"
   ]
  },
  {
   "cell_type": "markdown",
   "metadata": {},
   "source": [
    "<p style=\"text-align: right; direction: rtl; float: right; clear: both;\">\n",
    "    <dfn>קובץ</dfn> הוא מבנה שמאגד בתוכו נתונים השמורים במחשב שלכם.<br>\n",
    "    לקובץ יש שם וכתובת (<dfn>נתיב</dfn>, או באנגלית <dfn>path</dfn>), והוא מכיל כמות מסוימת של מידע שמשפיעה על גודלו.<br>\n",
    "    התוכן של כל קובץ מגדיר את הסוג שלו. סוגי קבצים שונים משמשים למטרות שונות, לדוגמה:\n",
    "</p>"
   ]
  },
  {
   "cell_type": "markdown",
   "metadata": {},
   "source": [
    "<table style=\"text-align: right; direction: rtl; clear: both; font-size: 1.3rem\">\n",
    "    <thead>\n",
    "        <tr>\n",
    "            <th>סוג הקובץ</th>\n",
    "            <th>מטרת הקובץ</th>\n",
    "            <th>דוגמאות לסיומות</th>\n",
    "        </tr>\n",
    "    </thead>\n",
    "    <tbody>\n",
    "        <tr>\n",
    "            <td>טקסט</td>\n",
    "            <td>מכיל מלל בלבד, ללא עיצוב כלשהו (הדגשות, גדלים וכדומה)</td>\n",
    "            <td>txt</td>\n",
    "        </tr>\n",
    "        <tr>\n",
    "            <td>תמונה</td>\n",
    "            <td>ייצוג של תמונה דיגיטלית למטרת הצגה חזותית שלה</td>\n",
    "            <td>png, jpg, gif, bmp</td>\n",
    "        </tr>\n",
    "        <tr>\n",
    "            <td>וידאו</td>\n",
    "            <td>ייצוג של סרט או כל תצלום חוזי (וידאו) אחר</td>\n",
    "            <td>mp4, avi, flv</td>\n",
    "        </tr>\n",
    "        <tr>\n",
    "            <td>פייתון</td>\n",
    "            <td>מכיל קוד שהתוכנה של פייתון יודעת לקרוא ולהפעיל</td>\n",
    "            <td>py, pyc, pyd</td>\n",
    "        </tr>\n",
    "        <tr>\n",
    "            <td>הרצה</td>\n",
    "            <td>מכיל סדרת הוראות המיועדות לקריאה ולהרצה על־ידי המחשב</td>\n",
    "            <td>exe, dmg</td>\n",
    "        </tr>\n",
    "    </tbody>\n",
    "</table>"
   ]
  },
  {
   "cell_type": "markdown",
   "metadata": {},
   "source": [
    "## <span style=\"text-align: right; direction: rtl; float: right; clear: both;\">הקדמה</span>"
   ]
  },
  {
   "cell_type": "markdown",
   "metadata": {},
   "source": [
    "### <span style=\"text-align: right; direction: rtl; float: right; clear: both;\">מהברזל ועד הקובץ</span>\n",
    "\n",
    "<p style=\"text-align: right; direction: rtl; float: right; clear: both;\">\n",
    "קבצים הם דרך נהדרת לקבל מבט חטוף לעומק ולמורכבות של המכונה המדהימה שנקראת מחשב.<br>\n",
    "ננסה לצייר לכם תמונה מלאה – נתחיל מהשכבה הנמוכה ביותר, הכונן הקשיח שלכם, ולבסוף נגיע לקבצים.\n",
    "</p>"
   ]
  },
  {
   "cell_type": "markdown",
   "metadata": {},
   "source": [
    "#### <span style=\"text-align: right; direction: rtl; float: right; clear: both;\">הכונן הקשיח</span>\n",
    "\n",
    "<p style=\"text-align: right; direction: rtl; float: right; clear: both;\">\n",
    "<dfn>כונן קשיח</dfn> הוא אחד מהרכיבים הנמצאים בקופסת המחשב שעליו אתם עובדים כרגע.<br>\n",
    "זהו הרכיב שמאחסן לטווח ארוך את המידע במחשב שלכם – קבצים, תוכנות, מערכת ההפעלה והגדרות כמו העדפות השפה שלכם.<br>\n",
    "היתרון המובהק של כוננים קשיחים הוא שהם יודעים לשמור על המידע שלכם לאורך זמן, גם אם הם לא מוזנים בחשמל באותו רגע.\n",
    "</p>"
   ]
  },
  {
   "cell_type": "markdown",
   "metadata": {},
   "source": [
    "#### <span style=\"text-align: right; direction: rtl; float: right; clear: both;\">ביט</span>\n",
    "\n",
    "<p style=\"text-align: right; direction: rtl; float: right; clear: both;\">\n",
    "כוננים קשיחים מכילים הרבה יחידות קטנטנות בשם \"ביט\".<br>\n",
    "<dfn>ביט</dfn> הוא ערך שיכול להיות 0 או 1, דולק או כבוי.<br>\n",
    "בכל כונן קשיח פשוט שנמכר היום יש מקום ל<em>מאות מיליארדי</em>(!) ביטים כאלו.<br> \n",
    "כך נשמר כל המידע שדיברנו עליו בפסקה הקודמת.\n",
    "</p>\n",
    "\n",
    "<p style=\"text-align: right; direction: rtl; float: right; clear: both;\">\n",
    "אם נסתכל בעיניים אנושיות על רצפי התאים הקטנטנים, הביטים, שנמצאים בכונן הקשיח, כנראה שלא נבין מהם כלום.<br>\n",
    "הנה דוגמה לרצף שכזה: 010000100011001100101111010100110011001000110011.<br> \n",
    "איך יוצקים משמעות לתוך דבר כזה? מה רצף המספרים הזה אומר בכלל?\n",
    "</p>\n",
    "\n",
    "<p style=\"text-align: right; direction: rtl; float: right; clear: both;\">\n",
    "נדמיין לרגע שאנחנו הממציאים של המחשב, והמטרה שלנו היא לייצג טקסט בצורה שיהיה קל לשמור אותו ולקרוא אותו לאחר־מכן.<br>\n",
    "תוכלו לחשוב על דרך לעשות זאת רק באמצעות רצפים של 0 ו־1?\n",
    "</p>\n",
    "\n",
    "<div style=\"clear: both;\"></div>"
   ]
  },
  {
   "cell_type": "markdown",
   "metadata": {},
   "source": [
    "#### <span style=\"text-align: right; direction: rtl; float: right; clear: both;\">יצוג תווים</span>\n",
    "\n",
    "<p style=\"text-align: right; direction: rtl; float: right; clear: both;\">\n",
    "בעיה דומה, של ייצוג טקסט באמצעות אפסים ואחדים בלבד, עלתה אי שם ב־1960.<br>\n",
    "אני אחסוך לכם הרבה מעשיות בדרך, אבל מפה לשם הוחלט על תקן בשם <dfn id=\"ASCII\"><abbr title=\"American Standard Code for Information Interchange\">ASCII</abbr></dfn>, שקובע שכל סידור של 8 ביטים שכאלו, שנקראים היום <dfn>בייט</dfn>, ייצגו תו.<br>\n",
    "אז האות A קיבלה את הייצוג 01000001, האות Z, למשל, קיבלה את הייצוג 01011010, הספרה 7 את הייצוג 00110111 והתו רווח את הייצוג 00100000.<br>\n",
    "כך אפשר לקרוא מסר ארוך מאוד, ולהמיר כל 8 ביטים רצופים לאות. אם ננסה לקרוא בשיטה הזו 80 ביטים, נקבל 10 תווים קריאים.\n",
    "</p>"
   ]
  },
  {
   "cell_type": "markdown",
   "metadata": {},
   "source": [
    "#### <span style=\"text-align: right; direction: rtl; float: right; clear: both;\">יצוג קבצים אחרים</span>\n",
    "\n",
    "<p style=\"text-align: right; direction: rtl; float: right; clear: both;\">\n",
    "אבל רגע! מה קורה אם אני רוצה לייצג תמונה של חתול? או סירטון של חתול? או סאונד של... ובכן, חתול?<br>\n",
    "כמו שאנשים חכמים חשבו על דרך לייצג ASCII, חכמים אחרים חשבו, עבור כל סוג של קובץ – מתמונה ועד תוכנה שרצה על המחשב, על איך מייצגים אותם באמצעות ביטים.<br>\n",
    "גם בימים אלו, אנשים מוכשרים רבים יושבים וחושבים על דרכים טובות יותר לייצג מידע בעזרת ביטים, ויוצרים עבורינו סוגי קבצים חדשים.<br>\n",
    "</p>\n",
    "\n",
    "<p style=\"text-align: right; direction: rtl; float: right; clear: both;\">\n",
    "כשאנחנו רוצים לפתוח תמונה של חתול, למשל, אנחנו מפעילים תוכנה ייעודית שיודעת לקרוא ייצוג של תמונות.<br>\n",
    "מה שקורה באותו רגע מאחורי הקלעים הוא שהתוכנה קוראת רצפים של 0 ו־1 מהדיסק הקשיח, אותם ביטים שדיברנו עליהם.<br>\n",
    "מי שצילם את התמונה השתמש בתוכנה שיודעת להמיר את מה שקרה על מסך המצלמה לביטים שנשמרו על כרטיס הזכרון שלו.<br>\n",
    "מי שתכנת את התוכנה שמציגה לנו כרגע את החתול ידע להורות לה מה צריך לעשות כדי לתרגם את אותם ביטים לתמונה שמוצגת לכם על המסך.<br>\n",
    "שניהם פעלו לפי תקן מסוים (יש כמה כאלו, אולי אתם מכירים: JPG, PNG, GIF ועוד) שקובע דרך אחידה לייצג תמונה בעזרת ביטים.<br>\n",
    "בסופו של דבר, עבור התוכנה החתול שלכם הוא בסך־הכל משבצות קטנטנות בצבעים שונים שמצוירות זו על־יד זו.\n",
    "</p>\n",
    "\n",
    "<p style=\"text-align: right; direction: rtl; float: right; clear: both;\">\n",
    "    כשמתפתח ייצוג מסוים של קובץ, הוא נקרא \"<dfn>פורמט</dfn>\", או בעברית \"<dfn>תַּסְדִיר</dfn>\".\n",
    "</p>"
   ]
  },
  {
   "cell_type": "markdown",
   "metadata": {},
   "source": [
    "### <span style=\"text-align: right; direction: rtl; float: right; clear: both;\">קבצים טקסטואלים וקבצים בינאריים</span>"
   ]
  },
  {
   "cell_type": "markdown",
   "metadata": {},
   "source": [
    "<p style=\"text-align: right; direction: rtl; float: right; clear: both;\">\n",
    "חלק מהקבצים, כמו מסמכי טקסט או תוכניות פייתון, יכולים להיות קבצים טקסטואליים.<br>\n",
    "ישנם סוגי קבצים טקטואליים נוספים, כמו <abbr title=\"Comma Separated Values\">CSV</abbr> שמייצג מידע טבלאי באמצעות טקסט, או <abbr title=\"Hypertext Markup Language\">HTML</abbr> שמייצג קוד שבעזרתו המחשב יודע להציג דף אינטרנט.<br>\n",
    "<mark>המשותף לקבצים אלו שאם ממירים את הביטים שמהם הם מורכבים לתווים, מקבלים תוצאה שנוח לבני־אדם לקרוא, ולא רק למחשב.</mark>\n",
    "</p>"
   ]
  },
  {
   "cell_type": "markdown",
   "metadata": {},
   "source": [
    "<figure>\n",
    "    <img src=\"images/textual-csv-representation.png\" style=\"display: block; text-align: center; margin-left: auto; margin-right: auto;\" width=\"auto\" alt=\"שני חלונות פתוחים זה ליד זה. בחלון הימני יש תוכנת Microsoft Excel פתוחה, בה נראים כ־15 שורות של מידע אודות יין (נראה שיש עוד מידע רב אם נגלול למטה). שורת הכותרת מכילה את שמות העמודות, ביניהן ארץ מוצא, תיאור, ניקוד, מחיר ועוד, ומתחת לשורת הכותרת ישנם שורות רבות כאשר כל שורה מייצגת יין. בחלון השמאלי ניתן לראות תוכנה פשוטה לעריכת טקסט, ובה מופיעה אותה טבלה בטקסט פשוט. כל שורת יין מופרדת אחת מהשנייה באנטר (שורה חדשה), והתאים בכל שורה מופרדים זה מזה בפסיק.\">\n",
    "    <figcaption style=\"text-align: center; direction: rtl;\">מימין ניתן לראות קובץ CSV פתוח באקסל, ומשמאל את הייצוג הטקסטואלי שלו.</figcaption>\n",
    "</figure>"
   ]
  },
  {
   "cell_type": "markdown",
   "metadata": {},
   "source": [
    "<p style=\"text-align: right; direction: rtl; float: right; clear: both;\">\n",
    "ישנם גם סוגי קבצים אחרים שלא נועדו לקריאה על־ידי עין אנושית.<br>\n",
    "קבצים כאלו נקראים \"קבצים בינאריים\", ונלמד לטפל בחלק מהם בשלב מתקדם יותר בקורס.<br>\n",
    "</p>"
   ]
  },
  {
   "cell_type": "markdown",
   "metadata": {},
   "source": [
    "<p style=\"text-align: right; direction: rtl; float: right; clear: both;\">\n",
    "    ניתן דוגמה לכמה סוגי קבצים בינאריים:\n",
    "</p>"
   ]
  },
  {
   "cell_type": "markdown",
   "metadata": {},
   "source": [
    "<ul style=\"text-align: right; direction: rtl; float: right; clear: both;\">\n",
    "    <li>MP3 – תסדיר המיועד עבור קובצי שמע.</li>\n",
    "    <li>PNG – תסדיר לייצוג תמונות.</li>\n",
    "    <li>PDF – תסדיר המיועד עבור תצוגה מדוייקת של מסמכים.</li>\n",
    "    <li>XLSX – תסדיר המיועד לאחסון מידע גיליונות אלקטרוניים (לדוגמה, בעזרת Excel).</li>\n",
    "    <li>EXE – תסדיר שמכיל הוראות להרצת תוכנה עבור מערכת ההפעלה חלונות.</li>\n",
    "</ul>"
   ]
  },
  {
   "cell_type": "markdown",
   "metadata": {},
   "source": [
    "<figure>\n",
    "    <img src=\"images/binary-png-representation.png\" style=\"display: block; text-align: center; margin-left: auto; margin-right: auto;\" width=\"auto\" alt=\"שני חלונות פתוחים זה ליד זה. בחלון הימני יש תמונה צבעונית של לוגו הקורס פתוח. בחלון השמאלי ניתן לראות תוכנה פשוטה לעריכת טקסט, ובה מופיעים תווים בלתי דפיסים שלא ניתן לקרוא בעין אנושית.\">\n",
    "    <figcaption style=\"text-align: center; direction: rtl;\">מימין ניתן לראות קובץ PNG פתוח בתוכנה להצגת תמונות, ומשמאל את הייצוג הבינארי שלו כשמנסים להמיר אותו לטקסט.<br>\n",
    "    קל לראות ש־PNG אינו תסדיר טקסטואלי.</figcaption>\n",
    "</figure>"
   ]
  },
  {
   "cell_type": "markdown",
   "metadata": {},
   "source": [
    "<p style=\"text-align: right; direction: rtl; float: right; clear: both;\">\n",
    "    במהלך החוברת הזו, אנו נלמד לטפל בקבצים טקסטואליים.\n",
    "</p>"
   ]
  },
  {
   "cell_type": "markdown",
   "metadata": {},
   "source": [
    "## <span style=\"text-align: right; direction: rtl; float: right;\">טיפול בקבצים</span>"
   ]
  },
  {
   "cell_type": "markdown",
   "metadata": {},
   "source": [
    "<p style=\"text-align: right; direction: rtl; float: right; clear: both;\">\n",
    "    אם בעבר היינו משתמשים בפנקס כדי לשמור דברים, הרי שהיום שימוש בקבצים ממוחשבים הופך את הכל לקל ומהיר.<br>\n",
    "    מעבר לזה – על קבצים ממוחשבים אפשר לבצע חישובים מסובכים תוך חלקיק שנייה, מה שמעניק לנו יכולות שלא היו לנו בעבר.\n",
    "</p>"
   ]
  },
  {
   "cell_type": "markdown",
   "metadata": {},
   "source": [
    "<p style=\"text-align: right; direction: rtl; float: right; clear: both;\">\n",
    "    קבצים הם מקור מצויין לקלט ולפלט עבור התוכניות שאנחנו בונים.<br>\n",
    "    כמקור קלט, הם יכולים לכלול בקלות שורות רבות או מידע מורכב.<br>\n",
    "    כפלט, הם מאפשרים לנו לשמור מידע בין הרצה להרצה, להעביר את המידע ממקום למקום בקלות ולייצג את המידע שלנו בצורה מורכבת.\n",
    "</p>"
   ]
  },
  {
   "cell_type": "markdown",
   "metadata": {},
   "source": [
    "<p style=\"text-align: right; direction: rtl; float: right; clear: both;\">\n",
    "בקובץ <em>passwords.txt</em> שנמצא בתוך תיקיית resources, אספנו לכם את 25 הסיסמאות הנפוצות ביותר בעולם.<br>\n",
    "בתור התחלה, בואו ננסה להציץ במה כתוב בתוך הקובץ בעזרת פייתון. \n",
    "</p>"
   ]
  },
  {
   "cell_type": "markdown",
   "metadata": {},
   "source": [
    "### <span style=\"text-align: right; direction: rtl; float: right;\">פתיחת קובץ</span>"
   ]
  },
  {
   "cell_type": "markdown",
   "metadata": {},
   "source": [
    "<p style=\"text-align: right; direction: rtl; float: right; clear: both;\">\n",
    "הפונקציה <code>open</code> מאפשרת לנו לפתוח קובץ בעזרת פייתון ולהתייחס אליו בהמשך התוכנית.<br>\n",
    "היא מקבלת 2 פרמטרים: הראשון הוא הנתיב לקובץ, והשני הוא צורת הגישה לקובץ, עליה מיד נסביר.<br>\n",
    "הפונקציה מחזירה ערך שנקרא <dfn>File handler</dfn>, מעין מצביע על הקובץ שעליו נוכל לבצע שלל פעולות.<br>\n",
    "</p>"
   ]
  },
  {
   "cell_type": "markdown",
   "metadata": {},
   "source": [
    "<p style=\"text-align: right; direction: rtl; float: right; clear: both;\">\n",
    "צורת הגישה לקובץ תבחר לפי המטרה שלשמה אנחנו פותחים אותו:\n",
    "</p>\n",
    "<ul style=\"text-align: right; direction: rtl; float: right; clear: both;\">\n",
    "    <li>אם אנחנו מעוניינים לקרוא את הקובץ, צורת הגישה שנבחר תהיה <em>'r'</em> – קריאה, read.</li>\n",
    "    <li>אם אנחנו מעוניינים לכתוב אל הקובץ ולדרוס את מה שקיים בו, צורת הגישה שנבחר תהיה <em>'w'</em> – כתיבה, write.</li>\n",
    "    <li>אם אנחנו מעוניינים להוסיף אל הקובץ, צורת הגישה שנבחר תהיה <em>'a'</em> – הוספה, append.</li>\n",
    "</ul>"
   ]
  },
  {
   "cell_type": "markdown",
   "metadata": {},
   "source": [
    "<div class=\"align-center\" style=\"display: flex; text-align: right; direction: rtl;\">\n",
    "    <div style=\"display: flex; width: 10%; float: right; \">\n",
    "        <img src=\"images/warning.png\" style=\"height: 50px !important;\" alt=\"אזהרה!\"> \n",
    "    </div>\n",
    "    <div style=\"width: 90%\">\n",
    "        <p style=\"text-align: right; direction: rtl;\">\n",
    "            הפרמטר השני, צורת הגישה לקובץ, הוא מחרוזת.<br>\n",
    "            טעות נפוצה היא לשים שם r, w או a בלי גרשיים מסביב.\n",
    "        </p>\n",
    "    </div>\n",
    "</div>"
   ]
  },
  {
   "cell_type": "markdown",
   "metadata": {},
   "source": [
    "<p style=\"text-align: right; direction: rtl; float: right; clear: both;\">\n",
    "נתחיל בפתיחת הקובץ, והשמה של ה־file handler למשתנה:\n",
    "</p>"
   ]
  },
  {
   "cell_type": "code",
   "execution_count": null,
   "metadata": {},
   "outputs": [],
   "source": [
    "common_passwords_file = open('resources/passwords.txt', 'r')"
   ]
  },
  {
   "cell_type": "markdown",
   "metadata": {},
   "source": [
    "<p style=\"text-align: right; direction: rtl; float: right; clear: both;\">\n",
    "כך נראה הסוג של file handler המצביע לקובץ טקסטואלי:\n",
    "</p>"
   ]
  },
  {
   "cell_type": "code",
   "execution_count": null,
   "metadata": {},
   "outputs": [],
   "source": [
    "type(common_passwords_file)"
   ]
  },
  {
   "cell_type": "markdown",
   "metadata": {},
   "source": [
    "### <span style=\"text-align: right; direction: rtl; float: right;\">קריאת קובץ</span>"
   ]
  },
  {
   "cell_type": "markdown",
   "metadata": {},
   "source": [
    "<p style=\"text-align: right; direction: rtl; float: right; clear: both;\">\n",
    "עכשיו, כשהקובץ פתוח, נוכל להשתמש בו.<br>\n",
    "נבקש מפייתון לקרוא את תוכן הקובץ באמצעות הפעולה <code>read</code>, ונשמור את התוכן שחוזר מהפעולה על משתנה:\n",
    "</p>"
   ]
  },
  {
   "cell_type": "code",
   "execution_count": null,
   "metadata": {},
   "outputs": [],
   "source": [
    "common_passwords = common_passwords_file.read()\n",
    "print(common_passwords)"
   ]
  },
  {
   "cell_type": "markdown",
   "metadata": {},
   "source": [
    "<p style=\"text-align: right; direction: rtl; float: right; clear: both;\">\n",
    "נשים לב שמה שחזר לנו מפעולת הקריאה הוא מחרוזת לכל דבר:\n",
    "</p>"
   ]
  },
  {
   "cell_type": "code",
   "execution_count": null,
   "metadata": {},
   "outputs": [],
   "source": [
    "type(common_passwords)"
   ]
  },
  {
   "cell_type": "markdown",
   "metadata": {},
   "source": [
    "<p style=\"text-align: right; direction: rtl; float: right; clear: both;\">\n",
    "זיכרו ששורות חדשות מיוצגות על־ידי התו <em style=\"direction: ltr\" dir=\"ltr\">\\n</em>, וכך גם ב־common_passwords:\n",
    "</p>"
   ]
  },
  {
   "cell_type": "code",
   "execution_count": null,
   "metadata": {},
   "outputs": [],
   "source": [
    "common_passwords"
   ]
  },
  {
   "cell_type": "markdown",
   "metadata": {},
   "source": [
    "<div class=\"align-center\" style=\"display: flex; text-align: right; direction: rtl; clear: both;\">\n",
    "    <div style=\"display: flex; width: 10%; float: right; clear: both;\">\n",
    "        <img src=\"images/exercise.svg\" style=\"height: 50px !important;\" alt=\"תרגול\"> \n",
    "    </div>\n",
    "    <div style=\"width: 90%\">\n",
    "        <p style=\"text-align: right; direction: rtl; float: right; clear: both;\">\n",
    "        <strong>תרגול</strong>:\n",
    "            פתחו וקראו את הקובץ בעצמכם, קבלו מהמשתמש את הסיסמה שלו, והדפיסו האם היא בין 25 הסיסמאות הנפוצות ביותר.<br>\n",
    "            <strong>בונוס</strong>: אם היא בין 25 הסיסמאות הנפוצות, החזירו את המיקום שלה ברשימה.\n",
    "        </p>\n",
    "    </div>\n",
    "</div>"
   ]
  },
  {
   "cell_type": "markdown",
   "metadata": {},
   "source": [
    "### <span style=\"text-align: right; direction: rtl; float: right;\">הסמן</span>"
   ]
  },
  {
   "cell_type": "markdown",
   "metadata": {},
   "source": [
    "<p style=\"text-align: right; direction: rtl; float: right; clear: both;\">\n",
    "אם ננסה לקרוא שוב את הקובץ, נגלה תופעה מעט מוזרה:\n",
    "</p>"
   ]
  },
  {
   "cell_type": "code",
   "execution_count": null,
   "metadata": {},
   "outputs": [],
   "source": [
    "common_passwords_again = common_passwords_file.read()\n",
    "print(common_passwords_again)"
   ]
  },
  {
   "cell_type": "code",
   "execution_count": null,
   "metadata": {},
   "outputs": [],
   "source": [
    "# ???\n",
    "common_passwords_again == ''"
   ]
  },
  {
   "cell_type": "markdown",
   "metadata": {},
   "source": [
    "<p style=\"text-align: right; direction: rtl; float: right; clear: both;\">\n",
    "קריאה נוספת של הקובץ החזירה לנו הפעם שהוא ריק!<br>\n",
    "אתם ודאי תשמחו לגלות שזו התנהגות צפויה – וזה הכל באשמתו של הסמן.\n",
    "</p>"
   ]
  },
  {
   "cell_type": "markdown",
   "metadata": {},
   "source": [
    "<p style=\"text-align: right; direction: rtl; float: right; clear: both;\">\n",
    "כנראה תופתעו לדעת שאתם כבר מכירים את הרעיון של סמן!<br>\n",
    "דמיינו שאתם פותחים מסמך לעריכה, או אפילו פותרים תרגיל במחברת, ותיזכרו בקו המהבהב שמראה לכם את המיקום שאליו האות שתכתבו תתווסף.<br>\n",
    "כאשר אנחנו פותחים בעזרת פייתון קובץ לקריאה, ה<dfn>סמן</dfn> (באנגלית: <dfn>cursor</dfn>) מצביע לתחילת הקובץ.<br>\n",
    "ברגע שאתם מבקשים מפייתון לקרוא את הקובץ בעזרת הפעולה <code>read</code>, היא קוראת מהמקום בו נמצא הסמן ועד סוף הקובץ.<br>\n",
    "בזמן הקריאה הסמן יעבור לסוף הקובץ, ולכן כשתנסו לקרוא אותו שוב – תקבלו מחרוזת ריקה.\n",
    "</p>"
   ]
  },
  {
   "cell_type": "markdown",
   "metadata": {},
   "source": [
    "#### <span style=\"text-align: right; direction: rtl; float: right;\">seek</span>"
   ]
  },
  {
   "cell_type": "markdown",
   "metadata": {},
   "source": [
    "<p style=\"text-align: right; direction: rtl; float: right; clear: both;\">\n",
    "כדי להחזיר את הסמן לתחילת הקובץ, נשתמש בפעולה <code>seek</code> ונבקש ממנה להחזיר את הסמן כך שיצביע למקום 0 – לפני התו הראשון:\n",
    "</p>"
   ]
  },
  {
   "cell_type": "code",
   "execution_count": null,
   "metadata": {},
   "outputs": [],
   "source": [
    "common_passwords_file.seek(0)"
   ]
  },
  {
   "cell_type": "code",
   "execution_count": null,
   "metadata": {},
   "outputs": [],
   "source": [
    "print(common_passwords_file.read())"
   ]
  },
  {
   "cell_type": "markdown",
   "metadata": {},
   "source": [
    "#### <span style=\"text-align: right; direction: rtl; float: right;\">tell</span>"
   ]
  },
  {
   "cell_type": "markdown",
   "metadata": {},
   "source": [
    "<p style=\"text-align: right; direction: rtl; float: right; clear: both;\">\n",
    "ניתן לראות איפה הסמן נמצא באמצעות הפעולה <code>tell</code>:\n",
    "</p>"
   ]
  },
  {
   "cell_type": "code",
   "execution_count": null,
   "metadata": {},
   "outputs": [],
   "source": [
    "common_passwords_file.tell()"
   ]
  },
  {
   "cell_type": "code",
   "execution_count": 13,
   "metadata": {},
   "outputs": [
    {
     "data": {
      "text/plain": [
       "''"
      ]
     },
     "execution_count": 13,
     "metadata": {},
     "output_type": "execute_result"
    }
   ],
   "source": [
    "common_passwords_file.read()"
   ]
  },
  {
   "cell_type": "markdown",
   "metadata": {},
   "source": [
    "<p style=\"text-align: right; direction: rtl; float: right; clear: both;\">\n",
    "מכאן ניתן להסיק, שאם נעשה <code>seek</code> ונספק כארגומנט את המספר שחזר בתא האחרון, נעביר את הסמן כך שיצביע לסוף הקובץ. \n",
    "</p>"
   ]
  },
  {
   "cell_type": "markdown",
   "metadata": {},
   "source": [
    "### <span style=\"text-align: right; direction: rtl; float: right;\">קריאה בצורות נוספות</span>"
   ]
  },
  {
   "cell_type": "markdown",
   "metadata": {},
   "source": [
    "<p style=\"text-align: right; direction: rtl; float: right; clear: both;\">\n",
    "לעיתים, במיוחד כשיש קובץ גדול מאוד, נעדיף לקרוא כל פעם רק חלק מהקובץ.<br>\n",
    "נוכל לבחור לקרוא מספר מסוים של תווים באמצעות הפעולה <code>read</code> שאנחנו כבר מכירים,<br>\n",
    "אלא שהפעם נעביר לה ארגומנט שיגיד לה כמה תווים לקרוא:\n",
    "</p>"
   ]
  },
  {
   "cell_type": "code",
   "execution_count": null,
   "metadata": {},
   "outputs": [],
   "source": [
    "common_passwords_file.seek(0)\n",
    "common_passwords_file.read(10)"
   ]
  },
  {
   "cell_type": "markdown",
   "metadata": {},
   "source": [
    "<p style=\"text-align: right; direction: rtl; float: right; clear: both;\">\n",
    "כדאי לזכור שהסמן יהיה עכשיו במקום 10, והפעלה נוספת של פעולת הקריאה תמשיך מהמקום הזה:\n",
    "</p>"
   ]
  },
  {
   "cell_type": "code",
   "execution_count": null,
   "metadata": {},
   "outputs": [],
   "source": [
    "common_passwords_file.read(5)"
   ]
  },
  {
   "cell_type": "markdown",
   "metadata": {},
   "source": [
    "<p style=\"text-align: right; direction: rtl; float: right; clear: both;\">\n",
    "פייתון מאפשר לנו לקרוא גם עד סוף השורה הנוכחית, שעליה נמצא הסמן, באמצעות הפעולה <code>readline</code>.<br>\n",
    "שימו לב שהשורה תסתיים בתווים המייצגים שורה חדשה:\n",
    "</p>"
   ]
  },
  {
   "cell_type": "code",
   "execution_count": null,
   "metadata": {},
   "outputs": [],
   "source": [
    "common_passwords_file.seek(0)\n",
    "common_passwords_file.readline()"
   ]
  },
  {
   "cell_type": "markdown",
   "metadata": {},
   "source": [
    "<p style=\"text-align: right; direction: rtl; float: right; clear: both;\">\n",
    "לקריאת כל השורות בקובץ, ניתן להשתמש בפעולה <code>readlines</code>, שתחזיר לנו רשימת מחרוזות.<br>\n",
    "כל מחרוזת ברשימה מייצגת שורה אחת בקובץ:\n",
    "</p>"
   ]
  },
  {
   "cell_type": "code",
   "execution_count": null,
   "metadata": {},
   "outputs": [],
   "source": [
    "common_passwords_file.seek(0)\n",
    "passwords = common_passwords_file.readlines()\n",
    "print(\"The passwords variable looks like: \" + str(passwords))\n",
    "print(\"The type of 'passwords' is: \" + str(type(passwords)))\n",
    "# אם נרצה להפטר מתו השורה החדשה עבור אחת השורות, נוכל להשתמש בפעולה שלמדנו על מחרוזות:\n",
    "# strip\n",
    "print(\"The most common password is: \" + passwords[0].strip())\n",
    "print(\"The least common password in the list is: \" + passwords[-1].strip())"
   ]
  },
  {
   "cell_type": "markdown",
   "metadata": {},
   "source": [
    "<div class=\"align-center\" style=\"display: flex; text-align: right; direction: rtl; clear: both;\">\n",
    "    <div style=\"display: flex; width: 10%; float: right; clear: both;\">\n",
    "        <img src=\"images/exercise.svg\" style=\"height: 50px !important;\" alt=\"תרגול\"> \n",
    "    </div>\n",
    "    <div style=\"width: 90%\">\n",
    "        <p style=\"text-align: right; direction: rtl; float: right; clear: both;\">\n",
    "        <strong>תרגול</strong>:\n",
    "            כתבו פונקציה שמקבלת נתיב לקובץ, ומחזירה רשימה בה כל איבר הוא שורה בקובץ.<br>\n",
    "            בניגוד לפעולה <code>readlines</code>, המחרוזות ברשימה לא יסתיימו בתו שמייצג ירידת שורה.\n",
    "        </p>\n",
    "    </div>\n",
    "</div>"
   ]
  },
  {
   "cell_type": "markdown",
   "metadata": {},
   "source": [
    "### <span style=\"text-align: right; direction: rtl; float: right;\">סגירת קובץ</span>"
   ]
  },
  {
   "cell_type": "markdown",
   "metadata": {},
   "source": [
    "<p style=\"text-align: right; direction: rtl; float: right; clear: both;\">\n",
    "כמו שלהשאיר דלת פתוחה נחשב מנהג גס־רוח, במחשבים אנחנו נוהגים לסגור קבצים לאחר שסיימנו להשתמש בהם.<br>\n",
    "קובץ פתוח תופס משאבי מערכת (כמו זכרון), ולעיתים יגרום לכך שתוכנות אחרות לא יוכלו לגשת אליו.<br>\n",
    "השארת קבצים פתוחים הוא מנהג מגונה שיגרום להאטה בביצועים, ואפילו לקריסות בלתי צפויות במידה ויש יותר מדי file handlers פתוחים.\n",
    "</p>"
   ]
  },
  {
   "cell_type": "markdown",
   "metadata": {},
   "source": [
    "<p style=\"text-align: right; direction: rtl; float: right; clear: both;\">\n",
    "לא מדובר בפעולה מסובכת מדי. כל מה שתצטרכו לעשות הוא להשתמש בפעולה <code>close</code>:\n",
    "</p>"
   ]
  },
  {
   "cell_type": "code",
   "execution_count": null,
   "metadata": {},
   "outputs": [],
   "source": [
    "common_passwords_file.close()"
   ]
  },
  {
   "cell_type": "markdown",
   "metadata": {},
   "source": [
    "<p style=\"text-align: right; direction: rtl; float: right; clear: both;\">\n",
    "שימו לב שניסיון לעשות כל שימוש בקובץ אחרי סגירתו, יכשל:\n",
    "</p>"
   ]
  },
  {
   "cell_type": "code",
   "execution_count": null,
   "metadata": {},
   "outputs": [],
   "source": [
    "common_passwords_file.read()"
   ]
  },
  {
   "cell_type": "markdown",
   "metadata": {},
   "source": [
    "### <span style=\"text-align: right; direction: rtl; float: right;\">כתיבה לקובץ</span>"
   ]
  },
  {
   "cell_type": "markdown",
   "metadata": {},
   "source": [
    "<p style=\"text-align: right; direction: rtl; float: right; clear: both;\">\n",
    "נסתכל שוב על המידע שראינו בתרגיל על הפוקימונים:\n",
    "</p>"
   ]
  },
  {
   "cell_type": "code",
   "execution_count": null,
   "metadata": {},
   "outputs": [],
   "source": [
    "pokemons = \"\"\"\n",
    "#,Name,Type 1,Type 2,Total,HP,Attack,Defense,Sp. Atk,Sp. Def,Speed,Generation,Legendary\n",
    "1,Bulbasaur,Grass,Poison,318,45,49,49,65,65,45,1,False\n",
    "2,Ivysaur,Grass,Poison,405,60,62,63,80,80,60,1,False\n",
    "3,Venusaur,Grass,Poison,525,80,82,83,100,100,80,1,False\n",
    "4,Charmander,Fire,,309,39,52,43,60,50,65,1,False\n",
    "5,Charmeleon,Fire,,405,58,64,58,80,65,80,1,False\n",
    "6,Charizard,Fire,Flying,534,78,84,78,109,85,100,1,False\n",
    "7,Squirtle,Water,,314,44,48,65,50,64,43,1,False\n",
    "8,Wartortle,Water,,405,59,63,80,65,80,58,1,False\n",
    "9,Blastoise,Water,,530,79,83,100,85,105,78,1,False\n",
    "10,Caterpie,Bug,,195,45,30,35,20,20,45,1,False\n",
    "11,Metapod,Bug,,205,50,20,55,25,25,30,1,False\n",
    "12,Butterfree,Bug,Flying,395,60,45,50,90,80,70,1,False\n",
    "13,Weedle,Bug,Poison,195,40,35,30,20,20,50,1,False\n",
    "14,Kakuna,Bug,Poison,205,45,25,50,25,25,35,1,False\n",
    "15,Beedrill,Bug,Poison,395,65,90,40,45,80,75,1,False\n",
    "16,Pidgey,Normal,Flying,251,40,45,40,35,35,56,1,False\n",
    "17,Pidgeotto,Normal,Flying,349,63,60,55,50,50,71,1,False\n",
    "18,Pidgeot,Normal,Flying,479,83,80,75,70,70,101,1,False\n",
    "19,Rattata,Normal,,253,30,56,35,25,35,72,1,False\n",
    "\"\"\""
   ]
  },
  {
   "cell_type": "markdown",
   "metadata": {},
   "source": [
    "<p style=\"text-align: right; direction: rtl; float: right; clear: both;\">\n",
    "הפעם, נכתוב אותו לתוך קובץ מתסדיר CSV.<br>\n",
    "כדי לכתוב לקובץ נשתמש בפעולה <code>write</code>, לאחר שנפתח את הקובץ במצב כתיבה (<em>w</em>).\n",
    "</p>"
   ]
  },
  {
   "cell_type": "markdown",
   "metadata": {},
   "source": [
    "<div class=\"align-center\" style=\"display: flex; text-align: right; direction: rtl;\">\n",
    "    <div style=\"display: flex; width: 10%; float: right; \">\n",
    "        <img src=\"images/warning.png\" style=\"height: 50px !important;\" alt=\"אזהרה!\"> \n",
    "    </div>\n",
    "    <div style=\"width: 90%\">\n",
    "        <p style=\"text-align: right; direction: rtl;\">\n",
    "            <strong>זהירות!</strong> פתיחת קובץ קיים במצב <em>w</em> תמחק את התוכן שלו מיידית.\n",
    "        </p>\n",
    "    </div>\n",
    "</div>"
   ]
  },
  {
   "cell_type": "markdown",
   "metadata": {},
   "source": [
    "<div class=\"align-center\" style=\"display: flex; text-align: right; direction: rtl;\">\n",
    "    <div style=\"display: flex; width: 10%; float: right; \">\n",
    "        <img src=\"images/tip.png\" style=\"height: 50px !important;\" alt=\"טיפ\"> \n",
    "    </div>\n",
    "    <div style=\"width: 90%\">\n",
    "        <p style=\"text-align: right; direction: rtl;\">\n",
    "            במידה ופתחנו קובץ לכתיבה והנתיב אליו לא קיים במערכת שלנו, פייתון יבדוק האם התיקייה שמעליו קיימת.<br>\n",
    "            אם כן – פייתון יצור את הקובץ בשבילנו.\n",
    "        </p>\n",
    "    </div>\n",
    "</div>"
   ]
  },
  {
   "cell_type": "code",
   "execution_count": null,
   "metadata": {},
   "outputs": [],
   "source": [
    "pokemons_file = open('pokemon.csv', 'w')"
   ]
  },
  {
   "cell_type": "code",
   "execution_count": null,
   "metadata": {},
   "outputs": [],
   "source": [
    "# נסיר את השורות הריקות והרווחים מהצדדים\n",
    "clear_pokemon = pokemons.strip()\n",
    "# ונכתוב לקובץ\n",
    "pokemons_file.write(clear_pokemon)"
   ]
  },
  {
   "cell_type": "markdown",
   "metadata": {},
   "source": [
    "<p style=\"text-align: right; direction: rtl; float: right; clear: both;\">\n",
    "המספר שפייתון מחזיר הוא כמות התווים שייכתבו לקובץ.\n",
    "</p>"
   ]
  },
  {
   "cell_type": "markdown",
   "metadata": {},
   "source": [
    "<p style=\"text-align: right; direction: rtl; float: right; clear: both;\">\n",
    "אם תחפשו את הקובץ במחשב ותפתחו אותו, אתם תגלו שפייתון עדיין לא כתב אליו את הנתונים.<br>\n",
    "פייתון שומר את הנתונים שביקשתם לכתוב בצד במעין מנגנון זיכרון זמני שנקרא buffer, ויכתוב אותם לקובץ כשתסגרו אותו.<br>\n",
    "תוכלו להכריח את פייתון לכתוב לקובץ עוד לפני שסגרתם אותו באמצעות הפעולה <code>flush</code>:\n",
    "</p>"
   ]
  },
  {
   "cell_type": "code",
   "execution_count": null,
   "metadata": {},
   "outputs": [],
   "source": [
    "pokemons_file.flush()"
   ]
  },
  {
   "cell_type": "markdown",
   "metadata": {},
   "source": [
    "<p style=\"text-align: right; direction: rtl; float: right; clear: both;\">\n",
    "לסיום, לא נשכח לסגור את הקובץ כשאנחנו יודעים שכבר לא נשתמש בו:\n",
    "</p>"
   ]
  },
  {
   "cell_type": "code",
   "execution_count": null,
   "metadata": {},
   "outputs": [],
   "source": [
    "pokemons_file.close()"
   ]
  },
  {
   "cell_type": "markdown",
   "metadata": {},
   "source": [
    "<div class=\"align-center\" style=\"display: flex; text-align: right; direction: rtl;\">\n",
    "    <div style=\"display: flex; width: 10%; float: right; \">\n",
    "        <img src=\"images/tip.png\" style=\"height: 50px !important;\" alt=\"טיפ\"> \n",
    "    </div>\n",
    "    <div style=\"width: 90%\">\n",
    "        <p style=\"text-align: right; direction: rtl;\">\n",
    "            כשאתם בתוך המחברת, ניתן להשתמש בסימן קריאה כדי להריץ דברים שלא קשורים לפייתון.<br>\n",
    "            לדוגמה: <code dir=\"ltr\" style=\"direction: ltr;\">!pokemon.csv</code> יריץ את הקובץ שכתבנו.<br>\n",
    "            שימו לב שלא תוכלו להריץ שום דבר אחר במחברת עד שתסגרו את הקובץ.\n",
    "        </p>\n",
    "    </div>\n",
    "</div>"
   ]
  },
  {
   "cell_type": "code",
   "execution_count": null,
   "metadata": {},
   "outputs": [],
   "source": [
    "!pokemon.csv"
   ]
  },
  {
   "cell_type": "markdown",
   "metadata": {},
   "source": [
    "### <span style=\"text-align: right; direction: rtl; float: right;\">הוספה לקובץ</span>"
   ]
  },
  {
   "cell_type": "markdown",
   "metadata": {},
   "source": [
    "<p style=\"text-align: right; direction: rtl; float: right; clear: both;\">\n",
    "ניתן לפתוח קובץ במצב '<em>w</em>' אם נרצה לכתוב לקובץ חדש, או לדרוס קובץ קיים.<br>\n",
    "אם נרצה להוסיף שורות לקובץ קיים, נפתח את הקובץ במצב ההוספה '<em>a</em>' שמסמן <em>append</em>.\n",
    "</p>"
   ]
  },
  {
   "cell_type": "markdown",
   "metadata": {},
   "source": [
    "<p style=\"text-align: right; direction: rtl; float: right; clear: both;\">\n",
    "נוסיף את פוקימון מספר 20, רטיקייט, לקובץ הפוקימונים:\n",
    "</p>"
   ]
  },
  {
   "cell_type": "code",
   "execution_count": null,
   "metadata": {},
   "outputs": [],
   "source": [
    "new_line = \"\\n20,Raticate,Normal,,413,55,81,60,50,70,97,1,False\""
   ]
  },
  {
   "cell_type": "code",
   "execution_count": null,
   "metadata": {},
   "outputs": [],
   "source": [
    "pokemons_table = open('pokemon.csv', 'a')"
   ]
  },
  {
   "cell_type": "markdown",
   "metadata": {},
   "source": [
    "<p style=\"text-align: right; direction: rtl; float: right; clear: both;\">\n",
    "הוספת התוכן לקובץ במצב הוספה תתבצע באמצעות הפעולה <code>write</code>, בדיוק כמו בכתיבת קובץ חדש:\n",
    "</p>"
   ]
  },
  {
   "cell_type": "code",
   "execution_count": null,
   "metadata": {},
   "outputs": [],
   "source": [
    "pokemons_table.write(new_line)"
   ]
  },
  {
   "cell_type": "code",
   "execution_count": null,
   "metadata": {},
   "outputs": [],
   "source": [
    "pokemons_table.close()"
   ]
  },
  {
   "cell_type": "markdown",
   "metadata": {},
   "source": [
    "## <span style=\"text-align: right; direction: rtl; float: right;\">with</span>"
   ]
  },
  {
   "cell_type": "markdown",
   "metadata": {},
   "source": [
    "<p style=\"text-align: right; direction: rtl; float: right; clear: both;\">\n",
    "מילת המפתח <code>with</code> מאפשרת לנו לאגד כמה שורות תחת אותו הקשר.<br>\n",
    "במקרה של קבצים, היא מאפשרת לנו לאגד תחתיה שורות שמטרתן טיפול בקובץ מסוים.<br>\n",
    "לדוגמה, השורות הבאות:\n",
    "</p>"
   ]
  },
  {
   "cell_type": "code",
   "execution_count": null,
   "metadata": {},
   "outputs": [],
   "source": [
    "passwords_file = open('resources/passwords.txt', 'r')\n",
    "most_used_password = passwords_file.readline()\n",
    "other_common_passwords = passwords_file.read()\n",
    "passwords_file.close()\n",
    "\n",
    "print(most_used_password.strip())"
   ]
  },
  {
   "cell_type": "markdown",
   "metadata": {},
   "source": [
    "<p style=\"text-align: right; direction: rtl; float: right; clear: both;\">\n",
    "    יכולות להכתב אחרת בעזרת מילת המפתח <code>with</code>:\n",
    "</p>"
   ]
  },
  {
   "cell_type": "code",
   "execution_count": null,
   "metadata": {},
   "outputs": [],
   "source": [
    "with open('resources/passwords.txt', 'r') as passwords_file:\n",
    "    most_used_password = passwords_file.readline()\n",
    "    other_common_passwords = passwords_file.read()\n",
    "\n",
    "print(most_used_password.strip())"
   ]
  },
  {
   "cell_type": "markdown",
   "metadata": {},
   "source": [
    "<p style=\"text-align: right; direction: rtl; float: right; clear: both;\">\n",
    "    שימו לב לצורת השימוש ב־<code>with</code>:\n",
    "</p>"
   ]
  },
  {
   "cell_type": "markdown",
   "metadata": {},
   "source": [
    "<ol style=\"text-align: right; direction: rtl; float: right; clear: both;\">\n",
    "    <li>כתבנו את מילת המפתח, <code>with</code>.</li>\n",
    "    <li>מיד לאחר מכן השתמשנו בפונקציה <code>open</code> כדי לפתוח את הקובץ עם הארגומנטים שרצינו.</li>\n",
    "    <li>השתמשנו במילת המפתח <code>as</code>.</li>\n",
    "    <li>הכנסנו את שם המשתנה שרצינו שבו ישמר ה־file handler.</li>\n",
    "    <li>כתבנו נקודותיים כדי לסיים את השורה.</li>\n",
    "    <li>השתמשנו בהזחה, ואז כתבנו את הפעולות שאנחנו רוצים לעשות וקשורות לקובץ.</li>\n",
    "</ol>"
   ]
  },
  {
   "cell_type": "markdown",
   "metadata": {},
   "source": [
    "<p style=\"text-align: right; direction: rtl; float: right; clear: both;\">\n",
    "    בתור מתכנתים, זו בחירה שלכם איך לכתוב את הקוד שלכם.<br>\n",
    "    ובכל זאת, קל לראות את היתרונות של שימוש ב־<code>with</code>:<br>\n",
    "    <mark>הקוד הופך להיות קריא ומסודר יותר, והקובץ נסגר לבד כשמסתיימת ההזחה.</mark>\n",
    "</p>"
   ]
  },
  {
   "cell_type": "markdown",
   "metadata": {},
   "source": [
    "<p style=\"text-align: right; direction: rtl; float: right; clear: both;\">\n",
    "    כתיבת קוד עם <code>with</code> היא יותר פשוטה ממה שהיא נראית בהתחלה –<br>\n",
    "    5 הסעיפים הראשונים התייחסו לשורה הראשונה, ששקולה לשורה הראשונה והרביעית בקוד בלי ה־<code>with</code>.\n",
    "</p>"
   ]
  },
  {
   "cell_type": "markdown",
   "metadata": {},
   "source": [
    "## <span style=\"align: right; direction: rtl; float: right; clear: both;\">מונחים</span>"
   ]
  },
  {
   "cell_type": "markdown",
   "metadata": {},
   "source": [
    "<dl style=\"text-align: right; direction: rtl; float: right; clear: both;\">\n",
    "<dt>קובץ טקסטואלי</dt><dd>קובץ שאם ממירים את הבייטים ממנו הוא מורכב לתווים, מקבלים קובץ שקריא על־ידי בני אדם.</dd>\n",
    "<dt>קובץ בינארי</dt><dd>קובץ שהתוכן שלו לא נועד לקריאה על־ידי עין אנושית.</dd>\n",
    "<dt>סמן</dt><dd>מצביע על המקום הנוכחי בקובץ, ממנו הפעולות יתבצעו (קריאה, כתיבה וכדומה).</dd>\n",
    "<dt>ASCII</dt><dd>שיטה מוסכמת לייצוג תווים בזיכרון ובקבצים.</dd>\n",
    "<dt>תסדיר, פורמט</dt><dd>מוסכמה על הדרך שבה ייצגו קובץ מסויים.</dd>\n",
    "<dt>File handler</dt><dd>ערך שבעזרתו ניתן לבצע פעולות המשפיעות על קובץ שפתחנו.</dd>\n",
    "</dl>"
   ]
  },
  {
   "cell_type": "markdown",
   "metadata": {},
   "source": [
    "## <span style=\"text-align: right; direction: rtl; float: right;\">תרגולים</span>"
   ]
  },
  {
   "cell_type": "markdown",
   "metadata": {},
   "source": [
    "### <span style=\"text-align: right; direction: rtl; float: right; clear: both;\">מי דגנים בריאים?</span>"
   ]
  },
  {
   "cell_type": "markdown",
   "metadata": {},
   "source": [
    "<p style=\"text-align: right; direction: rtl; float: right; clear: both;\">\n",
    "    בקובץ <i>cereal.csv</i> שנמצא בתיקיית resources, ישנו מידע תזונתי על מִדְגַּנִּים שונים (יענו, דגני בוקר).<br>\n",
    "    ככל שהמדגנים שמופיעים בשורה מסויימת בריאים יותר, כך המספר שמופיע לידם תחת העמודה rating גבוה יותר.<br>\n",
    "    מצאו את המדגנים הבריאים ביותר והדפיסו את שמם לצד הציון שקיבלו.<br>\n",
    "    קרדיט: את הקובץ הבאנו <a href=\"https://perso.telecom-paristech.fr/eagan/class/igr204/datasets\">מכאן</a>.\n",
    "</p>"
   ]
  },
  {
   "cell_type": "markdown",
   "metadata": {},
   "source": [
    "### <span style=\"text-align: right; direction: rtl; float: right; clear: both;\">תקווה מארחת</span>"
   ]
  },
  {
   "cell_type": "markdown",
   "metadata": {},
   "source": [
    "<p style=\"text-align: right; direction: rtl; float: right; clear: both;\">\n",
    "בקובץ hope.txt שנמצא בתיקיית resources, נמצאת אחת הפואמות המהממות של אמילי דיקנסון, תִּקְוָה הִיא בַּעֲלַת-הַנוֹצָה.<br>\n",
    "אך אבוי! הפואמה התבלגנה, וכעת סדר המילים בכל שורה הוא הפוך.\n",
    "</p>"
   ]
  },
  {
   "cell_type": "markdown",
   "metadata": {},
   "source": [
    "<p style=\"text-align: right; direction: rtl; float: right; clear: both;\">\n",
    "במקום:\n",
    "</p>"
   ]
  },
  {
   "cell_type": "markdown",
   "metadata": {},
   "source": [
    "<blockquote style=\"border-left:none !important; position: relative; padding-left: 0.5em; padding: 1.5em; line-height: 1.5em;  min-height: 2em; border-right: 3px solid #a93226; background-color: #fbe7e6; font-size: 17px; direction: rtl; text-align: right; clear: both;\">\n",
    "    תִּקְוָה הִיא בַּעֲלַת-הַנוֹצָה<br>\n",
    "    זוּ בַּנְּשָׁמָה תִשְׁכֹּן –\n",
    "</blockquote>"
   ]
  },
  {
   "cell_type": "markdown",
   "metadata": {},
   "source": [
    "<p style=\"text-align: right; direction: rtl; float: right; clear: both;\">\n",
    "מופיע:\n",
    "</p>"
   ]
  },
  {
   "cell_type": "markdown",
   "metadata": {},
   "source": [
    "<blockquote style=\"border-left:none !important; position: relative; padding-left: 0.5em; padding: 1.5em; line-height: 1.5em;  min-height: 2em; border-right: 3px solid #a93226; background-color: #fbe7e6; font-size: 17px; direction: rtl; text-align: right; clear: both;\">\n",
    "    בַּעֲלַת-הַנוֹצָה הִיא תִּקְוָה<br>\n",
    "    – תִשְׁכֹּן בַּנְּשָׁמָה זוּ\n",
    "</blockquote>"
   ]
  },
  {
   "cell_type": "markdown",
   "metadata": {},
   "source": [
    "<p style=\"text-align: right; direction: rtl; float: right; clear: both;\">\n",
    "שמרו גיבוי של הקובץ בצד, וכתבו קוד שמסדר את הפואמה המבולגנת.<br>\n",
    "שמרו את הפואמה המסודרת בקובץ חדש ששמו <i>hope2.txt</i>.\n",
    "</p>"
   ]
  },
  {
   "cell_type": "markdown",
   "metadata": {},
   "source": [
    "<div class=\"align-center\" style=\"display: flex; text-align: right; direction: rtl;\">\n",
    "    <div style=\"display: flex; width: 10%; float: right; \">\n",
    "        <img src=\"images/warning.png\" style=\"height: 50px !important;\" alt=\"אזהרה!\"> \n",
    "    </div>\n",
    "    <div style=\"width: 90%\">\n",
    "        <p style=\"text-align: right; direction: rtl;\">\n",
    "            <strong>זהירות!</strong> יש פה בעיה שלא למדנו איך לתקן.<br>\n",
    "            התרגיל בודק גם את יכולת החיפוש שלכם בגוגל :)\n",
    "        </p>\n",
    "    </div>\n",
    "</div>"
   ]
  }
 ],
 "metadata": {
  "kernelspec": {
   "display_name": "Python 3",
   "language": "python",
   "name": "python3"
  },
  "language_info": {
   "codemirror_mode": {
    "name": "ipython",
    "version": 3
   },
   "file_extension": ".py",
   "mimetype": "text/x-python",
   "name": "python",
   "nbconvert_exporter": "python",
   "pygments_lexer": "ipython3",
   "version": "3.7.4"
  }
 },
 "nbformat": 4,
 "nbformat_minor": 2
}
