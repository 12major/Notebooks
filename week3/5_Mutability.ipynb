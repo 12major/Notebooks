{
 "cells": [
  {
   "cell_type": "markdown",
   "metadata": {},
   "source": [
    "<img src=\"images/logo.png\" alt=\"לוגו של מיזם לימוד הפייתון. נחש מצויר בצבעי צהוב וכחול, הנע בין האותיות של שם הקורס: לומדים פייתון. הסלוגן המופיע מעל לשם הקורס הוא מיזם לימוד תכנות בחינם ובעברית.\">"
   ]
  },
  {
   "cell_type": "markdown",
   "metadata": {},
   "source": [
    "# <span style=\"text-align: right; direction: rtl; float: right;\">Mutability</span>"
   ]
  },
  {
   "cell_type": "markdown",
   "metadata": {},
   "source": [
    "## <span style=\"text-align: right; direction: rtl; float: right; clear: both;\">הגדרה</span>"
   ]
  },
  {
   "cell_type": "markdown",
   "metadata": {},
   "source": [
    "<p style=\"text-align: right; direction: rtl; float: right; clear: both;\">\n",
    "המילה <dfn>Mutable</dfn> נגזרת מהמילה <em>Mutate</em>, והמשמעות שלה היא \"<em>משהו שאפשר לשנות</em>\".<br>\n",
    "אנחנו נשתמש בה עבור סוגי נתונים שמיועדים לכך שישנו אותם, למשל יוסיפו אליהם איברים או יחסירו מהם איברים.<br>\n",
    "משמעות המילה <dfn>Immutable</dfn> היא \"<em>משהו שאי אפשר לשנות</em>\", נתון שאמור להיות קבוע אחרי יצירתו.<br>\n",
    "שינוי ערך שהוא Immutable משנה את המהות שלו, ויגרום לו להחשב ערך אחר לגמרי.\n",
    "</p>"
   ]
  },
  {
   "cell_type": "markdown",
   "metadata": {},
   "source": [
    "<p style=\"text-align: right; direction: rtl; float: right; clear: both;\">\n",
    "נדמיין ארנק עם שטרות – ניתן להוסיף אליו שטרות או להוציא ממנו שטרות, אבל הארנק יישאר אותו ארנק.<br>\n",
    "מכיוון שניתן לשנות את המצב של הארנק בלי לפגוע במהות שלו, ניתן להגיד שארנק הוא Mutable.<br>\n",
    "לעומת זאת, אם אקח את אחד השטרות שנמצאים בתוך הארנק, לא אוכל לשנות בו משהו בלי שהוא יאבד את המהות שלו.<br>\n",
    "שינוי באחד המאפיינים של השטר, כמו המספר שכתוב עליו, יגרור שינוי מהותי שיהפוך אותו לדבר אחר לחלוטין.<br>\n",
    "ניתן להגיד שהשטר הוא Immutable, בלתי ניתן לשינוי.\n",
    "</p>"
   ]
  },
  {
   "cell_type": "markdown",
   "metadata": {},
   "source": [
    "<p style=\"text-align: right; direction: rtl; float: right; clear: both;\">\n",
    "הערכים ה־Mutable שנכיר בקורס הם מעין \"מכולות\" שמכילות ערכים אחרים.<br>\n",
    "עד כה, אנו מכירים סוג ערך אחד שהוא Mutable – רשימה.\n",
    "</p>"
   ]
  },
  {
   "cell_type": "markdown",
   "metadata": {},
   "source": [
    "## <span style=\"text-align: right; direction: rtl; float: right; clear: both;\">כתובות של ערכים</span>"
   ]
  },
  {
   "cell_type": "markdown",
   "metadata": {},
   "source": [
    "### <span style=\"text-align: right; direction: rtl; float: right;\">ערכים</span>"
   ]
  },
  {
   "cell_type": "markdown",
   "metadata": {},
   "source": [
    "<p style=\"text-align: right; direction: rtl; float: right; clear: both;\">\n",
    "כדי להבין טוב יותר את הנושא, נעצור לרגע כדי להבין איך ערכים עובדים מאחורי הקלעים בפייתון.\n",
    "</p>"
   ]
  },
  {
   "cell_type": "markdown",
   "metadata": {},
   "source": [
    "<p style=\"text-align: right; direction: rtl; float: right; clear: both;\">\n",
    "כשאנחנו יוצרים ערך כלשהו, פייתון מקצה עבורו מקום בזיכרון המחשב ושומרת שם את הערך.<br>\n",
    "מאותו רגע לאותו ערך יש כתובת, שהיא מספר שמייצג איפה הוא נמצא בזיכרון.<br>\n",
    "הכתובת של ערך נשארת זהה מרגע שהוא נוצר ועד סוף חייו.\n",
    "</p>"
   ]
  },
  {
   "cell_type": "code",
   "execution_count": null,
   "metadata": {},
   "outputs": [],
   "source": [
    "print(9876543)"
   ]
  },
  {
   "cell_type": "markdown",
   "metadata": {},
   "source": [
    "<p style=\"text-align: right; direction: rtl; float: right; clear: both;\">\n",
    "בשורה למעלה הגדרנו את הערך 9876543.<br>\n",
    "אפילו שלא עשינו עליו פעולה מתוחכמת ולא שמרנו אותו במשתנה, פייתון תשמור את הערך הזה בזיכרון המחשב.<br>\n",
    "לערך 9876543 יש כתובת עכשיו.\n",
    "</p>"
   ]
  },
  {
   "cell_type": "markdown",
   "metadata": {},
   "source": [
    "<p style=\"text-align: right; direction: rtl; float: right; clear: both;\">\n",
    "<mark>כשאנחנו מגדירים משתנה חדש, אנחנו בסך־הכל יוצרים קישור בין שם המשתנה לבין הכתובת של הערך שהשמנו לתוכו.</mark><br>\n",
    "תוכלו לדמיין משתנה כסוג של לייזר שמצביע על מקום מסוים במפה – ראש הלייזר הוא שם המשתנה, והמקום במפה הוא כתובת הערך שלו.\n",
    "</p>"
   ]
  },
  {
   "cell_type": "code",
   "execution_count": null,
   "metadata": {},
   "outputs": [],
   "source": [
    "name = 12345"
   ]
  },
  {
   "cell_type": "markdown",
   "metadata": {},
   "source": [
    "<p style=\"text-align: right; direction: rtl; float: right; clear: both;\">\n",
    "בשורה למעלה \"קשרנו\" את השם <var>name</var> לכתובת של הערך המספרי 12345.<br>\n",
    "המשתנה <var>name</var> לא \"מכיל\" את הערך 12,345, אלא רק מצביע על הכתובת שבה הערך 12,345 מאוחסן.\n",
    "</p>"
   ]
  },
  {
   "cell_type": "markdown",
   "metadata": {},
   "source": [
    "### <span style=\"text-align: right; direction: rtl; float: right;\">בדיקת כתובת של ערכים</span>"
   ]
  },
  {
   "cell_type": "markdown",
   "metadata": {},
   "source": [
    "<p style=\"text-align: right; direction: rtl; float: right; clear: both;\">\n",
    "הפונקציה <code dir=\"ltr\" style=\"direction: ltr;\">id</code> מקבלת כארגומנט ערך, ומחזירה מספר שמייצג את הכתובת שלו – המיקום של הערך בזיכרון.<br>\n",
    "נראה דוגמה:\n",
    "</p>"
   ]
  },
  {
   "cell_type": "code",
   "execution_count": null,
   "metadata": {},
   "outputs": [],
   "source": [
    "number = 100000\n",
    "print(\"ID before: \" + str(id(number)))\n",
    "number = 123456\n",
    "print(\"ID after: \" + str(id(number)))"
   ]
  },
  {
   "cell_type": "markdown",
   "metadata": {},
   "source": [
    "<p style=\"text-align: right; direction: rtl; float: right; clear: both;\">\n",
    "הדוגמה האחרונה מבהירה שעבור ערכים שונים, אפילו אם אותו שם משתנה מצביע עליהם, יש כתובות שונות.\n",
    "</p>"
   ]
  },
  {
   "cell_type": "code",
   "execution_count": null,
   "metadata": {},
   "outputs": [],
   "source": [
    "number = 100000\n",
    "print(\"ID before: \" + str(id(number)))\n",
    "number = number + 1\n",
    "print(\"ID after: \" + str(id(number)))"
   ]
  },
  {
   "cell_type": "markdown",
   "metadata": {},
   "source": [
    "<p style=\"text-align: right; direction: rtl; float: right; clear: both;\">\n",
    "בדוגמה הגדלנו את ערך המשתנה <var>number</var> מ־100,000 ל־100,001.<br>\n",
    "<mark>החלק החשוב לזכור בדוגמה הזו היא שההעלאה מ־100,000 ל־100,001 לא באמת \"שינתה את הערך ששמור במשתנה\", אלא גרמה למשתנה להצביע לכתובת אחרת של ערך אחר.</mark>\n",
    "</p>\n",
    "<p style=\"text-align: right; direction: rtl; float: right; clear: both;\">\n",
    "בשורה הראשונה \"קשרנו\" את שם המשתנה <var>number</var> לערך 100,000, ולכן כשביקשנו את <code>id(number)</code> למעשה ביקשנו לדעת את הכתובת של <var>number</var>.<br>\n",
    "בשורה השנייה \"קשרנו\" את שם המשתנה <var>number</var> לערך 100,001, ולכן כשביקשנו את <code>id(number)</code> למעשה ביקשנו לדעת את הכתובת של <var>number</var>.\n",
    "</p>\n",
    "<p style=\"text-align: right; direction: rtl; float: right; clear: both;\">\n",
    "    בשתי השורות הראשונות מודפסת הכתובת של הערך הראשון שיצרנו, 100,000.<br>\n",
    "    בשתי השורות האחרונות מודפסת הכתובת של הערך השני שיצרנו, 100,001.\n",
    "</p>"
   ]
  },
  {
   "cell_type": "markdown",
   "metadata": {},
   "source": [
    "<p style=\"text-align: right; direction: rtl; float: right; clear: both;\">\n",
    "חשוב לדעת שהתייחסות לאותו ערך פעם נוספת עלולה ליצור מופע חדש שלו, שיאוחסן בכתובת אחרת:\n",
    "</p>"
   ]
  },
  {
   "cell_type": "code",
   "execution_count": null,
   "metadata": {},
   "outputs": [],
   "source": [
    "print(f\"ID of number ({number}): \" + str(id(number)))\n",
    "number2 = 100001\n",
    "print(f\"ID of number2 ({number2}): \" + str(id(number2)))"
   ]
  },
  {
   "cell_type": "markdown",
   "metadata": {},
   "source": [
    "<p style=\"text-align: right; direction: rtl; float: right; clear: both;\">\n",
    "אבל השמה של משתנה אחד למשתנה אחר תגרום לכך ששני המשתנים יפנו לאותה כתובת:\n",
    "</p>"
   ]
  },
  {
   "cell_type": "code",
   "execution_count": null,
   "metadata": {},
   "outputs": [],
   "source": [
    "print(\"ID of number: \" + str(id(number)))\n",
    "number3 = number\n",
    "print(\"ID of number2: \" + str(id(number3)))"
   ]
  },
  {
   "cell_type": "markdown",
   "metadata": {},
   "source": [
    "<p style=\"text-align: right; direction: rtl; float: right; clear: both;\">\n",
    "ניתן לדמיין את המצב כמו שני ראשי לייזר שמצביעים לאותה נקודה על המפה,<br>\n",
    "או כמו מגירה שמכילה ערך ושהדביקו עליה שתי מדבקות עם שמות שונים.\n",
    "</p>"
   ]
  },
  {
   "cell_type": "markdown",
   "metadata": {},
   "source": [
    "#### <span style=\"text-align: right; direction: rtl; float: right;\">רשימה</span>"
   ]
  },
  {
   "cell_type": "markdown",
   "metadata": {},
   "source": [
    "<p style=\"text-align: right; direction: rtl; float: right; clear: both;\">\n",
    "נבדוק האם שינוי של ערך בתוך רשימה יגרום לפייתון לבנות רשימה חדשה.<br>\n",
    "אם פייתון יבנה רשימה חדשה אחרי שינוי הערך, נוכל לראות זאת בקלות לפי השינוי במיקום של אותו ערך בזיכרון.\n",
    "</p>"
   ]
  },
  {
   "cell_type": "code",
   "execution_count": null,
   "metadata": {},
   "outputs": [],
   "source": [
    "my_list = ['It\\'s', 'never', 'enough']\n",
    "print(f\"id() of my_list ({my_list}) before:\\n\\t\" + str(id(my_list)))\n",
    "my_list[2] = 'lupus'\n",
    "print(f\"id() of my_list ({my_list}) after:\\n\\t\" + str(id(my_list)))"
   ]
  },
  {
   "cell_type": "markdown",
   "metadata": {},
   "source": [
    "<p style=\"text-align: right; direction: rtl; float: right; clear: both;\">\n",
    "בדוגמה שינינו ערך ברשימה ששמה <var>my_list</var>, וראינו שהמיקום שלה לא משתנה.<br>\n",
    "זה מה שאנחנו מצפים מערך שהסוג שלו הוא Mutable – ניתן לשנות אותו.<br>\n",
    "</p>"
   ]
  },
  {
   "cell_type": "markdown",
   "metadata": {},
   "source": [
    "### <span style=\"text-align: right; direction: rtl; float: right;\">סיכום ביניים</span>"
   ]
  },
  {
   "cell_type": "markdown",
   "metadata": {},
   "source": [
    "<ul style=\"text-align: right; direction: rtl; float: right; clear: both;\"></ol>\n",
    "    <li>כל ערך מאוחסן בכתובת, שלא תשתנה כל חייו של הערך.</li>\n",
    "    <li>אם ניצור ערך פעמיים, יכול להיות שיהיו לו כתובות שונות.</li>\n",
    "    <li>משתנה הוא לא יותר מ\"קשירה\" בין שם לכתובת של ערך מסוים.</li>\n",
    "    <li>השמה היא הפעולה שקושרת בין שם המשתנה לבין הכתובת של הערך.</li>\n",
    "    <li>זה אפשרי שיותר ממשתנה אחד יצביע לאותה כתובת.</li>\n",
    "    <li>ערכים שהסוג שלהם הוא <em>mutable</em> יכולים להשתנות בלי שהכתובת שלהם תשתנה.</li>\n",
    "    <li>ערכים שהסוג שלהם הוא <em>immutable</em> לא יכולים להשתנות בלי שהכתובת שלהם תשתנה.</li>\n",
    "</ul>"
   ]
  },
  {
   "cell_type": "markdown",
   "metadata": {},
   "source": [
    "## <span style=\"text-align: right; direction: rtl; float: right;\">השלכות</span>"
   ]
  },
  {
   "cell_type": "markdown",
   "metadata": {},
   "source": [
    "### <span style=\"text-align: right; direction: rtl; float: right;\">פרמטרים של פונקציה</span>"
   ]
  },
  {
   "cell_type": "markdown",
   "metadata": {},
   "source": [
    "<p style=\"text-align: right; direction: rtl; float: right; clear: both;\">\n",
    "נגדיר פונקציה שמקבלת מחרוזת, ומוסיפה לה בסוף את האות <i>Z</i>:\n",
    "</p>"
   ]
  },
  {
   "cell_type": "code",
   "execution_count": null,
   "metadata": {},
   "outputs": [],
   "source": [
    "def append_to_string(my_string):\n",
    "    print('\\t--- Inside the function now ---')\n",
    "    print(f'\\tFunction got value: {my_string}, with id: {id(my_string)}.')\n",
    "    my_string = my_string + 'Z'\n",
    "    print(f'\\tChanged my_string to be {my_string}, with id: {id(my_string)}.')\n",
    "    print('\\t--- Finished to run the function now ---')\n",
    "\n",
    "s = 'Hello'\n",
    "print(f'Before calling the function: s = {s}, with id: {id(s)}.')\n",
    "append_to_string(s)\n",
    "print(f'After calling the function: s = {s}, with id: {id(s)}.')"
   ]
  },
  {
   "cell_type": "markdown",
   "metadata": {},
   "source": [
    "<p style=\"text-align: right; direction: rtl; float: right; clear: both;\">\n",
    "מה קרה בפועל? למה המחרוזת לא השתנתה גם מחוץ לפונקציה?<br>\n",
    "הערך שהועבר לפרמטר של הפונקציה היה הכתובת של <var>s</var>, שעכשיו גם <var>my_string</var> מצביעה עליו.<br>\n",
    "ברגע שביצענו את ההשמה <code dir=\"ltr\" style=\"direction: ltr;\">my_string = my_string + 'Z'</code>, יצרנו באגף הימני ערך חדש, ושמנו ב־<var>my_string</var> את הכתובת שלו.<br>\n",
    "המשתנה <var>my_string</var> מצביע כרגע לכתובת של ערך אחר, בזמן שהמשתנה <var>s</var> עדיין מצביע על הערך המקורי.\n",
    "</p>\n",
    "<p style=\"text-align: right; direction: rtl; float: right; clear: both;\">\n",
    "במקרה הזה, הפונקציה לא שינתה את הערך של המחרוזת שהעברנו לה כארגומנט.<br>\n",
    "בפועל זה גם לא אפשרי, מכיוון שמחרוזות הן Immutable.\n",
    "</p>"
   ]
  },
  {
   "cell_type": "markdown",
   "metadata": {},
   "source": [
    "<p style=\"text-align: right; direction: rtl; float: right; clear: both;\">\n",
    "ננסה לעשות אותו דבר עם רשימה:\n",
    "</p>"
   ]
  },
  {
   "cell_type": "code",
   "execution_count": null,
   "metadata": {},
   "outputs": [],
   "source": [
    "def append_to_list(my_list):\n",
    "    print('\\t--- Inside the function now ---')\n",
    "    print(f'\\tFunction got value: {my_list}, with id: {id(my_list)}.')\n",
    "    my_list = my_list + [126]\n",
    "    print(f'\\tChanged my_string to be {my_list}, with id: {id(my_list)}.')\n",
    "    print('\\t--- Finished to run the function now ---')\n",
    "\n",
    "l = [2, 8, 20, 28, 50, 82]\n",
    "print(f'Before calling the function: l = {l}, with id: {id(l)}.')\n",
    "append_to_list(l)\n",
    "print(f'After calling the function: l = {l}, with id: {id(l)}.')"
   ]
  },
  {
   "cell_type": "markdown",
   "metadata": {},
   "source": [
    "<p style=\"text-align: right; direction: rtl; float: right; clear: both;\">\n",
    "ההתרחשות הייתה זהה למה שקרה עם מחרוזות!<br>\n",
    "זה קרה מכיוון שגם פה, דרסנו את <var>my_list</var> כך שיצביע לרשימה חדשה.<br>\n",
    "ננסה להשתמש בפעולה של צירוף איבר חדש לרשימה, <code dir=\"ltr\" style=\"direction: ltr;\">list.append(item)</code>, עליה למדנו השבוע:\n",
    "</p>"
   ]
  },
  {
   "cell_type": "code",
   "execution_count": null,
   "metadata": {},
   "outputs": [],
   "source": [
    "def append_to_list(my_list):\n",
    "    print('\\t--- Inside the function now ---')\n",
    "    print(f'\\tFunction got value: {my_list}, with id: {id(my_list)}.')\n",
    "    my_list.append(126)\n",
    "    print(f'\\tChanged my_string to be {my_list}, with id: {id(my_list)}.')\n",
    "    print('\\t--- Finished to run the function now ---')\n",
    "\n",
    "l = [2, 8, 20, 28, 50, 82]\n",
    "print(f'Before calling the function: l = {l}, with id: {id(l)}.')\n",
    "append_to_list(l)\n",
    "print(f'After calling the function: l = {l}, with id: {id(l)}.')"
   ]
  },
  {
   "cell_type": "markdown",
   "metadata": {},
   "source": [
    "<p style=\"text-align: right; direction: rtl; float: right; clear: both;\">\n",
    "הצלחנו!<br>\n",
    "הרשימה השתנתה גם בתוך הפונקציה וגם מחוץ לה.<br>\n",
    "אפשר ללמוד מהדוגמה הזו שכשאנחנו מבצעים השמה לשם משתנה מסוים, אנחנו משנים את הכתובת שאליה הצביע שם המשתנה לכתובת חדשה, ולא \"עורכים\" את התוכן שלו.<br>\n",
    "</p>"
   ]
  },
  {
   "cell_type": "markdown",
   "metadata": {},
   "source": [
    "### <span style=\"text-align: right; direction: rtl; float: right;\">רשימות</span>"
   ]
  },
  {
   "cell_type": "markdown",
   "metadata": {},
   "source": [
    "<p style=\"text-align: right; direction: rtl; float: right; clear: both;\">\n",
    "נעשה את הניסיון הבא:</p>"
   ]
  },
  {
   "cell_type": "code",
   "execution_count": null,
   "metadata": {},
   "outputs": [],
   "source": [
    "str1 = \"Puns are the highest form of literature.\"\n",
    "str2 = str1\n",
    "str2 = str2 + \"\\n\\t - Alfred Hitchcock\"\n",
    "\n",
    "print(str1)\n",
    "print('-' * len(str1))\n",
    "print(str2)"
   ]
  },
  {
   "cell_type": "markdown",
   "metadata": {},
   "source": [
    "<p style=\"text-align: right; direction: rtl; float: right; clear: both;\">\n",
    "קל לראות ש־<var>str1</var> ו־<var>str2</var> מצביעים למקומות שונים, בגלל ההשמה בשורה 3.\n",
    "</p>\n",
    "<p style=\"text-align: right; direction: rtl; float: right; clear: both;\">\n",
    "אבל ברשימות אפשר לשנות את הערכים גם בלי לבצע השמה. מה קורה אז?\n",
    "</p>"
   ]
  },
  {
   "cell_type": "code",
   "execution_count": null,
   "metadata": {},
   "outputs": [],
   "source": [
    "list1 = [2, 8, 20, 28, 50, 82]\n",
    "list2 = list1\n",
    "list2.append(126)\n",
    "\n",
    "print(list1)\n",
    "print('-' * len(str(list1)))\n",
    "print(list2)"
   ]
  },
  {
   "cell_type": "markdown",
   "metadata": {},
   "source": [
    "<p style=\"text-align: right; direction: rtl; float: right; clear: both;\">\n",
    "במקרה הזה, גרמנו ל־<var>list2</var> להצביע לאותו מקום ש־<var>list1</var> מצביעה עליו.<br>\n",
    "מהסיבה הזו, שינוי של <var>list2</var> משפיע גם על <var>list1</var>, ושינוי של <var>list1</var> ישפיע גם על <var>list2</var>.\n",
    "</p>"
   ]
  },
  {
   "cell_type": "code",
   "execution_count": null,
   "metadata": {},
   "outputs": [],
   "source": [
    "print(id(list1))\n",
    "print(id(list2))"
   ]
  },
  {
   "cell_type": "markdown",
   "metadata": {},
   "source": [
    "<p style=\"text-align: right; direction: rtl; float: right; clear: both;\">\n",
    "    כדי \"להתגבר\" על זה, צריך להגיד לפייתון במוצהר שאנחנו מעוניינים ביצירת רשימה חדשה.<br>\n",
    "    ניתן לעשות את זה על־ידי קריאה לפעולה <code dir=\"ltr\" style=\"direction: ltr;\">list.copy()</code>:\n",
    "</p>"
   ]
  },
  {
   "cell_type": "code",
   "execution_count": null,
   "metadata": {},
   "outputs": [],
   "source": [
    "list1 = [2, 8, 20, 28, 50, 82]\n",
    "list2 = list1.copy()\n",
    "list2.append(126)\n",
    "\n",
    "print(list1)\n",
    "print('-' * len(str(list1)))\n",
    "print(list2)"
   ]
  },
  {
   "cell_type": "markdown",
   "metadata": {},
   "source": [
    "## <span style=\"text-align: right; direction: rtl; float: right;\">Tuple</span>"
   ]
  },
  {
   "cell_type": "markdown",
   "metadata": {},
   "source": [
    "### <span style=\"text-align: right; direction: rtl; float: right;\">הגדרה</span>"
   ]
  },
  {
   "cell_type": "markdown",
   "metadata": {},
   "source": [
    "<p style=\"text-align: right; direction: rtl; float: right; clear: both;\">\n",
    "    ברוח השיעור על העובדה שרשימות הן Mutable, הגיע הזמן להכיר את האח דל־התקציב שלהן: <code>tuple</code>.<br>\n",
    "    סוג הנתונים tuple לא מרגש במיוחד – הוא למעשה סוג של רשימה שאי אפשר לשנות. Immutable list, אם תרצו.<br>\n",
    "</p>"
   ]
  },
  {
   "cell_type": "markdown",
   "metadata": {},
   "source": [
    "<p style=\"text-align: right; direction: rtl; float: right; clear: both;\">\n",
    "    נגדיר משתנה מסוג tuple בעזרת סוגריים עגולים:\n",
    "</p>"
   ]
  },
  {
   "cell_type": "code",
   "execution_count": null,
   "metadata": {},
   "outputs": [],
   "source": [
    "animals = ('dog', 'fish', 'horse')"
   ]
  },
  {
   "cell_type": "markdown",
   "metadata": {},
   "source": [
    "<p style=\"text-align: right; direction: rtl; float: right; clear: both;\">\n",
    " כמו ברשימה, ניתן לקבל איברים בתוכו על־ידי פנייה למיקום שלהם:\n",
    "</p>"
   ]
  },
  {
   "cell_type": "code",
   "execution_count": null,
   "metadata": {},
   "outputs": [],
   "source": [
    "first_animal = animals[0]\n",
    "print(f\"The first animal is {first_animal}\")"
   ]
  },
  {
   "cell_type": "markdown",
   "metadata": {},
   "source": [
    "<p style=\"text-align: right; direction: rtl; float: right; clear: both;\">\n",
    "    ניסיון לשנות את ה־tuple לא יצליח, מן הסתם. Immutable, זוכרים?\n",
    "</p>"
   ]
  },
  {
   "cell_type": "code",
   "execution_count": null,
   "metadata": {},
   "outputs": [],
   "source": [
    "animals[1] = 'pig'"
   ]
  },
  {
   "cell_type": "markdown",
   "metadata": {},
   "source": [
    "<p style=\"text-align: right; direction: rtl; float: right; clear: both;\">\n",
    "    יצירת tuple ריק תכתב כך:\n",
    "</p>"
   ]
  },
  {
   "cell_type": "code",
   "execution_count": null,
   "metadata": {},
   "outputs": [],
   "source": [
    "my_tuple = tuple()"
   ]
  },
  {
   "cell_type": "markdown",
   "metadata": {},
   "source": [
    "<p style=\"text-align: right; direction: rtl; float: right; clear: both;\">\n",
    "    ועבור יצירת tuple עם איבר אחד בלבד, נכתוב את האיבר ואז פסיק אחריו, כדי שפייתון לא תפרש את הביטוי כסוגריים רגילים:\n",
    "</p>"
   ]
  },
  {
   "cell_type": "code",
   "execution_count": null,
   "metadata": {},
   "outputs": [],
   "source": [
    "my_tuple = my_tuple + (4, )"
   ]
  },
  {
   "cell_type": "markdown",
   "metadata": {},
   "source": [
    "<div class=\"align-center\" style=\"display: flex; text-align: right; direction: rtl; clear: both;\">\n",
    "    <div style=\"display: flex; width: 10%; float: right; clear: both;\">\n",
    "        <img src=\"images/exercise.svg\" style=\"height: 50px !important;\" alt=\"תרגול\"> \n",
    "    </div>\n",
    "    <div style=\"width: 90%\">\n",
    "        <p style=\"text-align: right; direction: rtl; float: right; clear: both;\">\n",
    "        <strong>תרגול</strong>:\n",
    "            כתבו פונקצייה שמשתמשת ב־<code dir=\"ltr\" style=\"direction: ltr;\">dir()</code>, ומחזירה את כל הפעולות שיש ב־list ואין ב־tuple.<br>\n",
    "            בדקו אילו פעולות יש ב־tuple ואין ב־list.<br>\n",
    "            התעלמו מפעולות שמתחילות בתו קו תחתון.\n",
    "        </p>\n",
    "    </div>\n",
    "</div>"
   ]
  },
  {
   "cell_type": "markdown",
   "metadata": {},
   "source": [
    "### <span style=\"text-align: right; direction: rtl; float: right;\">שימושים</span>"
   ]
  },
  {
   "cell_type": "markdown",
   "metadata": {},
   "source": [
    "<p style=\"text-align: right; direction: rtl; float: right; clear: both;\">\n",
    "    אם tuple מעניק לי פחות חופש פעולה, למה להשתמש בו מלכתחילה?\n",
    "</p>"
   ]
  },
  {
   "cell_type": "markdown",
   "metadata": {},
   "source": [
    "<ul style=\"text-align: right; direction: rtl; float: right; clear: both;\"></ol>\n",
    "    <li><strong>מהירות</strong> – עבודה עם ערכים מסוג tuple היא מהירה פי כמה וכמה מאשר עם רשימות.</li>\n",
    "    <li><strong>סמנטיקה</strong> – עבור ערך קבוע שאין צורך לשנות, נעדיף להשתמש ב־tuple כדי להדגיש את זה וכדי לא לאפשר הוספה או הסרה של ערכים בטעות.</li>\n",
    "</ul>"
   ]
  },
  {
   "cell_type": "markdown",
   "metadata": {},
   "source": [
    "#### <span style=\"text-align: right; direction: rtl; float: right;\">דוגמאות</span>"
   ]
  },
  {
   "cell_type": "code",
   "execution_count": null,
   "metadata": {},
   "outputs": [],
   "source": [
    "my_home = (35.027185, -111.022388)  # x, y\n",
    "traingle_sides_length = (4, 5, 6)\n",
    "possible_directions = ('UP', 'DOWN', 'LEFT', 'RIGHT')\n",
    "students_and_age = [('Itamar', 50), ('Yam', '27'), ('David', 16)]  # רשימה של טאפלים"
   ]
  },
  {
   "cell_type": "markdown",
   "metadata": {},
   "source": [
    "## <p style=\"align: right; direction: rtl; float: right; clear: both;\">מונחים</p>"
   ]
  },
  {
   "cell_type": "markdown",
   "metadata": {},
   "source": [
    "<dl style=\"text-align: right; direction: rtl; float: right; clear: both;\">\n",
    "<dt>כתובת</dt><dd>מקום במחשב שבו שמור ערך כלשהו. הערך לעולם לא יחליף את הכתובת שלו.</dd>\n",
    "<dt>Immutable</dt><dd>ערך שלא ניתן לשנות.</dd>\n",
    "<dt>Mutable</dt><dd>ערך שניתן לשנות.</dd>\n",
    "<dt>Tuple</dt><dd>סוג משתנה. Immutable. דומה לרשימה בתכונותיו.</dd>\n",
    "</dl>"
   ]
  }
 ],
 "metadata": {
  "kernelspec": {
   "display_name": "Python 3",
   "language": "python",
   "name": "python3"
  },
  "language_info": {
   "codemirror_mode": {
    "name": "ipython",
    "version": 3
   },
   "file_extension": ".py",
   "mimetype": "text/x-python",
   "name": "python",
   "nbconvert_exporter": "python",
   "pygments_lexer": "ipython3",
   "version": "3.7.3"
  }
 },
 "nbformat": 4,
 "nbformat_minor": 2
}
