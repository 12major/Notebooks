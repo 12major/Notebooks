{
 "cells": [
  {
   "cell_type": "markdown",
   "metadata": {},
   "source": [
    "<img src=\"images/logo.png\" alt=\"לוגו של מיזם לימוד הפייתון. נחש מצויר בצבעי צהוב וכחול, הנע בין האותיות של שם הקורס: לומדים פייתון. הסלוגן המופיע מעל לשם הקורס הוא מיזם לימוד תכנות בחינם ובעברית.\">"
   ]
  },
  {
   "cell_type": "markdown",
   "metadata": {},
   "source": [
    "# <span style=\"text-align: right; direction: rtl; float: right;\">פעולות על רשימות</span>"
   ]
  },
  {
   "cell_type": "markdown",
   "metadata": {},
   "source": [
    "## <span style=\"text-align: right; direction: rtl; float: right; clear: both;\">הקדמה</span>"
   ]
  },
  {
   "cell_type": "markdown",
   "metadata": {},
   "source": [
    "<p style=\"text-align: right; direction: rtl; float: right; clear: both;\">\n",
    "    עד כה למדנו שישנם שני אופרטורים חשבוניים שעובדים על רשימות: חיבור וכפל.<br>\n",
    "    חיבור משרשר רשימה אחת לאחרת, וכפל משרשר רשימה לעצמה מספר פעמים.<br>\n",
    "    ניזכר בדוגמאות:\n",
    "</p>"
   ]
  },
  {
   "cell_type": "code",
   "execution_count": 1,
   "metadata": {},
   "outputs": [],
   "source": [
    "numbers = [1, 2]"
   ]
  },
  {
   "cell_type": "code",
   "execution_count": 2,
   "metadata": {},
   "outputs": [
    {
     "name": "stdout",
     "output_type": "stream",
     "text": [
      "[1, 2, 3, 4]\n"
     ]
    }
   ],
   "source": [
    "numbers = numbers + [3, 4]\n",
    "print(numbers)"
   ]
  },
  {
   "cell_type": "code",
   "execution_count": 3,
   "metadata": {},
   "outputs": [
    {
     "name": "stdout",
     "output_type": "stream",
     "text": [
      "[1, 2, 3, 4, 1, 2, 3, 4]\n"
     ]
    }
   ],
   "source": [
    "numbers = numbers * 2\n",
    "print(numbers)"
   ]
  },
  {
   "cell_type": "markdown",
   "metadata": {},
   "source": [
    "<p style=\"text-align: right; direction: rtl; float: right; clear: both;\">\n",
    "    למדנו גם שאפשר להשוות בין רשימות בעזרת אופרטורי השוואה, עליהם למדנו בשיעור על ביטויים בוליאניים.\n",
    "</p>"
   ]
  },
  {
   "cell_type": "code",
   "execution_count": 4,
   "metadata": {},
   "outputs": [
    {
     "data": {
      "text/plain": [
       "True"
      ]
     },
     "execution_count": 4,
     "metadata": {},
     "output_type": "execute_result"
    }
   ],
   "source": [
    "1 in numbers"
   ]
  },
  {
   "cell_type": "code",
   "execution_count": 5,
   "metadata": {},
   "outputs": [
    {
     "data": {
      "text/plain": [
       "False"
      ]
     },
     "execution_count": 5,
     "metadata": {},
     "output_type": "execute_result"
    }
   ],
   "source": [
    "[1, 2] in numbers"
   ]
  },
  {
   "cell_type": "markdown",
   "metadata": {},
   "source": [
    "<p style=\"text-align: right; direction: rtl; float: right; clear: both;\">\n",
    "    השבוע כבר הספקנו ללמוד על חיתוכים (Slicing), כך שאנחנו כבר מחזיקים בדי הרבה ידע לגבי איך מתפעלים רשימות.\n",
    "</p>"
   ]
  },
  {
   "cell_type": "code",
   "execution_count": 6,
   "metadata": {},
   "outputs": [
    {
     "name": "stdout",
     "output_type": "stream",
     "text": [
      "[1, 2, 3, 4, 1, 2, 3, 4]\n",
      "Flip the order: [4, 3, 2, 1, 4, 3, 2, 1]\n",
      "Only first 4 items: [1, 2, 3, 4]\n",
      "Only first 4 items, in reversed order:: [4, 3, 2, 1]\n"
     ]
    }
   ],
   "source": [
    "print(numbers)\n",
    "print(\"Flip the order: \" + str(numbers[::-1]))\n",
    "print(\"Only first 4 items: \" + str(numbers[:4]))\n",
    "print(\"Only first 4 items, in reversed order:: \" + str(numbers[3::-1]))"
   ]
  },
  {
   "cell_type": "markdown",
   "metadata": {},
   "source": [
    "<p style=\"text-align: right; direction: rtl; float: right; clear: both;\">\n",
    "    למרות כל הידע המועיל שצברנו עד עכשיו, טרם נגענו בפעולות השייכות לנתונים מסוג רשימה.<br>\n",
    "    הגיע הזמן לתקן את זה.\n",
    "</p>"
   ]
  },
  {
   "cell_type": "markdown",
   "metadata": {},
   "source": [
    "## <span style=\"text-align: right; direction: rtl; float: right; clear: both;\">פעולות על רשימה</span>"
   ]
  },
  {
   "cell_type": "markdown",
   "metadata": {},
   "source": [
    "<p style=\"text-align: right; direction: rtl; float: right; clear: both;\">\n",
    "נגדיר רשימה שתשמש אותנו לדוגמאות:\n",
    "</p>"
   ]
  },
  {
   "cell_type": "code",
   "execution_count": 7,
   "metadata": {},
   "outputs": [],
   "source": [
    "animals = ['pig', 'shark', 'lion']"
   ]
  },
  {
   "cell_type": "markdown",
   "metadata": {},
   "source": [
    "<p style=\"text-align: right; direction: rtl; float: right; clear: both;\">\n",
    "במהלך המעבר על הדוגמאות, נשים לב שפעולות על רשימה מתבצעות <em>על הרשימה עצמה</em>.<br>\n",
    "זה אומר שלא נצטרך להשתמש בהשמה כדי לשנות את הרשימה שעליה אנחנו עובדים.\n",
    "</p>"
   ]
  },
  {
   "cell_type": "markdown",
   "metadata": {},
   "source": [
    "### <span style=\"text-align: right; direction: rtl; float: right; clear: both;\">הוספת איבר</span>"
   ]
  },
  {
   "cell_type": "markdown",
   "metadata": {},
   "source": [
    "<p style=\"text-align: right; direction: rtl; float: right; clear: both;\">\n",
    "רשימה היא סוג נתונים נוח מאוד, בין היתר מכיוון שניתן להוסיף לה כמה איברים שנרצה.<br>\n",
    "נוכל להוסיף איבר לסוף הרשימה באמצעות הפעולה <code>append</code>:\n",
    "</p>"
   ]
  },
  {
   "cell_type": "code",
   "execution_count": 8,
   "metadata": {},
   "outputs": [
    {
     "name": "stdout",
     "output_type": "stream",
     "text": [
      "['pig', 'shark', 'lion', 'duck']\n"
     ]
    }
   ],
   "source": [
    "animals.append('duck')\n",
    "print(animals)"
   ]
  },
  {
   "cell_type": "markdown",
   "metadata": {},
   "source": [
    "<p style=\"text-align: right; direction: rtl; float: right; clear: both;\">\n",
    "הפעולה הזו תשיג תוצאה זהה לקוד שכתבנו עד היום בדרך טיפה פחות אלגנטית:\n",
    "</p>"
   ]
  },
  {
   "cell_type": "code",
   "execution_count": 9,
   "metadata": {},
   "outputs": [
    {
     "name": "stdout",
     "output_type": "stream",
     "text": [
      "['pig', 'shark', 'lion', 'duck', 'duck']\n"
     ]
    }
   ],
   "source": [
    "animals = animals + ['duck']\n",
    "print(animals)"
   ]
  },
  {
   "cell_type": "markdown",
   "metadata": {},
   "source": [
    "<p style=\"text-align: right; direction: rtl; float: right; clear: both;\">\n",
    "שימו לב שבניגוד לשורה שמופיעה למעלה, <code>append</code> מאפשרת להוסיף כל פעם איבר אחד בלבד.<br>\n",
    "ניסיון להעביר לפעולה <code>append</code> רשימה, נניח, יוסיף את הרשימה כולה כאיבר אחד ברשימה:\n",
    "</p>"
   ]
  },
  {
   "cell_type": "code",
   "execution_count": 10,
   "metadata": {},
   "outputs": [
    {
     "name": "stdout",
     "output_type": "stream",
     "text": [
      "['pig', 'shark', 'lion', 'duck', 'duck', ['duck', 'zebra']]\n"
     ]
    }
   ],
   "source": [
    "animals.append(['duck', 'zebra'])\n",
    "print(animals)"
   ]
  },
  {
   "cell_type": "markdown",
   "metadata": {},
   "source": [
    "### <span style=\"text-align: right; direction: rtl; float: right; clear: both;\">הסרת איבר</span>"
   ]
  },
  {
   "cell_type": "markdown",
   "metadata": {},
   "source": [
    "<p style=\"text-align: right; direction: rtl; float: right; clear: both;\">\n",
    "נוכל להסיר איבר <em>מסוף הרשימה</em> באמצעות קריאה פשוטה לפעולה <code>pop</code>:\n",
    "</p>"
   ]
  },
  {
   "cell_type": "code",
   "execution_count": 11,
   "metadata": {},
   "outputs": [
    {
     "name": "stdout",
     "output_type": "stream",
     "text": [
      "['pig', 'shark', 'lion', 'duck', 'duck']\n"
     ]
    }
   ],
   "source": [
    "animals.pop()\n",
    "print(animals)"
   ]
  },
  {
   "cell_type": "markdown",
   "metadata": {},
   "source": [
    "<p style=\"text-align: right; direction: rtl; float: right; clear: both;\">\n",
    "הפעולה הזו תשיג תוצאה זהה למה שעשינו השבוע בצורה המסורבלת הבאה:\n",
    "</p>"
   ]
  },
  {
   "cell_type": "code",
   "execution_count": 12,
   "metadata": {},
   "outputs": [
    {
     "name": "stdout",
     "output_type": "stream",
     "text": [
      "['pig', 'shark', 'lion', 'duck']\n"
     ]
    }
   ],
   "source": [
    "animals = animals[:-1]\n",
    "print(animals)"
   ]
  },
  {
   "cell_type": "markdown",
   "metadata": {},
   "source": [
    "<p style=\"text-align: right; direction: rtl; float: right; clear: both;\">\n",
    "הפעולה <code>pop</code> מחזירה את הערך שהוציאה, כך שאפשר לשמור אותו בצד:\n",
    "</p>"
   ]
  },
  {
   "cell_type": "code",
   "execution_count": 13,
   "metadata": {},
   "outputs": [
    {
     "name": "stdout",
     "output_type": "stream",
     "text": [
      "duck\n",
      "['pig', 'shark', 'lion']\n"
     ]
    }
   ],
   "source": [
    "last_animal = animals.pop()\n",
    "print(last_animal)\n",
    "print(animals)"
   ]
  },
  {
   "cell_type": "markdown",
   "metadata": {},
   "source": [
    "<p style=\"text-align: right; direction: rtl; float: right; clear: both;\">\n",
    "הפעולה גם מאפשרת לנו לבחור את המקום שממנו אנחנו מעוניינים להוציא את הערך.<br>\n",
    "נעשה זאת בעזרת העברת ארגומנט עם מיקום הערך שאנחנו רוצים להוציא מהרשימה:\n",
    "</p>"
   ]
  },
  {
   "cell_type": "code",
   "execution_count": 14,
   "metadata": {},
   "outputs": [
    {
     "name": "stdout",
     "output_type": "stream",
     "text": [
      "pig\n",
      "['shark', 'lion']\n"
     ]
    }
   ],
   "source": [
    "first_animal = animals.pop(0)\n",
    "print(first_animal)\n",
    "print(animals)"
   ]
  },
  {
   "cell_type": "markdown",
   "metadata": {},
   "source": [
    "<p style=\"text-align: right; direction: rtl; float: right; clear: both;\">\n",
    "כדי להסיר יותר מאיבר אחד, יתכן שעדיין תעדיפו להשתמש בחיתוך רשימות.\n",
    "</p>"
   ]
  },
  {
   "cell_type": "markdown",
   "metadata": {},
   "source": [
    "### <span style=\"text-align: right; direction: rtl; float: right; clear: both;\">הוספת מספר איברים</span>"
   ]
  },
  {
   "cell_type": "markdown",
   "metadata": {},
   "source": [
    "<p style=\"text-align: right; direction: rtl; float: right; clear: both;\">\n",
    "נוכל להוסיף יותר מאיבר אחד במכה בעזרת הפעולה <code>extend</code>:\n",
    "</p>"
   ]
  },
  {
   "cell_type": "code",
   "execution_count": 15,
   "metadata": {},
   "outputs": [
    {
     "name": "stdout",
     "output_type": "stream",
     "text": [
      "['shark', 'lion', 'duck', 'pig', 'zebra']\n"
     ]
    }
   ],
   "source": [
    "animals_to_add = ['duck', 'pig', 'zebra']\n",
    "animals.extend(animals_to_add)\n",
    "print(animals)"
   ]
  },
  {
   "cell_type": "markdown",
   "metadata": {},
   "source": [
    "<p style=\"text-align: right; direction: rtl; float: right; clear: both;\">\n",
    "במבט ראשון, הפעולה תשיג את אותה תוצאה כמו שרשור רשימות:\n",
    "</p>"
   ]
  },
  {
   "cell_type": "code",
   "execution_count": 16,
   "metadata": {},
   "outputs": [
    {
     "name": "stdout",
     "output_type": "stream",
     "text": [
      "['shark', 'lion', 'duck', 'pig', 'zebra', 'duck', 'pig', 'zebra']\n"
     ]
    }
   ],
   "source": [
    "animals_to_add = ['duck', 'pig', 'zebra']\n",
    "animals = animals + animals_to_add\n",
    "print(animals)"
   ]
  },
  {
   "cell_type": "markdown",
   "metadata": {},
   "source": [
    "<p style=\"text-align: right; direction: rtl; float: right; clear: both;\">\n",
    "אבל היתרון ב־<code>extend</code> הוא שניתן להעביר לה כל iterable שהוא.<br>\n",
    "הפעולה <code>extend</code> תפרק את ה־iterable ותוסיף כל איבר בנפרד לרשימה המקורית: \n",
    "</p>"
   ]
  },
  {
   "cell_type": "code",
   "execution_count": 17,
   "metadata": {},
   "outputs": [
    {
     "name": "stdout",
     "output_type": "stream",
     "text": [
      "['1', '2', '3', '4', '5', '6', '7', '8', '9', '10', '11']\n"
     ]
    }
   ],
   "source": [
    "string_numbers = ['1', '2', '3', '4', '5']\n",
    "string_numbers.extend('6789')  # string as argument\n",
    "string_numbers.extend(['10', '11'])  # list as argument\n",
    "print(string_numbers)"
   ]
  },
  {
   "cell_type": "markdown",
   "metadata": {},
   "source": [
    "### <span style=\"text-align: right; direction: rtl; float: right; clear: both;\">ספירת איברים</span>"
   ]
  },
  {
   "cell_type": "markdown",
   "metadata": {},
   "source": [
    "<p style=\"text-align: right; direction: rtl; float: right; clear: both;\">\n",
    "כאן לא תמצאו הפתעות מיוחדות. הפעולה <code>count</code> סופרת את כמות האיברים שזהים לאיבר שהעברתם לה כארגומנט.<br>\n",
    "נשמע לכם מוכר? נכון! למחרוזות יש פעולה עם אותו שם שעושה בדיוק אותו דבר.\n",
    "</p>"
   ]
  },
  {
   "cell_type": "code",
   "execution_count": 18,
   "metadata": {},
   "outputs": [
    {
     "name": "stdout",
     "output_type": "stream",
     "text": [
      "['shark', 'lion', 'duck', 'pig', 'zebra', 'duck', 'pig', 'zebra']\n",
      "I've found 2 zebras in your zoo!\n"
     ]
    }
   ],
   "source": [
    "print(animals)\n",
    "zebra_counter = animals.count('zebra')\n",
    "print(f\"I've found {zebra_counter} zebras in your zoo!\")"
   ]
  },
  {
   "cell_type": "markdown",
   "metadata": {},
   "source": [
    "### <span style=\"text-align: right; direction: rtl; float: right; clear: both;\">מציאת איבר</span>"
   ]
  },
  {
   "cell_type": "markdown",
   "metadata": {},
   "source": [
    "<p style=\"text-align: right; direction: rtl; float: right; clear: both;\">\n",
    "גם הפעולה הזו אמורה לצלצל לכם מוכר.<br>\n",
    "הפעולה <code>index</code> מוצאת את המופע הראשון של האיבר שהעברתם לה כארגומנט.<br>\n",
    "וכן, גם הפעם למחרוזות יש פעולה עם אותו שם שעושה בדיוק אותו דבר.\n",
    "</p>"
   ]
  },
  {
   "cell_type": "code",
   "execution_count": 19,
   "metadata": {},
   "outputs": [
    {
     "name": "stdout",
     "output_type": "stream",
     "text": [
      "['shark', 'lion', 'duck', 'pig', 'zebra', 'duck', 'pig', 'zebra']\n",
      "The first zebra in your zoo hides in park number 4\n"
     ]
    }
   ],
   "source": [
    "print(animals)\n",
    "zebra_finder = animals.index('zebra')\n",
    "print(f\"The first zebra in your zoo hides in park number {zebra_finder}\")"
   ]
  },
  {
   "cell_type": "markdown",
   "metadata": {},
   "source": [
    "<div class=\"align-center\" style=\"display: flex; text-align: right; direction: rtl;\">\n",
    "    <div style=\"display: flex; width: 10%; float: right; \">\n",
    "        <img src=\"images/warning.png\" style=\"height: 50px !important;\" alt=\"אזהרה!\"> \n",
    "    </div>\n",
    "    <div style=\"width: 90%\">\n",
    "        <p style=\"text-align: right; direction: rtl;\">\n",
    "            כמו בפעולת <code>index</code> במחרוזת, גם כאן הפעולה תקפיץ שגיאה במידה והערך לא נמצא.\n",
    "        </p>\n",
    "    </div>\n",
    "</div>"
   ]
  },
  {
   "cell_type": "markdown",
   "metadata": {},
   "source": [
    "### <span style=\"text-align: right; direction: rtl; float: right; clear: both;\">מחיקת איבר (שוב?)</span>"
   ]
  },
  {
   "cell_type": "markdown",
   "metadata": {},
   "source": [
    "<p style=\"text-align: right; direction: rtl; float: right; clear: both;\">\n",
    "הפעם נשתמש בפעולה <code>remove</code>, שבניגוד לפעולה <code>pop</code> מוחקת איבר לפי הערך שלו ולא לפי המיקום שלו.<br>\n",
    "</p>"
   ]
  },
  {
   "cell_type": "code",
   "execution_count": 20,
   "metadata": {},
   "outputs": [
    {
     "name": "stdout",
     "output_type": "stream",
     "text": [
      "Animals: ['shark', 'lion', 'duck', 'pig', 'zebra', 'duck', 'pig', 'zebra']\n",
      "Kosher Zoo: ['shark', 'lion', 'duck', 'zebra', 'duck', 'zebra']\n"
     ]
    }
   ],
   "source": [
    "print(f\"Animals: {animals}\")\n",
    "while 'pig' in animals:\n",
    "    animals.remove('pig')\n",
    "print(f\"Kosher Zoo: {animals}\")"
   ]
  },
  {
   "cell_type": "markdown",
   "metadata": {},
   "source": [
    "### <span style=\"text-align: right; direction: rtl; float: right; clear: both;\">סידור רשימה</span>"
   ]
  },
  {
   "cell_type": "markdown",
   "metadata": {},
   "source": [
    "<p style=\"text-align: right; direction: rtl; float: right; clear: both;\">\n",
    "אחת הפעולות הנוחות ביותר שאפשר למצוא בפייתון היא <code>sort</code>, שפשוט תסדר לנו את האיברים ברשימה.<br>\n",
    "אם האיברים הם מחרוזות, הסדר יהיה סדר לקסיקוגרפי (לפי א\"ב).<br>\n",
    "אם האיברים ברשימה הם מספרים (שלמים, עשרוניים או גם וגם), הסדר יהיה סדר עולה מתמטית.<br>\n",
    "אם הרשימה מורכבת ממספר סוגים שונים של איברים (רשימה הטרוגנית), פעולת המיון עלולה להכשל ולזרוק שגיאה.\n",
    "</p>"
   ]
  },
  {
   "cell_type": "code",
   "execution_count": 21,
   "metadata": {},
   "outputs": [
    {
     "name": "stdout",
     "output_type": "stream",
     "text": [
      "['shark', 'lion', 'duck', 'zebra', 'duck', 'zebra']\n",
      "['duck', 'duck', 'lion', 'shark', 'zebra', 'zebra']\n"
     ]
    }
   ],
   "source": [
    "print(animals)\n",
    "animals.sort()\n",
    "print(animals)"
   ]
  },
  {
   "cell_type": "code",
   "execution_count": 22,
   "metadata": {},
   "outputs": [
    {
     "ename": "TypeError",
     "evalue": "'<' not supported between instances of 'str' and 'int'",
     "output_type": "error",
     "traceback": [
      "\u001b[1;31m---------------------------------------------------------------------------\u001b[0m",
      "\u001b[1;31mTypeError\u001b[0m                                 Traceback (most recent call last)",
      "\u001b[1;32m<ipython-input-22-bc1979a21c53>\u001b[0m in \u001b[0;36m<module>\u001b[1;34m\u001b[0m\n\u001b[0;32m      1\u001b[0m \u001b[0mstrange_list\u001b[0m \u001b[1;33m=\u001b[0m \u001b[1;33m[\u001b[0m\u001b[1;36m1\u001b[0m\u001b[1;33m,\u001b[0m \u001b[1;36m2\u001b[0m\u001b[1;33m,\u001b[0m \u001b[1;36m3\u001b[0m\u001b[1;33m,\u001b[0m \u001b[1;34m'dag maluah'\u001b[0m\u001b[1;33m]\u001b[0m\u001b[1;33m\u001b[0m\u001b[1;33m\u001b[0m\u001b[0m\n\u001b[1;32m----> 2\u001b[1;33m \u001b[0mstrange_list\u001b[0m\u001b[1;33m.\u001b[0m\u001b[0msort\u001b[0m\u001b[1;33m(\u001b[0m\u001b[1;33m)\u001b[0m\u001b[1;33m\u001b[0m\u001b[1;33m\u001b[0m\u001b[0m\n\u001b[0m",
      "\u001b[1;31mTypeError\u001b[0m: '<' not supported between instances of 'str' and 'int'"
     ]
    }
   ],
   "source": [
    "strange_list = [1, 2, 3, 'dag maluah']\n",
    "strange_list.sort()"
   ]
  },
  {
   "cell_type": "markdown",
   "metadata": {},
   "source": [
    "### <span style=\"text-align: right; direction: rtl; float: right; clear: both;\">הוספת איבר במקום מסוים</span>"
   ]
  },
  {
   "cell_type": "markdown",
   "metadata": {},
   "source": [
    "<div class=\"align-center\" style=\"display: flex; text-align: right; direction: rtl; clear: both;\">\n",
    "    <div style=\"display: flex; width: 10%; float: right; clear: both;\">\n",
    "        <img src=\"images/exercise.svg\" style=\"height: 50px !important;\" alt=\"תרגול\"> \n",
    "    </div>\n",
    "    <div style=\"width: 90%\">\n",
    "        <p style=\"text-align: right; direction: rtl; float: right; clear: both;\">\n",
    "        <strong>תרגול</strong>:\n",
    "            קראו בתיעוד של פייתון על הפעולה <code>insert</code> השייכת לרשימה.<br>\n",
    "            הוסיפו דג מימין לכריש שברשימת <var>animals</var>.\n",
    "        </p>\n",
    "    </div>\n",
    "</div>"
   ]
  },
  {
   "cell_type": "markdown",
   "metadata": {},
   "source": [
    "## <span style=\"text-align: right; direction: rtl; float: right;\">תרגולים</span>"
   ]
  },
  {
   "cell_type": "markdown",
   "metadata": {},
   "source": [
    "### <span style=\"text-align: right; direction: rtl; float: right; clear: both;\">placeholder 1</span>"
   ]
  },
  {
   "cell_type": "markdown",
   "metadata": {},
   "source": [
    "<p style=\"text-align: right; direction: rtl; float: right; clear: both;\">\n",
    "    placeholder\n",
    "</p>"
   ]
  }
 ],
 "metadata": {
  "kernelspec": {
   "display_name": "Python 3",
   "language": "python",
   "name": "python3"
  },
  "language_info": {
   "codemirror_mode": {
    "name": "ipython",
    "version": 3
   },
   "file_extension": ".py",
   "mimetype": "text/x-python",
   "name": "python",
   "nbconvert_exporter": "python",
   "pygments_lexer": "ipython3",
   "version": "3.7.3"
  }
 },
 "nbformat": 4,
 "nbformat_minor": 2
}
