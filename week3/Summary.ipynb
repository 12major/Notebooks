{
 "cells": [
  {
   "cell_type": "markdown",
   "metadata": {},
   "source": [
    " <img src=\"images/logo.png\" style=\"display: block; margin-left: auto; margin-right: auto;\" alt=\"מיזם לימוד פייתון בעברית\">"
   ]
  },
  {
   "cell_type": "markdown",
   "metadata": {},
   "source": [
    "# <p style=\"text-align:right;direction:rtl;\">תרגילים</p>"
   ]
  },
  {
   "cell_type": "markdown",
   "metadata": {},
   "source": [
    "## <p style=\"text-align:right;direction:rtl;\">הדגמה רעיונית של פונקציית גיבוב</p>"
   ]
  },
  {
   "cell_type": "markdown",
   "metadata": {},
   "source": [
    "<p style=\"text-align:right;direction:rtl;\">פונקציית גיבוב היא פונקציה המקבלת קלט כלשהו ומחזירה ערך באורך קבוע.<br>\n",
    "    לפונקציות גיבוב שימושים רבים וצורות שונות. נמנה מספר תכונות נפוצות שקיימות בפונקציות גיבוב:<br></p>\n",
    "    \n",
    "<ul style=\"text-align: right; direction: rtl; float: right; clear: both;\">\n",
    "   <li>כיון שהן מקבלות כל קלט בכל אורך ומחזירות פלט באורך קבוע, יש קלטים עבורם הפלט זהה.</li>\n",
    "    \n",
    "   <li>ישנן פונקציות גיבוב שהן חד-כיווניות- כלומר \"קשה\" למצוא עבור פלט מסוים מה היה הקלט שיצר אותו.<br> (\"קשה\" במרכאות מדבר על קושי חישובי. זה ביטוי שלרוב מתאר את העובדה שלא ניתן לבצע את הפעולה המתבקשת ללא מעבר על כל האפשרויות. וכיוון שיש \"המון\" אפשרויות - זמן החישוב הוא ארוך מאוד. לדוגמה, פירוק לגורמים ראשוניים של מספר שלם בעל מאות אלפי ספרות היא בעייה \"קשה\".)\n",
    "   </li>\n",
    "</ul>\n",
    "\n"
   ]
  },
  {
   "cell_type": "markdown",
   "metadata": {},
   "source": [
    "## <p style=\"text-align:right;direction:rtl;\"> מימוש פשוט של פונקציית גיבוב </p>"
   ]
  },
  {
   "cell_type": "markdown",
   "metadata": {},
   "source": [
    "<p style=\"text-align:right;direction:rtl\">\n",
    "    בתרגיל זה נממש גרסה פשוטה של פונקציית גיבוב (hash function).<br>\n",
    "    פונקציית הגיבוב שלנו תקבל מחרוזת ותחזיר תמיד פלט באורך זהה.<br>\n",
    "    תחילה נכיר את הפונקציה <code>ord(character)</code><br>\n",
    "    פונקציה זו מחזירה לכל תו ערך מספרי המייצג אותו, לדוגמה:<br>\n",
    "</p>\n",
    "<p style=\"text-align:left;direction:ltr\">\n",
    "    <code>ord('a')</code><br><samp>97</samp><br>\n",
    "</p>"
   ]
  },
  {
   "cell_type": "markdown",
   "metadata": {},
   "source": [
    "<p style=\"text-align:right;direction:rtl\">\n",
    "פונקציית הגיבוב שלנו תעבוד באופן הבא:<br>\n",
    "</p>\n",
    "<ul style=\"text-align:right;direction:rtl\">\n",
    "    <li>נאתחל משתנה עזר בשם hash לערך 1</li>\n",
    "    <li>לכל אות במחרוזת נחשב את <code>ord(letter)</code> על האות ונכפיל במשתנה העזר hash ובאינדקס האות הבאה במחרוזת לקבלת hash עד האורך הנוכחי. לתוצאה הזו נבצע מודולו 397643.</li>\n",
    "    <li>כדי לדאוג שכל הפלט יהיה תמיד באורך זהה, נשתמש במודולו 100297 (חשבו למה מודולו דואג לאורך פלט זהה תמיד) על התוצאה.</li>\n",
    "</ul>\n",
    "<br>\n",
    "<p style=\"text-align:right;direction:rtl\">\n",
    "פונקציית הגיבוב שיצרנו מחזירה תמיד ערכים באורך קבוע (בין 0 ל-100297) כפי שפונקציית גיבוב צריכה להחזיר (לאו דווקא באורך זה, אבל הפלט חייב להיות באורך קבוע).\n",
    "</p>"
   ]
  },
  {
   "cell_type": "markdown",
   "metadata": {},
   "source": [
    "<p style=\"text-align:right;direction:rtl\">דוגמה:<br></p>\n",
    "    <code>myhash('aba')</code><br>\n",
    "    <samp>62242</samp><br>\n",
    "<p style=\"text-align:right;direction:rtl\">החישוב התבצע כך:<br></p>\n",
    "    <code>temp_hash = 1</code><br>\n",
    "    <code>temp_hash = (temp_hash*ord('a')*1) % 397643</code><samp> # temp_hash = (1*97*1) % 397643 = 97</samp><br>\n",
    "<p style=\"text-align:right;direction:rtl\">\n",
    "    שימו לב שכאן הכפלנו ב-1, כיון שמיקום האות הוא 0 ואנו מכפילים\n",
    "    <b>באינדקס האות הבאה.</b>\n",
    "</p><br>\n",
    "    <code>temp_hash = (temp_hash*ord('b')*2) % 397643</code><samp> # temp_hash = (97*98*2) % 397643 = 19012</samp><br>\n",
    "    <code>temp_hash = (temp_hash*ord('a')*3) % 397643</code><samp> # temp_hash = (19012*97*3) % 397643 = 363133</samp><br>\n",
    "    <code>return temp_hash % 100297</code><samp> # temp_hash = 363133 % 100297 = <b>62242</b></samp><br>\n",
    "    "
   ]
  },
  {
   "cell_type": "markdown",
   "metadata": {},
   "source": [
    "<p style=\"text-align:right;direction:rtl\">ממשו את פונקציית הגיבוב.<br>\n",
    "על מנת לבדוק את עצמכם ודאו שקיבלתם את הערכים הבאים עבור המחרוזות הבאות:<br>\n",
    "</p>\n",
    "<ul>\n",
    "    <li><code>myhash('python course')</code><br>\n",
    "        <samp>75273</samp>\n",
    "    </li>\n",
    "    <li><code>myhash('hashing is sababa')</code><br>\n",
    "        <samp>38166</samp>\n",
    "    </li>\n",
    "    <li><code>myhash('i calculate hashes for fun')</code><br>\n",
    "        <samp>68720</samp>\n",
    "    </li>"
   ]
  },
  {
   "cell_type": "markdown",
   "metadata": {},
   "source": [
    "<p style=\"text-align:right;direction:rtl;\">\n",
    "    שימו לב, זאת פונקציה גיבוב מומצאת. היא לא מקיימת את התכונות המצוינות מעלה פרט לתכונה המחייבת שהיא שכל הפלטים באורך זהה.\n",
    "</p>"
   ]
  },
  {
   "cell_type": "code",
   "execution_count": 3,
   "metadata": {},
   "outputs": [],
   "source": [
    "# כתבו את הפונקציה שלכם כאן"
   ]
  },
  {
   "cell_type": "markdown",
   "metadata": {},
   "source": [
    "## <p style=\"text-align:right;direction:rtl;\">משחק איקס-עיגול</p>"
   ]
  },
  {
   "cell_type": "markdown",
   "metadata": {},
   "source": [
    "<p style=\"text-align:right;direction:rtl;\">\n",
    "    כולנו מכירים את משחק איקס-עיגול.<br>\n",
    "    לצורך הגדרה ברורה של התרגיל נזכיר את החוקים:<br>\n",
    "    <ul style=\"text-align:right;direction:rtl;\">\n",
    "        <li>המשחק מתבצע על לוח בגודל $3\\times3$. בהמשך נגדיל אותו לגודל כלשהו.</li>\n",
    "        <li>ישנם שני שחקנים: שחקן שמשתמש באות <em>X</em> \n",
    "            ושחקן שמשתמש באות <em>O</em>.\n",
    "        </li>\n",
    "        <li>\n",
    "            השחקן שמשתמש באות <em>O</em> תמיד מתחיל.\n",
    "        </li>\n",
    "        <li>המשחק נמשך כל עוד יש מקום פנוי בלוח, או שהוכרז מנצח.</li>\n",
    "        <li>מנצח הוא מי שהציב את האות השייכת לו בכל התאים הנמצאים על אלכסון, שורה או טור.</li>\n",
    "   </ul>\n",
    "</p>"
   ]
  },
  {
   "cell_type": "markdown",
   "metadata": {},
   "source": [
    "### <p style=\"text-align:right;direction:rtl;\">מימוש המשחק בשלבים</p>"
   ]
  },
  {
   "cell_type": "markdown",
   "metadata": {},
   "source": [
    "#### <p style=\"text-align:right;direction:rtl;\">ייצוג הלוח</p>"
   ]
  },
  {
   "cell_type": "markdown",
   "metadata": {},
   "source": [
    "<p style=\"text-align:right;direction:rtl;\">\n",
    "    את הלוח נייצג באמצעות רשימה-של-רשימות.<br>\n",
    "    כל רשימה תייצג שורה בלוח שלנו, הרשימה באינדקס 0 תייצג את השורה הראשונה, וכך הלאה.<br>\n",
    "    הרשימות המייצגות את השורות יהיו רשימות של תווים (characters) מבין: <samp>'O' 'X' '-'</samp>\n",
    "</p>"
   ]
  },
  {
   "cell_type": "markdown",
   "metadata": {},
   "source": [
    "<p style=\"text-align:right;direction:rtl;\">לדוגמה, כך נראה לוח ריק:<br></p>\n",
    "    \n",
    "<samp>[['-','-','-'],['-','-','-'],['-','-','-']]</samp><br>\n",
    "    \n",
    "<p style=\"text-align:right;direction:rtl;\">נוח לדמיין את הרשימה הזו כתובה במאונך:<br></p>\n",
    "\n",
    "<samp>[<br>['-','-','-'],<br>['-','-','-'],<br>['-','-','-']<br>]</samp><br>\n",
    "    \n",
    "<p style=\"text-align:right;direction:rtl;\">כעת נראה איך נראה הלוח כאשר יש <samp>'X'</samp> באלכסון:<br></p>\n",
    "\n",
    "<samp>[<br>['X','-','-'],<br>['-','X','-'],<br>['-','-','X']<br>]</samp><br>\n",
    "\n",
    "<p style=\"text-align:right;direction:rtl;\">וללא ההדפסה לאורך:</p>\n",
    "\n",
    "<samp>[['X','-','-'],['-','X','-'],['-','-','X']]</samp><br>\n"
   ]
  },
  {
   "cell_type": "markdown",
   "metadata": {},
   "source": [
    "<p style=\"text-align:right;direction:rtl;\">תחילה נממש פונקציה המקבלת את הלוח ובודקת האם יש מנצח כלשהו \n",
    "    (<em>X</em> או <em>O</em>),\n",
    "    ומחזירה את האות של המנצח\n",
    "    (<samp>'X'</samp> או <samp>'O'</samp>)\n",
    "    אם יש מנצח ו-\n",
    "    <samp>''</samp> (מחרוזת ריקה)\n",
    "    אחרת.\n",
    "</p>"
   ]
  },
  {
   "cell_type": "code",
   "execution_count": 1,
   "metadata": {},
   "outputs": [],
   "source": [
    "#check_board(board) כתבו את הפונקציה שלכם כאן"
   ]
  },
  {
   "cell_type": "markdown",
   "metadata": {},
   "source": [
    "<p style=\"text-align:right;direction:rtl;\">לפני שתמשיכו הלאה חשוב לוודא שהפונקציה שכתבתם עובדת.<br>\n",
    "    כתבו בדיקות עבור המקרים הבאים:<br>\n",
    "    <ul style=\"text-align:right;direction:rtl;\">\n",
    "        <li>ניצחון באלכסון הראשי (שמאל למעלה-ימין למטה).</li>\n",
    "        <li>ניצחון באלכסון המשני (ימין למעלה-שמאל למטה).</li>\n",
    "        <li>ניצחון בכל אחד מהטורים.</li>\n",
    "        <li>ניצחון בכל אחד מהשורות.</li>\n",
    "        <li>לוח מלא ללא ניצחון.</li>\n",
    "        <li>לוח לא מלא ללא ניצחון (במקומות לא מסומנים יופיע הסימן <samp>'-'</samp>.</li>\n",
    "    </ul>\n",
    "</p>\n",
    "<p style=\"text-align:right;direction:rtl;\">סה\"כ 10 בדיקות.</p>\n"
   ]
  },
  {
   "cell_type": "code",
   "execution_count": null,
   "metadata": {},
   "outputs": [],
   "source": [
    "# בדיקה עבור אלכסון ראשי"
   ]
  },
  {
   "cell_type": "code",
   "execution_count": null,
   "metadata": {},
   "outputs": [],
   "source": [
    "# בדיקה עבור אלכסון משני"
   ]
  },
  {
   "cell_type": "code",
   "execution_count": null,
   "metadata": {},
   "outputs": [],
   "source": [
    "# בדיקה עבור טור שמאלי"
   ]
  },
  {
   "cell_type": "code",
   "execution_count": null,
   "metadata": {},
   "outputs": [],
   "source": [
    "# בדיקה עבור טור אמצעי"
   ]
  },
  {
   "cell_type": "code",
   "execution_count": null,
   "metadata": {},
   "outputs": [],
   "source": [
    "# בדיקה עבור טור ימני"
   ]
  },
  {
   "cell_type": "code",
   "execution_count": null,
   "metadata": {},
   "outputs": [],
   "source": [
    "# בדיקה עבור שורה עליונה"
   ]
  },
  {
   "cell_type": "code",
   "execution_count": null,
   "metadata": {},
   "outputs": [],
   "source": [
    "# בדיקה עבור שורה אמצעית"
   ]
  },
  {
   "cell_type": "code",
   "execution_count": null,
   "metadata": {},
   "outputs": [],
   "source": [
    "# בדיקה עבור שורה תחתונה"
   ]
  },
  {
   "cell_type": "code",
   "execution_count": null,
   "metadata": {},
   "outputs": [],
   "source": [
    "# בדיקה עבור לוח מלא ללא ניצחון"
   ]
  },
  {
   "cell_type": "code",
   "execution_count": null,
   "metadata": {},
   "outputs": [],
   "source": [
    "# בדיקה עבור לוח לא מלא ללא ניצחון"
   ]
  },
  {
   "cell_type": "markdown",
   "metadata": {},
   "source": [
    "#### <p style=\"text-align:right;direction:rtl;\">פונקציות לבדיקת תקינות קלט</p>"
   ]
  },
  {
   "cell_type": "markdown",
   "metadata": {},
   "source": [
    "<p style=\"text-align:right;direction:rtl;\">במהלך המשחק אנו נקלוט מהשחקנים במשחק (המשתמשים) את המקומות בלוח\n",
    "בהם הם ירצו למקם את האות שלהם.<br>\n",
    "מקומות אלו יהיו שני מספרים בתחום 0-2 המציינים את השורה והעמודה בה יש למקם את האות, בהתאמה.<br>לדוגמה, עבור:</p>\n",
    "<p style=\"text-align:left;direction:ltr;\">\n",
    "<samp>1 2</samp><br>\n",
    "</p>\n",
    "<p style=\"text-align:right;direction:rtl;\">\n",
    "    נמקם את האות המתאימה לשחקן, נניח <em>X</em>, בשורה 1 ובעמודה 2, באופן הבא:<br>\n",
    "</p>\n",
    "<samp>[['-','-','-'],['-','-','X'],['-','-','-']]</samp><br>\n",
    "<p style=\"text-align:right;direction:rtl;\">זכרו כי הספירה מתחילה מ-0 ולכן מדובר בשורה האמצעית ובעמודה הימנית.</p>"
   ]
  },
  {
   "cell_type": "markdown",
   "metadata": {},
   "source": [
    "<p style=\"text-align:right;direction:rtl;\">כעת כתבו פונקציה המקבלת את תו השחקן (<em>'X'</em> או <em>'O'</em>) ואת הלוח, וקולטת מהמשתמש שני מספרים.<br>\n",
    "הפונקציה תבדוק האם התנאים הבאים מתקיימים, במידה והם מתקיימים היא תמקם את האות הנתונה במיקום המבוקש, ותעדכן את הלוח:<br>\n",
    "</p>\n",
    "<ul style=\"text-align:right;direction:rtl;\">\n",
    "    <li>מספר השורה הוא בין 0 ל-2.</li>\n",
    "    <li>מספר העמודה הוא בין 0 ל-2.</li>\n",
    "    <li>המקום המבוקש לא תפוס ע\"י אות כלשהי (כלומר יש בו <samp>'-'</samp>).</li>\n",
    "</ul>\n",
    "<p style=\"text-align:right;direction:rtl;\">\n",
    "    שימו לב, <b>עליכם לחייב את המשתמש להכניס ערכים חוקיים</b>. כלומר, המשחק לא ימשיך עד אשר יתקבל קלט תקין.<br>\n",
    "    כאשר נגלה בשלב מוקדם יותר שהלוח לא ניתן יותר למילוי - המשחק יסתיים.\n",
    "</p>"
   ]
  },
  {
   "cell_type": "markdown",
   "metadata": {},
   "source": [
    "<p style=\"text-align:right;direction:rtl;\">דוגמאות:<br>לוח:</p>\n",
    "<samp>board = [['-','-','-'],['-','-','-'],['-','-','-']]</samp><br><br>\n",
    "<p style=\"text-align:right;direction:rtl;\">הכנסה חוקית:<br></p>\n",
    "    <code>make_turn('X', board)</code><br>\n",
    "    <samp>Player 'X' Please choose cell:<br>1 2</samp><br>\n",
    "<samp>[['-','-','-'],['-','O','X'],['-','-','-']]</samp><br>\n",
    "<p style=\"text-align:right;direction:rtl;\">הכנסה לא חוקית:<br></p>\n",
    "    <samp>Player 'X' Please choose cell:<br>5 -2<br>Invalid line chosen (5)<br>Invalid column chosen (-2)<br>[['-','-','-'],['-','-','X'],['-','-','-']]<br><br>Player 'X' Please choose cell:<br>1 2<br>Place (1,2) is taken, use other.<br>[['-','-','-'],['-','-','O'],['-','-','-']]</samp><br><br>\n",
    "    <samp>Player 'X' Please choose cell:<br>2 -2<br>Invalid column chosen (-2)<br>[['-','-','-'],['-','-','O'],['-','-','-']]<br><br>Player 'X' Please choose cell:<br>1 2<br>Place (1,2) is taken, use other.<br>[['-','-','-'],['-','-','O'],['-','-','-']]</samp>\n",
    "<p style=\"text-align:right;direction:rtl;\">שימו לב שלאחר כל פעולה אנו מדפיסים את הלוח, בין אם הצליחה ובין אם לא.<br></p>"
   ]
  },
  {
   "cell_type": "code",
   "execution_count": 1,
   "metadata": {},
   "outputs": [],
   "source": [
    "# make_turn(player_char,board) כתבו את הפונקציה שלכם כאן"
   ]
  },
  {
   "cell_type": "markdown",
   "metadata": {},
   "source": [
    "<p style=\"text-align:right;direction:rtl;\"><b>בונוס</b> - ממשו פונקציה שמדפיסה את הלוח לאורך.</p><br>\n",
    "<code>print_board(board)</code><br><br>\n",
    "<samp>[<br>['-','-','-'],<br>['-','-','-'],<br>['-','-','-']<br>]</samp><br>"
   ]
  },
  {
   "cell_type": "markdown",
   "metadata": {},
   "source": [
    "#### <p style=\"text-align:right;direction:rtl;\">מימוש המשחק</p>"
   ]
  },
  {
   "cell_type": "markdown",
   "metadata": {},
   "source": [
    "<p style=\"text-align:right;direction:rtl;\">\n",
    "    כאמור המשחק ממשיך כל עוד אין מנצח ונותר מקום פנוי בלוח.<br>\n",
    "    נשים לב כי מספר המהלכים החוקיים יכול להיות לכל היותר כגודל הלוח.<br>\n",
    "    כלומר - אם לא הוכרז מנצח במהלך המשחק, המשחק ייגמר לאחר 9 מהלכים עבור לוח בגודל $3\\times3$.<br>\n",
    "    נספור את כמות המהלכים החוקיים במשחק. עבור מספר מהלך זוגי (0,2,4...) ישחק השחקן <em>O</em>, ועבור מספרי מהלך אי-זוגיים ישחק השחקן <em>X</em>.<br><br>\n",
    "    נתאר את מהלך המשחק בפסאודו-קוד:<br></p>\n",
    "    <ul style=\"text-align:right;direction:rtl;\">\n",
    "        <li> מונה המהלכים: 0</li>\n",
    "        <li> כל עוד אין מנצח וגם הלוח לא מלא:<br>\n",
    "            אם מספר המהלך זוגי - בצע מהלך שחקן <em>O</em>. אחרת בצע מהלך שחקן <em>X</em>.</li>\n",
    "        <li> הגדל את מונה המהלכים ב-1. </li>\n",
    "    <li> אם קיים ניצחון - הכרז על המנצח, אחרת הכרז תיקו!</li>\n",
    "    </ul>\n",
    "<p style=\"text-align:right;direction:rtl;\">ממשו את המשחק עפ\"י הפונקציות שמימשתם ותיאור מהלך המשחק.</p>"
   ]
  },
  {
   "cell_type": "code",
   "execution_count": null,
   "metadata": {},
   "outputs": [],
   "source": [
    "# tic_tac_toe()"
   ]
  },
  {
   "cell_type": "markdown",
   "metadata": {},
   "source": [
    "<p style=\"text-align:right;direction:rtl;\">כעת שחקו עם בני משפחה וחברים ;)</p>"
   ]
  },
  {
   "cell_type": "markdown",
   "metadata": {},
   "source": [
    "## <p style=\"text-align:right;direction:rtl;\">בנק 2.0</p>"
   ]
  },
  {
   "cell_type": "markdown",
   "metadata": {},
   "source": [
    "<p style=\"text-align:right;direction:rtl;\">מנהלי הבנק היו מאוד מרוצים מהתוכנה הקודמת לניהול בנק שכתבתם וכעת היו רוצים לשפר אותה.<br>\n",
    "תחילה הם הביעו דאגה מחוזק הסיסמאות. מנגנון הסיסמאות הקודם היה חלש ומנהלי הבנק מפחדים שייעשה בו שימוש לרעה.<br>\n",
    "שמועות מתפשטות מאוד מהר ומנהלי הבנק שמעו שמימשתם גרסה לפונקציית גיבוב. הם מעוניינים לעשות בה שימוש במנגנון הסיסמאות החדש.<br><br>\n",
    "מנגנון הסיסמאות יתבצע באופן הבא:<br>\n",
    "הבנק ינהל קובץ סיסמאות שייקרא bank_passwd.txt.<br> כאשר משתמש יפתח חשבון בנק הוא יכניס את הסיסמה שהוא מעוניין שתשמש אותו להתחברות הבאה.<br>\n",
    "על הסיסמה הזאת נחשב את ה-hash באמצעות פונקציית ה-hash שכתבנו בתחילת מחברת זו.<br>הבנק ישמור את שם המשתמש ותוצאת ה-hash בקובץ הסיסמאות בייצוג הבא:<br>\n",
    "    <br><samp>username:62242</samp><br><br>\n",
    "    כאשר <samp>username</samp> הוא שם המשתמש שנרשם בפתיחת החשבון, ו-<samp>62242</samp> הוא תוצאת ה-hash על הסיסמה שבחר.\n",
    "    \n",
    "</p>"
   ]
  },
  {
   "cell_type": "markdown",
   "metadata": {},
   "source": [
    "### <p style=\"text-align:right;direction:rtl;\">פתיחת חשבון בנק</p>"
   ]
  },
  {
   "cell_type": "markdown",
   "metadata": {},
   "source": [
    "<p style=\"text-align:right;direction:rtl;\">בסעיף זה נממש את פונקציית פתיחת חשבון הבנק.<br>\n",
    "    הפונקציה תקבל שם משתמש וסיסמה ותיצור רשומה חדשה בקובץ הסיסמאות עבור המשתמש שביקש להצטרף לבנק.<br>\n",
    "    כיון שהבנק שלנו לא עבר לעבוד עם מספרי חשבון, עלינו לוודא שלא קיים בבנק שם משתמש זהה לשם המשתמש שביקש לפתוח חשבון חדש, אם קיים כזה נדפיס שגיאה ולא נבצע דבר.<br>\n",
    "    אם לא קיים משתמש, נחשב את ה-hash על הסיסמה שסיפק ונוסיף לסוף הקובץ רשומה חדשה בייצוג שצוין בתחילת השאלה.\n",
    "</p>"
   ]
  },
  {
   "cell_type": "markdown",
   "metadata": {},
   "source": [
    "<p style=\"text-align:right;direction:rtl;\">דוגמאות:<br>\n",
    "תוכן קובץ הסיסמאות (לצורך הדוגמה):</p><br>\n",
    "<samp>FreddieMercury:56443</samp><br>\n",
    "<samp>BBKing:33471</samp><br>\n",
    "<samp>DonaldDuck:17743</samp><br><br>\n",
    "<code>register_to_bank('FreddieMercury', 'ILoveQueen')</code><br>\n",
    "<samp>An account with name \"FreddieMercury\" already exists.<br>Account was not created.</samp><br><br>\n",
    "<code>register_to_bank('Simba', 'ILoveNala')</code><br>\n",
    "<samp>Account with name \"Simba\" was created and added to the bank.</samp><br><br>\n",
    "\n",
    "<p style=\"text-align:right;direction:rtl;\">תוכן קובץ הסיסמאות כעת:</p><br>\n",
    "<samp>FreddieMercury:56443</samp><br>\n",
    "<samp>BBKing:19463</samp><br>\n",
    "<samp>DonaldDuck:17743</samp><br>\n",
    "<samp>Simba:6362</samp><br>\n",
    "<p style=\"text-align:right;direction:rtl;\">ממשו את פונקציית הרישום.</p><br><br>\n",
    "<p style=\"text-align:right;direction:rtl;\">רמזים:</p><br>\n",
    "<ul style=\"text-align:right;direction:rtl;\">\n",
    "    <li><span style=\"direction: rtl; background: #000; text: #000\">קראו את המידע מהקובץ לתוך רשימה, זכרו שכל שורה היא מחרוזת וניתן להפעיל עליה מתודות של מחרוזות לחילוץ שם המשתמש.</span></li>\n",
    "    <li><span style=\"direction: rtl; background: #000; text: #000\">יש מצב פתיחה של קובץ שבאמצעותו ניתן להוסיף לקובץ קיים. קראו על פונקציית open וחפשו כיצד עושים זאת.</span></li>"
   ]
  },
  {
   "cell_type": "code",
   "execution_count": 2,
   "metadata": {},
   "outputs": [],
   "source": [
    "#ממשו את פונקציית הרישום כאן register_to_bank(username,password)"
   ]
  },
  {
   "cell_type": "markdown",
   "metadata": {},
   "source": [
    "### <p style=\"text-align:right;direction:rtl;\">מערכת הזדהות</p>"
   ]
  },
  {
   "cell_type": "markdown",
   "metadata": {},
   "source": [
    "<p style=\"text-align:right;direction:rtl;\">בעקבות השיפורים בחוזק הסיסמאות הצטרפו הרבה לקוחות לבנק.<br>\n",
    "המנהלים מרוצים וכעת רוצים שתממשו עבורם מערכת הזדהות שעובדת עם קובץ הסיסמאות.<br><br>\n",
    "מערכת ההזדהות תעבוד באופן הבא:<br><br>\n",
    "הלקוח יכניס שם משתמש וסיסמה.<br>\n",
    "    במידה והמשתמש לא קיים, נדפיס <samp>Account not registered.</samp> ונסיים.<br>\n",
    "במידה והלקוח קיים, אך הסיסמה לא נכונה - יש ללקוח עוד 2 נסיונות לספק סיסמה נכונה.<br>\n",
    "אם לאחר 3 נסיונות בסך הכל הלקוח לא סיפק סיסמה נכונה - הרשומה שלו תימחק מקובץ הסיסמאות (ויהיה עליו להירשם מחדש בעתיד).<br>\n",
    "אחרת, הזיהוי הצליח.<br><br>\n",
    "    מערכת ההזדהות הינה פונקציה המקבלת שם משתמש וסיסמה, ומחזירה <samp>True</samp> אך ורק אם הזיהוי הצליח.\n",
    "    ו-<samp>False</samp> אחרת.\n",
    "</p>"
   ]
  },
  {
   "cell_type": "markdown",
   "metadata": {},
   "source": [
    "<p style=\"text-align:right;direction:rtl;\">דוגמאות:<br>\n",
    "תוכן קובץ הסיסמאות (לצורך הדוגמה):</p><br>\n",
    "<samp>FreddieMercury:61875</samp><br>\n",
    "<samp>BBKing:33471</samp><br>\n",
    "<samp>DonaldDuck:17743</samp><br><br>\n",
    "<code>authenticate('FreddieMercury', 'ILoveQueen')</code><br>\n",
    "<samp>Wrong password (1/3).  # myhash('ILoveQueen') = 99597 != 61875 (in password file)</samp><br><br>\n",
    "<code>authenticate('FreddieMercury', 'LetItBe')</code><br>\n",
    "<samp>Wrong password (2/3).  # myhash('LetItBe') = 58060 != 61875 (in password file)</samp><br><br>\n",
    "<code>authenticate('FreddieMercury', 'HeyJude')</code><br>\n",
    "<samp>Wrong password (3/3). 'FreddieMercury' was removed.  # myhash('HeyJude') = 8309 != 61875 (in password file)</samp><br><br>\n",
    "<code>authenticate('FreddieMercury', 'IHatePasswords!')</code><br>\n",
    "<samp>Account not registered.  # FreddieMercury was removed in the previous example</samp><br><br>\n",
    "\n",
    "<code>authenticate('Simba', 'ILoveNala')</code><br>\n",
    "<samp>Welcome 'Simba'.  # myhash('ILoveNala') = 6362 == 6362 (in password file)</samp><br><br>\n",
    "\n",
    "<p style=\"text-align:right;direction:rtl;\">תוכן קובץ הסיסמאות כעת:</p><br>\n",
    "<samp>BBKing:19463</samp><br>\n",
    "<samp>DonaldDuck:17743</samp><br>\n",
    "<samp>Simba:6362</samp><br>\n",
    "<p style=\"text-align:right;direction:rtl;\">ממשו את מערכת ההזדהות.</p><br><br>\n",
    "<p style=\"text-align:right;direction:rtl;\">רמזים:</p><br>\n",
    "<ul style=\"text-align:right;direction:rtl;\">\n",
    "    <li><span style=\"direction: rtl; background: #000; text: #000\">קראו את המידע מהקובץ לתוך רשימה, זכרו שכל שורה היא מחרוזת וניתן להפעיל עליה מתודות של מחרוזות לחילוץ שם המשתמש.</span></li>\n",
    "    <li><span style=\"direction: rtl; background: #000; text: #000\">יש מצב פתיחה של קובץ שבאמצעותו ניתן להוסיף לקובץ קיים. קראו על פונקציית open וחפשו כיצד עושים זאת.</span></li>"
   ]
  },
  {
   "cell_type": "markdown",
   "metadata": {},
   "source": [
    "קריאה של קובץ והרבה פעולות עליו"
   ]
  },
  {
   "cell_type": "markdown",
   "metadata": {},
   "source": [
    "מיון CSV"
   ]
  },
  {
   "cell_type": "markdown",
   "metadata": {},
   "source": [
    "כמה פעמים מופיע משהו בקובץ CSV"
   ]
  },
  {
   "cell_type": "markdown",
   "metadata": {},
   "source": [
    "הדפסה של כמות איברים מהסוף - סלייסינג"
   ]
  },
  {
   "cell_type": "code",
   "execution_count": null,
   "metadata": {},
   "outputs": [],
   "source": []
  }
 ],
 "metadata": {
  "kernelspec": {
   "display_name": "Python 3",
   "language": "python",
   "name": "python3"
  },
  "language_info": {
   "codemirror_mode": {
    "name": "ipython",
    "version": 3
   },
   "file_extension": ".py",
   "mimetype": "text/x-python",
   "name": "python",
   "nbconvert_exporter": "python",
   "pygments_lexer": "ipython3",
   "version": "3.7.1"
  }
 },
 "nbformat": 4,
 "nbformat_minor": 2
}
