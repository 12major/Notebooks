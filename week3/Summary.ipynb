{
 "cells": [
  {
   "cell_type": "markdown",
   "metadata": {},
   "source": [
    " <img src=\"images/logo.png\" style=\"display: block; margin-left: auto; margin-right: auto;\" alt=\"מיזם לימוד פייתון בעברית\">"
   ]
  },
  {
   "cell_type": "markdown",
   "metadata": {},
   "source": [
    "# <p style=\"text-align:right;direction:rtl;\">תרגילים</p>"
   ]
  },
  {
   "cell_type": "markdown",
   "metadata": {},
   "source": [
    "## <p style=\"text-align:right;direction:rtl;\">הדגמה רעיונית של פונקציית גיבוב</p>"
   ]
  },
  {
   "cell_type": "markdown",
   "metadata": {},
   "source": [
    "<p style=\"text-align:right;direction:rtl;\">פונקציית גיבוב היא פונקציה המקבלת קלט כלשהו ומחזירה ערך באורך קבוע.<br>\n",
    "    לפונקציות גיבוב שימושים רבים וצורות שונות. נמנה מספר תכונות נפוצות שקיימות בפונקציות גיבוב:<br></p>\n",
    "    \n",
    "<ul style=\"text-align: right; direction: rtl; float: right; clear: both;\">\n",
    "   <li>כיון שהן מקבלות כל קלט בכל אורך ומחזירות פלט באורך קבוע, יש קלטים עבורם הפלט זהה.</li>\n",
    "    \n",
    "   <li>ישנן פונקציות גיבוב שהן חד-כיווניות- כלומר \"קשה\" למצוא עבור פלט מסוים מה היה הקלט שיצר אותו.<br> (\"קשה\" במרכאות מדבר על קושי חישובי. זה ביטוי שלרוב מתאר את העובדה שלא ניתן לבצע את הפעולה המתבקשת ללא מעבר על כל האפשרויות. וכיוון שיש \"המון\" אפשרויות - זמן החישוב הוא ארוך מאוד. לדוגמה, פירוק לגורמים ראשוניים של מספר שלם בעל מאות ספרות היא בעייה \"קשה\".)\n",
    "   </li>\n",
    "</ul>\n",
    "\n"
   ]
  },
  {
   "cell_type": "markdown",
   "metadata": {},
   "source": [
    "## <p style=\"text-align:right;direction:rtl;\"> מימוש פשוט של פונקציית גיבוב </p>"
   ]
  },
  {
   "cell_type": "markdown",
   "metadata": {},
   "source": [
    "<p style=\"text-align:right;direction:rtl\">\n",
    "    בתרגיל זה נממש גרסה פשוטה של פונקציית גיבוב (hash function).<br>\n",
    "    פונקציית הגיבוב שלנו תקבל מחרוזת ותחזיר תמיד פלט באורך זהה.<br>\n",
    "    תחילה נכיר את הפונקציה <code>ord(character)</code><br>\n",
    "    פונקציה זו מחזירה לכל תו ערך מספרי המייצג אותו, לדוגמה:<br>\n",
    "</p>\n",
    "<p style=\"text-align:left;direction:ltr\">\n",
    "    <code>ord('a')</code><br><samp>97</samp><br>\n",
    "</p>"
   ]
  },
  {
   "cell_type": "markdown",
   "metadata": {},
   "source": [
    "<p style=\"text-align:right;direction:rtl\">\n",
    "פונקציית הגיבוב שלנו תעבוד באופן הבא:<br>\n",
    "</p>\n",
    "<ul style=\"text-align:right;direction:rtl\">\n",
    "    <li>נאתחל משתנה עזר בשם hash לערך 1</li>\n",
    "    <li>לכל אות במחרוזת נחשב את <code>ord(letter)</code> על האות ונכפיל במשתנה העזר hash ובאינדקס האות הבאה במחרוזת לקבלת hash עד האורך הנוכחי. לתוצאה הזו נבצע מודולו 397643.</li>\n",
    "    <li>כדי לדאוג שכל הפלט יהיה תמיד באורך זהה, נשתמש במודולו 100297 (חשבו למה מודולו דואג לאורך פלט זהה תמיד) על התוצאה.</li>\n",
    "</ul>\n",
    "<br>\n",
    "<p style=\"text-align:right;direction:rtl\">\n",
    "פונקציית הגיבוב שיצרנו מחזירה תמיד ערכים באורך קבוע (בין 0 ל-100297) כפי שפונקציית גיבוב צריכה להחזיר (לאו דווקא באורך זה, אבל הפלט חייב להיות באורך קבוע).\n",
    "</p>"
   ]
  },
  {
   "cell_type": "markdown",
   "metadata": {},
   "source": [
    "<p style=\"text-align:right;direction:rtl\">דוגמה:<br></p>\n",
    "    <code>myhash('aba')</code><br>\n",
    "    <samp>62242</samp><br>\n",
    "<p style=\"text-align:right;direction:rtl\">החישוב התבצע כך:<br></p>\n",
    "    <code>hash = 1</code><br>\n",
    "    <code>hash = (hash*ord('a')*1) % 397643</code><samp> # hash = (1*97*1) % 397643 = 97</samp><br>\n",
    "<p style=\"text-align:right;direction:rtl\">\n",
    "    שימו לב שכאן הכפלנו ב-1, כיון שמיקום האות הוא 0 ואנו מכפילים\n",
    "    <b>באינדקס האות הבאה.</b>\n",
    "</p><br>\n",
    "    <code>hash = (hash*ord('b')*2) % 397643</code><samp> # hash = (97*98*2) % 397643 = 19012</samp><br>\n",
    "    <code>hash = (hash*ord('a')*3) % 397643</code><samp> # hash = (19012*97*3) % 397643 = 363133</samp><br>\n",
    "    <code>return hash % 100297</code><samp> # hash = 363133 % 100297 = <b>62242</b></samp><br>\n",
    "    "
   ]
  },
  {
   "cell_type": "markdown",
   "metadata": {},
   "source": [
    "<p style=\"text-align:right;direction:rtl\">ממשו את פונקציית הגיבוב.<br>\n",
    "על מנת לבדוק את עצמכם ודאו שקיבלתם את הערכים הבאים עבור המחרוזות הבאות:<br>\n",
    "</p>\n",
    "<ul>\n",
    "    <li><code>myhash('python course')</code><br>\n",
    "        <samp>75273</samp>\n",
    "    </li>\n",
    "    <li><code>myhash('hashing is sababa')</code><br>\n",
    "        <samp>38166</samp>\n",
    "    </li>\n",
    "    <li><code>myhash('i calculate hashes for fun')</code><br>\n",
    "        <samp>68720</samp>\n",
    "    </li>"
   ]
  },
  {
   "cell_type": "markdown",
   "metadata": {},
   "source": [
    "<p style=\"text-align:right;direction:rtl;\">\n",
    "    שימו לב, זאת פונקציה גיבוב מומצאת. היא לא מקיימת את התכונות המצוינות מעלה פרט לתכונה המחייבת שהיא שכל הפלטים באורך זהה.\n",
    "</p>"
   ]
  },
  {
   "cell_type": "code",
   "execution_count": 3,
   "metadata": {},
   "outputs": [],
   "source": [
    "# כתבו את הפונקציה שלכם כאן"
   ]
  },
  {
   "cell_type": "markdown",
   "metadata": {},
   "source": [
    "## <p style=\"text-align:right;direction:rtl;\">משחק איקס-עיגול</p>"
   ]
  },
  {
   "cell_type": "markdown",
   "metadata": {},
   "source": [
    "<p style=\"text-align:right;direction:rtl;\">\n",
    "    כולנו מכירים את משחק איקס-עיגול.<br>\n",
    "    לצורך הגדרה ברורה של התרגיל נזכיר את החוקים:<br>\n",
    "    <ul style=\"text-align:right;direction:rtl;\">\n",
    "        <li>המשחק מתבצע על לוח בגודל $3\\times3$. בהמשך נגדיל אותו לגודל כלשהו.</li>\n",
    "        <li>ישנם שני שחקנים: שחקן שמשתמש באות <em>X</em> \n",
    "            ושחקן שמשתמש באות <em>O</em>.\n",
    "        </li>\n",
    "        <li>\n",
    "            השחקן שמשתמש באות <em>O</em> תמיד מתחיל.\n",
    "        </li>\n",
    "        <li>המשחק נמשך כל עוד יש מקום פנוי בלוח, או שהוכרז מנצח.</li>\n",
    "        <li>מנצח הוא מי שהציב את האות השייכת לו בכל התאים הנמצאים על אלכסון, שורה או טור.</li>\n",
    "   </ul>\n",
    "</p>"
   ]
  },
  {
   "cell_type": "markdown",
   "metadata": {},
   "source": [
    "### <p style=\"text-align:right;direction:rtl;\">מימוש המשחק בשלבים</p>"
   ]
  },
  {
   "cell_type": "markdown",
   "metadata": {},
   "source": [
    "#### <p style=\"text-align:right;direction:rtl;\">ייצוג הלוח</p>"
   ]
  },
  {
   "cell_type": "markdown",
   "metadata": {},
   "source": [
    "<p style=\"text-align:right;direction:rtl;\">\n",
    "    את הלוח נייצג באמצעות רשימה-של-רשימות.<br>\n",
    "    כל רשימה תייצג שורה בלוח שלנו, הרשימה באינדקס 0 תייצג את השורה הראשונה, וכך הלאה.<br>\n",
    "    הרשימות המייצגות את השורות יהיו רשימות של תווים (characters) מבין: <samp>'O' 'X' '-'</samp>\n",
    "</p>"
   ]
  },
  {
   "cell_type": "markdown",
   "metadata": {},
   "source": [
    "<p style=\"text-align:right;direction:rtl;\">לדוגמה, כך נראה לוח ריק:<br></p>\n",
    "    \n",
    "<samp>[['-','-','-'],['-','-','-'],['-','-','-']]</samp><br>\n",
    "    \n",
    "<p style=\"text-align:right;direction:rtl;\">נוח לדמיין את הרשימה הזו כתובה במאונך:<br></p>\n",
    "\n",
    "<samp>[<br>['-','-','-'],<br>['-','-','-'],<br>['-','-','-']<br>]</samp><br>\n",
    "    \n",
    "<p style=\"text-align:right;direction:rtl;\">כעת נראה איך נראה הלוח כאשר יש <samp>'X'</samp> באלכסון:<br></p>\n",
    "\n",
    "<samp>[<br>['X','-','-'],<br>['-','X','-'],<br>['-','-','X']<br>]</samp><br>\n",
    "\n",
    "<p style=\"text-align:right;direction:rtl;\">וללא ההדפסה לאורך:</p>\n",
    "\n",
    "<samp>[['X','-','-'],['-','X','-'],['-','-','X']]</samp><br>\n"
   ]
  },
  {
   "cell_type": "markdown",
   "metadata": {},
   "source": [
    "<p style=\"text-align:right;direction:rtl;\">תחילה נממש פונקציה המקבלת את הלוח ובודקת האם יש מנצח כלשהו \n",
    "    (<em>X</em> או <em>O</em>),\n",
    "    ומחזירה\n",
    "    <samp>True</samp>\n",
    "    אם יש מנצח ו-\n",
    "    <samp>False</samp>\n",
    "    אחרת.\n",
    "</p>"
   ]
  },
  {
   "cell_type": "code",
   "execution_count": 4,
   "metadata": {},
   "outputs": [],
   "source": [
    "# כתבו את הפונקציה שלכם כאן"
   ]
  },
  {
   "cell_type": "markdown",
   "metadata": {},
   "source": [
    "<p style=\"text-align:right;direction:rtl;\">לפני שתמשיכו הלאה חשוב לוודא שהפונקציה שכתבתם עובדת.<br>\n",
    "    כתבו בדיקות עבור המקרים הבאים:<br>\n",
    "    <ul style=\"text-align:right;direction:rtl;\">\n",
    "        <li>ניצחון באלכסון הראשי (שמאל למעלה-ימין למטה).</li>\n",
    "        <li>ניצחון באלכסון המשני (ימין למעלה-שמאל למטה).</li>\n",
    "        <li>ניצחון בכל אחד מהטורים.</li>\n",
    "        <li>ניצחון בכל אחד מהשורות.</li>\n",
    "        <li>לוח מלא ללא ניצחון.</li>\n",
    "        <li>לוח לא מלא ללא ניצחון (במקומות לא מסומנים יופיע הסימן <samp>'-'</samp>.</li>\n",
    "    </ul>\n",
    "</p>\n",
    "<p style=\"text-align:right;direction:rtl;\">סה\"כ 10 בדיקות.</p>\n"
   ]
  },
  {
   "cell_type": "code",
   "execution_count": null,
   "metadata": {},
   "outputs": [],
   "source": [
    "# בדיקה עבור אלכסון ראשי"
   ]
  },
  {
   "cell_type": "code",
   "execution_count": null,
   "metadata": {},
   "outputs": [],
   "source": [
    "# בדיקה עבור אלכסון משני"
   ]
  },
  {
   "cell_type": "code",
   "execution_count": null,
   "metadata": {},
   "outputs": [],
   "source": [
    "# בדיקה עבור טור שמאלי"
   ]
  },
  {
   "cell_type": "code",
   "execution_count": null,
   "metadata": {},
   "outputs": [],
   "source": [
    "# בדיקה עבור טור אמצעי"
   ]
  },
  {
   "cell_type": "code",
   "execution_count": null,
   "metadata": {},
   "outputs": [],
   "source": [
    "# בדיקה עבור טור ימני"
   ]
  },
  {
   "cell_type": "code",
   "execution_count": null,
   "metadata": {},
   "outputs": [],
   "source": [
    "# בדיקה עבור שורה עליונה"
   ]
  },
  {
   "cell_type": "code",
   "execution_count": null,
   "metadata": {},
   "outputs": [],
   "source": [
    "# בדיקה עבור שורה אמצעית"
   ]
  },
  {
   "cell_type": "code",
   "execution_count": null,
   "metadata": {},
   "outputs": [],
   "source": [
    "# בדיקה עבור שורה תחתונה"
   ]
  },
  {
   "cell_type": "code",
   "execution_count": null,
   "metadata": {},
   "outputs": [],
   "source": [
    "# בדיקה עבור לוח מלא ללא ניצחון"
   ]
  },
  {
   "cell_type": "code",
   "execution_count": null,
   "metadata": {},
   "outputs": [],
   "source": [
    "# בדיקה עבור לוח לא מלא ללא ניצחון"
   ]
  },
  {
   "cell_type": "markdown",
   "metadata": {},
   "source": [
    "#### <p style=\"text-align:right;direction:rtl;\">פונקציות לבדיקת תקינות קלט</p>"
   ]
  },
  {
   "cell_type": "markdown",
   "metadata": {},
   "source": [
    "<p style=\"text-align:right;direction:rtl;\">במהלך המשחק אנו נקלוט מהשחקנים במשחק (המשתמשים) את המקומות בלוח\n",
    "בהם הם ירצו למקם את האות שלהם.<br>\n",
    "מקומות אלו יהיו שני מספרים בתחום 0-2 המציינים את השורה והעמודה בה יש למקם את האות, בהתאמה.<br>לדוגמה, עבור:</p>\n",
    "<p style=\"text-align:left;direction:ltr;\">\n",
    "<samp>1 2</samp><br>\n",
    "</p>\n",
    "<p style=\"text-align:right;direction:rtl;\">\n",
    "    נמקם את האות המתאימה לשחקן, נניח <em>X</em>, בשורה 1 ובעמודה 2, באופן הבא:<br>\n",
    "</p>\n",
    "<samp>[['-','-','-'],['-','-','X'],['-','-','-']]</samp><br>\n",
    "<p style=\"text-align:right;direction:rtl;\">זכרו כי הספירה מתחילה מ-0 ולכן מדובר בשורה האמצעית ובעמודה הימנית.</p>"
   ]
  },
  {
   "cell_type": "markdown",
   "metadata": {},
   "source": [
    "<p style=\"text-align:right;direction:rtl;\">כעת כתבו פונקציה המקבלת את תו השחקן (<em>'X'</em> או <em>'O'</em>) ואת הלוח, וקולטת מהמשתמש שני מספרים.<br>\n",
    "הפונקציה תבדוק האם התנאים הבאים מתקיימים, במידה והם מתקיימים היא תמקם את האות הנתונה במיקום המבוקש, ותחזיר את הלוח המעודכן:<br>\n",
    "</p>\n",
    "<ul style=\"text-align:right;direction:rtl;\">\n",
    "    <li>מספר השורה הוא בין 0 ל-2.</li>\n",
    "    <li>מספר העמודה הוא בין 0 ל-2.</li>\n",
    "    <li>המקום המבוקש לא תפוס ע\"י אות כלשהי (כלומר יש בו <samp>'-'</samp>).</li>\n",
    "</ul>\n",
    "<p style=\"text-align:right;direction:rtl;\">\n",
    "    שימו לב, <b>עליכם לחייב את המשתמש להכניס ערכים חוקיים</b>. כלומר, המשחק לא ימשיך עד אשר יתקבל קלט תקין.<br>\n",
    "    כאשר נגלה בשלב מוקדם יותר שהלוח לא ניתן יותר למילוי - המשחק יסתיים.\n",
    "</p>"
   ]
  },
  {
   "cell_type": "markdown",
   "metadata": {},
   "source": [
    "<p style=\"text-align:right;direction:rtl;\">דוגמאות:<br>לוח:</p>\n",
    "<samp>[['-','-','-'],['-','-','-'],['-','-','-']]</samp><br><br>\n",
    "<p style=\"text-align:right;direction:rtl;\">הכנסה חוקית:<br></p>\n",
    "    <samp>Player 'X' Please choose cell:<br>1 2</samp><br>\n",
    "<samp>[['-','-','-'],['-','-','X'],['-','-','-']]</samp><br>\n",
    "<p style=\"text-align:right;direction:rtl;\">הכנסה לא חוקית:<br></p>\n",
    "    <samp>Player 'X' Please choose cell:<br>5 -2<br>Invalid line chosen (5)<br>Invalid column chosen (-2)<br><samp>[['-','-','-'],['-','-','X'],['-','-','-']]</samp><br>\n"
   ]
  },
  {
   "cell_type": "code",
   "execution_count": null,
   "metadata": {},
   "outputs": [],
   "source": [
    "# take_turn()"
   ]
  },
  {
   "cell_type": "markdown",
   "metadata": {},
   "source": [
    "קריאה של קובץ והרבה פעולות עליו"
   ]
  },
  {
   "cell_type": "markdown",
   "metadata": {},
   "source": [
    "מיון CSV"
   ]
  },
  {
   "cell_type": "markdown",
   "metadata": {},
   "source": [
    "כמה פעמים מופיע משהו בקובץ CSV"
   ]
  },
  {
   "cell_type": "markdown",
   "metadata": {},
   "source": [
    "הדפסה של כמות איברים מהסוף - סלייסינג"
   ]
  },
  {
   "cell_type": "markdown",
   "metadata": {},
   "source": [
    "קובץ סיסמאות"
   ]
  },
  {
   "cell_type": "markdown",
   "metadata": {},
   "source": [
    "בנק עם קובץ סיסמאות וקובץ יתרות"
   ]
  },
  {
   "cell_type": "code",
   "execution_count": null,
   "metadata": {},
   "outputs": [],
   "source": []
  }
 ],
 "metadata": {
  "kernelspec": {
   "display_name": "Python 3",
   "language": "python",
   "name": "python3"
  },
  "language_info": {
   "codemirror_mode": {
    "name": "ipython",
    "version": 3
   },
   "file_extension": ".py",
   "mimetype": "text/x-python",
   "name": "python",
   "nbconvert_exporter": "python",
   "pygments_lexer": "ipython3",
   "version": "3.7.1"
  }
 },
 "nbformat": 4,
 "nbformat_minor": 2
}
