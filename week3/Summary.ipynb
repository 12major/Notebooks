{
 "cells": [
  {
   "cell_type": "markdown",
   "metadata": {},
   "source": [
    "## <p style=\"text-align:right;direction:rtl;\">הדגמה רעיונית של פונקציית גיבוב</p>"
   ]
  },
  {
   "cell_type": "markdown",
   "metadata": {},
   "source": [
    "<p style=\"text-align:right;direction:rtl;\">פונקציית גיבוב היא פונקציה המקבלת קלט כלשהו ומחזירה ערך באורך קבוע.<br>\n",
    "    לפונקציות גיבוב שימושים רבים וצורות שונות. נמנה מספר תכונות נפוצות שקיימות בפונקציות גיבוב:<br></p>\n",
    "    \n",
    "<ul style=\"text-align: right; direction: rtl; float: right; clear: both;\">\n",
    "    <li>כיון שהן מקבלות כל קלט בכל אורך ומחזירות פלט באורך קבוע, יש קלטים עבורם הפלט זהה.</li>\n",
    "<li>ישנן פונקציות גיבוב שהן חד-כיווניות- כלומר \"קשה\" למצוא עבור פלט מסוים מה היה הקלט שיצר אותו.<br> (\"קשה\" במרכאות מדבר על קושי חישובי. זה ביטוי שלרוב מתאר את העובדה שלא ניתן לבצע את הפעולה המתבקשת ללא מעבר על כל האפשרויות. וכיוון שיש \"המון\" אפשרויות - זמן החישוב הוא ארוך מאוד. לדוגמא, פירוק לגורמים ראשוניים של מספר שלם בעל מאות ספרות.)\n",
    "</li>\n",
    "</ul>"
   ]
  },
  {
   "cell_type": "code",
   "execution_count": null,
   "metadata": {},
   "outputs": [],
   "source": []
  }
 ],
 "metadata": {
  "kernelspec": {
   "display_name": "Python 3",
   "language": "python",
   "name": "python3"
  },
  "language_info": {
   "codemirror_mode": {
    "name": "ipython",
    "version": 3
   },
   "file_extension": ".py",
   "mimetype": "text/x-python",
   "name": "python",
   "nbconvert_exporter": "python",
   "pygments_lexer": "ipython3",
   "version": "3.7.1"
  }
 },
 "nbformat": 4,
 "nbformat_minor": 2
}
