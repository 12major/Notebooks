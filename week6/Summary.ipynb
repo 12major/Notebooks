{
 "cells": [
  {
   "cell_type": "markdown",
   "metadata": {},
   "source": [
    "<img src=\"images/logo.png\" alt=\"לוגו של מיזם לימוד הפייתון. נחש מצויר בצבעי צהוב וכחול, הנע בין האותיות של שם הקורס: לומדים פייתון. הסלוגן המופיע מעל לשם הקורס הוא מיזם לימוד תכנות בחינם ובעברית.\">"
   ]
  },
  {
   "cell_type": "markdown",
   "metadata": {},
   "source": [
    "# <span style=\"text-align: right; direction: rtl; float: right; clear: both;\"> תרגילים </span> "
   ]
  },
  {
   "cell_type": "markdown",
   "metadata": {},
   "source": [
    "## <span style=\"text-align: right; direction: rtl; float: right; clear: both;\">אין לזה צורה</span> "
   ]
  },
  {
   "cell_type": "markdown",
   "metadata": {},
   "source": [
    "<p style=\"text-align: right; direction: rtl; float: right; clear: both;\">\n",
    "    בתרגיל זה נממש טיפוס חדש מסוג <code dir=\"ltr\">Rectangle</code>.<br>\n",
    "    לכל מלבן יש אורך <code dir=\"ltr\">height</code>ורוחב <code dir=\"ltr\">width</code>.<br>\n",
    "    ממשו את המחלקה <code dir=\"ltr\">Rectangle</code>.\n",
    "</p>"
   ]
  },
  {
   "cell_type": "code",
   "execution_count": null,
   "metadata": {},
   "outputs": [],
   "source": []
  },
  {
   "cell_type": "markdown",
   "metadata": {},
   "source": [
    "<p style=\"text-align: right; direction: rtl; float: right; clear: both;\">\n",
    "צרו שני מלבנים שונים באורך וברוחב על ידי שימוש בבנאי</p>"
   ]
  },
  {
   "cell_type": "code",
   "execution_count": null,
   "metadata": {},
   "outputs": [],
   "source": []
  },
  {
   "cell_type": "markdown",
   "metadata": {},
   "source": [
    "<p style=\"text-align: right; direction: rtl; float: right; clear: both;\">\n",
    "    ממשו מתודה בשם <code dir=\"ltr\">get_surface()</code> שתחזיר את שטח המלבן.<br>\n",
    "    ממשו מתודה בשם <code dir=\"ltr\">get_perimeter()</code> שתחזיר את היקף המלבן.<br>\n",
    "</p>"
   ]
  },
  {
   "cell_type": "code",
   "execution_count": null,
   "metadata": {},
   "outputs": [],
   "source": [
    "# define a rectangle r and call r.get_surface() and r.get_perimeter() print to see results"
   ]
  },
  {
   "cell_type": "markdown",
   "metadata": {},
   "source": [
    "<p style=\"text-align: right; direction: rtl; float: right; clear: both;\">\n",
    "    ממשו מתודה בשם <code dir=\"ltr\">print_rectangle()</code> המדפיסה את המלבן עליו היא פועלת באופן הבא:<br>\n",
    "</p>\n",
    "<p style=\"text-align: left; direction: ltr; float: left; clear: both;\">\n",
    "<samp dir=\"ltr\">### Rectangle ###\n",
    "My Width: 10\n",
    "My Height: 10\n",
    "My Surface: 100\n",
    "My Perimeter: 40\n",
    "</samp>\n",
    "</p>\n"
   ]
  },
  {
   "cell_type": "markdown",
   "metadata": {},
   "source": [
    "<p style=\"text-align: right; direction: rtl; float: right; clear: both;\">\n",
    "    ממשו מתודה בשם <code dir=\"ltr\">set_random_width()</code> המגרילה מספר שלם בין 1 ל-100 ומציבה אותו כרוחב המלבן.\n",
    "</p>"
   ]
  },
  {
   "cell_type": "code",
   "execution_count": null,
   "metadata": {},
   "outputs": [],
   "source": [
    "# define a rectangle r and call r.set_random_width() and print to see results"
   ]
  },
  {
   "cell_type": "markdown",
   "metadata": {},
   "source": [
    "<p style=\"text-align: right; direction: rtl; float: right; clear: both;\">\n",
    "    ממשו מתודה בשם <code dir=\"ltr\">set_random_height()</code> המגרילה מספר שלם בין 1 ל-100 ומציבה אותו כאורך המלבן.\n",
    "</p>"
   ]
  },
  {
   "cell_type": "code",
   "execution_count": null,
   "metadata": {},
   "outputs": [],
   "source": [
    "# define a rectangle r and call r.set_random_height() and print to see results"
   ]
  },
  {
   "cell_type": "markdown",
   "metadata": {},
   "source": [
    "<p style=\"text-align: right; direction: rtl; float: right; clear: both;\">\n",
    "    ממשו מתודה של המחלקה בשם <code dir=\"ltr\">filter_by_size(rectangle_list, threshold)</code> המקבלת רשימה של מלבנים ומחזירה רשימה של מלבנים שהשטח שלהם הוא לפחות <var dir=\"ltr\">threshold</var>.<br>\n",
    "    עשו שימוש ב-<code dir=\"ltr\">filter</code>.<br>\n",
    "    זכרו להפוך את תוצאת <code>filter</code> ל-<code>list</code>.\n",
    "</p>"
   ]
  },
  {
   "cell_type": "code",
   "execution_count": null,
   "metadata": {},
   "outputs": [],
   "source": [
    "# call the method Rectangle.filter_by_size(rectangle_list, threshold)"
   ]
  },
  {
   "cell_type": "markdown",
   "metadata": {},
   "source": [
    "<p style=\"text-align: right; direction: rtl; float: right; clear: both;\">\n",
    "    ממשו מתודה של המחלקה בשם <code dir=\"ltr\">filter_by_perimeter(rectangle_list, threshold)</code> המקבלת רשימה של מלבנים ומחזירה רשימה של מלבנים שההיקף שלהם הוא לפחות <var dir=\"ltr\">threshold</var>.<br>\n",
    "    עשו שימוש ב-<code dir=\"ltr\">list comprehension</code>\n",
    "</p>"
   ]
  },
  {
   "cell_type": "code",
   "execution_count": null,
   "metadata": {},
   "outputs": [],
   "source": [
    "# call the method Rectangle.filter_by_perimeter(rectangle_list, threshold)"
   ]
  },
  {
   "cell_type": "markdown",
   "metadata": {},
   "source": [
    "<p style=\"text-align: right; direction: rtl; float: right; clear: both;\">\n",
    "    כתבו מתודה של המחלקה בשם <code dir=\"ltr\">rand_rects()</code> המגרילה מספר בין 1 ל-50.<br>\n",
    "    צרו כמות של מלבנים בהתאם למספר שהוגרל, ועבור כל מלבן הגרילו אורך ורוחב ע\"י שימוש במתודות המתאימות.<br>\n",
    "    את כל הצורות הנ\"ל הכניסו לרשימה והדפיסו את כל הצורות בעלות שטח הגדול מ-900 והיקף גדול מ-30.</p>"
   ]
  },
  {
   "cell_type": "code",
   "execution_count": null,
   "metadata": {},
   "outputs": [],
   "source": [
    "# call the method Rectangle.rand_rects()"
   ]
  },
  {
   "cell_type": "markdown",
   "metadata": {},
   "source": [
    "## <span style=\"text-align: right; direction: rtl; float: right; clear: both;\">מגדל קוביות</span> "
   ]
  },
  {
   "cell_type": "markdown",
   "metadata": {},
   "source": [
    "<p style=\"text-align: right; direction: rtl; float: right; clear: both;\">\n",
    "בתרגיל זה נממש שלוש מחלקות: מחלקה של ריבוע, מחלקה של קוביות ומחלקה של מגדל קוביות.</p>"
   ]
  },
  {
   "cell_type": "markdown",
   "metadata": {},
   "source": [
    "### <span style=\"text-align: right; direction: rtl; float: right; clear: both;\">ריבוע</span> "
   ]
  },
  {
   "cell_type": "markdown",
   "metadata": {},
   "source": [
    "<p style=\"text-align: right; direction: rtl; float: right; clear: both;\">\n",
    "ממשו מחלקה של ריבוע.<br>\n",
    "בבנאי נעביר פרמטר של אורך המהווה את גודל הצלע של הריבוע (כידוע בריבוע כל הצלעות זהות בגודלן).<br>\n",
    "ממשו בנוסף מתודות של שטח והיקף כפי שעשיתם בתרגיל הקודם.</p>"
   ]
  },
  {
   "cell_type": "code",
   "execution_count": null,
   "metadata": {},
   "outputs": [],
   "source": []
  },
  {
   "cell_type": "markdown",
   "metadata": {},
   "source": [
    "### <span style=\"text-align: right; direction: rtl; float: right; clear: both;\">קוביה</span> "
   ]
  },
  {
   "cell_type": "markdown",
   "metadata": {},
   "source": [
    "<p style=\"text-align: right; direction: rtl; float: right; clear: both;\">\n",
    "לקוביה יש בסיס (base) שהוא קוביה וצבע (color) שהוא צבע הקוביה, הצבע נבחר מתוך: <code dir=\"ltr\">['black', 'white']</code>.<br>\n",
    "ממשו מחלקה ובה שתי תכונות אלו לקוביה. כמו כן ממשו מתודות המחזירות את נפח (volume) ושטח המעטפת (surface) של הקוביה.</p>"
   ]
  },
  {
   "cell_type": "code",
   "execution_count": null,
   "metadata": {},
   "outputs": [],
   "source": []
  },
  {
   "cell_type": "markdown",
   "metadata": {},
   "source": [
    "<p style=\"text-align: right; direction: rtl; float: right; clear: both;\">\n",
    "כתבו מתודה המדפיסה את הקוביה באופן הבא:\n",
    "</p>\n",
    "<p style=\"text-align: left; direction: ltr; float: left; clear: both;\">\n",
    "<samp>Cube: base-10x10 color:black</samp>\n",
    "</p>"
   ]
  },
  {
   "cell_type": "code",
   "execution_count": null,
   "metadata": {},
   "outputs": [],
   "source": []
  },
  {
   "cell_type": "markdown",
   "metadata": {},
   "source": [
    "### <span style=\"text-align: right; direction: rtl; float: right; clear: both;\">מגדל הקוביות</span> "
   ]
  },
  {
   "cell_type": "markdown",
   "metadata": {},
   "source": [
    "<p style=\"text-align: right; direction: rtl; float: right; clear: both;\">\n",
    "מגדל הקוביות שלנו מכיל רשימה של קוביות המשתתפות במגדל. תמיד נתחיל ממגדל קוביות ריק.<br>\n",
    "קוביה יכולה להיות מעל קוביה אחרת רק אם הקוביה התחתונה היא בעלת בסיס עם צלע גדולה יותר ובעלת צבע שונה.<br>\n",
    "כתבו תחילה את המחלקה ואת הבנאי.</p>"
   ]
  },
  {
   "cell_type": "code",
   "execution_count": null,
   "metadata": {},
   "outputs": [],
   "source": []
  },
  {
   "cell_type": "markdown",
   "metadata": {},
   "source": [
    "<p style=\"text-align: right; direction: rtl; float: right; clear: both;\">\n",
    "    כעת כתבו מתודה בשם <code dir=\"ltr\">add_cube()</code> המקבלת קוביה ומוסיפה אותה למגדל אם התנאים שהוזכרו מתקיימים,  אחרת לא עושה כלום.<br>\n",
    "אם זו הקוביה הראשונה במגדל ניתן להוסיף אותה ללא שום תנאי.\n",
    "</p>\n"
   ]
  },
  {
   "cell_type": "code",
   "execution_count": null,
   "metadata": {},
   "outputs": [],
   "source": []
  },
  {
   "cell_type": "markdown",
   "metadata": {},
   "source": [
    "<p style=\"text-align: right; direction: rtl; float: right; clear: both;\">\n",
    "ממשו פונקציה המדפיסה את מגדל הקוביות. הקוביה התחתונה תודפס למטה והקוביה העליונה תודפס למעלה.<br>\n",
    "באופן הבא:\n",
    "</p>\n",
    "<p style=\"text-align: left; direction: ltr; float: left; clear: both;\">\n",
    "<samp dir=\"ltr\">2-Cube: base-10x10 color:black<br>1-Cube: base-15x15 color:white</samp>\n"
   ]
  },
  {
   "cell_type": "markdown",
   "metadata": {},
   "source": [
    "<p style=\"text-align: right; direction: rtl; float: right; clear: both;\">\n",
    "    כעת כתבו מתודה בשם <code dir=\"ltr\">randomize_tower()</code> הבוחרת מספר בין 1 ל-100 ובהתאם למספר זה יוצרת כמות קוביות בעלות צלע באורך אקראי (אורך 1-100) וצבע אקראי שחור או לבן.<br>\n",
    "    את הקוביות המוגרלות ננסה להכניס למגדל באמצעות המתודה שמימשנו.<br>\n",
    "</p>"
   ]
  },
  {
   "cell_type": "code",
   "execution_count": null,
   "metadata": {},
   "outputs": [],
   "source": []
  },
  {
   "cell_type": "markdown",
   "metadata": {},
   "source": [
    "<p style=\"text-align: right; direction: rtl; float: right; clear: both;\">\n",
    "כעת צרו מגדל ריק, השתמשו במתודה המגרילה קוביות ומלאו את המגדל בקוביות אקראיות.<br>\n",
    "הדפיסו את המגדל שקיבלתם.\n",
    "</p>"
   ]
  },
  {
   "cell_type": "code",
   "execution_count": null,
   "metadata": {},
   "outputs": [],
   "source": []
  },
  {
   "cell_type": "markdown",
   "metadata": {},
   "source": [
    "### <span style=\"text-align: right; direction: rtl; float: right; clear: both;\">~בונוס~</span> "
   ]
  },
  {
   "cell_type": "markdown",
   "metadata": {},
   "source": [
    "<p style=\"text-align: right; direction: rtl; float: right; clear: both;\">\n",
    "צרו בלולאה 1000 מגדלים ומלאו אותם באמצעות המתודה המגרילה.<br>\n",
    "    מה המגדל הכי גבוה שקיבלתם?\n",
    "</p>"
   ]
  },
  {
   "cell_type": "code",
   "execution_count": null,
   "metadata": {},
   "outputs": [],
   "source": []
  }
 ],
 "metadata": {
  "kernelspec": {
   "display_name": "Python 3",
   "language": "python",
   "name": "python3"
  },
  "language_info": {
   "codemirror_mode": {
    "name": "ipython",
    "version": 3
   },
   "file_extension": ".py",
   "mimetype": "text/x-python",
   "name": "python",
   "nbconvert_exporter": "python",
   "pygments_lexer": "ipython3",
   "version": "3.7.1"
  }
 },
 "nbformat": 4,
 "nbformat_minor": 2
}
