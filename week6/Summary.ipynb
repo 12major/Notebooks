{
 "cells": [
  {
   "cell_type": "markdown",
   "metadata": {},
   "source": [
    "<img src=\"images/logo.png\" alt=\"לוגו של מיזם לימוד הפייתון. נחש מצויר בצבעי צהוב וכחול, הנע בין האותיות של שם הקורס: לומדים פייתון. הסלוגן המופיע מעל לשם הקורס הוא מיזם לימוד תכנות בחינם ובעברית.\">"
   ]
  },
  {
   "cell_type": "markdown",
   "metadata": {},
   "source": [
    "# <span style=\"text-align: right; direction: rtl; float: right; clear: both;\"> תרגילים </span> "
   ]
  },
  {
   "cell_type": "markdown",
   "metadata": {},
   "source": [
    "## <span style=\"text-align: right; direction: rtl; float: right; clear: both;\">אין לזה צורה</span> "
   ]
  },
  {
   "cell_type": "markdown",
   "metadata": {},
   "source": [
    "<p style=\"text-align: right; direction: rtl; float: right; clear: both;\">\n",
    "    בתרגיל זה נממש טיפוס חדש מסוג <code dir=\"ltr\">Rectangle</code>.<br>\n",
    "    לכל מלבן יש אורך <code dir=\"ltr\">height</code>ורוחב <code dir=\"ltr\">width</code>.<br>\n",
    "    ממשו את המחלקה <code dir=\"ltr\">Rectangle</code>.\n",
    "</p>"
   ]
  },
  {
   "cell_type": "code",
   "execution_count": null,
   "metadata": {},
   "outputs": [],
   "source": []
  },
  {
   "cell_type": "markdown",
   "metadata": {},
   "source": [
    "<p style=\"text-align: right; direction: rtl; float: right; clear: both;\">\n",
    "צרו שני מלבנים שונים באורך וברוחב.\n",
    "    תזכורת:<span style=\"text-color:#000; background:#000;\">משתמשים בשם של ה-class כדי ליצור אובייקטים.</span>\n",
    "</p>"
   ]
  },
  {
   "cell_type": "code",
   "execution_count": null,
   "metadata": {},
   "outputs": [],
   "source": []
  },
  {
   "cell_type": "markdown",
   "metadata": {},
   "source": [
    "<p style=\"text-align: right; direction: rtl; float: right; clear: both;\">\n",
    "    ממשו מתודה בשם <code dir=\"ltr\">get_surface()</code> שתחזיר את שטח המלבן.<br>\n",
    "    ממשו מתודה בשם <code dir=\"ltr\">get_perimeter()</code> שתחזיר את היקף המלבן.<br>\n",
    "    השתמשו ב-<code>assert</code> כדי לוודא שלא יוחזרו ערכים שליליים.\n",
    "</p>"
   ]
  },
  {
   "cell_type": "code",
   "execution_count": null,
   "metadata": {},
   "outputs": [],
   "source": [
    "# define a rectangle r and call r.get_surface() and r.get_perimeter() print to see results"
   ]
  },
  {
   "cell_type": "markdown",
   "metadata": {},
   "source": [
    "<p style=\"text-align: right; direction: rtl; float: right; clear: both;\">\n",
    "    ממשו מתודה <code dir=\"ltr\">__str__</code> המדפיסה את המלבן עליו היא פועלת באופן הבא:<br>\n",
    "</p>\n",
    "<p style=\"text-align: left; direction: ltr; float: left; clear: both;\">\n",
    "<samp dir=\"ltr\">### Rectangle ###\n",
    "My Width: 10\n",
    "My Height: 10\n",
    "My Surface: 100\n",
    "My Perimeter: 40\n",
    "</samp>\n",
    "</p>\n"
   ]
  },
  {
   "cell_type": "markdown",
   "metadata": {},
   "source": [
    "<p style=\"text-align: right; direction: rtl; float: right; clear: both;\">\n",
    "    ממשו מתודה בשם <code dir=\"ltr\">set_random_width()</code> המגרילה מספר שלם בין 1 ל-100 ומציבה אותו כרוחב המלבן.\n",
    "</p>"
   ]
  },
  {
   "cell_type": "code",
   "execution_count": null,
   "metadata": {},
   "outputs": [],
   "source": [
    "# define a rectangle r and call r.set_random_width() and print to see results"
   ]
  },
  {
   "cell_type": "markdown",
   "metadata": {},
   "source": [
    "<p style=\"text-align: right; direction: rtl; float: right; clear: both;\">\n",
    "    ממשו מתודה בשם <code dir=\"ltr\">set_random_height()</code> המגרילה מספר שלם בין 1 ל-100 ומציבה אותו כאורך המלבן.\n",
    "</p>"
   ]
  },
  {
   "cell_type": "code",
   "execution_count": null,
   "metadata": {},
   "outputs": [],
   "source": [
    "# define a rectangle r and call r.set_random_height() and print to see results"
   ]
  },
  {
   "cell_type": "markdown",
   "metadata": {},
   "source": [
    "<p style=\"text-align: right; direction: rtl; float: right; clear: both;\">\n",
    "    ממשו מתודה של המחלקה בשם <code dir=\"ltr\">filter_by_size(rectangle_list, threshold)</code> המקבלת רשימה של מלבנים ומחזירה רשימה של מלבנים שהשטח שלהם הוא לפחות <var dir=\"ltr\">threshold</var>.<br>\n",
    "    עשו שימוש ב-<code dir=\"ltr\">filter</code>.<br>\n",
    "    זכרו להפוך את תוצאת <code>filter</code> ל-<code>list</code>.<br>\n",
    "    רמז:<span style=\"text-color:#000; background:#000;\">הגדירו lambda x: x >= threshold</span><br>\n",
    "    השתמשו ב-<code>assert</code> וודאו שכל מלבן שמוחזר ברשימה אכן מקיים את הדרישה לגבי השטח.\n",
    "</p>"
   ]
  },
  {
   "cell_type": "code",
   "execution_count": null,
   "metadata": {},
   "outputs": [],
   "source": [
    "# call the method Rectangle.filter_by_size(rectangle_list, threshold)"
   ]
  },
  {
   "cell_type": "markdown",
   "metadata": {},
   "source": [
    "<p style=\"text-align: right; direction: rtl; float: right; clear: both;\">\n",
    "    ממשו מתודה של המחלקה בשם <code dir=\"ltr\">filter_by_perimeter(rectangle_list, threshold)</code> המקבלת רשימה של מלבנים ומחזירה רשימה של מלבנים שההיקף שלהם הוא לפחות <var dir=\"ltr\">threshold</var>.<br>\n",
    "    עשו שימוש ב-<code dir=\"ltr\">list comprehension</code><br>\n",
    "    רמז:<span style=\"text-color:#000; background:#000;\">כך זה נכתב: [f(x) for x in some_iterable if some_condition(x)]\n",
    "    כאשר f היא פונקציה כלשהיא ו-some_condition מחזירה ערך שניתן להמרה ל-boolean</span>\n",
    "</p>"
   ]
  },
  {
   "cell_type": "code",
   "execution_count": null,
   "metadata": {},
   "outputs": [],
   "source": [
    "# call the method Rectangle.filter_by_perimeter(rectangle_list, threshold)"
   ]
  },
  {
   "cell_type": "markdown",
   "metadata": {},
   "source": [
    "<p style=\"text-align: right; direction: rtl; float: right; clear: both;\">\n",
    "    כתבו מתודה של המחלקה בשם <code dir=\"ltr\">rand_rects()</code> המגרילה מספר בין 1 ל-50.<br>\n",
    "    צרו כמות של מלבנים בהתאם למספר שהוגרל, ועבור כל מלבן הגרילו אורך ורוחב ע\"י שימוש במתודות המתאימות.<br>\n",
    "    את כל הצורות הנ\"ל הכניסו לרשימה והדפיסו את כל הצורות בעלות שטח הגדול מ-900 והיקף גדול מ-30.</p>"
   ]
  },
  {
   "cell_type": "code",
   "execution_count": null,
   "metadata": {},
   "outputs": [],
   "source": [
    "# call the method Rectangle.rand_rects()"
   ]
  },
  {
   "cell_type": "markdown",
   "metadata": {},
   "source": [
    "## <span style=\"text-align: right; direction: rtl; float: right; clear: both;\">מגדל קוביות</span> "
   ]
  },
  {
   "cell_type": "markdown",
   "metadata": {},
   "source": [
    "<p style=\"text-align: right; direction: rtl; float: right; clear: both;\">\n",
    "בתרגיל זה נממש שלוש מחלקות: מחלקה של ריבוע, מחלקה של קוביות ומחלקה של מגדל קוביות.</p>"
   ]
  },
  {
   "cell_type": "markdown",
   "metadata": {},
   "source": [
    "### <span style=\"text-align: right; direction: rtl; float: right; clear: both;\">ריבוע</span> "
   ]
  },
  {
   "cell_type": "markdown",
   "metadata": {},
   "source": [
    "<p style=\"text-align: right; direction: rtl; float: right; clear: both;\">\n",
    "    ממשו מחלקה של ריבוע <code dir=\"ltr\">Square</code>.<br>\n",
    "בבנאי נעביר פרמטר של אורך המהווה את גודל הצלע של הריבוע (כידוע בריבוע כל הצלעות זהות בגודלן).<br>\n",
    "ממשו בנוסף מתודות של שטח והיקף כפי שעשיתם בתרגיל הקודם.</p>"
   ]
  },
  {
   "cell_type": "code",
   "execution_count": null,
   "metadata": {},
   "outputs": [],
   "source": []
  },
  {
   "cell_type": "markdown",
   "metadata": {},
   "source": [
    "### <span style=\"text-align: right; direction: rtl; float: right; clear: both;\">קוביה</span> "
   ]
  },
  {
   "cell_type": "markdown",
   "metadata": {},
   "source": [
    "<p style=\"text-align: right; direction: rtl; float: right; clear: both;\">\n",
    "לקוביה יש בסיס (base) שהוא ריבוע וצבע (color) שהוא צבע הקוביה, הצבע נבחר מתוך: <code dir=\"ltr\">['black', 'white']</code>.<br>\n",
    "ממשו מחלקה ובה שתי תכונות אלו לקוביה. כמו כן ממשו מתודות המחזירות את נפח (volume) ושטח המעטפת (surface) של הקוביה.</p>"
   ]
  },
  {
   "cell_type": "code",
   "execution_count": null,
   "metadata": {},
   "outputs": [],
   "source": []
  },
  {
   "cell_type": "markdown",
   "metadata": {},
   "source": [
    "<p style=\"text-align: right; direction: rtl; float: right; clear: both;\">\n",
    "    כתבו מתודה (<code>__str__</code>) המדפיסה את הקוביה באופן הבא:\n",
    "</p>\n",
    "<p style=\"text-align: left; direction: ltr; float: left; clear: both;\">\n",
    "<samp>Cube: base-10x10 color:black</samp>\n",
    "</p>"
   ]
  },
  {
   "cell_type": "code",
   "execution_count": null,
   "metadata": {},
   "outputs": [],
   "source": []
  },
  {
   "cell_type": "markdown",
   "metadata": {},
   "source": [
    "### <span style=\"text-align: right; direction: rtl; float: right; clear: both;\">מגדל הקוביות</span> "
   ]
  },
  {
   "cell_type": "markdown",
   "metadata": {},
   "source": [
    "<p style=\"text-align: right; direction: rtl; float: right; clear: both;\">\n",
    "מגדל הקוביות שלנו מכיל רשימה של קוביות המשתתפות במגדל. תמיד נתחיל ממגדל קוביות ריק.<br>\n",
    "קוביה יכולה להיות מעל קוביה אחרת רק אם הקוביה התחתונה היא בעלת בסיס עם צלע גדולה יותר ובעלת צבע שונה.<br>\n",
    "    כתבו תחילה את המחלקה <code dir=\"ltr\">Cube Tower</code> ואת הבנאי.</p>"
   ]
  },
  {
   "cell_type": "code",
   "execution_count": null,
   "metadata": {},
   "outputs": [],
   "source": []
  },
  {
   "cell_type": "markdown",
   "metadata": {},
   "source": [
    "<p style=\"text-align: right; direction: rtl; float: right; clear: both;\">\n",
    "    כעת כתבו מתודה בשם <code dir=\"ltr\">add_cube()</code> המקבלת קוביה ומוסיפה אותה למגדל אם התנאים שהוזכרו מתקיימים,  אחרת לא עושה כלום.<br>\n",
    "אם זו הקוביה הראשונה במגדל ניתן להוסיף אותה ללא שום תנאי.\n",
    "</p>\n"
   ]
  },
  {
   "cell_type": "code",
   "execution_count": null,
   "metadata": {},
   "outputs": [],
   "source": []
  },
  {
   "cell_type": "markdown",
   "metadata": {},
   "source": [
    "<p style=\"text-align: right; direction: rtl; float: right; clear: both;\">\n",
    "ממשו פונקציה המדפיסה את מגדל הקוביות. הקוביה התחתונה תודפס למטה והקוביה העליונה תודפס למעלה.<br>\n",
    "באופן הבא:\n",
    "</p>\n",
    "<p style=\"text-align: left; direction: ltr; float: left; clear: both;\">\n",
    "<samp dir=\"ltr\">2-Cube: base-10x10 color:black<br>1-Cube: base-15x15 color:white</samp>\n"
   ]
  },
  {
   "cell_type": "markdown",
   "metadata": {},
   "source": [
    "<p style=\"text-align: right; direction: rtl; float: right; clear: both;\">\n",
    "    כעת כתבו מתודה בשם <code dir=\"ltr\">randomize_tower()</code> הבוחרת מספר שלם בין 1 ל-100 ובהתאם למספר זה יוצרת כמות קוביות בעלות צלע באורך אקראי (עליכם להגריל אורך 1-100) וצבע אקראי שחור או לבן.<br>\n",
    "    את הקוביות המוגרלות ננסה להכניס למגדל באמצעות המתודה שמימשנו.<br>\n",
    "</p>"
   ]
  },
  {
   "cell_type": "code",
   "execution_count": null,
   "metadata": {},
   "outputs": [],
   "source": []
  },
  {
   "cell_type": "markdown",
   "metadata": {},
   "source": [
    "<p style=\"text-align: right; direction: rtl; float: right; clear: both;\">\n",
    "כעת צרו מגדל ריק, השתמשו במתודה המגרילה קוביות ומלאו את המגדל בקוביות אקראיות.<br>\n",
    "הדפיסו את המגדל שקיבלתם.\n",
    "</p>"
   ]
  },
  {
   "cell_type": "code",
   "execution_count": null,
   "metadata": {},
   "outputs": [],
   "source": []
  },
  {
   "cell_type": "markdown",
   "metadata": {},
   "source": [
    "### <span style=\"text-align: right; direction: rtl; float: right; clear: both;\">~בונוס~</span> "
   ]
  },
  {
   "cell_type": "markdown",
   "metadata": {},
   "source": [
    "<p style=\"text-align: right; direction: rtl; float: right; clear: both;\">\n",
    "צרו בלולאה 1000 מגדלים ומלאו אותם באמצעות המתודה המגרילה.<br>\n",
    "    מה המגדל הכי גבוה שקיבלתם?\n",
    "</p>"
   ]
  },
  {
   "cell_type": "code",
   "execution_count": null,
   "metadata": {},
   "outputs": [],
   "source": []
  },
  {
   "cell_type": "markdown",
   "metadata": {},
   "source": [
    "## <span style=\"text-align: right; direction: rtl; float: right; clear: both;\">מיון בועות</span> "
   ]
  },
  {
   "cell_type": "markdown",
   "metadata": {},
   "source": [
    "<p style=\"text-align: right; direction: rtl; float: right; clear: both;\">\n",
    "בעבר ראינו את מיון מקסימום (Max Sort). כעת נממש שיטה נוספת למיון, הקרויה מיון בועות.<br>\n",
    "נזכיר כי מטרת המיון היא לסדר את המספרים הנתונים ברשימה מהקטן (בתא 0) לגדול בתא האחרון.<br>\n",
    "אם נסתכל על הרשימה הבאה:<br>\n",
    "</p>\n",
    "<p style=\"text-align: left; direction: ltr; float: left; clear: both;\">\n",
    "<samp style=\"float: left; dir: ltr;\">[45, 2, 67, 1, 94, 121]</samp>\n",
    "</p>\n",
    "<p style=\"text-align: right; direction: rtl; float: right; clear: both;\">\n",
    "    היא צריכה מיון.<br>\n",
    "    במיון בועות, כמו במיון מקסימום, המיון מתבצע על ידי מעברים.<br>\n",
    "    המעבר הראשון יהיה על כל הרשימה, המעבר הבא עד האיבר הלפני אחרון וכך הלאה.<br>\n",
    "    לדוגמה:<br>\n",
    "    המעבר הראשון נראה כך:\n",
    "</p>\n",
    "<ul style=\"direction: rtl; text-align:right; clear: both;\">\n",
    "    <li>תחילה נסתכל על הזוג הראשון: 45 ו-2. 45 יותר גדול ולכן נחליף את המיקום שלהם.\n",
    "         <samp style=\"float: left; direction: ltr; text-align: left;\">[<strong>45, 2,</strong> 67, 1, 94, 12]</samp>\n",
    "    </li>\n",
    "    <li>\n",
    "        לאחר ההחלפה זה נראה כך:\n",
    "        <samp style=\"float: left; direction: ltr; text-align: left;\">[<strong>2, 45,</strong> 67, 1, 94, 12]</samp>\n",
    "    </li>\n",
    "    <li>\n",
    "        כעת נתבונן על הזוג הבא ונראה שהוא תקין.\n",
    "        <samp style=\"float: left; direction: ltr; text-align: left;\">[2, <strong>45, 67,</strong> 1, 94, 12]</samp>\n",
    "    </li>\n",
    "    <li>\n",
    "        הזוג הנוכחי דורש תיקון.\n",
    "        <samp style=\"float: left; direction: ltr; text-align: left;\">[2, 45, <strong>67, 1,</strong> 94, 12]</samp>\n",
    "    </li>\n",
    "    <li>\n",
    "         לאחר התיקון נתבונן בזוג הבא שלא דורש שינוי:\n",
    "        <samp style=\"float: left; direction: ltr; text-align: left;\">[2, 45, 1, <strong>67, 94,</strong> 12]</samp>\n",
    "    </li>\n",
    "    <li>\n",
    "         הזוג האחרון כן דורש תיקון:\n",
    "        <samp style=\"float: left; direction: ltr; text-align: left;\">[2, 45, 1, 67, <strong>94, 12</strong>]</samp>\n",
    "    </li>\n",
    "    <li>\n",
    "         לאחר התיקון ניתן לראות כי האיבר הגדול ביותר ברשימה נמצא במקומו (המקום הימני ביותר):\n",
    "        <samp style=\"float: left; direction: ltr; text-align: left;\">[2, 45, 1, 67, <strong>12, 94</strong>]</samp>\n",
    "    </li>\n",
    "</ul> \n",
    "<p style=\"text-align: right; direction: rtl; float: right; clear: both;\">\n",
    "מיון זה נקרא \"מיון בועות\" כי הערך הגבוה ביותר \"בעבע\" למקומו (הגבוה ביותר ברשימה).    \n",
    "</p>"
   ]
  },
  {
   "cell_type": "markdown",
   "metadata": {},
   "source": [
    "<p style=\"text-align: right; direction: rtl; float: right; clear: both;\">\n",
    "כתבו פונקציה המקבלת רשימה ואינדקס. הפונקציה תבצע את המעבר שתואר על הרשימה עד האינדקס שהתקבל.<br>\n",
    "אינדקס הוא פרמטר ברירת מחדל, אם לא הועבר אינדקס המעבר יהיה על כל הרשימה.\n",
    "</p>"
   ]
  },
  {
   "cell_type": "code",
   "execution_count": null,
   "metadata": {},
   "outputs": [],
   "source": [
    "# ממשו את הפונקציה שלכם כאן"
   ]
  },
  {
   "cell_type": "markdown",
   "metadata": {},
   "source": [
    "<p style=\"text-align: right; direction: rtl; float: right; clear: both;\">\n",
    "    השתמשו בפונקציה <code>bubble(my_list,index)</code> ומיינו את הרשימה על ידי מעברים שיסתיימו בכל פעם באינדקס הולך וקטן (תחילה כל הרשימה ולאחר מכן אינדקס נמוך יותר עד לאינדקס הראשון).<br>\n",
    "    הפונקציה תיקרא כך: <code>bubble_sort(my_list)</code>\n",
    "</p>"
   ]
  },
  {
   "cell_type": "code",
   "execution_count": null,
   "metadata": {},
   "outputs": [],
   "source": [
    "# ממשו את הפונקציה bubble_sort"
   ]
  }
 ],
 "metadata": {
  "kernelspec": {
   "display_name": "Python 3",
   "language": "python",
   "name": "python3"
  },
  "language_info": {
   "codemirror_mode": {
    "name": "ipython",
    "version": 3
   },
   "file_extension": ".py",
   "mimetype": "text/x-python",
   "name": "python",
   "nbconvert_exporter": "python",
   "pygments_lexer": "ipython3",
   "version": "3.7.1"
  }
 },
 "nbformat": 4,
 "nbformat_minor": 2
}
