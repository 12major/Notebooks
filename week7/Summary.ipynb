{
 "cells": [
  {
   "cell_type": "markdown",
   "metadata": {},
   "source": [
    "<img src=\"images/logo.png\" alt=\"לוגו של מיזם לימוד הפייתון. נחש מצויר בצבעי צהוב וכחול, הנע בין האותיות של שם הקורס: לומדים פייתון. הסלוגן המופיע מעל לשם הקורס הוא מיזם לימוד תכנות בחינם ובעברית.\">"
   ]
  },
  {
   "cell_type": "markdown",
   "metadata": {},
   "source": [
    "# <span style=\"text-align: right; direction: rtl; float: right; clear: both;\"> תרגילים </span> "
   ]
  },
  {
   "cell_type": "markdown",
   "metadata": {},
   "source": [
    "## <span style=\"text-align: right; direction: rtl; float: right; clear: both;\">נוסעים יקרים, זה הקברניט שלכם מדבר</span> "
   ]
  },
  {
   "cell_type": "markdown",
   "metadata": {},
   "source": [
    "<p style=\"text-align: right; direction: rtl; float: right; clear: both;\">\n",
    "    אתם עובדים בדוכן הקבלה לקראת טיסה ואצלכם הנוסעים מבצעים check-in.<br>\n",
    "    לפי נהלי חברת התעופה ברגע שקיבלתם את הדרכון של הנוסע וראיתם את שמו עליכם לומר: \"שלום {שם הנוסע}\"<br>\n",
    "    כתבו פונקציה המקבלת שם ומדפיסה \"שלום {שם הנוסע}\".<br>\n",
    "    לדוגמה:\n",
    "</p>\n",
    "<p style=\"text-align: left; direction: ltr; float: left; clear: both;\">\n",
    "<code>say_hi('Moti')</code><br>\n",
    "<samp>\"Hello Moti\"</samp>\n",
    "</p>"
   ]
  },
  {
   "cell_type": "code",
   "execution_count": null,
   "metadata": {},
   "outputs": [],
   "source": []
  },
  {
   "cell_type": "markdown",
   "metadata": {},
   "source": [
    "<p style=\"text-align: right; direction: rtl; float: right; clear: both;\">\n",
    "חברת התעופה שמעה שחברות תעופה אחרות יותר נחמדות ולכן יותר לקוחות הולכים אליהן.<br>\n",
    "    וכעת היא ביקשה שלפני שנגיד שלום לנוסע, נגיד \"ברוכים הבאים לPythonAir\".<br>\n",
    "    לדוגמה:\n",
    "</p>\n",
    "<p style=\"text-align: left; direction: ltr; float: left; clear: both;\">\n",
    "<code>say_hi('Moti')</code><br>\n",
    "<samp>\"Welcome to PythonAir\"<br>\"Hello Moti</samp>\n",
    "</p>\n",
    "<p style=\"text-align: right; direction: rtl; float: right; clear: both;\">\n",
    "    החברה אוסרת על שינויים בקוד קיים ולכן עליכם להשתמש ב-decorator על מנת להשיג את התוצאה הרצויה.\n",
    "</p>"
   ]
  },
  {
   "cell_type": "code",
   "execution_count": null,
   "metadata": {},
   "outputs": [],
   "source": []
  },
  {
   "cell_type": "markdown",
   "metadata": {},
   "source": [
    "<p style=\"text-align: right; direction: rtl; float: right; clear: both;\">\n",
    "חברת התעופה הבינה שזה קריטי לרשום את שמות הנוסעים המגיעים ברשימה.<br>\n",
    "    הוסיפו ל-decorator הקיים קוד המוסיף את שם הנוסע לרשימת נוסעים מיד לאחר שבירכתם אותו לשלום.\n",
    "</p>\n",
    "<p style=\"text-align: left; direction: ltr; float: left; clear: both;\">\n",
    "<code>print(arrived_passengers)</code><br>\n",
    "    <samp>[]</samp><br>\n",
    "    <code>say_hi('Moti')</code><br>\n",
    "    <samp>\"Welcome to PythonAir\"<br>\"Hello Moti\"</samp><br>\n",
    "    <code>print(arrived_passengers)</code><br>\n",
    "    <samp>['Moti']</samp>\n",
    "</p>\n",
    "<p style=\"text-align: right; direction: rtl; float: right; clear: both;\">\n",
    "    במימוש נכון הפונקציה say_hi לא אמורה להשתנות מאז הסעיף הראשון.\n",
    "</p>"
   ]
  },
  {
   "cell_type": "code",
   "execution_count": null,
   "metadata": {},
   "outputs": [],
   "source": []
  },
  {
   "cell_type": "markdown",
   "metadata": {},
   "source": [
    "<p style=\"text-align: right; direction: rtl; float: right; clear: both;\">\n",
    "חברת התעופה מאוד מרוצה מהתפקוד שלכם ולכן שודרגתם לתפקד כדיילי אוויר.<br>\n",
    "    בתור דיילי אוויר אתם מקבלים את כרטיס העלייה למטוס ובו השם ומספר הכסא של הנוסע.<br>\n",
    "    חברת התעופה הנחתה אתכם להגיד לכל נוסע \"שלום {שם הנוסע} ברוך הבא לטיסה {מספר טיסה}, אתה יושב בכסא מספר {מספר הכסא}\" בדומה לתפקידכם הקודם.<br>\n",
    "    ממשו פונקציה המקבלת את הפרמטרים הללו ומדפיסה:<br>\n",
    "    \"שלום {שם הנוסע} ברוך הבא לטיסה {מספר טיסה}, אתה יושב בכסא מספר {מספר הכסא}\".<br>\n",
    "    לדוגמה:\n",
    "</p>\n",
    "<p style=\"text-align: left; direction: ltr; float: left; clear: both;\">\n",
    "<code>welcome_aboard('Moti','AG-404','A-44')</code><br>\n",
    "    <samp>\"Hello Moti, Welcome to flight AG-404, your seat is A-44\"</samp>\n",
    "</p>"
   ]
  },
  {
   "cell_type": "code",
   "execution_count": null,
   "metadata": {},
   "outputs": [],
   "source": []
  },
  {
   "cell_type": "markdown",
   "metadata": {},
   "source": [
    "<p style=\"text-align: right; direction: rtl; float: right; clear: both;\">\n",
    "כעת חברת התעופה מעוניינת שלאחר אמירת השלום תגידו לכל נוסע לאיזה כיוון במטוס עליו לפנות.<br>\n",
    "    אם הכסא שלו ממוקם בטורים A-C עליו לפנות שמאלה, אחרת ימינה.<br>\n",
    "    זכרו את מדיניות חברת התעופה, אסור לשנות קוד קיים. השתמשו ב-decorator על מנת להוסיף פעולה זו.<br>\n",
    "    לדוגמה:\n",
    "</p>\n",
    "<p style=\"text-align: left; direction: ltr; float: left; clear: both;\">\n",
    "<code>welcome_aboard('Moti','AG-404','A-44')</code><br>\n",
    "    <samp>Hello Moti, Welcome to flight AG-404, your seat is A-44<br>Please turn to the right side.</samp>\n",
    "</p>"
   ]
  },
  {
   "cell_type": "code",
   "execution_count": null,
   "metadata": {},
   "outputs": [],
   "source": []
  },
  {
   "cell_type": "markdown",
   "metadata": {},
   "source": [
    "## <span style=\"text-align: right; direction: rtl; float: right; clear: both;\">יוצרים פונקציות <code>range</code> חדשות</span> "
   ]
  },
  {
   "cell_type": "markdown",
   "metadata": {},
   "source": [
    "<p style=\"text-align: right; direction: rtl; float: right; clear: both;\">\n",
    "    בעבר הכרנו את פונקציית <code>range</code>.<br>\n",
    "    אם אתם לא זוכרים אותה - הריצו כמה דוגמאות (השתמשו ב-<code>list(range(10))</code> לדוגמה).<br>\n",
    "</p>\n"
   ]
  },
  {
   "cell_type": "markdown",
   "metadata": {},
   "source": [
    "### <span style=\"text-align: right; direction: rtl; float: right; clear: both;\">כל צעד מדוד</span>"
   ]
  },
  {
   "cell_type": "markdown",
   "metadata": {},
   "source": [
    "<p style=\"text-align: right; direction: rtl; float: right; clear: both;\">\n",
    "    ממשו את הפונקציה <code>my_step_range(max_num)</code> המקבלת את המספר המקסימלי אותו היא לא תעבור.\n",
    "    הפונקציה תייצר מספרים החל מ-0, ובכל צעד תייצר מספר שהוא סכום המספר הקודם שיוצר ומספר הצעד הנוכחי.<br>\n",
    "    להלן פירוט של הריצה:\n",
    "</p>\n",
    "<p style=\"text-align: left; direction: ltr; float: left; clear: both;\">\n",
    "    <code>my_step_range(12)</code>\n",
    "<samp>\n",
    "step: 0, number to produce:0\n",
    "step: 1, number to produce:0+1=1\n",
    "step: 2, number to produce:1+2=3\n",
    "step: 3, number to produce:3+3=6\n",
    "step: 4, number to produce:6+4=10\n",
    "</samp>\n",
    "</p>\n",
    "<p style=\"text-align: right; direction: rtl; float: right; clear: both;\">\n",
    "    המספר הבא לייצור הוא 15 וכיון ש-<code>15 > 12</code> נעצור ב-10.<br>\n",
    "    ממשו את הפונקציה <code>my_step_range(max_num)</code>.\n",
    "</p>"
   ]
  },
  {
   "cell_type": "code",
   "execution_count": null,
   "metadata": {},
   "outputs": [],
   "source": []
  },
  {
   "cell_type": "markdown",
   "metadata": {},
   "source": [
    "### <span style=\"text-align: right; direction: rtl; float: right; clear: both;\">בא לי רק 3 ו-5</span>"
   ]
  },
  {
   "cell_type": "markdown",
   "metadata": {},
   "source": [
    "<p style=\"text-align: right; direction: rtl; float: right; clear: both;\">\n",
    "    ממשו פונקציה המקבלת שני מספרים start ו-end ומייצרת את כל המספרים המסתיימים ב-3 או ב-5 בטווח בין start ו-end.<br>\n",
    "    כמו בפונקציות <code>range</code> אמיתיות, אם המספר start עונה על התנאים הוא יכלל. end אף פעם לא יכלל.\n",
    "</p>"
   ]
  },
  {
   "cell_type": "code",
   "execution_count": null,
   "metadata": {},
   "outputs": [],
   "source": []
  },
  {
   "cell_type": "markdown",
   "metadata": {},
   "source": [
    "### <span style=\"text-align: right; direction: rtl; float: right; clear: both;\">7 בום!</span>"
   ]
  },
  {
   "cell_type": "markdown",
   "metadata": {},
   "source": [
    "<p style=\"text-align: right; direction: rtl; float: right; clear: both;\">\n",
    "    במשחק 7 בום! משחקים מס' מסוים של ילדים. כל ילד אומר בתורו את המספר העוקב למספר האחרון שנאמר, <strong>אלא אם המספר הוא כפולה של 7 ואז עליו להגיד BOOM</strong>.<br>\n",
    "    כתבו פונקציה היוצרת את המספרים העוקבים מ-1 עד מספר מקסימלי שיינתן לפונקציה, ובמקום לייצר כפולות של 7 היא תדפיס <samp style=\"dir:ltr\">!BOOM</samp> ותייצר את המספר העוקב.<br>\n",
    "    לדוגמה:\n",
    "</p>"
   ]
  },
  {
   "cell_type": "markdown",
   "metadata": {},
   "source": [
    "<code>for i in seven_boom(15):\n",
    "    print(i)</code>\n",
    "<samp>\n",
    "1\n",
    "2\n",
    "3\n",
    "4\n",
    "5\n",
    "6\n",
    "BOOM!\n",
    "8\n",
    "9\n",
    "10\n",
    "11\n",
    "12\n",
    "13\n",
    "BOOM!\n",
    "</samp>"
   ]
  },
  {
   "cell_type": "markdown",
   "metadata": {},
   "source": [
    "<p style=\"text-align: right; direction: rtl; float: right; clear: both;\">המספרים המיוצרים הם:\n",
    "</p>\n",
    "    <code>list(seven_boom(15))</code><br>\n",
    "    <samp>BOOM!<br>BOOM!\n",
    "[1, 2, 3, 4, 5, 6, 8, 9, 10, 11, 12, 13]\n",
    "    </samp>\n",
    "<p style=\"text-align: right; direction: rtl; float: right; clear: both;\">שימו לב שמודפס פעמיים <samp>!BOOM</samp> אבל הרשימה המוחזרת לא כוללת את 7 ו-14. <samp>!BOOM</samp> לא מוחזר כאיבר ברשימה אלא רק מודפס בתהליך יצירת הרשימה.\n",
    "</p>"
   ]
  },
  {
   "cell_type": "code",
   "execution_count": null,
   "metadata": {},
   "outputs": [],
   "source": []
  },
  {
   "cell_type": "markdown",
   "metadata": {},
   "source": [
    "## <span style=\"text-align: right; direction: rtl; float: right; clear: both;\">כפר הדרדרסים</span> "
   ]
  },
  {
   "cell_type": "markdown",
   "metadata": {},
   "source": [
    "<p style=\"text-align: right; direction: rtl; float: right; clear: both;\">כידוע לכם בכפר הדרדרסים יש הרבה דרדרסים \"רגילים\", אבל יש גם כמה דרדסים מפורסמים: דרדסבא, דרדסית, קונדסון וכו'.<br>\n",
    "לכל דרדס יש שם.<br>\n",
    "כל דרדס יכול לעשות את הפעולות הבאות: לישון, לאכול וללכת למקום מסוים.<br>\n",
    "</p>\n",
    "\n",
    "<p style=\"text-align: right; direction: rtl; float: right; clear: both;\">\n",
    "כתבו מחלקה המייצגת דרדס (Smurf).<br>\n",
    "את שם הדרדס נעביר כאשר ניצור דרדס חדש.<br>\n",
    "עליכם לתמוך בפעולות הבאות:\n",
    "</p>\n",
    "\n",
    "<p style=\"text-align: left; direction: ltr; float: left; clear: both;\">\n",
    "    <code>s = Smurf(\"Moti\")</code><br>\n",
    "    <code>s.sleep()</code><br>\n",
    "    <samp>\"The Smurf Moti is now sleeping...\"</samp><br>\n",
    "    <code>s.eat(['egg','bread','salad'])</code><br>\n",
    "    <samp>\"The Smurf Moti is now eating egg, bread and salad.\"</samp><br>\n",
    "    <code>s.goto('beach')</code><br>\n",
    "    <samp>\"The Smurf Moti is now going to the beach.\"</samp>\n",
    "</p>"
   ]
  },
  {
   "cell_type": "code",
   "execution_count": null,
   "metadata": {},
   "outputs": [],
   "source": [
    "# ממשו את המחלקה דרדס"
   ]
  },
  {
   "cell_type": "markdown",
   "metadata": {},
   "source": [
    "### <span style=\"text-align: right; direction: rtl; float: right; clear: both;\">דרדסים מפורסמים</span> "
   ]
  },
  {
   "cell_type": "markdown",
   "metadata": {},
   "source": [
    "<p style=\"text-align: right; direction: rtl; float: right; clear: both;\">כאמור ישנם דרדסים מפורסמים,\n",
    "    בסעיף זה נממש מחלקות עבור אותם דרדסים מפורסמים.\n",
    "</p>"
   ]
  },
  {
   "cell_type": "markdown",
   "metadata": {},
   "source": [
    "#### <span style=\"text-align: right; direction: rtl; float: right; clear: both;\">דרדסבא</span> "
   ]
  },
  {
   "cell_type": "markdown",
   "metadata": {},
   "source": [
    "<p style=\"text-align: right; direction: rtl; float: right; clear: both;\">\n",
    "        עבור דרדסבא, נממש מחלקה בשם <strong>SmurfDad</strong>.<br>\n",
    "    לדרדסבא יש שם קבוע והוא \"SmurfDaddy\"<br>\n",
    "    דרדסבא חייב לתמוך בכל הפעולות של דרדס \"רגיל\" וגם לתמוך <strong>במתודה</strong> הבאה:\n",
    "</p>\n",
    "<p style=\"text-align: left; direction: ltr; float: left; clear: both;\">        \n",
    "    <code style=\"text-align: left; direction: ltr; float: left; clear: both;\">give_order(other_smurf, order)</code>\n",
    "</p>\n",
    "<p style=\"text-align: right; direction: rtl; float: right; clear: both;\">\n",
    "לדוגמה:<br>\n",
    "    שימו לב ש-<var>s</var> הוא דרדס \"רגיל\" ו-<var>d</var> הוא דרדסבא.\n",
    "</p>\n",
    "<p style=\"text-align: left; direction: ltr; float: left; clear: both;\">\n",
    "            <code>d = SmurfDad()</code><br>\n",
    "            <code>s = Smurf(\"Moti\")</code><br>\n",
    "            <code>d.give_order(s, \"sit down!\")</code><br>\n",
    "            <samp>\"Smurf Moti was ordered by SmurfDaddy to sit down!</samp>\n",
    "</p>\n",
    "<p style=\"text-align: right; direction: rtl; float: right; clear: both;\">\n",
    "דרדסבא תומך גם בכל הפעולות של דרדסים \"רגילים\":\n",
    "</p>\n",
    "<p style=\"text-align: left; direction: ltr; float: left; clear: both;\">\n",
    "    <code>d = SmurfDad()</code><br>\n",
    "    <code>d.sleep()</code><br>\n",
    "    <samp>\"The Smurf SmurfDaddy is now sleeping...\"</samp><br>\n",
    "    <code>d.eat(['egg','bread','salad'])</code><br>\n",
    "    <samp>\"The Smurf SmurfDaddy is now eating egg, bread and salad.\"</samp><br>\n",
    "    <code>d.goto('beach')</code><br>\n",
    "    <samp>\"The Smurf SmurfDaddy is now going to the beach.\"</samp>\n",
    "</p>\n",
    "<p style=\"text-align: right; direction: rtl; float: right; clear: both;\">\n",
    "    ממשו את המחלקה <strong>SmurfDaddy</strong>.\n",
    "</p>"
   ]
  },
  {
   "cell_type": "code",
   "execution_count": null,
   "metadata": {},
   "outputs": [],
   "source": [
    "# ממשו מחלקה עבור דרדסבא"
   ]
  },
  {
   "cell_type": "markdown",
   "metadata": {},
   "source": [
    "#### <span style=\"text-align: right; direction: rtl; float: right; clear: both;\">דרדסית</span>"
   ]
  },
  {
   "cell_type": "markdown",
   "metadata": {},
   "source": [
    "<p style=\"text-align: right; direction: rtl; float: right; clear: both;\">\n",
    "        עבור דרסית, נממש מחלקה בשם <strong>SmurfGirl</strong>.<br>\n",
    "    לדרדסית יש שם קבוע והוא \"SmurfyGirl\"<br>\n",
    "    דרדסית חייבת לתמוך בכל הפעולות של דרדס \"רגיל\" וגם לתמוך <strong>במתודה</strong> הבאה:\n",
    "</p>\n",
    "<p style=\"text-align: left; direction: ltr; float: left; clear: both;\">        \n",
    "    <code style=\"text-align: left; direction: ltr; float: left; clear: both;\">give_flower(other_smurf)</code>\n",
    "</p>\n",
    "<p style=\"text-align: right; direction: rtl; float: right; clear: both;\">\n",
    "לדוגמה:<br>\n",
    "    שימו לב ש-<var>s</var> הוא דרדס \"רגיל\" ו-<var>g</var> היא דרדסית.\n",
    "</p>\n",
    "<p style=\"text-align: left; direction: ltr; float: left; clear: both;\">\n",
    "            <code>g = SmurfGirl()</code><br>\n",
    "            <code>s = Smurf(\"Moti\")</code><br>\n",
    "            <code>g.give_flower(s)</code><br>\n",
    "            <samp>\"SmurfyGirl has given Smurf Moti a flower!</samp>\n",
    "</p>\n",
    "<p style=\"text-align: right; direction: rtl; float: right; clear: both;\">\n",
    "דרדסית תומכת גם בכל הפעולות של דרדסים \"רגילים\":\n",
    "</p>\n",
    "<p style=\"text-align: left; direction: ltr; float: left; clear: both;\">\n",
    "    <code>g = SmurfGirl()</code><br>\n",
    "    <code>g.sleep()</code><br>\n",
    "    <samp>\"The Smurf SmurfyGirl is now sleeping...\"</samp><br>\n",
    "    <code>g.eat(['egg','bread','salad'])</code><br>\n",
    "    <samp>\"The Smurf SmurfyGirl is now eating egg, bread and salad.\"</samp><br>\n",
    "    <code>g.goto('beach')</code><br>\n",
    "    <samp>\"The Smurf SmurfyGirl is now going to the beach.\"</samp>\n",
    "</p>\n",
    "<p style=\"text-align: right; direction: rtl; float: right; clear: both;\">\n",
    "    ממשו את המחלקה <strong>SmurfGirl</strong>.\n",
    "</p>"
   ]
  },
  {
   "cell_type": "code",
   "execution_count": null,
   "metadata": {},
   "outputs": [],
   "source": [
    "# ממשו מחלקה עבור דרדסית"
   ]
  },
  {
   "cell_type": "markdown",
   "metadata": {},
   "source": [
    "#### <span style=\"text-align: right; direction: rtl; float: right; clear: both;\">בר-דעת ובר-כוח</span>"
   ]
  },
  {
   "cell_type": "markdown",
   "metadata": {},
   "source": [
    "<p style=\"text-align: right; direction: rtl; float: right; clear: both;\">\n",
    "    באותו אופן כמו דרדסית ודרדסבא, ממשו את המחלקות עבור בר-דעת ובר-כוח באופן הבא:<br>\n",
    "    עבור בר-דעת ממשו מתודה <code>tell_fact(other_smurf, fact)</code> שנראית כך:\n",
    "</p>\n",
    "<p style=\"text-align: left; direction: ltr; float: left; clear: both;\">\n",
    "    <code>g = SmurfSmart()</code><br>\n",
    "    <code>s = Smurf(\"Moti\")</code><br>\n",
    "    <code>g.tell_fact(s, \"Earth is ball-shaped\")</code><br>\n",
    "    <samp>\"SmurfSmart told Smurf Moti that Earth is ball-shaped\"</samp>\n",
    "</p>\n",
    "<p style=\"text-align: right; direction: rtl; float: right; clear: both;\">\n",
    "    עבור בר-כוח ממשו מתודה <code>carry(something_heavy)</code> שנראית כך:\n",
    "</p>\n",
    "<p style=\"text-align: left; direction: ltr; float: left; clear: both;\">\n",
    "    <code>g = SmurfStrong()</code><br>\n",
    "    <code>g.carry(\"heavy bag\")</code><br>\n",
    "    <samp>\"SmurfStrong is carrying a heavy bag\"</samp>\n",
    "</p>\n",
    "<p style=\"text-align: right; direction: rtl; float: right; clear: both;\">\n",
    "    זכרו ששניהם אמורים לתמוך גם בכל שאר הפעולות של דרדס \"רגיל\".\n",
    "</p>\n"
   ]
  },
  {
   "cell_type": "code",
   "execution_count": null,
   "metadata": {},
   "outputs": [],
   "source": [
    "# ממשו מחלקה עבור בר-דעת"
   ]
  },
  {
   "cell_type": "code",
   "execution_count": null,
   "metadata": {},
   "outputs": [],
   "source": [
    "# ממשו מחלקה עבור בר-כוח"
   ]
  }
 ],
 "metadata": {
  "kernelspec": {
   "display_name": "Python 3",
   "language": "python",
   "name": "python3"
  },
  "language_info": {
   "codemirror_mode": {
    "name": "ipython",
    "version": 3
   },
   "file_extension": ".py",
   "mimetype": "text/x-python",
   "name": "python",
   "nbconvert_exporter": "python",
   "pygments_lexer": "ipython3",
   "version": "3.7.1"
  }
 },
 "nbformat": 4,
 "nbformat_minor": 2
}
